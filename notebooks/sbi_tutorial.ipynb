{
 "cells": [
  {
   "cell_type": "markdown",
   "id": "089a43ab",
   "metadata": {},
   "source": [
    "RUN SBI-SGM in alpha, new bounds, new SGM, only three parameters needed\n",
    "\n",
    "parameters order is  :tauG,speed,alpha (In second)\n"
   ]
  },
  {
   "cell_type": "code",
   "execution_count": 49,
   "id": "602fd510",
   "metadata": {
    "ExecuteTime": {
     "end_time": "2023-05-19T23:42:34.094117Z",
     "start_time": "2023-05-19T23:42:34.087104Z"
    }
   },
   "outputs": [
    {
     "data": {
      "text/plain": [
       "False"
      ]
     },
     "execution_count": 49,
     "metadata": {},
     "output_type": "execute_result"
    }
   ],
   "source": [
    "run_python_script = False"
   ]
  },
  {
   "cell_type": "markdown",
   "id": "15b93230",
   "metadata": {},
   "source": [
    "## Import some pkgs"
   ]
  },
  {
   "cell_type": "code",
   "execution_count": 50,
   "id": "a5c4bef0",
   "metadata": {
    "ExecuteTime": {
     "end_time": "2023-05-19T23:42:37.222942Z",
     "start_time": "2023-05-19T23:42:37.216465Z"
    }
   },
   "outputs": [],
   "source": [
    "import sys\n",
    "sys.path.append(\"../mypkg\")\n",
    "\n",
    "import scipy\n",
    "import itertools\n",
    "\n",
    "import numpy as np\n",
    "import xarray as xr\n",
    "import matplotlib.pyplot as plt\n",
    "import seaborn as sns\n",
    "\n",
    "from tqdm import trange\n",
    "from scipy.io import loadmat\n",
    "from functools import partial\n",
    "from easydict import EasyDict as edict"
   ]
  },
  {
   "cell_type": "code",
   "execution_count": 52,
   "id": "129d24a5",
   "metadata": {
    "ExecuteTime": {
     "end_time": "2023-05-19T23:43:21.966052Z",
     "start_time": "2023-05-19T23:43:21.959345Z"
    }
   },
   "outputs": [],
   "source": [
    "# SBI and torch\n",
    "from sbi.inference.base import infer\n",
    "from sbi.inference import SNPE, prepare_for_sbi, simulate_for_sbi\n",
    "from sbi import analysis\n",
    "from sbi.utils.get_nn_models import posterior_nn\n",
    "from sbi import utils as sutils\n",
    "\n",
    "import torch.nn as nn\n",
    "import torch.nn.functional as F\n",
    "import torch\n",
    "from torch.distributions.multivariate_normal import MultivariateNormal"
   ]
  },
  {
   "cell_type": "code",
   "execution_count": 53,
   "id": "513f09d5",
   "metadata": {
    "ExecuteTime": {
     "end_time": "2023-05-19T23:43:49.634324Z",
     "start_time": "2023-05-19T23:43:49.628790Z"
    }
   },
   "outputs": [],
   "source": [
    "# my own fns\n",
    "from brain import Brain\n",
    "from FC_utils import build_fc_freq_m\n",
    "# \n",
    "from constants import RES_ROOT, DATA_ROOT\n",
    "from utils.misc import load_pkl, save_pkl\n",
    "from utils.reparam import theta_raw_2out, logistic_np, logistic_torch"
   ]
  },
  {
   "cell_type": "code",
   "execution_count": null,
   "id": "d5b87c78",
   "metadata": {
    "ExecuteTime": {
     "end_time": "2022-11-08T00:03:09.655902Z",
     "start_time": "2022-11-08T00:03:09.466344Z"
    }
   },
   "outputs": [],
   "source": []
  },
  {
   "cell_type": "markdown",
   "id": "820f27bd",
   "metadata": {},
   "source": [
    "## Some fns"
   ]
  },
  {
   "cell_type": "code",
   "execution_count": 54,
   "id": "81762f84",
   "metadata": {
    "ExecuteTime": {
     "end_time": "2023-05-19T23:44:02.196253Z",
     "start_time": "2023-05-19T23:44:02.188211Z"
    }
   },
   "outputs": [
    {
     "data": {
      "text/plain": [
       "<function __main__.<lambda>(x)>"
      ]
     },
     "execution_count": 54,
     "metadata": {},
     "output_type": "execute_result"
    }
   ],
   "source": [
    "_minmax_vec = lambda x: (x-np.min(x))/(np.max(x)-np.min(x))"
   ]
  },
  {
   "cell_type": "code",
   "execution_count": 55,
   "id": "9daeac1d",
   "metadata": {
    "ExecuteTime": {
     "end_time": "2023-05-19T23:44:02.596400Z",
     "start_time": "2023-05-19T23:44:02.590903Z"
    }
   },
   "outputs": [],
   "source": [
    "# transfer vec to a sym mat\n",
    "def vec_2mat(vec):\n",
    "    mat = np.zeros((68, 68))\n",
    "    mat[np.triu_indices(68, k = 1)] = vec\n",
    "    mat = mat + mat.T\n",
    "    return mat"
   ]
  },
  {
   "cell_type": "code",
   "execution_count": null,
   "id": "c2112ea2",
   "metadata": {},
   "outputs": [],
   "source": []
  },
  {
   "cell_type": "markdown",
   "id": "12bd0463",
   "metadata": {},
   "source": [
    "### Some parameters"
   ]
  },
  {
   "cell_type": "code",
   "execution_count": 57,
   "id": "5da1fc37",
   "metadata": {
    "ExecuteTime": {
     "end_time": "2023-05-19T23:44:23.261229Z",
     "start_time": "2023-05-19T23:44:23.248600Z"
    }
   },
   "outputs": [],
   "source": [
    "# SC\n",
    "ind_conn_xr = xr.open_dataarray(DATA_ROOT/'individual_connectomes_reordered.nc')\n",
    "ind_conn = ind_conn_xr.values;\n",
    "\n",
    "# PSD\n",
    "#ind_psd_xr = xr.open_dataarray(DATA_ROOT/'individual_psd_reordered_matlab.nc')\n",
    "#ind_psd = ind_psd_xr.values\n",
    "#fvec = ind_psd_xr[\"frequencies\"].values;"
   ]
  },
  {
   "cell_type": "code",
   "execution_count": 59,
   "id": "e17d9242",
   "metadata": {
    "ExecuteTime": {
     "end_time": "2023-05-19T23:44:28.636512Z",
     "start_time": "2023-05-19T23:44:28.626301Z"
    }
   },
   "outputs": [],
   "source": [
    "from scipy.io import loadmat\n",
    "# The array is ordered as in ‘alpha’, ‘beta_l’, ‘delta’, ‘theta’\n",
    "diag_ws = loadmat(DATA_ROOT/\"diagonal_UFU.mat\")[\"prjctFC_diag\"];\n",
    "diag_ws = np.abs(diag_ws).mean(axis=(1, 2));"
   ]
  },
  {
   "cell_type": "code",
   "execution_count": 60,
   "id": "c034879f",
   "metadata": {
    "ExecuteTime": {
     "end_time": "2023-05-19T23:44:30.222879Z",
     "start_time": "2023-05-19T23:44:30.216964Z"
    }
   },
   "outputs": [],
   "source": [
    "_paras = edict()\n",
    "_paras.delta = [2, 3.5]\n",
    "_paras.theta = [4, 7]\n",
    "_paras.alpha = [8, 12]\n",
    "_paras.beta_l = [13, 20]"
   ]
  },
  {
   "cell_type": "code",
   "execution_count": 62,
   "id": "74f883ac",
   "metadata": {
    "ExecuteTime": {
     "end_time": "2023-05-19T23:47:07.754774Z",
     "start_time": "2023-05-19T23:47:07.743737Z"
    }
   },
   "outputs": [
    {
     "name": "stdout",
     "output_type": "stream",
     "text": [
      "[ 8.  9. 10. 11. 12.]\n",
      "[28.34730666  2.04960239  1.70749507  1.22529579  2.07701591  0.53111972\n",
      "  0.6218343   0.60427364  0.42565082  0.24645076  0.31900365  0.25322547\n",
      "  0.23310096  0.23638545  0.29637963  0.29173875  0.32172899  0.34877173\n",
      "  0.37271771  0.3407041   0.42165469  0.44977377  0.49267775  0.53535327\n",
      "  0.45689171  0.5307152   0.49010218  0.52487552  0.48627499  0.47017923\n",
      "  0.57866959  0.51133174  0.49745823  0.56322006  0.55008061  0.58736851\n",
      "  0.5917356   0.57619634  0.57585997  0.64097135  0.63919469  0.67089503\n",
      "  0.70194127  0.69713099  0.72477668  0.75575609  0.72799299  0.74255208\n",
      "  0.74701997  0.74549816  0.74341354  0.75704742  0.72661308  0.7535987\n",
      "  0.77213942  0.77174635  0.76942024  0.78661123  0.78909111  0.7723603\n",
      "  0.76788512  0.76919267  0.79200622  0.78210296  0.84090921  0.84930545\n",
      "  0.85326197  0.85928982]\n"
     ]
    }
   ],
   "source": [
    "paras = edict()\n",
    "\n",
    "paras.fc_type = \"alpha\" #stick to coh\n",
    "paras.freqrange =  np.linspace(_paras[paras.fc_type][0], _paras[paras.fc_type][1], 5)\n",
    "paras.diag_ws = diag_ws\n",
    "print(paras.freqrange)\n",
    "paras.fs = 600\n",
    "paras.num_nodes = 86 # Number of cortical (68) + subcortical nodes\n",
    "paras.par_low = np.asarray([0.005, 5, 0.1])\n",
    "paras.par_high = np.asarray([0.03, 20, 1])\n",
    "paras.names = [\"TauC\", \"Speed\", \"alpha\"]\n",
    "paras.prior_bds = np.array([paras.par_low, paras.par_high]).T\n",
    "paras.prior_sd = 10 # noise sd added on the FC\n",
    "paras.add_v = 0.05\n",
    "\n",
    "paras.SBI_paras = edict()\n",
    "paras.SBI_paras.num_prior_sps = int(1e3)\n",
    "paras.SBI_paras.density_model = \"nsf\" # density estimator, mdn,maf,nsf  \n",
    "paras.SBI_paras.noise_sd = 0.2 # 1.2\n",
    "paras.SBI_paras.num_round = 3 # 5\n",
    "print(paras.diag_ws);"
   ]
  },
  {
   "cell_type": "code",
   "execution_count": 12,
   "id": "1f4c00a6",
   "metadata": {
    "ExecuteTime": {
     "end_time": "2023-05-19T04:11:19.783974Z",
     "start_time": "2023-05-19T04:11:19.776185Z"
    }
   },
   "outputs": [
    {
     "data": {
      "text/plain": [
       "functools.partial(<function theta_raw_2out at 0x7f2c417e7670>, map_fn=functools.partial(<function logistic_np at 0x7f2c417e75e0>, k=0.1))"
      ]
     },
     "execution_count": 12,
     "metadata": {},
     "output_type": "execute_result"
    }
   ],
   "source": [
    "# fn for reparametering\n",
    "# theta [0, 1] --logistic--> \\hat{theta} [-infy, infy], normal prior\n",
    "_map_fn_torch = partial(logistic_torch, k=0.1)\n",
    "_theta_raw_2out = partial(theta_raw_2out, map_fn=partial(logistic_np, k=0.1))"
   ]
  },
  {
   "cell_type": "code",
   "execution_count": null,
   "id": "d66040ab",
   "metadata": {},
   "outputs": [],
   "source": []
  },
  {
   "cell_type": "markdown",
   "id": "cc57cec6",
   "metadata": {},
   "source": [
    "### Load the data"
   ]
  },
  {
   "cell_type": "code",
   "execution_count": 63,
   "id": "ee5a4fc9",
   "metadata": {
    "ExecuteTime": {
     "end_time": "2023-05-19T23:49:43.984654Z",
     "start_time": "2023-05-19T23:49:43.965069Z"
    }
   },
   "outputs": [
    {
     "name": "stdout",
     "output_type": "stream",
     "text": [
      "Add 0.05 on diag\n"
     ]
    }
   ],
   "source": [
    "\n",
    "def _add_v2con(cur_ind_conn):\n",
    "    cur_ind_conn = cur_ind_conn.copy()\n",
    "    add_v = np.max(cur_ind_conn)*paras.add_v # tuning 0.1\n",
    "    np.fill_diagonal(cur_ind_conn[:34, 34:68], np.diag(cur_ind_conn[:34, 34:68]) + add_v)\n",
    "    np.fill_diagonal(cur_ind_conn[34:68, :34], np.diag(cur_ind_conn[34:68, :34]) + add_v)\n",
    "    np.fill_diagonal(cur_ind_conn[68:77, 77:], np.diag(cur_ind_conn[68:77, 77:]) + add_v)\n",
    "    np.fill_diagonal(cur_ind_conn[77:, 68:77], np.diag(cur_ind_conn[77:, 68:77]) + add_v)\n",
    "    return cur_ind_conn\n",
    "\n",
    "if paras.add_v != 0:\n",
    "    print(f\"Add {paras.add_v} on diag\")\n",
    "    ind_conn_adds = [_add_v2con(ind_conn[:, :, ix]) for ix in range(36)]\n",
    "    ind_conn = np.transpose(np.array(ind_conn_adds), (1, 2, 0))"
   ]
  },
  {
   "cell_type": "code",
   "execution_count": 64,
   "id": "1c727a6e",
   "metadata": {
    "ExecuteTime": {
     "end_time": "2023-05-19T23:49:50.008895Z",
     "start_time": "2023-05-19T23:49:49.993161Z"
    }
   },
   "outputs": [
    {
     "data": {
      "text/plain": [
       "(68, 68, 36)"
      ]
     },
     "execution_count": 64,
     "metadata": {},
     "output_type": "execute_result"
    }
   ],
   "source": [
    "# Load true MEG FC time series:\n",
    "dataPath = DATA_ROOT/f'./MEG_FC_{paras.fc_type}_DK_networks_coh.mat'\n",
    "data = loadmat(dataPath);\n",
    "true_FC = data[f\"MEG_{paras.fc_type}_FC_networks_coh\"]\n",
    "true_FC.shape"
   ]
  },
  {
   "cell_type": "code",
   "execution_count": null,
   "id": "34f677b5",
   "metadata": {},
   "outputs": [],
   "source": []
  },
  {
   "cell_type": "markdown",
   "id": "4bc952d0",
   "metadata": {},
   "source": [
    "## SBI"
   ]
  },
  {
   "cell_type": "markdown",
   "id": "83c38c13",
   "metadata": {},
   "source": [
    "### Prior"
   ]
  },
  {
   "cell_type": "code",
   "execution_count": 65,
   "id": "fca715d4",
   "metadata": {
    "ExecuteTime": {
     "end_time": "2023-05-19T23:50:32.565856Z",
     "start_time": "2023-05-19T23:50:32.557123Z"
    }
   },
   "outputs": [
    {
     "data": {
      "text/plain": [
       "MultivariateNormal(loc: torch.Size([3]), covariance_matrix: torch.Size([3, 3]))"
      ]
     },
     "execution_count": 65,
     "metadata": {},
     "output_type": "execute_result"
    }
   ],
   "source": [
    "prior = MultivariateNormal(loc=torch.zeros(3), covariance_matrix=torch.eye(3)*(paras.prior_sd**2))"
   ]
  },
  {
   "cell_type": "code",
   "execution_count": 66,
   "id": "53beabfa",
   "metadata": {
    "ExecuteTime": {
     "end_time": "2023-05-19T23:50:42.316133Z",
     "start_time": "2023-05-19T23:50:42.277275Z"
    }
   },
   "outputs": [],
   "source": [
    "brain = Brain.Brain()\n",
    "brain.add_connectome(DATA_ROOT) # grabs distance matrix\n",
    "brain.reorder_connectome(brain.connectome, brain.distance_matrix)\n",
    "brain.connectome =  ind_conn[:, :, 0] # re-assign connectome to individual connectome\n",
    "brain.bi_symmetric_c()\n",
    "brain.reduce_extreme_dir()\n",
    "    "
   ]
  },
  {
   "cell_type": "code",
   "execution_count": 19,
   "id": "7bfac0a3",
   "metadata": {
    "ExecuteTime": {
     "end_time": "2023-05-19T04:13:17.252824Z",
     "start_time": "2023-05-19T04:13:17.242164Z"
    }
   },
   "outputs": [],
   "source": [
    "# If we want to use SBI for other model, \n",
    "# this function should be customized on your own.\n",
    "def simulator(raw_params, brain, noise_sd, prior_bds, freqrange, diag_ws):\n",
    "    params = []\n",
    "    for raw_param, prior_bd in zip(raw_params, prior_bds):\n",
    "        param =  _map_fn_torch(raw_param)*(prior_bd[1]-prior_bd[0]) + prior_bd[0]\n",
    "        params.append(param)\n",
    "    params = torch.tensor(params)\n",
    "    \n",
    "    params_dict = dict()\n",
    "    params_dict[\"tauC\"] =  params[0].item()\n",
    "    params_dict[\"speed\"] =  params[1].item()\n",
    "    params_dict[\"alpha\"] =  params[2].item()\n",
    "    modelFC = build_fc_freq_m(brain , params_dict, freqrange, diag_ws)\n",
    "    modelFC_abs = np.abs(modelFC[:68, :68])\n",
    "    res = _minmax_vec(modelFC_abs[np.triu_indices(68, k = 1)])\n",
    "    noise =  np.random.randn(*res.shape)*noise_sd\n",
    "    return (res+ noise).flatten()\n",
    "    "
   ]
  },
  {
   "cell_type": "code",
   "execution_count": 67,
   "id": "a45a88e4",
   "metadata": {
    "ExecuteTime": {
     "end_time": "2023-05-19T23:57:27.233972Z",
     "start_time": "2023-05-19T23:57:27.070184Z"
    }
   },
   "outputs": [],
   "source": [
    "cur_ind_idx = 0 # run sbi on subject 0\n",
    "\n",
    "# to get the SC and distance matrix for SGM\n",
    "brain = Brain.Brain()\n",
    "brain.add_connectome(DATA_ROOT) # grabs distance matrix\n",
    "brain.reorder_connectome(brain.connectome, brain.distance_matrix)\n",
    "brain.connectome =  ind_conn[:, :, cur_ind_idx] # re-assign connectome to individual connectome\n",
    "brain.bi_symmetric_c()\n",
    "brain.reduce_extreme_dir()\n",
    "    \n",
    "simulator_sp = partial(simulator, \n",
    "                       brain=brain, \n",
    "                       noise_sd=paras.SBI_paras.noise_sd, \n",
    "                       prior_bds=paras.prior_bds, \n",
    "                       freqrange=paras.freqrange, \n",
    "                       diag_ws=paras.diag_ws)\n",
    "## Prepare simulator and prior for usage in sbi.\n",
    "# refer to https://www.mackelab.org/sbi/reference/#sbi.utils.user_input_checks.prepare_for_sbi\n",
    "simulator_wrapper, prior = prepare_for_sbi(simulator_sp, prior)\n",
    "## The algorithm to estimate the posterior, I prefer this one.\n",
    "# typically, no need to change\n",
    "# density_estimator: nsf, maf, mdn. \n",
    "# you may change it if the default one do not have good performance\n",
    "inference = SNPE(prior=prior, density_estimator=paras.SBI_paras.density_model)\n",
    "    \n",
    "#the observed data to feed the SBI\n",
    "cur_obs_FC = np.abs(true_FC[:, :, cur_ind_idx])\n",
    "curX = torch.Tensor(_minmax_vec(cur_obs_FC[np.triu_indices(68, k = 1)]));"
   ]
  },
  {
   "cell_type": "code",
   "execution_count": 68,
   "id": "967b4e23",
   "metadata": {
    "ExecuteTime": {
     "end_time": "2023-05-19T23:57:46.745224Z",
     "start_time": "2023-05-19T23:57:27.950481Z"
    }
   },
   "outputs": [
    {
     "data": {
      "application/vnd.jupyter.widget-view+json": {
       "model_id": "091818ca1a64462b9ec5fa11628a3d93",
       "version_major": 2,
       "version_minor": 0
      },
      "text/plain": [
       "Running 1000 simulations in 1000 batches.:   0%|          | 0/1000 [00:00<?, ?it/s]"
      ]
     },
     "metadata": {},
     "output_type": "display_data"
    },
    {
     "name": "stdout",
     "output_type": "stream",
     "text": [
      " Neural network successfully converged after 23 epochs."
     ]
    },
    {
     "data": {
      "text/plain": [
       "DirectPosterior sampler for potential_fn=<PosteriorBasedPotential>"
      ]
     },
     "execution_count": 68,
     "metadata": {},
     "output_type": "execute_result"
    }
   ],
   "source": [
    "### To fit SBI with single runs \n",
    "# to simulate the training samples, very time-consuming\n",
    "theta, x = simulate_for_sbi(simulator_wrapper, proposal=prior,\n",
    "                            num_simulations=int(paras.SBI_paras.num_prior_sps),\n",
    "                            num_workers=20)\n",
    "# note that proposal is not necessarily the same to the prior\n",
    "density_estimator = inference.append_simulations(\n",
    "                     theta, x, proposal=prior,\n",
    "                     ).train()\n",
    "posterior = inference.build_posterior(density_estimator)\n"
   ]
  },
  {
   "cell_type": "code",
   "execution_count": 69,
   "id": "48cfcf91",
   "metadata": {
    "ExecuteTime": {
     "end_time": "2023-05-19T23:58:25.812169Z",
     "start_time": "2023-05-19T23:58:25.739488Z"
    }
   },
   "outputs": [
    {
     "data": {
      "application/vnd.jupyter.widget-view+json": {
       "model_id": "3e9cf9f988ce476d8c90d63d761b6487",
       "version_major": 2,
       "version_minor": 0
      },
      "text/plain": [
       "Drawing 1000 posterior samples:   0%|          | 0/1000 [00:00<?, ?it/s]"
      ]
     },
     "metadata": {},
     "output_type": "display_data"
    }
   ],
   "source": [
    "# sample the posterior \n",
    "post_sps_raw = posterior.sample((1000, ),x=curX);\n",
    "# transform back to original SGM \n",
    "post_sps = _theta_raw_2out(post_sps_raw.numpy(), paras.prior_bds);"
   ]
  },
  {
   "cell_type": "code",
   "execution_count": 71,
   "id": "c7067151",
   "metadata": {
    "ExecuteTime": {
     "end_time": "2023-05-19T23:58:48.634867Z",
     "start_time": "2023-05-19T23:58:48.406130Z"
    }
   },
   "outputs": [
    {
     "data": {
      "image/png": "[encoded data removed]",
      "text/plain": [
       "<Figure size 1080x360 with 3 Axes>"
      ]
     },
     "metadata": {
      "needs_background": "light"
     },
     "output_type": "display_data"
    }
   ],
   "source": [
    "plt.figure(figsize=[15, 5])\n",
    "for ix in range(3):\n",
    "    plt.subplot(1, 3, ix+1)\n",
    "    plt.plot(post_sps[:, ix], \"o\")\n",
    "    plt.title(paras.names[ix])\n",
    "    plt.ylim(paras.prior_bds[ix])"
   ]
  },
  {
   "cell_type": "code",
   "execution_count": null,
   "id": "ecbba8a3",
   "metadata": {},
   "outputs": [],
   "source": [
    "### To fit SBI with mutliple runs, in my experience, num_round=3 is a good number. \n",
    "# for each run, you let the last trained posterior as the current proposal\n",
    "proposal = prior \n",
    "for ix in range(paras.SBI_paras.num_round):\n",
    "    theta, x = simulate_for_sbi(simulator_wrapper, proposal,\n",
    "                                num_simulations=int(paras.SBI_paras.num_prior_sps),\n",
    "                                num_workers=20)\n",
    "    density_estimator = inference.append_simulations(\n",
    "                            theta, x, proposal=proposal\n",
    "                            ).train()\n",
    "    posterior = inference.build_posterior(density_estimator)\n",
    "        \n",
    "        \n",
    "    #update proposal \n",
    "    proposal = posterior.set_default_x(curX)"
   ]
  },
  {
   "cell_type": "code",
   "execution_count": null,
   "id": "0241760f",
   "metadata": {},
   "outputs": [],
   "source": []
  }
 ],
 "metadata": {
  "kernelspec": {
   "display_name": "Python 3 (ipykernel)",
   "language": "python",
   "name": "python3"
  },
  "language_info": {
   "codemirror_mode": {
    "name": "ipython",
    "version": 3
   },
   "file_extension": ".py",
   "mimetype": "text/x-python",
   "name": "python",
   "nbconvert_exporter": "python",
   "pygments_lexer": "ipython3",
   "version": "3.9.7"
  },
  "toc": {
   "base_numbering": 1,
   "nav_menu": {},
   "number_sections": true,
   "sideBar": true,
   "skip_h1_title": false,
   "title_cell": "Table of Contents",
   "title_sidebar": "Contents",
   "toc_cell": false,
   "toc_position": {},
   "toc_section_display": true,
   "toc_window_display": true
  }
 },
 "nbformat": 4,
 "nbformat_minor": 5
}
