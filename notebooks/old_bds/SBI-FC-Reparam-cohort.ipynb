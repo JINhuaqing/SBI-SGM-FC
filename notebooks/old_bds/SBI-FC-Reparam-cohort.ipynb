{
 "cells": [
  {
   "cell_type": "markdown",
   "id": "089a43ab",
   "metadata": {},
   "source": [
    "RUN SBI-SGM in corhot\n",
    "\n",
    "parameters order is  :taue,taui,tauG,speed,alpha,gii,gei (In second)"
   ]
  },
  {
   "cell_type": "markdown",
   "id": "e97a3b06",
   "metadata": {},
   "source": []
  },
  {
   "cell_type": "markdown",
   "id": "15b93230",
   "metadata": {},
   "source": [
    "## Import some pkgs"
   ]
  },
  {
   "cell_type": "code",
   "execution_count": 1,
   "id": "a5c4bef0",
   "metadata": {
    "ExecuteTime": {
     "end_time": "2022-12-05T23:25:15.456862Z",
     "start_time": "2022-12-05T23:25:13.988615Z"
    }
   },
   "outputs": [],
   "source": [
    "import sys\n",
    "sys.path.append(\"../mypkg\")\n",
    "\n",
    "import scipy\n",
    "import itertools\n",
    "\n",
    "import numpy as np\n",
    "import xarray as xr\n",
    "import matplotlib.pyplot as plt\n",
    "import seaborn as sns\n",
    "\n",
    "from tqdm import trange\n",
    "from scipy.io import loadmat\n",
    "from functools import partial\n",
    "from easydict import EasyDict as edict"
   ]
  },
  {
   "cell_type": "code",
   "execution_count": 2,
   "id": "129d24a5",
   "metadata": {
    "ExecuteTime": {
     "end_time": "2022-12-05T23:25:19.147444Z",
     "start_time": "2022-12-05T23:25:15.461275Z"
    }
   },
   "outputs": [],
   "source": [
    "# SBI and torch\n",
    "from sbi.inference.base import infer\n",
    "from sbi.inference import SNPE, prepare_for_sbi, simulate_for_sbi\n",
    "from sbi import analysis\n",
    "from sbi.utils.get_nn_models import posterior_nn\n",
    "from sbi import utils as sutils\n",
    "\n",
    "import torch.nn as nn\n",
    "import torch.nn.functional as F\n",
    "import torch\n",
    "from torch.distributions.multivariate_normal import MultivariateNormal"
   ]
  },
  {
   "cell_type": "code",
   "execution_count": 3,
   "id": "513f09d5",
   "metadata": {
    "ExecuteTime": {
     "end_time": "2022-12-05T23:25:19.198971Z",
     "start_time": "2022-12-05T23:25:19.150638Z"
    }
   },
   "outputs": [],
   "source": [
    "# my own fns\n",
    "from brain import Brain\n",
    "from FC_utils import build_fc_freq_m\n",
    "from constants import RES_ROOT, DATA_ROOT\n",
    "from utils.misc import load_pkl, save_pkl\n",
    "from utils.reparam import theta_raw_2out, logistic_np, logistic_torch"
   ]
  },
  {
   "cell_type": "code",
   "execution_count": null,
   "id": "d5b87c78",
   "metadata": {
    "ExecuteTime": {
     "end_time": "2022-11-08T00:03:09.655902Z",
     "start_time": "2022-11-08T00:03:09.466344Z"
    }
   },
   "outputs": [],
   "source": []
  },
  {
   "cell_type": "markdown",
   "id": "820f27bd",
   "metadata": {},
   "source": [
    "## Some fns"
   ]
  },
  {
   "cell_type": "code",
   "execution_count": 4,
   "id": "81762f84",
   "metadata": {
    "ExecuteTime": {
     "end_time": "2022-12-05T23:25:19.207206Z",
     "start_time": "2022-12-05T23:25:19.202542Z"
    }
   },
   "outputs": [],
   "source": [
    "_minmax_vec = lambda x: (x-np.min(x))/(np.max(x)-np.min(x))"
   ]
  },
  {
   "cell_type": "code",
   "execution_count": 5,
   "id": "9daeac1d",
   "metadata": {
    "ExecuteTime": {
     "end_time": "2022-12-05T23:25:19.232598Z",
     "start_time": "2022-12-05T23:25:19.209650Z"
    }
   },
   "outputs": [],
   "source": [
    "# transfer vec to a sym mat\n",
    "def vec_2mat(vec):\n",
    "    mat = np.zeros((68, 68))\n",
    "    mat[np.triu_indices(68, k = 1)] = vec\n",
    "    mat = mat + mat.T\n",
    "    return mat"
   ]
  },
  {
   "cell_type": "code",
   "execution_count": 6,
   "id": "65fa4ae9",
   "metadata": {
    "ExecuteTime": {
     "end_time": "2022-12-05T23:25:19.256018Z",
     "start_time": "2022-12-05T23:25:19.235208Z"
    }
   },
   "outputs": [],
   "source": [
    "def get_mode(x):\n",
    "    kde_est = scipy.stats.gaussian_kde(x)\n",
    "    xs = np.linspace(x.min(), x.max(), 500)\n",
    "    ys = kde_est(xs)\n",
    "    return xs[np.argmax(ys)]"
   ]
  },
  {
   "cell_type": "code",
   "execution_count": null,
   "id": "c2112ea2",
   "metadata": {},
   "outputs": [],
   "source": []
  },
  {
   "cell_type": "markdown",
   "id": "12bd0463",
   "metadata": {},
   "source": [
    "### Some parameters"
   ]
  },
  {
   "cell_type": "code",
   "execution_count": 7,
   "id": "c034879f",
   "metadata": {
    "ExecuteTime": {
     "end_time": "2022-12-05T23:25:19.280044Z",
     "start_time": "2022-12-05T23:25:19.258827Z"
    }
   },
   "outputs": [],
   "source": [
    "_paras = edict()\n",
    "_paras.delta = [2, 3.5]\n",
    "_paras.theta = [4, 7]\n",
    "_paras.alpha = [8, 12]\n",
    "_paras.beta = [13, 35]\n",
    "_paras.beta_l = [13, 20]"
   ]
  },
  {
   "cell_type": "code",
   "execution_count": 8,
   "id": "75ad48ea",
   "metadata": {
    "ExecuteTime": {
     "end_time": "2022-12-05T23:25:20.072538Z",
     "start_time": "2022-12-05T23:25:20.067082Z"
    }
   },
   "outputs": [],
   "source": [
    "# Parameter bounds for optimization\n",
    "v_lower = 3.5-1.8\n",
    "v_upper = 3.5+1.8\n",
    "bnds = ((0.005,0.030), (0.005,0.2), (0.005,0.030), (v_lower,v_upper), (0.1,1.0), (0.5,10.0), (0.5,10.0))\n",
    "#taue,taui,tauG,speed,alpha,gii,gei"
   ]
  },
  {
   "cell_type": "code",
   "execution_count": 23,
   "id": "74f883ac",
   "metadata": {
    "ExecuteTime": {
     "end_time": "2022-12-06T00:01:35.607383Z",
     "start_time": "2022-12-06T00:01:35.594925Z"
    }
   },
   "outputs": [
    {
     "name": "stdout",
     "output_type": "stream",
     "text": [
      "[13.   14.75 16.5  18.25 20.  ]\n"
     ]
    }
   ],
   "source": [
    "paras = edict()\n",
    "\n",
    "paras.fc_type = \"beta_l\" #stick to coh\n",
    "paras.freqrange =  np.linspace(_paras[paras.fc_type][0], _paras[paras.fc_type][1], 5)\n",
    "print(paras.freqrange)\n",
    "paras.fs = 600\n",
    "paras.num_nodes = 86 # Number of cortical (68) + subcortical nodes\n",
    "paras.par_low =  np.array([ix[0] for ix in bnds])\n",
    "paras.par_high = np.array([ix[1] for ix in bnds])\n",
    "paras.prior_bds = np.array([paras.par_low, paras.par_high]).T\n",
    "paras.prior_sd = 10\n",
    "paras.add_v = 0.05\n",
    "\n",
    "paras.SBI_paras = edict()\n",
    "paras.SBI_paras.num_prior_sps = int(1e3)\n",
    "paras.SBI_paras.density_model = \"nsf\"\n",
    "paras.SBI_paras.num_round = 3\n",
    "paras.SBI_paras.noise_sd = 0.2"
   ]
  },
  {
   "cell_type": "code",
   "execution_count": 24,
   "id": "1f4c00a6",
   "metadata": {
    "ExecuteTime": {
     "end_time": "2022-12-06T00:01:36.398392Z",
     "start_time": "2022-12-06T00:01:36.393388Z"
    }
   },
   "outputs": [],
   "source": [
    "# fn for reparemetering\n",
    "_map_fn_torch = partial(logistic_torch, k=0.1)\n",
    "_theta_raw_2out = partial(theta_raw_2out, map_fn=partial(logistic_np, k=0.1))"
   ]
  },
  {
   "cell_type": "code",
   "execution_count": null,
   "id": "d66040ab",
   "metadata": {},
   "outputs": [],
   "source": []
  },
  {
   "cell_type": "markdown",
   "id": "cc57cec6",
   "metadata": {},
   "source": [
    "### Load the data"
   ]
  },
  {
   "cell_type": "code",
   "execution_count": 25,
   "id": "ee5a4fc9",
   "metadata": {
    "ExecuteTime": {
     "end_time": "2022-12-06T00:01:38.036049Z",
     "start_time": "2022-12-06T00:01:37.995857Z"
    }
   },
   "outputs": [
    {
     "name": "stdout",
     "output_type": "stream",
     "text": [
      "Add 0.05 on diag\n"
     ]
    }
   ],
   "source": [
    "# SC\n",
    "ind_conn_xr = xr.open_dataarray('../data/individual_connectomes_reordered.nc')\n",
    "ind_conn = ind_conn_xr.values\n",
    "\n",
    "# PSD\n",
    "ind_psd_xr = xr.open_dataarray('../data/individual_psd_reordered_matlab.nc')\n",
    "ind_psd = ind_psd_xr.values\n",
    "fvec = ind_psd_xr[\"frequencies\"].values\n",
    "\n",
    "def _add_v2con(cur_ind_conn):\n",
    "    cur_ind_conn = cur_ind_conn.copy()\n",
    "    add_v = np.max(cur_ind_conn)*paras.add_v # tuning 0.1\n",
    "    np.fill_diagonal(cur_ind_conn[:34, 34:68], cur_ind_conn[:34, 34:68] + add_v)\n",
    "    np.fill_diagonal(cur_ind_conn[34:68, :34], cur_ind_conn[34:68, :34] + add_v)\n",
    "    np.fill_diagonal(cur_ind_conn[68:77, 77:], cur_ind_conn[68:77, 77:] + add_v)\n",
    "    np.fill_diagonal(cur_ind_conn[77:, 68:77], cur_ind_conn[77:, 68:77] + add_v)\n",
    "    return cur_ind_conn\n",
    "\n",
    "if paras.add_v != 0:\n",
    "    print(f\"Add {paras.add_v} on diag\")\n",
    "    ind_conn_adds = [_add_v2con(ind_conn[:, :, ix]) for ix in range(36)]\n",
    "    ind_conn = np.transpose(np.array(ind_conn_adds), (1, 2, 0))\n",
    "ind_conn_cohort = ind_conn.mean(axis=-1)"
   ]
  },
  {
   "cell_type": "code",
   "execution_count": 26,
   "id": "1c727a6e",
   "metadata": {
    "ExecuteTime": {
     "end_time": "2022-12-06T00:01:38.659583Z",
     "start_time": "2022-12-06T00:01:38.644321Z"
    }
   },
   "outputs": [],
   "source": [
    "# Load true MEG FC time series:\n",
    "dataPath = DATA_ROOT/f'./MEG_FC_{paras.fc_type}_DK_networks_coh.mat'\n",
    "data = loadmat(dataPath);\n",
    "true_FC = data[f\"MEG_{paras.fc_type}_FC_networks_coh\"]\n",
    "true_FC_cohort = true_FC.mean(axis=-1)"
   ]
  },
  {
   "cell_type": "code",
   "execution_count": null,
   "id": "34f677b5",
   "metadata": {},
   "outputs": [],
   "source": []
  },
  {
   "cell_type": "markdown",
   "id": "4bc952d0",
   "metadata": {},
   "source": [
    "## SBI"
   ]
  },
  {
   "cell_type": "markdown",
   "id": "83c38c13",
   "metadata": {},
   "source": [
    "### Prior"
   ]
  },
  {
   "cell_type": "code",
   "execution_count": 27,
   "id": "fca715d4",
   "metadata": {
    "ExecuteTime": {
     "end_time": "2022-12-06T00:01:43.774968Z",
     "start_time": "2022-12-06T00:01:43.768931Z"
    }
   },
   "outputs": [],
   "source": [
    "prior = MultivariateNormal(loc=torch.zeros(7), covariance_matrix=torch.eye(7)*(paras.prior_sd**2))"
   ]
  },
  {
   "cell_type": "code",
   "execution_count": 28,
   "id": "7bfac0a3",
   "metadata": {
    "ExecuteTime": {
     "end_time": "2022-12-06T00:01:56.068167Z",
     "start_time": "2022-12-06T00:01:56.056063Z"
    }
   },
   "outputs": [],
   "source": [
    "def simulator(raw_params, brain, noise_sd, prior_bds, freqrange):\n",
    "    params = []\n",
    "    for raw_param, prior_bd in zip(raw_params, prior_bds):\n",
    "        param =  _map_fn_torch(raw_param)*(prior_bd[1]-prior_bd[0]) + prior_bd[0]\n",
    "        params.append(param)\n",
    "    params = torch.tensor(params)\n",
    "    \n",
    "    params_dict = dict()\n",
    "    params_dict[\"tau_e\"] =  params[0].item()\n",
    "    params_dict[\"tau_i\"] =  params[1].item()\n",
    "    params_dict[\"tauC\"] =  params[2].item()\n",
    "    params_dict[\"speed\"] =  params[3].item()\n",
    "    params_dict[\"alpha\"] =  params[4].item()\n",
    "    params_dict[\"gii\"] =  params[5].item()\n",
    "    params_dict[\"gei\"] =  params[6].item()\n",
    "    modelFC = build_fc_freq_m(brain , params_dict, freqrange)\n",
    "    modelFC_abs = np.abs(modelFC[:68, :68])\n",
    "    res = _minmax_vec(modelFC_abs[np.triu_indices(68, k = 1)])\n",
    "    noise =  np.random.randn(*res.shape)*noise_sd\n",
    "    return (res+ noise).flatten()\n",
    "    "
   ]
  },
  {
   "cell_type": "code",
   "execution_count": 29,
   "id": "6c0b052a",
   "metadata": {
    "ExecuteTime": {
     "end_time": "2022-12-06T00:05:06.058175Z",
     "start_time": "2022-12-06T00:01:57.899928Z"
    }
   },
   "outputs": [
    {
     "data": {
      "application/vnd.jupyter.widget-view+json": {
       "model_id": "4588818519fa42fda4c44125b586522c",
       "version_major": 2,
       "version_minor": 0
      },
      "text/plain": [
       "Running 1000 simulations in 1000 batches.:   0%|          | 0/1000 [00:00<?, ?it/s]"
      ]
     },
     "metadata": {},
     "output_type": "display_data"
    },
    {
     "name": "stdout",
     "output_type": "stream",
     "text": [
      " Neural network successfully converged after 24 epochs."
     ]
    },
    {
     "data": {
      "application/vnd.jupyter.widget-view+json": {
       "model_id": "831d1df97ed040c3919a6d1fa4825b53",
       "version_major": 2,
       "version_minor": 0
      },
      "text/plain": [
       "Drawing 1000 posterior samples:   0%|          | 0/1000 [00:00<?, ?it/s]"
      ]
     },
     "metadata": {},
     "output_type": "display_data"
    },
    {
     "data": {
      "application/vnd.jupyter.widget-view+json": {
       "model_id": "0cb4687479f84dde9a76bf5508aec74d",
       "version_major": 2,
       "version_minor": 0
      },
      "text/plain": [
       "Running 1000 simulations in 1000 batches.:   0%|          | 0/1000 [00:00<?, ?it/s]"
      ]
     },
     "metadata": {},
     "output_type": "display_data"
    },
    {
     "name": "stdout",
     "output_type": "stream",
     "text": [
      "Using SNPE-C with atomic loss\n",
      " Neural network successfully converged after 38 epochs."
     ]
    },
    {
     "data": {
      "application/vnd.jupyter.widget-view+json": {
       "model_id": "42681d8cb21947b3bb268b4780e1b1b1",
       "version_major": 2,
       "version_minor": 0
      },
      "text/plain": [
       "Drawing 1000 posterior samples:   0%|          | 0/1000 [00:00<?, ?it/s]"
      ]
     },
     "metadata": {},
     "output_type": "display_data"
    },
    {
     "data": {
      "application/vnd.jupyter.widget-view+json": {
       "model_id": "3fa0f2b578ab40ae8b69ca3fe262d456",
       "version_major": 2,
       "version_minor": 0
      },
      "text/plain": [
       "Running 1000 simulations in 1000 batches.:   0%|          | 0/1000 [00:00<?, ?it/s]"
      ]
     },
     "metadata": {},
     "output_type": "display_data"
    },
    {
     "name": "stdout",
     "output_type": "stream",
     "text": [
      "Using SNPE-C with atomic loss\n",
      " Neural network successfully converged after 32 epochs.Save to /data/rajlab1/user_data/jin/MyResearch/SBI-SGM-FC1/SBI-SGM-FC/notebooks/../mypkg/../results/posteriorMRmul_beta_l_num1000_densitynsf_MR3_noise_sd20_addv5_ind_cohort.pkl\n"
     ]
    }
   ],
   "source": [
    "# create spectrome brain:\n",
    "brain = Brain.Brain()\n",
    "brain.add_connectome(DATA_ROOT) # grabs distance matrix\n",
    "# re-ordering for DK atlas and normalizing the connectomes:\n",
    "brain.reorder_connectome(brain.connectome, brain.distance_matrix)\n",
    "brain.connectome =  ind_conn_cohort\n",
    "brain.bi_symmetric_c()\n",
    "brain.reduce_extreme_dir()\n",
    "    \n",
    "simulator_sp = partial(simulator, brain=brain, \n",
    "                           noise_sd=paras.SBI_paras.noise_sd, \n",
    "                           prior_bds=paras.prior_bds, freqrange=paras.freqrange)\n",
    "simulator_wrapper, prior = prepare_for_sbi(simulator_sp, prior)\n",
    "inference = SNPE(prior=prior, density_estimator=paras.SBI_paras.density_model)\n",
    "proposal = prior \n",
    "    \n",
    "    #the observed data\n",
    "cur_obs_FC = np.abs(true_FC_cohort)\n",
    "curX = torch.Tensor(_minmax_vec(cur_obs_FC[np.triu_indices(68, k = 1)]))\n",
    "#num_spss = [10000, 10000, 5000]\n",
    "for ix in range(paras.SBI_paras.num_round):\n",
    "    theta, x = simulate_for_sbi(simulator_wrapper, proposal,\n",
    "                                    num_simulations=paras.SBI_paras.num_prior_sps, \n",
    "                                    num_workers=20)\n",
    "    density_estimator = inference.append_simulations(\n",
    "                            theta, x, proposal=proposal\n",
    "                            ).train()\n",
    "    posterior = inference.build_posterior(density_estimator)\n",
    "        \n",
    "        \n",
    "    #update proposal \n",
    "    proposal = posterior.set_default_x(curX)\n",
    "    \n",
    "#MR: multi-round\n",
    "save_fil = f\"posteriorMRmul_{paras.fc_type}_\" + \\\n",
    "               f\"num{paras.SBI_paras.num_prior_sps}_\" + \\\n",
    "               f\"density{paras.SBI_paras.density_model}_\" + \\\n",
    "               f\"MR{paras.SBI_paras.num_round}_\" + \\\n",
    "               f\"noise_sd{paras.SBI_paras.noise_sd*100:.0f}_\" +\\\n",
    "               f\"addv{paras.add_v*100:.0f}_\" +\\\n",
    "               f\"ind_cohort.pkl\"\n",
    "        \n",
    "save_pkl(RES_ROOT/save_fil, proposal)"
   ]
  },
  {
   "cell_type": "code",
   "execution_count": null,
   "id": "ecbba8a3",
   "metadata": {},
   "outputs": [],
   "source": []
  },
  {
   "cell_type": "code",
   "execution_count": null,
   "id": "0241760f",
   "metadata": {},
   "outputs": [],
   "source": []
  }
 ],
 "metadata": {
  "kernelspec": {
   "display_name": "Python 3 (ipykernel)",
   "language": "python",
   "name": "python3"
  },
  "language_info": {
   "codemirror_mode": {
    "name": "ipython",
    "version": 3
   },
   "file_extension": ".py",
   "mimetype": "text/x-python",
   "name": "python",
   "nbconvert_exporter": "python",
   "pygments_lexer": "ipython3",
   "version": "3.9.7"
  },
  "toc": {
   "base_numbering": 1,
   "nav_menu": {},
   "number_sections": true,
   "sideBar": true,
   "skip_h1_title": false,
   "title_cell": "Table of Contents",
   "title_sidebar": "Contents",
   "toc_cell": false,
   "toc_position": {},
   "toc_section_display": true,
   "toc_window_display": true
  }
 },
 "nbformat": 4,
 "nbformat_minor": 5
}
