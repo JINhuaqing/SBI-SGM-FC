{
 "cells": [
  {
   "cell_type": "markdown",
   "id": "089a43ab",
   "metadata": {},
   "source": [
    "RUN SBI-SGM in alpha, new bounds, new SGM, only three parameters needed\n",
    "\n",
    "parameters order is  :tauG,speed,alpha (In second)\n",
    "\n",
    "And now, I construct prior from the results with Annealing\n"
   ]
  },
  {
   "cell_type": "markdown",
   "id": "15b93230",
   "metadata": {},
   "source": [
    "## Import some pkgs"
   ]
  },
  {
   "cell_type": "code",
   "execution_count": 16,
   "id": "a5c4bef0",
   "metadata": {
    "ExecuteTime": {
     "end_time": "2024-06-03T04:01:40.074389Z",
     "start_time": "2024-06-03T04:01:40.067514Z"
    },
    "execution": {
     "iopub.execute_input": "2024-06-03T03:58:48.839591Z",
     "iopub.status.busy": "2024-06-03T03:58:48.838500Z",
     "iopub.status.idle": "2024-06-03T03:59:01.308902Z",
     "shell.execute_reply": "2024-06-03T03:59:01.307582Z",
     "shell.execute_reply.started": "2024-06-03T03:58:48.839446Z"
    },
    "tags": []
   },
   "outputs": [],
   "source": [
    "import sys\n",
    "sys.path.append(\"../../mypkg\")\n",
    "\n",
    "import scipy\n",
    "import itertools\n",
    "\n",
    "import numpy as np\n",
    "import xarray as xr\n",
    "import matplotlib.pyplot as plt\n",
    "import seaborn as sns\n",
    "\n",
    "from tqdm import trange\n",
    "from scipy.io import loadmat\n",
    "from functools import partial\n",
    "from easydict import EasyDict as edict"
   ]
  },
  {
   "cell_type": "code",
   "execution_count": 17,
   "id": "129d24a5",
   "metadata": {
    "ExecuteTime": {
     "end_time": "2024-06-03T04:01:40.870220Z",
     "start_time": "2024-06-03T04:01:40.863593Z"
    },
    "execution": {
     "iopub.execute_input": "2024-06-03T03:59:50.671032Z",
     "iopub.status.busy": "2024-06-03T03:59:50.670560Z",
     "iopub.status.idle": "2024-06-03T03:59:54.733053Z",
     "shell.execute_reply": "2024-06-03T03:59:54.731870Z",
     "shell.execute_reply.started": "2024-06-03T03:59:50.670983Z"
    },
    "tags": []
   },
   "outputs": [],
   "source": [
    "# SBI and torch\n",
    "from sbi.inference.base import infer\n",
    "from sbi.inference import SNPE, prepare_for_sbi, simulate_for_sbi\n",
    "from sbi import analysis\n",
    "from sbi.utils.get_nn_models import posterior_nn\n",
    "from sbi import utils as sutils\n",
    "\n",
    "import torch.nn as nn\n",
    "import torch.nn.functional as F\n",
    "import torch\n",
    "from torch.distributions.multivariate_normal import MultivariateNormal"
   ]
  },
  {
   "cell_type": "code",
   "execution_count": 18,
   "id": "513f09d5",
   "metadata": {
    "ExecuteTime": {
     "end_time": "2024-06-03T04:01:41.330917Z",
     "start_time": "2024-06-03T04:01:41.325402Z"
    },
    "execution": {
     "iopub.execute_input": "2024-06-03T03:59:11.355524Z",
     "iopub.status.busy": "2024-06-03T03:59:11.354922Z",
     "iopub.status.idle": "2024-06-03T03:59:18.079403Z",
     "shell.execute_reply": "2024-06-03T03:59:18.078468Z",
     "shell.execute_reply.started": "2024-06-03T03:59:11.355472Z"
    },
    "tags": []
   },
   "outputs": [],
   "source": [
    "# my own fns\n",
    "from brain import Brain\n",
    "from FC_utils import build_fc_freq_m\n",
    "from constants import RES_ROOT, DATA_ROOT\n",
    "from utils.misc import load_pkl, save_pkl\n",
    "from utils.reparam import theta_raw_2out, logistic_np, logistic_torch"
   ]
  },
  {
   "cell_type": "code",
   "execution_count": null,
   "id": "d5b87c78",
   "metadata": {
    "ExecuteTime": {
     "end_time": "2022-11-08T00:03:09.655902Z",
     "start_time": "2022-11-08T00:03:09.466344Z"
    }
   },
   "outputs": [],
   "source": []
  },
  {
   "cell_type": "markdown",
   "id": "820f27bd",
   "metadata": {},
   "source": [
    "## Some fns"
   ]
  },
  {
   "cell_type": "code",
   "execution_count": 19,
   "id": "81762f84",
   "metadata": {
    "ExecuteTime": {
     "end_time": "2024-06-03T04:01:42.252290Z",
     "start_time": "2024-06-03T04:01:42.244093Z"
    },
    "execution": {
     "iopub.execute_input": "2024-06-03T03:59:18.081167Z",
     "iopub.status.busy": "2024-06-03T03:59:18.080936Z",
     "iopub.status.idle": "2024-06-03T03:59:18.089268Z",
     "shell.execute_reply": "2024-06-03T03:59:18.088622Z",
     "shell.execute_reply.started": "2024-06-03T03:59:18.081143Z"
    },
    "tags": []
   },
   "outputs": [
    {
     "data": {
      "text/plain": [
       "<function __main__.<lambda>(x)>"
      ]
     },
     "execution_count": 19,
     "metadata": {},
     "output_type": "execute_result"
    }
   ],
   "source": [
    "_minmax_vec = lambda x: (x-np.min(x))/(np.max(x)-np.min(x))"
   ]
  },
  {
   "cell_type": "code",
   "execution_count": 20,
   "id": "9daeac1d",
   "metadata": {
    "ExecuteTime": {
     "end_time": "2024-06-03T04:01:42.762915Z",
     "start_time": "2024-06-03T04:01:42.757314Z"
    },
    "execution": {
     "iopub.execute_input": "2024-06-03T03:59:18.090446Z",
     "iopub.status.busy": "2024-06-03T03:59:18.090188Z",
     "iopub.status.idle": "2024-06-03T03:59:18.115198Z",
     "shell.execute_reply": "2024-06-03T03:59:18.114256Z",
     "shell.execute_reply.started": "2024-06-03T03:59:18.090424Z"
    },
    "tags": []
   },
   "outputs": [],
   "source": [
    "# transfer vec to a sym mat\n",
    "def vec_2mat(vec):\n",
    "    mat = np.zeros((68, 68))\n",
    "    mat[np.triu_indices(68, k = 1)] = vec\n",
    "    mat = mat + mat.T\n",
    "    return mat"
   ]
  },
  {
   "cell_type": "code",
   "execution_count": null,
   "id": "c2112ea2",
   "metadata": {},
   "outputs": [],
   "source": []
  },
  {
   "cell_type": "markdown",
   "id": "12bd0463",
   "metadata": {},
   "source": [
    "### Some parameters"
   ]
  },
  {
   "cell_type": "code",
   "execution_count": 5,
   "id": "5da1fc37",
   "metadata": {
    "ExecuteTime": {
     "end_time": "2023-10-26T17:26:15.581582Z",
     "start_time": "2023-10-26T17:26:15.204685Z"
    },
    "execution": {
     "iopub.execute_input": "2024-06-03T03:59:18.117756Z",
     "iopub.status.busy": "2024-06-03T03:59:18.117138Z",
     "iopub.status.idle": "2024-06-03T03:59:18.582268Z",
     "shell.execute_reply": "2024-06-03T03:59:18.581169Z",
     "shell.execute_reply.started": "2024-06-03T03:59:18.117719Z"
    },
    "tags": []
   },
   "outputs": [],
   "source": [
    "# SC\n",
    "ind_conn_xr = xr.open_dataarray(DATA_ROOT/'individual_connectomes_reordered.nc')\n",
    "ind_conn = ind_conn_xr.values\n",
    "\n",
    "# PSD\n",
    "ind_psd_xr = xr.open_dataarray(DATA_ROOT/'individual_psd_reordered_matlab.nc')\n",
    "ind_psd = ind_psd_xr.values\n",
    "fvec = ind_psd_xr[\"frequencies\"].values;"
   ]
  },
  {
   "cell_type": "code",
   "execution_count": 6,
   "id": "c034879f",
   "metadata": {
    "ExecuteTime": {
     "end_time": "2023-10-26T17:26:15.589956Z",
     "start_time": "2023-10-26T17:26:15.584645Z"
    },
    "execution": {
     "iopub.execute_input": "2024-06-03T03:59:18.584585Z",
     "iopub.status.busy": "2024-06-03T03:59:18.583809Z",
     "iopub.status.idle": "2024-06-03T03:59:18.590729Z",
     "shell.execute_reply": "2024-06-03T03:59:18.589713Z",
     "shell.execute_reply.started": "2024-06-03T03:59:18.584536Z"
    },
    "tags": []
   },
   "outputs": [],
   "source": [
    "_paras = edict()\n",
    "_paras.delta = [2, 3.5]\n",
    "_paras.theta = [4, 7]\n",
    "_paras.alpha = [8, 12]\n",
    "_paras.beta_l = [13, 20]"
   ]
  },
  {
   "cell_type": "code",
   "execution_count": 7,
   "id": "74f883ac",
   "metadata": {
    "ExecuteTime": {
     "end_time": "2023-09-28T17:59:28.439043Z",
     "start_time": "2023-09-28T17:59:28.424989Z"
    },
    "execution": {
     "iopub.execute_input": "2024-06-03T03:59:18.592876Z",
     "iopub.status.busy": "2024-06-03T03:59:18.592227Z",
     "iopub.status.idle": "2024-06-03T03:59:18.621984Z",
     "shell.execute_reply": "2024-06-03T03:59:18.620981Z",
     "shell.execute_reply.started": "2024-06-03T03:59:18.592835Z"
    }
   },
   "outputs": [
    {
     "name": "stdout",
     "output_type": "stream",
     "text": [
      "[ 8.  9. 10. 11. 12.]\n"
     ]
    }
   ],
   "source": [
    "paras = edict()\n",
    "\n",
    "paras.band = \"alpha\" \n",
    "paras.nepoch = 100\n",
    "paras.save_prefix = \"rawfc2\"\n",
    "paras.freqrange =  np.linspace(_paras[paras.band][0], _paras[paras.band][1], 5)\n",
    "print(paras.freqrange)\n",
    "paras.fs = 600\n",
    "paras.num_nodes = 86 # Number of cortical (68) + subcortical nodes\n",
    "#paras.par_low = np.asarray([0.005,0.005,0.005,5, 0.1,0.001,0.001])\n",
    "#paras.par_high = np.asarray([0.03, 0.20, 0.03,20,  1,    2,  0.7])\n",
    "#paras.names = [\"Taue\", \"Taui\", \"TauC\", \"Speed\", \"alpha\", \"gii\", \"gei\"]\n",
    "paras.par_low = np.asarray([0.005, 5, 0.1])\n",
    "paras.par_high = np.asarray([0.03, 20, 1])\n",
    "paras.names = [\"TauC\", \"Speed\", \"alpha\"]\n",
    "paras.prior_bds = np.array([paras.par_low, paras.par_high]).T\n",
    "paras.prior_sd = 1\n",
    "paras.add_v = 0.01\n",
    "paras.k = 1\n",
    "\n",
    "paras.SBI_paras = edict()\n",
    "paras.SBI_paras.noise_sd = 0.4\n",
    "paras.SBI_paras.num_prior_sps = int(1e3)\n",
    "paras.SBI_paras.density_model = \"nsf\"\n",
    "paras.SBI_paras.num_round = 1 # 3"
   ]
  },
  {
   "cell_type": "code",
   "execution_count": 8,
   "id": "1f4c00a6",
   "metadata": {
    "ExecuteTime": {
     "end_time": "2023-09-28T17:59:28.760840Z",
     "start_time": "2023-09-28T17:59:28.755030Z"
    },
    "execution": {
     "iopub.execute_input": "2024-06-03T03:59:18.624050Z",
     "iopub.status.busy": "2024-06-03T03:59:18.623440Z",
     "iopub.status.idle": "2024-06-03T03:59:18.650059Z",
     "shell.execute_reply": "2024-06-03T03:59:18.648991Z",
     "shell.execute_reply.started": "2024-06-03T03:59:18.624006Z"
    }
   },
   "outputs": [],
   "source": [
    "# fn for reparemetering\n",
    "_map_fn_torch = partial(logistic_torch, k=paras.k)\n",
    "_theta_raw_2out = partial(theta_raw_2out, map_fn=partial(logistic_np, k=paras.k), prior_bds=paras.prior_bds);"
   ]
  },
  {
   "cell_type": "code",
   "execution_count": null,
   "id": "d66040ab",
   "metadata": {},
   "outputs": [],
   "source": []
  },
  {
   "cell_type": "markdown",
   "id": "cc57cec6",
   "metadata": {},
   "source": [
    "### Load the data"
   ]
  },
  {
   "cell_type": "code",
   "execution_count": 9,
   "id": "ee5a4fc9",
   "metadata": {
    "ExecuteTime": {
     "end_time": "2023-09-28T17:59:29.549396Z",
     "start_time": "2023-09-28T17:59:29.520566Z"
    },
    "execution": {
     "iopub.execute_input": "2024-06-03T03:59:19.483567Z",
     "iopub.status.busy": "2024-06-03T03:59:19.483181Z",
     "iopub.status.idle": "2024-06-03T03:59:19.516926Z",
     "shell.execute_reply": "2024-06-03T03:59:19.516148Z",
     "shell.execute_reply.started": "2024-06-03T03:59:19.483526Z"
    }
   },
   "outputs": [
    {
     "name": "stdout",
     "output_type": "stream",
     "text": [
      "Add 0.01 on diag\n"
     ]
    }
   ],
   "source": [
    "\n",
    "def _add_v2con(cur_ind_conn):\n",
    "    cur_ind_conn = cur_ind_conn.copy()\n",
    "    add_v = np.quantile(cur_ind_conn, 0.99)*paras.add_v # tuning 0.1\n",
    "    np.fill_diagonal(cur_ind_conn[:34, 34:68], np.diag(cur_ind_conn[:34, 34:68]) + add_v)\n",
    "    np.fill_diagonal(cur_ind_conn[34:68, :34], np.diag(cur_ind_conn[34:68, :34]) + add_v)\n",
    "    np.fill_diagonal(cur_ind_conn[68:77, 77:], np.diag(cur_ind_conn[68:77, 77:]) + add_v)\n",
    "    np.fill_diagonal(cur_ind_conn[77:, 68:77], np.diag(cur_ind_conn[77:, 68:77]) + add_v)\n",
    "    return cur_ind_conn\n",
    "\n",
    "if paras.add_v != 0:\n",
    "    print(f\"Add {paras.add_v} on diag\")\n",
    "    ind_conn_adds = [_add_v2con(ind_conn[:, :, ix]) for ix in range(36)]\n",
    "    ind_conn = np.transpose(np.array(ind_conn_adds), (1, 2, 0))"
   ]
  },
  {
   "cell_type": "code",
   "execution_count": 10,
   "id": "87f1aaad",
   "metadata": {
    "ExecuteTime": {
     "end_time": "2023-09-28T17:59:30.845247Z",
     "start_time": "2023-09-28T17:59:29.767576Z"
    },
    "execution": {
     "iopub.execute_input": "2024-06-03T03:59:20.538835Z",
     "iopub.status.busy": "2024-06-03T03:59:20.538426Z",
     "iopub.status.idle": "2024-06-03T03:59:24.839281Z",
     "shell.execute_reply": "2024-06-03T03:59:24.838160Z",
     "shell.execute_reply.started": "2024-06-03T03:59:20.538791Z"
    }
   },
   "outputs": [],
   "source": [
    "# em FC\n",
    "fc_root = RES_ROOT/\"emp_fcs2\"\n",
    "def _get_fc(sub_ix, bd):\n",
    "    fil = list(fc_root.rglob(f\"*{paras.band}*{paras.nepoch}/sub{sub_ix}.pkl\"))[0]\n",
    "    return load_pkl(fil, verbose=False)\n",
    "\n",
    "fcs = np.array([_get_fc(sub_ix, paras.band) for sub_ix in range(36)]);"
   ]
  },
  {
   "cell_type": "code",
   "execution_count": null,
   "id": "34f677b5",
   "metadata": {},
   "outputs": [],
   "source": []
  },
  {
   "cell_type": "markdown",
   "id": "4bc952d0",
   "metadata": {},
   "source": [
    "## SBI"
   ]
  },
  {
   "cell_type": "markdown",
   "id": "83c38c13",
   "metadata": {},
   "source": [
    "### Prior"
   ]
  },
  {
   "cell_type": "code",
   "execution_count": 11,
   "id": "ce9f1612",
   "metadata": {
    "ExecuteTime": {
     "end_time": "2023-09-28T17:59:30.855377Z",
     "start_time": "2023-09-28T17:59:30.848470Z"
    },
    "execution": {
     "iopub.execute_input": "2024-06-03T03:59:27.460199Z",
     "iopub.status.busy": "2024-06-03T03:59:27.459617Z",
     "iopub.status.idle": "2024-06-03T03:59:27.468674Z",
     "shell.execute_reply": "2024-06-03T03:59:27.467495Z",
     "shell.execute_reply.started": "2024-06-03T03:59:27.460149Z"
    }
   },
   "outputs": [],
   "source": [
    "# get the informative prior\n",
    "def _get_prior(ind_idx):\n",
    "    fil = list(RES_ROOT.glob(f\"rawfc2_ANN_{paras.band}_ep{paras.nepoch}\"\n",
    "                             f\"_addv{paras.add_v*100:.0f}/ind{ind_idx}.pkl\"))[0];\n",
    "    ann_res = load_pkl(fil, verbose=False);\n",
    "    ann_res.ann_res.x\n",
    "    prior = MultivariateNormal(loc=torch.Tensor(ann_res.ann_res.x), \n",
    "                           covariance_matrix=torch.eye(3)*(paras.prior_sd**2))\n",
    "    return prior"
   ]
  },
  {
   "cell_type": "code",
   "execution_count": 12,
   "id": "7bfac0a3",
   "metadata": {
    "ExecuteTime": {
     "end_time": "2023-09-28T17:59:31.010994Z",
     "start_time": "2023-09-28T17:59:31.001054Z"
    },
    "execution": {
     "iopub.execute_input": "2024-06-03T03:59:30.750025Z",
     "iopub.status.busy": "2024-06-03T03:59:30.749561Z",
     "iopub.status.idle": "2024-06-03T03:59:30.762175Z",
     "shell.execute_reply": "2024-06-03T03:59:30.761055Z",
     "shell.execute_reply.started": "2024-06-03T03:59:30.749974Z"
    }
   },
   "outputs": [],
   "source": [
    "def simulator(raw_params, brain, noise_sd, prior_bds, freqrange):\n",
    "    params = []\n",
    "    for raw_param, prior_bd in zip(raw_params, prior_bds):\n",
    "        param =  _map_fn_torch(raw_param)*(prior_bd[1]-prior_bd[0]) + prior_bd[0]\n",
    "        params.append(param)\n",
    "    params = torch.tensor(params)\n",
    "    \n",
    "    params_dict = dict()\n",
    "    params_dict[\"tauC\"] =  params[0].item()\n",
    "    params_dict[\"speed\"] =  params[1].item()\n",
    "    params_dict[\"alpha\"] =  params[2].item()\n",
    "    modelFC = build_fc_freq_m(brain , params_dict, freqrange)\n",
    "    modelFC_abs = np.abs(modelFC[:68, :68])\n",
    "    res = _minmax_vec(modelFC_abs[np.triu_indices(68, k = 1)])\n",
    "    \n",
    "    noise =  np.random.randn(*res.shape)*noise_sd\n",
    "    return (res+ noise).flatten()"
   ]
  },
  {
   "cell_type": "code",
   "execution_count": 13,
   "id": "9be63841",
   "metadata": {
    "ExecuteTime": {
     "end_time": "2023-09-28T18:00:25.026304Z",
     "start_time": "2023-09-28T17:59:31.291281Z"
    },
    "execution": {
     "iopub.execute_input": "2024-06-03T03:59:32.735078Z",
     "iopub.status.busy": "2024-06-03T03:59:32.734631Z",
     "iopub.status.idle": "2024-06-03T03:59:33.089824Z",
     "shell.execute_reply": "2024-06-03T03:59:33.089268Z",
     "shell.execute_reply.started": "2024-06-03T03:59:32.735031Z"
    },
    "scrolled": true
   },
   "outputs": [
    {
     "name": "stdout",
     "output_type": "stream",
     "text": [
      "0\n"
     ]
    },
    {
     "ename": "NameError",
     "evalue": "name 'MultivariateNormal' is not defined",
     "output_type": "error",
     "traceback": [
      "\u001b[0;31m---------------------------------------------------------------------------\u001b[0m",
      "\u001b[0;31mNameError\u001b[0m                                 Traceback (most recent call last)",
      "\u001b[0;32m/tmp/ipykernel_8226/875680623.py\u001b[0m in \u001b[0;36m<module>\u001b[0;34m\u001b[0m\n\u001b[1;32m     28\u001b[0m                            \u001b[0mprior_bds\u001b[0m\u001b[0;34m=\u001b[0m\u001b[0mparas\u001b[0m\u001b[0;34m.\u001b[0m\u001b[0mprior_bds\u001b[0m\u001b[0;34m,\u001b[0m\u001b[0;34m\u001b[0m\u001b[0;34m\u001b[0m\u001b[0m\n\u001b[1;32m     29\u001b[0m                            freqrange=paras.freqrange)\n\u001b[0;32m---> 30\u001b[0;31m     \u001b[0mprior\u001b[0m \u001b[0;34m=\u001b[0m \u001b[0m_get_prior\u001b[0m\u001b[0;34m(\u001b[0m\u001b[0mcur_ind_idx\u001b[0m\u001b[0;34m)\u001b[0m\u001b[0;34m\u001b[0m\u001b[0;34m\u001b[0m\u001b[0m\n\u001b[0m\u001b[1;32m     31\u001b[0m     \u001b[0msimulator_wrapper\u001b[0m\u001b[0;34m,\u001b[0m \u001b[0mprior\u001b[0m \u001b[0;34m=\u001b[0m \u001b[0mprepare_for_sbi\u001b[0m\u001b[0;34m(\u001b[0m\u001b[0msimulator_sp\u001b[0m\u001b[0;34m,\u001b[0m \u001b[0mprior\u001b[0m\u001b[0;34m)\u001b[0m\u001b[0;34m\u001b[0m\u001b[0;34m\u001b[0m\u001b[0m\n\u001b[1;32m     32\u001b[0m     \u001b[0minference\u001b[0m \u001b[0;34m=\u001b[0m \u001b[0mSNPE\u001b[0m\u001b[0;34m(\u001b[0m\u001b[0mprior\u001b[0m\u001b[0;34m=\u001b[0m\u001b[0mprior\u001b[0m\u001b[0;34m,\u001b[0m \u001b[0mdensity_estimator\u001b[0m\u001b[0;34m=\u001b[0m\u001b[0mparas\u001b[0m\u001b[0;34m.\u001b[0m\u001b[0mSBI_paras\u001b[0m\u001b[0;34m.\u001b[0m\u001b[0mdensity_model\u001b[0m\u001b[0;34m)\u001b[0m\u001b[0;34m\u001b[0m\u001b[0;34m\u001b[0m\u001b[0m\n",
      "\u001b[0;32m/tmp/ipykernel_8226/668636289.py\u001b[0m in \u001b[0;36m_get_prior\u001b[0;34m(ind_idx)\u001b[0m\n\u001b[1;32m      5\u001b[0m     \u001b[0mann_res\u001b[0m \u001b[0;34m=\u001b[0m \u001b[0mload_pkl\u001b[0m\u001b[0;34m(\u001b[0m\u001b[0mfil\u001b[0m\u001b[0;34m,\u001b[0m \u001b[0mverbose\u001b[0m\u001b[0;34m=\u001b[0m\u001b[0;32mFalse\u001b[0m\u001b[0;34m)\u001b[0m\u001b[0;34m;\u001b[0m\u001b[0;34m\u001b[0m\u001b[0;34m\u001b[0m\u001b[0m\n\u001b[1;32m      6\u001b[0m     \u001b[0mann_res\u001b[0m\u001b[0;34m.\u001b[0m\u001b[0mann_res\u001b[0m\u001b[0;34m.\u001b[0m\u001b[0mx\u001b[0m\u001b[0;34m\u001b[0m\u001b[0;34m\u001b[0m\u001b[0m\n\u001b[0;32m----> 7\u001b[0;31m     prior = MultivariateNormal(loc=torch.Tensor(ann_res.ann_res.x), \n\u001b[0m\u001b[1;32m      8\u001b[0m                            covariance_matrix=torch.eye(3)*(paras.prior_sd**2))\n\u001b[1;32m      9\u001b[0m     \u001b[0;32mreturn\u001b[0m \u001b[0mprior\u001b[0m\u001b[0;34m\u001b[0m\u001b[0;34m\u001b[0m\u001b[0m\n",
      "\u001b[0;31mNameError\u001b[0m: name 'MultivariateNormal' is not defined"
     ]
    }
   ],
   "source": [
    "for cur_ind_idx in range(0, 36):\n",
    "    print(cur_ind_idx)\n",
    "    save_fil = f\"{paras.save_prefix}_SBIxANNBW_{paras.band}_\" +  \\\n",
    "               f\"ep{paras.nepoch}_\" + \\\n",
    "               f\"num{paras.SBI_paras.num_prior_sps}_\" + \\\n",
    "               f\"density{paras.SBI_paras.density_model}_\" + \\\n",
    "               f\"MR{paras.SBI_paras.num_round}_\" + \\\n",
    "               f\"noise_sd{paras.SBI_paras.noise_sd*100:.0f}_\" +\\\n",
    "               f\"addv{paras.add_v*100:.0f}\" +\\\n",
    "               f\"/ind{cur_ind_idx}.pkl\"\n",
    "    if (RES_ROOT/save_fil).exists():\n",
    "        # thanks to the buggy SCS\n",
    "        continue\n",
    "    \n",
    "    \n",
    "    # create spectrome brain:\n",
    "    brain = Brain.Brain()\n",
    "    brain.add_connectome(DATA_ROOT) # grabs distance matrix\n",
    "    # re-ordering for DK atlas and normalizing the connectomes:\n",
    "    brain.reorder_connectome(brain.connectome, brain.distance_matrix)\n",
    "    brain.connectome =  ind_conn[:, :, cur_ind_idx] # re-assign connectome to individual connectome\n",
    "    brain.bi_symmetric_c()\n",
    "    brain.reduce_extreme_dir()\n",
    "    \n",
    "    simulator_sp = partial(simulator, \n",
    "                           brain=brain, \n",
    "                           noise_sd=paras.SBI_paras.noise_sd, \n",
    "                           prior_bds=paras.prior_bds, \n",
    "                           freqrange=paras.freqrange)\n",
    "    prior = _get_prior(cur_ind_idx)\n",
    "    simulator_wrapper, prior = prepare_for_sbi(simulator_sp, prior)\n",
    "    inference = SNPE(prior=prior, density_estimator=paras.SBI_paras.density_model)\n",
    "    proposal = prior \n",
    "    \n",
    "    #the observed data\n",
    "    cur_obs_FC = np.abs(fcs[cur_ind_idx])\n",
    "    curX = torch.Tensor(_minmax_vec(cur_obs_FC[np.triu_indices(68, k = 1)]))\n",
    "    #num_spss = [10000, 10000, 5000]\n",
    "    for ix in range(paras.SBI_paras.num_round):\n",
    "        theta, x = simulate_for_sbi(simulator_wrapper, proposal,\n",
    "                                    num_simulations=int(paras.SBI_paras.num_prior_sps),\n",
    "                                    num_workers=20)\n",
    "        density_estimator = inference.append_simulations(\n",
    "                            theta, x, proposal=proposal\n",
    "                            ).train()\n",
    "        posterior = inference.build_posterior(density_estimator)\n",
    "        \n",
    "        proposal = posterior.set_default_x(curX)\n",
    "    \n",
    "    save_pkl(RES_ROOT/save_fil, proposal)"
   ]
  },
  {
   "cell_type": "code",
   "execution_count": null,
   "id": "ecbba8a3",
   "metadata": {},
   "outputs": [],
   "source": []
  },
  {
   "cell_type": "code",
   "execution_count": null,
   "id": "0241760f",
   "metadata": {},
   "outputs": [],
   "source": []
  }
 ],
 "metadata": {
  "kernelspec": {
   "display_name": "Python 3 (ipykernel)",
   "language": "python",
   "name": "python3"
  },
  "language_info": {
   "codemirror_mode": {
    "name": "ipython",
    "version": 3
   },
   "file_extension": ".py",
   "mimetype": "text/x-python",
   "name": "python",
   "nbconvert_exporter": "python",
   "pygments_lexer": "ipython3",
   "version": "3.9.19"
  },
  "toc": {
   "base_numbering": 1,
   "nav_menu": {},
   "number_sections": true,
   "sideBar": true,
   "skip_h1_title": false,
   "title_cell": "Table of Contents",
   "title_sidebar": "Contents",
   "toc_cell": false,
   "toc_position": {
    "height": "calc(100% - 180px)",
    "left": "10px",
    "top": "150px",
    "width": "204.594px"
   },
   "toc_section_display": true,
   "toc_window_display": true
  }
 },
 "nbformat": 4,
 "nbformat_minor": 5
}
