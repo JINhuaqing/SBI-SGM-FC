{
 "cells": [
  {
   "cell_type": "markdown",
   "id": "d5b443df-6bef-4f5d-94f7-be740000f034",
   "metadata": {},
   "source": [
    "# "
   ]
  },
  {
   "cell_type": "code",
   "execution_count": 1,
   "id": "7e19d4f6-a7e9-4632-88b8-23e4c9157221",
   "metadata": {
    "execution": {
     "iopub.execute_input": "2024-06-04T19:41:15.933727Z",
     "iopub.status.busy": "2024-06-04T19:41:15.933140Z",
     "iopub.status.idle": "2024-06-04T19:41:16.523305Z",
     "shell.execute_reply": "2024-06-04T19:41:16.521742Z",
     "shell.execute_reply.started": "2024-06-04T19:41:15.933672Z"
    }
   },
   "outputs": [],
   "source": [
    "import sys\n",
    "sys.path.append(\"./mypkg\")\n",
    "from constants import RES_ROOT, FIG_ROOT, DATA_ROOT"
   ]
  },
  {
   "cell_type": "code",
   "execution_count": 2,
   "id": "c0da8e35",
   "metadata": {},
   "outputs": [],
   "source": [
    "%load_ext autoreload\n",
    "%autoreload 2\n",
    "# 0,1, 2, 3, be careful about the space"
   ]
  },
  {
   "cell_type": "code",
   "execution_count": 3,
   "id": "196772d6",
   "metadata": {},
   "outputs": [],
   "source": [
    "from sphere_utils import find_minimal_sum_point, generate_spins, get_mid_pts, trans_spins"
   ]
  },
  {
   "cell_type": "code",
   "execution_count": 4,
   "id": "85a39ad8-418b-4a14-9658-6a126cfedee5",
   "metadata": {
    "execution": {
     "iopub.execute_input": "2024-06-04T19:41:27.889647Z",
     "iopub.status.busy": "2024-06-04T19:41:27.888926Z",
     "iopub.status.idle": "2024-06-04T19:41:34.086166Z",
     "shell.execute_reply": "2024-06-04T19:41:34.084430Z",
     "shell.execute_reply.started": "2024-06-04T19:41:27.889594Z"
    }
   },
   "outputs": [],
   "source": [
    "import numpy as np\n",
    "import scipy\n",
    "import matplotlib.pyplot as plt\n",
    "import seaborn as sns\n",
    "\n",
    "%matplotlib inline\n",
    "plt.style.use(FIG_ROOT/\"base.mplstyle\")"
   ]
  },
  {
   "cell_type": "code",
   "execution_count": 5,
   "id": "e3375c39-74f1-4e6e-87c2-fd495ccb18ab",
   "metadata": {
    "execution": {
     "iopub.execute_input": "2024-06-04T19:50:03.431954Z",
     "iopub.status.busy": "2024-06-04T19:50:03.431322Z",
     "iopub.status.idle": "2024-06-04T19:50:03.484245Z",
     "shell.execute_reply": "2024-06-04T19:50:03.482924Z",
     "shell.execute_reply.started": "2024-06-04T19:50:03.431887Z"
    }
   },
   "outputs": [],
   "source": [
    "import nibabel as nib\n",
    "import numpy as np\n",
    "\n",
    "# load data \n",
    "# left\n",
    "surface = nib.freesurfer.read_geometry(DATA_ROOT/'fs_data/lh.pial')\n",
    "sphere = nib.freesurfer.read_geometry(DATA_ROOT/'fs_data/lh.sphere')\n",
    "lh_vers= surface[0]  \n",
    "lh_faces = surface[1];  \n",
    "lh_vers_sph = sphere[0];\n",
    "lh_labs = nib.freesurfer.read_annot(DATA_ROOT/'fs_data/lh.aparc.annot');\n",
    "\n",
    "# right \n",
    "surface = nib.freesurfer.read_geometry(DATA_ROOT/'fs_data/rh.pial')\n",
    "sphere = nib.freesurfer.read_geometry(DATA_ROOT/'fs_data/rh.sphere')\n",
    "rh_vers= surface[0]  \n",
    "rh_faces = surface[1];  \n",
    "rh_vers_sph = sphere[0];\n",
    "rh_labs = nib.freesurfer.read_annot(DATA_ROOT/'fs_data/rh.aparc.annot');\n",
    "\n",
    "\n",
    "# the order of my ROI\n",
    "my_roi_labs = np.loadtxt(DATA_ROOT/\"rois_order.txt\", dtype=str);"
   ]
  },
  {
   "cell_type": "code",
   "execution_count": 6,
   "id": "ccb03f4d",
   "metadata": {},
   "outputs": [],
   "source": [
    "rh_mid_pts = get_mid_pts(rh_vers_sph, rh_labs[0]);\n",
    "lh_mid_pts = get_mid_pts(lh_vers_sph, lh_labs[0]);"
   ]
  },
  {
   "cell_type": "code",
   "execution_count": 7,
   "id": "a134b115",
   "metadata": {},
   "outputs": [],
   "source": [
    "lh_my_labs = np.array([ix.split(\"_L\")[0].lower() for ix in my_roi_labs[:34]]);\n",
    "lh_sph_labs = np.array([ix.decode('ascii') for ix in lh_labs[-1]]);\n",
    "rh_my_labs = np.array([ix.split(\"_R\")[0].lower() for ix in my_roi_labs[34:]]);\n",
    "rh_sph_labs = np.array([ix.decode('ascii') for ix in rh_labs[-1]]);"
   ]
  },
  {
   "cell_type": "code",
   "execution_count": 8,
   "id": "e409e7be",
   "metadata": {},
   "outputs": [],
   "source": [
    "spins = generate_spins(points_lh=lh_mid_pts, \n",
    "                       points_rh=rh_mid_pts, \n",
    "                       unique=True, \n",
    "                       n_rep=90);"
   ]
  },
  {
   "cell_type": "code",
   "execution_count": 9,
   "id": "87982f45",
   "metadata": {},
   "outputs": [
    {
     "data": {
      "text/plain": [
       "array([[ 6., 30., 22., ..., 62., 34., 66.],\n",
       "       [ 6., 17., 27., ..., 62., 65., 38.],\n",
       "       [20.,  7., 26., ..., 40., 39., 43.],\n",
       "       ...,\n",
       "       [ 4.,  2.,  9., ..., 53., 46., 35.],\n",
       "       [28., 14., 24., ..., 50., 36., 59.],\n",
       "       [31., 32., 20., ..., 39., 42., 53.]])"
      ]
     },
     "execution_count": 9,
     "metadata": {},
     "output_type": "execute_result"
    }
   ],
   "source": [
    "spins_lh = trans_spins(spins[\"lh\"], lh_sph_labs, lh_my_labs);\n",
    "spins_rh = trans_spins(spins[\"rh\"], rh_sph_labs, rh_my_labs);\n",
    "spins_full = np.concatenate([spins_lh, spins_rh+34], axis=-1)"
   ]
  },
  {
   "cell_type": "code",
   "execution_count": null,
   "id": "18c039e2",
   "metadata": {},
   "outputs": [],
   "source": []
  }
 ],
 "metadata": {
  "kernelspec": {
   "display_name": "Python 3 (ipykernel)",
   "language": "python",
   "name": "python3"
  },
  "language_info": {
   "codemirror_mode": {
    "name": "ipython",
    "version": 3
   },
   "file_extension": ".py",
   "mimetype": "text/x-python",
   "name": "python",
   "nbconvert_exporter": "python",
   "pygments_lexer": "ipython3",
   "version": "3.9.19"
  }
 },
 "nbformat": 4,
 "nbformat_minor": 5
}
