{
 "cells": [
  {
   "cell_type": "markdown",
   "id": "089a43ab",
   "metadata": {},
   "source": [
    "RUN SBI-SGM in alpha, new bounds, new SGM, only three parameters needed\n",
    "\n",
    "parameters order is  :tauG,speed,alpha (In second)\n",
    "\n",
    "And now, I construct prior from the results with Annealing\n"
   ]
  },
  {
   "cell_type": "markdown",
   "id": "15b93230",
   "metadata": {},
   "source": [
    "## Import some pkgs"
   ]
  },
  {
   "cell_type": "code",
   "execution_count": 2,
   "id": "a5c4bef0",
   "metadata": {
    "ExecuteTime": {
     "end_time": "2024-06-03T04:03:36.378931Z",
     "start_time": "2024-06-03T04:03:34.288625Z"
    },
    "execution": {
     "iopub.execute_input": "2024-06-04T18:12:14.917202Z",
     "iopub.status.busy": "2024-06-04T18:12:14.916549Z",
     "iopub.status.idle": "2024-06-04T18:12:15.673567Z",
     "shell.execute_reply": "2024-06-04T18:12:15.672245Z",
     "shell.execute_reply.started": "2024-06-04T18:12:14.917158Z"
    },
    "tags": []
   },
   "outputs": [],
   "source": [
    "import sys\n",
    "sys.path.append(\"../../mypkg\")\n",
    "\n",
    "import scipy\n",
    "import itertools\n",
    "\n",
    "import numpy as np\n",
    "import xarray as xr\n",
    "import matplotlib.pyplot as plt\n",
    "import seaborn as sns\n",
    "\n",
    "from tqdm import trange\n",
    "from scipy.io import loadmat\n",
    "from functools import partial\n",
    "from easydict import EasyDict as edict\n",
    "import netCDF4\n",
    "import h5netcdf"
   ]
  },
  {
   "cell_type": "code",
   "execution_count": 3,
   "id": "129d24a5",
   "metadata": {
    "ExecuteTime": {
     "end_time": "2024-06-03T04:03:38.062179Z",
     "start_time": "2024-06-03T04:03:36.380914Z"
    },
    "execution": {
     "iopub.execute_input": "2024-06-04T18:12:16.704458Z",
     "iopub.status.busy": "2024-06-04T18:12:16.703543Z",
     "iopub.status.idle": "2024-06-04T18:12:24.654091Z",
     "shell.execute_reply": "2024-06-04T18:12:24.652676Z",
     "shell.execute_reply.started": "2024-06-04T18:12:16.704406Z"
    },
    "tags": []
   },
   "outputs": [],
   "source": [
    "# SBI and torch\n",
    "from sbi.inference.base import infer\n",
    "from sbi.inference import SNPE, prepare_for_sbi, simulate_for_sbi\n",
    "from sbi import analysis\n",
    "from sbi.utils.get_nn_models import posterior_nn\n",
    "from sbi import utils as sutils\n",
    "\n",
    "import torch.nn as nn\n",
    "import torch.nn.functional as F\n",
    "import torch\n",
    "from torch.distributions.multivariate_normal import MultivariateNormal"
   ]
  },
  {
   "cell_type": "code",
   "execution_count": 4,
   "id": "acae8af0-87ad-453b-bf6d-9ca24898baed",
   "metadata": {
    "execution": {
     "iopub.execute_input": "2024-06-04T18:12:25.356679Z",
     "iopub.status.busy": "2024-06-04T18:12:25.355773Z",
     "iopub.status.idle": "2024-06-04T18:12:25.514898Z",
     "shell.execute_reply": "2024-06-04T18:12:25.514311Z",
     "shell.execute_reply.started": "2024-06-04T18:12:25.356629Z"
    }
   },
   "outputs": [],
   "source": [
    "%load_ext autoreload\n",
    "%autoreload 2\n",
    "# 0,1, 2, 3, be careful about the space"
   ]
  },
  {
   "cell_type": "code",
   "execution_count": 5,
   "id": "513f09d5",
   "metadata": {
    "ExecuteTime": {
     "end_time": "2024-06-03T04:03:38.117195Z",
     "start_time": "2024-06-03T04:03:38.063300Z"
    },
    "execution": {
     "iopub.execute_input": "2024-06-04T18:12:26.378969Z",
     "iopub.status.busy": "2024-06-04T18:12:26.378308Z",
     "iopub.status.idle": "2024-06-04T18:12:26.559854Z",
     "shell.execute_reply": "2024-06-04T18:12:26.558669Z",
     "shell.execute_reply.started": "2024-06-04T18:12:26.378924Z"
    },
    "tags": []
   },
   "outputs": [],
   "source": [
    "# my own fns\n",
    "from brain import Brain\n",
    "from FC_utils import build_fc_freq_m\n",
    "from constants import RES_ROOT, DATA_ROOT\n",
    "from utils.misc import load_pkl, save_pkl\n",
    "from utils.reparam import theta_raw_2out, logistic_np, logistic_torch"
   ]
  },
  {
   "cell_type": "code",
   "execution_count": null,
   "id": "d5b87c78",
   "metadata": {
    "ExecuteTime": {
     "end_time": "2022-11-08T00:03:09.655902Z",
     "start_time": "2022-11-08T00:03:09.466344Z"
    }
   },
   "outputs": [],
   "source": []
  },
  {
   "cell_type": "markdown",
   "id": "820f27bd",
   "metadata": {},
   "source": [
    "## Some fns"
   ]
  },
  {
   "cell_type": "code",
   "execution_count": 6,
   "id": "81762f84",
   "metadata": {
    "ExecuteTime": {
     "end_time": "2024-06-03T04:03:38.131008Z",
     "start_time": "2024-06-03T04:03:38.120728Z"
    },
    "execution": {
     "iopub.execute_input": "2024-06-04T18:12:27.349377Z",
     "iopub.status.busy": "2024-06-04T18:12:27.348824Z",
     "iopub.status.idle": "2024-06-04T18:12:27.502783Z",
     "shell.execute_reply": "2024-06-04T18:12:27.502231Z",
     "shell.execute_reply.started": "2024-06-04T18:12:27.349335Z"
    },
    "tags": []
   },
   "outputs": [
    {
     "data": {
      "text/plain": [
       "<function __main__.<lambda>(x)>"
      ]
     },
     "execution_count": 6,
     "metadata": {},
     "output_type": "execute_result"
    }
   ],
   "source": [
    "_minmax_vec = lambda x: (x-np.min(x))/(np.max(x)-np.min(x))"
   ]
  },
  {
   "cell_type": "code",
   "execution_count": 7,
   "id": "9daeac1d",
   "metadata": {
    "ExecuteTime": {
     "end_time": "2024-06-03T04:03:38.158426Z",
     "start_time": "2024-06-03T04:03:38.133533Z"
    },
    "execution": {
     "iopub.execute_input": "2024-06-04T18:12:27.692851Z",
     "iopub.status.busy": "2024-06-04T18:12:27.692252Z",
     "iopub.status.idle": "2024-06-04T18:12:27.775870Z",
     "shell.execute_reply": "2024-06-04T18:12:27.775142Z",
     "shell.execute_reply.started": "2024-06-04T18:12:27.692809Z"
    },
    "tags": []
   },
   "outputs": [],
   "source": [
    "# transfer vec to a sym mat\n",
    "def vec_2mat(vec):\n",
    "    mat = np.zeros((68, 68))\n",
    "    mat[np.triu_indices(68, k = 1)] = vec\n",
    "    mat = mat + mat.T\n",
    "    return mat"
   ]
  },
  {
   "cell_type": "code",
   "execution_count": null,
   "id": "c2112ea2",
   "metadata": {},
   "outputs": [],
   "source": []
  },
  {
   "cell_type": "markdown",
   "id": "12bd0463",
   "metadata": {},
   "source": [
    "### Some parameters"
   ]
  },
  {
   "cell_type": "code",
   "execution_count": 8,
   "id": "5da1fc37",
   "metadata": {
    "ExecuteTime": {
     "end_time": "2024-06-03T04:03:38.451436Z",
     "start_time": "2024-06-03T04:03:38.160874Z"
    },
    "execution": {
     "iopub.execute_input": "2024-06-04T18:12:29.556958Z",
     "iopub.status.busy": "2024-06-04T18:12:29.556246Z",
     "iopub.status.idle": "2024-06-04T18:12:30.051840Z",
     "shell.execute_reply": "2024-06-04T18:12:30.050312Z",
     "shell.execute_reply.started": "2024-06-04T18:12:29.556912Z"
    },
    "tags": []
   },
   "outputs": [],
   "source": [
    "# SC\n",
    "ind_conn_xr = xr.open_dataarray(DATA_ROOT/'individual_connectomes_reordered.nc')\n",
    "ind_conn = ind_conn_xr.values\n",
    "\n",
    "# PSD\n",
    "ind_psd_xr = xr.open_dataarray(DATA_ROOT/'individual_psd_reordered_matlab.nc')\n",
    "ind_psd = ind_psd_xr.values\n",
    "fvec = ind_psd_xr[\"frequencies\"].values;"
   ]
  },
  {
   "cell_type": "code",
   "execution_count": 9,
   "id": "c034879f",
   "metadata": {
    "ExecuteTime": {
     "end_time": "2024-06-03T04:03:38.460158Z",
     "start_time": "2024-06-03T04:03:38.454331Z"
    },
    "execution": {
     "iopub.execute_input": "2024-06-04T18:12:31.749480Z",
     "iopub.status.busy": "2024-06-04T18:12:31.748736Z",
     "iopub.status.idle": "2024-06-04T18:12:31.827138Z",
     "shell.execute_reply": "2024-06-04T18:12:31.826350Z",
     "shell.execute_reply.started": "2024-06-04T18:12:31.749434Z"
    },
    "tags": []
   },
   "outputs": [],
   "source": [
    "_paras = edict()\n",
    "_paras.delta = [2, 3.5]\n",
    "_paras.theta = [4, 7]\n",
    "_paras.alpha = [8, 12]\n",
    "_paras.beta_l = [13, 20]"
   ]
  },
  {
   "cell_type": "code",
   "execution_count": 10,
   "id": "74f883ac",
   "metadata": {
    "ExecuteTime": {
     "end_time": "2024-06-03T04:03:38.813957Z",
     "start_time": "2024-06-03T04:03:38.800546Z"
    },
    "execution": {
     "iopub.execute_input": "2024-06-04T18:12:34.410530Z",
     "iopub.status.busy": "2024-06-04T18:12:34.409817Z",
     "iopub.status.idle": "2024-06-04T18:12:35.544487Z",
     "shell.execute_reply": "2024-06-04T18:12:35.542980Z",
     "shell.execute_reply.started": "2024-06-04T18:12:34.410485Z"
    }
   },
   "outputs": [
    {
     "name": "stdout",
     "output_type": "stream",
     "text": [
      "[ 8.  9. 10. 11. 12.]\n"
     ]
    }
   ],
   "source": [
    "paras = edict()\n",
    "\n",
    "paras.band = \"alpha\" \n",
    "paras.nepoch = 100\n",
    "paras.save_prefix = \"rawfc2\"\n",
    "paras.freqrange =  np.linspace(_paras[paras.band][0], _paras[paras.band][1], 5)\n",
    "print(paras.freqrange)\n",
    "paras.fs = 600\n",
    "paras.num_nodes = 86 # Number of cortical (68) + subcortical nodes\n",
    "#paras.par_low = np.asarray([0.005,0.005,0.005,5, 0.1,0.001,0.001])\n",
    "#paras.par_high = np.asarray([0.03, 0.20, 0.03,20,  1,    2,  0.7])\n",
    "#paras.names = [\"Taue\", \"Taui\", \"TauC\", \"Speed\", \"alpha\", \"gii\", \"gei\"]\n",
    "paras.par_low = np.asarray([0.005, 5, 0.1])\n",
    "paras.par_high = np.asarray([0.03, 20, 1])\n",
    "paras.names = [\"TauC\", \"Speed\", \"alpha\"]\n",
    "paras.prior_bds = np.array([paras.par_low, paras.par_high]).T\n",
    "paras.prior_sd = 1\n",
    "paras.add_v = 0.01\n",
    "paras.k = 1\n",
    "\n",
    "paras.SBI_paras = edict()\n",
    "paras.SBI_paras.noise_sd = 0.4\n",
    "paras.SBI_paras.num_prior_sps = int(1e3)\n",
    "paras.SBI_paras.density_model = \"nsf\"\n",
    "paras.SBI_paras.num_round = 1 # 3"
   ]
  },
  {
   "cell_type": "code",
   "execution_count": 11,
   "id": "1f4c00a6",
   "metadata": {
    "ExecuteTime": {
     "end_time": "2024-06-03T04:03:40.169289Z",
     "start_time": "2024-06-03T04:03:40.163294Z"
    },
    "execution": {
     "iopub.execute_input": "2024-06-04T18:12:41.543352Z",
     "iopub.status.busy": "2024-06-04T18:12:41.542628Z",
     "iopub.status.idle": "2024-06-04T18:12:41.673402Z",
     "shell.execute_reply": "2024-06-04T18:12:41.672322Z",
     "shell.execute_reply.started": "2024-06-04T18:12:41.543304Z"
    }
   },
   "outputs": [],
   "source": [
    "# fn for reparemetering\n",
    "_map_fn_torch = partial(logistic_torch, k=paras.k)\n",
    "_theta_raw_2out = partial(theta_raw_2out, map_fn=partial(logistic_np, k=paras.k), prior_bds=paras.prior_bds);"
   ]
  },
  {
   "cell_type": "code",
   "execution_count": null,
   "id": "d66040ab",
   "metadata": {},
   "outputs": [],
   "source": []
  },
  {
   "cell_type": "markdown",
   "id": "cc57cec6",
   "metadata": {},
   "source": [
    "### Load the data"
   ]
  },
  {
   "cell_type": "code",
   "execution_count": 12,
   "id": "ee5a4fc9",
   "metadata": {
    "ExecuteTime": {
     "end_time": "2024-06-03T04:03:43.380185Z",
     "start_time": "2024-06-03T04:03:43.347154Z"
    },
    "execution": {
     "iopub.execute_input": "2024-06-04T18:12:43.471882Z",
     "iopub.status.busy": "2024-06-04T18:12:43.471203Z",
     "iopub.status.idle": "2024-06-04T18:12:45.702623Z",
     "shell.execute_reply": "2024-06-04T18:12:45.701940Z",
     "shell.execute_reply.started": "2024-06-04T18:12:43.471836Z"
    }
   },
   "outputs": [
    {
     "name": "stdout",
     "output_type": "stream",
     "text": [
      "Add 0.01 on diag\n"
     ]
    }
   ],
   "source": [
    "\n",
    "def _add_v2con(cur_ind_conn):\n",
    "    cur_ind_conn = cur_ind_conn.copy()\n",
    "    add_v = np.quantile(cur_ind_conn, 0.99)*paras.add_v # tuning 0.1\n",
    "    np.fill_diagonal(cur_ind_conn[:34, 34:68], np.diag(cur_ind_conn[:34, 34:68]) + add_v)\n",
    "    np.fill_diagonal(cur_ind_conn[34:68, :34], np.diag(cur_ind_conn[34:68, :34]) + add_v)\n",
    "    np.fill_diagonal(cur_ind_conn[68:77, 77:], np.diag(cur_ind_conn[68:77, 77:]) + add_v)\n",
    "    np.fill_diagonal(cur_ind_conn[77:, 68:77], np.diag(cur_ind_conn[77:, 68:77]) + add_v)\n",
    "    return cur_ind_conn\n",
    "\n",
    "if paras.add_v != 0:\n",
    "    print(f\"Add {paras.add_v} on diag\")\n",
    "    ind_conn_adds = [_add_v2con(ind_conn[:, :, ix]) for ix in range(36)]\n",
    "    ind_conn = np.transpose(np.array(ind_conn_adds), (1, 2, 0))"
   ]
  },
  {
   "cell_type": "code",
   "execution_count": 13,
   "id": "87f1aaad",
   "metadata": {
    "ExecuteTime": {
     "end_time": "2024-06-03T04:03:45.287941Z",
     "start_time": "2024-06-03T04:03:43.832217Z"
    },
    "execution": {
     "iopub.execute_input": "2024-06-04T18:12:45.704257Z",
     "iopub.status.busy": "2024-06-04T18:12:45.704018Z",
     "iopub.status.idle": "2024-06-04T18:12:47.263660Z",
     "shell.execute_reply": "2024-06-04T18:12:47.262134Z",
     "shell.execute_reply.started": "2024-06-04T18:12:45.704241Z"
    }
   },
   "outputs": [],
   "source": [
    "# em FC\n",
    "fc_root = RES_ROOT/\"emp_fcs2\"\n",
    "def _get_fc(sub_ix, bd):\n",
    "    fil = list(fc_root.rglob(f\"*{paras.band}*{paras.nepoch}/sub{sub_ix}.pkl\"))[0]\n",
    "    return load_pkl(fil, verbose=False)\n",
    "\n",
    "fcs = np.array([_get_fc(sub_ix, paras.band) for sub_ix in range(36)]);"
   ]
  },
  {
   "cell_type": "code",
   "execution_count": null,
   "id": "34f677b5",
   "metadata": {},
   "outputs": [],
   "source": []
  },
  {
   "cell_type": "markdown",
   "id": "4bc952d0",
   "metadata": {},
   "source": [
    "## SBI"
   ]
  },
  {
   "cell_type": "markdown",
   "id": "83c38c13",
   "metadata": {},
   "source": [
    "### Prior"
   ]
  },
  {
   "cell_type": "code",
   "execution_count": 32,
   "id": "ce9f1612",
   "metadata": {
    "ExecuteTime": {
     "end_time": "2024-06-03T04:03:51.237908Z",
     "start_time": "2024-06-03T04:03:51.230401Z"
    },
    "execution": {
     "iopub.execute_input": "2024-06-04T18:29:43.858644Z",
     "iopub.status.busy": "2024-06-04T18:29:43.858050Z",
     "iopub.status.idle": "2024-06-04T18:29:48.503113Z",
     "shell.execute_reply": "2024-06-04T18:29:48.501540Z",
     "shell.execute_reply.started": "2024-06-04T18:29:43.858603Z"
    }
   },
   "outputs": [],
   "source": [
    "# get the informative prior\n",
    "def _get_proposal(ind_idx):\n",
    "    fil = list(RES_ROOT.glob(f\"rawfc2_ANN_{paras.band}_ep{paras.nepoch}\"\n",
    "                             f\"_addv{paras.add_v*100:.0f}/ind{ind_idx}.pkl\"))[0];\n",
    "    ann_res = load_pkl(fil, verbose=False);\n",
    "    ann_res.ann_res.x\n",
    "    prior = MultivariateNormal(loc=torch.Tensor(ann_res.ann_res.x), \n",
    "                           covariance_matrix=torch.eye(3)*(paras.prior_sd**2))\n",
    "    return prior"
   ]
  },
  {
   "cell_type": "code",
   "execution_count": 33,
   "id": "7bfac0a3",
   "metadata": {
    "ExecuteTime": {
     "end_time": "2024-06-03T04:03:53.156420Z",
     "start_time": "2024-06-03T04:03:53.145341Z"
    },
    "execution": {
     "iopub.execute_input": "2024-06-04T18:29:51.834404Z",
     "iopub.status.busy": "2024-06-04T18:29:51.833791Z",
     "iopub.status.idle": "2024-06-04T18:29:51.924608Z",
     "shell.execute_reply": "2024-06-04T18:29:51.923976Z",
     "shell.execute_reply.started": "2024-06-04T18:29:51.834362Z"
    }
   },
   "outputs": [],
   "source": [
    "def simulator(raw_params, brain, noise_sd, prior_bds, freqrange):\n",
    "    params = []\n",
    "    for raw_param, prior_bd in zip(raw_params, prior_bds):\n",
    "        param =  _map_fn_torch(raw_param)*(prior_bd[1]-prior_bd[0]) + prior_bd[0]\n",
    "        params.append(param)\n",
    "    params = torch.tensor(params)\n",
    "    \n",
    "    params_dict = dict()\n",
    "    params_dict[\"tauC\"] =  params[0].item()\n",
    "    params_dict[\"speed\"] =  params[1].item()\n",
    "    params_dict[\"alpha\"] =  params[2].item()\n",
    "    modelFC = build_fc_freq_m(brain , params_dict, freqrange)\n",
    "    modelFC_abs = np.abs(modelFC[:68, :68])\n",
    "    res = _minmax_vec(modelFC_abs[np.triu_indices(68, k = 1)])\n",
    "    \n",
    "    noise =  np.random.randn(*res.shape)*noise_sd\n",
    "    return (res+ noise).flatten()"
   ]
  },
  {
   "cell_type": "code",
   "execution_count": 57,
   "id": "bca2be46-a75b-47f9-a800-c0bf75d61d15",
   "metadata": {
    "execution": {
     "iopub.execute_input": "2024-06-04T18:42:18.945298Z",
     "iopub.status.busy": "2024-06-04T18:42:18.944687Z",
     "iopub.status.idle": "2024-06-04T18:42:23.619039Z",
     "shell.execute_reply": "2024-06-04T18:42:23.617484Z",
     "shell.execute_reply.started": "2024-06-04T18:42:18.945253Z"
    }
   },
   "outputs": [],
   "source": [
    "# get the informative prior\n",
    "def _get_proposal(ind_idx):\n",
    "    fil = list(RES_ROOT.glob(f\"rawfc2_ANN_{paras.band}_ep{paras.nepoch}\"\n",
    "                             f\"_addv{paras.add_v*100:.0f}/ind{ind_idx}.pkl\"))[0];\n",
    "    ann_res = load_pkl(fil, verbose=False);\n",
    "    ann_res.ann_res.x\n",
    "    prior = MultivariateNormal(loc=torch.Tensor(ann_res.ann_res.x), \n",
    "                           covariance_matrix=torch.eye(3)*100)\n",
    "    return prior"
   ]
  },
  {
   "cell_type": "code",
   "execution_count": 59,
   "id": "37fa4ec0-742c-4b89-93ac-13ae3eee61dc",
   "metadata": {
    "execution": {
     "iopub.execute_input": "2024-06-04T18:43:06.679090Z",
     "iopub.status.busy": "2024-06-04T18:43:06.678434Z",
     "iopub.status.idle": "2024-06-04T18:43:54.070307Z",
     "shell.execute_reply": "2024-06-04T18:43:54.069682Z",
     "shell.execute_reply.started": "2024-06-04T18:43:06.679039Z"
    }
   },
   "outputs": [
    {
     "data": {
      "application/vnd.jupyter.widget-view+json": {
       "model_id": "3fa38cf1b733446aa2583f2f91462ff2",
       "version_major": 2,
       "version_minor": 0
      },
      "text/plain": [
       "Running 1000 simulations in 1000 batches.:   0%|          | 0/1000 [00:00<?, ?it/s]"
      ]
     },
     "metadata": {},
     "output_type": "display_data"
    },
    {
     "name": "stdout",
     "output_type": "stream",
     "text": [
      " Neural network successfully converged after 24 epochs.[0]\n"
     ]
    }
   ],
   "source": [
    "    cur_ind_idx = 1\n",
    "    \n",
    "    # create spectrome brain:\n",
    "    brain = Brain.Brain()\n",
    "    brain.add_connectome(DATA_ROOT) # grabs distance matrix\n",
    "    # re-ordering for DK atlas and normalizing the connectomes:\n",
    "    brain.reorder_connectome(brain.connectome, brain.distance_matrix)\n",
    "    brain.connectome =  ind_conn[:, :, cur_ind_idx] # re-assign connectome to individual connectome\n",
    "    brain.bi_symmetric_c()\n",
    "    brain.reduce_extreme_dir()\n",
    "    \n",
    "    simulator_sp = partial(simulator, \n",
    "                           brain=brain, \n",
    "                           noise_sd=paras.SBI_paras.noise_sd, \n",
    "                           prior_bds=paras.prior_bds, \n",
    "                           freqrange=paras.freqrange)\n",
    "    prior = _get_proposal(cur_ind_idx)\n",
    "    simulator_wrapper, prior = prepare_for_sbi(simulator_sp, prior)\n",
    "    inference = SNPE(prior=prior, density_estimator=paras.SBI_paras.density_model)\n",
    "    proposal = prior \n",
    "    \n",
    "    #the observed data\n",
    "    cur_obs_FC = np.abs(fcs[cur_ind_idx])\n",
    "    curX = torch.Tensor(_minmax_vec(cur_obs_FC[np.triu_indices(68, k = 1)]))\n",
    "    #num_spss = [10000, 10000, 5000]\n",
    "    for ix in range(paras.SBI_paras.num_round):\n",
    "        theta, x = simulate_for_sbi(simulator_wrapper, proposal,\n",
    "                                    num_simulations=int(paras.SBI_paras.num_prior_sps),\n",
    "                                    num_workers=5)\n",
    "        density_estimator = inference.append_simulations(\n",
    "                            theta, x, proposal=proposal\n",
    "                            ).train()\n",
    "        print(inference._data_round_index)\n",
    "        posterior = inference.build_posterior(density_estimator)\n",
    "        \n",
    "        proposal = posterior.set_default_x(curX)"
   ]
  },
  {
   "cell_type": "code",
   "execution_count": 61,
   "id": "5791aba1-fcb2-4446-ba79-d98374089e76",
   "metadata": {
    "execution": {
     "iopub.execute_input": "2024-06-04T18:46:21.838392Z",
     "iopub.status.busy": "2024-06-04T18:46:21.837872Z",
     "iopub.status.idle": "2024-06-04T18:46:21.973301Z",
     "shell.execute_reply": "2024-06-04T18:46:21.972849Z",
     "shell.execute_reply.started": "2024-06-04T18:46:21.838350Z"
    }
   },
   "outputs": [
    {
     "data": {
      "application/vnd.jupyter.widget-view+json": {
       "model_id": "380c44b9e62243f4bd04c623a83b4240",
       "version_major": 2,
       "version_minor": 0
      },
      "text/plain": [
       "Drawing 1000 posterior samples:   0%|          | 0/1000 [00:00<?, ?it/s]"
      ]
     },
     "metadata": {},
     "output_type": "display_data"
    }
   ],
   "source": [
    "sps = proposal.sample((1000, ));"
   ]
  },
  {
   "cell_type": "code",
   "execution_count": 62,
   "id": "d18ae45d-830a-4722-937c-6670898de6b3",
   "metadata": {
    "execution": {
     "iopub.execute_input": "2024-06-04T18:46:22.865312Z",
     "iopub.status.busy": "2024-06-04T18:46:22.864540Z",
     "iopub.status.idle": "2024-06-04T18:46:22.954697Z",
     "shell.execute_reply": "2024-06-04T18:46:22.954011Z",
     "shell.execute_reply.started": "2024-06-04T18:46:22.865265Z"
    }
   },
   "outputs": [],
   "source": [
    "prior_bds = paras.prior_bds[None, :, :]\n",
    "tmp = _map_fn_torch(sps) *(prior_bds[:, :, 1]-prior_bds[:, :, 0]) + prior_bds[:, :, 0];"
   ]
  },
  {
   "cell_type": "code",
   "execution_count": 63,
   "id": "06e0da7f-8b44-4988-8754-a8d9a8269bdb",
   "metadata": {
    "execution": {
     "iopub.execute_input": "2024-06-04T18:46:23.614301Z",
     "iopub.status.busy": "2024-06-04T18:46:23.613591Z",
     "iopub.status.idle": "2024-06-04T18:46:23.701414Z",
     "shell.execute_reply": "2024-06-04T18:46:23.700871Z",
     "shell.execute_reply.started": "2024-06-04T18:46:23.614256Z"
    }
   },
   "outputs": [
    {
     "data": {
      "text/plain": [
       "tensor([7.0592e-03, 1.4012e+01, 8.5921e-01], dtype=torch.float64)"
      ]
     },
     "execution_count": 63,
     "metadata": {},
     "output_type": "execute_result"
    }
   ],
   "source": [
    "tmp.mean(axis=0)"
   ]
  },
  {
   "cell_type": "code",
   "execution_count": null,
   "id": "2b83eb66-9450-41df-9cac-f153fd3e109b",
   "metadata": {},
   "outputs": [],
   "source": []
  },
  {
   "cell_type": "code",
   "execution_count": 26,
   "id": "9be63841",
   "metadata": {
    "ExecuteTime": {
     "end_time": "2024-06-03T04:45:45.317956Z",
     "start_time": "2024-06-03T04:45:45.259219Z"
    },
    "execution": {
     "iopub.execute_input": "2024-06-03T03:59:32.735078Z",
     "iopub.status.busy": "2024-06-03T03:59:32.734631Z",
     "iopub.status.idle": "2024-06-03T03:59:33.089824Z",
     "shell.execute_reply": "2024-06-03T03:59:33.089268Z",
     "shell.execute_reply.started": "2024-06-03T03:59:32.735031Z"
    },
    "scrolled": true
   },
   "outputs": [
    {
     "name": "stdout",
     "output_type": "stream",
     "text": [
      "0\n"
     ]
    },
    {
     "ename": "NameError",
     "evalue": "name '_get_prior' is not defined",
     "output_type": "error",
     "traceback": [
      "\u001b[0;31m---------------------------------------------------------------------------\u001b[0m",
      "\u001b[0;31mNameError\u001b[0m                                 Traceback (most recent call last)",
      "\u001b[0;32m/tmp/ipykernel_9012/2002880922.py\u001b[0m in \u001b[0;36m<module>\u001b[0;34m\u001b[0m\n\u001b[1;32m     28\u001b[0m                            \u001b[0mprior_bds\u001b[0m\u001b[0;34m=\u001b[0m\u001b[0mparas\u001b[0m\u001b[0;34m.\u001b[0m\u001b[0mprior_bds\u001b[0m\u001b[0;34m,\u001b[0m\u001b[0;34m\u001b[0m\u001b[0;34m\u001b[0m\u001b[0m\n\u001b[1;32m     29\u001b[0m                            freqrange=paras.freqrange)\n\u001b[0;32m---> 30\u001b[0;31m     \u001b[0mprior\u001b[0m \u001b[0;34m=\u001b[0m \u001b[0m_get_prior\u001b[0m\u001b[0;34m(\u001b[0m\u001b[0mcur_ind_idx\u001b[0m\u001b[0;34m)\u001b[0m\u001b[0;34m\u001b[0m\u001b[0;34m\u001b[0m\u001b[0m\n\u001b[0m\u001b[1;32m     31\u001b[0m     \u001b[0msimulator_wrapper\u001b[0m\u001b[0;34m,\u001b[0m \u001b[0mprior\u001b[0m \u001b[0;34m=\u001b[0m \u001b[0mprepare_for_sbi\u001b[0m\u001b[0;34m(\u001b[0m\u001b[0msimulator_sp\u001b[0m\u001b[0;34m,\u001b[0m \u001b[0mprior\u001b[0m\u001b[0;34m)\u001b[0m\u001b[0;34m\u001b[0m\u001b[0;34m\u001b[0m\u001b[0m\n\u001b[1;32m     32\u001b[0m     \u001b[0minference\u001b[0m \u001b[0;34m=\u001b[0m \u001b[0mSNPE\u001b[0m\u001b[0;34m(\u001b[0m\u001b[0mprior\u001b[0m\u001b[0;34m=\u001b[0m\u001b[0mprior\u001b[0m\u001b[0;34m,\u001b[0m \u001b[0mdensity_estimator\u001b[0m\u001b[0;34m=\u001b[0m\u001b[0mparas\u001b[0m\u001b[0;34m.\u001b[0m\u001b[0mSBI_paras\u001b[0m\u001b[0;34m.\u001b[0m\u001b[0mdensity_model\u001b[0m\u001b[0;34m)\u001b[0m\u001b[0;34m\u001b[0m\u001b[0;34m\u001b[0m\u001b[0m\n",
      "\u001b[0;31mNameError\u001b[0m: name '_get_prior' is not defined"
     ]
    }
   ],
   "source": [
    "for cur_ind_idx in range(0, 36):\n",
    "    print(cur_ind_idx)\n",
    "    save_fil = f\"{paras.save_prefix}_SBIxANNBW_{paras.band}_\" +  \\\n",
    "               f\"ep{paras.nepoch}_\" + \\\n",
    "               f\"num{paras.SBI_paras.num_prior_sps}_\" + \\\n",
    "               f\"density{paras.SBI_paras.density_model}_\" + \\\n",
    "               f\"MR{paras.SBI_paras.num_round}_\" + \\\n",
    "               f\"noise_sd{paras.SBI_paras.noise_sd*100:.0f}_\" +\\\n",
    "               f\"addv{paras.add_v*100:.0f}\" +\\\n",
    "               f\"/ind{cur_ind_idx}.pkl\"\n",
    "    if (RES_ROOT/save_fil).exists():\n",
    "        # thanks to the buggy SCS\n",
    "        continue\n",
    "    \n",
    "    \n",
    "    # create spectrome brain:\n",
    "    brain = Brain.Brain()\n",
    "    brain.add_connectome(DATA_ROOT) # grabs distance matrix\n",
    "    # re-ordering for DK atlas and normalizing the connectomes:\n",
    "    brain.reorder_connectome(brain.connectome, brain.distance_matrix)\n",
    "    brain.connectome =  ind_conn[:, :, cur_ind_idx] # re-assign connectome to individual connectome\n",
    "    brain.bi_symmetric_c()\n",
    "    brain.reduce_extreme_dir()\n",
    "    \n",
    "    simulator_sp = partial(simulator, \n",
    "                           brain=brain, \n",
    "                           noise_sd=paras.SBI_paras.noise_sd, \n",
    "                           prior_bds=paras.prior_bds, \n",
    "                           freqrange=paras.freqrange)\n",
    "    prior = _get_prior(cur_ind_idx)\n",
    "    simulator_wrapper, prior = prepare_for_sbi(simulator_sp, prior)\n",
    "    inference = SNPE(prior=prior, density_estimator=paras.SBI_paras.density_model)\n",
    "    proposal = prior \n",
    "    \n",
    "    #the observed data\n",
    "    cur_obs_FC = np.abs(fcs[cur_ind_idx])\n",
    "    curX = torch.Tensor(_minmax_vec(cur_obs_FC[np.triu_indices(68, k = 1)]))\n",
    "    #num_spss = [10000, 10000, 5000]\n",
    "    for ix in range(paras.SBI_paras.num_round):\n",
    "        theta, x = simulate_for_sbi(simulator_wrapper, proposal,\n",
    "                                    num_simulations=int(paras.SBI_paras.num_prior_sps),\n",
    "                                    num_workers=20)\n",
    "        density_estimator = inference.append_simulations(\n",
    "                            theta, x, proposal=proposal\n",
    "                            ).train()\n",
    "        print(inference._data_round_index)\n",
    "        posterior = inference.build_posterior(density_estimator)\n",
    "        \n",
    "        proposal = posterior.set_default_x(curX)\n",
    "    \n",
    "    save_pkl(RES_ROOT/save_fil, proposal)"
   ]
  },
  {
   "cell_type": "code",
   "execution_count": null,
   "id": "53ee8b2f",
   "metadata": {},
   "outputs": [],
   "source": []
  }
 ],
 "metadata": {
  "kernelspec": {
   "display_name": "Python 3 (ipykernel)",
   "language": "python",
   "name": "python3"
  },
  "language_info": {
   "codemirror_mode": {
    "name": "ipython",
    "version": 3
   },
   "file_extension": ".py",
   "mimetype": "text/x-python",
   "name": "python",
   "nbconvert_exporter": "python",
   "pygments_lexer": "ipython3",
   "version": "3.9.19"
  },
  "toc": {
   "base_numbering": 1,
   "nav_menu": {},
   "number_sections": true,
   "sideBar": true,
   "skip_h1_title": false,
   "title_cell": "Table of Contents",
   "title_sidebar": "Contents",
   "toc_cell": false,
   "toc_position": {
    "height": "calc(100% - 180px)",
    "left": "10px",
    "top": "150px",
    "width": "204.594px"
   },
   "toc_section_display": true,
   "toc_window_display": true
  }
 },
 "nbformat": 4,
 "nbformat_minor": 5
}
