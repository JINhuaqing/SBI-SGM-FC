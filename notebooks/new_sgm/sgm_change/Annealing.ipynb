{
 "cells": [
  {
   "cell_type": "markdown",
   "id": "089a43ab",
   "metadata": {},
   "source": [
    "RUN SBI-SGM in alpha, new bounds, new SGM, only three parameters needed\n",
    "\n",
    "parameters order is  :tauG,speed,alpha (In second)\n"
   ]
  },
  {
   "cell_type": "code",
   "execution_count": 42,
   "id": "602fd510",
   "metadata": {
    "ExecuteTime": {
     "end_time": "2023-09-27T20:17:54.100062Z",
     "start_time": "2023-09-27T20:17:54.007818Z"
    }
   },
   "outputs": [
    {
     "data": {
      "text/plain": [
       "'rawfc2'"
      ]
     },
     "execution_count": 42,
     "metadata": {},
     "output_type": "execute_result"
    }
   ],
   "source": [
    "RUN_PYTHON_SCRIPT = False\n",
    "SAVE_PREFIX = \"rawfc2\""
   ]
  },
  {
   "cell_type": "code",
   "execution_count": null,
   "id": "037c2c73",
   "metadata": {},
   "outputs": [],
   "source": []
  },
  {
   "cell_type": "markdown",
   "id": "15b93230",
   "metadata": {},
   "source": [
    "## Import some pkgs"
   ]
  },
  {
   "cell_type": "code",
   "execution_count": 43,
   "id": "a5c4bef0",
   "metadata": {
    "ExecuteTime": {
     "end_time": "2023-09-27T20:17:54.894979Z",
     "start_time": "2023-09-27T20:17:54.860274Z"
    }
   },
   "outputs": [],
   "source": [
    "import sys\n",
    "sys.path.append(\"../../mypkg\")\n",
    "\n",
    "import scipy\n",
    "import itertools\n",
    "\n",
    "import numpy as np\n",
    "import xarray as xr\n",
    "import matplotlib.pyplot as plt\n",
    "import seaborn as sns\n",
    "\n",
    "from tqdm import trange, tqdm\n",
    "from scipy.io import loadmat\n",
    "from functools import partial\n",
    "from easydict import EasyDict as edict\n",
    "from scipy.optimize import dual_annealing"
   ]
  },
  {
   "cell_type": "code",
   "execution_count": 44,
   "id": "513f09d5",
   "metadata": {
    "ExecuteTime": {
     "end_time": "2023-09-27T20:17:55.118287Z",
     "start_time": "2023-09-27T20:17:55.086810Z"
    }
   },
   "outputs": [],
   "source": [
    "# my own fns\n",
    "from brain import Brain\n",
    "from FC_utils import build_fc_freq_m\n",
    "from constants import RES_ROOT, DATA_ROOT\n",
    "from utils.misc import load_pkl, save_pkl\n",
    "from utils.reparam import theta_raw_2out, logistic_np\n",
    "from utils.measures import reg_R_fn, lin_R_fn\n",
    "from joblib import Parallel, delayed"
   ]
  },
  {
   "cell_type": "code",
   "execution_count": 45,
   "id": "a77a7998",
   "metadata": {
    "ExecuteTime": {
     "end_time": "2023-09-27T20:17:55.534569Z",
     "start_time": "2023-09-27T20:17:55.501971Z"
    }
   },
   "outputs": [
    {
     "name": "stdout",
     "output_type": "stream",
     "text": [
      "The autoreload extension is already loaded. To reload it, use:\n",
      "  %reload_ext autoreload\n"
     ]
    }
   ],
   "source": [
    "# This will reload all imports as soon as the code changes\n",
    "%load_ext autoreload\n",
    "%autoreload 2"
   ]
  },
  {
   "cell_type": "code",
   "execution_count": null,
   "id": "d5b87c78",
   "metadata": {
    "ExecuteTime": {
     "end_time": "2022-11-08T00:03:09.655902Z",
     "start_time": "2022-11-08T00:03:09.466344Z"
    }
   },
   "outputs": [],
   "source": []
  },
  {
   "cell_type": "markdown",
   "id": "820f27bd",
   "metadata": {},
   "source": [
    "## Some fns"
   ]
  },
  {
   "cell_type": "code",
   "execution_count": 46,
   "id": "81762f84",
   "metadata": {
    "ExecuteTime": {
     "end_time": "2023-09-27T20:17:56.734176Z",
     "start_time": "2023-09-27T20:17:56.703185Z"
    }
   },
   "outputs": [],
   "source": [
    "_minmax_vec = lambda x: (x-np.min(x))/(np.max(x)-np.min(x));\n",
    "# transfer vec to a sym mat\n",
    "def vec_2mat(vec):\n",
    "    mat = np.zeros((68, 68))\n",
    "    mat[np.triu_indices(68, k = 1)] = vec\n",
    "    mat = mat + mat.T\n",
    "    return mat"
   ]
  },
  {
   "cell_type": "code",
   "execution_count": null,
   "id": "c2112ea2",
   "metadata": {},
   "outputs": [],
   "source": []
  },
  {
   "cell_type": "markdown",
   "id": "12bd0463",
   "metadata": {},
   "source": [
    "### Some parameters"
   ]
  },
  {
   "cell_type": "code",
   "execution_count": 47,
   "id": "5da1fc37",
   "metadata": {
    "ExecuteTime": {
     "end_time": "2023-09-27T20:17:58.144928Z",
     "start_time": "2023-09-27T20:17:58.100926Z"
    }
   },
   "outputs": [],
   "source": [
    "# SC\n",
    "ind_conn_xr = xr.open_dataarray(DATA_ROOT/'individual_connectomes_reordered.nc')\n",
    "ind_conn = ind_conn_xr.values\n",
    "\n",
    "# PSD\n",
    "ind_psd_xr = xr.open_dataarray(DATA_ROOT/'individual_psd_reordered_matlab.nc')\n",
    "ind_psd = ind_psd_xr.values;"
   ]
  },
  {
   "cell_type": "code",
   "execution_count": 48,
   "id": "c034879f",
   "metadata": {
    "ExecuteTime": {
     "end_time": "2023-09-27T20:17:59.838367Z",
     "start_time": "2023-09-27T20:17:59.807475Z"
    }
   },
   "outputs": [],
   "source": [
    "_paras = edict()\n",
    "_paras.delta = [2, 3.5]\n",
    "_paras.theta = [4, 7]\n",
    "_paras.alpha = [8, 12]\n",
    "_paras.beta_l = [13, 20]"
   ]
  },
  {
   "cell_type": "code",
   "execution_count": 49,
   "id": "74f883ac",
   "metadata": {
    "ExecuteTime": {
     "end_time": "2023-09-27T20:18:01.066264Z",
     "start_time": "2023-09-27T20:18:01.030673Z"
    }
   },
   "outputs": [
    {
     "name": "stdout",
     "output_type": "stream",
     "text": [
      "[ 8.  9. 10. 11. 12.]\n"
     ]
    }
   ],
   "source": [
    "paras = edict()\n",
    "\n",
    "paras.band = \"alpha\" \n",
    "paras.freqrange =  np.linspace(_paras[paras.band][0], _paras[paras.band][1], 5)\n",
    "paras.diag_ws = np.ones(82)\n",
    "print(paras.freqrange)\n",
    "#paras.par_low = np.asarray([0.005,0.005,0.005,5, 0.1,0.001,0.001])\n",
    "#paras.par_high = np.asarray([0.03, 0.20, 0.03,20,  1,    2,  0.7])\n",
    "#paras.names = [\"Taue\", \"Taui\", \"TauC\", \"Speed\", \"alpha\", \"gii\", \"gei\"]\n",
    "paras.par_low = np.asarray([0.005, 5, 0.1])\n",
    "paras.par_high = np.asarray([0.03, 20, 1])\n",
    "paras.names = [\"TauC\", \"Speed\", \"alpha\"]\n",
    "paras.prior_bds = np.array([paras.par_low, paras.par_high]).T\n",
    "paras.add_v = 0.01\n",
    "paras.nepoch = 100\n",
    "\n",
    "paras.bounds = [\n",
    "    (-10, 10), \n",
    "    (-10, 10), \n",
    "    (-10, 10), \n",
    "]"
   ]
  },
  {
   "cell_type": "code",
   "execution_count": 50,
   "id": "1f4c00a6",
   "metadata": {
    "ExecuteTime": {
     "end_time": "2023-09-27T20:18:01.457289Z",
     "start_time": "2023-09-27T20:18:01.426618Z"
    }
   },
   "outputs": [],
   "source": [
    "# fn for reparemetering\n",
    "_map_fn_np = partial(logistic_np, k=1)\n",
    "_theta_raw_2out = partial(theta_raw_2out, map_fn=partial(logistic_np, k=1), prior_bds=paras.prior_bds);"
   ]
  },
  {
   "cell_type": "code",
   "execution_count": null,
   "id": "d66040ab",
   "metadata": {},
   "outputs": [],
   "source": []
  },
  {
   "cell_type": "markdown",
   "id": "cc57cec6",
   "metadata": {},
   "source": [
    "### Load the data"
   ]
  },
  {
   "cell_type": "code",
   "execution_count": 51,
   "id": "ee5a4fc9",
   "metadata": {
    "ExecuteTime": {
     "end_time": "2023-09-27T20:18:03.680207Z",
     "start_time": "2023-09-27T20:18:03.635065Z"
    }
   },
   "outputs": [
    {
     "name": "stdout",
     "output_type": "stream",
     "text": [
      "Add 0.01 on diag\n"
     ]
    }
   ],
   "source": [
    "\n",
    "def _add_v2con(cur_ind_conn):\n",
    "    cur_ind_conn = cur_ind_conn.copy()\n",
    "    add_v = np.quantile(cur_ind_conn, 0.99)*paras.add_v # tuning 0.1\n",
    "    np.fill_diagonal(cur_ind_conn[:34, 34:68], np.diag(cur_ind_conn[:34, 34:68]) + add_v)\n",
    "    np.fill_diagonal(cur_ind_conn[34:68, :34], np.diag(cur_ind_conn[34:68, :34]) + add_v)\n",
    "    np.fill_diagonal(cur_ind_conn[68:77, 77:], np.diag(cur_ind_conn[68:77, 77:]) + add_v)\n",
    "    np.fill_diagonal(cur_ind_conn[77:, 68:77], np.diag(cur_ind_conn[77:, 68:77]) + add_v)\n",
    "    return cur_ind_conn\n",
    "\n",
    "if paras.add_v != 0:\n",
    "    print(f\"Add {paras.add_v} on diag\")\n",
    "    ind_conn_adds = [_add_v2con(ind_conn[:, :, ix]) for ix in range(36)]\n",
    "    ind_conn = np.transpose(np.array(ind_conn_adds), (1, 2, 0))"
   ]
  },
  {
   "cell_type": "code",
   "execution_count": 11,
   "id": "87f1aaad",
   "metadata": {
    "ExecuteTime": {
     "end_time": "2023-09-26T23:10:10.876970Z",
     "start_time": "2023-09-26T23:10:09.991330Z"
    }
   },
   "outputs": [],
   "source": [
    "# em FC\n",
    "fc_root = RES_ROOT/\"emp_fcs2\"\n",
    "def _get_fc(sub_ix, bd):\n",
    "    fil = list(fc_root.rglob(f\"*{paras.band}*{paras.nepoch}/sub{sub_ix}.pkl\"))[0]\n",
    "    return load_pkl(fil, verbose=False)\n",
    "\n",
    "fcs = np.array([_get_fc(sub_ix, paras.band) for sub_ix in range(36)]);"
   ]
  },
  {
   "cell_type": "code",
   "execution_count": null,
   "id": "34f677b5",
   "metadata": {},
   "outputs": [],
   "source": []
  },
  {
   "cell_type": "markdown",
   "id": "4bc952d0",
   "metadata": {},
   "source": [
    "## Annealing"
   ]
  },
  {
   "cell_type": "code",
   "execution_count": 12,
   "id": "7bfac0a3",
   "metadata": {
    "ExecuteTime": {
     "end_time": "2023-09-26T23:10:13.168324Z",
     "start_time": "2023-09-26T23:10:13.131555Z"
    }
   },
   "outputs": [],
   "source": [
    "def simulator(raw_params, brain, prior_bds, freqrange, diag_ws):\n",
    "    params = _map_fn_np(raw_params)*(prior_bds[:, 1]-prior_bds[:, 0]) + prior_bds[:, 0]\n",
    "    \n",
    "    params_dict = dict()\n",
    "    params_dict[\"tauC\"] =  params[0]\n",
    "    params_dict[\"speed\"] =  params[1]\n",
    "    params_dict[\"alpha\"] =  params[2]\n",
    "    modelFC = build_fc_freq_m(brain , params_dict, freqrange, diag_ws)\n",
    "    modelFC_abs = np.abs(modelFC[:68, :68])\n",
    "    res = _minmax_vec(modelFC_abs[np.triu_indices(68, k = 1)])\n",
    "    return res, modelFC"
   ]
  },
  {
   "cell_type": "code",
   "execution_count": 13,
   "id": "844348b2",
   "metadata": {
    "ExecuteTime": {
     "end_time": "2023-09-26T23:10:14.172334Z",
     "start_time": "2023-09-26T23:10:14.138228Z"
    }
   },
   "outputs": [],
   "source": [
    "def _obj_fn(raw_params, empfc, simulator_sp):\n",
    "    empfc = np.abs(empfc)\n",
    "    emp_res = _minmax_vec(empfc[np.triu_indices(68, k = 1)])\n",
    "    simu_res = simulator_sp(raw_params)[0] # it is after minmax\n",
    "    rv = -lin_R_fn(simu_res, emp_res)[0]\n",
    "    return rv"
   ]
  },
  {
   "cell_type": "code",
   "execution_count": 14,
   "id": "3215494c",
   "metadata": {
    "ExecuteTime": {
     "end_time": "2023-09-26T23:10:26.435852Z",
     "start_time": "2023-09-26T23:10:25.516195Z"
    }
   },
   "outputs": [],
   "source": [
    "brains = []\n",
    "for sub_idx in range(36):\n",
    "    brain = Brain.Brain()\n",
    "    brain.add_connectome(DATA_ROOT) # grabs distance matrix\n",
    "    # re-ordering for DK atlas and normalizing the connectomes:\n",
    "    brain.reorder_connectome(brain.connectome, brain.distance_matrix)\n",
    "    brain.connectome =  ind_conn[:, :, sub_idx] # re-assign connectome to individual connectome\n",
    "    brain.bi_symmetric_c()\n",
    "    brain.reduce_extreme_dir()\n",
    "    brains.append(brain)\n",
    "    "
   ]
  },
  {
   "cell_type": "code",
   "execution_count": 15,
   "id": "3680564a",
   "metadata": {
    "ExecuteTime": {
     "end_time": "2023-09-26T23:11:03.274479Z",
     "start_time": "2023-09-26T23:11:03.167953Z"
    }
   },
   "outputs": [],
   "source": [
    "def _run_fn(sub_idx):\n",
    "    # brain\n",
    "    brain = brains[sub_idx]\n",
    "    # empfc\n",
    "    empfc = fcs[sub_idx]\n",
    "    \n",
    "    simulator_sp = partial(simulator, \n",
    "                           brain=brain, \n",
    "                           prior_bds=paras.prior_bds, \n",
    "                           freqrange=paras.freqrange, \n",
    "                           diag_ws=paras.diag_ws)\n",
    "    res = dual_annealing(_obj_fn, \n",
    "                         x0=np.array([0, 0, 0]),\n",
    "                         bounds=paras.bounds, \n",
    "                         args=(empfc, simulator_sp), \n",
    "                         maxiter=50,\n",
    "                         initial_temp=5230.0,\n",
    "                         seed=24,\n",
    "                         visit=2.62,\n",
    "                         no_local_search=False)\n",
    "    save_res = edict()\n",
    "    save_res.bestfc = simulator_sp(res.x)[1]\n",
    "    save_res.ann_res = res\n",
    "    \n",
    "    save_fil = f\"{SAVE_PREFIX}ep{paras.nepoch}_ANN_{paras.band}_\" + \\\n",
    "                   f\"addv{paras.add_v*100:.0f}\" +\\\n",
    "                   f\"/ind{sub_idx}.pkl\"\n",
    "    save_pkl(RES_ROOT/save_fil, save_res)\n",
    "    return save_res"
   ]
  },
  {
   "cell_type": "code",
   "execution_count": 16,
   "id": "b02174c9",
   "metadata": {
    "ExecuteTime": {
     "end_time": "2023-09-26T23:14:34.749829Z",
     "start_time": "2023-09-26T23:11:08.902348Z"
    }
   },
   "outputs": [
    {
     "name": "stderr",
     "output_type": "stream",
     "text": [
      "100%|██████████████████████████████████████████████████████████████████████████████████████████████████████████████████████████████████████████| 36/36 [01:31<00:00,  2.54s/it]\n"
     ]
    }
   ],
   "source": [
    "with Parallel(n_jobs=10) as parallel:\n",
    "     _ = parallel(delayed(_run_fn)(sub_idx)  \n",
    "                  for sub_idx in tqdm(range(36), total=36))"
   ]
  },
  {
   "cell_type": "code",
   "execution_count": null,
   "id": "4c8b15e5",
   "metadata": {},
   "outputs": [],
   "source": []
  },
  {
   "cell_type": "markdown",
   "id": "b65a1fc5",
   "metadata": {},
   "source": [
    "## Analysis"
   ]
  },
  {
   "cell_type": "code",
   "execution_count": 88,
   "id": "0241760f",
   "metadata": {
    "ExecuteTime": {
     "end_time": "2023-09-27T21:20:28.646851Z",
     "start_time": "2023-09-27T21:20:28.591634Z"
    }
   },
   "outputs": [],
   "source": [
    "fils = RES_ROOT/(f\"{SAVE_PREFIX}ep{paras.nepoch}m_0_ANN_{paras.band}_\" +  \n",
    "                 f\"addv{paras.add_v*100:.0f}\" )\n",
    "fils = list(fils.glob(\"*.pkl\"));\n",
    "sfils = sorted(fils, key=lambda fil: int(fil.stem.split(\"ind\")[-1]))\n",
    "\n",
    "fil2s = RES_ROOT/(f\"{SAVE_PREFIX}ep{paras.nepoch}_0_ANN_{paras.band}_\" +  \n",
    "                 f\"addv{paras.add_v*100:.0f}\" )\n",
    "fil2s = list(fil2s.glob(\"*.pkl\"));\n",
    "sfil2s = sorted(fil2s, key=lambda fil: int(fil.stem.split(\"ind\")[-1]));"
   ]
  },
  {
   "cell_type": "code",
   "execution_count": 95,
   "id": "991d7975",
   "metadata": {
    "ExecuteTime": {
     "end_time": "2023-09-27T21:24:28.842693Z",
     "start_time": "2023-09-27T21:24:28.584842Z"
    }
   },
   "outputs": [],
   "source": [
    "idx = 20\n",
    "linrs = []\n",
    "for idx in range(36):\n",
    "    res1 =  load_pkl(sfils[idx], verbose=False)\n",
    "    res2 =  load_pkl(sfil2s[idx], verbose=False);\n",
    "    linrs.append((-res1.ann_res.fun, -res2.ann_res.fun))\n",
    "linrs = np.array(linrs);"
   ]
  },
  {
   "cell_type": "code",
   "execution_count": 96,
   "id": "d2527f95",
   "metadata": {
    "ExecuteTime": {
     "end_time": "2023-09-27T21:24:29.786142Z",
     "start_time": "2023-09-27T21:24:29.750841Z"
    }
   },
   "outputs": [
    {
     "data": {
      "text/plain": [
       "array([0.33900489, 0.33900358])"
      ]
     },
     "execution_count": 96,
     "metadata": {},
     "output_type": "execute_result"
    }
   ],
   "source": [
    "np.mean(linrs, axis=0)"
   ]
  },
  {
   "cell_type": "code",
   "execution_count": null,
   "id": "dc458413",
   "metadata": {},
   "outputs": [],
   "source": []
  },
  {
   "cell_type": "code",
   "execution_count": 102,
   "id": "4b1b6d8f",
   "metadata": {
    "ExecuteTime": {
     "end_time": "2023-09-28T02:36:47.339318Z",
     "start_time": "2023-09-28T02:36:47.245933Z"
    }
   },
   "outputs": [],
   "source": [
    "fils = RES_ROOT/(f\"{SAVE_PREFIX}ep1_0_ANN_{paras.band}_\" +  \n",
    "                 f\"addv{paras.add_v*100:.0f}\" )\n",
    "fils = list(fils.glob(\"*.pkl\"));\n",
    "sfils = sorted(fils, key=lambda fil: int(fil.stem.split(\"ind\")[-1]));\n"
   ]
  },
  {
   "cell_type": "code",
   "execution_count": 103,
   "id": "bfcf979b",
   "metadata": {
    "ExecuteTime": {
     "end_time": "2023-09-28T02:36:49.811422Z",
     "start_time": "2023-09-28T02:36:49.190137Z"
    }
   },
   "outputs": [
    {
     "name": "stdout",
     "output_type": "stream",
     "text": [
      "[-1.32175755  2.12560653  9.89993204]\n",
      "[-10.          10.           0.65355456]\n",
      "[-8.75370596 -8.91590549  1.3264905 ]\n",
      "[-10.           8.28925727   1.35400154]\n",
      "[-10.           8.74359016   1.59866736]\n",
      "[-1.05166553 -8.90560706  9.19478189]\n",
      "[-1.96198082 -7.99140325  6.06733796]\n",
      "[-1.19271744  0.57034589  7.24239075]\n",
      "[-1.64985285 -0.24134552  7.63075764]\n",
      "[-9.98544178  6.68473334  0.99475395]\n",
      "[-0.68170929 -4.60740208  3.28646601]\n",
      "[-1.41434251 -1.36612859  8.12059598]\n",
      "[-1.42089782  1.9628698   9.22210321]\n",
      "[-9.65486707  8.81008546  0.72642148]\n",
      "[-1.02916254 -2.88295522 10.        ]\n",
      "[-1.0019234  -9.70836594  9.89442392]\n",
      "[-0.14803015 -2.80184388  8.95067828]\n",
      "[-10.           7.71801789   1.76173832]\n",
      "[-1.18238498 -9.06147036  2.37661211]\n",
      "[-9.44200739  9.32742822  0.57451767]\n",
      "[ -1.18113437 -10.           1.2085518 ]\n",
      "[-0.83591085  4.44112516 -0.14845648]\n",
      "[-1.11293495 -0.23443782  6.5817167 ]\n",
      "[-9.86496627 -3.7216958   0.70669338]\n",
      "[-1.32402599 -0.93400491  1.91972955]\n",
      "[-10.           7.80973822   1.31540072]\n",
      "[-8.50992883 -3.47895115  0.64442655]\n",
      "[-4.17779294 -0.09904371  0.96385608]\n",
      "[-10.           8.59420247   1.15038705]\n",
      "[-9.23974769  6.23864422  2.16338179]\n",
      "[-10.           7.71161585   1.07890611]\n",
      "[-1.34249283  1.41069803  8.01516185]\n",
      "[-1.27934328 -8.78778574  9.8933499 ]\n",
      "[-0.65696575  0.48301438  2.09894249]\n",
      "[-1.38689117  0.23139333  8.93208267]\n",
      "[-10.          -3.49560372   1.86744665]\n"
     ]
    }
   ],
   "source": [
    "idx = 20\n",
    "linrs = []\n",
    "for idx in range(36):\n",
    "    res1 =  load_pkl(sfils[idx], verbose=False)\n",
    "    print(res1.ann_res.x)\n",
    "    linrs.append(-res1.ann_res.fun)\n",
    "linrs = np.array(linrs);"
   ]
  },
  {
   "cell_type": "code",
   "execution_count": 104,
   "id": "ad3b7e6b",
   "metadata": {
    "ExecuteTime": {
     "end_time": "2023-09-28T02:36:51.636658Z",
     "start_time": "2023-09-28T02:36:51.601844Z"
    }
   },
   "outputs": [
    {
     "data": {
      "text/plain": [
       "0.031000040310538934"
      ]
     },
     "execution_count": 104,
     "metadata": {},
     "output_type": "execute_result"
    }
   ],
   "source": [
    "linrs"
   ]
  },
  {
   "cell_type": "code",
   "execution_count": null,
   "id": "0463e8c3",
   "metadata": {},
   "outputs": [],
   "source": []
  }
 ],
 "metadata": {
  "kernelspec": {
   "display_name": "Python 3 (ipykernel)",
   "language": "python",
   "name": "python3"
  },
  "language_info": {
   "codemirror_mode": {
    "name": "ipython",
    "version": 3
   },
   "file_extension": ".py",
   "mimetype": "text/x-python",
   "name": "python",
   "nbconvert_exporter": "python",
   "pygments_lexer": "ipython3",
   "version": "3.9.7"
  },
  "toc": {
   "base_numbering": 1,
   "nav_menu": {},
   "number_sections": true,
   "sideBar": true,
   "skip_h1_title": false,
   "title_cell": "Table of Contents",
   "title_sidebar": "Contents",
   "toc_cell": false,
   "toc_position": {
    "height": "calc(100% - 180px)",
    "left": "10px",
    "top": "150px",
    "width": "204.594px"
   },
   "toc_section_display": true,
   "toc_window_display": true
  }
 },
 "nbformat": 4,
 "nbformat_minor": 5
}
