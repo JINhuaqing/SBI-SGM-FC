{
 "cells": [
  {
   "cell_type": "markdown",
   "id": "afb20312",
   "metadata": {},
   "source": [
    "Analyze SBI-SGM, new bounds, new SGM, only three parameters needed\n",
    "\n",
    "parameters order is  :tauG,speed,alpha (In second)"
   ]
  },
  {
   "cell_type": "code",
   "execution_count": null,
   "id": "f42b4d9d",
   "metadata": {},
   "outputs": [],
   "source": []
  },
  {
   "cell_type": "code",
   "execution_count": null,
   "id": "ad95af10",
   "metadata": {},
   "outputs": [],
   "source": []
  },
  {
   "cell_type": "markdown",
   "id": "15b93230",
   "metadata": {},
   "source": [
    "## Import some pkgs"
   ]
  },
  {
   "cell_type": "code",
   "execution_count": 1,
   "id": "a5c4bef0",
   "metadata": {
    "ExecuteTime": {
     "end_time": "2023-09-27T16:47:48.586116Z",
     "start_time": "2023-09-27T16:47:44.021861Z"
    }
   },
   "outputs": [],
   "source": [
    "import sys\n",
    "sys.path.append(\"../../mypkg\")\n",
    "\n",
    "import scipy\n",
    "import itertools\n",
    "\n",
    "import numpy as np\n",
    "import xarray as xr\n",
    "import matplotlib.pyplot as plt\n",
    "import seaborn as sns\n",
    "import pandas as pd\n",
    "\n",
    "from tqdm import trange\n",
    "from scipy.io import loadmat\n",
    "from functools import partial\n",
    "from easydict import EasyDict as edict"
   ]
  },
  {
   "cell_type": "code",
   "execution_count": 2,
   "id": "129d24a5",
   "metadata": {
    "ExecuteTime": {
     "end_time": "2023-09-27T16:47:50.328510Z",
     "start_time": "2023-09-27T16:47:48.588956Z"
    }
   },
   "outputs": [],
   "source": [
    "# SBI and torch\n",
    "from sbi.inference.base import infer\n",
    "from sbi.inference import SNPE, prepare_for_sbi, simulate_for_sbi\n",
    "from sbi import analysis\n",
    "from sbi.utils.get_nn_models import posterior_nn\n",
    "from sbi import utils as sutils\n",
    "\n",
    "import torch.nn as nn\n",
    "import torch.nn.functional as F\n",
    "import torch\n",
    "from torch.distributions.multivariate_normal import MultivariateNormal"
   ]
  },
  {
   "cell_type": "code",
   "execution_count": 3,
   "id": "513f09d5",
   "metadata": {
    "ExecuteTime": {
     "end_time": "2023-09-27T16:47:50.520715Z",
     "start_time": "2023-09-27T16:47:50.330726Z"
    }
   },
   "outputs": [],
   "source": [
    "# my own fns\n",
    "from brain import Brain\n",
    "from FC_utils import build_fc_freq_m\n",
    "from constants import RES_ROOT, DATA_ROOT\n",
    "from utils.misc import load_pkl, save_pkl\n",
    "from utils.reparam import theta_raw_2out, logistic_np, logistic_torch"
   ]
  },
  {
   "cell_type": "code",
   "execution_count": null,
   "id": "d5b87c78",
   "metadata": {
    "ExecuteTime": {
     "end_time": "2022-11-08T00:03:09.655902Z",
     "start_time": "2022-11-08T00:03:09.466344Z"
    }
   },
   "outputs": [],
   "source": []
  },
  {
   "cell_type": "markdown",
   "id": "820f27bd",
   "metadata": {},
   "source": [
    "## Some fns"
   ]
  },
  {
   "cell_type": "code",
   "execution_count": 4,
   "id": "58536d30",
   "metadata": {
    "ExecuteTime": {
     "end_time": "2023-09-27T16:47:50.550319Z",
     "start_time": "2023-09-27T16:47:50.523838Z"
    }
   },
   "outputs": [],
   "source": [
    "from scipy.stats import kendalltau\n",
    "from scipy.stats import spearmanr\n",
    "from utils.measures import geodesic_dist, reg_R_fn, lin_R_fn\n",
    "\n",
    "def divideFc(fc):\n",
    "    \"\"\"Divide the FC into three blocks and vector them\n",
    "    \"\"\"\n",
    "    size_fc = len(fc)\n",
    "    hs_fc = int(size_fc/2)\n",
    "    fc_block1 = fc[:hs_fc, :hs_fc]\n",
    "    fc_block2 = fc[hs_fc:, hs_fc:];\n",
    "    fc_block3 = fc[:hs_fc, hs_fc:];\n",
    "    vec1 = _minmax_vec(fc_block1[np.triu_indices(hs_fc, k = 1)])\n",
    "    vec2 = _minmax_vec(fc_block2[np.triu_indices(hs_fc, k = 1)])\n",
    "    vec3 = _minmax_vec(fc_block3.flatten())\n",
    "    return vec1, vec2, vec3\n",
    "\n",
    "def cal_metrics(fc1, fc2):\n",
    "    \"\"\"Calculate the distance between fc1 and fc2, including\n",
    "        1. geodesic dist\n",
    "        2. pearson's R\n",
    "        3. lin R\n",
    "        4. pearson's R after divide the FC into three blocks\n",
    "        5. lin R after divide the FC into three blocks\n",
    "    \"\"\"\n",
    "    fc1 = fc1.astype(np.float64)\n",
    "    fc2 = fc2.astype(np.float64)\n",
    "    size_fc = len(fc1)\n",
    "    \n",
    "    # for geodedic\n",
    "    fc1_g = fc1/np.linalg.norm(fc1) + np.eye(size_fc)\n",
    "    fc2_g = fc2/np.linalg.norm(fc2) + np.eye(size_fc)\n",
    "    \n",
    "    fc1_c = _minmax_vec(fc1[np.triu_indices(size_fc, k=1)]).reshape(1, -1)\n",
    "    fc2_c = _minmax_vec(fc2[np.triu_indices(size_fc, k=1)]).reshape(1, -1)\n",
    "    \n",
    "    # all metrics\n",
    "    geo_dist = geodesic_dist(fc1_g, fc2_g)\n",
    "    reg_r = reg_R_fn(fc1_c, fc2_c)\n",
    "    lin_r = lin_R_fn(fc1_c, fc2_c)\n",
    "    mse = np.mean((fc1_c-fc2_c)**2)\n",
    "    tau_r = kendalltau(fc1_c.reshape(-1), fc2_c.reshape(-1))[0]\n",
    "    sp_r = spearmanr(fc1_c.reshape(-1), fc2_c.reshape(-1))[0]\n",
    "    \n",
    "    # block wise metrics\n",
    "    blocks1 = divideFc(fc1)\n",
    "    blocks2 = divideFc(fc2)\n",
    "    reg_r_block = [reg_R_fn(vec1.reshape(1, -1), vec2.reshape(1, -1))[0] \n",
    "                   for vec1, vec2 in zip(blocks1, blocks2)]\n",
    "    lin_r_block = [lin_R_fn(vec1.reshape(1, -1), vec2.reshape(1, -1))[0] \n",
    "                   for vec1, vec2 in zip(blocks1, blocks2)]\n",
    "    \n",
    "    res = edict()\n",
    "    res.geo_dist = geo_dist\n",
    "    res.reg_r = reg_r[0]\n",
    "    res.lin_r = lin_r[0]\n",
    "    res.tau_r = tau_r\n",
    "    res.sp_r = sp_r \n",
    "    res.mse = mse\n",
    "    res.reg_r_block = np.mean(reg_r_block)\n",
    "    res.lin_r_block = np.mean(lin_r_block)\n",
    "    return res\n",
    "\n",
    "def cal_metrics_batch(fc1s, fc2s):\n",
    "    \"\"\"fc1s, fc2s: num_fc x 68 x 68\n",
    "    \"\"\"\n",
    "    ress = ddict(list)\n",
    "    for ix in range(len(fc1s)):\n",
    "        fc_t = fc2s[ix]\n",
    "        fc_e = fc1s[ix]\n",
    "        res = cal_metrics(fc_t, fc_e)\n",
    "        for key, v in res.items():\n",
    "            ress[key].append(v)\n",
    "    \n",
    "    return ress"
   ]
  },
  {
   "cell_type": "code",
   "execution_count": 5,
   "id": "d56c17fd",
   "metadata": {
    "ExecuteTime": {
     "end_time": "2023-09-27T16:47:50.580552Z",
     "start_time": "2023-09-27T16:47:50.552466Z"
    }
   },
   "outputs": [],
   "source": [
    "def _simulate_data(raw_params, brain, prior_bds, freqrange, diag_ws):\n",
    "    params = []\n",
    "    for raw_param, prior_bd in zip(raw_params, prior_bds):\n",
    "        param =  _map_fn_torch(raw_param)*(prior_bd[1]-prior_bd[0]) + prior_bd[0]\n",
    "        params.append(param)\n",
    "    params = torch.tensor(params)\n",
    "    \n",
    "    params_dict = dict()\n",
    "    params_dict[\"tauC\"] =  params[0].item()\n",
    "    params_dict[\"speed\"] =  params[1].item()\n",
    "    params_dict[\"alpha\"] =  params[2].item()\n",
    "    modelFC = build_fc_freq_m(brain , params_dict, freqrange, diag_ws)\n",
    "    return np.abs(modelFC[:68, :68])"
   ]
  },
  {
   "cell_type": "code",
   "execution_count": 6,
   "id": "81762f84",
   "metadata": {
    "ExecuteTime": {
     "end_time": "2023-09-27T16:47:50.612148Z",
     "start_time": "2023-09-27T16:47:50.583310Z"
    }
   },
   "outputs": [
    {
     "data": {
      "text/plain": [
       "<function __main__.<lambda>(x)>"
      ]
     },
     "execution_count": 6,
     "metadata": {},
     "output_type": "execute_result"
    }
   ],
   "source": [
    "_minmax_vec = lambda x: (x-np.min(x))/(np.max(x)-np.min(x))"
   ]
  },
  {
   "cell_type": "code",
   "execution_count": 7,
   "id": "9daeac1d",
   "metadata": {
    "ExecuteTime": {
     "end_time": "2023-09-27T16:47:50.640928Z",
     "start_time": "2023-09-27T16:47:50.614455Z"
    }
   },
   "outputs": [],
   "source": [
    "# transfer vec to a sym mat\n",
    "def _vec_2mat(vec):\n",
    "    mat = np.zeros((68, 68))\n",
    "    mat[np.triu_indices(68, k = 1)] = vec\n",
    "    mat = mat + mat.T\n",
    "    return mat"
   ]
  },
  {
   "cell_type": "code",
   "execution_count": 8,
   "id": "65fa4ae9",
   "metadata": {
    "ExecuteTime": {
     "end_time": "2023-09-27T16:47:50.667891Z",
     "start_time": "2023-09-27T16:47:50.644972Z"
    }
   },
   "outputs": [],
   "source": [
    "def get_mode(x):\n",
    "    kde_est = scipy.stats.gaussian_kde(x)\n",
    "    xs = np.linspace(x.min(), x.max(), 500)\n",
    "    ys = kde_est(xs)\n",
    "    return xs[np.argmax(ys)]"
   ]
  },
  {
   "cell_type": "markdown",
   "id": "12bd0463",
   "metadata": {},
   "source": [
    "### Some parameters"
   ]
  },
  {
   "cell_type": "code",
   "execution_count": 9,
   "id": "fc7fddd0",
   "metadata": {
    "ExecuteTime": {
     "end_time": "2023-09-27T16:47:50.698367Z",
     "start_time": "2023-09-27T16:47:50.670582Z"
    }
   },
   "outputs": [
    {
     "data": {
      "text/plain": [
       "array([1., 1., 1., 1., 1., 1., 1., 1., 1., 1., 1., 1., 1., 1., 1., 1., 1.,\n",
       "       1., 1., 1., 1., 1., 1., 1., 1., 1., 1., 1., 1., 1., 1., 1., 1., 1.,\n",
       "       1., 1., 1., 1., 1., 1., 1., 1., 1., 1., 1., 1., 1., 1., 1., 1., 1.,\n",
       "       1., 1., 1., 1., 1., 1., 1., 1., 1., 1., 1., 1., 1., 1., 1., 1., 1.,\n",
       "       1., 1., 1., 1., 1., 1., 1., 1., 1., 1., 1., 1., 1., 1.])"
      ]
     },
     "execution_count": 9,
     "metadata": {},
     "output_type": "execute_result"
    }
   ],
   "source": [
    "from scipy.io import loadmat\n",
    "# The array is ordered as in ‘alpha’, ‘beta_l’, ‘delta’, ‘theta’\n",
    "#diag_ws = np.abs(diag_ws).mean(axis=(1, 2))\n",
    "#diag_ws = np.concatenate([diag_ws, np.ones(14)*diag_ws[-1]])\n",
    "#diag_ws[0] = 1 # make it to 1, remove it leads to very poor results (on May 4, 2023)                                                                                       \n",
    "#diag_ws[0] = 0 # remove it\n",
    "#diag_ws = (diag_ws - np.min(diag_ws))/(np.max(diag_ws)-np.min(diag_ws))\n",
    "#diag_ws = np.log(diag_ws/np.min(diag_ws))\n",
    "diag_ws = np.ones(82)"
   ]
  },
  {
   "cell_type": "code",
   "execution_count": null,
   "id": "19c20781",
   "metadata": {},
   "outputs": [],
   "source": []
  },
  {
   "cell_type": "code",
   "execution_count": 10,
   "id": "488d0dd0",
   "metadata": {
    "ExecuteTime": {
     "end_time": "2023-09-27T16:47:50.725251Z",
     "start_time": "2023-09-27T16:47:50.701017Z"
    }
   },
   "outputs": [],
   "source": [
    "# Parameter bounds for optimization\n",
    "v_lower = 3.5-1.8\n",
    "v_upper = 3.5+1.8\n",
    "#bnds = ((0.005,0.030), (0.005,0.2), (0.005,0.030), (v_lower,v_upper), (0.1,1.0), (0.5,10.0), (0.5,10.0));\n",
    "bnds = ((0.005,0.030), (v_lower,v_upper), (0.1,1.0));\n",
    "#taue,taui,tauG,speed,alpha,gii,gei"
   ]
  },
  {
   "cell_type": "code",
   "execution_count": 11,
   "id": "1b1c015a",
   "metadata": {
    "ExecuteTime": {
     "end_time": "2023-09-27T16:47:50.754991Z",
     "start_time": "2023-09-27T16:47:50.728173Z"
    }
   },
   "outputs": [],
   "source": [
    "_paras = edict()\n",
    "_paras.delta = [2, 3.5]\n",
    "_paras.theta = [4, 7]\n",
    "_paras.alpha = [8, 12]\n",
    "_paras.beta_l = [13, 20]\n"
   ]
  },
  {
   "cell_type": "code",
   "execution_count": 44,
   "id": "74f883ac",
   "metadata": {
    "ExecuteTime": {
     "end_time": "2023-09-27T17:01:23.899913Z",
     "start_time": "2023-09-27T17:01:23.873992Z"
    }
   },
   "outputs": [
    {
     "name": "stdout",
     "output_type": "stream",
     "text": [
      "[ 8.  9. 10. 11. 12.]\n",
      "rawfc2annep100_posteriorMRmul_alpha_num1000_densitynsf_MR3_noise_sd160_addv1\n"
     ]
    },
    {
     "data": {
      "text/plain": [
       "array([1., 1., 1., 1., 1., 1., 1., 1., 1., 1., 1., 1., 1., 1., 1., 1., 1.,\n",
       "       1., 1., 1., 1., 1., 1., 1., 1., 1., 1., 1., 1., 1., 1., 1., 1., 1.,\n",
       "       1., 1., 1., 1., 1., 1., 1., 1., 1., 1., 1., 1., 1., 1., 1., 1., 1.,\n",
       "       1., 1., 1., 1., 1., 1., 1., 1., 1., 1., 1., 1., 1., 1., 1., 1., 1.,\n",
       "       1., 1., 1., 1., 1., 1., 1., 1., 1., 1., 1., 1., 1., 1.])"
      ]
     },
     "execution_count": 44,
     "metadata": {},
     "output_type": "execute_result"
    }
   ],
   "source": [
    "paras = edict()\n",
    "\n",
    "paras.band= \"alpha\" #stick to coh\n",
    "paras.freqrange =  np.linspace(_paras[paras.band][0], _paras[paras.band][1], 5)\n",
    "paras.diag_ws = diag_ws\n",
    "print(paras.freqrange)\n",
    "paras.fs = 600\n",
    "paras.num_nodes = 86 # Number of cortical (68) + subcortical nodes\n",
    "#paras.par_low = np.asarray([0.005,0.005,0.005,5, 0.1,0.001,0.001])\n",
    "#paras.par_high = np.asarray([0.03, 0.20, 0.03,20,  1,    2,  0.7])\n",
    "paras.par_low = np.asarray([0.005, 5, 0.1])\n",
    "paras.par_high = np.asarray([0.03, 20, 1])\n",
    "paras.names = [\"TauC\", \"Speed\", \"alpha\"]\n",
    "paras.prior_bds = np.array([paras.par_low, paras.par_high]).T\n",
    "paras.add_v = 0.01\n",
    "paras.nepoch = 100\n",
    "paras.k = 1 # without ann, k=0.1, with ann, k = 1\n",
    "\n",
    "paras.SBI_paras = edict()\n",
    "paras.SBI_paras.num_prior_sps = int(1e3)\n",
    "paras.SBI_paras.density_model = \"nsf\"\n",
    "paras.SBI_paras.num_round = 3\n",
    "paras.SBI_paras.noise_sd = 1.60\n",
    "#paras.SBI_paras.save_dir =  f\"rawfc2ep{paras.nepoch}_posteriorMRmul_{paras.band}_\" + \\\n",
    "paras.SBI_paras.save_dir =  f\"rawfc2annep{paras.nepoch}_posteriorMRmul_{paras.band}_\" + \\\n",
    "                            f\"num{paras.SBI_paras.num_prior_sps}_\" + \\\n",
    "                            f\"density{paras.SBI_paras.density_model}_\" + \\\n",
    "                            f\"MR{paras.SBI_paras.num_round}_\" + \\\n",
    "                            f\"noise_sd{paras.SBI_paras.noise_sd*100:.0f}_\" +\\\n",
    "                            f\"addv{paras.add_v*100:.0f}\"\n",
    "print(paras.SBI_paras.save_dir)\n",
    "assert (RES_ROOT/paras.SBI_paras.save_dir).exists()\n",
    "paras.diag_ws"
   ]
  },
  {
   "cell_type": "code",
   "execution_count": 45,
   "id": "0b853363",
   "metadata": {
    "ExecuteTime": {
     "end_time": "2023-09-27T17:01:25.090394Z",
     "start_time": "2023-09-27T17:01:25.082576Z"
    }
   },
   "outputs": [
    {
     "data": {
      "text/plain": [
       "functools.partial(<function theta_raw_2out at 0x7fcac14ebdc0>, map_fn=functools.partial(<function logistic_np at 0x7fcac14ebd30>, k=1))"
      ]
     },
     "execution_count": 45,
     "metadata": {},
     "output_type": "execute_result"
    }
   ],
   "source": [
    "# fn for reparemetering\n",
    "_map_fn_torch = partial(logistic_torch, k=paras.k)\n",
    "_theta_raw_2out = partial(theta_raw_2out, map_fn=partial(logistic_np, k=paras.k))"
   ]
  },
  {
   "cell_type": "code",
   "execution_count": null,
   "id": "f2b0bc3a",
   "metadata": {
    "ExecuteTime": {
     "end_time": "2023-09-22T16:33:09.116370Z",
     "start_time": "2023-09-22T16:33:09.103735Z"
    }
   },
   "outputs": [],
   "source": []
  },
  {
   "cell_type": "code",
   "execution_count": null,
   "id": "d66040ab",
   "metadata": {},
   "outputs": [],
   "source": []
  },
  {
   "cell_type": "markdown",
   "id": "cc57cec6",
   "metadata": {},
   "source": [
    "### Load the data"
   ]
  },
  {
   "cell_type": "code",
   "execution_count": 46,
   "id": "b78325a1",
   "metadata": {
    "ExecuteTime": {
     "end_time": "2023-09-27T17:01:26.633383Z",
     "start_time": "2023-09-27T17:01:26.609380Z"
    }
   },
   "outputs": [],
   "source": [
    "# SC\n",
    "ind_conn_xr = xr.open_dataarray(DATA_ROOT/'individual_connectomes_reordered.nc')\n",
    "ind_conn = ind_conn_xr.values\n",
    "\n",
    "# PSD\n",
    "ind_psd_xr = xr.open_dataarray(DATA_ROOT/'individual_psd_reordered_matlab.nc')\n",
    "ind_psd = ind_psd_xr.values\n",
    "fvec = ind_psd_xr[\"frequencies\"].values;"
   ]
  },
  {
   "cell_type": "code",
   "execution_count": 47,
   "id": "ee5a4fc9",
   "metadata": {
    "ExecuteTime": {
     "end_time": "2023-09-27T17:01:27.229455Z",
     "start_time": "2023-09-27T17:01:27.198160Z"
    }
   },
   "outputs": [
    {
     "name": "stdout",
     "output_type": "stream",
     "text": [
      "Add 0.01 on diag\n"
     ]
    }
   ],
   "source": [
    "\n",
    "def _add_v2con(cur_ind_conn):\n",
    "    cur_ind_conn = cur_ind_conn.copy()\n",
    "    add_v = np.quantile(cur_ind_conn, 0.99)*paras.add_v # tuning 0.1\n",
    "    np.fill_diagonal(cur_ind_conn[:34, 34:68], np.diag(cur_ind_conn[:34, 34:68]) + add_v)\n",
    "    np.fill_diagonal(cur_ind_conn[34:68, :34], np.diag(cur_ind_conn[34:68, :34]) + add_v)\n",
    "    np.fill_diagonal(cur_ind_conn[68:77, 77:], np.diag(cur_ind_conn[68:77, 77:]) + add_v)\n",
    "    np.fill_diagonal(cur_ind_conn[77:, 68:77], np.diag(cur_ind_conn[77:, 68:77]) + add_v)\n",
    "    return cur_ind_conn\n",
    "\n",
    "\n",
    "if paras.add_v != 0:\n",
    "    print(f\"Add {paras.add_v} on diag\")\n",
    "    ind_conn_adds = [_add_v2con(ind_conn[:, :, ix]) for ix in range(36)]\n",
    "    ind_conn = np.transpose(np.array(ind_conn_adds), (1, 2, 0))"
   ]
  },
  {
   "cell_type": "code",
   "execution_count": 48,
   "id": "8946be59",
   "metadata": {
    "ExecuteTime": {
     "end_time": "2023-09-27T17:01:28.689067Z",
     "start_time": "2023-09-27T17:01:27.931547Z"
    }
   },
   "outputs": [
    {
     "data": {
      "text/plain": [
       "(36, 68, 68)"
      ]
     },
     "execution_count": 48,
     "metadata": {},
     "output_type": "execute_result"
    }
   ],
   "source": [
    "# em FC\n",
    "fc_root = RES_ROOT/\"emp_fcs2\"\n",
    "def _get_fc(sub_ix, bd):\n",
    "    fil = list(fc_root.rglob(f\"*{paras.band}*nepoch-{paras.nepoch}*/sub{sub_ix}.pkl\"))[0]\n",
    "    return load_pkl(fil, verbose=False)\n",
    "\n",
    "fcs = np.array([_get_fc(sub_ix, paras.band) for sub_ix in range(36)]);\n",
    "fcs.shape"
   ]
  },
  {
   "cell_type": "code",
   "execution_count": null,
   "id": "06dd3072",
   "metadata": {},
   "outputs": [],
   "source": []
  },
  {
   "cell_type": "markdown",
   "id": "1bc6c297",
   "metadata": {},
   "source": [
    "## Analyze the results for single data"
   ]
  },
  {
   "cell_type": "code",
   "execution_count": 49,
   "id": "26469e85",
   "metadata": {
    "ExecuteTime": {
     "end_time": "2023-09-27T17:01:30.670617Z",
     "start_time": "2023-09-27T17:01:30.660974Z"
    }
   },
   "outputs": [],
   "source": [
    "res_fils = list((RES_ROOT/paras.SBI_paras.save_dir).glob(\"ind*.pkl\"))\n",
    "_sorted_fn = lambda x: int(x.stem.split(\"ind\")[-1][:])\n",
    "sorted_fils = sorted(res_fils, key=_sorted_fn);"
   ]
  },
  {
   "cell_type": "code",
   "execution_count": null,
   "id": "d82d5a95",
   "metadata": {},
   "outputs": [],
   "source": []
  },
  {
   "cell_type": "markdown",
   "id": "bd646581",
   "metadata": {},
   "source": [
    "### Point est"
   ]
  },
  {
   "cell_type": "code",
   "execution_count": 34,
   "id": "1c662d78",
   "metadata": {
    "ExecuteTime": {
     "end_time": "2023-09-26T23:45:13.335288Z",
     "start_time": "2023-09-26T23:45:12.848254Z"
    }
   },
   "outputs": [
    {
     "name": "stdout",
     "output_type": "stream",
     "text": [
      "Load file /data/rajlab1/user_data/jin/MyResearch/SBI-SGM-FC/notebooks/new_sgm/../../mypkg/../results/rawfc2ann_posteriorMRmul_alpha_num1000_densitynsf_MR3_noise_sd40_addv1/ind4.pkl\n"
     ]
    },
    {
     "data": {
      "application/vnd.jupyter.widget-view+json": {
       "model_id": "cd98307098dd4dc698df8a555fb286c4",
       "version_major": 2,
       "version_minor": 0
      },
      "text/plain": [
       "Drawing 10000 posterior samples:   0%|          | 0/10000 [00:00<?, ?it/s]"
      ]
     },
     "metadata": {},
     "output_type": "display_data"
    }
   ],
   "source": [
    "cur_idx = 4\n",
    "cur_posterior = load_pkl(sorted_fils[cur_idx])\n",
    "post_sps = cur_posterior.sample((10000, ));"
   ]
  },
  {
   "cell_type": "code",
   "execution_count": 35,
   "id": "64fbdd8f",
   "metadata": {
    "ExecuteTime": {
     "end_time": "2023-09-26T23:45:15.936487Z",
     "start_time": "2023-09-26T23:45:15.568403Z"
    }
   },
   "outputs": [
    {
     "data": {
      "text/plain": [
       "{'geo_dist': 0.629228692571936,\n",
       " 'reg_r': 0.3192382220227042,\n",
       " 'lin_r': 0.2794707876467026,\n",
       " 'tau_r': 0.1815933893270993,\n",
       " 'sp_r': 0.26873624193644974,\n",
       " 'mse': 0.07097769364276872,\n",
       " 'reg_r_block': 0.25384455326029415,\n",
       " 'lin_r_block': 0.22611953360032575}"
      ]
     },
     "execution_count": 35,
     "metadata": {},
     "output_type": "execute_result"
    }
   ],
   "source": [
    "cur_est_paras = torch.median(post_sps, axis=0)[0]\n",
    "    \n",
    "# get the cur brain\n",
    "brain = Brain.Brain()\n",
    "brain.add_connectome(DATA_ROOT) # grabs distance matrix\n",
    "brain.reorder_connectome(brain.connectome, brain.distance_matrix)\n",
    "brain.connectome =  ind_conn[:, :, cur_idx] # re-assign connectome to individual connectome\n",
    "brain.bi_symmetric_c()\n",
    "brain.reduce_extreme_dir()\n",
    "    \n",
    "cur_obs_FC = np.abs(fcs[cur_idx])\n",
    "cur_est_FC = np.abs(_simulate_data(cur_est_paras, \n",
    "                               brain=brain, \n",
    "                               prior_bds=paras.prior_bds, \n",
    "                               freqrange=paras.freqrange, \n",
    "                               diag_ws=paras.diag_ws))\n",
    "est_vec = _minmax_vec(cur_est_FC[np.triu_indices(68, k = 1)])\n",
    "obs_vec = _minmax_vec(cur_obs_FC[np.triu_indices(68, k = 1)])\n",
    "corr = scipy.stats.pearsonr(est_vec, obs_vec)[0]\n",
    "cal_metrics(cur_obs_FC, cur_est_FC)"
   ]
  },
  {
   "cell_type": "code",
   "execution_count": 36,
   "id": "a6ee43de",
   "metadata": {
    "ExecuteTime": {
     "end_time": "2023-09-26T23:45:25.678530Z",
     "start_time": "2023-09-26T23:45:24.357165Z"
    }
   },
   "outputs": [
    {
     "data": {
      "text/plain": [
       "<AxesSubplot:title={'center':'SC'}>"
      ]
     },
     "execution_count": 36,
     "metadata": {},
     "output_type": "execute_result"
    },
    {
     "data": {
      "image/png": "[encoded data removed]",
      "text/plain": [
       "<Figure size 1296x360 with 6 Axes>"
      ]
     },
     "metadata": {
      "needs_background": "light"
     },
     "output_type": "display_data"
    }
   ],
   "source": [
    "SC = brain.connectome[:68, :68]\n",
    "SC_vec = _minmax_vec(SC[np.triu_indices(68, k = 1)])\n",
    "est_FC_mm = _vec_2mat(est_vec)\n",
    "obs_FC_mm = _vec_2mat(obs_vec)\n",
    "SC_mm = _vec_2mat(SC_vec)\n",
    "\n",
    "plt.figure(figsize=[18, 5])\n",
    "plt.subplot(132)\n",
    "plt.title(f\"SGM FC (corr: {corr:.3f})\")\n",
    "sns.heatmap(est_FC_mm)\n",
    "plt.subplot(133)\n",
    "plt.title(\"Empirical FC\")\n",
    "sns.heatmap(obs_FC_mm)\n",
    "#sns.heatmap(cur_obs_FC)\n",
    "plt.subplot(131)\n",
    "plt.title(\"SC\")\n",
    "sns.heatmap(SC_mm)"
   ]
  },
  {
   "cell_type": "markdown",
   "id": "de6b70cc",
   "metadata": {},
   "source": [
    "### Full Bayesian"
   ]
  },
  {
   "cell_type": "code",
   "execution_count": 37,
   "id": "23976f44",
   "metadata": {
    "ExecuteTime": {
     "end_time": "2023-09-26T23:45:36.876502Z",
     "start_time": "2023-09-26T23:45:36.272689Z"
    }
   },
   "outputs": [],
   "source": [
    "cur_idx = 4\n",
    "# get the cur brain\n",
    "brain = Brain.Brain()\n",
    "brain.add_connectome(DATA_ROOT) # grabs distance matrix\n",
    "brain.reorder_connectome(brain.connectome, brain.distance_matrix)\n",
    "brain.connectome =  ind_conn[:, :, cur_idx] # re-assign connectome to individual connectome\n",
    "brain.bi_symmetric_c()\n",
    "brain.reduce_extreme_dir()\n",
    "\n",
    "_simulate_data_sp = partial(_simulate_data, \n",
    "                            brain=brain, \n",
    "                            prior_bds=paras.prior_bds, \n",
    "                            freqrange=paras.freqrange, \n",
    "                            diag_ws=paras.diag_ws)\n",
    "prior = MultivariateNormal(loc=torch.zeros(3), covariance_matrix=torch.eye(3))\n",
    "_simulate_data_wrapper, _ = prepare_for_sbi(_simulate_data_sp, prior)"
   ]
  },
  {
   "cell_type": "code",
   "execution_count": 38,
   "id": "d393a422",
   "metadata": {
    "ExecuteTime": {
     "end_time": "2023-09-26T23:45:39.746380Z",
     "start_time": "2023-09-26T23:45:38.887596Z"
    }
   },
   "outputs": [
    {
     "name": "stdout",
     "output_type": "stream",
     "text": [
      "Load file /data/rajlab1/user_data/jin/MyResearch/SBI-SGM-FC/notebooks/new_sgm/../../mypkg/../results/rawfc2ann_posteriorMRmul_alpha_num1000_densitynsf_MR3_noise_sd40_addv1/ind4.pkl\n"
     ]
    },
    {
     "data": {
      "application/vnd.jupyter.widget-view+json": {
       "model_id": "71b22c0d083a4d7d8731ca71c9f707fa",
       "version_major": 2,
       "version_minor": 0
      },
      "text/plain": [
       "Drawing 100 posterior samples:   0%|          | 0/100 [00:00<?, ?it/s]"
      ]
     },
     "metadata": {},
     "output_type": "display_data"
    },
    {
     "data": {
      "application/vnd.jupyter.widget-view+json": {
       "model_id": "7c1054237f064caab619dd9ebea9f75e",
       "version_major": 2,
       "version_minor": 0
      },
      "text/plain": [
       "Running 100 simulations in 100 batches.:   0%|          | 0/100 [00:00<?, ?it/s]"
      ]
     },
     "metadata": {},
     "output_type": "display_data"
    }
   ],
   "source": [
    "cur_posterior = load_pkl(sorted_fils[cur_idx])\n",
    "\n",
    "_, cur_post_psds = simulate_for_sbi(_simulate_data_wrapper, cur_posterior,\n",
    "                                    num_simulations=100, \n",
    "                                    num_workers=20)\n",
    "cur_post_psds = cur_post_psds.reshape(-1, 68, 68);"
   ]
  },
  {
   "cell_type": "code",
   "execution_count": 39,
   "id": "f413976e",
   "metadata": {
    "ExecuteTime": {
     "end_time": "2023-09-26T23:45:40.518733Z",
     "start_time": "2023-09-26T23:45:40.496326Z"
    }
   },
   "outputs": [
    {
     "data": {
      "text/plain": [
       "{'geo_dist': 0.6268539467525284,\n",
       " 'reg_r': 0.31767594875600025,\n",
       " 'lin_r': 0.2749468087443275,\n",
       " 'tau_r': 0.18147617334547136,\n",
       " 'sp_r': 0.26855491191780495,\n",
       " 'mse': 0.07104266304124571,\n",
       " 'reg_r_block': 0.2518219960553199,\n",
       " 'lin_r_block': 0.22300747875674973}"
      ]
     },
     "execution_count": 39,
     "metadata": {},
     "output_type": "execute_result"
    }
   ],
   "source": [
    "cur_obs_FC = np.abs(fcs[cur_idx])\n",
    "cur_est_FC = np.abs(cur_post_psds.mean(axis=0).numpy().T)\n",
    "est_vec = _minmax_vec(cur_est_FC[np.triu_indices(68, k = 1)])\n",
    "obs_vec = _minmax_vec(cur_obs_FC[np.triu_indices(68, k = 1)])\n",
    "corr = scipy.stats.pearsonr(est_vec, obs_vec)[0]\n",
    "cal_metrics(cur_obs_FC, cur_est_FC)"
   ]
  },
  {
   "cell_type": "code",
   "execution_count": 40,
   "id": "9734186b",
   "metadata": {
    "ExecuteTime": {
     "end_time": "2023-09-26T23:45:48.515500Z",
     "start_time": "2023-09-26T23:45:47.162155Z"
    }
   },
   "outputs": [
    {
     "data": {
      "text/plain": [
       "<AxesSubplot:title={'center':'SC'}>"
      ]
     },
     "execution_count": 40,
     "metadata": {},
     "output_type": "execute_result"
    },
    {
     "data": {
      "image/png": "[encoded data removed]",
      "text/plain": [
       "<Figure size 1296x360 with 6 Axes>"
      ]
     },
     "metadata": {
      "needs_background": "light"
     },
     "output_type": "display_data"
    }
   ],
   "source": [
    "# no diag ws, only three sgm parameters\n",
    "SC = brain.connectome[:68, :68]\n",
    "SC_vec = _minmax_vec(SC[np.triu_indices(68, k = 1)])\n",
    "est_FC_mm = _vec_2mat(est_vec)\n",
    "obs_FC_mm = _vec_2mat(obs_vec)\n",
    "SC_mm = _vec_2mat(SC_vec)\n",
    "\n",
    "plt.figure(figsize=[18, 5])\n",
    "plt.subplot(132)\n",
    "plt.title(f\"SGM FC (corr: {corr:.3f})\")\n",
    "sns.heatmap(est_FC_mm)\n",
    "plt.subplot(133)\n",
    "plt.title(\"Empirical FC\")\n",
    "sns.heatmap(obs_FC_mm)\n",
    "#sns.heatmap(cur_obs_FC)\n",
    "plt.subplot(131)\n",
    "plt.title(\"SC\")\n",
    "sns.heatmap(SC_mm)"
   ]
  },
  {
   "cell_type": "code",
   "execution_count": null,
   "id": "d8150f03",
   "metadata": {},
   "outputs": [],
   "source": []
  },
  {
   "cell_type": "markdown",
   "id": "88dc5304",
   "metadata": {},
   "source": [
    "## All data analysis"
   ]
  },
  {
   "cell_type": "code",
   "execution_count": 50,
   "id": "52e911f0",
   "metadata": {
    "ExecuteTime": {
     "end_time": "2023-09-27T17:01:34.944839Z",
     "start_time": "2023-09-27T17:01:34.936001Z"
    }
   },
   "outputs": [],
   "source": [
    "res_fils = list((RES_ROOT/paras.SBI_paras.save_dir).glob(\"ind*.pkl\"))\n",
    "_sorted_fn = lambda x: int(x.stem.split(\"ind\")[-1][:])\n",
    "sorted_fils = sorted(res_fils, key=_sorted_fn);"
   ]
  },
  {
   "cell_type": "markdown",
   "id": "3b950dd6",
   "metadata": {},
   "source": [
    "### Point est"
   ]
  },
  {
   "cell_type": "code",
   "execution_count": 51,
   "id": "0db365e4",
   "metadata": {
    "ExecuteTime": {
     "end_time": "2023-09-27T17:01:47.587565Z",
     "start_time": "2023-09-27T17:01:35.814729Z"
    },
    "scrolled": true
   },
   "outputs": [
    {
     "name": "stdout",
     "output_type": "stream",
     "text": [
      "0\n"
     ]
    },
    {
     "data": {
      "application/vnd.jupyter.widget-view+json": {
       "model_id": "1fd60850649b4287908d7e0c54fc6c7e",
       "version_major": 2,
       "version_minor": 0
      },
      "text/plain": [
       "Drawing 1000 posterior samples:   0%|          | 0/1000 [00:00<?, ?it/s]"
      ]
     },
     "metadata": {},
     "output_type": "display_data"
    },
    {
     "name": "stdout",
     "output_type": "stream",
     "text": [
      "torch.Size([1000, 3])\n",
      "1\n"
     ]
    },
    {
     "data": {
      "application/vnd.jupyter.widget-view+json": {
       "model_id": "61bf6bd00b014c9fa610cd7798286002",
       "version_major": 2,
       "version_minor": 0
      },
      "text/plain": [
       "Drawing 1000 posterior samples:   0%|          | 0/1000 [00:00<?, ?it/s]"
      ]
     },
     "metadata": {},
     "output_type": "display_data"
    },
    {
     "name": "stdout",
     "output_type": "stream",
     "text": [
      "torch.Size([1000, 3])\n",
      "2\n"
     ]
    },
    {
     "data": {
      "application/vnd.jupyter.widget-view+json": {
       "model_id": "aaedf745fdfd48aba7dede1c0b90874e",
       "version_major": 2,
       "version_minor": 0
      },
      "text/plain": [
       "Drawing 1000 posterior samples:   0%|          | 0/1000 [00:00<?, ?it/s]"
      ]
     },
     "metadata": {},
     "output_type": "display_data"
    },
    {
     "name": "stdout",
     "output_type": "stream",
     "text": [
      "torch.Size([1000, 3])\n",
      "3\n"
     ]
    },
    {
     "data": {
      "application/vnd.jupyter.widget-view+json": {
       "model_id": "87b5410026d94b8fa9944f279ce0309a",
       "version_major": 2,
       "version_minor": 0
      },
      "text/plain": [
       "Drawing 1000 posterior samples:   0%|          | 0/1000 [00:00<?, ?it/s]"
      ]
     },
     "metadata": {},
     "output_type": "display_data"
    },
    {
     "name": "stdout",
     "output_type": "stream",
     "text": [
      "torch.Size([1000, 3])\n",
      "4\n"
     ]
    },
    {
     "data": {
      "application/vnd.jupyter.widget-view+json": {
       "model_id": "f4d83fd0bd644dd2a42f5f902657d686",
       "version_major": 2,
       "version_minor": 0
      },
      "text/plain": [
       "Drawing 1000 posterior samples:   0%|          | 0/1000 [00:00<?, ?it/s]"
      ]
     },
     "metadata": {},
     "output_type": "display_data"
    },
    {
     "name": "stdout",
     "output_type": "stream",
     "text": [
      "torch.Size([1000, 3])\n",
      "5\n"
     ]
    },
    {
     "data": {
      "application/vnd.jupyter.widget-view+json": {
       "model_id": "5f70526178ab40a6a53ca748c7d9e10a",
       "version_major": 2,
       "version_minor": 0
      },
      "text/plain": [
       "Drawing 1000 posterior samples:   0%|          | 0/1000 [00:00<?, ?it/s]"
      ]
     },
     "metadata": {},
     "output_type": "display_data"
    },
    {
     "name": "stdout",
     "output_type": "stream",
     "text": [
      "torch.Size([1000, 3])\n",
      "6\n"
     ]
    },
    {
     "data": {
      "application/vnd.jupyter.widget-view+json": {
       "model_id": "c404e75f0e054287808745b0caf7ed81",
       "version_major": 2,
       "version_minor": 0
      },
      "text/plain": [
       "Drawing 1000 posterior samples:   0%|          | 0/1000 [00:00<?, ?it/s]"
      ]
     },
     "metadata": {},
     "output_type": "display_data"
    },
    {
     "name": "stdout",
     "output_type": "stream",
     "text": [
      "torch.Size([1000, 3])\n",
      "7\n"
     ]
    },
    {
     "data": {
      "application/vnd.jupyter.widget-view+json": {
       "model_id": "026453aa3bfa4ed893f6909dbad1e528",
       "version_major": 2,
       "version_minor": 0
      },
      "text/plain": [
       "Drawing 1000 posterior samples:   0%|          | 0/1000 [00:00<?, ?it/s]"
      ]
     },
     "metadata": {},
     "output_type": "display_data"
    },
    {
     "name": "stdout",
     "output_type": "stream",
     "text": [
      "torch.Size([1000, 3])\n",
      "8\n"
     ]
    },
    {
     "data": {
      "application/vnd.jupyter.widget-view+json": {
       "model_id": "71b038d2329748ae813401a1fe431e74",
       "version_major": 2,
       "version_minor": 0
      },
      "text/plain": [
       "Drawing 1000 posterior samples:   0%|          | 0/1000 [00:00<?, ?it/s]"
      ]
     },
     "metadata": {},
     "output_type": "display_data"
    },
    {
     "name": "stdout",
     "output_type": "stream",
     "text": [
      "torch.Size([1000, 3])\n",
      "9\n"
     ]
    },
    {
     "data": {
      "application/vnd.jupyter.widget-view+json": {
       "model_id": "927e7b685908430b88bb9b023de66263",
       "version_major": 2,
       "version_minor": 0
      },
      "text/plain": [
       "Drawing 1000 posterior samples:   0%|          | 0/1000 [00:00<?, ?it/s]"
      ]
     },
     "metadata": {},
     "output_type": "display_data"
    },
    {
     "name": "stdout",
     "output_type": "stream",
     "text": [
      "torch.Size([1000, 3])\n",
      "10\n"
     ]
    },
    {
     "data": {
      "application/vnd.jupyter.widget-view+json": {
       "model_id": "34b50e278a024f23aa500eff604b1faf",
       "version_major": 2,
       "version_minor": 0
      },
      "text/plain": [
       "Drawing 1000 posterior samples:   0%|          | 0/1000 [00:00<?, ?it/s]"
      ]
     },
     "metadata": {},
     "output_type": "display_data"
    },
    {
     "name": "stdout",
     "output_type": "stream",
     "text": [
      "torch.Size([1000, 3])\n",
      "11\n"
     ]
    },
    {
     "data": {
      "application/vnd.jupyter.widget-view+json": {
       "model_id": "9585216a4c7d4c3cbc12cc77c97b5310",
       "version_major": 2,
       "version_minor": 0
      },
      "text/plain": [
       "Drawing 1000 posterior samples:   0%|          | 0/1000 [00:00<?, ?it/s]"
      ]
     },
     "metadata": {},
     "output_type": "display_data"
    },
    {
     "name": "stdout",
     "output_type": "stream",
     "text": [
      "torch.Size([1000, 3])\n",
      "12\n"
     ]
    },
    {
     "data": {
      "application/vnd.jupyter.widget-view+json": {
       "model_id": "4e0e4a2d5eb04533a08cbfa4fe65088f",
       "version_major": 2,
       "version_minor": 0
      },
      "text/plain": [
       "Drawing 1000 posterior samples:   0%|          | 0/1000 [00:00<?, ?it/s]"
      ]
     },
     "metadata": {},
     "output_type": "display_data"
    },
    {
     "name": "stdout",
     "output_type": "stream",
     "text": [
      "torch.Size([1000, 3])\n",
      "13\n"
     ]
    },
    {
     "data": {
      "application/vnd.jupyter.widget-view+json": {
       "model_id": "962618292e6246fd9554d96a678072f5",
       "version_major": 2,
       "version_minor": 0
      },
      "text/plain": [
       "Drawing 1000 posterior samples:   0%|          | 0/1000 [00:00<?, ?it/s]"
      ]
     },
     "metadata": {},
     "output_type": "display_data"
    },
    {
     "name": "stdout",
     "output_type": "stream",
     "text": [
      "torch.Size([1000, 3])\n",
      "14\n"
     ]
    },
    {
     "data": {
      "application/vnd.jupyter.widget-view+json": {
       "model_id": "e32e3b84e8ae433f8d655182bce85359",
       "version_major": 2,
       "version_minor": 0
      },
      "text/plain": [
       "Drawing 1000 posterior samples:   0%|          | 0/1000 [00:00<?, ?it/s]"
      ]
     },
     "metadata": {},
     "output_type": "display_data"
    },
    {
     "name": "stdout",
     "output_type": "stream",
     "text": [
      "torch.Size([1000, 3])\n",
      "15\n"
     ]
    },
    {
     "data": {
      "application/vnd.jupyter.widget-view+json": {
       "model_id": "4abf84225562441a9c00917655b8ae06",
       "version_major": 2,
       "version_minor": 0
      },
      "text/plain": [
       "Drawing 1000 posterior samples:   0%|          | 0/1000 [00:00<?, ?it/s]"
      ]
     },
     "metadata": {},
     "output_type": "display_data"
    },
    {
     "name": "stdout",
     "output_type": "stream",
     "text": [
      "torch.Size([1000, 3])\n",
      "16\n"
     ]
    },
    {
     "data": {
      "application/vnd.jupyter.widget-view+json": {
       "model_id": "78608ffcdd4f40b7b14238a95e06a9f9",
       "version_major": 2,
       "version_minor": 0
      },
      "text/plain": [
       "Drawing 1000 posterior samples:   0%|          | 0/1000 [00:00<?, ?it/s]"
      ]
     },
     "metadata": {},
     "output_type": "display_data"
    },
    {
     "name": "stdout",
     "output_type": "stream",
     "text": [
      "torch.Size([1000, 3])\n",
      "17\n"
     ]
    },
    {
     "data": {
      "application/vnd.jupyter.widget-view+json": {
       "model_id": "8827c8df02f2426a983cc782a9e24f83",
       "version_major": 2,
       "version_minor": 0
      },
      "text/plain": [
       "Drawing 1000 posterior samples:   0%|          | 0/1000 [00:00<?, ?it/s]"
      ]
     },
     "metadata": {},
     "output_type": "display_data"
    },
    {
     "name": "stdout",
     "output_type": "stream",
     "text": [
      "torch.Size([1000, 3])\n",
      "18\n"
     ]
    },
    {
     "data": {
      "application/vnd.jupyter.widget-view+json": {
       "model_id": "5baa42f4d6c64d209a856be1f5cdc616",
       "version_major": 2,
       "version_minor": 0
      },
      "text/plain": [
       "Drawing 1000 posterior samples:   0%|          | 0/1000 [00:00<?, ?it/s]"
      ]
     },
     "metadata": {},
     "output_type": "display_data"
    },
    {
     "name": "stdout",
     "output_type": "stream",
     "text": [
      "torch.Size([1000, 3])\n",
      "19\n"
     ]
    },
    {
     "data": {
      "application/vnd.jupyter.widget-view+json": {
       "model_id": "ad04f465acd5479d9ce54c6c1454ef15",
       "version_major": 2,
       "version_minor": 0
      },
      "text/plain": [
       "Drawing 1000 posterior samples:   0%|          | 0/1000 [00:00<?, ?it/s]"
      ]
     },
     "metadata": {},
     "output_type": "display_data"
    },
    {
     "name": "stdout",
     "output_type": "stream",
     "text": [
      "torch.Size([1000, 3])\n",
      "20\n"
     ]
    },
    {
     "data": {
      "application/vnd.jupyter.widget-view+json": {
       "model_id": "cdd7c050548347ea8a7fb67aac058468",
       "version_major": 2,
       "version_minor": 0
      },
      "text/plain": [
       "Drawing 1000 posterior samples:   0%|          | 0/1000 [00:00<?, ?it/s]"
      ]
     },
     "metadata": {},
     "output_type": "display_data"
    },
    {
     "name": "stdout",
     "output_type": "stream",
     "text": [
      "torch.Size([1000, 3])\n",
      "21\n"
     ]
    },
    {
     "data": {
      "application/vnd.jupyter.widget-view+json": {
       "model_id": "dded32e597b34e18ba631a2a52ca7927",
       "version_major": 2,
       "version_minor": 0
      },
      "text/plain": [
       "Drawing 1000 posterior samples:   0%|          | 0/1000 [00:00<?, ?it/s]"
      ]
     },
     "metadata": {},
     "output_type": "display_data"
    },
    {
     "name": "stdout",
     "output_type": "stream",
     "text": [
      "torch.Size([1000, 3])\n",
      "22\n"
     ]
    },
    {
     "data": {
      "application/vnd.jupyter.widget-view+json": {
       "model_id": "bcd117f12e4e4034b9b9dd1b2a8e6a8f",
       "version_major": 2,
       "version_minor": 0
      },
      "text/plain": [
       "Drawing 1000 posterior samples:   0%|          | 0/1000 [00:00<?, ?it/s]"
      ]
     },
     "metadata": {},
     "output_type": "display_data"
    },
    {
     "name": "stdout",
     "output_type": "stream",
     "text": [
      "torch.Size([1000, 3])\n",
      "23\n"
     ]
    },
    {
     "data": {
      "application/vnd.jupyter.widget-view+json": {
       "model_id": "f86c87b51485408fb5cc3e338e93129a",
       "version_major": 2,
       "version_minor": 0
      },
      "text/plain": [
       "Drawing 1000 posterior samples:   0%|          | 0/1000 [00:00<?, ?it/s]"
      ]
     },
     "metadata": {},
     "output_type": "display_data"
    },
    {
     "name": "stdout",
     "output_type": "stream",
     "text": [
      "torch.Size([1000, 3])\n",
      "24\n"
     ]
    },
    {
     "data": {
      "application/vnd.jupyter.widget-view+json": {
       "model_id": "5872ce82b4114d76a64bab49e06d6322",
       "version_major": 2,
       "version_minor": 0
      },
      "text/plain": [
       "Drawing 1000 posterior samples:   0%|          | 0/1000 [00:00<?, ?it/s]"
      ]
     },
     "metadata": {},
     "output_type": "display_data"
    },
    {
     "name": "stdout",
     "output_type": "stream",
     "text": [
      "torch.Size([1000, 3])\n",
      "25\n"
     ]
    },
    {
     "data": {
      "application/vnd.jupyter.widget-view+json": {
       "model_id": "78ba046f619d4efe96e1100d18f89748",
       "version_major": 2,
       "version_minor": 0
      },
      "text/plain": [
       "Drawing 1000 posterior samples:   0%|          | 0/1000 [00:00<?, ?it/s]"
      ]
     },
     "metadata": {},
     "output_type": "display_data"
    },
    {
     "name": "stdout",
     "output_type": "stream",
     "text": [
      "torch.Size([1000, 3])\n",
      "26\n"
     ]
    },
    {
     "data": {
      "application/vnd.jupyter.widget-view+json": {
       "model_id": "4909288188ba42e0a4677d05421a8d86",
       "version_major": 2,
       "version_minor": 0
      },
      "text/plain": [
       "Drawing 1000 posterior samples:   0%|          | 0/1000 [00:00<?, ?it/s]"
      ]
     },
     "metadata": {},
     "output_type": "display_data"
    },
    {
     "name": "stdout",
     "output_type": "stream",
     "text": [
      "torch.Size([1000, 3])\n",
      "27\n"
     ]
    },
    {
     "data": {
      "application/vnd.jupyter.widget-view+json": {
       "model_id": "8f84cbca0ea34f9ca42a882774222985",
       "version_major": 2,
       "version_minor": 0
      },
      "text/plain": [
       "Drawing 1000 posterior samples:   0%|          | 0/1000 [00:00<?, ?it/s]"
      ]
     },
     "metadata": {},
     "output_type": "display_data"
    },
    {
     "name": "stdout",
     "output_type": "stream",
     "text": [
      "torch.Size([1000, 3])\n",
      "28\n"
     ]
    },
    {
     "data": {
      "application/vnd.jupyter.widget-view+json": {
       "model_id": "4c86279e7b9d465a8201e6254724fc3b",
       "version_major": 2,
       "version_minor": 0
      },
      "text/plain": [
       "Drawing 1000 posterior samples:   0%|          | 0/1000 [00:00<?, ?it/s]"
      ]
     },
     "metadata": {},
     "output_type": "display_data"
    },
    {
     "name": "stdout",
     "output_type": "stream",
     "text": [
      "torch.Size([1000, 3])\n",
      "29\n"
     ]
    },
    {
     "data": {
      "application/vnd.jupyter.widget-view+json": {
       "model_id": "50469d0a80a64d5cace0f183d004d91f",
       "version_major": 2,
       "version_minor": 0
      },
      "text/plain": [
       "Drawing 1000 posterior samples:   0%|          | 0/1000 [00:00<?, ?it/s]"
      ]
     },
     "metadata": {},
     "output_type": "display_data"
    },
    {
     "name": "stdout",
     "output_type": "stream",
     "text": [
      "torch.Size([1000, 3])\n",
      "30\n"
     ]
    },
    {
     "data": {
      "application/vnd.jupyter.widget-view+json": {
       "model_id": "6c1d82b2e9994bd589a75f848833b376",
       "version_major": 2,
       "version_minor": 0
      },
      "text/plain": [
       "Drawing 1000 posterior samples:   0%|          | 0/1000 [00:00<?, ?it/s]"
      ]
     },
     "metadata": {},
     "output_type": "display_data"
    },
    {
     "name": "stdout",
     "output_type": "stream",
     "text": [
      "torch.Size([1000, 3])\n",
      "31\n"
     ]
    },
    {
     "data": {
      "application/vnd.jupyter.widget-view+json": {
       "model_id": "d9e061730bd94403a723c2f22bfc4f9b",
       "version_major": 2,
       "version_minor": 0
      },
      "text/plain": [
       "Drawing 1000 posterior samples:   0%|          | 0/1000 [00:00<?, ?it/s]"
      ]
     },
     "metadata": {},
     "output_type": "display_data"
    },
    {
     "name": "stdout",
     "output_type": "stream",
     "text": [
      "torch.Size([1000, 3])\n",
      "32\n"
     ]
    },
    {
     "data": {
      "application/vnd.jupyter.widget-view+json": {
       "model_id": "eb1850219fca42b6b2616e32e4a909bf",
       "version_major": 2,
       "version_minor": 0
      },
      "text/plain": [
       "Drawing 1000 posterior samples:   0%|          | 0/1000 [00:00<?, ?it/s]"
      ]
     },
     "metadata": {},
     "output_type": "display_data"
    },
    {
     "name": "stdout",
     "output_type": "stream",
     "text": [
      "torch.Size([1000, 3])\n",
      "33\n"
     ]
    },
    {
     "data": {
      "application/vnd.jupyter.widget-view+json": {
       "model_id": "edf3d448861b4f83a8199650be402a1f",
       "version_major": 2,
       "version_minor": 0
      },
      "text/plain": [
       "Drawing 1000 posterior samples:   0%|          | 0/1000 [00:00<?, ?it/s]"
      ]
     },
     "metadata": {},
     "output_type": "display_data"
    },
    {
     "name": "stdout",
     "output_type": "stream",
     "text": [
      "torch.Size([1000, 3])\n",
      "34\n"
     ]
    },
    {
     "data": {
      "application/vnd.jupyter.widget-view+json": {
       "model_id": "5098c130ce1b4cce953c8b40e9ebd6a6",
       "version_major": 2,
       "version_minor": 0
      },
      "text/plain": [
       "Drawing 1000 posterior samples:   0%|          | 0/1000 [00:00<?, ?it/s]"
      ]
     },
     "metadata": {},
     "output_type": "display_data"
    },
    {
     "name": "stdout",
     "output_type": "stream",
     "text": [
      "torch.Size([1000, 3])\n",
      "35\n"
     ]
    },
    {
     "data": {
      "application/vnd.jupyter.widget-view+json": {
       "model_id": "241c91f1865c4c469203792520428a9d",
       "version_major": 2,
       "version_minor": 0
      },
      "text/plain": [
       "Drawing 1000 posterior samples:   0%|          | 0/1000 [00:00<?, ?it/s]"
      ]
     },
     "metadata": {},
     "output_type": "display_data"
    },
    {
     "name": "stdout",
     "output_type": "stream",
     "text": [
      "torch.Size([1000, 3])\n",
      "Save to /data/rajlab1/user_data/jin/MyResearch/SBI-SGM-FC/notebooks/new_sgm/../../mypkg/../results/rawfc2annep100_posteriorMRmul_alpha_num1000_densitynsf_MR3_noise_sd160_addv1/inf_res.pkl\n"
     ]
    }
   ],
   "source": [
    "inf_res = edict()\n",
    "inf_res.est_FCs = []\n",
    "\n",
    "metrics = []\n",
    "for sub_idx in range(36):\n",
    "    print(sub_idx)\n",
    "    cur_posterior = load_pkl(sorted_fils[sub_idx], False)\n",
    "    post_sps = cur_posterior.sample((1000, ))\n",
    "    print(post_sps.shape)\n",
    "    cur_est_paras = torch.median(post_sps, axis=0)[0]\n",
    "        \n",
    "    # get the cur brain\n",
    "    brain = Brain.Brain()\n",
    "    brain.add_connectome(DATA_ROOT) # grabs distance matrix\n",
    "    brain.reorder_connectome(brain.connectome, brain.distance_matrix)\n",
    "    brain.connectome =  ind_conn[:, :, sub_idx] # re-assign connectome to individual connectome\n",
    "    brain.bi_symmetric_c()\n",
    "    brain.reduce_extreme_dir()\n",
    "        \n",
    "    cur_obs_FC = np.abs(fcs[sub_idx])\n",
    "    cur_est_FC = np.abs(_simulate_data(cur_est_paras, \n",
    "                                   brain=brain, \n",
    "                                   prior_bds=paras.prior_bds, \n",
    "                                   freqrange=paras.freqrange, \n",
    "                                   diag_ws=paras.diag_ws\n",
    "                                  ))\n",
    "    est_vec = _minmax_vec(cur_est_FC[np.triu_indices(68, k = 1)])\n",
    "    obs_vec = _minmax_vec(cur_obs_FC[np.triu_indices(68, k = 1)])\n",
    "    metrics.append(cal_metrics(cur_obs_FC, cur_est_FC))\n",
    "    inf_res.est_FCs.append(cur_est_FC)\n",
    "inf_res.metrics = metrics\n",
    "save_pkl(sorted_fils[0].parent/\"inf_res.pkl\", inf_res, False)"
   ]
  },
  {
   "cell_type": "code",
   "execution_count": 52,
   "id": "43865355",
   "metadata": {
    "ExecuteTime": {
     "end_time": "2023-09-27T17:02:26.228566Z",
     "start_time": "2023-09-27T17:02:26.187311Z"
    }
   },
   "outputs": [
    {
     "data": {
      "text/html": [
       "<div>\n",
       "<style scoped>\n",
       "    .dataframe tbody tr th:only-of-type {\n",
       "        vertical-align: middle;\n",
       "    }\n",
       "\n",
       "    .dataframe tbody tr th {\n",
       "        vertical-align: top;\n",
       "    }\n",
       "\n",
       "    .dataframe thead th {\n",
       "        text-align: right;\n",
       "    }\n",
       "</style>\n",
       "<table border=\"1\" class=\"dataframe\">\n",
       "  <thead>\n",
       "    <tr style=\"text-align: right;\">\n",
       "      <th></th>\n",
       "      <th>geo_dist</th>\n",
       "      <th>reg_r</th>\n",
       "      <th>lin_r</th>\n",
       "      <th>tau_r</th>\n",
       "      <th>sp_r</th>\n",
       "      <th>mse</th>\n",
       "      <th>reg_r_block</th>\n",
       "      <th>lin_r_block</th>\n",
       "    </tr>\n",
       "  </thead>\n",
       "  <tbody>\n",
       "    <tr>\n",
       "      <th>count</th>\n",
       "      <td>36.000000</td>\n",
       "      <td>36.000000</td>\n",
       "      <td>36.000000</td>\n",
       "      <td>36.000000</td>\n",
       "      <td>36.000000</td>\n",
       "      <td>36.000000</td>\n",
       "      <td>36.000000</td>\n",
       "      <td>36.000000</td>\n",
       "    </tr>\n",
       "    <tr>\n",
       "      <th>mean</th>\n",
       "      <td>0.638735</td>\n",
       "      <td>0.428335</td>\n",
       "      <td>0.337231</td>\n",
       "      <td>0.201594</td>\n",
       "      <td>0.297179</td>\n",
       "      <td>0.054018</td>\n",
       "      <td>0.381822</td>\n",
       "      <td>0.318677</td>\n",
       "    </tr>\n",
       "    <tr>\n",
       "      <th>std</th>\n",
       "      <td>0.020422</td>\n",
       "      <td>0.065390</td>\n",
       "      <td>0.058991</td>\n",
       "      <td>0.044728</td>\n",
       "      <td>0.063802</td>\n",
       "      <td>0.009359</td>\n",
       "      <td>0.064245</td>\n",
       "      <td>0.053633</td>\n",
       "    </tr>\n",
       "    <tr>\n",
       "      <th>min</th>\n",
       "      <td>0.603385</td>\n",
       "      <td>0.276068</td>\n",
       "      <td>0.230410</td>\n",
       "      <td>0.117031</td>\n",
       "      <td>0.175103</td>\n",
       "      <td>0.041811</td>\n",
       "      <td>0.241926</td>\n",
       "      <td>0.224890</td>\n",
       "    </tr>\n",
       "    <tr>\n",
       "      <th>25%</th>\n",
       "      <td>0.627618</td>\n",
       "      <td>0.390788</td>\n",
       "      <td>0.297769</td>\n",
       "      <td>0.175682</td>\n",
       "      <td>0.260519</td>\n",
       "      <td>0.047078</td>\n",
       "      <td>0.329574</td>\n",
       "      <td>0.270391</td>\n",
       "    </tr>\n",
       "    <tr>\n",
       "      <th>50%</th>\n",
       "      <td>0.635038</td>\n",
       "      <td>0.442599</td>\n",
       "      <td>0.336827</td>\n",
       "      <td>0.192343</td>\n",
       "      <td>0.284266</td>\n",
       "      <td>0.051676</td>\n",
       "      <td>0.400180</td>\n",
       "      <td>0.333672</td>\n",
       "    </tr>\n",
       "    <tr>\n",
       "      <th>75%</th>\n",
       "      <td>0.650465</td>\n",
       "      <td>0.466206</td>\n",
       "      <td>0.379609</td>\n",
       "      <td>0.235460</td>\n",
       "      <td>0.346938</td>\n",
       "      <td>0.058700</td>\n",
       "      <td>0.425127</td>\n",
       "      <td>0.362524</td>\n",
       "    </tr>\n",
       "    <tr>\n",
       "      <th>max</th>\n",
       "      <td>0.681387</td>\n",
       "      <td>0.561835</td>\n",
       "      <td>0.440388</td>\n",
       "      <td>0.307609</td>\n",
       "      <td>0.443982</td>\n",
       "      <td>0.077155</td>\n",
       "      <td>0.512446</td>\n",
       "      <td>0.420017</td>\n",
       "    </tr>\n",
       "  </tbody>\n",
       "</table>\n",
       "</div>"
      ],
      "text/plain": [
       "        geo_dist      reg_r      lin_r      tau_r       sp_r        mse  \\\n",
       "count  36.000000  36.000000  36.000000  36.000000  36.000000  36.000000   \n",
       "mean    0.638735   0.428335   0.337231   0.201594   0.297179   0.054018   \n",
       "std     0.020422   0.065390   0.058991   0.044728   0.063802   0.009359   \n",
       "min     0.603385   0.276068   0.230410   0.117031   0.175103   0.041811   \n",
       "25%     0.627618   0.390788   0.297769   0.175682   0.260519   0.047078   \n",
       "50%     0.635038   0.442599   0.336827   0.192343   0.284266   0.051676   \n",
       "75%     0.650465   0.466206   0.379609   0.235460   0.346938   0.058700   \n",
       "max     0.681387   0.561835   0.440388   0.307609   0.443982   0.077155   \n",
       "\n",
       "       reg_r_block  lin_r_block  \n",
       "count    36.000000    36.000000  \n",
       "mean      0.381822     0.318677  \n",
       "std       0.064245     0.053633  \n",
       "min       0.241926     0.224890  \n",
       "25%       0.329574     0.270391  \n",
       "50%       0.400180     0.333672  \n",
       "75%       0.425127     0.362524  \n",
       "max       0.512446     0.420017  "
      ]
     },
     "execution_count": 52,
     "metadata": {},
     "output_type": "execute_result"
    }
   ],
   "source": [
    "metrics_df = pd.DataFrame(metrics);\n",
    "metrics_df.describe()"
   ]
  },
  {
   "cell_type": "code",
   "execution_count": 41,
   "id": "57b8f78e",
   "metadata": {
    "ExecuteTime": {
     "end_time": "2023-09-27T16:57:20.923277Z",
     "start_time": "2023-09-27T16:57:20.886145Z"
    }
   },
   "outputs": [
    {
     "data": {
      "text/html": [
       "<div>\n",
       "<style scoped>\n",
       "    .dataframe tbody tr th:only-of-type {\n",
       "        vertical-align: middle;\n",
       "    }\n",
       "\n",
       "    .dataframe tbody tr th {\n",
       "        vertical-align: top;\n",
       "    }\n",
       "\n",
       "    .dataframe thead th {\n",
       "        text-align: right;\n",
       "    }\n",
       "</style>\n",
       "<table border=\"1\" class=\"dataframe\">\n",
       "  <thead>\n",
       "    <tr style=\"text-align: right;\">\n",
       "      <th></th>\n",
       "      <th>geo_dist</th>\n",
       "      <th>reg_r</th>\n",
       "      <th>lin_r</th>\n",
       "      <th>tau_r</th>\n",
       "      <th>sp_r</th>\n",
       "      <th>mse</th>\n",
       "      <th>reg_r_block</th>\n",
       "      <th>lin_r_block</th>\n",
       "    </tr>\n",
       "  </thead>\n",
       "  <tbody>\n",
       "    <tr>\n",
       "      <th>count</th>\n",
       "      <td>36.000000</td>\n",
       "      <td>36.000000</td>\n",
       "      <td>36.000000</td>\n",
       "      <td>36.000000</td>\n",
       "      <td>36.000000</td>\n",
       "      <td>36.000000</td>\n",
       "      <td>36.000000</td>\n",
       "      <td>36.000000</td>\n",
       "    </tr>\n",
       "    <tr>\n",
       "      <th>mean</th>\n",
       "      <td>0.638225</td>\n",
       "      <td>0.422297</td>\n",
       "      <td>0.334474</td>\n",
       "      <td>0.198573</td>\n",
       "      <td>0.292795</td>\n",
       "      <td>0.053809</td>\n",
       "      <td>0.374407</td>\n",
       "      <td>0.314599</td>\n",
       "    </tr>\n",
       "    <tr>\n",
       "      <th>std</th>\n",
       "      <td>0.019530</td>\n",
       "      <td>0.071917</td>\n",
       "      <td>0.061650</td>\n",
       "      <td>0.047054</td>\n",
       "      <td>0.067310</td>\n",
       "      <td>0.009018</td>\n",
       "      <td>0.070461</td>\n",
       "      <td>0.057841</td>\n",
       "    </tr>\n",
       "    <tr>\n",
       "      <th>min</th>\n",
       "      <td>0.603233</td>\n",
       "      <td>0.236025</td>\n",
       "      <td>0.228476</td>\n",
       "      <td>0.103366</td>\n",
       "      <td>0.154710</td>\n",
       "      <td>0.041707</td>\n",
       "      <td>0.197659</td>\n",
       "      <td>0.192932</td>\n",
       "    </tr>\n",
       "    <tr>\n",
       "      <th>25%</th>\n",
       "      <td>0.627183</td>\n",
       "      <td>0.387758</td>\n",
       "      <td>0.297087</td>\n",
       "      <td>0.174415</td>\n",
       "      <td>0.258769</td>\n",
       "      <td>0.047183</td>\n",
       "      <td>0.317640</td>\n",
       "      <td>0.263139</td>\n",
       "    </tr>\n",
       "    <tr>\n",
       "      <th>50%</th>\n",
       "      <td>0.635859</td>\n",
       "      <td>0.440704</td>\n",
       "      <td>0.337415</td>\n",
       "      <td>0.191850</td>\n",
       "      <td>0.283477</td>\n",
       "      <td>0.051509</td>\n",
       "      <td>0.397525</td>\n",
       "      <td>0.331536</td>\n",
       "    </tr>\n",
       "    <tr>\n",
       "      <th>75%</th>\n",
       "      <td>0.650072</td>\n",
       "      <td>0.466348</td>\n",
       "      <td>0.379410</td>\n",
       "      <td>0.232250</td>\n",
       "      <td>0.341728</td>\n",
       "      <td>0.059618</td>\n",
       "      <td>0.422471</td>\n",
       "      <td>0.362089</td>\n",
       "    </tr>\n",
       "    <tr>\n",
       "      <th>max</th>\n",
       "      <td>0.678327</td>\n",
       "      <td>0.560700</td>\n",
       "      <td>0.440691</td>\n",
       "      <td>0.307403</td>\n",
       "      <td>0.443798</td>\n",
       "      <td>0.073992</td>\n",
       "      <td>0.510843</td>\n",
       "      <td>0.419852</td>\n",
       "    </tr>\n",
       "  </tbody>\n",
       "</table>\n",
       "</div>"
      ],
      "text/plain": [
       "        geo_dist      reg_r      lin_r      tau_r       sp_r        mse  \\\n",
       "count  36.000000  36.000000  36.000000  36.000000  36.000000  36.000000   \n",
       "mean    0.638225   0.422297   0.334474   0.198573   0.292795   0.053809   \n",
       "std     0.019530   0.071917   0.061650   0.047054   0.067310   0.009018   \n",
       "min     0.603233   0.236025   0.228476   0.103366   0.154710   0.041707   \n",
       "25%     0.627183   0.387758   0.297087   0.174415   0.258769   0.047183   \n",
       "50%     0.635859   0.440704   0.337415   0.191850   0.283477   0.051509   \n",
       "75%     0.650072   0.466348   0.379410   0.232250   0.341728   0.059618   \n",
       "max     0.678327   0.560700   0.440691   0.307403   0.443798   0.073992   \n",
       "\n",
       "       reg_r_block  lin_r_block  \n",
       "count    36.000000    36.000000  \n",
       "mean      0.374407     0.314599  \n",
       "std       0.070461     0.057841  \n",
       "min       0.197659     0.192932  \n",
       "25%       0.317640     0.263139  \n",
       "50%       0.397525     0.331536  \n",
       "75%       0.422471     0.362089  \n",
       "max       0.510843     0.419852  "
      ]
     },
     "execution_count": 41,
     "metadata": {},
     "output_type": "execute_result"
    }
   ],
   "source": [
    "metrics_df = pd.DataFrame(metrics);\n",
    "metrics_df.describe()"
   ]
  },
  {
   "cell_type": "code",
   "execution_count": 21,
   "id": "3fd45b44",
   "metadata": {
    "ExecuteTime": {
     "end_time": "2023-09-27T16:48:37.003078Z",
     "start_time": "2023-09-27T16:48:36.959672Z"
    }
   },
   "outputs": [
    {
     "data": {
      "text/html": [
       "<div>\n",
       "<style scoped>\n",
       "    .dataframe tbody tr th:only-of-type {\n",
       "        vertical-align: middle;\n",
       "    }\n",
       "\n",
       "    .dataframe tbody tr th {\n",
       "        vertical-align: top;\n",
       "    }\n",
       "\n",
       "    .dataframe thead th {\n",
       "        text-align: right;\n",
       "    }\n",
       "</style>\n",
       "<table border=\"1\" class=\"dataframe\">\n",
       "  <thead>\n",
       "    <tr style=\"text-align: right;\">\n",
       "      <th></th>\n",
       "      <th>geo_dist</th>\n",
       "      <th>reg_r</th>\n",
       "      <th>lin_r</th>\n",
       "      <th>tau_r</th>\n",
       "      <th>sp_r</th>\n",
       "      <th>mse</th>\n",
       "      <th>reg_r_block</th>\n",
       "      <th>lin_r_block</th>\n",
       "    </tr>\n",
       "  </thead>\n",
       "  <tbody>\n",
       "    <tr>\n",
       "      <th>count</th>\n",
       "      <td>36.000000</td>\n",
       "      <td>36.000000</td>\n",
       "      <td>36.000000</td>\n",
       "      <td>36.000000</td>\n",
       "      <td>36.000000</td>\n",
       "      <td>36.000000</td>\n",
       "      <td>36.000000</td>\n",
       "      <td>36.000000</td>\n",
       "    </tr>\n",
       "    <tr>\n",
       "      <th>mean</th>\n",
       "      <td>0.638238</td>\n",
       "      <td>0.407344</td>\n",
       "      <td>0.326732</td>\n",
       "      <td>0.189963</td>\n",
       "      <td>0.280445</td>\n",
       "      <td>0.053189</td>\n",
       "      <td>0.356155</td>\n",
       "      <td>0.302878</td>\n",
       "    </tr>\n",
       "    <tr>\n",
       "      <th>std</th>\n",
       "      <td>0.019191</td>\n",
       "      <td>0.075885</td>\n",
       "      <td>0.064885</td>\n",
       "      <td>0.047683</td>\n",
       "      <td>0.068559</td>\n",
       "      <td>0.008747</td>\n",
       "      <td>0.075095</td>\n",
       "      <td>0.063727</td>\n",
       "    </tr>\n",
       "    <tr>\n",
       "      <th>min</th>\n",
       "      <td>0.603083</td>\n",
       "      <td>0.247399</td>\n",
       "      <td>0.208223</td>\n",
       "      <td>0.083750</td>\n",
       "      <td>0.125741</td>\n",
       "      <td>0.041351</td>\n",
       "      <td>0.218104</td>\n",
       "      <td>0.179628</td>\n",
       "    </tr>\n",
       "    <tr>\n",
       "      <th>25%</th>\n",
       "      <td>0.625527</td>\n",
       "      <td>0.372837</td>\n",
       "      <td>0.278448</td>\n",
       "      <td>0.162169</td>\n",
       "      <td>0.239476</td>\n",
       "      <td>0.046471</td>\n",
       "      <td>0.293571</td>\n",
       "      <td>0.238590</td>\n",
       "    </tr>\n",
       "    <tr>\n",
       "      <th>50%</th>\n",
       "      <td>0.640937</td>\n",
       "      <td>0.416614</td>\n",
       "      <td>0.324295</td>\n",
       "      <td>0.183707</td>\n",
       "      <td>0.271563</td>\n",
       "      <td>0.050878</td>\n",
       "      <td>0.381988</td>\n",
       "      <td>0.319551</td>\n",
       "    </tr>\n",
       "    <tr>\n",
       "      <th>75%</th>\n",
       "      <td>0.648467</td>\n",
       "      <td>0.461512</td>\n",
       "      <td>0.379526</td>\n",
       "      <td>0.212989</td>\n",
       "      <td>0.313787</td>\n",
       "      <td>0.059098</td>\n",
       "      <td>0.404733</td>\n",
       "      <td>0.352853</td>\n",
       "    </tr>\n",
       "    <tr>\n",
       "      <th>max</th>\n",
       "      <td>0.675797</td>\n",
       "      <td>0.558944</td>\n",
       "      <td>0.439814</td>\n",
       "      <td>0.303147</td>\n",
       "      <td>0.438596</td>\n",
       "      <td>0.072009</td>\n",
       "      <td>0.508427</td>\n",
       "      <td>0.418732</td>\n",
       "    </tr>\n",
       "  </tbody>\n",
       "</table>\n",
       "</div>"
      ],
      "text/plain": [
       "        geo_dist      reg_r      lin_r      tau_r       sp_r        mse  \\\n",
       "count  36.000000  36.000000  36.000000  36.000000  36.000000  36.000000   \n",
       "mean    0.638238   0.407344   0.326732   0.189963   0.280445   0.053189   \n",
       "std     0.019191   0.075885   0.064885   0.047683   0.068559   0.008747   \n",
       "min     0.603083   0.247399   0.208223   0.083750   0.125741   0.041351   \n",
       "25%     0.625527   0.372837   0.278448   0.162169   0.239476   0.046471   \n",
       "50%     0.640937   0.416614   0.324295   0.183707   0.271563   0.050878   \n",
       "75%     0.648467   0.461512   0.379526   0.212989   0.313787   0.059098   \n",
       "max     0.675797   0.558944   0.439814   0.303147   0.438596   0.072009   \n",
       "\n",
       "       reg_r_block  lin_r_block  \n",
       "count    36.000000    36.000000  \n",
       "mean      0.356155     0.302878  \n",
       "std       0.075095     0.063727  \n",
       "min       0.218104     0.179628  \n",
       "25%       0.293571     0.238590  \n",
       "50%       0.381988     0.319551  \n",
       "75%       0.404733     0.352853  \n",
       "max       0.508427     0.418732  "
      ]
     },
     "execution_count": 21,
     "metadata": {},
     "output_type": "execute_result"
    }
   ],
   "source": [
    "metrics_df = pd.DataFrame(metrics);\n",
    "metrics_df.describe()"
   ]
  },
  {
   "cell_type": "code",
   "execution_count": 20,
   "id": "e16a669b",
   "metadata": {
    "ExecuteTime": {
     "end_time": "2023-09-27T04:11:32.889655Z",
     "start_time": "2023-09-27T04:11:32.842722Z"
    }
   },
   "outputs": [
    {
     "data": {
      "text/html": [
       "<div>\n",
       "<style scoped>\n",
       "    .dataframe tbody tr th:only-of-type {\n",
       "        vertical-align: middle;\n",
       "    }\n",
       "\n",
       "    .dataframe tbody tr th {\n",
       "        vertical-align: top;\n",
       "    }\n",
       "\n",
       "    .dataframe thead th {\n",
       "        text-align: right;\n",
       "    }\n",
       "</style>\n",
       "<table border=\"1\" class=\"dataframe\">\n",
       "  <thead>\n",
       "    <tr style=\"text-align: right;\">\n",
       "      <th></th>\n",
       "      <th>geo_dist</th>\n",
       "      <th>reg_r</th>\n",
       "      <th>lin_r</th>\n",
       "      <th>tau_r</th>\n",
       "      <th>sp_r</th>\n",
       "      <th>mse</th>\n",
       "      <th>reg_r_block</th>\n",
       "      <th>lin_r_block</th>\n",
       "    </tr>\n",
       "  </thead>\n",
       "  <tbody>\n",
       "    <tr>\n",
       "      <th>count</th>\n",
       "      <td>36.000000</td>\n",
       "      <td>36.000000</td>\n",
       "      <td>36.000000</td>\n",
       "      <td>36.000000</td>\n",
       "      <td>36.000000</td>\n",
       "      <td>36.000000</td>\n",
       "      <td>36.000000</td>\n",
       "      <td>36.000000</td>\n",
       "    </tr>\n",
       "    <tr>\n",
       "      <th>mean</th>\n",
       "      <td>0.647076</td>\n",
       "      <td>0.367870</td>\n",
       "      <td>0.303632</td>\n",
       "      <td>0.169004</td>\n",
       "      <td>0.250180</td>\n",
       "      <td>0.052843</td>\n",
       "      <td>0.312165</td>\n",
       "      <td>0.271480</td>\n",
       "    </tr>\n",
       "    <tr>\n",
       "      <th>std</th>\n",
       "      <td>0.020243</td>\n",
       "      <td>0.083373</td>\n",
       "      <td>0.070652</td>\n",
       "      <td>0.047453</td>\n",
       "      <td>0.068761</td>\n",
       "      <td>0.008607</td>\n",
       "      <td>0.077790</td>\n",
       "      <td>0.068451</td>\n",
       "    </tr>\n",
       "    <tr>\n",
       "      <th>min</th>\n",
       "      <td>0.605601</td>\n",
       "      <td>0.201140</td>\n",
       "      <td>0.173329</td>\n",
       "      <td>0.081160</td>\n",
       "      <td>0.121868</td>\n",
       "      <td>0.041212</td>\n",
       "      <td>0.165345</td>\n",
       "      <td>0.139523</td>\n",
       "    </tr>\n",
       "    <tr>\n",
       "      <th>25%</th>\n",
       "      <td>0.636266</td>\n",
       "      <td>0.309632</td>\n",
       "      <td>0.252991</td>\n",
       "      <td>0.136146</td>\n",
       "      <td>0.202684</td>\n",
       "      <td>0.046373</td>\n",
       "      <td>0.245602</td>\n",
       "      <td>0.221010</td>\n",
       "    </tr>\n",
       "    <tr>\n",
       "      <th>50%</th>\n",
       "      <td>0.648060</td>\n",
       "      <td>0.363823</td>\n",
       "      <td>0.296147</td>\n",
       "      <td>0.164441</td>\n",
       "      <td>0.244024</td>\n",
       "      <td>0.050299</td>\n",
       "      <td>0.327236</td>\n",
       "      <td>0.274382</td>\n",
       "    </tr>\n",
       "    <tr>\n",
       "      <th>75%</th>\n",
       "      <td>0.665359</td>\n",
       "      <td>0.436283</td>\n",
       "      <td>0.363714</td>\n",
       "      <td>0.190010</td>\n",
       "      <td>0.282966</td>\n",
       "      <td>0.058414</td>\n",
       "      <td>0.368424</td>\n",
       "      <td>0.317537</td>\n",
       "    </tr>\n",
       "    <tr>\n",
       "      <th>max</th>\n",
       "      <td>0.680735</td>\n",
       "      <td>0.540590</td>\n",
       "      <td>0.423064</td>\n",
       "      <td>0.269294</td>\n",
       "      <td>0.394350</td>\n",
       "      <td>0.071946</td>\n",
       "      <td>0.485102</td>\n",
       "      <td>0.401633</td>\n",
       "    </tr>\n",
       "  </tbody>\n",
       "</table>\n",
       "</div>"
      ],
      "text/plain": [
       "        geo_dist      reg_r      lin_r      tau_r       sp_r        mse  \\\n",
       "count  36.000000  36.000000  36.000000  36.000000  36.000000  36.000000   \n",
       "mean    0.647076   0.367870   0.303632   0.169004   0.250180   0.052843   \n",
       "std     0.020243   0.083373   0.070652   0.047453   0.068761   0.008607   \n",
       "min     0.605601   0.201140   0.173329   0.081160   0.121868   0.041212   \n",
       "25%     0.636266   0.309632   0.252991   0.136146   0.202684   0.046373   \n",
       "50%     0.648060   0.363823   0.296147   0.164441   0.244024   0.050299   \n",
       "75%     0.665359   0.436283   0.363714   0.190010   0.282966   0.058414   \n",
       "max     0.680735   0.540590   0.423064   0.269294   0.394350   0.071946   \n",
       "\n",
       "       reg_r_block  lin_r_block  \n",
       "count    36.000000    36.000000  \n",
       "mean      0.312165     0.271480  \n",
       "std       0.077790     0.068451  \n",
       "min       0.165345     0.139523  \n",
       "25%       0.245602     0.221010  \n",
       "50%       0.327236     0.274382  \n",
       "75%       0.368424     0.317537  \n",
       "max       0.485102     0.401633  "
      ]
     },
     "execution_count": 20,
     "metadata": {},
     "output_type": "execute_result"
    }
   ],
   "source": [
    "metrics_df = pd.DataFrame(metrics);\n",
    "metrics_df.describe()"
   ]
  },
  {
   "cell_type": "code",
   "execution_count": 21,
   "id": "e113e7d6",
   "metadata": {
    "ExecuteTime": {
     "end_time": "2023-09-27T03:55:35.069018Z",
     "start_time": "2023-09-27T03:55:35.027393Z"
    }
   },
   "outputs": [
    {
     "data": {
      "text/html": [
       "<div>\n",
       "<style scoped>\n",
       "    .dataframe tbody tr th:only-of-type {\n",
       "        vertical-align: middle;\n",
       "    }\n",
       "\n",
       "    .dataframe tbody tr th {\n",
       "        vertical-align: top;\n",
       "    }\n",
       "\n",
       "    .dataframe thead th {\n",
       "        text-align: right;\n",
       "    }\n",
       "</style>\n",
       "<table border=\"1\" class=\"dataframe\">\n",
       "  <thead>\n",
       "    <tr style=\"text-align: right;\">\n",
       "      <th></th>\n",
       "      <th>geo_dist</th>\n",
       "      <th>reg_r</th>\n",
       "      <th>lin_r</th>\n",
       "      <th>tau_r</th>\n",
       "      <th>sp_r</th>\n",
       "      <th>mse</th>\n",
       "      <th>reg_r_block</th>\n",
       "      <th>lin_r_block</th>\n",
       "    </tr>\n",
       "  </thead>\n",
       "  <tbody>\n",
       "    <tr>\n",
       "      <th>count</th>\n",
       "      <td>36.000000</td>\n",
       "      <td>36.000000</td>\n",
       "      <td>36.000000</td>\n",
       "      <td>36.000000</td>\n",
       "      <td>36.000000</td>\n",
       "      <td>36.000000</td>\n",
       "      <td>36.000000</td>\n",
       "      <td>36.000000</td>\n",
       "    </tr>\n",
       "    <tr>\n",
       "      <th>mean</th>\n",
       "      <td>0.638220</td>\n",
       "      <td>0.405606</td>\n",
       "      <td>0.326151</td>\n",
       "      <td>0.189193</td>\n",
       "      <td>0.279372</td>\n",
       "      <td>0.053170</td>\n",
       "      <td>0.354067</td>\n",
       "      <td>0.301891</td>\n",
       "    </tr>\n",
       "    <tr>\n",
       "      <th>std</th>\n",
       "      <td>0.019257</td>\n",
       "      <td>0.076334</td>\n",
       "      <td>0.064828</td>\n",
       "      <td>0.048403</td>\n",
       "      <td>0.069621</td>\n",
       "      <td>0.008715</td>\n",
       "      <td>0.074489</td>\n",
       "      <td>0.063271</td>\n",
       "    </tr>\n",
       "    <tr>\n",
       "      <th>min</th>\n",
       "      <td>0.602759</td>\n",
       "      <td>0.242760</td>\n",
       "      <td>0.205651</td>\n",
       "      <td>0.081998</td>\n",
       "      <td>0.123158</td>\n",
       "      <td>0.041360</td>\n",
       "      <td>0.223201</td>\n",
       "      <td>0.175328</td>\n",
       "    </tr>\n",
       "    <tr>\n",
       "      <th>25%</th>\n",
       "      <td>0.628828</td>\n",
       "      <td>0.348585</td>\n",
       "      <td>0.278215</td>\n",
       "      <td>0.157029</td>\n",
       "      <td>0.233368</td>\n",
       "      <td>0.046464</td>\n",
       "      <td>0.285459</td>\n",
       "      <td>0.242729</td>\n",
       "    </tr>\n",
       "    <tr>\n",
       "      <th>50%</th>\n",
       "      <td>0.641117</td>\n",
       "      <td>0.422031</td>\n",
       "      <td>0.328882</td>\n",
       "      <td>0.181428</td>\n",
       "      <td>0.268754</td>\n",
       "      <td>0.050280</td>\n",
       "      <td>0.384527</td>\n",
       "      <td>0.319402</td>\n",
       "    </tr>\n",
       "    <tr>\n",
       "      <th>75%</th>\n",
       "      <td>0.648414</td>\n",
       "      <td>0.454403</td>\n",
       "      <td>0.373481</td>\n",
       "      <td>0.220958</td>\n",
       "      <td>0.327864</td>\n",
       "      <td>0.058566</td>\n",
       "      <td>0.409784</td>\n",
       "      <td>0.349378</td>\n",
       "    </tr>\n",
       "    <tr>\n",
       "      <th>max</th>\n",
       "      <td>0.677122</td>\n",
       "      <td>0.555496</td>\n",
       "      <td>0.436350</td>\n",
       "      <td>0.300678</td>\n",
       "      <td>0.435466</td>\n",
       "      <td>0.071959</td>\n",
       "      <td>0.503827</td>\n",
       "      <td>0.415704</td>\n",
       "    </tr>\n",
       "  </tbody>\n",
       "</table>\n",
       "</div>"
      ],
      "text/plain": [
       "        geo_dist      reg_r      lin_r      tau_r       sp_r        mse  \\\n",
       "count  36.000000  36.000000  36.000000  36.000000  36.000000  36.000000   \n",
       "mean    0.638220   0.405606   0.326151   0.189193   0.279372   0.053170   \n",
       "std     0.019257   0.076334   0.064828   0.048403   0.069621   0.008715   \n",
       "min     0.602759   0.242760   0.205651   0.081998   0.123158   0.041360   \n",
       "25%     0.628828   0.348585   0.278215   0.157029   0.233368   0.046464   \n",
       "50%     0.641117   0.422031   0.328882   0.181428   0.268754   0.050280   \n",
       "75%     0.648414   0.454403   0.373481   0.220958   0.327864   0.058566   \n",
       "max     0.677122   0.555496   0.436350   0.300678   0.435466   0.071959   \n",
       "\n",
       "       reg_r_block  lin_r_block  \n",
       "count    36.000000    36.000000  \n",
       "mean      0.354067     0.301891  \n",
       "std       0.074489     0.063271  \n",
       "min       0.223201     0.175328  \n",
       "25%       0.285459     0.242729  \n",
       "50%       0.384527     0.319402  \n",
       "75%       0.409784     0.349378  \n",
       "max       0.503827     0.415704  "
      ]
     },
     "execution_count": 21,
     "metadata": {},
     "output_type": "execute_result"
    }
   ],
   "source": [
    "metrics_df = pd.DataFrame(metrics);\n",
    "metrics_df.describe()"
   ]
  },
  {
   "cell_type": "code",
   "execution_count": 20,
   "id": "eb16d9ad",
   "metadata": {
    "ExecuteTime": {
     "end_time": "2023-09-27T03:48:10.942874Z",
     "start_time": "2023-09-27T03:48:10.901308Z"
    }
   },
   "outputs": [
    {
     "data": {
      "text/html": [
       "<div>\n",
       "<style scoped>\n",
       "    .dataframe tbody tr th:only-of-type {\n",
       "        vertical-align: middle;\n",
       "    }\n",
       "\n",
       "    .dataframe tbody tr th {\n",
       "        vertical-align: top;\n",
       "    }\n",
       "\n",
       "    .dataframe thead th {\n",
       "        text-align: right;\n",
       "    }\n",
       "</style>\n",
       "<table border=\"1\" class=\"dataframe\">\n",
       "  <thead>\n",
       "    <tr style=\"text-align: right;\">\n",
       "      <th></th>\n",
       "      <th>geo_dist</th>\n",
       "      <th>reg_r</th>\n",
       "      <th>lin_r</th>\n",
       "      <th>tau_r</th>\n",
       "      <th>sp_r</th>\n",
       "      <th>mse</th>\n",
       "      <th>reg_r_block</th>\n",
       "      <th>lin_r_block</th>\n",
       "    </tr>\n",
       "  </thead>\n",
       "  <tbody>\n",
       "    <tr>\n",
       "      <th>count</th>\n",
       "      <td>36.000000</td>\n",
       "      <td>36.000000</td>\n",
       "      <td>36.000000</td>\n",
       "      <td>36.000000</td>\n",
       "      <td>36.000000</td>\n",
       "      <td>36.000000</td>\n",
       "      <td>36.000000</td>\n",
       "      <td>36.000000</td>\n",
       "    </tr>\n",
       "    <tr>\n",
       "      <th>mean</th>\n",
       "      <td>0.643468</td>\n",
       "      <td>0.379214</td>\n",
       "      <td>0.310447</td>\n",
       "      <td>0.174556</td>\n",
       "      <td>0.258285</td>\n",
       "      <td>0.052827</td>\n",
       "      <td>0.323461</td>\n",
       "      <td>0.279533</td>\n",
       "    </tr>\n",
       "    <tr>\n",
       "      <th>std</th>\n",
       "      <td>0.019009</td>\n",
       "      <td>0.076103</td>\n",
       "      <td>0.065052</td>\n",
       "      <td>0.044965</td>\n",
       "      <td>0.065106</td>\n",
       "      <td>0.008662</td>\n",
       "      <td>0.071116</td>\n",
       "      <td>0.062288</td>\n",
       "    </tr>\n",
       "    <tr>\n",
       "      <th>min</th>\n",
       "      <td>0.609754</td>\n",
       "      <td>0.230240</td>\n",
       "      <td>0.193279</td>\n",
       "      <td>0.082645</td>\n",
       "      <td>0.124082</td>\n",
       "      <td>0.041209</td>\n",
       "      <td>0.186205</td>\n",
       "      <td>0.148094</td>\n",
       "    </tr>\n",
       "    <tr>\n",
       "      <th>25%</th>\n",
       "      <td>0.630223</td>\n",
       "      <td>0.334619</td>\n",
       "      <td>0.266154</td>\n",
       "      <td>0.142757</td>\n",
       "      <td>0.211939</td>\n",
       "      <td>0.046338</td>\n",
       "      <td>0.257778</td>\n",
       "      <td>0.225841</td>\n",
       "    </tr>\n",
       "    <tr>\n",
       "      <th>50%</th>\n",
       "      <td>0.645276</td>\n",
       "      <td>0.377902</td>\n",
       "      <td>0.298017</td>\n",
       "      <td>0.173610</td>\n",
       "      <td>0.257451</td>\n",
       "      <td>0.050195</td>\n",
       "      <td>0.346486</td>\n",
       "      <td>0.289812</td>\n",
       "    </tr>\n",
       "    <tr>\n",
       "      <th>75%</th>\n",
       "      <td>0.653516</td>\n",
       "      <td>0.443455</td>\n",
       "      <td>0.361697</td>\n",
       "      <td>0.194269</td>\n",
       "      <td>0.289186</td>\n",
       "      <td>0.059096</td>\n",
       "      <td>0.374324</td>\n",
       "      <td>0.320145</td>\n",
       "    </tr>\n",
       "    <tr>\n",
       "      <th>max</th>\n",
       "      <td>0.679830</td>\n",
       "      <td>0.528627</td>\n",
       "      <td>0.418106</td>\n",
       "      <td>0.269636</td>\n",
       "      <td>0.394831</td>\n",
       "      <td>0.071975</td>\n",
       "      <td>0.470943</td>\n",
       "      <td>0.390412</td>\n",
       "    </tr>\n",
       "  </tbody>\n",
       "</table>\n",
       "</div>"
      ],
      "text/plain": [
       "        geo_dist      reg_r      lin_r      tau_r       sp_r        mse  \\\n",
       "count  36.000000  36.000000  36.000000  36.000000  36.000000  36.000000   \n",
       "mean    0.643468   0.379214   0.310447   0.174556   0.258285   0.052827   \n",
       "std     0.019009   0.076103   0.065052   0.044965   0.065106   0.008662   \n",
       "min     0.609754   0.230240   0.193279   0.082645   0.124082   0.041209   \n",
       "25%     0.630223   0.334619   0.266154   0.142757   0.211939   0.046338   \n",
       "50%     0.645276   0.377902   0.298017   0.173610   0.257451   0.050195   \n",
       "75%     0.653516   0.443455   0.361697   0.194269   0.289186   0.059096   \n",
       "max     0.679830   0.528627   0.418106   0.269636   0.394831   0.071975   \n",
       "\n",
       "       reg_r_block  lin_r_block  \n",
       "count    36.000000    36.000000  \n",
       "mean      0.323461     0.279533  \n",
       "std       0.071116     0.062288  \n",
       "min       0.186205     0.148094  \n",
       "25%       0.257778     0.225841  \n",
       "50%       0.346486     0.289812  \n",
       "75%       0.374324     0.320145  \n",
       "max       0.470943     0.390412  "
      ]
     },
     "execution_count": 20,
     "metadata": {},
     "output_type": "execute_result"
    }
   ],
   "source": [
    "metrics_df = pd.DataFrame(metrics);\n",
    "metrics_df.describe()"
   ]
  },
  {
   "cell_type": "code",
   "execution_count": 45,
   "id": "e86ab990",
   "metadata": {
    "ExecuteTime": {
     "end_time": "2023-09-26T18:19:09.815598Z",
     "start_time": "2023-09-26T18:19:09.775937Z"
    }
   },
   "outputs": [
    {
     "data": {
      "text/html": [
       "<div>\n",
       "<style scoped>\n",
       "    .dataframe tbody tr th:only-of-type {\n",
       "        vertical-align: middle;\n",
       "    }\n",
       "\n",
       "    .dataframe tbody tr th {\n",
       "        vertical-align: top;\n",
       "    }\n",
       "\n",
       "    .dataframe thead th {\n",
       "        text-align: right;\n",
       "    }\n",
       "</style>\n",
       "<table border=\"1\" class=\"dataframe\">\n",
       "  <thead>\n",
       "    <tr style=\"text-align: right;\">\n",
       "      <th></th>\n",
       "      <th>geo_dist</th>\n",
       "      <th>reg_r</th>\n",
       "      <th>lin_r</th>\n",
       "      <th>tau_r</th>\n",
       "      <th>sp_r</th>\n",
       "      <th>mse</th>\n",
       "      <th>reg_r_block</th>\n",
       "      <th>lin_r_block</th>\n",
       "    </tr>\n",
       "  </thead>\n",
       "  <tbody>\n",
       "    <tr>\n",
       "      <th>count</th>\n",
       "      <td>36.000000</td>\n",
       "      <td>36.000000</td>\n",
       "      <td>36.000000</td>\n",
       "      <td>36.000000</td>\n",
       "      <td>36.000000</td>\n",
       "      <td>36.000000</td>\n",
       "      <td>36.000000</td>\n",
       "      <td>36.000000</td>\n",
       "    </tr>\n",
       "    <tr>\n",
       "      <th>mean</th>\n",
       "      <td>0.673234</td>\n",
       "      <td>0.280132</td>\n",
       "      <td>0.224623</td>\n",
       "      <td>0.128395</td>\n",
       "      <td>0.190835</td>\n",
       "      <td>0.057691</td>\n",
       "      <td>0.225461</td>\n",
       "      <td>0.186728</td>\n",
       "    </tr>\n",
       "    <tr>\n",
       "      <th>std</th>\n",
       "      <td>0.029197</td>\n",
       "      <td>0.087506</td>\n",
       "      <td>0.066345</td>\n",
       "      <td>0.038488</td>\n",
       "      <td>0.056633</td>\n",
       "      <td>0.008161</td>\n",
       "      <td>0.087126</td>\n",
       "      <td>0.068306</td>\n",
       "    </tr>\n",
       "    <tr>\n",
       "      <th>min</th>\n",
       "      <td>0.623502</td>\n",
       "      <td>0.065645</td>\n",
       "      <td>0.062117</td>\n",
       "      <td>0.019120</td>\n",
       "      <td>0.028950</td>\n",
       "      <td>0.044554</td>\n",
       "      <td>0.026561</td>\n",
       "      <td>0.023938</td>\n",
       "    </tr>\n",
       "    <tr>\n",
       "      <th>25%</th>\n",
       "      <td>0.656180</td>\n",
       "      <td>0.230501</td>\n",
       "      <td>0.189046</td>\n",
       "      <td>0.106002</td>\n",
       "      <td>0.158192</td>\n",
       "      <td>0.051216</td>\n",
       "      <td>0.182001</td>\n",
       "      <td>0.154654</td>\n",
       "    </tr>\n",
       "    <tr>\n",
       "      <th>50%</th>\n",
       "      <td>0.670617</td>\n",
       "      <td>0.286476</td>\n",
       "      <td>0.230793</td>\n",
       "      <td>0.131964</td>\n",
       "      <td>0.196081</td>\n",
       "      <td>0.057479</td>\n",
       "      <td>0.229981</td>\n",
       "      <td>0.190228</td>\n",
       "    </tr>\n",
       "    <tr>\n",
       "      <th>75%</th>\n",
       "      <td>0.681553</td>\n",
       "      <td>0.331113</td>\n",
       "      <td>0.275145</td>\n",
       "      <td>0.152837</td>\n",
       "      <td>0.227588</td>\n",
       "      <td>0.062696</td>\n",
       "      <td>0.281527</td>\n",
       "      <td>0.228085</td>\n",
       "    </tr>\n",
       "    <tr>\n",
       "      <th>max</th>\n",
       "      <td>0.781974</td>\n",
       "      <td>0.434684</td>\n",
       "      <td>0.352480</td>\n",
       "      <td>0.192797</td>\n",
       "      <td>0.285480</td>\n",
       "      <td>0.077729</td>\n",
       "      <td>0.398713</td>\n",
       "      <td>0.322785</td>\n",
       "    </tr>\n",
       "  </tbody>\n",
       "</table>\n",
       "</div>"
      ],
      "text/plain": [
       "        geo_dist      reg_r      lin_r      tau_r       sp_r        mse  \\\n",
       "count  36.000000  36.000000  36.000000  36.000000  36.000000  36.000000   \n",
       "mean    0.673234   0.280132   0.224623   0.128395   0.190835   0.057691   \n",
       "std     0.029197   0.087506   0.066345   0.038488   0.056633   0.008161   \n",
       "min     0.623502   0.065645   0.062117   0.019120   0.028950   0.044554   \n",
       "25%     0.656180   0.230501   0.189046   0.106002   0.158192   0.051216   \n",
       "50%     0.670617   0.286476   0.230793   0.131964   0.196081   0.057479   \n",
       "75%     0.681553   0.331113   0.275145   0.152837   0.227588   0.062696   \n",
       "max     0.781974   0.434684   0.352480   0.192797   0.285480   0.077729   \n",
       "\n",
       "       reg_r_block  lin_r_block  \n",
       "count    36.000000    36.000000  \n",
       "mean      0.225461     0.186728  \n",
       "std       0.087126     0.068306  \n",
       "min       0.026561     0.023938  \n",
       "25%       0.182001     0.154654  \n",
       "50%       0.229981     0.190228  \n",
       "75%       0.281527     0.228085  \n",
       "max       0.398713     0.322785  "
      ]
     },
     "execution_count": 45,
     "metadata": {},
     "output_type": "execute_result"
    }
   ],
   "source": [
    "metrics_df = pd.DataFrame(metrics);\n",
    "metrics_df.describe()"
   ]
  },
  {
   "cell_type": "code",
   "execution_count": 23,
   "id": "4a579696",
   "metadata": {
    "ExecuteTime": {
     "end_time": "2023-09-26T18:13:00.949236Z",
     "start_time": "2023-09-26T18:13:00.905428Z"
    }
   },
   "outputs": [
    {
     "data": {
      "text/html": [
       "<div>\n",
       "<style scoped>\n",
       "    .dataframe tbody tr th:only-of-type {\n",
       "        vertical-align: middle;\n",
       "    }\n",
       "\n",
       "    .dataframe tbody tr th {\n",
       "        vertical-align: top;\n",
       "    }\n",
       "\n",
       "    .dataframe thead th {\n",
       "        text-align: right;\n",
       "    }\n",
       "</style>\n",
       "<table border=\"1\" class=\"dataframe\">\n",
       "  <thead>\n",
       "    <tr style=\"text-align: right;\">\n",
       "      <th></th>\n",
       "      <th>geo_dist</th>\n",
       "      <th>reg_r</th>\n",
       "      <th>lin_r</th>\n",
       "      <th>tau_r</th>\n",
       "      <th>sp_r</th>\n",
       "      <th>mse</th>\n",
       "      <th>reg_r_block</th>\n",
       "      <th>lin_r_block</th>\n",
       "    </tr>\n",
       "  </thead>\n",
       "  <tbody>\n",
       "    <tr>\n",
       "      <th>count</th>\n",
       "      <td>36.000000</td>\n",
       "      <td>36.000000</td>\n",
       "      <td>36.000000</td>\n",
       "      <td>36.000000</td>\n",
       "      <td>36.000000</td>\n",
       "      <td>36.000000</td>\n",
       "      <td>36.000000</td>\n",
       "      <td>36.000000</td>\n",
       "    </tr>\n",
       "    <tr>\n",
       "      <th>mean</th>\n",
       "      <td>0.662562</td>\n",
       "      <td>0.273267</td>\n",
       "      <td>0.243775</td>\n",
       "      <td>0.133097</td>\n",
       "      <td>0.198102</td>\n",
       "      <td>0.055565</td>\n",
       "      <td>0.218019</td>\n",
       "      <td>0.196300</td>\n",
       "    </tr>\n",
       "    <tr>\n",
       "      <th>std</th>\n",
       "      <td>0.019081</td>\n",
       "      <td>0.055996</td>\n",
       "      <td>0.048914</td>\n",
       "      <td>0.028782</td>\n",
       "      <td>0.042361</td>\n",
       "      <td>0.007392</td>\n",
       "      <td>0.055654</td>\n",
       "      <td>0.048228</td>\n",
       "    </tr>\n",
       "    <tr>\n",
       "      <th>min</th>\n",
       "      <td>0.617322</td>\n",
       "      <td>0.132777</td>\n",
       "      <td>0.110380</td>\n",
       "      <td>0.058295</td>\n",
       "      <td>0.086882</td>\n",
       "      <td>0.044860</td>\n",
       "      <td>0.117989</td>\n",
       "      <td>0.100616</td>\n",
       "    </tr>\n",
       "    <tr>\n",
       "      <th>25%</th>\n",
       "      <td>0.650207</td>\n",
       "      <td>0.237380</td>\n",
       "      <td>0.215005</td>\n",
       "      <td>0.115846</td>\n",
       "      <td>0.171909</td>\n",
       "      <td>0.050207</td>\n",
       "      <td>0.182674</td>\n",
       "      <td>0.166197</td>\n",
       "    </tr>\n",
       "    <tr>\n",
       "      <th>50%</th>\n",
       "      <td>0.661226</td>\n",
       "      <td>0.277591</td>\n",
       "      <td>0.247200</td>\n",
       "      <td>0.132796</td>\n",
       "      <td>0.197597</td>\n",
       "      <td>0.053446</td>\n",
       "      <td>0.210029</td>\n",
       "      <td>0.194258</td>\n",
       "    </tr>\n",
       "    <tr>\n",
       "      <th>75%</th>\n",
       "      <td>0.673963</td>\n",
       "      <td>0.309287</td>\n",
       "      <td>0.272117</td>\n",
       "      <td>0.150207</td>\n",
       "      <td>0.223748</td>\n",
       "      <td>0.060757</td>\n",
       "      <td>0.264324</td>\n",
       "      <td>0.230027</td>\n",
       "    </tr>\n",
       "    <tr>\n",
       "      <th>max</th>\n",
       "      <td>0.699880</td>\n",
       "      <td>0.390543</td>\n",
       "      <td>0.346376</td>\n",
       "      <td>0.183496</td>\n",
       "      <td>0.272866</td>\n",
       "      <td>0.074375</td>\n",
       "      <td>0.332252</td>\n",
       "      <td>0.307250</td>\n",
       "    </tr>\n",
       "  </tbody>\n",
       "</table>\n",
       "</div>"
      ],
      "text/plain": [
       "        geo_dist      reg_r      lin_r      tau_r       sp_r        mse  \\\n",
       "count  36.000000  36.000000  36.000000  36.000000  36.000000  36.000000   \n",
       "mean    0.662562   0.273267   0.243775   0.133097   0.198102   0.055565   \n",
       "std     0.019081   0.055996   0.048914   0.028782   0.042361   0.007392   \n",
       "min     0.617322   0.132777   0.110380   0.058295   0.086882   0.044860   \n",
       "25%     0.650207   0.237380   0.215005   0.115846   0.171909   0.050207   \n",
       "50%     0.661226   0.277591   0.247200   0.132796   0.197597   0.053446   \n",
       "75%     0.673963   0.309287   0.272117   0.150207   0.223748   0.060757   \n",
       "max     0.699880   0.390543   0.346376   0.183496   0.272866   0.074375   \n",
       "\n",
       "       reg_r_block  lin_r_block  \n",
       "count    36.000000    36.000000  \n",
       "mean      0.218019     0.196300  \n",
       "std       0.055654     0.048228  \n",
       "min       0.117989     0.100616  \n",
       "25%       0.182674     0.166197  \n",
       "50%       0.210029     0.194258  \n",
       "75%       0.264324     0.230027  \n",
       "max       0.332252     0.307250  "
      ]
     },
     "execution_count": 23,
     "metadata": {},
     "output_type": "execute_result"
    }
   ],
   "source": [
    "metrics_df = pd.DataFrame(metrics);\n",
    "metrics_df.describe()"
   ]
  },
  {
   "cell_type": "code",
   "execution_count": null,
   "id": "ed09930b",
   "metadata": {},
   "outputs": [],
   "source": []
  },
  {
   "cell_type": "code",
   "execution_count": null,
   "id": "5d7462c2",
   "metadata": {},
   "outputs": [],
   "source": []
  },
  {
   "cell_type": "markdown",
   "id": "873bfee8",
   "metadata": {},
   "source": [
    "### Full Bayesian"
   ]
  },
  {
   "cell_type": "code",
   "execution_count": 53,
   "id": "66f7bd42",
   "metadata": {
    "ExecuteTime": {
     "end_time": "2023-09-27T17:05:55.775542Z",
     "start_time": "2023-09-27T17:03:23.369674Z"
    },
    "scrolled": true
   },
   "outputs": [
    {
     "name": "stdout",
     "output_type": "stream",
     "text": [
      "0\n"
     ]
    },
    {
     "data": {
      "application/vnd.jupyter.widget-view+json": {
       "model_id": "acf13dd37581473db40cb7cfe6238712",
       "version_major": 2,
       "version_minor": 0
      },
      "text/plain": [
       "Drawing 1000 posterior samples:   0%|          | 0/1000 [00:00<?, ?it/s]"
      ]
     },
     "metadata": {},
     "output_type": "display_data"
    },
    {
     "data": {
      "application/vnd.jupyter.widget-view+json": {
       "model_id": "2300c7a8e1a64d95b39cb62061f82864",
       "version_major": 2,
       "version_minor": 0
      },
      "text/plain": [
       "Running 1000 simulations in 1000 batches.:   0%|          | 0/1000 [00:00<?, ?it/s]"
      ]
     },
     "metadata": {},
     "output_type": "display_data"
    },
    {
     "name": "stdout",
     "output_type": "stream",
     "text": [
      "torch.Size([1000, 4624])\n",
      "1\n"
     ]
    },
    {
     "data": {
      "application/vnd.jupyter.widget-view+json": {
       "model_id": "dee9e2dbae7f4949bc066d442fd12b7b",
       "version_major": 2,
       "version_minor": 0
      },
      "text/plain": [
       "Drawing 1000 posterior samples:   0%|          | 0/1000 [00:00<?, ?it/s]"
      ]
     },
     "metadata": {},
     "output_type": "display_data"
    },
    {
     "data": {
      "application/vnd.jupyter.widget-view+json": {
       "model_id": "89c1402766b643adb31fc841b0e1210e",
       "version_major": 2,
       "version_minor": 0
      },
      "text/plain": [
       "Running 1000 simulations in 1000 batches.:   0%|          | 0/1000 [00:00<?, ?it/s]"
      ]
     },
     "metadata": {},
     "output_type": "display_data"
    },
    {
     "name": "stdout",
     "output_type": "stream",
     "text": [
      "torch.Size([1000, 4624])\n",
      "2\n"
     ]
    },
    {
     "data": {
      "application/vnd.jupyter.widget-view+json": {
       "model_id": "4383fc7b6e8b4a5394d05c67e83c1b17",
       "version_major": 2,
       "version_minor": 0
      },
      "text/plain": [
       "Drawing 1000 posterior samples:   0%|          | 0/1000 [00:00<?, ?it/s]"
      ]
     },
     "metadata": {},
     "output_type": "display_data"
    },
    {
     "data": {
      "application/vnd.jupyter.widget-view+json": {
       "model_id": "cd0e64d51384470aa1911218f311049e",
       "version_major": 2,
       "version_minor": 0
      },
      "text/plain": [
       "Running 1000 simulations in 1000 batches.:   0%|          | 0/1000 [00:00<?, ?it/s]"
      ]
     },
     "metadata": {},
     "output_type": "display_data"
    },
    {
     "name": "stdout",
     "output_type": "stream",
     "text": [
      "torch.Size([1000, 4624])\n",
      "3\n"
     ]
    },
    {
     "data": {
      "application/vnd.jupyter.widget-view+json": {
       "model_id": "63269d98a2804b19ae8ba841a7fb38a6",
       "version_major": 2,
       "version_minor": 0
      },
      "text/plain": [
       "Drawing 1000 posterior samples:   0%|          | 0/1000 [00:00<?, ?it/s]"
      ]
     },
     "metadata": {},
     "output_type": "display_data"
    },
    {
     "data": {
      "application/vnd.jupyter.widget-view+json": {
       "model_id": "997087c3d18844e48fc8c14446578e92",
       "version_major": 2,
       "version_minor": 0
      },
      "text/plain": [
       "Running 1000 simulations in 1000 batches.:   0%|          | 0/1000 [00:00<?, ?it/s]"
      ]
     },
     "metadata": {},
     "output_type": "display_data"
    },
    {
     "name": "stdout",
     "output_type": "stream",
     "text": [
      "torch.Size([1000, 4624])\n",
      "4\n"
     ]
    },
    {
     "data": {
      "application/vnd.jupyter.widget-view+json": {
       "model_id": "e850fb34b9934cebaaa9dfdbf0454b16",
       "version_major": 2,
       "version_minor": 0
      },
      "text/plain": [
       "Drawing 1000 posterior samples:   0%|          | 0/1000 [00:00<?, ?it/s]"
      ]
     },
     "metadata": {},
     "output_type": "display_data"
    },
    {
     "data": {
      "application/vnd.jupyter.widget-view+json": {
       "model_id": "e041db507ce0438fa3151e78e4e5d780",
       "version_major": 2,
       "version_minor": 0
      },
      "text/plain": [
       "Running 1000 simulations in 1000 batches.:   0%|          | 0/1000 [00:00<?, ?it/s]"
      ]
     },
     "metadata": {},
     "output_type": "display_data"
    },
    {
     "name": "stdout",
     "output_type": "stream",
     "text": [
      "torch.Size([1000, 4624])\n",
      "5\n"
     ]
    },
    {
     "data": {
      "application/vnd.jupyter.widget-view+json": {
       "model_id": "0d3fac67b3064665abe8ec0b56a4eacb",
       "version_major": 2,
       "version_minor": 0
      },
      "text/plain": [
       "Drawing 1000 posterior samples:   0%|          | 0/1000 [00:00<?, ?it/s]"
      ]
     },
     "metadata": {},
     "output_type": "display_data"
    },
    {
     "data": {
      "application/vnd.jupyter.widget-view+json": {
       "model_id": "4b0055615ec94bc6ba87736ec17aa34b",
       "version_major": 2,
       "version_minor": 0
      },
      "text/plain": [
       "Running 1000 simulations in 1000 batches.:   0%|          | 0/1000 [00:00<?, ?it/s]"
      ]
     },
     "metadata": {},
     "output_type": "display_data"
    },
    {
     "name": "stdout",
     "output_type": "stream",
     "text": [
      "torch.Size([1000, 4624])\n",
      "6\n"
     ]
    },
    {
     "data": {
      "application/vnd.jupyter.widget-view+json": {
       "model_id": "3a66467561e641a2b84e76e54b1a6e85",
       "version_major": 2,
       "version_minor": 0
      },
      "text/plain": [
       "Drawing 1000 posterior samples:   0%|          | 0/1000 [00:00<?, ?it/s]"
      ]
     },
     "metadata": {},
     "output_type": "display_data"
    },
    {
     "data": {
      "application/vnd.jupyter.widget-view+json": {
       "model_id": "57bacf6ed12b4cb6930352fd2cb93f8b",
       "version_major": 2,
       "version_minor": 0
      },
      "text/plain": [
       "Running 1000 simulations in 1000 batches.:   0%|          | 0/1000 [00:00<?, ?it/s]"
      ]
     },
     "metadata": {},
     "output_type": "display_data"
    },
    {
     "name": "stdout",
     "output_type": "stream",
     "text": [
      "torch.Size([1000, 4624])\n",
      "7\n"
     ]
    },
    {
     "data": {
      "application/vnd.jupyter.widget-view+json": {
       "model_id": "f2e45c0e6ee44c2a83a88f25aca38502",
       "version_major": 2,
       "version_minor": 0
      },
      "text/plain": [
       "Drawing 1000 posterior samples:   0%|          | 0/1000 [00:00<?, ?it/s]"
      ]
     },
     "metadata": {},
     "output_type": "display_data"
    },
    {
     "data": {
      "application/vnd.jupyter.widget-view+json": {
       "model_id": "9e23bc83c6d6485b9a453570d47e0047",
       "version_major": 2,
       "version_minor": 0
      },
      "text/plain": [
       "Running 1000 simulations in 1000 batches.:   0%|          | 0/1000 [00:00<?, ?it/s]"
      ]
     },
     "metadata": {},
     "output_type": "display_data"
    },
    {
     "name": "stdout",
     "output_type": "stream",
     "text": [
      "torch.Size([1000, 4624])\n",
      "8\n"
     ]
    },
    {
     "data": {
      "application/vnd.jupyter.widget-view+json": {
       "model_id": "851863d90c374f03be15ee15c16d2027",
       "version_major": 2,
       "version_minor": 0
      },
      "text/plain": [
       "Drawing 1000 posterior samples:   0%|          | 0/1000 [00:00<?, ?it/s]"
      ]
     },
     "metadata": {},
     "output_type": "display_data"
    },
    {
     "data": {
      "application/vnd.jupyter.widget-view+json": {
       "model_id": "79441ef741f64964b523b7d57864a37f",
       "version_major": 2,
       "version_minor": 0
      },
      "text/plain": [
       "Running 1000 simulations in 1000 batches.:   0%|          | 0/1000 [00:00<?, ?it/s]"
      ]
     },
     "metadata": {},
     "output_type": "display_data"
    },
    {
     "name": "stdout",
     "output_type": "stream",
     "text": [
      "torch.Size([1000, 4624])\n",
      "9\n"
     ]
    },
    {
     "data": {
      "application/vnd.jupyter.widget-view+json": {
       "model_id": "d1f617d3b6dc455caadaee147c11312a",
       "version_major": 2,
       "version_minor": 0
      },
      "text/plain": [
       "Drawing 1000 posterior samples:   0%|          | 0/1000 [00:00<?, ?it/s]"
      ]
     },
     "metadata": {},
     "output_type": "display_data"
    },
    {
     "data": {
      "application/vnd.jupyter.widget-view+json": {
       "model_id": "44e2a53f6f71466fb7e83a63ce085ae3",
       "version_major": 2,
       "version_minor": 0
      },
      "text/plain": [
       "Running 1000 simulations in 1000 batches.:   0%|          | 0/1000 [00:00<?, ?it/s]"
      ]
     },
     "metadata": {},
     "output_type": "display_data"
    },
    {
     "name": "stdout",
     "output_type": "stream",
     "text": [
      "torch.Size([1000, 4624])\n",
      "10\n"
     ]
    },
    {
     "data": {
      "application/vnd.jupyter.widget-view+json": {
       "model_id": "79893b529e194da58fb1364483c370bc",
       "version_major": 2,
       "version_minor": 0
      },
      "text/plain": [
       "Drawing 1000 posterior samples:   0%|          | 0/1000 [00:00<?, ?it/s]"
      ]
     },
     "metadata": {},
     "output_type": "display_data"
    },
    {
     "data": {
      "application/vnd.jupyter.widget-view+json": {
       "model_id": "35720eb8d70149cbab07244e99d16889",
       "version_major": 2,
       "version_minor": 0
      },
      "text/plain": [
       "Running 1000 simulations in 1000 batches.:   0%|          | 0/1000 [00:00<?, ?it/s]"
      ]
     },
     "metadata": {},
     "output_type": "display_data"
    },
    {
     "name": "stdout",
     "output_type": "stream",
     "text": [
      "torch.Size([1000, 4624])\n",
      "11\n"
     ]
    },
    {
     "data": {
      "application/vnd.jupyter.widget-view+json": {
       "model_id": "dbfdf18cd29a4fe69157cd1dc372e382",
       "version_major": 2,
       "version_minor": 0
      },
      "text/plain": [
       "Drawing 1000 posterior samples:   0%|          | 0/1000 [00:00<?, ?it/s]"
      ]
     },
     "metadata": {},
     "output_type": "display_data"
    },
    {
     "data": {
      "application/vnd.jupyter.widget-view+json": {
       "model_id": "09e33da5aeea47c6a15f258f5d555562",
       "version_major": 2,
       "version_minor": 0
      },
      "text/plain": [
       "Running 1000 simulations in 1000 batches.:   0%|          | 0/1000 [00:00<?, ?it/s]"
      ]
     },
     "metadata": {},
     "output_type": "display_data"
    },
    {
     "name": "stdout",
     "output_type": "stream",
     "text": [
      "torch.Size([1000, 4624])\n",
      "12\n"
     ]
    },
    {
     "data": {
      "application/vnd.jupyter.widget-view+json": {
       "model_id": "81b3ef59ce044281bd9c1b35de713cd3",
       "version_major": 2,
       "version_minor": 0
      },
      "text/plain": [
       "Drawing 1000 posterior samples:   0%|          | 0/1000 [00:00<?, ?it/s]"
      ]
     },
     "metadata": {},
     "output_type": "display_data"
    },
    {
     "data": {
      "application/vnd.jupyter.widget-view+json": {
       "model_id": "5403985f45be41a9a4671c91e243539c",
       "version_major": 2,
       "version_minor": 0
      },
      "text/plain": [
       "Running 1000 simulations in 1000 batches.:   0%|          | 0/1000 [00:00<?, ?it/s]"
      ]
     },
     "metadata": {},
     "output_type": "display_data"
    },
    {
     "name": "stdout",
     "output_type": "stream",
     "text": [
      "torch.Size([1000, 4624])\n",
      "13\n"
     ]
    },
    {
     "data": {
      "application/vnd.jupyter.widget-view+json": {
       "model_id": "6b930451145e4c94acb1e984ad6f8e4d",
       "version_major": 2,
       "version_minor": 0
      },
      "text/plain": [
       "Drawing 1000 posterior samples:   0%|          | 0/1000 [00:00<?, ?it/s]"
      ]
     },
     "metadata": {},
     "output_type": "display_data"
    },
    {
     "data": {
      "application/vnd.jupyter.widget-view+json": {
       "model_id": "4ece72facbc64351bb910896a09fecec",
       "version_major": 2,
       "version_minor": 0
      },
      "text/plain": [
       "Running 1000 simulations in 1000 batches.:   0%|          | 0/1000 [00:00<?, ?it/s]"
      ]
     },
     "metadata": {},
     "output_type": "display_data"
    },
    {
     "name": "stdout",
     "output_type": "stream",
     "text": [
      "torch.Size([1000, 4624])\n",
      "14\n"
     ]
    },
    {
     "data": {
      "application/vnd.jupyter.widget-view+json": {
       "model_id": "678646bdebcc41f597b796f3a98286ee",
       "version_major": 2,
       "version_minor": 0
      },
      "text/plain": [
       "Drawing 1000 posterior samples:   0%|          | 0/1000 [00:00<?, ?it/s]"
      ]
     },
     "metadata": {},
     "output_type": "display_data"
    },
    {
     "data": {
      "application/vnd.jupyter.widget-view+json": {
       "model_id": "4eab9b50b29e407fbb689a98c5371943",
       "version_major": 2,
       "version_minor": 0
      },
      "text/plain": [
       "Running 1000 simulations in 1000 batches.:   0%|          | 0/1000 [00:00<?, ?it/s]"
      ]
     },
     "metadata": {},
     "output_type": "display_data"
    },
    {
     "name": "stdout",
     "output_type": "stream",
     "text": [
      "torch.Size([1000, 4624])\n",
      "15\n"
     ]
    },
    {
     "data": {
      "application/vnd.jupyter.widget-view+json": {
       "model_id": "2ff86b00e3aa41d0ba44ed93e886ce68",
       "version_major": 2,
       "version_minor": 0
      },
      "text/plain": [
       "Drawing 1000 posterior samples:   0%|          | 0/1000 [00:00<?, ?it/s]"
      ]
     },
     "metadata": {},
     "output_type": "display_data"
    },
    {
     "data": {
      "application/vnd.jupyter.widget-view+json": {
       "model_id": "6a31db74b52b432d92784f72bbb3ab4e",
       "version_major": 2,
       "version_minor": 0
      },
      "text/plain": [
       "Running 1000 simulations in 1000 batches.:   0%|          | 0/1000 [00:00<?, ?it/s]"
      ]
     },
     "metadata": {},
     "output_type": "display_data"
    },
    {
     "name": "stdout",
     "output_type": "stream",
     "text": [
      "torch.Size([1000, 4624])\n",
      "16\n"
     ]
    },
    {
     "data": {
      "application/vnd.jupyter.widget-view+json": {
       "model_id": "ea260206f21f4930be5801d3fda6d7ae",
       "version_major": 2,
       "version_minor": 0
      },
      "text/plain": [
       "Drawing 1000 posterior samples:   0%|          | 0/1000 [00:00<?, ?it/s]"
      ]
     },
     "metadata": {},
     "output_type": "display_data"
    },
    {
     "data": {
      "application/vnd.jupyter.widget-view+json": {
       "model_id": "21700173b57c43308987ae9a0e17787b",
       "version_major": 2,
       "version_minor": 0
      },
      "text/plain": [
       "Running 1000 simulations in 1000 batches.:   0%|          | 0/1000 [00:00<?, ?it/s]"
      ]
     },
     "metadata": {},
     "output_type": "display_data"
    },
    {
     "name": "stdout",
     "output_type": "stream",
     "text": [
      "torch.Size([1000, 4624])\n",
      "17\n"
     ]
    },
    {
     "data": {
      "application/vnd.jupyter.widget-view+json": {
       "model_id": "d58c31ccc80f46c3bc4b50f8707f961b",
       "version_major": 2,
       "version_minor": 0
      },
      "text/plain": [
       "Drawing 1000 posterior samples:   0%|          | 0/1000 [00:00<?, ?it/s]"
      ]
     },
     "metadata": {},
     "output_type": "display_data"
    },
    {
     "data": {
      "application/vnd.jupyter.widget-view+json": {
       "model_id": "1c24d0129d3b4c49aff0c688149a6338",
       "version_major": 2,
       "version_minor": 0
      },
      "text/plain": [
       "Running 1000 simulations in 1000 batches.:   0%|          | 0/1000 [00:00<?, ?it/s]"
      ]
     },
     "metadata": {},
     "output_type": "display_data"
    },
    {
     "name": "stdout",
     "output_type": "stream",
     "text": [
      "torch.Size([1000, 4624])\n",
      "18\n"
     ]
    },
    {
     "data": {
      "application/vnd.jupyter.widget-view+json": {
       "model_id": "4a7f5dc9f2184ba0be2082adb173a673",
       "version_major": 2,
       "version_minor": 0
      },
      "text/plain": [
       "Drawing 1000 posterior samples:   0%|          | 0/1000 [00:00<?, ?it/s]"
      ]
     },
     "metadata": {},
     "output_type": "display_data"
    },
    {
     "data": {
      "application/vnd.jupyter.widget-view+json": {
       "model_id": "7400615af7ef4ea7aead3994f4af2735",
       "version_major": 2,
       "version_minor": 0
      },
      "text/plain": [
       "Running 1000 simulations in 1000 batches.:   0%|          | 0/1000 [00:00<?, ?it/s]"
      ]
     },
     "metadata": {},
     "output_type": "display_data"
    },
    {
     "name": "stdout",
     "output_type": "stream",
     "text": [
      "torch.Size([1000, 4624])\n",
      "19\n"
     ]
    },
    {
     "data": {
      "application/vnd.jupyter.widget-view+json": {
       "model_id": "650e9116eb7645458b221b5391f7c6b5",
       "version_major": 2,
       "version_minor": 0
      },
      "text/plain": [
       "Drawing 1000 posterior samples:   0%|          | 0/1000 [00:00<?, ?it/s]"
      ]
     },
     "metadata": {},
     "output_type": "display_data"
    },
    {
     "data": {
      "application/vnd.jupyter.widget-view+json": {
       "model_id": "283774c7a7f4430c8bae7e2ce9ae4384",
       "version_major": 2,
       "version_minor": 0
      },
      "text/plain": [
       "Running 1000 simulations in 1000 batches.:   0%|          | 0/1000 [00:00<?, ?it/s]"
      ]
     },
     "metadata": {},
     "output_type": "display_data"
    },
    {
     "name": "stdout",
     "output_type": "stream",
     "text": [
      "torch.Size([1000, 4624])\n",
      "20\n"
     ]
    },
    {
     "data": {
      "application/vnd.jupyter.widget-view+json": {
       "model_id": "69683753f625439aa78977e2963e09e1",
       "version_major": 2,
       "version_minor": 0
      },
      "text/plain": [
       "Drawing 1000 posterior samples:   0%|          | 0/1000 [00:00<?, ?it/s]"
      ]
     },
     "metadata": {},
     "output_type": "display_data"
    },
    {
     "data": {
      "application/vnd.jupyter.widget-view+json": {
       "model_id": "cd003b9d49814f4a9a4aa75b1d714b82",
       "version_major": 2,
       "version_minor": 0
      },
      "text/plain": [
       "Running 1000 simulations in 1000 batches.:   0%|          | 0/1000 [00:00<?, ?it/s]"
      ]
     },
     "metadata": {},
     "output_type": "display_data"
    },
    {
     "name": "stdout",
     "output_type": "stream",
     "text": [
      "torch.Size([1000, 4624])\n",
      "21\n"
     ]
    },
    {
     "data": {
      "application/vnd.jupyter.widget-view+json": {
       "model_id": "96ee2085bfa94fadad595f498f60a5a2",
       "version_major": 2,
       "version_minor": 0
      },
      "text/plain": [
       "Drawing 1000 posterior samples:   0%|          | 0/1000 [00:00<?, ?it/s]"
      ]
     },
     "metadata": {},
     "output_type": "display_data"
    },
    {
     "data": {
      "application/vnd.jupyter.widget-view+json": {
       "model_id": "c1a0f54e5dd545269e792aa181678418",
       "version_major": 2,
       "version_minor": 0
      },
      "text/plain": [
       "Running 1000 simulations in 1000 batches.:   0%|          | 0/1000 [00:00<?, ?it/s]"
      ]
     },
     "metadata": {},
     "output_type": "display_data"
    },
    {
     "name": "stdout",
     "output_type": "stream",
     "text": [
      "torch.Size([1000, 4624])\n",
      "22\n"
     ]
    },
    {
     "data": {
      "application/vnd.jupyter.widget-view+json": {
       "model_id": "c23fc01fc09548a0b87e07164b5bf72f",
       "version_major": 2,
       "version_minor": 0
      },
      "text/plain": [
       "Drawing 1000 posterior samples:   0%|          | 0/1000 [00:00<?, ?it/s]"
      ]
     },
     "metadata": {},
     "output_type": "display_data"
    },
    {
     "data": {
      "application/vnd.jupyter.widget-view+json": {
       "model_id": "7c84d03ebfa84942afee10f0c791f16d",
       "version_major": 2,
       "version_minor": 0
      },
      "text/plain": [
       "Running 1000 simulations in 1000 batches.:   0%|          | 0/1000 [00:00<?, ?it/s]"
      ]
     },
     "metadata": {},
     "output_type": "display_data"
    },
    {
     "name": "stdout",
     "output_type": "stream",
     "text": [
      "torch.Size([1000, 4624])\n",
      "23\n"
     ]
    },
    {
     "data": {
      "application/vnd.jupyter.widget-view+json": {
       "model_id": "7729e0c50a7b4c838cb19419de053aff",
       "version_major": 2,
       "version_minor": 0
      },
      "text/plain": [
       "Drawing 1000 posterior samples:   0%|          | 0/1000 [00:00<?, ?it/s]"
      ]
     },
     "metadata": {},
     "output_type": "display_data"
    },
    {
     "data": {
      "application/vnd.jupyter.widget-view+json": {
       "model_id": "2f1e50d33d91482b83da00ce414a1aa0",
       "version_major": 2,
       "version_minor": 0
      },
      "text/plain": [
       "Running 1000 simulations in 1000 batches.:   0%|          | 0/1000 [00:00<?, ?it/s]"
      ]
     },
     "metadata": {},
     "output_type": "display_data"
    },
    {
     "name": "stdout",
     "output_type": "stream",
     "text": [
      "torch.Size([1000, 4624])\n",
      "24\n"
     ]
    },
    {
     "data": {
      "application/vnd.jupyter.widget-view+json": {
       "model_id": "bbd0e9e00c164897a0afdfc7ba54b27e",
       "version_major": 2,
       "version_minor": 0
      },
      "text/plain": [
       "Drawing 1000 posterior samples:   0%|          | 0/1000 [00:00<?, ?it/s]"
      ]
     },
     "metadata": {},
     "output_type": "display_data"
    },
    {
     "data": {
      "application/vnd.jupyter.widget-view+json": {
       "model_id": "6c6cd2e9a091495e87808e59b7fbae61",
       "version_major": 2,
       "version_minor": 0
      },
      "text/plain": [
       "Running 1000 simulations in 1000 batches.:   0%|          | 0/1000 [00:00<?, ?it/s]"
      ]
     },
     "metadata": {},
     "output_type": "display_data"
    },
    {
     "name": "stdout",
     "output_type": "stream",
     "text": [
      "torch.Size([1000, 4624])\n",
      "25\n"
     ]
    },
    {
     "data": {
      "application/vnd.jupyter.widget-view+json": {
       "model_id": "d980de0f9ecb465c9060e07fae1f1c1a",
       "version_major": 2,
       "version_minor": 0
      },
      "text/plain": [
       "Drawing 1000 posterior samples:   0%|          | 0/1000 [00:00<?, ?it/s]"
      ]
     },
     "metadata": {},
     "output_type": "display_data"
    },
    {
     "data": {
      "application/vnd.jupyter.widget-view+json": {
       "model_id": "6f81acfd9324472a97cac25f69ccc3cf",
       "version_major": 2,
       "version_minor": 0
      },
      "text/plain": [
       "Running 1000 simulations in 1000 batches.:   0%|          | 0/1000 [00:00<?, ?it/s]"
      ]
     },
     "metadata": {},
     "output_type": "display_data"
    },
    {
     "name": "stdout",
     "output_type": "stream",
     "text": [
      "torch.Size([1000, 4624])\n",
      "26\n"
     ]
    },
    {
     "data": {
      "application/vnd.jupyter.widget-view+json": {
       "model_id": "0deca10700db404ea97f713cfe7f5671",
       "version_major": 2,
       "version_minor": 0
      },
      "text/plain": [
       "Drawing 1000 posterior samples:   0%|          | 0/1000 [00:00<?, ?it/s]"
      ]
     },
     "metadata": {},
     "output_type": "display_data"
    },
    {
     "data": {
      "application/vnd.jupyter.widget-view+json": {
       "model_id": "c047dce341494df796a6cc437f2d4b7c",
       "version_major": 2,
       "version_minor": 0
      },
      "text/plain": [
       "Running 1000 simulations in 1000 batches.:   0%|          | 0/1000 [00:00<?, ?it/s]"
      ]
     },
     "metadata": {},
     "output_type": "display_data"
    },
    {
     "name": "stdout",
     "output_type": "stream",
     "text": [
      "torch.Size([1000, 4624])\n",
      "27\n"
     ]
    },
    {
     "data": {
      "application/vnd.jupyter.widget-view+json": {
       "model_id": "2f73bd746db9445587c05cb47df75adb",
       "version_major": 2,
       "version_minor": 0
      },
      "text/plain": [
       "Drawing 1000 posterior samples:   0%|          | 0/1000 [00:00<?, ?it/s]"
      ]
     },
     "metadata": {},
     "output_type": "display_data"
    },
    {
     "data": {
      "application/vnd.jupyter.widget-view+json": {
       "model_id": "aa8412cb751445b0862bae0ab42220f8",
       "version_major": 2,
       "version_minor": 0
      },
      "text/plain": [
       "Running 1000 simulations in 1000 batches.:   0%|          | 0/1000 [00:00<?, ?it/s]"
      ]
     },
     "metadata": {},
     "output_type": "display_data"
    },
    {
     "name": "stdout",
     "output_type": "stream",
     "text": [
      "torch.Size([1000, 4624])\n",
      "28\n"
     ]
    },
    {
     "data": {
      "application/vnd.jupyter.widget-view+json": {
       "model_id": "ef6d2fbcb5ce411091a8c53b7f5843e7",
       "version_major": 2,
       "version_minor": 0
      },
      "text/plain": [
       "Drawing 1000 posterior samples:   0%|          | 0/1000 [00:00<?, ?it/s]"
      ]
     },
     "metadata": {},
     "output_type": "display_data"
    },
    {
     "data": {
      "application/vnd.jupyter.widget-view+json": {
       "model_id": "4c28d534afac41a2a91c372425d616fc",
       "version_major": 2,
       "version_minor": 0
      },
      "text/plain": [
       "Running 1000 simulations in 1000 batches.:   0%|          | 0/1000 [00:00<?, ?it/s]"
      ]
     },
     "metadata": {},
     "output_type": "display_data"
    },
    {
     "name": "stdout",
     "output_type": "stream",
     "text": [
      "torch.Size([1000, 4624])\n",
      "29\n"
     ]
    },
    {
     "data": {
      "application/vnd.jupyter.widget-view+json": {
       "model_id": "12fe1bdd19f043eb89ee7840140878a8",
       "version_major": 2,
       "version_minor": 0
      },
      "text/plain": [
       "Drawing 1000 posterior samples:   0%|          | 0/1000 [00:00<?, ?it/s]"
      ]
     },
     "metadata": {},
     "output_type": "display_data"
    },
    {
     "data": {
      "application/vnd.jupyter.widget-view+json": {
       "model_id": "14aae62cf64f47dcacc63928aaa5bdd9",
       "version_major": 2,
       "version_minor": 0
      },
      "text/plain": [
       "Running 1000 simulations in 1000 batches.:   0%|          | 0/1000 [00:00<?, ?it/s]"
      ]
     },
     "metadata": {},
     "output_type": "display_data"
    },
    {
     "name": "stdout",
     "output_type": "stream",
     "text": [
      "torch.Size([1000, 4624])\n",
      "30\n"
     ]
    },
    {
     "data": {
      "application/vnd.jupyter.widget-view+json": {
       "model_id": "b3cd5f51ed0a4bd2836a25a16e58a37d",
       "version_major": 2,
       "version_minor": 0
      },
      "text/plain": [
       "Drawing 1000 posterior samples:   0%|          | 0/1000 [00:00<?, ?it/s]"
      ]
     },
     "metadata": {},
     "output_type": "display_data"
    },
    {
     "data": {
      "application/vnd.jupyter.widget-view+json": {
       "model_id": "ca34a0d7a5f54bb39e521a8604fff797",
       "version_major": 2,
       "version_minor": 0
      },
      "text/plain": [
       "Running 1000 simulations in 1000 batches.:   0%|          | 0/1000 [00:00<?, ?it/s]"
      ]
     },
     "metadata": {},
     "output_type": "display_data"
    },
    {
     "name": "stdout",
     "output_type": "stream",
     "text": [
      "torch.Size([1000, 4624])\n",
      "31\n"
     ]
    },
    {
     "data": {
      "application/vnd.jupyter.widget-view+json": {
       "model_id": "ca891d207e75487fb362ed9586dd5f49",
       "version_major": 2,
       "version_minor": 0
      },
      "text/plain": [
       "Drawing 1000 posterior samples:   0%|          | 0/1000 [00:00<?, ?it/s]"
      ]
     },
     "metadata": {},
     "output_type": "display_data"
    },
    {
     "data": {
      "application/vnd.jupyter.widget-view+json": {
       "model_id": "90aebf07ac904e60b30abfced6548197",
       "version_major": 2,
       "version_minor": 0
      },
      "text/plain": [
       "Running 1000 simulations in 1000 batches.:   0%|          | 0/1000 [00:00<?, ?it/s]"
      ]
     },
     "metadata": {},
     "output_type": "display_data"
    },
    {
     "name": "stdout",
     "output_type": "stream",
     "text": [
      "torch.Size([1000, 4624])\n",
      "32\n"
     ]
    },
    {
     "data": {
      "application/vnd.jupyter.widget-view+json": {
       "model_id": "85e56091d3414efa9fbf0f0597ea974e",
       "version_major": 2,
       "version_minor": 0
      },
      "text/plain": [
       "Drawing 1000 posterior samples:   0%|          | 0/1000 [00:00<?, ?it/s]"
      ]
     },
     "metadata": {},
     "output_type": "display_data"
    },
    {
     "data": {
      "application/vnd.jupyter.widget-view+json": {
       "model_id": "833189903e504c7c94d61d5a6dbba2b8",
       "version_major": 2,
       "version_minor": 0
      },
      "text/plain": [
       "Running 1000 simulations in 1000 batches.:   0%|          | 0/1000 [00:00<?, ?it/s]"
      ]
     },
     "metadata": {},
     "output_type": "display_data"
    },
    {
     "name": "stdout",
     "output_type": "stream",
     "text": [
      "torch.Size([1000, 4624])\n",
      "33\n"
     ]
    },
    {
     "data": {
      "application/vnd.jupyter.widget-view+json": {
       "model_id": "c0b6bf711300451faaffaab16c7f3326",
       "version_major": 2,
       "version_minor": 0
      },
      "text/plain": [
       "Drawing 1000 posterior samples:   0%|          | 0/1000 [00:00<?, ?it/s]"
      ]
     },
     "metadata": {},
     "output_type": "display_data"
    },
    {
     "data": {
      "application/vnd.jupyter.widget-view+json": {
       "model_id": "905461ba433a45b9a0165fe5908214e7",
       "version_major": 2,
       "version_minor": 0
      },
      "text/plain": [
       "Running 1000 simulations in 1000 batches.:   0%|          | 0/1000 [00:00<?, ?it/s]"
      ]
     },
     "metadata": {},
     "output_type": "display_data"
    },
    {
     "name": "stdout",
     "output_type": "stream",
     "text": [
      "torch.Size([1000, 4624])\n",
      "34\n"
     ]
    },
    {
     "data": {
      "application/vnd.jupyter.widget-view+json": {
       "model_id": "1489ab4e6bfa40a48cd3b07d90239a2b",
       "version_major": 2,
       "version_minor": 0
      },
      "text/plain": [
       "Drawing 1000 posterior samples:   0%|          | 0/1000 [00:00<?, ?it/s]"
      ]
     },
     "metadata": {},
     "output_type": "display_data"
    },
    {
     "data": {
      "application/vnd.jupyter.widget-view+json": {
       "model_id": "39b69f6de60845ae8746500f45f5db05",
       "version_major": 2,
       "version_minor": 0
      },
      "text/plain": [
       "Running 1000 simulations in 1000 batches.:   0%|          | 0/1000 [00:00<?, ?it/s]"
      ]
     },
     "metadata": {},
     "output_type": "display_data"
    },
    {
     "name": "stdout",
     "output_type": "stream",
     "text": [
      "torch.Size([1000, 4624])\n",
      "35\n"
     ]
    },
    {
     "data": {
      "application/vnd.jupyter.widget-view+json": {
       "model_id": "b6e6a5e697004ed2895619f33ee47e4f",
       "version_major": 2,
       "version_minor": 0
      },
      "text/plain": [
       "Drawing 1000 posterior samples:   0%|          | 0/1000 [00:00<?, ?it/s]"
      ]
     },
     "metadata": {},
     "output_type": "display_data"
    },
    {
     "data": {
      "application/vnd.jupyter.widget-view+json": {
       "model_id": "2df3899771ef4d56ad78b7dcd0e69d00",
       "version_major": 2,
       "version_minor": 0
      },
      "text/plain": [
       "Running 1000 simulations in 1000 batches.:   0%|          | 0/1000 [00:00<?, ?it/s]"
      ]
     },
     "metadata": {},
     "output_type": "display_data"
    },
    {
     "name": "stdout",
     "output_type": "stream",
     "text": [
      "torch.Size([1000, 4624])\n",
      "Save to /data/rajlab1/user_data/jin/MyResearch/SBI-SGM-FC/notebooks/new_sgm/../../mypkg/../results/rawfc2annep100_posteriorMRmul_alpha_num1000_densitynsf_MR3_noise_sd160_addv1/inf_res_fb.pkl\n"
     ]
    }
   ],
   "source": [
    "inf_res_fb = edict()\n",
    "inf_res_fb.est_FCs = []\n",
    "prior = MultivariateNormal(loc=torch.zeros(3), covariance_matrix=torch.eye(3))\n",
    "\n",
    "metrics = []\n",
    "for sub_idx in range(36):\n",
    "    print(sub_idx)\n",
    "# get the cur brain\n",
    "    brain = Brain.Brain()\n",
    "    brain.add_connectome(DATA_ROOT) # grabs distance matrix\n",
    "    brain.reorder_connectome(brain.connectome, brain.distance_matrix)\n",
    "    brain.connectome =  ind_conn[:, :, sub_idx] # re-assign connectome to individual connectome\n",
    "    brain.bi_symmetric_c()\n",
    "    brain.reduce_extreme_dir()\n",
    "    \n",
    "    _simulate_data_sp = partial(_simulate_data, \n",
    "                                brain=brain, \n",
    "                                prior_bds=paras.prior_bds, \n",
    "                                freqrange=paras.freqrange,\n",
    "                                diag_ws=paras.diag_ws)\n",
    "    _simulate_data_wrapper, _ = prepare_for_sbi(_simulate_data_sp, prior)\n",
    "    \n",
    "    cur_posterior = load_pkl(sorted_fils[sub_idx], False)\n",
    "    tmp_sps, cur_post_fcs = simulate_for_sbi(_simulate_data_wrapper, cur_posterior,\n",
    "                                        num_simulations=1000, \n",
    "                                        num_workers=50)\n",
    "    print(cur_post_fcs.shape)\n",
    "    cur_post_fcs = cur_post_fcs.reshape(-1, 68, 68)\n",
    "    \n",
    "    cur_obs_FC = np.abs(fcs[sub_idx])\n",
    "    cur_est_FC = np.abs(cur_post_fcs.mean(axis=0).numpy())\n",
    "    inf_res_fb.est_FCs.append(cur_est_FC)\n",
    "    metrics.append(cal_metrics(cur_obs_FC, cur_est_FC))\n",
    "    \n",
    "inf_res_fb.metrics = metrics\n",
    "save_pkl(sorted_fils[0].parent/\"inf_res_fb.pkl\", inf_res_fb)"
   ]
  },
  {
   "cell_type": "code",
   "execution_count": null,
   "id": "7b4af889",
   "metadata": {},
   "outputs": [],
   "source": []
  },
  {
   "cell_type": "code",
   "execution_count": 54,
   "id": "721d9d55",
   "metadata": {
    "ExecuteTime": {
     "end_time": "2023-09-27T17:05:58.550584Z",
     "start_time": "2023-09-27T17:05:58.511952Z"
    }
   },
   "outputs": [
    {
     "data": {
      "text/html": [
       "<div>\n",
       "<style scoped>\n",
       "    .dataframe tbody tr th:only-of-type {\n",
       "        vertical-align: middle;\n",
       "    }\n",
       "\n",
       "    .dataframe tbody tr th {\n",
       "        vertical-align: top;\n",
       "    }\n",
       "\n",
       "    .dataframe thead th {\n",
       "        text-align: right;\n",
       "    }\n",
       "</style>\n",
       "<table border=\"1\" class=\"dataframe\">\n",
       "  <thead>\n",
       "    <tr style=\"text-align: right;\">\n",
       "      <th></th>\n",
       "      <th>geo_dist</th>\n",
       "      <th>reg_r</th>\n",
       "      <th>lin_r</th>\n",
       "      <th>tau_r</th>\n",
       "      <th>sp_r</th>\n",
       "      <th>mse</th>\n",
       "      <th>reg_r_block</th>\n",
       "      <th>lin_r_block</th>\n",
       "    </tr>\n",
       "  </thead>\n",
       "  <tbody>\n",
       "    <tr>\n",
       "      <th>count</th>\n",
       "      <td>36.000000</td>\n",
       "      <td>36.000000</td>\n",
       "      <td>36.000000</td>\n",
       "      <td>36.000000</td>\n",
       "      <td>36.000000</td>\n",
       "      <td>36.000000</td>\n",
       "      <td>36.000000</td>\n",
       "      <td>36.000000</td>\n",
       "    </tr>\n",
       "    <tr>\n",
       "      <th>mean</th>\n",
       "      <td>0.638897</td>\n",
       "      <td>0.424521</td>\n",
       "      <td>0.327709</td>\n",
       "      <td>0.196489</td>\n",
       "      <td>0.289884</td>\n",
       "      <td>0.055056</td>\n",
       "      <td>0.376312</td>\n",
       "      <td>0.309243</td>\n",
       "    </tr>\n",
       "    <tr>\n",
       "      <th>std</th>\n",
       "      <td>0.020436</td>\n",
       "      <td>0.062037</td>\n",
       "      <td>0.056413</td>\n",
       "      <td>0.042125</td>\n",
       "      <td>0.060279</td>\n",
       "      <td>0.009508</td>\n",
       "      <td>0.060941</td>\n",
       "      <td>0.051223</td>\n",
       "    </tr>\n",
       "    <tr>\n",
       "      <th>min</th>\n",
       "      <td>0.606439</td>\n",
       "      <td>0.280471</td>\n",
       "      <td>0.226146</td>\n",
       "      <td>0.111868</td>\n",
       "      <td>0.167235</td>\n",
       "      <td>0.041900</td>\n",
       "      <td>0.247256</td>\n",
       "      <td>0.232391</td>\n",
       "    </tr>\n",
       "    <tr>\n",
       "      <th>25%</th>\n",
       "      <td>0.622341</td>\n",
       "      <td>0.389127</td>\n",
       "      <td>0.289523</td>\n",
       "      <td>0.170391</td>\n",
       "      <td>0.253074</td>\n",
       "      <td>0.048173</td>\n",
       "      <td>0.330294</td>\n",
       "      <td>0.262294</td>\n",
       "    </tr>\n",
       "    <tr>\n",
       "      <th>50%</th>\n",
       "      <td>0.635367</td>\n",
       "      <td>0.435712</td>\n",
       "      <td>0.318322</td>\n",
       "      <td>0.189183</td>\n",
       "      <td>0.279450</td>\n",
       "      <td>0.053058</td>\n",
       "      <td>0.388203</td>\n",
       "      <td>0.321494</td>\n",
       "    </tr>\n",
       "    <tr>\n",
       "      <th>75%</th>\n",
       "      <td>0.651083</td>\n",
       "      <td>0.462459</td>\n",
       "      <td>0.366708</td>\n",
       "      <td>0.227239</td>\n",
       "      <td>0.335087</td>\n",
       "      <td>0.060213</td>\n",
       "      <td>0.417916</td>\n",
       "      <td>0.351799</td>\n",
       "    </tr>\n",
       "    <tr>\n",
       "      <th>max</th>\n",
       "      <td>0.681418</td>\n",
       "      <td>0.556705</td>\n",
       "      <td>0.429865</td>\n",
       "      <td>0.299011</td>\n",
       "      <td>0.432254</td>\n",
       "      <td>0.079528</td>\n",
       "      <td>0.506484</td>\n",
       "      <td>0.409766</td>\n",
       "    </tr>\n",
       "  </tbody>\n",
       "</table>\n",
       "</div>"
      ],
      "text/plain": [
       "        geo_dist      reg_r      lin_r      tau_r       sp_r        mse  \\\n",
       "count  36.000000  36.000000  36.000000  36.000000  36.000000  36.000000   \n",
       "mean    0.638897   0.424521   0.327709   0.196489   0.289884   0.055056   \n",
       "std     0.020436   0.062037   0.056413   0.042125   0.060279   0.009508   \n",
       "min     0.606439   0.280471   0.226146   0.111868   0.167235   0.041900   \n",
       "25%     0.622341   0.389127   0.289523   0.170391   0.253074   0.048173   \n",
       "50%     0.635367   0.435712   0.318322   0.189183   0.279450   0.053058   \n",
       "75%     0.651083   0.462459   0.366708   0.227239   0.335087   0.060213   \n",
       "max     0.681418   0.556705   0.429865   0.299011   0.432254   0.079528   \n",
       "\n",
       "       reg_r_block  lin_r_block  \n",
       "count    36.000000    36.000000  \n",
       "mean      0.376312     0.309243  \n",
       "std       0.060941     0.051223  \n",
       "min       0.247256     0.232391  \n",
       "25%       0.330294     0.262294  \n",
       "50%       0.388203     0.321494  \n",
       "75%       0.417916     0.351799  \n",
       "max       0.506484     0.409766  "
      ]
     },
     "execution_count": 54,
     "metadata": {},
     "output_type": "execute_result"
    }
   ],
   "source": [
    "metrics_df = pd.DataFrame(metrics);\n",
    "metrics_df.describe()"
   ]
  },
  {
   "cell_type": "code",
   "execution_count": 43,
   "id": "9498a202",
   "metadata": {
    "ExecuteTime": {
     "end_time": "2023-09-27T17:00:12.904256Z",
     "start_time": "2023-09-27T17:00:12.864531Z"
    }
   },
   "outputs": [
    {
     "data": {
      "text/html": [
       "<div>\n",
       "<style scoped>\n",
       "    .dataframe tbody tr th:only-of-type {\n",
       "        vertical-align: middle;\n",
       "    }\n",
       "\n",
       "    .dataframe tbody tr th {\n",
       "        vertical-align: top;\n",
       "    }\n",
       "\n",
       "    .dataframe thead th {\n",
       "        text-align: right;\n",
       "    }\n",
       "</style>\n",
       "<table border=\"1\" class=\"dataframe\">\n",
       "  <thead>\n",
       "    <tr style=\"text-align: right;\">\n",
       "      <th></th>\n",
       "      <th>geo_dist</th>\n",
       "      <th>reg_r</th>\n",
       "      <th>lin_r</th>\n",
       "      <th>tau_r</th>\n",
       "      <th>sp_r</th>\n",
       "      <th>mse</th>\n",
       "      <th>reg_r_block</th>\n",
       "      <th>lin_r_block</th>\n",
       "    </tr>\n",
       "  </thead>\n",
       "  <tbody>\n",
       "    <tr>\n",
       "      <th>count</th>\n",
       "      <td>36.000000</td>\n",
       "      <td>36.000000</td>\n",
       "      <td>36.000000</td>\n",
       "      <td>36.000000</td>\n",
       "      <td>36.000000</td>\n",
       "      <td>36.000000</td>\n",
       "      <td>36.000000</td>\n",
       "      <td>36.000000</td>\n",
       "    </tr>\n",
       "    <tr>\n",
       "      <th>mean</th>\n",
       "      <td>0.638012</td>\n",
       "      <td>0.420372</td>\n",
       "      <td>0.326813</td>\n",
       "      <td>0.194613</td>\n",
       "      <td>0.287162</td>\n",
       "      <td>0.054597</td>\n",
       "      <td>0.371008</td>\n",
       "      <td>0.307361</td>\n",
       "    </tr>\n",
       "    <tr>\n",
       "      <th>std</th>\n",
       "      <td>0.020013</td>\n",
       "      <td>0.064443</td>\n",
       "      <td>0.056966</td>\n",
       "      <td>0.043153</td>\n",
       "      <td>0.061809</td>\n",
       "      <td>0.009098</td>\n",
       "      <td>0.062656</td>\n",
       "      <td>0.052177</td>\n",
       "    </tr>\n",
       "    <tr>\n",
       "      <th>min</th>\n",
       "      <td>0.605244</td>\n",
       "      <td>0.276553</td>\n",
       "      <td>0.225446</td>\n",
       "      <td>0.104156</td>\n",
       "      <td>0.155946</td>\n",
       "      <td>0.041977</td>\n",
       "      <td>0.242703</td>\n",
       "      <td>0.227018</td>\n",
       "    </tr>\n",
       "    <tr>\n",
       "      <th>25%</th>\n",
       "      <td>0.621475</td>\n",
       "      <td>0.387805</td>\n",
       "      <td>0.288288</td>\n",
       "      <td>0.169489</td>\n",
       "      <td>0.251850</td>\n",
       "      <td>0.048007</td>\n",
       "      <td>0.317348</td>\n",
       "      <td>0.256486</td>\n",
       "    </tr>\n",
       "    <tr>\n",
       "      <th>50%</th>\n",
       "      <td>0.635208</td>\n",
       "      <td>0.434656</td>\n",
       "      <td>0.318127</td>\n",
       "      <td>0.188430</td>\n",
       "      <td>0.277609</td>\n",
       "      <td>0.052833</td>\n",
       "      <td>0.387282</td>\n",
       "      <td>0.321850</td>\n",
       "    </tr>\n",
       "    <tr>\n",
       "      <th>75%</th>\n",
       "      <td>0.650645</td>\n",
       "      <td>0.459753</td>\n",
       "      <td>0.367100</td>\n",
       "      <td>0.225446</td>\n",
       "      <td>0.331873</td>\n",
       "      <td>0.059329</td>\n",
       "      <td>0.415412</td>\n",
       "      <td>0.349967</td>\n",
       "    </tr>\n",
       "    <tr>\n",
       "      <th>max</th>\n",
       "      <td>0.680499</td>\n",
       "      <td>0.553257</td>\n",
       "      <td>0.427549</td>\n",
       "      <td>0.298811</td>\n",
       "      <td>0.432007</td>\n",
       "      <td>0.076488</td>\n",
       "      <td>0.501914</td>\n",
       "      <td>0.407297</td>\n",
       "    </tr>\n",
       "  </tbody>\n",
       "</table>\n",
       "</div>"
      ],
      "text/plain": [
       "        geo_dist      reg_r      lin_r      tau_r       sp_r        mse  \\\n",
       "count  36.000000  36.000000  36.000000  36.000000  36.000000  36.000000   \n",
       "mean    0.638012   0.420372   0.326813   0.194613   0.287162   0.054597   \n",
       "std     0.020013   0.064443   0.056966   0.043153   0.061809   0.009098   \n",
       "min     0.605244   0.276553   0.225446   0.104156   0.155946   0.041977   \n",
       "25%     0.621475   0.387805   0.288288   0.169489   0.251850   0.048007   \n",
       "50%     0.635208   0.434656   0.318127   0.188430   0.277609   0.052833   \n",
       "75%     0.650645   0.459753   0.367100   0.225446   0.331873   0.059329   \n",
       "max     0.680499   0.553257   0.427549   0.298811   0.432007   0.076488   \n",
       "\n",
       "       reg_r_block  lin_r_block  \n",
       "count    36.000000    36.000000  \n",
       "mean      0.371008     0.307361  \n",
       "std       0.062656     0.052177  \n",
       "min       0.242703     0.227018  \n",
       "25%       0.317348     0.256486  \n",
       "50%       0.387282     0.321850  \n",
       "75%       0.415412     0.349967  \n",
       "max       0.501914     0.407297  "
      ]
     },
     "execution_count": 43,
     "metadata": {},
     "output_type": "execute_result"
    }
   ],
   "source": [
    "metrics_df = pd.DataFrame(metrics);\n",
    "metrics_df.describe()"
   ]
  },
  {
   "cell_type": "code",
   "execution_count": 33,
   "id": "297bae77",
   "metadata": {
    "ExecuteTime": {
     "end_time": "2023-09-27T16:55:22.371284Z",
     "start_time": "2023-09-27T16:55:22.332276Z"
    }
   },
   "outputs": [
    {
     "data": {
      "text/html": [
       "<div>\n",
       "<style scoped>\n",
       "    .dataframe tbody tr th:only-of-type {\n",
       "        vertical-align: middle;\n",
       "    }\n",
       "\n",
       "    .dataframe tbody tr th {\n",
       "        vertical-align: top;\n",
       "    }\n",
       "\n",
       "    .dataframe thead th {\n",
       "        text-align: right;\n",
       "    }\n",
       "</style>\n",
       "<table border=\"1\" class=\"dataframe\">\n",
       "  <thead>\n",
       "    <tr style=\"text-align: right;\">\n",
       "      <th></th>\n",
       "      <th>geo_dist</th>\n",
       "      <th>reg_r</th>\n",
       "      <th>lin_r</th>\n",
       "      <th>tau_r</th>\n",
       "      <th>sp_r</th>\n",
       "      <th>mse</th>\n",
       "      <th>reg_r_block</th>\n",
       "      <th>lin_r_block</th>\n",
       "    </tr>\n",
       "  </thead>\n",
       "  <tbody>\n",
       "    <tr>\n",
       "      <th>count</th>\n",
       "      <td>36.000000</td>\n",
       "      <td>36.000000</td>\n",
       "      <td>36.000000</td>\n",
       "      <td>36.000000</td>\n",
       "      <td>36.000000</td>\n",
       "      <td>36.000000</td>\n",
       "      <td>36.000000</td>\n",
       "      <td>36.000000</td>\n",
       "    </tr>\n",
       "    <tr>\n",
       "      <th>mean</th>\n",
       "      <td>0.637895</td>\n",
       "      <td>0.399512</td>\n",
       "      <td>0.318952</td>\n",
       "      <td>0.183916</td>\n",
       "      <td>0.271845</td>\n",
       "      <td>0.053338</td>\n",
       "      <td>0.345731</td>\n",
       "      <td>0.293287</td>\n",
       "    </tr>\n",
       "    <tr>\n",
       "      <th>std</th>\n",
       "      <td>0.018868</td>\n",
       "      <td>0.070348</td>\n",
       "      <td>0.060996</td>\n",
       "      <td>0.043722</td>\n",
       "      <td>0.063120</td>\n",
       "      <td>0.008463</td>\n",
       "      <td>0.067587</td>\n",
       "      <td>0.058693</td>\n",
       "    </tr>\n",
       "    <tr>\n",
       "      <th>min</th>\n",
       "      <td>0.606026</td>\n",
       "      <td>0.255712</td>\n",
       "      <td>0.212581</td>\n",
       "      <td>0.087259</td>\n",
       "      <td>0.130987</td>\n",
       "      <td>0.041533</td>\n",
       "      <td>0.238468</td>\n",
       "      <td>0.178536</td>\n",
       "    </tr>\n",
       "    <tr>\n",
       "      <th>25%</th>\n",
       "      <td>0.624361</td>\n",
       "      <td>0.347441</td>\n",
       "      <td>0.279445</td>\n",
       "      <td>0.156305</td>\n",
       "      <td>0.231532</td>\n",
       "      <td>0.046630</td>\n",
       "      <td>0.275936</td>\n",
       "      <td>0.238690</td>\n",
       "    </tr>\n",
       "    <tr>\n",
       "      <th>50%</th>\n",
       "      <td>0.637758</td>\n",
       "      <td>0.404207</td>\n",
       "      <td>0.314326</td>\n",
       "      <td>0.181732</td>\n",
       "      <td>0.268701</td>\n",
       "      <td>0.050688</td>\n",
       "      <td>0.369436</td>\n",
       "      <td>0.308329</td>\n",
       "    </tr>\n",
       "    <tr>\n",
       "      <th>75%</th>\n",
       "      <td>0.648631</td>\n",
       "      <td>0.449356</td>\n",
       "      <td>0.362236</td>\n",
       "      <td>0.207407</td>\n",
       "      <td>0.305353</td>\n",
       "      <td>0.057726</td>\n",
       "      <td>0.397386</td>\n",
       "      <td>0.333158</td>\n",
       "    </tr>\n",
       "    <tr>\n",
       "      <th>max</th>\n",
       "      <td>0.676705</td>\n",
       "      <td>0.546576</td>\n",
       "      <td>0.424074</td>\n",
       "      <td>0.277793</td>\n",
       "      <td>0.404771</td>\n",
       "      <td>0.072340</td>\n",
       "      <td>0.493141</td>\n",
       "      <td>0.403510</td>\n",
       "    </tr>\n",
       "  </tbody>\n",
       "</table>\n",
       "</div>"
      ],
      "text/plain": [
       "        geo_dist      reg_r      lin_r      tau_r       sp_r        mse  \\\n",
       "count  36.000000  36.000000  36.000000  36.000000  36.000000  36.000000   \n",
       "mean    0.637895   0.399512   0.318952   0.183916   0.271845   0.053338   \n",
       "std     0.018868   0.070348   0.060996   0.043722   0.063120   0.008463   \n",
       "min     0.606026   0.255712   0.212581   0.087259   0.130987   0.041533   \n",
       "25%     0.624361   0.347441   0.279445   0.156305   0.231532   0.046630   \n",
       "50%     0.637758   0.404207   0.314326   0.181732   0.268701   0.050688   \n",
       "75%     0.648631   0.449356   0.362236   0.207407   0.305353   0.057726   \n",
       "max     0.676705   0.546576   0.424074   0.277793   0.404771   0.072340   \n",
       "\n",
       "       reg_r_block  lin_r_block  \n",
       "count    36.000000    36.000000  \n",
       "mean      0.345731     0.293287  \n",
       "std       0.067587     0.058693  \n",
       "min       0.238468     0.178536  \n",
       "25%       0.275936     0.238690  \n",
       "50%       0.369436     0.308329  \n",
       "75%       0.397386     0.333158  \n",
       "max       0.493141     0.403510  "
      ]
     },
     "execution_count": 33,
     "metadata": {},
     "output_type": "execute_result"
    }
   ],
   "source": [
    "metrics_df = pd.DataFrame(metrics);\n",
    "metrics_df.describe()"
   ]
  },
  {
   "cell_type": "code",
   "execution_count": 33,
   "id": "9ed1871a",
   "metadata": {
    "ExecuteTime": {
     "end_time": "2023-09-27T16:55:22.371284Z",
     "start_time": "2023-09-27T16:55:22.332276Z"
    }
   },
   "outputs": [
    {
     "data": {
      "text/html": [
       "<div>\n",
       "<style scoped>\n",
       "    .dataframe tbody tr th:only-of-type {\n",
       "        vertical-align: middle;\n",
       "    }\n",
       "\n",
       "    .dataframe tbody tr th {\n",
       "        vertical-align: top;\n",
       "    }\n",
       "\n",
       "    .dataframe thead th {\n",
       "        text-align: right;\n",
       "    }\n",
       "</style>\n",
       "<table border=\"1\" class=\"dataframe\">\n",
       "  <thead>\n",
       "    <tr style=\"text-align: right;\">\n",
       "      <th></th>\n",
       "      <th>geo_dist</th>\n",
       "      <th>reg_r</th>\n",
       "      <th>lin_r</th>\n",
       "      <th>tau_r</th>\n",
       "      <th>sp_r</th>\n",
       "      <th>mse</th>\n",
       "      <th>reg_r_block</th>\n",
       "      <th>lin_r_block</th>\n",
       "    </tr>\n",
       "  </thead>\n",
       "  <tbody>\n",
       "    <tr>\n",
       "      <th>count</th>\n",
       "      <td>36.000000</td>\n",
       "      <td>36.000000</td>\n",
       "      <td>36.000000</td>\n",
       "      <td>36.000000</td>\n",
       "      <td>36.000000</td>\n",
       "      <td>36.000000</td>\n",
       "      <td>36.000000</td>\n",
       "      <td>36.000000</td>\n",
       "    </tr>\n",
       "    <tr>\n",
       "      <th>mean</th>\n",
       "      <td>0.637895</td>\n",
       "      <td>0.399512</td>\n",
       "      <td>0.318952</td>\n",
       "      <td>0.183916</td>\n",
       "      <td>0.271845</td>\n",
       "      <td>0.053338</td>\n",
       "      <td>0.345731</td>\n",
       "      <td>0.293287</td>\n",
       "    </tr>\n",
       "    <tr>\n",
       "      <th>std</th>\n",
       "      <td>0.018868</td>\n",
       "      <td>0.070348</td>\n",
       "      <td>0.060996</td>\n",
       "      <td>0.043722</td>\n",
       "      <td>0.063120</td>\n",
       "      <td>0.008463</td>\n",
       "      <td>0.067587</td>\n",
       "      <td>0.058693</td>\n",
       "    </tr>\n",
       "    <tr>\n",
       "      <th>min</th>\n",
       "      <td>0.606026</td>\n",
       "      <td>0.255712</td>\n",
       "      <td>0.212581</td>\n",
       "      <td>0.087259</td>\n",
       "      <td>0.130987</td>\n",
       "      <td>0.041533</td>\n",
       "      <td>0.238468</td>\n",
       "      <td>0.178536</td>\n",
       "    </tr>\n",
       "    <tr>\n",
       "      <th>25%</th>\n",
       "      <td>0.624361</td>\n",
       "      <td>0.347441</td>\n",
       "      <td>0.279445</td>\n",
       "      <td>0.156305</td>\n",
       "      <td>0.231532</td>\n",
       "      <td>0.046630</td>\n",
       "      <td>0.275936</td>\n",
       "      <td>0.238690</td>\n",
       "    </tr>\n",
       "    <tr>\n",
       "      <th>50%</th>\n",
       "      <td>0.637758</td>\n",
       "      <td>0.404207</td>\n",
       "      <td>0.314326</td>\n",
       "      <td>0.181732</td>\n",
       "      <td>0.268701</td>\n",
       "      <td>0.050688</td>\n",
       "      <td>0.369436</td>\n",
       "      <td>0.308329</td>\n",
       "    </tr>\n",
       "    <tr>\n",
       "      <th>75%</th>\n",
       "      <td>0.648631</td>\n",
       "      <td>0.449356</td>\n",
       "      <td>0.362236</td>\n",
       "      <td>0.207407</td>\n",
       "      <td>0.305353</td>\n",
       "      <td>0.057726</td>\n",
       "      <td>0.397386</td>\n",
       "      <td>0.333158</td>\n",
       "    </tr>\n",
       "    <tr>\n",
       "      <th>max</th>\n",
       "      <td>0.676705</td>\n",
       "      <td>0.546576</td>\n",
       "      <td>0.424074</td>\n",
       "      <td>0.277793</td>\n",
       "      <td>0.404771</td>\n",
       "      <td>0.072340</td>\n",
       "      <td>0.493141</td>\n",
       "      <td>0.403510</td>\n",
       "    </tr>\n",
       "  </tbody>\n",
       "</table>\n",
       "</div>"
      ],
      "text/plain": [
       "        geo_dist      reg_r      lin_r      tau_r       sp_r        mse  \\\n",
       "count  36.000000  36.000000  36.000000  36.000000  36.000000  36.000000   \n",
       "mean    0.637895   0.399512   0.318952   0.183916   0.271845   0.053338   \n",
       "std     0.018868   0.070348   0.060996   0.043722   0.063120   0.008463   \n",
       "min     0.606026   0.255712   0.212581   0.087259   0.130987   0.041533   \n",
       "25%     0.624361   0.347441   0.279445   0.156305   0.231532   0.046630   \n",
       "50%     0.637758   0.404207   0.314326   0.181732   0.268701   0.050688   \n",
       "75%     0.648631   0.449356   0.362236   0.207407   0.305353   0.057726   \n",
       "max     0.676705   0.546576   0.424074   0.277793   0.404771   0.072340   \n",
       "\n",
       "       reg_r_block  lin_r_block  \n",
       "count    36.000000    36.000000  \n",
       "mean      0.345731     0.293287  \n",
       "std       0.067587     0.058693  \n",
       "min       0.238468     0.178536  \n",
       "25%       0.275936     0.238690  \n",
       "50%       0.369436     0.308329  \n",
       "75%       0.397386     0.333158  \n",
       "max       0.493141     0.403510  "
      ]
     },
     "execution_count": 33,
     "metadata": {},
     "output_type": "execute_result"
    }
   ],
   "source": [
    "metrics_df = pd.DataFrame(metrics);\n",
    "metrics_df.describe()"
   ]
  },
  {
   "cell_type": "code",
   "execution_count": 23,
   "id": "61fbcf43",
   "metadata": {
    "ExecuteTime": {
     "end_time": "2023-09-27T16:51:21.813174Z",
     "start_time": "2023-09-27T16:51:21.772018Z"
    }
   },
   "outputs": [
    {
     "data": {
      "text/html": [
       "<div>\n",
       "<style scoped>\n",
       "    .dataframe tbody tr th:only-of-type {\n",
       "        vertical-align: middle;\n",
       "    }\n",
       "\n",
       "    .dataframe tbody tr th {\n",
       "        vertical-align: top;\n",
       "    }\n",
       "\n",
       "    .dataframe thead th {\n",
       "        text-align: right;\n",
       "    }\n",
       "</style>\n",
       "<table border=\"1\" class=\"dataframe\">\n",
       "  <thead>\n",
       "    <tr style=\"text-align: right;\">\n",
       "      <th></th>\n",
       "      <th>geo_dist</th>\n",
       "      <th>reg_r</th>\n",
       "      <th>lin_r</th>\n",
       "      <th>tau_r</th>\n",
       "      <th>sp_r</th>\n",
       "      <th>mse</th>\n",
       "      <th>reg_r_block</th>\n",
       "      <th>lin_r_block</th>\n",
       "    </tr>\n",
       "  </thead>\n",
       "  <tbody>\n",
       "    <tr>\n",
       "      <th>count</th>\n",
       "      <td>36.000000</td>\n",
       "      <td>36.000000</td>\n",
       "      <td>36.000000</td>\n",
       "      <td>36.000000</td>\n",
       "      <td>36.000000</td>\n",
       "      <td>36.000000</td>\n",
       "      <td>36.000000</td>\n",
       "      <td>36.000000</td>\n",
       "    </tr>\n",
       "    <tr>\n",
       "      <th>mean</th>\n",
       "      <td>0.637749</td>\n",
       "      <td>0.407780</td>\n",
       "      <td>0.323047</td>\n",
       "      <td>0.188527</td>\n",
       "      <td>0.278434</td>\n",
       "      <td>0.053692</td>\n",
       "      <td>0.356020</td>\n",
       "      <td>0.299700</td>\n",
       "    </tr>\n",
       "    <tr>\n",
       "      <th>std</th>\n",
       "      <td>0.019542</td>\n",
       "      <td>0.071680</td>\n",
       "      <td>0.060433</td>\n",
       "      <td>0.045062</td>\n",
       "      <td>0.064860</td>\n",
       "      <td>0.008502</td>\n",
       "      <td>0.070043</td>\n",
       "      <td>0.058475</td>\n",
       "    </tr>\n",
       "    <tr>\n",
       "      <th>min</th>\n",
       "      <td>0.605808</td>\n",
       "      <td>0.250506</td>\n",
       "      <td>0.210241</td>\n",
       "      <td>0.085285</td>\n",
       "      <td>0.127993</td>\n",
       "      <td>0.041758</td>\n",
       "      <td>0.235135</td>\n",
       "      <td>0.191752</td>\n",
       "    </tr>\n",
       "    <tr>\n",
       "      <th>25%</th>\n",
       "      <td>0.623827</td>\n",
       "      <td>0.373063</td>\n",
       "      <td>0.283591</td>\n",
       "      <td>0.159935</td>\n",
       "      <td>0.238418</td>\n",
       "      <td>0.047142</td>\n",
       "      <td>0.289960</td>\n",
       "      <td>0.238904</td>\n",
       "    </tr>\n",
       "    <tr>\n",
       "      <th>50%</th>\n",
       "      <td>0.635391</td>\n",
       "      <td>0.413047</td>\n",
       "      <td>0.318855</td>\n",
       "      <td>0.185277</td>\n",
       "      <td>0.274316</td>\n",
       "      <td>0.052034</td>\n",
       "      <td>0.377961</td>\n",
       "      <td>0.319914</td>\n",
       "    </tr>\n",
       "    <tr>\n",
       "      <th>75%</th>\n",
       "      <td>0.647213</td>\n",
       "      <td>0.457739</td>\n",
       "      <td>0.367866</td>\n",
       "      <td>0.213537</td>\n",
       "      <td>0.315914</td>\n",
       "      <td>0.058283</td>\n",
       "      <td>0.408315</td>\n",
       "      <td>0.345614</td>\n",
       "    </tr>\n",
       "    <tr>\n",
       "      <th>max</th>\n",
       "      <td>0.678403</td>\n",
       "      <td>0.552831</td>\n",
       "      <td>0.427915</td>\n",
       "      <td>0.295255</td>\n",
       "      <td>0.427925</td>\n",
       "      <td>0.072140</td>\n",
       "      <td>0.501253</td>\n",
       "      <td>0.407485</td>\n",
       "    </tr>\n",
       "  </tbody>\n",
       "</table>\n",
       "</div>"
      ],
      "text/plain": [
       "        geo_dist      reg_r      lin_r      tau_r       sp_r        mse  \\\n",
       "count  36.000000  36.000000  36.000000  36.000000  36.000000  36.000000   \n",
       "mean    0.637749   0.407780   0.323047   0.188527   0.278434   0.053692   \n",
       "std     0.019542   0.071680   0.060433   0.045062   0.064860   0.008502   \n",
       "min     0.605808   0.250506   0.210241   0.085285   0.127993   0.041758   \n",
       "25%     0.623827   0.373063   0.283591   0.159935   0.238418   0.047142   \n",
       "50%     0.635391   0.413047   0.318855   0.185277   0.274316   0.052034   \n",
       "75%     0.647213   0.457739   0.367866   0.213537   0.315914   0.058283   \n",
       "max     0.678403   0.552831   0.427915   0.295255   0.427925   0.072140   \n",
       "\n",
       "       reg_r_block  lin_r_block  \n",
       "count    36.000000    36.000000  \n",
       "mean      0.356020     0.299700  \n",
       "std       0.070043     0.058475  \n",
       "min       0.235135     0.191752  \n",
       "25%       0.289960     0.238904  \n",
       "50%       0.377961     0.319914  \n",
       "75%       0.408315     0.345614  \n",
       "max       0.501253     0.407485  "
      ]
     },
     "execution_count": 23,
     "metadata": {},
     "output_type": "execute_result"
    }
   ],
   "source": [
    "metrics_df = pd.DataFrame(metrics);\n",
    "metrics_df.describe()"
   ]
  },
  {
   "cell_type": "code",
   "execution_count": 22,
   "id": "b7e5557a",
   "metadata": {
    "ExecuteTime": {
     "end_time": "2023-09-27T04:14:18.047391Z",
     "start_time": "2023-09-27T04:14:18.007202Z"
    }
   },
   "outputs": [
    {
     "data": {
      "text/html": [
       "<div>\n",
       "<style scoped>\n",
       "    .dataframe tbody tr th:only-of-type {\n",
       "        vertical-align: middle;\n",
       "    }\n",
       "\n",
       "    .dataframe tbody tr th {\n",
       "        vertical-align: top;\n",
       "    }\n",
       "\n",
       "    .dataframe thead th {\n",
       "        text-align: right;\n",
       "    }\n",
       "</style>\n",
       "<table border=\"1\" class=\"dataframe\">\n",
       "  <thead>\n",
       "    <tr style=\"text-align: right;\">\n",
       "      <th></th>\n",
       "      <th>geo_dist</th>\n",
       "      <th>reg_r</th>\n",
       "      <th>lin_r</th>\n",
       "      <th>tau_r</th>\n",
       "      <th>sp_r</th>\n",
       "      <th>mse</th>\n",
       "      <th>reg_r_block</th>\n",
       "      <th>lin_r_block</th>\n",
       "    </tr>\n",
       "  </thead>\n",
       "  <tbody>\n",
       "    <tr>\n",
       "      <th>count</th>\n",
       "      <td>36.000000</td>\n",
       "      <td>36.000000</td>\n",
       "      <td>36.000000</td>\n",
       "      <td>36.000000</td>\n",
       "      <td>36.000000</td>\n",
       "      <td>36.000000</td>\n",
       "      <td>36.000000</td>\n",
       "      <td>36.000000</td>\n",
       "    </tr>\n",
       "    <tr>\n",
       "      <th>mean</th>\n",
       "      <td>0.645210</td>\n",
       "      <td>0.371754</td>\n",
       "      <td>0.304315</td>\n",
       "      <td>0.170639</td>\n",
       "      <td>0.252577</td>\n",
       "      <td>0.052898</td>\n",
       "      <td>0.315873</td>\n",
       "      <td>0.273137</td>\n",
       "    </tr>\n",
       "    <tr>\n",
       "      <th>std</th>\n",
       "      <td>0.020672</td>\n",
       "      <td>0.080323</td>\n",
       "      <td>0.068272</td>\n",
       "      <td>0.046459</td>\n",
       "      <td>0.067327</td>\n",
       "      <td>0.008542</td>\n",
       "      <td>0.075005</td>\n",
       "      <td>0.066179</td>\n",
       "    </tr>\n",
       "    <tr>\n",
       "      <th>min</th>\n",
       "      <td>0.606529</td>\n",
       "      <td>0.228382</td>\n",
       "      <td>0.175492</td>\n",
       "      <td>0.080945</td>\n",
       "      <td>0.121588</td>\n",
       "      <td>0.041216</td>\n",
       "      <td>0.176969</td>\n",
       "      <td>0.139532</td>\n",
       "    </tr>\n",
       "    <tr>\n",
       "      <th>25%</th>\n",
       "      <td>0.630297</td>\n",
       "      <td>0.310020</td>\n",
       "      <td>0.254458</td>\n",
       "      <td>0.138188</td>\n",
       "      <td>0.205905</td>\n",
       "      <td>0.046441</td>\n",
       "      <td>0.245709</td>\n",
       "      <td>0.221301</td>\n",
       "    </tr>\n",
       "    <tr>\n",
       "      <th>50%</th>\n",
       "      <td>0.647217</td>\n",
       "      <td>0.368263</td>\n",
       "      <td>0.297031</td>\n",
       "      <td>0.168387</td>\n",
       "      <td>0.250855</td>\n",
       "      <td>0.050567</td>\n",
       "      <td>0.333420</td>\n",
       "      <td>0.276792</td>\n",
       "    </tr>\n",
       "    <tr>\n",
       "      <th>75%</th>\n",
       "      <td>0.664505</td>\n",
       "      <td>0.433243</td>\n",
       "      <td>0.362252</td>\n",
       "      <td>0.191269</td>\n",
       "      <td>0.283302</td>\n",
       "      <td>0.057558</td>\n",
       "      <td>0.366400</td>\n",
       "      <td>0.317300</td>\n",
       "    </tr>\n",
       "    <tr>\n",
       "      <th>max</th>\n",
       "      <td>0.680215</td>\n",
       "      <td>0.537878</td>\n",
       "      <td>0.420318</td>\n",
       "      <td>0.268887</td>\n",
       "      <td>0.393779</td>\n",
       "      <td>0.072044</td>\n",
       "      <td>0.481909</td>\n",
       "      <td>0.398836</td>\n",
       "    </tr>\n",
       "  </tbody>\n",
       "</table>\n",
       "</div>"
      ],
      "text/plain": [
       "        geo_dist      reg_r      lin_r      tau_r       sp_r        mse  \\\n",
       "count  36.000000  36.000000  36.000000  36.000000  36.000000  36.000000   \n",
       "mean    0.645210   0.371754   0.304315   0.170639   0.252577   0.052898   \n",
       "std     0.020672   0.080323   0.068272   0.046459   0.067327   0.008542   \n",
       "min     0.606529   0.228382   0.175492   0.080945   0.121588   0.041216   \n",
       "25%     0.630297   0.310020   0.254458   0.138188   0.205905   0.046441   \n",
       "50%     0.647217   0.368263   0.297031   0.168387   0.250855   0.050567   \n",
       "75%     0.664505   0.433243   0.362252   0.191269   0.283302   0.057558   \n",
       "max     0.680215   0.537878   0.420318   0.268887   0.393779   0.072044   \n",
       "\n",
       "       reg_r_block  lin_r_block  \n",
       "count    36.000000    36.000000  \n",
       "mean      0.315873     0.273137  \n",
       "std       0.075005     0.066179  \n",
       "min       0.176969     0.139532  \n",
       "25%       0.245709     0.221301  \n",
       "50%       0.333420     0.276792  \n",
       "75%       0.366400     0.317300  \n",
       "max       0.481909     0.398836  "
      ]
     },
     "execution_count": 22,
     "metadata": {},
     "output_type": "execute_result"
    }
   ],
   "source": [
    "metrics_df = pd.DataFrame(metrics);\n",
    "metrics_df.describe()"
   ]
  },
  {
   "cell_type": "code",
   "execution_count": 23,
   "id": "5a7610a9",
   "metadata": {
    "ExecuteTime": {
     "end_time": "2023-09-27T03:58:27.426305Z",
     "start_time": "2023-09-27T03:58:27.388180Z"
    }
   },
   "outputs": [
    {
     "data": {
      "text/html": [
       "<div>\n",
       "<style scoped>\n",
       "    .dataframe tbody tr th:only-of-type {\n",
       "        vertical-align: middle;\n",
       "    }\n",
       "\n",
       "    .dataframe tbody tr th {\n",
       "        vertical-align: top;\n",
       "    }\n",
       "\n",
       "    .dataframe thead th {\n",
       "        text-align: right;\n",
       "    }\n",
       "</style>\n",
       "<table border=\"1\" class=\"dataframe\">\n",
       "  <thead>\n",
       "    <tr style=\"text-align: right;\">\n",
       "      <th></th>\n",
       "      <th>geo_dist</th>\n",
       "      <th>reg_r</th>\n",
       "      <th>lin_r</th>\n",
       "      <th>tau_r</th>\n",
       "      <th>sp_r</th>\n",
       "      <th>mse</th>\n",
       "      <th>reg_r_block</th>\n",
       "      <th>lin_r_block</th>\n",
       "    </tr>\n",
       "  </thead>\n",
       "  <tbody>\n",
       "    <tr>\n",
       "      <th>count</th>\n",
       "      <td>36.000000</td>\n",
       "      <td>36.000000</td>\n",
       "      <td>36.000000</td>\n",
       "      <td>36.000000</td>\n",
       "      <td>36.000000</td>\n",
       "      <td>36.000000</td>\n",
       "      <td>36.000000</td>\n",
       "      <td>36.000000</td>\n",
       "    </tr>\n",
       "    <tr>\n",
       "      <th>mean</th>\n",
       "      <td>0.637527</td>\n",
       "      <td>0.406567</td>\n",
       "      <td>0.322374</td>\n",
       "      <td>0.187870</td>\n",
       "      <td>0.277505</td>\n",
       "      <td>0.053654</td>\n",
       "      <td>0.354479</td>\n",
       "      <td>0.298847</td>\n",
       "    </tr>\n",
       "    <tr>\n",
       "      <th>std</th>\n",
       "      <td>0.019258</td>\n",
       "      <td>0.070886</td>\n",
       "      <td>0.059972</td>\n",
       "      <td>0.045074</td>\n",
       "      <td>0.064924</td>\n",
       "      <td>0.008535</td>\n",
       "      <td>0.068784</td>\n",
       "      <td>0.058024</td>\n",
       "    </tr>\n",
       "    <tr>\n",
       "      <th>min</th>\n",
       "      <td>0.605397</td>\n",
       "      <td>0.249073</td>\n",
       "      <td>0.209408</td>\n",
       "      <td>0.084710</td>\n",
       "      <td>0.127156</td>\n",
       "      <td>0.041753</td>\n",
       "      <td>0.233746</td>\n",
       "      <td>0.183353</td>\n",
       "    </tr>\n",
       "    <tr>\n",
       "      <th>25%</th>\n",
       "      <td>0.623577</td>\n",
       "      <td>0.354975</td>\n",
       "      <td>0.280678</td>\n",
       "      <td>0.158285</td>\n",
       "      <td>0.234450</td>\n",
       "      <td>0.047140</td>\n",
       "      <td>0.290960</td>\n",
       "      <td>0.244276</td>\n",
       "    </tr>\n",
       "    <tr>\n",
       "      <th>50%</th>\n",
       "      <td>0.636426</td>\n",
       "      <td>0.415243</td>\n",
       "      <td>0.322765</td>\n",
       "      <td>0.182987</td>\n",
       "      <td>0.270459</td>\n",
       "      <td>0.051078</td>\n",
       "      <td>0.378315</td>\n",
       "      <td>0.317603</td>\n",
       "    </tr>\n",
       "    <tr>\n",
       "      <th>75%</th>\n",
       "      <td>0.646914</td>\n",
       "      <td>0.449879</td>\n",
       "      <td>0.363803</td>\n",
       "      <td>0.217935</td>\n",
       "      <td>0.323541</td>\n",
       "      <td>0.058112</td>\n",
       "      <td>0.408122</td>\n",
       "      <td>0.343823</td>\n",
       "    </tr>\n",
       "    <tr>\n",
       "      <th>max</th>\n",
       "      <td>0.676326</td>\n",
       "      <td>0.547647</td>\n",
       "      <td>0.424710</td>\n",
       "      <td>0.290940</td>\n",
       "      <td>0.422287</td>\n",
       "      <td>0.072148</td>\n",
       "      <td>0.494504</td>\n",
       "      <td>0.404192</td>\n",
       "    </tr>\n",
       "  </tbody>\n",
       "</table>\n",
       "</div>"
      ],
      "text/plain": [
       "        geo_dist      reg_r      lin_r      tau_r       sp_r        mse  \\\n",
       "count  36.000000  36.000000  36.000000  36.000000  36.000000  36.000000   \n",
       "mean    0.637527   0.406567   0.322374   0.187870   0.277505   0.053654   \n",
       "std     0.019258   0.070886   0.059972   0.045074   0.064924   0.008535   \n",
       "min     0.605397   0.249073   0.209408   0.084710   0.127156   0.041753   \n",
       "25%     0.623577   0.354975   0.280678   0.158285   0.234450   0.047140   \n",
       "50%     0.636426   0.415243   0.322765   0.182987   0.270459   0.051078   \n",
       "75%     0.646914   0.449879   0.363803   0.217935   0.323541   0.058112   \n",
       "max     0.676326   0.547647   0.424710   0.290940   0.422287   0.072148   \n",
       "\n",
       "       reg_r_block  lin_r_block  \n",
       "count    36.000000    36.000000  \n",
       "mean      0.354479     0.298847  \n",
       "std       0.068784     0.058024  \n",
       "min       0.233746     0.183353  \n",
       "25%       0.290960     0.244276  \n",
       "50%       0.378315     0.317603  \n",
       "75%       0.408122     0.343823  \n",
       "max       0.494504     0.404192  "
      ]
     },
     "execution_count": 23,
     "metadata": {},
     "output_type": "execute_result"
    }
   ],
   "source": [
    "metrics_df = pd.DataFrame(metrics);\n",
    "metrics_df.describe()"
   ]
  },
  {
   "cell_type": "code",
   "execution_count": 23,
   "id": "5f69ca06",
   "metadata": {
    "ExecuteTime": {
     "end_time": "2023-09-27T03:53:38.328133Z",
     "start_time": "2023-09-27T03:53:38.289853Z"
    }
   },
   "outputs": [
    {
     "data": {
      "text/html": [
       "<div>\n",
       "<style scoped>\n",
       "    .dataframe tbody tr th:only-of-type {\n",
       "        vertical-align: middle;\n",
       "    }\n",
       "\n",
       "    .dataframe tbody tr th {\n",
       "        vertical-align: top;\n",
       "    }\n",
       "\n",
       "    .dataframe thead th {\n",
       "        text-align: right;\n",
       "    }\n",
       "</style>\n",
       "<table border=\"1\" class=\"dataframe\">\n",
       "  <thead>\n",
       "    <tr style=\"text-align: right;\">\n",
       "      <th></th>\n",
       "      <th>geo_dist</th>\n",
       "      <th>reg_r</th>\n",
       "      <th>lin_r</th>\n",
       "      <th>tau_r</th>\n",
       "      <th>sp_r</th>\n",
       "      <th>mse</th>\n",
       "      <th>reg_r_block</th>\n",
       "      <th>lin_r_block</th>\n",
       "    </tr>\n",
       "  </thead>\n",
       "  <tbody>\n",
       "    <tr>\n",
       "      <th>count</th>\n",
       "      <td>36.000000</td>\n",
       "      <td>36.000000</td>\n",
       "      <td>36.000000</td>\n",
       "      <td>36.000000</td>\n",
       "      <td>36.000000</td>\n",
       "      <td>36.000000</td>\n",
       "      <td>36.000000</td>\n",
       "      <td>36.000000</td>\n",
       "    </tr>\n",
       "    <tr>\n",
       "      <th>mean</th>\n",
       "      <td>0.641730</td>\n",
       "      <td>0.382487</td>\n",
       "      <td>0.311320</td>\n",
       "      <td>0.175732</td>\n",
       "      <td>0.260011</td>\n",
       "      <td>0.052859</td>\n",
       "      <td>0.326731</td>\n",
       "      <td>0.281205</td>\n",
       "    </tr>\n",
       "    <tr>\n",
       "      <th>std</th>\n",
       "      <td>0.019450</td>\n",
       "      <td>0.072626</td>\n",
       "      <td>0.062908</td>\n",
       "      <td>0.043580</td>\n",
       "      <td>0.063137</td>\n",
       "      <td>0.008540</td>\n",
       "      <td>0.067958</td>\n",
       "      <td>0.060054</td>\n",
       "    </tr>\n",
       "    <tr>\n",
       "      <th>min</th>\n",
       "      <td>0.609004</td>\n",
       "      <td>0.245862</td>\n",
       "      <td>0.197318</td>\n",
       "      <td>0.083213</td>\n",
       "      <td>0.124959</td>\n",
       "      <td>0.041328</td>\n",
       "      <td>0.191061</td>\n",
       "      <td>0.150805</td>\n",
       "    </tr>\n",
       "    <tr>\n",
       "      <th>25%</th>\n",
       "      <td>0.626700</td>\n",
       "      <td>0.338900</td>\n",
       "      <td>0.268093</td>\n",
       "      <td>0.149786</td>\n",
       "      <td>0.222350</td>\n",
       "      <td>0.046334</td>\n",
       "      <td>0.257603</td>\n",
       "      <td>0.228634</td>\n",
       "    </tr>\n",
       "    <tr>\n",
       "      <th>50%</th>\n",
       "      <td>0.644374</td>\n",
       "      <td>0.383894</td>\n",
       "      <td>0.300295</td>\n",
       "      <td>0.173816</td>\n",
       "      <td>0.257471</td>\n",
       "      <td>0.050263</td>\n",
       "      <td>0.349371</td>\n",
       "      <td>0.291479</td>\n",
       "    </tr>\n",
       "    <tr>\n",
       "      <th>75%</th>\n",
       "      <td>0.653945</td>\n",
       "      <td>0.444692</td>\n",
       "      <td>0.359149</td>\n",
       "      <td>0.195131</td>\n",
       "      <td>0.290501</td>\n",
       "      <td>0.057671</td>\n",
       "      <td>0.374846</td>\n",
       "      <td>0.318940</td>\n",
       "    </tr>\n",
       "    <tr>\n",
       "      <th>max</th>\n",
       "      <td>0.678258</td>\n",
       "      <td>0.527164</td>\n",
       "      <td>0.415523</td>\n",
       "      <td>0.267042</td>\n",
       "      <td>0.391283</td>\n",
       "      <td>0.072034</td>\n",
       "      <td>0.469373</td>\n",
       "      <td>0.388675</td>\n",
       "    </tr>\n",
       "  </tbody>\n",
       "</table>\n",
       "</div>"
      ],
      "text/plain": [
       "        geo_dist      reg_r      lin_r      tau_r       sp_r        mse  \\\n",
       "count  36.000000  36.000000  36.000000  36.000000  36.000000  36.000000   \n",
       "mean    0.641730   0.382487   0.311320   0.175732   0.260011   0.052859   \n",
       "std     0.019450   0.072626   0.062908   0.043580   0.063137   0.008540   \n",
       "min     0.609004   0.245862   0.197318   0.083213   0.124959   0.041328   \n",
       "25%     0.626700   0.338900   0.268093   0.149786   0.222350   0.046334   \n",
       "50%     0.644374   0.383894   0.300295   0.173816   0.257471   0.050263   \n",
       "75%     0.653945   0.444692   0.359149   0.195131   0.290501   0.057671   \n",
       "max     0.678258   0.527164   0.415523   0.267042   0.391283   0.072034   \n",
       "\n",
       "       reg_r_block  lin_r_block  \n",
       "count    36.000000    36.000000  \n",
       "mean      0.326731     0.281205  \n",
       "std       0.067958     0.060054  \n",
       "min       0.191061     0.150805  \n",
       "25%       0.257603     0.228634  \n",
       "50%       0.349371     0.291479  \n",
       "75%       0.374846     0.318940  \n",
       "max       0.469373     0.388675  "
      ]
     },
     "execution_count": 23,
     "metadata": {},
     "output_type": "execute_result"
    }
   ],
   "source": [
    "metrics_df = pd.DataFrame(metrics);\n",
    "metrics_df.describe()"
   ]
  },
  {
   "cell_type": "code",
   "execution_count": 28,
   "id": "497987ad",
   "metadata": {
    "ExecuteTime": {
     "end_time": "2023-09-26T18:16:43.546531Z",
     "start_time": "2023-09-26T18:16:43.506526Z"
    }
   },
   "outputs": [
    {
     "data": {
      "text/html": [
       "<div>\n",
       "<style scoped>\n",
       "    .dataframe tbody tr th:only-of-type {\n",
       "        vertical-align: middle;\n",
       "    }\n",
       "\n",
       "    .dataframe tbody tr th {\n",
       "        vertical-align: top;\n",
       "    }\n",
       "\n",
       "    .dataframe thead th {\n",
       "        text-align: right;\n",
       "    }\n",
       "</style>\n",
       "<table border=\"1\" class=\"dataframe\">\n",
       "  <thead>\n",
       "    <tr style=\"text-align: right;\">\n",
       "      <th></th>\n",
       "      <th>geo_dist</th>\n",
       "      <th>reg_r</th>\n",
       "      <th>lin_r</th>\n",
       "      <th>tau_r</th>\n",
       "      <th>sp_r</th>\n",
       "      <th>mse</th>\n",
       "      <th>reg_r_block</th>\n",
       "      <th>lin_r_block</th>\n",
       "    </tr>\n",
       "  </thead>\n",
       "  <tbody>\n",
       "    <tr>\n",
       "      <th>count</th>\n",
       "      <td>36.000000</td>\n",
       "      <td>36.000000</td>\n",
       "      <td>36.000000</td>\n",
       "      <td>36.000000</td>\n",
       "      <td>36.000000</td>\n",
       "      <td>36.000000</td>\n",
       "      <td>36.000000</td>\n",
       "      <td>36.000000</td>\n",
       "    </tr>\n",
       "    <tr>\n",
       "      <th>mean</th>\n",
       "      <td>0.652021</td>\n",
       "      <td>0.284117</td>\n",
       "      <td>0.253625</td>\n",
       "      <td>0.137561</td>\n",
       "      <td>0.204592</td>\n",
       "      <td>0.054775</td>\n",
       "      <td>0.227642</td>\n",
       "      <td>0.205158</td>\n",
       "    </tr>\n",
       "    <tr>\n",
       "      <th>std</th>\n",
       "      <td>0.018120</td>\n",
       "      <td>0.048941</td>\n",
       "      <td>0.044800</td>\n",
       "      <td>0.027826</td>\n",
       "      <td>0.040962</td>\n",
       "      <td>0.007163</td>\n",
       "      <td>0.049963</td>\n",
       "      <td>0.045129</td>\n",
       "    </tr>\n",
       "    <tr>\n",
       "      <th>min</th>\n",
       "      <td>0.608112</td>\n",
       "      <td>0.150778</td>\n",
       "      <td>0.127167</td>\n",
       "      <td>0.061387</td>\n",
       "      <td>0.091515</td>\n",
       "      <td>0.044724</td>\n",
       "      <td>0.129083</td>\n",
       "      <td>0.108635</td>\n",
       "    </tr>\n",
       "    <tr>\n",
       "      <th>25%</th>\n",
       "      <td>0.642117</td>\n",
       "      <td>0.252145</td>\n",
       "      <td>0.226888</td>\n",
       "      <td>0.122006</td>\n",
       "      <td>0.182129</td>\n",
       "      <td>0.049582</td>\n",
       "      <td>0.200718</td>\n",
       "      <td>0.177613</td>\n",
       "    </tr>\n",
       "    <tr>\n",
       "      <th>50%</th>\n",
       "      <td>0.650636</td>\n",
       "      <td>0.286202</td>\n",
       "      <td>0.261466</td>\n",
       "      <td>0.137520</td>\n",
       "      <td>0.205477</td>\n",
       "      <td>0.053468</td>\n",
       "      <td>0.223706</td>\n",
       "      <td>0.207253</td>\n",
       "    </tr>\n",
       "    <tr>\n",
       "      <th>75%</th>\n",
       "      <td>0.661636</td>\n",
       "      <td>0.313969</td>\n",
       "      <td>0.284504</td>\n",
       "      <td>0.156865</td>\n",
       "      <td>0.233528</td>\n",
       "      <td>0.059297</td>\n",
       "      <td>0.272886</td>\n",
       "      <td>0.230896</td>\n",
       "    </tr>\n",
       "    <tr>\n",
       "      <th>max</th>\n",
       "      <td>0.683904</td>\n",
       "      <td>0.389925</td>\n",
       "      <td>0.344303</td>\n",
       "      <td>0.188260</td>\n",
       "      <td>0.279623</td>\n",
       "      <td>0.073492</td>\n",
       "      <td>0.331047</td>\n",
       "      <td>0.305865</td>\n",
       "    </tr>\n",
       "  </tbody>\n",
       "</table>\n",
       "</div>"
      ],
      "text/plain": [
       "        geo_dist      reg_r      lin_r      tau_r       sp_r        mse  \\\n",
       "count  36.000000  36.000000  36.000000  36.000000  36.000000  36.000000   \n",
       "mean    0.652021   0.284117   0.253625   0.137561   0.204592   0.054775   \n",
       "std     0.018120   0.048941   0.044800   0.027826   0.040962   0.007163   \n",
       "min     0.608112   0.150778   0.127167   0.061387   0.091515   0.044724   \n",
       "25%     0.642117   0.252145   0.226888   0.122006   0.182129   0.049582   \n",
       "50%     0.650636   0.286202   0.261466   0.137520   0.205477   0.053468   \n",
       "75%     0.661636   0.313969   0.284504   0.156865   0.233528   0.059297   \n",
       "max     0.683904   0.389925   0.344303   0.188260   0.279623   0.073492   \n",
       "\n",
       "       reg_r_block  lin_r_block  \n",
       "count    36.000000    36.000000  \n",
       "mean      0.227642     0.205158  \n",
       "std       0.049963     0.045129  \n",
       "min       0.129083     0.108635  \n",
       "25%       0.200718     0.177613  \n",
       "50%       0.223706     0.207253  \n",
       "75%       0.272886     0.230896  \n",
       "max       0.331047     0.305865  "
      ]
     },
     "execution_count": 28,
     "metadata": {},
     "output_type": "execute_result"
    }
   ],
   "source": [
    "metrics_df = pd.DataFrame(metrics);\n",
    "metrics_df.describe()"
   ]
  },
  {
   "cell_type": "code",
   "execution_count": null,
   "id": "3d756372",
   "metadata": {},
   "outputs": [],
   "source": []
  },
  {
   "cell_type": "markdown",
   "id": "fe71fce4",
   "metadata": {},
   "source": [
    "### Compare"
   ]
  },
  {
   "cell_type": "code",
   "execution_count": 24,
   "id": "da5866da",
   "metadata": {
    "ExecuteTime": {
     "end_time": "2023-09-26T18:13:27.328954Z",
     "start_time": "2023-09-26T18:13:27.323971Z"
    }
   },
   "outputs": [],
   "source": [
    "import pandas as pd"
   ]
  },
  {
   "cell_type": "code",
   "execution_count": 35,
   "id": "d9a470d4",
   "metadata": {
    "ExecuteTime": {
     "end_time": "2023-09-27T04:16:33.197717Z",
     "start_time": "2023-09-27T04:16:33.166324Z"
    }
   },
   "outputs": [
    {
     "name": "stdout",
     "output_type": "stream",
     "text": [
      "Load file /data/rajlab1/user_data/jin/MyResearch/SBI-SGM-FC/notebooks/new_sgm/../../mypkg/../results/rawfc2_posteriorMRmul_alpha_num1000_densitynsf_MR3_noise_sd20_addv1/inf_res_fb.pkl\n",
      "Load file /data/rajlab1/user_data/jin/MyResearch/SBI-SGM-FC/notebooks/new_sgm/../../mypkg/../results/rawfc2ep20_posteriorMRmul_alpha_num1000_densitynsf_MR3_noise_sd20_addv1/inf_res_fb.pkl\n",
      "Load file /data/rajlab1/user_data/jin/MyResearch/SBI-SGM-FC/notebooks/new_sgm/../../mypkg/../results/rawfc2ep100_posteriorMRmul_alpha_num1000_densitynsf_MR3_noise_sd20_addv1/inf_res_fb.pkl\n"
     ]
    }
   ],
   "source": [
    "dir0 =  f\"rawfc2_posteriorMRmul_alpha_\" + \\\n",
    "        f\"num1000_\" + \\\n",
    "        f\"densitynsf_\" + \\\n",
    "        f\"MR3_\" + \\\n",
    "        f\"noise_sd20_\" +\\\n",
    "        f\"addv1\"\n",
    "dir1 =  f\"rawfc2ep20_posteriorMRmul_alpha_\" + \\\n",
    "        f\"num1000_\" + \\\n",
    "        f\"densitynsf_\" + \\\n",
    "        f\"MR3_\" + \\\n",
    "        f\"noise_sd20_\" +\\\n",
    "        f\"addv1\"\n",
    "dir2 =  f\"rawfc2ep100_posteriorMRmul_alpha_\" + \\\n",
    "        f\"num1000_\" + \\\n",
    "        f\"densitynsf_\" + \\\n",
    "        f\"MR3_\" + \\\n",
    "        f\"noise_sd20_\" +\\\n",
    "        f\"addv1\"\n",
    "res0 = load_pkl(RES_ROOT/dir0/\"inf_res_fb.pkl\");\n",
    "res1 = load_pkl(RES_ROOT/dir1/\"inf_res_fb.pkl\");\n",
    "res2 = load_pkl(RES_ROOT/dir2/\"inf_res_fb.pkl\");"
   ]
  },
  {
   "cell_type": "code",
   "execution_count": 38,
   "id": "a2823088",
   "metadata": {
    "ExecuteTime": {
     "end_time": "2023-09-27T04:17:07.254152Z",
     "start_time": "2023-09-27T04:17:07.230413Z"
    }
   },
   "outputs": [
    {
     "data": {
      "text/html": [
       "<div>\n",
       "<style scoped>\n",
       "    .dataframe tbody tr th:only-of-type {\n",
       "        vertical-align: middle;\n",
       "    }\n",
       "\n",
       "    .dataframe tbody tr th {\n",
       "        vertical-align: top;\n",
       "    }\n",
       "\n",
       "    .dataframe thead th {\n",
       "        text-align: right;\n",
       "    }\n",
       "</style>\n",
       "<table border=\"1\" class=\"dataframe\">\n",
       "  <thead>\n",
       "    <tr style=\"text-align: right;\">\n",
       "      <th></th>\n",
       "      <th>Epoch 1</th>\n",
       "      <th>Epoch 20</th>\n",
       "      <th>Epoch 100</th>\n",
       "    </tr>\n",
       "  </thead>\n",
       "  <tbody>\n",
       "    <tr>\n",
       "      <th>reg_r</th>\n",
       "      <td>0.041080</td>\n",
       "      <td>0.213930</td>\n",
       "      <td>0.292925</td>\n",
       "    </tr>\n",
       "    <tr>\n",
       "      <th>lin_r</th>\n",
       "      <td>0.015040</td>\n",
       "      <td>0.175168</td>\n",
       "      <td>0.246922</td>\n",
       "    </tr>\n",
       "    <tr>\n",
       "      <th>sp_r</th>\n",
       "      <td>0.039902</td>\n",
       "      <td>0.158989</td>\n",
       "      <td>0.209433</td>\n",
       "    </tr>\n",
       "    <tr>\n",
       "      <th>mse</th>\n",
       "      <td>0.222770</td>\n",
       "      <td>0.070833</td>\n",
       "      <td>0.054957</td>\n",
       "    </tr>\n",
       "  </tbody>\n",
       "</table>\n",
       "</div>"
      ],
      "text/plain": [
       "        Epoch 1  Epoch 20  Epoch 100\n",
       "reg_r  0.041080  0.213930   0.292925\n",
       "lin_r  0.015040  0.175168   0.246922\n",
       "sp_r   0.039902  0.158989   0.209433\n",
       "mse    0.222770  0.070833   0.054957"
      ]
     },
     "execution_count": 38,
     "metadata": {},
     "output_type": "execute_result"
    }
   ],
   "source": [
    "out_df = {\n",
    "    \"Epoch 1\": pd.DataFrame(res0.metrics).mean(),\n",
    "    \"Epoch 20\": pd.DataFrame(res1.metrics).mean(),\n",
    "    \"Epoch 100\": pd.DataFrame(res2.metrics).mean()}\n",
    "pd.DataFrame(out_df).iloc[[1, 2, 4, 5], :]"
   ]
  },
  {
   "cell_type": "code",
   "execution_count": null,
   "id": "b31e8ead",
   "metadata": {},
   "outputs": [],
   "source": []
  }
 ],
 "metadata": {
  "kernelspec": {
   "display_name": "Python 3 (ipykernel)",
   "language": "python",
   "name": "python3"
  },
  "language_info": {
   "codemirror_mode": {
    "name": "ipython",
    "version": 3
   },
   "file_extension": ".py",
   "mimetype": "text/x-python",
   "name": "python",
   "nbconvert_exporter": "python",
   "pygments_lexer": "ipython3",
   "version": "3.9.7"
  },
  "toc": {
   "base_numbering": 1,
   "nav_menu": {},
   "number_sections": true,
   "sideBar": true,
   "skip_h1_title": false,
   "title_cell": "Table of Contents",
   "title_sidebar": "Contents",
   "toc_cell": false,
   "toc_position": {
    "height": "calc(100% - 180px)",
    "left": "10px",
    "top": "150px",
    "width": "165px"
   },
   "toc_section_display": true,
   "toc_window_display": true
  }
 },
 "nbformat": 4,
 "nbformat_minor": 5
}
