{
 "cells": [
  {
   "cell_type": "markdown",
   "id": "089a43ab",
   "metadata": {},
   "source": [
    "RUN SBI-SGM in alpha, new bounds, new SGM, only three parameters needed\n",
    "\n",
    "parameters order is  :tauG,speed,alpha (In second)\n"
   ]
  },
  {
   "cell_type": "code",
   "execution_count": 29,
   "id": "602fd510",
   "metadata": {
    "ExecuteTime": {
     "end_time": "2023-06-07T06:48:55.454411Z",
     "start_time": "2023-06-07T06:48:55.446540Z"
    }
   },
   "outputs": [
    {
     "data": {
      "text/plain": [
       "'rawfc'"
      ]
     },
     "execution_count": 29,
     "metadata": {},
     "output_type": "execute_result"
    }
   ],
   "source": [
    "RUN_PYTHON_SCRIPT = False\n",
    "SAVE_PREFIX = \"rawfc\""
   ]
  },
  {
   "cell_type": "code",
   "execution_count": null,
   "id": "037c2c73",
   "metadata": {},
   "outputs": [],
   "source": []
  },
  {
   "cell_type": "markdown",
   "id": "15b93230",
   "metadata": {},
   "source": [
    "## Import some pkgs"
   ]
  },
  {
   "cell_type": "code",
   "execution_count": 2,
   "id": "a5c4bef0",
   "metadata": {
    "ExecuteTime": {
     "end_time": "2023-06-07T06:35:22.987677Z",
     "start_time": "2023-06-07T06:35:21.455095Z"
    }
   },
   "outputs": [],
   "source": [
    "import sys\n",
    "sys.path.append(\"../../mypkg\")\n",
    "\n",
    "import scipy\n",
    "import itertools\n",
    "\n",
    "import numpy as np\n",
    "import xarray as xr\n",
    "import matplotlib.pyplot as plt\n",
    "import seaborn as sns\n",
    "\n",
    "from tqdm import trange\n",
    "from scipy.io import loadmat\n",
    "from functools import partial\n",
    "from easydict import EasyDict as edict"
   ]
  },
  {
   "cell_type": "code",
   "execution_count": 3,
   "id": "129d24a5",
   "metadata": {
    "ExecuteTime": {
     "end_time": "2023-06-07T06:35:31.266305Z",
     "start_time": "2023-06-07T06:35:26.070891Z"
    }
   },
   "outputs": [],
   "source": [
    "# SBI and torch\n",
    "from sbi.inference.base import infer\n",
    "from sbi.inference import SNPE, prepare_for_sbi, simulate_for_sbi\n",
    "from sbi import analysis\n",
    "from sbi.utils.get_nn_models import posterior_nn\n",
    "from sbi import utils as sutils\n",
    "\n",
    "import torch.nn as nn\n",
    "import torch.nn.functional as F\n",
    "import torch\n",
    "from torch.distributions.multivariate_normal import MultivariateNormal"
   ]
  },
  {
   "cell_type": "code",
   "execution_count": 4,
   "id": "513f09d5",
   "metadata": {
    "ExecuteTime": {
     "end_time": "2023-06-07T06:35:31.344988Z",
     "start_time": "2023-06-07T06:35:31.270070Z"
    }
   },
   "outputs": [],
   "source": [
    "# my own fns\n",
    "from brain import Brain\n",
    "from FC_utils import build_fc_freq_m\n",
    "from constants import RES_ROOT, DATA_ROOT\n",
    "from utils.misc import load_pkl, save_pkl\n",
    "from utils.reparam import theta_raw_2out, logistic_np, logistic_torch"
   ]
  },
  {
   "cell_type": "code",
   "execution_count": null,
   "id": "d5b87c78",
   "metadata": {
    "ExecuteTime": {
     "end_time": "2022-11-08T00:03:09.655902Z",
     "start_time": "2022-11-08T00:03:09.466344Z"
    }
   },
   "outputs": [],
   "source": []
  },
  {
   "cell_type": "markdown",
   "id": "820f27bd",
   "metadata": {},
   "source": [
    "## Some fns"
   ]
  },
  {
   "cell_type": "code",
   "execution_count": 5,
   "id": "81762f84",
   "metadata": {
    "ExecuteTime": {
     "end_time": "2023-06-07T06:35:31.354582Z",
     "start_time": "2023-06-07T06:35:31.347398Z"
    }
   },
   "outputs": [
    {
     "data": {
      "text/plain": [
       "<function __main__.<lambda>(x)>"
      ]
     },
     "execution_count": 5,
     "metadata": {},
     "output_type": "execute_result"
    }
   ],
   "source": [
    "_minmax_vec = lambda x: (x-np.min(x))/(np.max(x)-np.min(x))"
   ]
  },
  {
   "cell_type": "code",
   "execution_count": 6,
   "id": "9daeac1d",
   "metadata": {
    "ExecuteTime": {
     "end_time": "2023-06-07T06:35:31.912476Z",
     "start_time": "2023-06-07T06:35:31.907248Z"
    }
   },
   "outputs": [],
   "source": [
    "# transfer vec to a sym mat\n",
    "def vec_2mat(vec):\n",
    "    mat = np.zeros((68, 68))\n",
    "    mat[np.triu_indices(68, k = 1)] = vec\n",
    "    mat = mat + mat.T\n",
    "    return mat"
   ]
  },
  {
   "cell_type": "code",
   "execution_count": 7,
   "id": "65fa4ae9",
   "metadata": {
    "ExecuteTime": {
     "end_time": "2023-06-07T06:35:32.274034Z",
     "start_time": "2023-06-07T06:35:32.268774Z"
    }
   },
   "outputs": [],
   "source": [
    "def get_mode(x):\n",
    "    kde_est = scipy.stats.gaussian_kde(x)\n",
    "    xs = np.linspace(x.min(), x.max(), 500)\n",
    "    ys = kde_est(xs)\n",
    "    return xs[np.argmax(ys)]"
   ]
  },
  {
   "cell_type": "code",
   "execution_count": null,
   "id": "c2112ea2",
   "metadata": {},
   "outputs": [],
   "source": []
  },
  {
   "cell_type": "markdown",
   "id": "12bd0463",
   "metadata": {},
   "source": [
    "### Some parameters"
   ]
  },
  {
   "cell_type": "code",
   "execution_count": 8,
   "id": "5da1fc37",
   "metadata": {
    "ExecuteTime": {
     "end_time": "2023-06-07T06:35:36.870791Z",
     "start_time": "2023-06-07T06:35:36.577163Z"
    }
   },
   "outputs": [],
   "source": [
    "# SC\n",
    "ind_conn_xr = xr.open_dataarray(DATA_ROOT/'individual_connectomes_reordered.nc')\n",
    "ind_conn = ind_conn_xr.values\n",
    "\n",
    "# PSD\n",
    "ind_psd_xr = xr.open_dataarray(DATA_ROOT/'individual_psd_reordered_matlab.nc')\n",
    "ind_psd = ind_psd_xr.values\n",
    "fvec = ind_psd_xr[\"frequencies\"].values;"
   ]
  },
  {
   "cell_type": "code",
   "execution_count": 9,
   "id": "e17d9242",
   "metadata": {
    "ExecuteTime": {
     "end_time": "2023-06-07T06:35:39.240904Z",
     "start_time": "2023-06-07T06:35:38.852910Z"
    }
   },
   "outputs": [
    {
     "data": {
      "image/png": "[encoded data removed]",
      "text/plain": [
       "<Figure size 432x288 with 1 Axes>"
      ]
     },
     "metadata": {
      "needs_background": "light"
     },
     "output_type": "display_data"
    }
   ],
   "source": [
    "from scipy.io import loadmat\n",
    "# The array is ordered as in ‘alpha’, ‘beta_l’, ‘delta’, ‘theta’\n",
    "#diag_ws = np.abs(diag_ws).mean(axis=(1, 2))\n",
    "diag_ws = np.ones(82)\n",
    "#diag_ws[0] = 1 # remove it\n",
    "# normalized diag_ws (to mean 1 or max 1) (on May 10, 2023)\n",
    "# or log(ws/min(ws)) still remove the first term (on May 10, 2023)\n",
    "if not RUN_PYTHON_SCRIPT:\n",
    "    plt.plot(diag_ws)\n",
    "    plt.yscale(\"log\")"
   ]
  },
  {
   "cell_type": "code",
   "execution_count": 10,
   "id": "c034879f",
   "metadata": {
    "ExecuteTime": {
     "end_time": "2023-06-07T06:35:46.733712Z",
     "start_time": "2023-06-07T06:35:46.728149Z"
    }
   },
   "outputs": [],
   "source": [
    "_paras = edict()\n",
    "_paras.delta = [2, 3.5]\n",
    "_paras.theta = [4, 7]\n",
    "_paras.alpha = [8, 12]\n",
    "_paras.beta_l = [13, 20]"
   ]
  },
  {
   "cell_type": "code",
   "execution_count": 15,
   "id": "74f883ac",
   "metadata": {
    "ExecuteTime": {
     "end_time": "2023-06-07T06:37:43.468593Z",
     "start_time": "2023-06-07T06:37:43.454149Z"
    }
   },
   "outputs": [
    {
     "name": "stdout",
     "output_type": "stream",
     "text": [
      "[ 8.  9. 10. 11. 12.]\n",
      "[1. 1. 1. 1. 1. 1. 1. 1. 1. 1. 1. 1. 1. 1. 1. 1. 1. 1. 1. 1. 1. 1. 1. 1.\n",
      " 1. 1. 1. 1. 1. 1. 1. 1. 1. 1. 1. 1. 1. 1. 1. 1. 1. 1. 1. 1. 1. 1. 1. 1.\n",
      " 1. 1. 1. 1. 1. 1. 1. 1. 1. 1. 1. 1. 1. 1. 1. 1. 1. 1. 1. 1. 1. 1. 1. 1.\n",
      " 1. 1. 1. 1. 1. 1. 1. 1. 1. 1.]\n"
     ]
    }
   ],
   "source": [
    "paras = edict()\n",
    "\n",
    "paras.band = \"alpha\" \n",
    "paras.freqrange =  np.linspace(_paras[paras.band][0], _paras[paras.band][1], 5)\n",
    "paras.diag_ws = diag_ws\n",
    "print(paras.freqrange)\n",
    "paras.fs = 600\n",
    "paras.num_nodes = 86 # Number of cortical (68) + subcortical nodes\n",
    "#paras.par_low = np.asarray([0.005,0.005,0.005,5, 0.1,0.001,0.001])\n",
    "#paras.par_high = np.asarray([0.03, 0.20, 0.03,20,  1,    2,  0.7])\n",
    "#paras.names = [\"Taue\", \"Taui\", \"TauC\", \"Speed\", \"alpha\", \"gii\", \"gei\"]\n",
    "paras.par_low = np.asarray([0.005, 5, 0.1])\n",
    "paras.par_high = np.asarray([0.03, 20, 1])\n",
    "paras.names = [\"TauC\", \"Speed\", \"alpha\"]\n",
    "paras.prior_bds = np.array([paras.par_low, paras.par_high]).T\n",
    "paras.prior_sd = 10\n",
    "paras.add_v = 0.01\n",
    "\n",
    "paras.SBI_paras = edict()\n",
    "paras.SBI_paras.num_prior_sps = int(1e3)\n",
    "paras.SBI_paras.density_model = \"nsf\"\n",
    "paras.SBI_paras.num_round = 3 # 3\n",
    "paras.SBI_paras.noise_sd = 0.2\n",
    "print(paras.diag_ws)"
   ]
  },
  {
   "cell_type": "code",
   "execution_count": 16,
   "id": "1f4c00a6",
   "metadata": {
    "ExecuteTime": {
     "end_time": "2023-06-07T06:37:44.250811Z",
     "start_time": "2023-06-07T06:37:44.243282Z"
    }
   },
   "outputs": [
    {
     "data": {
      "text/plain": [
       "functools.partial(<function theta_raw_2out at 0x7f726b594310>, map_fn=functools.partial(<function logistic_np at 0x7f726b594280>, k=0.1))"
      ]
     },
     "execution_count": 16,
     "metadata": {},
     "output_type": "execute_result"
    }
   ],
   "source": [
    "# fn for reparemetering\n",
    "_map_fn_torch = partial(logistic_torch, k=0.1)\n",
    "_theta_raw_2out = partial(theta_raw_2out, map_fn=partial(logistic_np, k=0.1))"
   ]
  },
  {
   "cell_type": "code",
   "execution_count": null,
   "id": "d66040ab",
   "metadata": {},
   "outputs": [],
   "source": []
  },
  {
   "cell_type": "markdown",
   "id": "cc57cec6",
   "metadata": {},
   "source": [
    "### Load the data"
   ]
  },
  {
   "cell_type": "code",
   "execution_count": 17,
   "id": "ee5a4fc9",
   "metadata": {
    "ExecuteTime": {
     "end_time": "2023-06-07T06:37:46.191155Z",
     "start_time": "2023-06-07T06:37:46.161515Z"
    }
   },
   "outputs": [
    {
     "name": "stdout",
     "output_type": "stream",
     "text": [
      "Add 0.01 on diag\n"
     ]
    }
   ],
   "source": [
    "\n",
    "def _add_v2con(cur_ind_conn):\n",
    "    cur_ind_conn = cur_ind_conn.copy()\n",
    "    add_v = np.quantile(cur_ind_conn, 0.99)*paras.add_v # tuning 0.1\n",
    "    np.fill_diagonal(cur_ind_conn[:34, 34:68], np.diag(cur_ind_conn[:34, 34:68]) + add_v)\n",
    "    np.fill_diagonal(cur_ind_conn[34:68, :34], np.diag(cur_ind_conn[34:68, :34]) + add_v)\n",
    "    np.fill_diagonal(cur_ind_conn[68:77, 77:], np.diag(cur_ind_conn[68:77, 77:]) + add_v)\n",
    "    np.fill_diagonal(cur_ind_conn[77:, 68:77], np.diag(cur_ind_conn[77:, 68:77]) + add_v)\n",
    "    return cur_ind_conn\n",
    "\n",
    "if paras.add_v != 0:\n",
    "    print(f\"Add {paras.add_v} on diag\")\n",
    "    ind_conn_adds = [_add_v2con(ind_conn[:, :, ix]) for ix in range(36)]\n",
    "    ind_conn = np.transpose(np.array(ind_conn_adds), (1, 2, 0))"
   ]
  },
  {
   "cell_type": "code",
   "execution_count": 20,
   "id": "87f1aaad",
   "metadata": {
    "ExecuteTime": {
     "end_time": "2023-06-07T06:41:50.064109Z",
     "start_time": "2023-06-07T06:41:49.171259Z"
    }
   },
   "outputs": [],
   "source": [
    "# em FC\n",
    "fc_root = RES_ROOT/\"emp_fcs\"\n",
    "def _get_fc(sub_ix, bd):\n",
    "    fil = list(fc_root.rglob(f\"*{paras.band}*/sub{sub_ix}.pkl\"))[0]\n",
    "    return load_pkl(fil, verbose=False)\n",
    "\n",
    "fcs = np.array([_get_fc(sub_ix, paras.band) for sub_ix in range(36)]);"
   ]
  },
  {
   "cell_type": "code",
   "execution_count": null,
   "id": "34f677b5",
   "metadata": {},
   "outputs": [],
   "source": []
  },
  {
   "cell_type": "markdown",
   "id": "4bc952d0",
   "metadata": {},
   "source": [
    "## SBI"
   ]
  },
  {
   "cell_type": "markdown",
   "id": "83c38c13",
   "metadata": {},
   "source": [
    "### Prior"
   ]
  },
  {
   "cell_type": "code",
   "execution_count": 21,
   "id": "fca715d4",
   "metadata": {
    "ExecuteTime": {
     "end_time": "2023-06-07T06:41:55.750976Z",
     "start_time": "2023-06-07T06:41:55.086701Z"
    }
   },
   "outputs": [
    {
     "data": {
      "text/plain": [
       "MultivariateNormal(loc: torch.Size([3]), covariance_matrix: torch.Size([3, 3]))"
      ]
     },
     "execution_count": 21,
     "metadata": {},
     "output_type": "execute_result"
    }
   ],
   "source": [
    "prior = MultivariateNormal(loc=torch.zeros(3), covariance_matrix=torch.eye(3)*(paras.prior_sd**2))"
   ]
  },
  {
   "cell_type": "code",
   "execution_count": 22,
   "id": "7bfac0a3",
   "metadata": {
    "ExecuteTime": {
     "end_time": "2023-06-07T06:42:14.970606Z",
     "start_time": "2023-06-07T06:42:14.959926Z"
    }
   },
   "outputs": [],
   "source": [
    "def simulator(raw_params, brain, noise_sd, prior_bds, freqrange, diag_ws):\n",
    "    params = []\n",
    "    for raw_param, prior_bd in zip(raw_params, prior_bds):\n",
    "        param =  _map_fn_torch(raw_param)*(prior_bd[1]-prior_bd[0]) + prior_bd[0]\n",
    "        params.append(param)\n",
    "    params = torch.tensor(params)\n",
    "    \n",
    "    params_dict = dict()\n",
    "    params_dict[\"tauC\"] =  params[0].item()\n",
    "    params_dict[\"speed\"] =  params[1].item()\n",
    "    params_dict[\"alpha\"] =  params[2].item()\n",
    "    modelFC = build_fc_freq_m(brain , params_dict, freqrange, diag_ws)\n",
    "    modelFC_abs = np.abs(modelFC[:68, :68])\n",
    "    res = _minmax_vec(modelFC_abs[np.triu_indices(68, k = 1)])\n",
    "    noise =  np.random.randn(*res.shape)*noise_sd\n",
    "    return (res+ noise).flatten()"
   ]
  },
  {
   "cell_type": "code",
   "execution_count": 28,
   "id": "9be63841",
   "metadata": {
    "ExecuteTime": {
     "end_time": "2023-06-07T06:47:03.862418Z",
     "start_time": "2023-06-07T06:47:00.313627Z"
    }
   },
   "outputs": [
    {
     "name": "stdout",
     "output_type": "stream",
     "text": [
      "0\n",
      "1\n",
      "2\n",
      "3\n"
     ]
    },
    {
     "data": {
      "application/vnd.jupyter.widget-view+json": {
       "model_id": "52e38cf0072c444a98858fed13801184",
       "version_major": 2,
       "version_minor": 0
      },
      "text/plain": [
       "Running 1000 simulations in 1000 batches.:   0%|          | 0/1000 [00:00<?, ?it/s]"
      ]
     },
     "metadata": {},
     "output_type": "display_data"
    },
    {
     "name": "stderr",
     "output_type": "stream",
     "text": [
      "Process LokyProcess-53:\n",
      "Process LokyProcess-51:\n",
      "Process LokyProcess-41:\n",
      "Process LokyProcess-45:\n",
      "Process LokyProcess-55:\n",
      "Process LokyProcess-47:\n",
      "Process LokyProcess-56:\n",
      "Process LokyProcess-48:\n",
      "Process LokyProcess-49:\n",
      "Process LokyProcess-54:\n",
      "Process LokyProcess-52:\n",
      "Process LokyProcess-50:\n",
      "Process LokyProcess-43:\n",
      "Process LokyProcess-46:\n",
      "Process LokyProcess-44:\n",
      "Traceback (most recent call last):\n",
      "  File \"/opt/conda/lib/python3.9/site-packages/joblib/externals/loky/process_executor.py\", line 359, in _sendback_result\n",
      "    result_queue.put(_ResultItem(work_id, result=result,\n",
      "  File \"/opt/conda/lib/python3.9/site-packages/joblib/externals/loky/backend/queues.py\", line 246, in put\n",
      "    with self._wlock:\n",
      "  File \"/opt/conda/lib/python3.9/site-packages/joblib/externals/loky/backend/synchronize.py\", line 110, in __enter__\n",
      "    return self._semlock.acquire()\n",
      "KeyboardInterrupt\n",
      "\n",
      "During handling of the above exception, another exception occurred:\n",
      "\n",
      "Traceback (most recent call last):\n",
      "Traceback (most recent call last):\n",
      "  File \"/opt/conda/lib/python3.9/multiprocessing/process.py\", line 315, in _bootstrap\n",
      "    self.run()\n",
      "  File \"/opt/conda/lib/python3.9/multiprocessing/process.py\", line 108, in run\n",
      "    self._target(*self._args, **self._kwargs)\n",
      "  File \"/opt/conda/lib/python3.9/site-packages/joblib/externals/loky/process_executor.py\", line 441, in _process_worker\n",
      "    _sendback_result(result_queue, call_item.work_id, result=r)\n",
      "  File \"/opt/conda/lib/python3.9/site-packages/joblib/externals/loky/process_executor.py\", line 363, in _sendback_result\n",
      "    result_queue.put(_ResultItem(work_id, exception=exc))\n",
      "  File \"/opt/conda/lib/python3.9/site-packages/joblib/externals/loky/backend/queues.py\", line 246, in put\n",
      "    with self._wlock:\n",
      "  File \"/opt/conda/lib/python3.9/site-packages/joblib/externals/loky/process_executor.py\", line 359, in _sendback_result\n",
      "    result_queue.put(_ResultItem(work_id, result=result,\n",
      "  File \"/opt/conda/lib/python3.9/site-packages/joblib/externals/loky/backend/synchronize.py\", line 110, in __enter__\n",
      "    return self._semlock.acquire()\n",
      "  File \"/opt/conda/lib/python3.9/site-packages/joblib/externals/loky/backend/queues.py\", line 246, in put\n",
      "    with self._wlock:\n",
      "KeyboardInterrupt\n",
      "  File \"/opt/conda/lib/python3.9/site-packages/joblib/externals/loky/backend/synchronize.py\", line 110, in __enter__\n",
      "    return self._semlock.acquire()\n",
      "Traceback (most recent call last):\n",
      "  File \"/opt/conda/lib/python3.9/site-packages/joblib/externals/loky/process_executor.py\", line 359, in _sendback_result\n",
      "    result_queue.put(_ResultItem(work_id, result=result,\n",
      "  File \"/opt/conda/lib/python3.9/site-packages/joblib/externals/loky/backend/queues.py\", line 246, in put\n",
      "    with self._wlock:\n",
      "  File \"/opt/conda/lib/python3.9/site-packages/joblib/externals/loky/backend/synchronize.py\", line 110, in __enter__\n",
      "    return self._semlock.acquire()\n",
      "Traceback (most recent call last):\n",
      "KeyboardInterrupt\n",
      "Traceback (most recent call last):\n",
      "\n",
      "During handling of the above exception, another exception occurred:\n",
      "\n",
      "Traceback (most recent call last):\n",
      "Traceback (most recent call last):\n",
      "Traceback (most recent call last):\n",
      "  File \"/opt/conda/lib/python3.9/site-packages/joblib/externals/loky/process_executor.py\", line 359, in _sendback_result\n",
      "    result_queue.put(_ResultItem(work_id, result=result,\n",
      "KeyboardInterrupt\n",
      "  File \"/opt/conda/lib/python3.9/multiprocessing/process.py\", line 315, in _bootstrap\n",
      "    self.run()\n",
      "  File \"/opt/conda/lib/python3.9/site-packages/joblib/externals/loky/backend/queues.py\", line 246, in put\n",
      "    with self._wlock:\n",
      "\n",
      "During handling of the above exception, another exception occurred:\n",
      "\n",
      "  File \"/opt/conda/lib/python3.9/multiprocessing/process.py\", line 108, in run\n",
      "    self._target(*self._args, **self._kwargs)\n",
      "  File \"/opt/conda/lib/python3.9/site-packages/joblib/externals/loky/process_executor.py\", line 359, in _sendback_result\n",
      "    result_queue.put(_ResultItem(work_id, result=result,\n",
      "  File \"/opt/conda/lib/python3.9/site-packages/joblib/externals/loky/process_executor.py\", line 359, in _sendback_result\n",
      "    result_queue.put(_ResultItem(work_id, result=result,\n",
      "  File \"/opt/conda/lib/python3.9/site-packages/joblib/externals/loky/backend/synchronize.py\", line 110, in __enter__\n",
      "    return self._semlock.acquire()\n",
      "Traceback (most recent call last):\n",
      "Traceback (most recent call last):\n",
      "  File \"/opt/conda/lib/python3.9/site-packages/joblib/externals/loky/process_executor.py\", line 441, in _process_worker\n",
      "    _sendback_result(result_queue, call_item.work_id, result=r)\n",
      "  File \"/opt/conda/lib/python3.9/site-packages/joblib/externals/loky/backend/queues.py\", line 246, in put\n",
      "    with self._wlock:\n",
      "  File \"/opt/conda/lib/python3.9/site-packages/joblib/externals/loky/backend/queues.py\", line 246, in put\n",
      "    with self._wlock:\n",
      "  File \"/opt/conda/lib/python3.9/site-packages/joblib/externals/loky/process_executor.py\", line 359, in _sendback_result\n",
      "    result_queue.put(_ResultItem(work_id, result=result,\n",
      "  File \"/opt/conda/lib/python3.9/site-packages/joblib/externals/loky/backend/synchronize.py\", line 110, in __enter__\n",
      "    return self._semlock.acquire()\n",
      "  File \"/opt/conda/lib/python3.9/site-packages/joblib/externals/loky/process_executor.py\", line 363, in _sendback_result\n",
      "    result_queue.put(_ResultItem(work_id, exception=exc))\n",
      "  File \"/opt/conda/lib/python3.9/site-packages/joblib/externals/loky/backend/synchronize.py\", line 110, in __enter__\n",
      "    return self._semlock.acquire()\n",
      "  File \"/opt/conda/lib/python3.9/site-packages/joblib/externals/loky/backend/queues.py\", line 246, in put\n",
      "    with self._wlock:\n",
      "  File \"/opt/conda/lib/python3.9/site-packages/joblib/externals/loky/backend/queues.py\", line 246, in put\n",
      "    with self._wlock:\n",
      "KeyboardInterrupt\n",
      "KeyboardInterrupt\n",
      "  File \"/opt/conda/lib/python3.9/site-packages/joblib/externals/loky/backend/synchronize.py\", line 110, in __enter__\n",
      "    return self._semlock.acquire()\n",
      "\n",
      "During handling of the above exception, another exception occurred:\n",
      "\n",
      "  File \"/opt/conda/lib/python3.9/multiprocessing/process.py\", line 315, in _bootstrap\n",
      "    self.run()\n",
      "  File \"/opt/conda/lib/python3.9/site-packages/joblib/externals/loky/backend/synchronize.py\", line 110, in __enter__\n",
      "    return self._semlock.acquire()\n",
      "Traceback (most recent call last):\n",
      "\n",
      "During handling of the above exception, another exception occurred:\n",
      "\n",
      "  File \"/opt/conda/lib/python3.9/multiprocessing/process.py\", line 108, in run\n",
      "    self._target(*self._args, **self._kwargs)\n",
      "KeyboardInterrupt\n",
      "  File \"/opt/conda/lib/python3.9/site-packages/joblib/externals/loky/process_executor.py\", line 441, in _process_worker\n",
      "    _sendback_result(result_queue, call_item.work_id, result=r)\n",
      "Traceback (most recent call last):\n",
      "KeyboardInterrupt\n",
      "  File \"/opt/conda/lib/python3.9/site-packages/joblib/externals/loky/process_executor.py\", line 363, in _sendback_result\n",
      "    result_queue.put(_ResultItem(work_id, exception=exc))\n",
      "KeyboardInterrupt\n",
      "  File \"/opt/conda/lib/python3.9/site-packages/joblib/externals/loky/process_executor.py\", line 359, in _sendback_result\n",
      "    result_queue.put(_ResultItem(work_id, result=result,\n",
      "\n",
      "During handling of the above exception, another exception occurred:\n",
      "\n",
      "  File \"/opt/conda/lib/python3.9/site-packages/joblib/externals/loky/backend/queues.py\", line 246, in put\n",
      "    with self._wlock:\n",
      "  File \"/opt/conda/lib/python3.9/multiprocessing/process.py\", line 315, in _bootstrap\n",
      "    self.run()\n",
      "  File \"/opt/conda/lib/python3.9/site-packages/joblib/externals/loky/backend/queues.py\", line 246, in put\n",
      "    with self._wlock:\n",
      "\n",
      "During handling of the above exception, another exception occurred:\n",
      "\n",
      "  File \"/opt/conda/lib/python3.9/multiprocessing/process.py\", line 108, in run\n",
      "    self._target(*self._args, **self._kwargs)\n",
      "Traceback (most recent call last):\n",
      "  File \"/opt/conda/lib/python3.9/site-packages/joblib/externals/loky/backend/synchronize.py\", line 110, in __enter__\n",
      "    return self._semlock.acquire()\n",
      "  File \"/opt/conda/lib/python3.9/site-packages/joblib/externals/loky/process_executor.py\", line 441, in _process_worker\n",
      "    _sendback_result(result_queue, call_item.work_id, result=r)\n",
      "Traceback (most recent call last):\n",
      "  File \"/opt/conda/lib/python3.9/site-packages/joblib/externals/loky/process_executor.py\", line 363, in _sendback_result\n",
      "    result_queue.put(_ResultItem(work_id, exception=exc))\n",
      "  File \"/opt/conda/lib/python3.9/site-packages/joblib/externals/loky/backend/synchronize.py\", line 110, in __enter__\n",
      "    return self._semlock.acquire()\n",
      "  File \"/opt/conda/lib/python3.9/site-packages/joblib/externals/loky/backend/queues.py\", line 246, in put\n",
      "    with self._wlock:\n",
      "  File \"/opt/conda/lib/python3.9/site-packages/joblib/externals/loky/backend/synchronize.py\", line 110, in __enter__\n",
      "    return self._semlock.acquire()\n",
      "KeyboardInterrupt\n",
      "  File \"/opt/conda/lib/python3.9/multiprocessing/process.py\", line 315, in _bootstrap\n",
      "    self.run()\n",
      "KeyboardInterrupt\n",
      "KeyboardInterrupt\n",
      "  File \"/opt/conda/lib/python3.9/multiprocessing/process.py\", line 108, in run\n",
      "    self._target(*self._args, **self._kwargs)\n",
      "\n",
      "During handling of the above exception, another exception occurred:\n",
      "\n",
      "  File \"/opt/conda/lib/python3.9/site-packages/joblib/externals/loky/process_executor.py\", line 441, in _process_worker\n",
      "    _sendback_result(result_queue, call_item.work_id, result=r)\n",
      "  File \"/opt/conda/lib/python3.9/multiprocessing/process.py\", line 315, in _bootstrap\n",
      "    self.run()\n",
      "  File \"/opt/conda/lib/python3.9/multiprocessing/process.py\", line 315, in _bootstrap\n",
      "    self.run()\n",
      "Traceback (most recent call last):\n",
      "  File \"/opt/conda/lib/python3.9/site-packages/joblib/externals/loky/process_executor.py\", line 363, in _sendback_result\n",
      "    result_queue.put(_ResultItem(work_id, exception=exc))\n",
      "  File \"/opt/conda/lib/python3.9/multiprocessing/process.py\", line 108, in run\n",
      "    self._target(*self._args, **self._kwargs)\n",
      "  File \"/opt/conda/lib/python3.9/multiprocessing/process.py\", line 108, in run\n",
      "    self._target(*self._args, **self._kwargs)\n",
      "  File \"/opt/conda/lib/python3.9/site-packages/joblib/externals/loky/backend/queues.py\", line 246, in put\n",
      "    with self._wlock:\n",
      "  File \"/opt/conda/lib/python3.9/site-packages/joblib/externals/loky/process_executor.py\", line 441, in _process_worker\n",
      "    _sendback_result(result_queue, call_item.work_id, result=r)\n",
      "  File \"/opt/conda/lib/python3.9/site-packages/joblib/externals/loky/process_executor.py\", line 441, in _process_worker\n",
      "    _sendback_result(result_queue, call_item.work_id, result=r)\n",
      "  File \"/opt/conda/lib/python3.9/site-packages/joblib/externals/loky/backend/synchronize.py\", line 110, in __enter__\n",
      "    return self._semlock.acquire()\n",
      "  File \"/opt/conda/lib/python3.9/site-packages/joblib/externals/loky/process_executor.py\", line 363, in _sendback_result\n",
      "    result_queue.put(_ResultItem(work_id, exception=exc))\n",
      "  File \"/opt/conda/lib/python3.9/site-packages/joblib/externals/loky/backend/queues.py\", line 246, in put\n",
      "    with self._wlock:\n",
      "KeyboardInterrupt\n",
      "  File \"/opt/conda/lib/python3.9/site-packages/joblib/externals/loky/backend/synchronize.py\", line 110, in __enter__\n",
      "    return self._semlock.acquire()\n",
      "  File \"/opt/conda/lib/python3.9/multiprocessing/process.py\", line 315, in _bootstrap\n",
      "    self.run()\n",
      "  File \"/opt/conda/lib/python3.9/multiprocessing/process.py\", line 108, in run\n",
      "    self._target(*self._args, **self._kwargs)\n",
      "KeyboardInterrupt\n",
      "  File \"/opt/conda/lib/python3.9/site-packages/joblib/externals/loky/process_executor.py\", line 441, in _process_worker\n",
      "    _sendback_result(result_queue, call_item.work_id, result=r)\n",
      "  File \"/opt/conda/lib/python3.9/site-packages/joblib/externals/loky/process_executor.py\", line 363, in _sendback_result\n",
      "    result_queue.put(_ResultItem(work_id, exception=exc))\n",
      "  File \"/opt/conda/lib/python3.9/site-packages/joblib/externals/loky/backend/queues.py\", line 246, in put\n",
      "    with self._wlock:\n",
      "  File \"/opt/conda/lib/python3.9/site-packages/joblib/externals/loky/process_executor.py\", line 363, in _sendback_result\n",
      "    result_queue.put(_ResultItem(work_id, exception=exc))\n",
      "  File \"/opt/conda/lib/python3.9/site-packages/joblib/externals/loky/backend/synchronize.py\", line 110, in __enter__\n",
      "    return self._semlock.acquire()\n",
      "  File \"/opt/conda/lib/python3.9/site-packages/joblib/externals/loky/backend/queues.py\", line 246, in put\n",
      "    with self._wlock:\n",
      "KeyboardInterrupt\n",
      "  File \"/opt/conda/lib/python3.9/site-packages/joblib/externals/loky/backend/synchronize.py\", line 110, in __enter__\n",
      "    return self._semlock.acquire()\n",
      "KeyboardInterrupt\n",
      "Traceback (most recent call last):\n",
      "Traceback (most recent call last):\n",
      "Traceback (most recent call last):\n",
      "  File \"/opt/conda/lib/python3.9/site-packages/joblib/externals/loky/process_executor.py\", line 359, in _sendback_result\n",
      "    result_queue.put(_ResultItem(work_id, result=result,\n",
      "  File \"/opt/conda/lib/python3.9/site-packages/joblib/_parallel_backends.py\", line 595, in __call__\n",
      "    return self.func(*args, **kwargs)\n",
      "  File \"/opt/conda/lib/python3.9/site-packages/joblib/externals/loky/backend/queues.py\", line 247, in put\n",
      "    self._writer.send_bytes(obj)\n",
      "  File \"/opt/conda/lib/python3.9/site-packages/joblib/parallel.py\", line 262, in __call__\n",
      "    return [func(*args, **kwargs)\n",
      "  File \"/opt/conda/lib/python3.9/multiprocessing/connection.py\", line 205, in send_bytes\n",
      "    self._send_bytes(m[offset:offset + size])\n",
      "  File \"/opt/conda/lib/python3.9/site-packages/joblib/parallel.py\", line 262, in <listcomp>\n",
      "    return [func(*args, **kwargs)\n",
      "  File \"/home/hujin/.local/lib/python3.9/site-packages/sbi/utils/user_input_checks.py\", line 534, in batch_loop_simulator\n",
      "    xs = list(map(simulator, theta))\n",
      "  File \"/opt/conda/lib/python3.9/multiprocessing/connection.py\", line 416, in _send_bytes\n",
      "    self._send(header + buf)\n",
      "  File \"/home/hujin/.local/lib/python3.9/site-packages/sbi/utils/user_input_checks.py\", line 499, in pytorch_simulator\n",
      "    return torch.as_tensor(simulator(theta), dtype=float32)\n",
      "  File \"/opt/conda/lib/python3.9/site-packages/joblib/_parallel_backends.py\", line 595, in __call__\n",
      "    return self.func(*args, **kwargs)\n",
      "  File \"/opt/conda/lib/python3.9/multiprocessing/connection.py\", line 373, in _send\n",
      "    n = write(self._handle, buf)\n",
      "  File \"/tmp/ipykernel_33328/2623167169.py\", line 12, in simulator\n",
      "  File \"/opt/conda/lib/python3.9/site-packages/joblib/parallel.py\", line 262, in __call__\n",
      "    return [func(*args, **kwargs)\n",
      "  File \"/data/rajlab1/user_data/jin/MyResearch/SBI-SGM-FC/notebooks/new_sgm/../../mypkg/FC_utils.py\", line 24, in build_fc_freq_m\n",
      "    cur_estFC = nt.network_transfer_local_fc_alpha(brain, params, w, diag_ws)\n",
      "  File \"/opt/conda/lib/python3.9/site-packages/joblib/parallel.py\", line 262, in <listcomp>\n",
      "    return [func(*args, **kwargs)\n",
      "  File \"/data/rajlab1/user_data/jin/MyResearch/SBI-SGM-FC/notebooks/new_sgm/../../mypkg/forward/network_transfer_macrostable.py\", line 57, in network_transfer_local_fc_alpha\n",
      "    d, v = np.linalg.eig(L)\n",
      "  File \"/home/hujin/.local/lib/python3.9/site-packages/sbi/utils/user_input_checks.py\", line 534, in batch_loop_simulator\n",
      "    xs = list(map(simulator, theta))\n",
      "  File \"<__array_function__ internals>\", line 180, in eig\n",
      "  File \"/home/hujin/.local/lib/python3.9/site-packages/sbi/utils/user_input_checks.py\", line 499, in pytorch_simulator\n",
      "    return torch.as_tensor(simulator(theta), dtype=float32)\n",
      "KeyboardInterrupt\n",
      "  File \"/opt/conda/lib/python3.9/site-packages/numpy/linalg/linalg.py\", line 1311, in eig\n",
      "    w, vt = _umath_linalg.eig(a, signature=signature, extobj=extobj)\n",
      "  File \"/tmp/ipykernel_33328/2623167169.py\", line 12, in simulator\n",
      "  File \"/data/rajlab1/user_data/jin/MyResearch/SBI-SGM-FC/notebooks/new_sgm/../../mypkg/FC_utils.py\", line 24, in build_fc_freq_m\n",
      "    cur_estFC = nt.network_transfer_local_fc_alpha(brain, params, w, diag_ws)\n",
      "\n",
      "During handling of the above exception, another exception occurred:\n",
      "\n",
      "  File \"/data/rajlab1/user_data/jin/MyResearch/SBI-SGM-FC/notebooks/new_sgm/../../mypkg/forward/network_transfer_macrostable.py\", line 57, in network_transfer_local_fc_alpha\n",
      "    d, v = np.linalg.eig(L)\n",
      "KeyboardInterrupt\n",
      "Traceback (most recent call last):\n",
      "  File \"<__array_function__ internals>\", line 180, in eig\n",
      "\n",
      "The above exception was the direct cause of the following exception:\n",
      "\n",
      "  File \"/opt/conda/lib/python3.9/site-packages/numpy/linalg/linalg.py\", line 1311, in eig\n",
      "    w, vt = _umath_linalg.eig(a, signature=signature, extobj=extobj)\n",
      "Traceback (most recent call last):\n",
      "  File \"/opt/conda/lib/python3.9/site-packages/joblib/externals/loky/process_executor.py\", line 436, in _process_worker\n",
      "    r = call_item()\n",
      "KeyboardInterrupt\n",
      "  File \"/opt/conda/lib/python3.9/site-packages/joblib/externals/loky/process_executor.py\", line 288, in __call__\n",
      "    return self.fn(*self.args, **self.kwargs)\n",
      "  File \"/opt/conda/lib/python3.9/site-packages/joblib/_parallel_backends.py\", line 600, in __call__\n",
      "    raise WorkerInterrupt() from e\n",
      "\n",
      "The above exception was the direct cause of the following exception:\n",
      "\n",
      "Traceback (most recent call last):\n",
      "joblib.my_exceptions.WorkerInterrupt\n",
      "\n",
      "During handling of the above exception, another exception occurred:\n",
      "\n",
      "Traceback (most recent call last):\n",
      "  File \"/opt/conda/lib/python3.9/site-packages/joblib/externals/loky/process_executor.py\", line 436, in _process_worker\n",
      "    r = call_item()\n",
      "  File \"/opt/conda/lib/python3.9/multiprocessing/process.py\", line 315, in _bootstrap\n",
      "    self.run()\n",
      "  File \"/opt/conda/lib/python3.9/site-packages/joblib/externals/loky/process_executor.py\", line 288, in __call__\n",
      "    return self.fn(*self.args, **self.kwargs)\n",
      "  File \"/opt/conda/lib/python3.9/site-packages/joblib/_parallel_backends.py\", line 600, in __call__\n",
      "    raise WorkerInterrupt() from e\n",
      "  File \"/opt/conda/lib/python3.9/multiprocessing/process.py\", line 108, in run\n",
      "    self._target(*self._args, **self._kwargs)\n",
      "  File \"/opt/conda/lib/python3.9/multiprocessing/process.py\", line 315, in _bootstrap\n",
      "    self.run()\n",
      "  File \"/opt/conda/lib/python3.9/multiprocessing/process.py\", line 108, in run\n",
      "    self._target(*self._args, **self._kwargs)\n",
      "  File \"/opt/conda/lib/python3.9/site-packages/joblib/externals/loky/process_executor.py\", line 441, in _process_worker\n",
      "    _sendback_result(result_queue, call_item.work_id, result=r)\n",
      "joblib.my_exceptions.WorkerInterrupt\n",
      "  File \"/opt/conda/lib/python3.9/site-packages/joblib/externals/loky/process_executor.py\", line 439, in _process_worker\n",
      "    result_queue.put(_ResultItem(call_item.work_id, exception=exc))\n",
      "\n",
      "During handling of the above exception, another exception occurred:\n",
      "\n",
      "  File \"/opt/conda/lib/python3.9/site-packages/joblib/externals/loky/process_executor.py\", line 363, in _sendback_result\n",
      "    result_queue.put(_ResultItem(work_id, exception=exc))\n",
      "  File \"/opt/conda/lib/python3.9/site-packages/joblib/externals/loky/backend/queues.py\", line 246, in put\n",
      "    with self._wlock:\n",
      "Traceback (most recent call last):\n",
      "  File \"/opt/conda/lib/python3.9/site-packages/joblib/externals/loky/backend/synchronize.py\", line 110, in __enter__\n",
      "    return self._semlock.acquire()\n",
      "  File \"/opt/conda/lib/python3.9/site-packages/joblib/externals/loky/backend/queues.py\", line 246, in put\n",
      "    with self._wlock:\n",
      "  File \"/opt/conda/lib/python3.9/site-packages/joblib/externals/loky/backend/synchronize.py\", line 110, in __enter__\n",
      "    return self._semlock.acquire()\n",
      "KeyboardInterrupt\n",
      "  File \"/opt/conda/lib/python3.9/multiprocessing/process.py\", line 315, in _bootstrap\n",
      "    self.run()\n",
      "KeyboardInterrupt\n",
      "  File \"/opt/conda/lib/python3.9/multiprocessing/process.py\", line 108, in run\n",
      "    self._target(*self._args, **self._kwargs)\n",
      "  File \"/opt/conda/lib/python3.9/site-packages/joblib/externals/loky/process_executor.py\", line 439, in _process_worker\n",
      "    result_queue.put(_ResultItem(call_item.work_id, exception=exc))\n",
      "  File \"/opt/conda/lib/python3.9/site-packages/joblib/externals/loky/backend/queues.py\", line 246, in put\n",
      "    with self._wlock:\n",
      "  File \"/opt/conda/lib/python3.9/site-packages/joblib/externals/loky/backend/synchronize.py\", line 110, in __enter__\n",
      "    return self._semlock.acquire()\n",
      "KeyboardInterrupt\n",
      "Traceback (most recent call last):\n",
      "Traceback (most recent call last):\n",
      "Traceback (most recent call last):\n",
      "Process LokyProcess-42:\n",
      "  File \"/opt/conda/lib/python3.9/site-packages/joblib/_parallel_backends.py\", line 595, in __call__\n",
      "    return self.func(*args, **kwargs)\n",
      "  File \"/opt/conda/lib/python3.9/site-packages/joblib/parallel.py\", line 262, in __call__\n",
      "    return [func(*args, **kwargs)\n",
      "  File \"/opt/conda/lib/python3.9/site-packages/joblib/parallel.py\", line 262, in <listcomp>\n",
      "    return [func(*args, **kwargs)\n",
      "  File \"/home/hujin/.local/lib/python3.9/site-packages/sbi/utils/user_input_checks.py\", line 534, in batch_loop_simulator\n",
      "    xs = list(map(simulator, theta))\n",
      "  File \"/opt/conda/lib/python3.9/site-packages/joblib/_parallel_backends.py\", line 595, in __call__\n",
      "    return self.func(*args, **kwargs)\n",
      "  File \"/home/hujin/.local/lib/python3.9/site-packages/sbi/utils/user_input_checks.py\", line 499, in pytorch_simulator\n",
      "    return torch.as_tensor(simulator(theta), dtype=float32)\n",
      "  File \"/opt/conda/lib/python3.9/site-packages/joblib/_parallel_backends.py\", line 595, in __call__\n",
      "    return self.func(*args, **kwargs)\n",
      "  File \"/opt/conda/lib/python3.9/site-packages/joblib/parallel.py\", line 262, in __call__\n",
      "    return [func(*args, **kwargs)\n",
      "  File \"/tmp/ipykernel_33328/2623167169.py\", line 12, in simulator\n",
      "  File \"/opt/conda/lib/python3.9/site-packages/joblib/parallel.py\", line 262, in __call__\n",
      "    return [func(*args, **kwargs)\n",
      "  File \"/opt/conda/lib/python3.9/site-packages/joblib/parallel.py\", line 262, in <listcomp>\n",
      "    return [func(*args, **kwargs)\n",
      "  File \"/data/rajlab1/user_data/jin/MyResearch/SBI-SGM-FC/notebooks/new_sgm/../../mypkg/FC_utils.py\", line 24, in build_fc_freq_m\n",
      "    cur_estFC = nt.network_transfer_local_fc_alpha(brain, params, w, diag_ws)\n",
      "  File \"/opt/conda/lib/python3.9/site-packages/joblib/parallel.py\", line 262, in <listcomp>\n",
      "    return [func(*args, **kwargs)\n",
      "  File \"/home/hujin/.local/lib/python3.9/site-packages/sbi/utils/user_input_checks.py\", line 534, in batch_loop_simulator\n",
      "    xs = list(map(simulator, theta))\n",
      "  File \"/data/rajlab1/user_data/jin/MyResearch/SBI-SGM-FC/notebooks/new_sgm/../../mypkg/forward/network_transfer_macrostable.py\", line 50, in network_transfer_local_fc_alpha\n",
      "    Cc = C * np.exp(-1j * Tau * w)\n",
      "  File \"/home/hujin/.local/lib/python3.9/site-packages/sbi/utils/user_input_checks.py\", line 534, in batch_loop_simulator\n",
      "    xs = list(map(simulator, theta))\n",
      "  File \"/home/hujin/.local/lib/python3.9/site-packages/sbi/utils/user_input_checks.py\", line 499, in pytorch_simulator\n",
      "    return torch.as_tensor(simulator(theta), dtype=float32)\n",
      "  File \"/home/hujin/.local/lib/python3.9/site-packages/sbi/utils/user_input_checks.py\", line 499, in pytorch_simulator\n",
      "    return torch.as_tensor(simulator(theta), dtype=float32)\n",
      "  File \"/tmp/ipykernel_33328/2623167169.py\", line 12, in simulator\n",
      "KeyboardInterrupt\n",
      "  File \"/tmp/ipykernel_33328/2623167169.py\", line 12, in simulator\n",
      "  File \"/data/rajlab1/user_data/jin/MyResearch/SBI-SGM-FC/notebooks/new_sgm/../../mypkg/FC_utils.py\", line 24, in build_fc_freq_m\n",
      "    cur_estFC = nt.network_transfer_local_fc_alpha(brain, params, w, diag_ws)\n",
      "  File \"/data/rajlab1/user_data/jin/MyResearch/SBI-SGM-FC/notebooks/new_sgm/../../mypkg/FC_utils.py\", line 24, in build_fc_freq_m\n",
      "    cur_estFC = nt.network_transfer_local_fc_alpha(brain, params, w, diag_ws)\n",
      "  File \"/data/rajlab1/user_data/jin/MyResearch/SBI-SGM-FC/notebooks/new_sgm/../../mypkg/forward/network_transfer_macrostable.py\", line 57, in network_transfer_local_fc_alpha\n",
      "    d, v = np.linalg.eig(L)\n",
      "\n",
      "The above exception was the direct cause of the following exception:\n",
      "\n",
      "  File \"/data/rajlab1/user_data/jin/MyResearch/SBI-SGM-FC/notebooks/new_sgm/../../mypkg/forward/network_transfer_macrostable.py\", line 57, in network_transfer_local_fc_alpha\n",
      "    d, v = np.linalg.eig(L)\n",
      "  File \"<__array_function__ internals>\", line 180, in eig\n",
      "Traceback (most recent call last):\n",
      "  File \"<__array_function__ internals>\", line 180, in eig\n",
      "  File \"/opt/conda/lib/python3.9/site-packages/numpy/linalg/linalg.py\", line 1311, in eig\n",
      "    w, vt = _umath_linalg.eig(a, signature=signature, extobj=extobj)\n",
      "  File \"/opt/conda/lib/python3.9/site-packages/numpy/linalg/linalg.py\", line 1311, in eig\n",
      "    w, vt = _umath_linalg.eig(a, signature=signature, extobj=extobj)\n",
      "  File \"/opt/conda/lib/python3.9/site-packages/joblib/externals/loky/process_executor.py\", line 436, in _process_worker\n",
      "    r = call_item()\n",
      "KeyboardInterrupt\n",
      "KeyboardInterrupt\n",
      "  File \"/opt/conda/lib/python3.9/site-packages/joblib/externals/loky/process_executor.py\", line 288, in __call__\n",
      "    return self.fn(*self.args, **self.kwargs)\n",
      "\n",
      "The above exception was the direct cause of the following exception:\n",
      "\n",
      "  File \"/opt/conda/lib/python3.9/site-packages/joblib/_parallel_backends.py\", line 600, in __call__\n",
      "    raise WorkerInterrupt() from e\n",
      "\n",
      "The above exception was the direct cause of the following exception:\n",
      "\n",
      "Traceback (most recent call last):\n",
      "Traceback (most recent call last):\n",
      "joblib.my_exceptions.WorkerInterrupt\n",
      "Traceback (most recent call last):\n",
      "\n",
      "During handling of the above exception, another exception occurred:\n",
      "\n",
      "  File \"/opt/conda/lib/python3.9/site-packages/joblib/externals/loky/process_executor.py\", line 436, in _process_worker\n",
      "    r = call_item()\n",
      "Traceback (most recent call last):\n",
      "  File \"/opt/conda/lib/python3.9/site-packages/joblib/externals/loky/process_executor.py\", line 436, in _process_worker\n",
      "    r = call_item()\n",
      "  File \"/opt/conda/lib/python3.9/site-packages/joblib/externals/loky/process_executor.py\", line 288, in __call__\n",
      "    return self.fn(*self.args, **self.kwargs)\n",
      "  File \"/opt/conda/lib/python3.9/site-packages/joblib/externals/loky/process_executor.py\", line 288, in __call__\n",
      "    return self.fn(*self.args, **self.kwargs)\n",
      "  File \"/opt/conda/lib/python3.9/site-packages/joblib/_parallel_backends.py\", line 600, in __call__\n",
      "    raise WorkerInterrupt() from e\n",
      "  File \"/opt/conda/lib/python3.9/site-packages/joblib/_parallel_backends.py\", line 600, in __call__\n",
      "    raise WorkerInterrupt() from e\n",
      "joblib.my_exceptions.WorkerInterrupt\n",
      "joblib.my_exceptions.WorkerInterrupt\n",
      "  File \"/opt/conda/lib/python3.9/multiprocessing/process.py\", line 315, in _bootstrap\n",
      "    self.run()\n",
      "\n",
      "During handling of the above exception, another exception occurred:\n",
      "\n",
      "\n",
      "During handling of the above exception, another exception occurred:\n",
      "\n",
      "  File \"/opt/conda/lib/python3.9/multiprocessing/process.py\", line 108, in run\n",
      "    self._target(*self._args, **self._kwargs)\n",
      "Traceback (most recent call last):\n",
      "Traceback (most recent call last):\n",
      "  File \"/opt/conda/lib/python3.9/site-packages/joblib/externals/loky/process_executor.py\", line 439, in _process_worker\n",
      "    result_queue.put(_ResultItem(call_item.work_id, exception=exc))\n",
      "  File \"/opt/conda/lib/python3.9/site-packages/joblib/_parallel_backends.py\", line 595, in __call__\n",
      "    return self.func(*args, **kwargs)\n",
      "  File \"/opt/conda/lib/python3.9/site-packages/joblib/externals/loky/backend/queues.py\", line 246, in put\n",
      "    with self._wlock:\n",
      "  File \"/opt/conda/lib/python3.9/site-packages/joblib/parallel.py\", line 262, in __call__\n",
      "    return [func(*args, **kwargs)\n",
      "  File \"/opt/conda/lib/python3.9/site-packages/joblib/externals/loky/backend/synchronize.py\", line 110, in __enter__\n",
      "    return self._semlock.acquire()\n",
      "  File \"/opt/conda/lib/python3.9/site-packages/joblib/parallel.py\", line 262, in <listcomp>\n",
      "    return [func(*args, **kwargs)\n",
      "  File \"/home/hujin/.local/lib/python3.9/site-packages/sbi/utils/user_input_checks.py\", line 534, in batch_loop_simulator\n",
      "    xs = list(map(simulator, theta))\n",
      "KeyboardInterrupt\n",
      "  File \"/opt/conda/lib/python3.9/multiprocessing/process.py\", line 315, in _bootstrap\n",
      "    self.run()\n",
      "  File \"/opt/conda/lib/python3.9/multiprocessing/process.py\", line 315, in _bootstrap\n",
      "    self.run()\n",
      "  File \"/home/hujin/.local/lib/python3.9/site-packages/sbi/utils/user_input_checks.py\", line 499, in pytorch_simulator\n",
      "    return torch.as_tensor(simulator(theta), dtype=float32)\n",
      "  File \"/opt/conda/lib/python3.9/multiprocessing/process.py\", line 108, in run\n",
      "    self._target(*self._args, **self._kwargs)\n",
      "  File \"/opt/conda/lib/python3.9/multiprocessing/process.py\", line 108, in run\n",
      "    self._target(*self._args, **self._kwargs)\n",
      "  File \"/tmp/ipykernel_33328/2623167169.py\", line 12, in simulator\n",
      "  File \"/opt/conda/lib/python3.9/site-packages/joblib/externals/loky/process_executor.py\", line 439, in _process_worker\n",
      "    result_queue.put(_ResultItem(call_item.work_id, exception=exc))\n",
      "Traceback (most recent call last):\n",
      "  File \"/opt/conda/lib/python3.9/site-packages/joblib/externals/loky/process_executor.py\", line 439, in _process_worker\n",
      "    result_queue.put(_ResultItem(call_item.work_id, exception=exc))\n",
      "  File \"/data/rajlab1/user_data/jin/MyResearch/SBI-SGM-FC/notebooks/new_sgm/../../mypkg/FC_utils.py\", line 24, in build_fc_freq_m\n",
      "    cur_estFC = nt.network_transfer_local_fc_alpha(brain, params, w, diag_ws)\n",
      "  File \"/opt/conda/lib/python3.9/site-packages/joblib/externals/loky/backend/queues.py\", line 246, in put\n",
      "    with self._wlock:\n",
      "  File \"/opt/conda/lib/python3.9/site-packages/joblib/externals/loky/backend/queues.py\", line 246, in put\n",
      "    with self._wlock:\n",
      "  File \"/data/rajlab1/user_data/jin/MyResearch/SBI-SGM-FC/notebooks/new_sgm/../../mypkg/forward/network_transfer_macrostable.py\", line 57, in network_transfer_local_fc_alpha\n",
      "    d, v = np.linalg.eig(L)\n",
      "  File \"/opt/conda/lib/python3.9/site-packages/joblib/externals/loky/backend/synchronize.py\", line 110, in __enter__\n",
      "    return self._semlock.acquire()\n",
      "  File \"/opt/conda/lib/python3.9/site-packages/joblib/externals/loky/backend/synchronize.py\", line 110, in __enter__\n",
      "    return self._semlock.acquire()\n",
      "  File \"<__array_function__ internals>\", line 180, in eig\n",
      "KeyboardInterrupt\n",
      "  File \"/opt/conda/lib/python3.9/site-packages/numpy/linalg/linalg.py\", line 1311, in eig\n",
      "    w, vt = _umath_linalg.eig(a, signature=signature, extobj=extobj)\n",
      "KeyboardInterrupt\n",
      "  File \"/opt/conda/lib/python3.9/site-packages/joblib/externals/loky/process_executor.py\", line 359, in _sendback_result\n",
      "    result_queue.put(_ResultItem(work_id, result=result,\n",
      "  File \"/opt/conda/lib/python3.9/site-packages/joblib/externals/loky/backend/queues.py\", line 246, in put\n",
      "    with self._wlock:\n",
      "KeyboardInterrupt\n",
      "  File \"/opt/conda/lib/python3.9/site-packages/joblib/externals/loky/backend/synchronize.py\", line 110, in __enter__\n",
      "    return self._semlock.acquire()\n",
      "\n",
      "The above exception was the direct cause of the following exception:\n",
      "\n",
      "Traceback (most recent call last):\n",
      "KeyboardInterrupt\n",
      "\n",
      "During handling of the above exception, another exception occurred:\n",
      "\n",
      "Traceback (most recent call last):\n",
      "  File \"/opt/conda/lib/python3.9/site-packages/joblib/externals/loky/process_executor.py\", line 436, in _process_worker\n",
      "    r = call_item()\n",
      "  File \"/opt/conda/lib/python3.9/site-packages/joblib/externals/loky/process_executor.py\", line 288, in __call__\n",
      "    return self.fn(*self.args, **self.kwargs)\n",
      "  File \"/opt/conda/lib/python3.9/site-packages/joblib/_parallel_backends.py\", line 600, in __call__\n",
      "    raise WorkerInterrupt() from e\n",
      "joblib.my_exceptions.WorkerInterrupt\n",
      "  File \"/opt/conda/lib/python3.9/multiprocessing/process.py\", line 315, in _bootstrap\n",
      "    self.run()\n",
      "\n",
      "During handling of the above exception, another exception occurred:\n",
      "\n",
      "  File \"/opt/conda/lib/python3.9/multiprocessing/process.py\", line 108, in run\n",
      "    self._target(*self._args, **self._kwargs)\n",
      "Traceback (most recent call last):\n",
      "  File \"/opt/conda/lib/python3.9/site-packages/joblib/externals/loky/process_executor.py\", line 441, in _process_worker\n",
      "    _sendback_result(result_queue, call_item.work_id, result=r)\n",
      "  File \"/opt/conda/lib/python3.9/site-packages/joblib/externals/loky/process_executor.py\", line 363, in _sendback_result\n",
      "    result_queue.put(_ResultItem(work_id, exception=exc))\n",
      "  File \"/opt/conda/lib/python3.9/site-packages/joblib/externals/loky/backend/queues.py\", line 246, in put\n",
      "    with self._wlock:\n",
      "  File \"/opt/conda/lib/python3.9/site-packages/joblib/externals/loky/backend/synchronize.py\", line 110, in __enter__\n",
      "    return self._semlock.acquire()\n",
      "  File \"/opt/conda/lib/python3.9/multiprocessing/process.py\", line 315, in _bootstrap\n",
      "    self.run()\n",
      "KeyboardInterrupt\n",
      "  File \"/opt/conda/lib/python3.9/multiprocessing/process.py\", line 108, in run\n",
      "    self._target(*self._args, **self._kwargs)\n",
      "  File \"/opt/conda/lib/python3.9/site-packages/joblib/externals/loky/process_executor.py\", line 439, in _process_worker\n",
      "    result_queue.put(_ResultItem(call_item.work_id, exception=exc))\n",
      "  File \"/opt/conda/lib/python3.9/site-packages/joblib/externals/loky/backend/queues.py\", line 246, in put\n",
      "    with self._wlock:\n",
      "  File \"/opt/conda/lib/python3.9/site-packages/joblib/externals/loky/backend/synchronize.py\", line 110, in __enter__\n",
      "    return self._semlock.acquire()\n",
      "KeyboardInterrupt\n"
     ]
    },
    {
     "ename": "KeyboardInterrupt",
     "evalue": "",
     "output_type": "error",
     "traceback": [
      "\u001b[0;31m---------------------------------------------------------------------------\u001b[0m",
      "\u001b[0;31mKeyboardInterrupt\u001b[0m                         Traceback (most recent call last)",
      "\u001b[0;32m/opt/conda/lib/python3.9/site-packages/joblib/parallel.py\u001b[0m in \u001b[0;36mretrieve\u001b[0;34m(self)\u001b[0m\n\u001b[1;32m    934\u001b[0m                 \u001b[0;32mif\u001b[0m \u001b[0mgetattr\u001b[0m\u001b[0;34m(\u001b[0m\u001b[0mself\u001b[0m\u001b[0;34m.\u001b[0m\u001b[0m_backend\u001b[0m\u001b[0;34m,\u001b[0m \u001b[0;34m'supports_timeout'\u001b[0m\u001b[0;34m,\u001b[0m \u001b[0;32mFalse\u001b[0m\u001b[0;34m)\u001b[0m\u001b[0;34m:\u001b[0m\u001b[0;34m\u001b[0m\u001b[0;34m\u001b[0m\u001b[0m\n\u001b[0;32m--> 935\u001b[0;31m                     \u001b[0mself\u001b[0m\u001b[0;34m.\u001b[0m\u001b[0m_output\u001b[0m\u001b[0;34m.\u001b[0m\u001b[0mextend\u001b[0m\u001b[0;34m(\u001b[0m\u001b[0mjob\u001b[0m\u001b[0;34m.\u001b[0m\u001b[0mget\u001b[0m\u001b[0;34m(\u001b[0m\u001b[0mtimeout\u001b[0m\u001b[0;34m=\u001b[0m\u001b[0mself\u001b[0m\u001b[0;34m.\u001b[0m\u001b[0mtimeout\u001b[0m\u001b[0;34m)\u001b[0m\u001b[0;34m)\u001b[0m\u001b[0;34m\u001b[0m\u001b[0;34m\u001b[0m\u001b[0m\n\u001b[0m\u001b[1;32m    936\u001b[0m                 \u001b[0;32melse\u001b[0m\u001b[0;34m:\u001b[0m\u001b[0;34m\u001b[0m\u001b[0;34m\u001b[0m\u001b[0m\n",
      "\u001b[0;32m/opt/conda/lib/python3.9/site-packages/joblib/_parallel_backends.py\u001b[0m in \u001b[0;36mwrap_future_result\u001b[0;34m(future, timeout)\u001b[0m\n\u001b[1;32m    541\u001b[0m         \u001b[0;32mtry\u001b[0m\u001b[0;34m:\u001b[0m\u001b[0;34m\u001b[0m\u001b[0;34m\u001b[0m\u001b[0m\n\u001b[0;32m--> 542\u001b[0;31m             \u001b[0;32mreturn\u001b[0m \u001b[0mfuture\u001b[0m\u001b[0;34m.\u001b[0m\u001b[0mresult\u001b[0m\u001b[0;34m(\u001b[0m\u001b[0mtimeout\u001b[0m\u001b[0;34m=\u001b[0m\u001b[0mtimeout\u001b[0m\u001b[0;34m)\u001b[0m\u001b[0;34m\u001b[0m\u001b[0;34m\u001b[0m\u001b[0m\n\u001b[0m\u001b[1;32m    543\u001b[0m         \u001b[0;32mexcept\u001b[0m \u001b[0mCfTimeoutError\u001b[0m \u001b[0;32mas\u001b[0m \u001b[0me\u001b[0m\u001b[0;34m:\u001b[0m\u001b[0;34m\u001b[0m\u001b[0;34m\u001b[0m\u001b[0m\n",
      "\u001b[0;32m/opt/conda/lib/python3.9/concurrent/futures/_base.py\u001b[0m in \u001b[0;36mresult\u001b[0;34m(self, timeout)\u001b[0m\n\u001b[1;32m    439\u001b[0m \u001b[0;34m\u001b[0m\u001b[0m\n\u001b[0;32m--> 440\u001b[0;31m                 \u001b[0mself\u001b[0m\u001b[0;34m.\u001b[0m\u001b[0m_condition\u001b[0m\u001b[0;34m.\u001b[0m\u001b[0mwait\u001b[0m\u001b[0;34m(\u001b[0m\u001b[0mtimeout\u001b[0m\u001b[0;34m)\u001b[0m\u001b[0;34m\u001b[0m\u001b[0;34m\u001b[0m\u001b[0m\n\u001b[0m\u001b[1;32m    441\u001b[0m \u001b[0;34m\u001b[0m\u001b[0m\n",
      "\u001b[0;32m/opt/conda/lib/python3.9/threading.py\u001b[0m in \u001b[0;36mwait\u001b[0;34m(self, timeout)\u001b[0m\n\u001b[1;32m    311\u001b[0m             \u001b[0;32mif\u001b[0m \u001b[0mtimeout\u001b[0m \u001b[0;32mis\u001b[0m \u001b[0;32mNone\u001b[0m\u001b[0;34m:\u001b[0m\u001b[0;34m\u001b[0m\u001b[0;34m\u001b[0m\u001b[0m\n\u001b[0;32m--> 312\u001b[0;31m                 \u001b[0mwaiter\u001b[0m\u001b[0;34m.\u001b[0m\u001b[0macquire\u001b[0m\u001b[0;34m(\u001b[0m\u001b[0;34m)\u001b[0m\u001b[0;34m\u001b[0m\u001b[0;34m\u001b[0m\u001b[0m\n\u001b[0m\u001b[1;32m    313\u001b[0m                 \u001b[0mgotit\u001b[0m \u001b[0;34m=\u001b[0m \u001b[0;32mTrue\u001b[0m\u001b[0;34m\u001b[0m\u001b[0;34m\u001b[0m\u001b[0m\n",
      "\u001b[0;31mKeyboardInterrupt\u001b[0m: ",
      "\nDuring handling of the above exception, another exception occurred:\n",
      "\u001b[0;31mKeyboardInterrupt\u001b[0m                         Traceback (most recent call last)",
      "\u001b[0;32m/tmp/ipykernel_33328/1848295884.py\u001b[0m in \u001b[0;36m<module>\u001b[0;34m\u001b[0m\n\u001b[1;32m     37\u001b[0m     \u001b[0;31m#num_spss = [10000, 10000, 5000]\u001b[0m\u001b[0;34m\u001b[0m\u001b[0;34m\u001b[0m\u001b[0m\n\u001b[1;32m     38\u001b[0m     \u001b[0;32mfor\u001b[0m \u001b[0mix\u001b[0m \u001b[0;32min\u001b[0m \u001b[0mrange\u001b[0m\u001b[0;34m(\u001b[0m\u001b[0mparas\u001b[0m\u001b[0;34m.\u001b[0m\u001b[0mSBI_paras\u001b[0m\u001b[0;34m.\u001b[0m\u001b[0mnum_round\u001b[0m\u001b[0;34m)\u001b[0m\u001b[0;34m:\u001b[0m\u001b[0;34m\u001b[0m\u001b[0;34m\u001b[0m\u001b[0m\n\u001b[0;32m---> 39\u001b[0;31m         theta, x = simulate_for_sbi(simulator_wrapper, proposal,\n\u001b[0m\u001b[1;32m     40\u001b[0m                                     \u001b[0mnum_simulations\u001b[0m\u001b[0;34m=\u001b[0m\u001b[0mint\u001b[0m\u001b[0;34m(\u001b[0m\u001b[0mparas\u001b[0m\u001b[0;34m.\u001b[0m\u001b[0mSBI_paras\u001b[0m\u001b[0;34m.\u001b[0m\u001b[0mnum_prior_sps\u001b[0m\u001b[0;34m)\u001b[0m\u001b[0;34m,\u001b[0m\u001b[0;34m\u001b[0m\u001b[0;34m\u001b[0m\u001b[0m\n\u001b[1;32m     41\u001b[0m                                     num_workers=20)\n",
      "\u001b[0;32m~/.local/lib/python3.9/site-packages/sbi/inference/base.py\u001b[0m in \u001b[0;36msimulate_for_sbi\u001b[0;34m(simulator, proposal, num_simulations, num_workers, simulation_batch_size, show_progress_bar)\u001b[0m\n\u001b[1;32m    493\u001b[0m     \u001b[0mtheta\u001b[0m \u001b[0;34m=\u001b[0m \u001b[0mproposal\u001b[0m\u001b[0;34m.\u001b[0m\u001b[0msample\u001b[0m\u001b[0;34m(\u001b[0m\u001b[0;34m(\u001b[0m\u001b[0mnum_simulations\u001b[0m\u001b[0;34m,\u001b[0m\u001b[0;34m)\u001b[0m\u001b[0;34m)\u001b[0m\u001b[0;34m\u001b[0m\u001b[0;34m\u001b[0m\u001b[0m\n\u001b[1;32m    494\u001b[0m \u001b[0;34m\u001b[0m\u001b[0m\n\u001b[0;32m--> 495\u001b[0;31m     x = simulate_in_batches(\n\u001b[0m\u001b[1;32m    496\u001b[0m         \u001b[0msimulator\u001b[0m\u001b[0;34m,\u001b[0m \u001b[0mtheta\u001b[0m\u001b[0;34m,\u001b[0m \u001b[0msimulation_batch_size\u001b[0m\u001b[0;34m,\u001b[0m \u001b[0mnum_workers\u001b[0m\u001b[0;34m,\u001b[0m \u001b[0mshow_progress_bar\u001b[0m\u001b[0;34m\u001b[0m\u001b[0;34m\u001b[0m\u001b[0m\n\u001b[1;32m    497\u001b[0m     )\n",
      "\u001b[0;32m~/.local/lib/python3.9/site-packages/sbi/simulators/simutils.py\u001b[0m in \u001b[0;36msimulate_in_batches\u001b[0;34m(simulator, theta, sim_batch_size, num_workers, show_progress_bars)\u001b[0m\n\u001b[1;32m     60\u001b[0m                 )\n\u001b[1;32m     61\u001b[0m             ) as progress_bar:\n\u001b[0;32m---> 62\u001b[0;31m                 simulation_outputs = Parallel(n_jobs=num_workers)(\n\u001b[0m\u001b[1;32m     63\u001b[0m                     \u001b[0mdelayed\u001b[0m\u001b[0;34m(\u001b[0m\u001b[0msimulator\u001b[0m\u001b[0;34m)\u001b[0m\u001b[0;34m(\u001b[0m\u001b[0mbatch\u001b[0m\u001b[0;34m)\u001b[0m \u001b[0;32mfor\u001b[0m \u001b[0mbatch\u001b[0m \u001b[0;32min\u001b[0m \u001b[0mbatches\u001b[0m\u001b[0;34m\u001b[0m\u001b[0;34m\u001b[0m\u001b[0m\n\u001b[1;32m     64\u001b[0m                 )\n",
      "\u001b[0;32m/opt/conda/lib/python3.9/site-packages/joblib/parallel.py\u001b[0m in \u001b[0;36m__call__\u001b[0;34m(self, iterable)\u001b[0m\n\u001b[1;32m   1054\u001b[0m \u001b[0;34m\u001b[0m\u001b[0m\n\u001b[1;32m   1055\u001b[0m             \u001b[0;32mwith\u001b[0m \u001b[0mself\u001b[0m\u001b[0;34m.\u001b[0m\u001b[0m_backend\u001b[0m\u001b[0;34m.\u001b[0m\u001b[0mretrieval_context\u001b[0m\u001b[0;34m(\u001b[0m\u001b[0;34m)\u001b[0m\u001b[0;34m:\u001b[0m\u001b[0;34m\u001b[0m\u001b[0;34m\u001b[0m\u001b[0m\n\u001b[0;32m-> 1056\u001b[0;31m                 \u001b[0mself\u001b[0m\u001b[0;34m.\u001b[0m\u001b[0mretrieve\u001b[0m\u001b[0;34m(\u001b[0m\u001b[0;34m)\u001b[0m\u001b[0;34m\u001b[0m\u001b[0;34m\u001b[0m\u001b[0m\n\u001b[0m\u001b[1;32m   1057\u001b[0m             \u001b[0;31m# Make sure that we get a last message telling us we are done\u001b[0m\u001b[0;34m\u001b[0m\u001b[0;34m\u001b[0m\u001b[0m\n\u001b[1;32m   1058\u001b[0m             \u001b[0melapsed_time\u001b[0m \u001b[0;34m=\u001b[0m \u001b[0mtime\u001b[0m\u001b[0;34m.\u001b[0m\u001b[0mtime\u001b[0m\u001b[0;34m(\u001b[0m\u001b[0;34m)\u001b[0m \u001b[0;34m-\u001b[0m \u001b[0mself\u001b[0m\u001b[0;34m.\u001b[0m\u001b[0m_start_time\u001b[0m\u001b[0;34m\u001b[0m\u001b[0;34m\u001b[0m\u001b[0m\n",
      "\u001b[0;32m/opt/conda/lib/python3.9/site-packages/joblib/parallel.py\u001b[0m in \u001b[0;36mretrieve\u001b[0;34m(self)\u001b[0m\n\u001b[1;32m    955\u001b[0m                     \u001b[0;31m# scheduling.\u001b[0m\u001b[0;34m\u001b[0m\u001b[0;34m\u001b[0m\u001b[0m\n\u001b[1;32m    956\u001b[0m                     \u001b[0mensure_ready\u001b[0m \u001b[0;34m=\u001b[0m \u001b[0mself\u001b[0m\u001b[0;34m.\u001b[0m\u001b[0m_managed_backend\u001b[0m\u001b[0;34m\u001b[0m\u001b[0;34m\u001b[0m\u001b[0m\n\u001b[0;32m--> 957\u001b[0;31m                     \u001b[0mbackend\u001b[0m\u001b[0;34m.\u001b[0m\u001b[0mabort_everything\u001b[0m\u001b[0;34m(\u001b[0m\u001b[0mensure_ready\u001b[0m\u001b[0;34m=\u001b[0m\u001b[0mensure_ready\u001b[0m\u001b[0;34m)\u001b[0m\u001b[0;34m\u001b[0m\u001b[0;34m\u001b[0m\u001b[0m\n\u001b[0m\u001b[1;32m    958\u001b[0m                 \u001b[0;32mraise\u001b[0m\u001b[0;34m\u001b[0m\u001b[0;34m\u001b[0m\u001b[0m\n\u001b[1;32m    959\u001b[0m \u001b[0;34m\u001b[0m\u001b[0m\n",
      "\u001b[0;32m/opt/conda/lib/python3.9/site-packages/joblib/_parallel_backends.py\u001b[0m in \u001b[0;36mabort_everything\u001b[0;34m(self, ensure_ready)\u001b[0m\n\u001b[1;32m    559\u001b[0m         \"\"\"Shutdown the workers and restart a new one with the same parameters\n\u001b[1;32m    560\u001b[0m         \"\"\"\n\u001b[0;32m--> 561\u001b[0;31m         \u001b[0mself\u001b[0m\u001b[0;34m.\u001b[0m\u001b[0m_workers\u001b[0m\u001b[0;34m.\u001b[0m\u001b[0mterminate\u001b[0m\u001b[0;34m(\u001b[0m\u001b[0mkill_workers\u001b[0m\u001b[0;34m=\u001b[0m\u001b[0;32mTrue\u001b[0m\u001b[0;34m)\u001b[0m\u001b[0;34m\u001b[0m\u001b[0;34m\u001b[0m\u001b[0m\n\u001b[0m\u001b[1;32m    562\u001b[0m         \u001b[0mself\u001b[0m\u001b[0;34m.\u001b[0m\u001b[0m_workers\u001b[0m \u001b[0;34m=\u001b[0m \u001b[0;32mNone\u001b[0m\u001b[0;34m\u001b[0m\u001b[0;34m\u001b[0m\u001b[0m\n\u001b[1;32m    563\u001b[0m \u001b[0;34m\u001b[0m\u001b[0m\n",
      "\u001b[0;32m/opt/conda/lib/python3.9/site-packages/joblib/executor.py\u001b[0m in \u001b[0;36mterminate\u001b[0;34m(self, kill_workers)\u001b[0m\n\u001b[1;32m     72\u001b[0m \u001b[0;34m\u001b[0m\u001b[0m\n\u001b[1;32m     73\u001b[0m     \u001b[0;32mdef\u001b[0m \u001b[0mterminate\u001b[0m\u001b[0;34m(\u001b[0m\u001b[0mself\u001b[0m\u001b[0;34m,\u001b[0m \u001b[0mkill_workers\u001b[0m\u001b[0;34m=\u001b[0m\u001b[0;32mFalse\u001b[0m\u001b[0;34m)\u001b[0m\u001b[0;34m:\u001b[0m\u001b[0;34m\u001b[0m\u001b[0;34m\u001b[0m\u001b[0m\n\u001b[0;32m---> 74\u001b[0;31m         \u001b[0mself\u001b[0m\u001b[0;34m.\u001b[0m\u001b[0mshutdown\u001b[0m\u001b[0;34m(\u001b[0m\u001b[0mkill_workers\u001b[0m\u001b[0;34m=\u001b[0m\u001b[0mkill_workers\u001b[0m\u001b[0;34m)\u001b[0m\u001b[0;34m\u001b[0m\u001b[0;34m\u001b[0m\u001b[0m\n\u001b[0m\u001b[1;32m     75\u001b[0m         \u001b[0;32mif\u001b[0m \u001b[0mkill_workers\u001b[0m\u001b[0;34m:\u001b[0m\u001b[0;34m\u001b[0m\u001b[0;34m\u001b[0m\u001b[0m\n\u001b[1;32m     76\u001b[0m             \u001b[0;31m# When workers are killed in such a brutal manner, they cannot\u001b[0m\u001b[0;34m\u001b[0m\u001b[0;34m\u001b[0m\u001b[0m\n",
      "\u001b[0;32m/opt/conda/lib/python3.9/site-packages/joblib/externals/loky/process_executor.py\u001b[0m in \u001b[0;36mshutdown\u001b[0;34m(self, wait, kill_workers)\u001b[0m\n\u001b[1;32m   1183\u001b[0m \u001b[0;34m\u001b[0m\u001b[0m\n\u001b[1;32m   1184\u001b[0m         \u001b[0;32mif\u001b[0m \u001b[0mexecutor_manager_thread\u001b[0m \u001b[0;32mis\u001b[0m \u001b[0;32mnot\u001b[0m \u001b[0;32mNone\u001b[0m \u001b[0;32mand\u001b[0m \u001b[0mwait\u001b[0m\u001b[0;34m:\u001b[0m\u001b[0;34m\u001b[0m\u001b[0;34m\u001b[0m\u001b[0m\n\u001b[0;32m-> 1185\u001b[0;31m             \u001b[0mexecutor_manager_thread\u001b[0m\u001b[0;34m.\u001b[0m\u001b[0mjoin\u001b[0m\u001b[0;34m(\u001b[0m\u001b[0;34m)\u001b[0m\u001b[0;34m\u001b[0m\u001b[0;34m\u001b[0m\u001b[0m\n\u001b[0m\u001b[1;32m   1186\u001b[0m \u001b[0;34m\u001b[0m\u001b[0m\n\u001b[1;32m   1187\u001b[0m         \u001b[0;31m# To reduce the risk of opening too many files, remove references to\u001b[0m\u001b[0;34m\u001b[0m\u001b[0;34m\u001b[0m\u001b[0m\n",
      "\u001b[0;32m/opt/conda/lib/python3.9/threading.py\u001b[0m in \u001b[0;36mjoin\u001b[0;34m(self, timeout)\u001b[0m\n\u001b[1;32m   1051\u001b[0m \u001b[0;34m\u001b[0m\u001b[0m\n\u001b[1;32m   1052\u001b[0m         \u001b[0;32mif\u001b[0m \u001b[0mtimeout\u001b[0m \u001b[0;32mis\u001b[0m \u001b[0;32mNone\u001b[0m\u001b[0;34m:\u001b[0m\u001b[0;34m\u001b[0m\u001b[0;34m\u001b[0m\u001b[0m\n\u001b[0;32m-> 1053\u001b[0;31m             \u001b[0mself\u001b[0m\u001b[0;34m.\u001b[0m\u001b[0m_wait_for_tstate_lock\u001b[0m\u001b[0;34m(\u001b[0m\u001b[0;34m)\u001b[0m\u001b[0;34m\u001b[0m\u001b[0;34m\u001b[0m\u001b[0m\n\u001b[0m\u001b[1;32m   1054\u001b[0m         \u001b[0;32melse\u001b[0m\u001b[0;34m:\u001b[0m\u001b[0;34m\u001b[0m\u001b[0;34m\u001b[0m\u001b[0m\n\u001b[1;32m   1055\u001b[0m             \u001b[0;31m# the behavior of a negative timeout isn't documented, but\u001b[0m\u001b[0;34m\u001b[0m\u001b[0;34m\u001b[0m\u001b[0m\n",
      "\u001b[0;32m/opt/conda/lib/python3.9/threading.py\u001b[0m in \u001b[0;36m_wait_for_tstate_lock\u001b[0;34m(self, block, timeout)\u001b[0m\n\u001b[1;32m   1067\u001b[0m         \u001b[0;32mif\u001b[0m \u001b[0mlock\u001b[0m \u001b[0;32mis\u001b[0m \u001b[0;32mNone\u001b[0m\u001b[0;34m:\u001b[0m  \u001b[0;31m# already determined that the C code is done\u001b[0m\u001b[0;34m\u001b[0m\u001b[0;34m\u001b[0m\u001b[0m\n\u001b[1;32m   1068\u001b[0m             \u001b[0;32massert\u001b[0m \u001b[0mself\u001b[0m\u001b[0;34m.\u001b[0m\u001b[0m_is_stopped\u001b[0m\u001b[0;34m\u001b[0m\u001b[0;34m\u001b[0m\u001b[0m\n\u001b[0;32m-> 1069\u001b[0;31m         \u001b[0;32melif\u001b[0m \u001b[0mlock\u001b[0m\u001b[0;34m.\u001b[0m\u001b[0macquire\u001b[0m\u001b[0;34m(\u001b[0m\u001b[0mblock\u001b[0m\u001b[0;34m,\u001b[0m \u001b[0mtimeout\u001b[0m\u001b[0;34m)\u001b[0m\u001b[0;34m:\u001b[0m\u001b[0;34m\u001b[0m\u001b[0;34m\u001b[0m\u001b[0m\n\u001b[0m\u001b[1;32m   1070\u001b[0m             \u001b[0mlock\u001b[0m\u001b[0;34m.\u001b[0m\u001b[0mrelease\u001b[0m\u001b[0;34m(\u001b[0m\u001b[0;34m)\u001b[0m\u001b[0;34m\u001b[0m\u001b[0;34m\u001b[0m\u001b[0m\n\u001b[1;32m   1071\u001b[0m             \u001b[0mself\u001b[0m\u001b[0;34m.\u001b[0m\u001b[0m_stop\u001b[0m\u001b[0;34m(\u001b[0m\u001b[0;34m)\u001b[0m\u001b[0;34m\u001b[0m\u001b[0;34m\u001b[0m\u001b[0m\n",
      "\u001b[0;31mKeyboardInterrupt\u001b[0m: "
     ]
    }
   ],
   "source": [
    "for cur_ind_idx in range(0, 36):\n",
    "    print(cur_ind_idx)\n",
    "    save_fil = f\"{SAVE_PREFIX}_posteriorMRmul_{paras.band}_\" + \\\n",
    "               f\"num{paras.SBI_paras.num_prior_sps}_\" + \\\n",
    "               f\"density{paras.SBI_paras.density_model}_\" + \\\n",
    "               f\"MR{paras.SBI_paras.num_round}_\" + \\\n",
    "               f\"noise_sd{paras.SBI_paras.noise_sd*100:.0f}_\" +\\\n",
    "               f\"addv{paras.add_v*100:.0f}\" +\\\n",
    "               f\"/ind{cur_ind_idx}.pkl\"\n",
    "    if (RES_ROOT/save_fil).exists():\n",
    "        # thanks to the buggy SCS\n",
    "        continue\n",
    "    \n",
    "    \n",
    "    # create spectrome brain:\n",
    "    brain = Brain.Brain()\n",
    "    brain.add_connectome(DATA_ROOT) # grabs distance matrix\n",
    "    # re-ordering for DK atlas and normalizing the connectomes:\n",
    "    brain.reorder_connectome(brain.connectome, brain.distance_matrix)\n",
    "    brain.connectome =  ind_conn[:, :, cur_ind_idx] # re-assign connectome to individual connectome\n",
    "    brain.bi_symmetric_c()\n",
    "    brain.reduce_extreme_dir()\n",
    "    \n",
    "    simulator_sp = partial(simulator, \n",
    "                           brain=brain, \n",
    "                           noise_sd=paras.SBI_paras.noise_sd, \n",
    "                           prior_bds=paras.prior_bds, \n",
    "                           freqrange=paras.freqrange, \n",
    "                           diag_ws=paras.diag_ws)\n",
    "    simulator_wrapper, prior = prepare_for_sbi(simulator_sp, prior)\n",
    "    inference = SNPE(prior=prior, density_estimator=paras.SBI_paras.density_model)\n",
    "    proposal = prior \n",
    "    \n",
    "    #the observed data\n",
    "    cur_obs_FC = np.abs(fcs[cur_ind_idx])\n",
    "    curX = torch.Tensor(_minmax_vec(cur_obs_FC[np.triu_indices(68, k = 1)]))\n",
    "    #num_spss = [10000, 10000, 5000]\n",
    "    for ix in range(paras.SBI_paras.num_round):\n",
    "        theta, x = simulate_for_sbi(simulator_wrapper, proposal,\n",
    "                                    num_simulations=int(paras.SBI_paras.num_prior_sps),\n",
    "                                    num_workers=20)\n",
    "        density_estimator = inference.append_simulations(\n",
    "                            theta, x, proposal=proposal\n",
    "                            ).train()\n",
    "        posterior = inference.build_posterior(density_estimator)\n",
    "        \n",
    "        proposal = posterior.set_default_x(curX)\n",
    "    \n",
    "    save_pkl(RES_ROOT/save_fil, proposal)"
   ]
  },
  {
   "cell_type": "code",
   "execution_count": null,
   "id": "ecbba8a3",
   "metadata": {},
   "outputs": [],
   "source": []
  },
  {
   "cell_type": "code",
   "execution_count": null,
   "id": "0241760f",
   "metadata": {},
   "outputs": [],
   "source": []
  }
 ],
 "metadata": {
  "kernelspec": {
   "display_name": "Python 3 (ipykernel)",
   "language": "python",
   "name": "python3"
  },
  "language_info": {
   "codemirror_mode": {
    "name": "ipython",
    "version": 3
   },
   "file_extension": ".py",
   "mimetype": "text/x-python",
   "name": "python",
   "nbconvert_exporter": "python",
   "pygments_lexer": "ipython3",
   "version": "3.9.7"
  },
  "toc": {
   "base_numbering": 1,
   "nav_menu": {},
   "number_sections": true,
   "sideBar": true,
   "skip_h1_title": false,
   "title_cell": "Table of Contents",
   "title_sidebar": "Contents",
   "toc_cell": false,
   "toc_position": {
    "height": "calc(100% - 180px)",
    "left": "10px",
    "top": "150px",
    "width": "204.594px"
   },
   "toc_section_display": true,
   "toc_window_display": true
  }
 },
 "nbformat": 4,
 "nbformat_minor": 5
}
