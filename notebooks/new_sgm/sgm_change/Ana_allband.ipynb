{
 "cells": [
  {
   "cell_type": "markdown",
   "id": "afb20312",
   "metadata": {},
   "source": [
    "Analyze SBI-SGM, new bounds, new SGM, only three parameters needed\n",
    "\n",
    "parameters order is  :tauG,speed,alpha (In second)"
   ]
  },
  {
   "cell_type": "code",
   "execution_count": null,
   "id": "f42b4d9d",
   "metadata": {},
   "outputs": [],
   "source": []
  },
  {
   "cell_type": "code",
   "execution_count": null,
   "id": "ad95af10",
   "metadata": {},
   "outputs": [],
   "source": []
  },
  {
   "cell_type": "markdown",
   "id": "15b93230",
   "metadata": {},
   "source": [
    "## Import some pkgs"
   ]
  },
  {
   "cell_type": "code",
   "execution_count": 1,
   "id": "a5c4bef0",
   "metadata": {
    "ExecuteTime": {
     "end_time": "2023-08-25T14:22:01.710171Z",
     "start_time": "2023-08-25T14:22:00.371300Z"
    }
   },
   "outputs": [],
   "source": [
    "import sys\n",
    "sys.path.append(\"../../mypkg\")\n",
    "\n",
    "import scipy\n",
    "import itertools\n",
    "\n",
    "import numpy as np\n",
    "import xarray as xr\n",
    "import matplotlib.pyplot as plt\n",
    "import seaborn as sns\n",
    "import pandas as pd\n",
    "\n",
    "from tqdm import trange\n",
    "from scipy.io import loadmat\n",
    "from functools import partial\n",
    "from easydict import EasyDict as edict"
   ]
  },
  {
   "cell_type": "code",
   "execution_count": 2,
   "id": "129d24a5",
   "metadata": {
    "ExecuteTime": {
     "end_time": "2023-08-25T14:22:04.052133Z",
     "start_time": "2023-08-25T14:22:02.642833Z"
    }
   },
   "outputs": [],
   "source": [
    "# SBI and torch\n",
    "from sbi.inference.base import infer\n",
    "from sbi.inference import SNPE, prepare_for_sbi, simulate_for_sbi\n",
    "from sbi import analysis\n",
    "from sbi.utils.get_nn_models import posterior_nn\n",
    "from sbi import utils as sutils\n",
    "\n",
    "import torch.nn as nn\n",
    "import torch.nn.functional as F\n",
    "import torch\n",
    "from torch.distributions.multivariate_normal import MultivariateNormal"
   ]
  },
  {
   "cell_type": "code",
   "execution_count": 3,
   "id": "513f09d5",
   "metadata": {
    "ExecuteTime": {
     "end_time": "2023-08-25T14:22:05.350962Z",
     "start_time": "2023-08-25T14:22:05.294723Z"
    }
   },
   "outputs": [],
   "source": [
    "# my own fns\n",
    "from brain import Brain\n",
    "from FC_utils import build_fc_freq_m\n",
    "from constants import RES_ROOT, DATA_ROOT\n",
    "from utils.misc import load_pkl, save_pkl\n",
    "from utils.reparam import theta_raw_2out, logistic_np, logistic_torch"
   ]
  },
  {
   "cell_type": "code",
   "execution_count": null,
   "id": "d5b87c78",
   "metadata": {
    "ExecuteTime": {
     "end_time": "2022-11-08T00:03:09.655902Z",
     "start_time": "2022-11-08T00:03:09.466344Z"
    }
   },
   "outputs": [],
   "source": []
  },
  {
   "cell_type": "markdown",
   "id": "820f27bd",
   "metadata": {},
   "source": [
    "## Some fns"
   ]
  },
  {
   "cell_type": "code",
   "execution_count": 4,
   "id": "58536d30",
   "metadata": {
    "ExecuteTime": {
     "end_time": "2023-08-25T14:22:18.505234Z",
     "start_time": "2023-08-25T14:22:18.473117Z"
    }
   },
   "outputs": [],
   "source": [
    "from scipy.stats import kendalltau\n",
    "from scipy.stats import spearmanr\n",
    "from utils.measures import geodesic_dist, reg_R_fn, lin_R_fn\n",
    "\n",
    "def divideFc(fc):\n",
    "    \"\"\"Divide the FC into three blocks and vector them\n",
    "    \"\"\"\n",
    "    size_fc = len(fc)\n",
    "    hs_fc = int(size_fc/2)\n",
    "    fc_block1 = fc[:hs_fc, :hs_fc]\n",
    "    fc_block2 = fc[hs_fc:, hs_fc:];\n",
    "    fc_block3 = fc[:hs_fc, hs_fc:];\n",
    "    vec1 = _minmax_vec(fc_block1[np.triu_indices(hs_fc, k = 1)])\n",
    "    vec2 = _minmax_vec(fc_block2[np.triu_indices(hs_fc, k = 1)])\n",
    "    vec3 = _minmax_vec(fc_block3.flatten())\n",
    "    return vec1, vec2, vec3\n",
    "\n",
    "def cal_metrics(fc1, fc2):\n",
    "    \"\"\"Calculate the distance between fc1 and fc2, including\n",
    "        1. geodesic dist\n",
    "        2. pearson's R\n",
    "        3. lin R\n",
    "        4. pearson's R after divide the FC into three blocks\n",
    "        5. lin R after divide the FC into three blocks\n",
    "    \"\"\"\n",
    "    fc1 = fc1.astype(np.float64)\n",
    "    fc2 = fc2.astype(np.float64)\n",
    "    size_fc = len(fc1)\n",
    "    \n",
    "    # for geodedic\n",
    "    fc1_g = fc1/np.linalg.norm(fc1) + np.eye(size_fc)\n",
    "    fc2_g = fc2/np.linalg.norm(fc2) + np.eye(size_fc)\n",
    "    \n",
    "    fc1_c = _minmax_vec(fc1[np.triu_indices(size_fc, k=1)]).reshape(1, -1)\n",
    "    fc2_c = _minmax_vec(fc2[np.triu_indices(size_fc, k=1)]).reshape(1, -1)\n",
    "    \n",
    "    # all metrics\n",
    "    geo_dist = geodesic_dist(fc1_g, fc2_g)\n",
    "    reg_r = reg_R_fn(fc1_c, fc2_c)\n",
    "    lin_r = lin_R_fn(fc1_c, fc2_c)\n",
    "    mse = np.mean((fc1_c-fc2_c)**2)\n",
    "    tau_r = kendalltau(fc1_c.reshape(-1), fc2_c.reshape(-1))[0]\n",
    "    sp_r = spearmanr(fc1_c.reshape(-1), fc2_c.reshape(-1))[0]\n",
    "    \n",
    "    # block wise metrics\n",
    "    blocks1 = divideFc(fc1)\n",
    "    blocks2 = divideFc(fc2)\n",
    "    reg_r_block = [reg_R_fn(vec1.reshape(1, -1), vec2.reshape(1, -1))[0] \n",
    "                   for vec1, vec2 in zip(blocks1, blocks2)]\n",
    "    lin_r_block = [lin_R_fn(vec1.reshape(1, -1), vec2.reshape(1, -1))[0] \n",
    "                   for vec1, vec2 in zip(blocks1, blocks2)]\n",
    "    \n",
    "    res = edict()\n",
    "    res.geo_dist = geo_dist\n",
    "    res.reg_r = reg_r[0]\n",
    "    res.lin_r = lin_r[0]\n",
    "    res.tau_r = tau_r\n",
    "    res.sp_r = sp_r \n",
    "    res.mse = mse\n",
    "    res.reg_r_block = np.mean(reg_r_block)\n",
    "    res.lin_r_block = np.mean(lin_r_block)\n",
    "    return res\n",
    "\n",
    "def cal_metrics_batch(fc1s, fc2s):\n",
    "    \"\"\"fc1s, fc2s: num_fc x 68 x 68\n",
    "    \"\"\"\n",
    "    ress = ddict(list)\n",
    "    for ix in range(len(fc1s)):\n",
    "        fc_t = fc2s[ix]\n",
    "        fc_e = fc1s[ix]\n",
    "        res = cal_metrics(fc_t, fc_e)\n",
    "        for key, v in res.items():\n",
    "            ress[key].append(v)\n",
    "    \n",
    "    return ress"
   ]
  },
  {
   "cell_type": "code",
   "execution_count": 28,
   "id": "064fe03c",
   "metadata": {
    "ExecuteTime": {
     "end_time": "2023-08-25T14:36:18.486362Z",
     "start_time": "2023-08-25T14:36:18.475156Z"
    }
   },
   "outputs": [],
   "source": [
    "def _simulate_data(raw_params, brain, prior_bds, freqranges, diag_ws):\n",
    "    params = []\n",
    "    for raw_param, prior_bd in zip(raw_params, prior_bds):\n",
    "        param =  _map_fn_torch(raw_param)*(prior_bd[1]-prior_bd[0]) + prior_bd[0]\n",
    "        params.append(param)\n",
    "    params = torch.tensor(params)\n",
    "    \n",
    "    params_dict = dict()\n",
    "    params_dict[\"tauC\"] =  params[0].item()\n",
    "    params_dict[\"speed\"] =  params[1].item()\n",
    "    params_dict[\"alpha\"] =  params[2].item()\n",
    "    ress = []\n",
    "    for freqrange in freqranges:\n",
    "        modelFC = build_fc_freq_m(brain, params_dict, freqrange, diag_ws)\n",
    "        modelFC_abs = np.abs(modelFC[:68, :68])\n",
    "        ress.append(modelFC_abs)\n",
    "    return np.array(ress)"
   ]
  },
  {
   "cell_type": "code",
   "execution_count": 6,
   "id": "81762f84",
   "metadata": {
    "ExecuteTime": {
     "end_time": "2023-08-25T14:24:48.126386Z",
     "start_time": "2023-08-25T14:24:48.115034Z"
    }
   },
   "outputs": [
    {
     "data": {
      "text/plain": [
       "<function __main__.<lambda>(x)>"
      ]
     },
     "execution_count": 6,
     "metadata": {},
     "output_type": "execute_result"
    }
   ],
   "source": [
    "_minmax_vec = lambda x: (x-np.min(x))/(np.max(x)-np.min(x))"
   ]
  },
  {
   "cell_type": "code",
   "execution_count": 24,
   "id": "9daeac1d",
   "metadata": {
    "ExecuteTime": {
     "end_time": "2023-08-25T14:33:49.504387Z",
     "start_time": "2023-08-25T14:33:49.498462Z"
    }
   },
   "outputs": [],
   "source": [
    "# transfer vec to a sym mat\n",
    "def _vec_2mat(vec):\n",
    "    mat = np.zeros((68, 68))\n",
    "    mat[np.triu_indices(68, k = 1)] = vec\n",
    "    mat = mat + mat.T\n",
    "    return mat"
   ]
  },
  {
   "cell_type": "markdown",
   "id": "12bd0463",
   "metadata": {},
   "source": [
    "### Some parameters"
   ]
  },
  {
   "cell_type": "code",
   "execution_count": 7,
   "id": "fc7fddd0",
   "metadata": {
    "ExecuteTime": {
     "end_time": "2023-08-25T14:27:01.929368Z",
     "start_time": "2023-08-25T14:27:01.920609Z"
    }
   },
   "outputs": [
    {
     "data": {
      "text/plain": [
       "array([1., 1., 1., 1., 1., 1., 1., 1., 1., 1., 1., 1., 1., 1., 1., 1., 1.,\n",
       "       1., 1., 1., 1., 1., 1., 1., 1., 1., 1., 1., 1., 1., 1., 1., 1., 1.,\n",
       "       1., 1., 1., 1., 1., 1., 1., 1., 1., 1., 1., 1., 1., 1., 1., 1., 1.,\n",
       "       1., 1., 1., 1., 1., 1., 1., 1., 1., 1., 1., 1., 1., 1., 1., 1., 1.,\n",
       "       1., 1., 1., 1., 1., 1., 1., 1., 1., 1., 1., 1., 1., 1.])"
      ]
     },
     "execution_count": 7,
     "metadata": {},
     "output_type": "execute_result"
    }
   ],
   "source": [
    "from scipy.io import loadmat\n",
    "diag_ws = np.ones(82)"
   ]
  },
  {
   "cell_type": "code",
   "execution_count": 8,
   "id": "488d0dd0",
   "metadata": {
    "ExecuteTime": {
     "end_time": "2023-08-25T14:27:05.892323Z",
     "start_time": "2023-08-25T14:27:05.886604Z"
    }
   },
   "outputs": [],
   "source": [
    "# Parameter bounds for optimization\n",
    "v_lower = 3.5-1.8\n",
    "v_upper = 3.5+1.8\n",
    "#bnds = ((0.005,0.030), (0.005,0.2), (0.005,0.030), (v_lower,v_upper), (0.1,1.0), (0.5,10.0), (0.5,10.0));\n",
    "bnds = ((0.005,0.030), (v_lower,v_upper), (0.1,1.0));\n",
    "#taue,taui,tauG,speed,alpha,gii,gei"
   ]
  },
  {
   "cell_type": "code",
   "execution_count": 9,
   "id": "1b1c015a",
   "metadata": {
    "ExecuteTime": {
     "end_time": "2023-08-25T14:27:08.562434Z",
     "start_time": "2023-08-25T14:27:08.556904Z"
    }
   },
   "outputs": [],
   "source": [
    "_paras = edict()\n",
    "_paras.delta = [2, 3.5]\n",
    "_paras.theta = [4, 7]\n",
    "_paras.alpha = [8, 12]\n",
    "_paras.beta_l = [13, 20]\n"
   ]
  },
  {
   "cell_type": "code",
   "execution_count": 10,
   "id": "74f883ac",
   "metadata": {
    "ExecuteTime": {
     "end_time": "2023-08-25T14:28:30.525852Z",
     "start_time": "2023-08-25T14:28:30.492698Z"
    }
   },
   "outputs": [
    {
     "name": "stdout",
     "output_type": "stream",
     "text": [
      "[array([2.   , 2.375, 2.75 , 3.125, 3.5  ]), array([4.  , 4.75, 5.5 , 6.25, 7.  ]), array([ 8.,  9., 10., 11., 12.]), array([13.  , 14.75, 16.5 , 18.25, 20.  ])]\n",
      "rawfc_posteriorMRmulDiffNum_delta-theta-alpha-beta_l_num10000_densitynsf_MR2_noise_sd20_addv1\n"
     ]
    },
    {
     "data": {
      "text/plain": [
       "array([1., 1., 1., 1., 1., 1., 1., 1., 1., 1., 1., 1., 1., 1., 1., 1., 1.,\n",
       "       1., 1., 1., 1., 1., 1., 1., 1., 1., 1., 1., 1., 1., 1., 1., 1., 1.,\n",
       "       1., 1., 1., 1., 1., 1., 1., 1., 1., 1., 1., 1., 1., 1., 1., 1., 1.,\n",
       "       1., 1., 1., 1., 1., 1., 1., 1., 1., 1., 1., 1., 1., 1., 1., 1., 1.,\n",
       "       1., 1., 1., 1., 1., 1., 1., 1., 1., 1., 1., 1., 1., 1.])"
      ]
     },
     "execution_count": 10,
     "metadata": {},
     "output_type": "execute_result"
    }
   ],
   "source": [
    "paras = edict()\n",
    "\n",
    "paras.bands = [\"delta\", \"theta\", \"alpha\", \"beta_l\"]\n",
    "paras.freqranges =  [np.linspace(_paras[band][0], _paras[band][1], 5) \n",
    "                     for band in paras.bands]\n",
    "paras.diag_ws = diag_ws\n",
    "print(paras.freqranges)\n",
    "paras.fs = 600\n",
    "paras.num_nodes = 86 # Number of cortical (68) + subcortical nodes\n",
    "#paras.par_low = np.asarray([0.005,0.005,0.005,5, 0.1,0.001,0.001])\n",
    "#paras.par_high = np.asarray([0.03, 0.20, 0.03,20,  1,    2,  0.7])\n",
    "paras.par_low = np.asarray([0.005, 5, 0.1])\n",
    "paras.par_high = np.asarray([0.03, 20, 1])\n",
    "paras.names = [\"TauC\", \"Speed\", \"alpha\"]\n",
    "paras.prior_bds = np.array([paras.par_low, paras.par_high]).T\n",
    "paras.prior_sd = 10\n",
    "paras.add_v = 0.01\n",
    "\n",
    "paras.SBI_paras = edict()\n",
    "paras.SBI_paras.num_prior_sps = int(1e4)\n",
    "paras.SBI_paras.density_model = \"nsf\"\n",
    "paras.SBI_paras.num_round = 2\n",
    "paras.SBI_paras.noise_sd = 0.20\n",
    "paras.SBI_paras.save_dir =  f\"rawfc_posteriorMRmulDiffNum_{'-'.join(paras.bands)}_\" + \\\n",
    "                            f\"num{paras.SBI_paras.num_prior_sps}_\" + \\\n",
    "                            f\"density{paras.SBI_paras.density_model}_\" + \\\n",
    "                            f\"MR{paras.SBI_paras.num_round}_\" + \\\n",
    "                            f\"noise_sd{paras.SBI_paras.noise_sd*100:.0f}_\" +\\\n",
    "                            f\"addv{paras.add_v*100:.0f}\"\n",
    "print(paras.SBI_paras.save_dir)\n",
    "assert (RES_ROOT/paras.SBI_paras.save_dir).exists()\n",
    "paras.diag_ws"
   ]
  },
  {
   "cell_type": "code",
   "execution_count": 11,
   "id": "0b853363",
   "metadata": {
    "ExecuteTime": {
     "end_time": "2023-08-25T14:28:34.443922Z",
     "start_time": "2023-08-25T14:28:34.436471Z"
    }
   },
   "outputs": [
    {
     "data": {
      "text/plain": [
       "functools.partial(<function theta_raw_2out at 0x7f825496f430>, map_fn=functools.partial(<function logistic_np at 0x7f825496f3a0>, k=0.1))"
      ]
     },
     "execution_count": 11,
     "metadata": {},
     "output_type": "execute_result"
    }
   ],
   "source": [
    "# fn for reparemetering\n",
    "_map_fn_torch = partial(logistic_torch, k=0.1)\n",
    "_theta_raw_2out = partial(theta_raw_2out, map_fn=partial(logistic_np, k=0.1))"
   ]
  },
  {
   "cell_type": "code",
   "execution_count": 12,
   "id": "f2b0bc3a",
   "metadata": {
    "ExecuteTime": {
     "end_time": "2023-08-25T14:28:35.350722Z",
     "start_time": "2023-08-25T14:28:35.337909Z"
    }
   },
   "outputs": [
    {
     "data": {
      "text/plain": [
       "MultivariateNormal(loc: torch.Size([3]), covariance_matrix: torch.Size([3, 3]))"
      ]
     },
     "execution_count": 12,
     "metadata": {},
     "output_type": "execute_result"
    }
   ],
   "source": [
    "prior = MultivariateNormal(loc=torch.zeros(3), covariance_matrix=torch.eye(3)*(paras.prior_sd**2))"
   ]
  },
  {
   "cell_type": "code",
   "execution_count": null,
   "id": "d66040ab",
   "metadata": {},
   "outputs": [],
   "source": []
  },
  {
   "cell_type": "markdown",
   "id": "cc57cec6",
   "metadata": {},
   "source": [
    "### Load the data"
   ]
  },
  {
   "cell_type": "code",
   "execution_count": 13,
   "id": "b78325a1",
   "metadata": {
    "ExecuteTime": {
     "end_time": "2023-08-25T14:28:43.303011Z",
     "start_time": "2023-08-25T14:28:42.969596Z"
    }
   },
   "outputs": [],
   "source": [
    "# SC\n",
    "ind_conn_xr = xr.open_dataarray(DATA_ROOT/'individual_connectomes_reordered.nc')\n",
    "ind_conn = ind_conn_xr.values\n",
    "\n",
    "# PSD\n",
    "ind_psd_xr = xr.open_dataarray(DATA_ROOT/'individual_psd_reordered_matlab.nc')\n",
    "ind_psd = ind_psd_xr.values\n",
    "fvec = ind_psd_xr[\"frequencies\"].values;"
   ]
  },
  {
   "cell_type": "code",
   "execution_count": 14,
   "id": "ee5a4fc9",
   "metadata": {
    "ExecuteTime": {
     "end_time": "2023-08-25T14:28:45.779901Z",
     "start_time": "2023-08-25T14:28:45.742833Z"
    }
   },
   "outputs": [
    {
     "name": "stdout",
     "output_type": "stream",
     "text": [
      "Add 0.01 on diag\n"
     ]
    }
   ],
   "source": [
    "\n",
    "def _add_v2con(cur_ind_conn):\n",
    "    cur_ind_conn = cur_ind_conn.copy()\n",
    "    add_v = np.quantile(cur_ind_conn, 0.99)*paras.add_v # tuning 0.1\n",
    "    np.fill_diagonal(cur_ind_conn[:34, 34:68], np.diag(cur_ind_conn[:34, 34:68]) + add_v)\n",
    "    np.fill_diagonal(cur_ind_conn[34:68, :34], np.diag(cur_ind_conn[34:68, :34]) + add_v)\n",
    "    np.fill_diagonal(cur_ind_conn[68:77, 77:], np.diag(cur_ind_conn[68:77, 77:]) + add_v)\n",
    "    np.fill_diagonal(cur_ind_conn[77:, 68:77], np.diag(cur_ind_conn[77:, 68:77]) + add_v)\n",
    "    return cur_ind_conn\n",
    "\n",
    "\n",
    "if paras.add_v != 0:\n",
    "    print(f\"Add {paras.add_v} on diag\")\n",
    "    ind_conn_adds = [_add_v2con(ind_conn[:, :, ix]) for ix in range(36)]\n",
    "    ind_conn = np.transpose(np.array(ind_conn_adds), (1, 2, 0))"
   ]
  },
  {
   "cell_type": "code",
   "execution_count": 15,
   "id": "87769d14",
   "metadata": {
    "ExecuteTime": {
     "end_time": "2023-08-25T14:29:05.438588Z",
     "start_time": "2023-08-25T14:29:03.460832Z"
    }
   },
   "outputs": [],
   "source": [
    "# em FC\n",
    "fc_root = RES_ROOT/\"emp_fcs\"\n",
    "fcss = []\n",
    "for band in paras.bands:\n",
    "    def _get_fc(sub_ix, bd):\n",
    "        fil = list(fc_root.rglob(f\"*{bd}*/sub{sub_ix}.pkl\"))[0]\n",
    "        return load_pkl(fil, verbose=False)\n",
    "    \n",
    "    fcs = np.array([_get_fc(sub_ix, band) for sub_ix in range(36)]);\n",
    "    fcss.append(fcs)"
   ]
  },
  {
   "cell_type": "code",
   "execution_count": null,
   "id": "06dd3072",
   "metadata": {},
   "outputs": [],
   "source": []
  },
  {
   "cell_type": "markdown",
   "id": "1bc6c297",
   "metadata": {},
   "source": [
    "## Analyze the results for single data"
   ]
  },
  {
   "cell_type": "code",
   "execution_count": 16,
   "id": "26469e85",
   "metadata": {
    "ExecuteTime": {
     "end_time": "2023-08-25T14:29:38.358737Z",
     "start_time": "2023-08-25T14:29:38.339691Z"
    }
   },
   "outputs": [],
   "source": [
    "res_fils = list((RES_ROOT/paras.SBI_paras.save_dir).glob(\"ind*.pkl\"))\n",
    "_sorted_fn = lambda x: int(x.stem.split(\"ind\")[-1][:])\n",
    "sorted_fils = sorted(res_fils, key=_sorted_fn);"
   ]
  },
  {
   "cell_type": "code",
   "execution_count": null,
   "id": "d82d5a95",
   "metadata": {},
   "outputs": [],
   "source": []
  },
  {
   "cell_type": "markdown",
   "id": "bd646581",
   "metadata": {},
   "source": [
    "### Point est"
   ]
  },
  {
   "cell_type": "code",
   "execution_count": 17,
   "id": "1c662d78",
   "metadata": {
    "ExecuteTime": {
     "end_time": "2023-08-25T14:29:53.393215Z",
     "start_time": "2023-08-25T14:29:52.256465Z"
    }
   },
   "outputs": [
    {
     "name": "stdout",
     "output_type": "stream",
     "text": [
      "Load file /data/rajlab1/user_data/jin/MyResearch/SBI-SGM-FC/notebooks/new_sgm/../../mypkg/../results/rawfc_posteriorMRmulDiffNum_delta-theta-alpha-beta_l_num10000_densitynsf_MR2_noise_sd20_addv1/ind0.pkl\n"
     ]
    },
    {
     "data": {
      "application/vnd.jupyter.widget-view+json": {
       "model_id": "3fadcc19af954064a748c5b03567e9ca",
       "version_major": 2,
       "version_minor": 0
      },
      "text/plain": [
       "Drawing 10000 posterior samples:   0%|          | 0/10000 [00:00<?, ?it/s]"
      ]
     },
     "metadata": {},
     "output_type": "display_data"
    },
    {
     "name": "stderr",
     "output_type": "stream",
     "text": [
      "/home/hujin/.local/lib/python3.9/site-packages/nflows/transforms/lu.py:80: UserWarning: torch.triangular_solve is deprecated in favor of torch.linalg.solve_triangularand will be removed in a future PyTorch release.\n",
      "torch.linalg.solve_triangular has its arguments reversed and does not return a copy of one of the inputs.\n",
      "X = torch.triangular_solve(B, A).solution\n",
      "should be replaced with\n",
      "X = torch.linalg.solve_triangular(A, B). (Triggered internally at  ../aten/src/ATen/native/BatchLinearAlgebra.cpp:2189.)\n",
      "  outputs, _ = torch.triangular_solve(\n"
     ]
    }
   ],
   "source": [
    "cur_idx = 0\n",
    "cur_posterior = load_pkl(sorted_fils[cur_idx])\n",
    "post_sps = cur_posterior.sample((10000, ));"
   ]
  },
  {
   "cell_type": "code",
   "execution_count": 19,
   "id": "b80af6da",
   "metadata": {
    "ExecuteTime": {
     "end_time": "2023-08-25T14:30:45.909312Z",
     "start_time": "2023-08-25T14:30:45.902860Z"
    }
   },
   "outputs": [
    {
     "data": {
      "text/plain": [
       "4"
      ]
     },
     "execution_count": 19,
     "metadata": {},
     "output_type": "execute_result"
    }
   ],
   "source": [
    "len(fcss)"
   ]
  },
  {
   "cell_type": "code",
   "execution_count": 22,
   "id": "64fbdd8f",
   "metadata": {
    "ExecuteTime": {
     "end_time": "2023-08-25T14:32:06.727113Z",
     "start_time": "2023-08-25T14:32:06.278932Z"
    }
   },
   "outputs": [
    {
     "name": "stdout",
     "output_type": "stream",
     "text": [
      "0.36507412345254275\n",
      "0.43464294053809316\n",
      "0.41993915985578856\n",
      "0.27001151084943004\n"
     ]
    }
   ],
   "source": [
    "cur_est_paras = torch.median(post_sps, axis=0)[0]\n",
    "    \n",
    "# get the cur brain\n",
    "brain = Brain.Brain()\n",
    "brain.add_connectome(DATA_ROOT) # grabs distance matrix\n",
    "brain.reorder_connectome(brain.connectome, brain.distance_matrix)\n",
    "brain.connectome =  ind_conn[:, :, cur_idx] # re-assign connectome to individual connectome\n",
    "brain.bi_symmetric_c()\n",
    "brain.reduce_extreme_dir()\n",
    "    \n",
    "cur_obs_FCs = [np.abs(fcs[cur_idx]) for fcs in fcss]\n",
    "cur_est_FCs = _simulate_data(cur_est_paras, \n",
    "                               brain=brain, \n",
    "                               prior_bds=paras.prior_bds, \n",
    "                               freqranges=paras.freqranges, \n",
    "                               diag_ws=paras.diag_ws);\n",
    "for cur_est_FC, cur_obs_FC in zip(cur_est_FCs, cur_obs_FCs):\n",
    "    est_vec = _minmax_vec(cur_est_FC[np.triu_indices(68, k = 1)])\n",
    "    obs_vec = _minmax_vec(cur_obs_FC[np.triu_indices(68, k = 1)])\n",
    "    corr = scipy.stats.pearsonr(est_vec, obs_vec)[0]\n",
    "    print(corr)"
   ]
  },
  {
   "cell_type": "code",
   "execution_count": 25,
   "id": "a6ee43de",
   "metadata": {
    "ExecuteTime": {
     "end_time": "2023-08-25T14:33:59.017865Z",
     "start_time": "2023-08-25T14:33:57.883440Z"
    }
   },
   "outputs": [
    {
     "data": {
      "text/plain": [
       "<AxesSubplot:title={'center':'SC'}>"
      ]
     },
     "execution_count": 25,
     "metadata": {},
     "output_type": "execute_result"
    },
    {
     "data": {
      "image/png": "[encoded data removed]",
      "text/plain": [
       "<Figure size 1296x360 with 6 Axes>"
      ]
     },
     "metadata": {
      "needs_background": "light"
     },
     "output_type": "display_data"
    }
   ],
   "source": [
    "SC = brain.connectome[:68, :68]\n",
    "SC_vec = _minmax_vec(SC[np.triu_indices(68, k = 1)])\n",
    "est_FC_mm = _vec_2mat(_minmax_vec(cur_est_FCs[0][np.triu_indices(68, k = 1)]))\n",
    "obs_FC_mm = _vec_2mat(_minmax_vec(cur_obs_FCs[0][np.triu_indices(68, k = 1)]))\n",
    "SC_mm = _vec_2mat(SC_vec)\n",
    "\n",
    "plt.figure(figsize=[18, 5])\n",
    "plt.subplot(132)\n",
    "plt.title(f\"SGM FC (corr: {corr:.3f})\")\n",
    "sns.heatmap(est_FC_mm)\n",
    "plt.subplot(133)\n",
    "plt.title(\"Empirical FC\")\n",
    "sns.heatmap(obs_FC_mm)\n",
    "#sns.heatmap(cur_obs_FC)\n",
    "plt.subplot(131)\n",
    "plt.title(\"SC\")\n",
    "sns.heatmap(SC_mm)"
   ]
  },
  {
   "cell_type": "markdown",
   "id": "de6b70cc",
   "metadata": {},
   "source": [
    "### Full Bayesian"
   ]
  },
  {
   "cell_type": "code",
   "execution_count": 40,
   "id": "23976f44",
   "metadata": {
    "ExecuteTime": {
     "end_time": "2023-08-25T14:38:47.744537Z",
     "start_time": "2023-08-25T14:38:47.319141Z"
    }
   },
   "outputs": [],
   "source": [
    "cur_idx = 0\n",
    "# get the cur brain\n",
    "brain = Brain.Brain()\n",
    "brain.add_connectome(DATA_ROOT) # grabs distance matrix\n",
    "brain.reorder_connectome(brain.connectome, brain.distance_matrix)\n",
    "brain.connectome =  ind_conn[:, :, cur_idx] # re-assign connectome to individual connectome\n",
    "brain.bi_symmetric_c()\n",
    "brain.reduce_extreme_dir()\n",
    "\n",
    "_simulate_data_sp = partial(_simulate_data, \n",
    "                            brain=brain, \n",
    "                            prior_bds=paras.prior_bds, \n",
    "                            freqranges=paras.freqranges, \n",
    "                            diag_ws=paras.diag_ws)\n",
    "_simulate_data_wrapper, _ = prepare_for_sbi(_simulate_data_sp, prior)"
   ]
  },
  {
   "cell_type": "code",
   "execution_count": 41,
   "id": "d393a422",
   "metadata": {
    "ExecuteTime": {
     "end_time": "2023-08-25T14:38:50.403156Z",
     "start_time": "2023-08-25T14:38:48.825703Z"
    }
   },
   "outputs": [
    {
     "name": "stdout",
     "output_type": "stream",
     "text": [
      "Load file /data/rajlab1/user_data/jin/MyResearch/SBI-SGM-FC/notebooks/new_sgm/../../mypkg/../results/rawfc_posteriorMRmulDiffNum_delta-theta-alpha-beta_l_num10000_densitynsf_MR2_noise_sd20_addv1/ind0.pkl\n"
     ]
    },
    {
     "data": {
      "application/vnd.jupyter.widget-view+json": {
       "model_id": "ea761d7d356e4b6aaadd6a0c443a837f",
       "version_major": 2,
       "version_minor": 0
      },
      "text/plain": [
       "Drawing 100 posterior samples:   0%|          | 0/100 [00:00<?, ?it/s]"
      ]
     },
     "metadata": {},
     "output_type": "display_data"
    },
    {
     "data": {
      "application/vnd.jupyter.widget-view+json": {
       "model_id": "5ebc36eb80674cddb1aab9a85b541659",
       "version_major": 2,
       "version_minor": 0
      },
      "text/plain": [
       "Running 100 simulations in 100 batches.:   0%|          | 0/100 [00:00<?, ?it/s]"
      ]
     },
     "metadata": {},
     "output_type": "display_data"
    }
   ],
   "source": [
    "cur_posterior = load_pkl(sorted_fils[cur_idx])\n",
    "\n",
    "_, cur_post_psds = simulate_for_sbi(_simulate_data_wrapper, cur_posterior,\n",
    "                                    num_simulations=100, \n",
    "                                    num_workers=20)\n",
    "cur_post_psds = cur_post_psds.reshape(-1, 4, 68, 68);"
   ]
  },
  {
   "cell_type": "code",
   "execution_count": 47,
   "id": "f413976e",
   "metadata": {
    "ExecuteTime": {
     "end_time": "2023-08-25T14:39:07.902097Z",
     "start_time": "2023-08-25T14:39:07.889178Z"
    }
   },
   "outputs": [
    {
     "data": {
      "text/plain": [
       "0.36658139277566154"
      ]
     },
     "execution_count": 47,
     "metadata": {},
     "output_type": "execute_result"
    }
   ],
   "source": [
    "band_idx = 0\n",
    "cur_obs_FC = np.abs(fcss[band_idx][cur_idx])\n",
    "cur_est_FC = np.abs(cur_post_psds[:, band_idx].mean(axis=0).numpy())\n",
    "est_vec = _minmax_vec(cur_est_FC[np.triu_indices(68, k = 1)])\n",
    "obs_vec = _minmax_vec(cur_obs_FC[np.triu_indices(68, k = 1)])\n",
    "corr = scipy.stats.pearsonr(est_vec, obs_vec)[0]"
   ]
  },
  {
   "cell_type": "code",
   "execution_count": 48,
   "id": "9734186b",
   "metadata": {
    "ExecuteTime": {
     "end_time": "2023-08-25T14:39:24.702055Z",
     "start_time": "2023-08-25T14:39:23.749880Z"
    }
   },
   "outputs": [
    {
     "data": {
      "text/plain": [
       "<AxesSubplot:title={'center':'SC'}>"
      ]
     },
     "execution_count": 48,
     "metadata": {},
     "output_type": "execute_result"
    },
    {
     "data": {
      "image/png": "[encoded data removed]",
      "text/plain": [
       "<Figure size 1296x360 with 6 Axes>"
      ]
     },
     "metadata": {
      "needs_background": "light"
     },
     "output_type": "display_data"
    }
   ],
   "source": [
    "# no diag ws, only three sgm parameters\n",
    "SC = brain.connectome[:68, :68]\n",
    "SC_vec = _minmax_vec(SC[np.triu_indices(68, k = 1)])\n",
    "est_FC_mm = _vec_2mat(est_vec)\n",
    "obs_FC_mm = _vec_2mat(obs_vec)\n",
    "SC_mm = _vec_2mat(SC_vec)\n",
    "\n",
    "plt.figure(figsize=[18, 5])\n",
    "plt.subplot(132)\n",
    "plt.title(f\"SGM FC (corr: {corr:.3f})\")\n",
    "sns.heatmap(est_FC_mm)\n",
    "plt.subplot(133)\n",
    "plt.title(\"Empirical FC\")\n",
    "sns.heatmap(obs_FC_mm)\n",
    "#sns.heatmap(cur_obs_FC)\n",
    "plt.subplot(131)\n",
    "plt.title(\"SC\")\n",
    "sns.heatmap(SC_mm)"
   ]
  },
  {
   "cell_type": "code",
   "execution_count": null,
   "id": "d8150f03",
   "metadata": {},
   "outputs": [],
   "source": []
  },
  {
   "cell_type": "markdown",
   "id": "88dc5304",
   "metadata": {},
   "source": [
    "## All data analysis"
   ]
  },
  {
   "cell_type": "code",
   "execution_count": 49,
   "id": "52e911f0",
   "metadata": {
    "ExecuteTime": {
     "end_time": "2023-08-25T14:39:42.848321Z",
     "start_time": "2023-08-25T14:39:42.835906Z"
    }
   },
   "outputs": [],
   "source": [
    "res_fils = list((RES_ROOT/paras.SBI_paras.save_dir).glob(\"ind*.pkl\"))\n",
    "_sorted_fn = lambda x: int(x.stem.split(\"ind\")[-1][:])\n",
    "sorted_fils = sorted(res_fils, key=_sorted_fn);"
   ]
  },
  {
   "cell_type": "code",
   "execution_count": null,
   "id": "3316f3ac",
   "metadata": {},
   "outputs": [],
   "source": []
  },
  {
   "cell_type": "markdown",
   "id": "3b950dd6",
   "metadata": {},
   "source": [
    "### Point est"
   ]
  },
  {
   "cell_type": "code",
   "execution_count": 52,
   "id": "0db365e4",
   "metadata": {
    "ExecuteTime": {
     "end_time": "2023-08-25T14:48:24.408318Z",
     "start_time": "2023-08-25T14:48:04.283916Z"
    },
    "scrolled": true
   },
   "outputs": [
    {
     "data": {
      "application/vnd.jupyter.widget-view+json": {
       "model_id": "d4c05b806a8b453a9c273304c73e488e",
       "version_major": 2,
       "version_minor": 0
      },
      "text/plain": [
       "Drawing 1000 posterior samples:   0%|          | 0/1000 [00:00<?, ?it/s]"
      ]
     },
     "metadata": {},
     "output_type": "display_data"
    },
    {
     "name": "stdout",
     "output_type": "stream",
     "text": [
      "torch.Size([1000, 3])\n"
     ]
    },
    {
     "data": {
      "application/vnd.jupyter.widget-view+json": {
       "model_id": "18d5beb79ebf484ba212f63e542dd8c6",
       "version_major": 2,
       "version_minor": 0
      },
      "text/plain": [
       "Drawing 1000 posterior samples:   0%|          | 0/1000 [00:00<?, ?it/s]"
      ]
     },
     "metadata": {},
     "output_type": "display_data"
    },
    {
     "name": "stdout",
     "output_type": "stream",
     "text": [
      "torch.Size([1000, 3])\n"
     ]
    },
    {
     "data": {
      "application/vnd.jupyter.widget-view+json": {
       "model_id": "4f89d3343b92456ea1e7df2a69851492",
       "version_major": 2,
       "version_minor": 0
      },
      "text/plain": [
       "Drawing 1000 posterior samples:   0%|          | 0/1000 [00:00<?, ?it/s]"
      ]
     },
     "metadata": {},
     "output_type": "display_data"
    },
    {
     "name": "stdout",
     "output_type": "stream",
     "text": [
      "torch.Size([1000, 3])\n"
     ]
    },
    {
     "data": {
      "application/vnd.jupyter.widget-view+json": {
       "model_id": "4dffa46a0baf424a83ef53e58154772c",
       "version_major": 2,
       "version_minor": 0
      },
      "text/plain": [
       "Drawing 1000 posterior samples:   0%|          | 0/1000 [00:00<?, ?it/s]"
      ]
     },
     "metadata": {},
     "output_type": "display_data"
    },
    {
     "name": "stdout",
     "output_type": "stream",
     "text": [
      "torch.Size([1000, 3])\n"
     ]
    },
    {
     "data": {
      "application/vnd.jupyter.widget-view+json": {
       "model_id": "c8a4dcaf2eb143e0be0d59ec7edb64c7",
       "version_major": 2,
       "version_minor": 0
      },
      "text/plain": [
       "Drawing 1000 posterior samples:   0%|          | 0/1000 [00:00<?, ?it/s]"
      ]
     },
     "metadata": {},
     "output_type": "display_data"
    },
    {
     "name": "stdout",
     "output_type": "stream",
     "text": [
      "torch.Size([1000, 3])\n"
     ]
    },
    {
     "data": {
      "application/vnd.jupyter.widget-view+json": {
       "model_id": "32349d0223ff4e11bb6e69fbb1514f1c",
       "version_major": 2,
       "version_minor": 0
      },
      "text/plain": [
       "Drawing 1000 posterior samples:   0%|          | 0/1000 [00:00<?, ?it/s]"
      ]
     },
     "metadata": {},
     "output_type": "display_data"
    },
    {
     "name": "stdout",
     "output_type": "stream",
     "text": [
      "torch.Size([1000, 3])\n"
     ]
    },
    {
     "data": {
      "application/vnd.jupyter.widget-view+json": {
       "model_id": "1af58d1c5dd743898ff7d36273efe187",
       "version_major": 2,
       "version_minor": 0
      },
      "text/plain": [
       "Drawing 1000 posterior samples:   0%|          | 0/1000 [00:00<?, ?it/s]"
      ]
     },
     "metadata": {},
     "output_type": "display_data"
    },
    {
     "name": "stdout",
     "output_type": "stream",
     "text": [
      "torch.Size([1000, 3])\n"
     ]
    },
    {
     "data": {
      "application/vnd.jupyter.widget-view+json": {
       "model_id": "332f581603364c17ac3a10490cc24ea2",
       "version_major": 2,
       "version_minor": 0
      },
      "text/plain": [
       "Drawing 1000 posterior samples:   0%|          | 0/1000 [00:00<?, ?it/s]"
      ]
     },
     "metadata": {},
     "output_type": "display_data"
    },
    {
     "name": "stdout",
     "output_type": "stream",
     "text": [
      "torch.Size([1000, 3])\n"
     ]
    },
    {
     "data": {
      "application/vnd.jupyter.widget-view+json": {
       "model_id": "1b04dd08c2254cb2a45a6a4c6411e978",
       "version_major": 2,
       "version_minor": 0
      },
      "text/plain": [
       "Drawing 1000 posterior samples:   0%|          | 0/1000 [00:00<?, ?it/s]"
      ]
     },
     "metadata": {},
     "output_type": "display_data"
    },
    {
     "name": "stdout",
     "output_type": "stream",
     "text": [
      "torch.Size([1000, 3])\n"
     ]
    },
    {
     "data": {
      "application/vnd.jupyter.widget-view+json": {
       "model_id": "422c14e96ffe4deba01c938fe60668b2",
       "version_major": 2,
       "version_minor": 0
      },
      "text/plain": [
       "Drawing 1000 posterior samples:   0%|          | 0/1000 [00:00<?, ?it/s]"
      ]
     },
     "metadata": {},
     "output_type": "display_data"
    },
    {
     "name": "stdout",
     "output_type": "stream",
     "text": [
      "torch.Size([1000, 3])\n"
     ]
    },
    {
     "data": {
      "application/vnd.jupyter.widget-view+json": {
       "model_id": "1f54ec0b65a04413ba481ba7485f1d8b",
       "version_major": 2,
       "version_minor": 0
      },
      "text/plain": [
       "Drawing 1000 posterior samples:   0%|          | 0/1000 [00:00<?, ?it/s]"
      ]
     },
     "metadata": {},
     "output_type": "display_data"
    },
    {
     "name": "stdout",
     "output_type": "stream",
     "text": [
      "torch.Size([1000, 3])\n"
     ]
    },
    {
     "data": {
      "application/vnd.jupyter.widget-view+json": {
       "model_id": "0ce11207856741c084b893a496aa0712",
       "version_major": 2,
       "version_minor": 0
      },
      "text/plain": [
       "Drawing 1000 posterior samples:   0%|          | 0/1000 [00:00<?, ?it/s]"
      ]
     },
     "metadata": {},
     "output_type": "display_data"
    },
    {
     "name": "stdout",
     "output_type": "stream",
     "text": [
      "torch.Size([1000, 3])\n"
     ]
    },
    {
     "data": {
      "application/vnd.jupyter.widget-view+json": {
       "model_id": "b4c0b811bfc74e79b7c3036a4c472101",
       "version_major": 2,
       "version_minor": 0
      },
      "text/plain": [
       "Drawing 1000 posterior samples:   0%|          | 0/1000 [00:00<?, ?it/s]"
      ]
     },
     "metadata": {},
     "output_type": "display_data"
    },
    {
     "name": "stdout",
     "output_type": "stream",
     "text": [
      "torch.Size([1000, 3])\n"
     ]
    },
    {
     "data": {
      "application/vnd.jupyter.widget-view+json": {
       "model_id": "c774e3bb69a342c9a16720e994747631",
       "version_major": 2,
       "version_minor": 0
      },
      "text/plain": [
       "Drawing 1000 posterior samples:   0%|          | 0/1000 [00:00<?, ?it/s]"
      ]
     },
     "metadata": {},
     "output_type": "display_data"
    },
    {
     "name": "stdout",
     "output_type": "stream",
     "text": [
      "torch.Size([1000, 3])\n"
     ]
    },
    {
     "data": {
      "application/vnd.jupyter.widget-view+json": {
       "model_id": "7b5d8e89d76946e9aa41510aeba01c0c",
       "version_major": 2,
       "version_minor": 0
      },
      "text/plain": [
       "Drawing 1000 posterior samples:   0%|          | 0/1000 [00:00<?, ?it/s]"
      ]
     },
     "metadata": {},
     "output_type": "display_data"
    },
    {
     "name": "stdout",
     "output_type": "stream",
     "text": [
      "torch.Size([1000, 3])\n"
     ]
    },
    {
     "data": {
      "application/vnd.jupyter.widget-view+json": {
       "model_id": "78dbd95758f246c4ba25b17d8c57bfad",
       "version_major": 2,
       "version_minor": 0
      },
      "text/plain": [
       "Drawing 1000 posterior samples:   0%|          | 0/1000 [00:00<?, ?it/s]"
      ]
     },
     "metadata": {},
     "output_type": "display_data"
    },
    {
     "name": "stdout",
     "output_type": "stream",
     "text": [
      "torch.Size([1000, 3])\n"
     ]
    },
    {
     "data": {
      "application/vnd.jupyter.widget-view+json": {
       "model_id": "6b169a90a8924a788838af43762ccb6d",
       "version_major": 2,
       "version_minor": 0
      },
      "text/plain": [
       "Drawing 1000 posterior samples:   0%|          | 0/1000 [00:00<?, ?it/s]"
      ]
     },
     "metadata": {},
     "output_type": "display_data"
    },
    {
     "name": "stdout",
     "output_type": "stream",
     "text": [
      "torch.Size([1000, 3])\n"
     ]
    },
    {
     "data": {
      "application/vnd.jupyter.widget-view+json": {
       "model_id": "7137a1ee8f3c428b8bd42246d7950dfd",
       "version_major": 2,
       "version_minor": 0
      },
      "text/plain": [
       "Drawing 1000 posterior samples:   0%|          | 0/1000 [00:00<?, ?it/s]"
      ]
     },
     "metadata": {},
     "output_type": "display_data"
    },
    {
     "name": "stdout",
     "output_type": "stream",
     "text": [
      "torch.Size([1000, 3])\n"
     ]
    },
    {
     "data": {
      "application/vnd.jupyter.widget-view+json": {
       "model_id": "a7efd6de0db64dfebd127feb08a286cb",
       "version_major": 2,
       "version_minor": 0
      },
      "text/plain": [
       "Drawing 1000 posterior samples:   0%|          | 0/1000 [00:00<?, ?it/s]"
      ]
     },
     "metadata": {},
     "output_type": "display_data"
    },
    {
     "name": "stdout",
     "output_type": "stream",
     "text": [
      "torch.Size([1000, 3])\n"
     ]
    },
    {
     "data": {
      "application/vnd.jupyter.widget-view+json": {
       "model_id": "04cb1a158c3349b18666b3b9c53c9be3",
       "version_major": 2,
       "version_minor": 0
      },
      "text/plain": [
       "Drawing 1000 posterior samples:   0%|          | 0/1000 [00:00<?, ?it/s]"
      ]
     },
     "metadata": {},
     "output_type": "display_data"
    },
    {
     "name": "stdout",
     "output_type": "stream",
     "text": [
      "torch.Size([1000, 3])\n"
     ]
    },
    {
     "data": {
      "application/vnd.jupyter.widget-view+json": {
       "model_id": "cebf886fc4f2430396de58d9e4639dd9",
       "version_major": 2,
       "version_minor": 0
      },
      "text/plain": [
       "Drawing 1000 posterior samples:   0%|          | 0/1000 [00:00<?, ?it/s]"
      ]
     },
     "metadata": {},
     "output_type": "display_data"
    },
    {
     "name": "stdout",
     "output_type": "stream",
     "text": [
      "torch.Size([1000, 3])\n"
     ]
    },
    {
     "data": {
      "application/vnd.jupyter.widget-view+json": {
       "model_id": "e55789f3295945adb926f72b68fb6820",
       "version_major": 2,
       "version_minor": 0
      },
      "text/plain": [
       "Drawing 1000 posterior samples:   0%|          | 0/1000 [00:00<?, ?it/s]"
      ]
     },
     "metadata": {},
     "output_type": "display_data"
    },
    {
     "name": "stdout",
     "output_type": "stream",
     "text": [
      "torch.Size([1000, 3])\n"
     ]
    },
    {
     "data": {
      "application/vnd.jupyter.widget-view+json": {
       "model_id": "1e93c2b844fe4be7af584b4b938d22b3",
       "version_major": 2,
       "version_minor": 0
      },
      "text/plain": [
       "Drawing 1000 posterior samples:   0%|          | 0/1000 [00:00<?, ?it/s]"
      ]
     },
     "metadata": {},
     "output_type": "display_data"
    },
    {
     "name": "stdout",
     "output_type": "stream",
     "text": [
      "torch.Size([1000, 3])\n"
     ]
    },
    {
     "data": {
      "application/vnd.jupyter.widget-view+json": {
       "model_id": "572d6d67010e4bce9e959e23f1b0aaa3",
       "version_major": 2,
       "version_minor": 0
      },
      "text/plain": [
       "Drawing 1000 posterior samples:   0%|          | 0/1000 [00:00<?, ?it/s]"
      ]
     },
     "metadata": {},
     "output_type": "display_data"
    },
    {
     "name": "stdout",
     "output_type": "stream",
     "text": [
      "torch.Size([1000, 3])\n"
     ]
    },
    {
     "data": {
      "application/vnd.jupyter.widget-view+json": {
       "model_id": "70f336377aa54a4ab5ab997b270a828f",
       "version_major": 2,
       "version_minor": 0
      },
      "text/plain": [
       "Drawing 1000 posterior samples:   0%|          | 0/1000 [00:00<?, ?it/s]"
      ]
     },
     "metadata": {},
     "output_type": "display_data"
    },
    {
     "name": "stdout",
     "output_type": "stream",
     "text": [
      "torch.Size([1000, 3])\n"
     ]
    },
    {
     "data": {
      "application/vnd.jupyter.widget-view+json": {
       "model_id": "4ca9ac5d899647858b7c924ed96d443d",
       "version_major": 2,
       "version_minor": 0
      },
      "text/plain": [
       "Drawing 1000 posterior samples:   0%|          | 0/1000 [00:00<?, ?it/s]"
      ]
     },
     "metadata": {},
     "output_type": "display_data"
    },
    {
     "name": "stdout",
     "output_type": "stream",
     "text": [
      "torch.Size([1000, 3])\n"
     ]
    },
    {
     "data": {
      "application/vnd.jupyter.widget-view+json": {
       "model_id": "f88e533088b24016bca86e70f53e2603",
       "version_major": 2,
       "version_minor": 0
      },
      "text/plain": [
       "Drawing 1000 posterior samples:   0%|          | 0/1000 [00:00<?, ?it/s]"
      ]
     },
     "metadata": {},
     "output_type": "display_data"
    },
    {
     "name": "stdout",
     "output_type": "stream",
     "text": [
      "torch.Size([1000, 3])\n"
     ]
    },
    {
     "data": {
      "application/vnd.jupyter.widget-view+json": {
       "model_id": "f407f1c2a3834a5e9f1297b343658c84",
       "version_major": 2,
       "version_minor": 0
      },
      "text/plain": [
       "Drawing 1000 posterior samples:   0%|          | 0/1000 [00:00<?, ?it/s]"
      ]
     },
     "metadata": {},
     "output_type": "display_data"
    },
    {
     "name": "stdout",
     "output_type": "stream",
     "text": [
      "torch.Size([1000, 3])\n"
     ]
    },
    {
     "data": {
      "application/vnd.jupyter.widget-view+json": {
       "model_id": "a996bd2eae0644c6a28614f18d6b5dad",
       "version_major": 2,
       "version_minor": 0
      },
      "text/plain": [
       "Drawing 1000 posterior samples:   0%|          | 0/1000 [00:00<?, ?it/s]"
      ]
     },
     "metadata": {},
     "output_type": "display_data"
    },
    {
     "name": "stdout",
     "output_type": "stream",
     "text": [
      "torch.Size([1000, 3])\n"
     ]
    },
    {
     "data": {
      "application/vnd.jupyter.widget-view+json": {
       "model_id": "c63b0d7590c941e2a3eb028afd630b65",
       "version_major": 2,
       "version_minor": 0
      },
      "text/plain": [
       "Drawing 1000 posterior samples:   0%|          | 0/1000 [00:00<?, ?it/s]"
      ]
     },
     "metadata": {},
     "output_type": "display_data"
    },
    {
     "name": "stdout",
     "output_type": "stream",
     "text": [
      "torch.Size([1000, 3])\n"
     ]
    },
    {
     "data": {
      "application/vnd.jupyter.widget-view+json": {
       "model_id": "a5f5f12e7cef4dc7959f23472b4b9aac",
       "version_major": 2,
       "version_minor": 0
      },
      "text/plain": [
       "Drawing 1000 posterior samples:   0%|          | 0/1000 [00:00<?, ?it/s]"
      ]
     },
     "metadata": {},
     "output_type": "display_data"
    },
    {
     "name": "stdout",
     "output_type": "stream",
     "text": [
      "torch.Size([1000, 3])\n"
     ]
    },
    {
     "data": {
      "application/vnd.jupyter.widget-view+json": {
       "model_id": "32a61596d1f549bf849b0e5d7fcebcc6",
       "version_major": 2,
       "version_minor": 0
      },
      "text/plain": [
       "Drawing 1000 posterior samples:   0%|          | 0/1000 [00:00<?, ?it/s]"
      ]
     },
     "metadata": {},
     "output_type": "display_data"
    },
    {
     "name": "stdout",
     "output_type": "stream",
     "text": [
      "torch.Size([1000, 3])\n"
     ]
    },
    {
     "data": {
      "application/vnd.jupyter.widget-view+json": {
       "model_id": "11fd1b6a4e814cad99f0cf1def648295",
       "version_major": 2,
       "version_minor": 0
      },
      "text/plain": [
       "Drawing 1000 posterior samples:   0%|          | 0/1000 [00:00<?, ?it/s]"
      ]
     },
     "metadata": {},
     "output_type": "display_data"
    },
    {
     "name": "stdout",
     "output_type": "stream",
     "text": [
      "torch.Size([1000, 3])\n"
     ]
    },
    {
     "data": {
      "application/vnd.jupyter.widget-view+json": {
       "model_id": "293babd424fb4fa583102f64cdc58564",
       "version_major": 2,
       "version_minor": 0
      },
      "text/plain": [
       "Drawing 1000 posterior samples:   0%|          | 0/1000 [00:00<?, ?it/s]"
      ]
     },
     "metadata": {},
     "output_type": "display_data"
    },
    {
     "name": "stdout",
     "output_type": "stream",
     "text": [
      "torch.Size([1000, 3])\n"
     ]
    },
    {
     "data": {
      "application/vnd.jupyter.widget-view+json": {
       "model_id": "6fefc3f463244f18bf7fdd444a762ceb",
       "version_major": 2,
       "version_minor": 0
      },
      "text/plain": [
       "Drawing 1000 posterior samples:   0%|          | 0/1000 [00:00<?, ?it/s]"
      ]
     },
     "metadata": {},
     "output_type": "display_data"
    },
    {
     "name": "stdout",
     "output_type": "stream",
     "text": [
      "torch.Size([1000, 3])\n"
     ]
    },
    {
     "data": {
      "application/vnd.jupyter.widget-view+json": {
       "model_id": "badd909972794f58b2ff76390f6f406b",
       "version_major": 2,
       "version_minor": 0
      },
      "text/plain": [
       "Drawing 1000 posterior samples:   0%|          | 0/1000 [00:00<?, ?it/s]"
      ]
     },
     "metadata": {},
     "output_type": "display_data"
    },
    {
     "name": "stdout",
     "output_type": "stream",
     "text": [
      "torch.Size([1000, 3])\n",
      "Save to /data/rajlab1/user_data/jin/MyResearch/SBI-SGM-FC/notebooks/new_sgm/../../mypkg/../results/rawfc_posteriorMRmulDiffNum_delta-theta-alpha-beta_l_num10000_densitynsf_MR2_noise_sd20_addv1/inf_res_beta_l.pkl\n"
     ]
    }
   ],
   "source": [
    "inf_res = edict()\n",
    "for band in paras.bands:\n",
    "    inf_res[f\"est_FCs_{band}\"] = []\n",
    "    inf_res[f\"metrics_{band}\"] = []\n",
    "\n",
    "for sub_idx in range(36):\n",
    "    cur_posterior = load_pkl(sorted_fils[sub_idx], False)\n",
    "    post_sps = cur_posterior.sample((1000, ))\n",
    "    print(post_sps.shape)\n",
    "    cur_est_paras = torch.median(post_sps, axis=0)[0]\n",
    "        \n",
    "    # get the cur brain\n",
    "    brain = Brain.Brain()\n",
    "    brain.add_connectome(DATA_ROOT) # grabs distance matrix\n",
    "    brain.reorder_connectome(brain.connectome, brain.distance_matrix)\n",
    "    brain.connectome =  ind_conn[:, :, sub_idx] # re-assign connectome to individual connectome\n",
    "    brain.bi_symmetric_c()\n",
    "    brain.reduce_extreme_dir()\n",
    "        \n",
    "    cur_est_FCs = _simulate_data(cur_est_paras, \n",
    "                                   brain=brain, \n",
    "                                   prior_bds=paras.prior_bds, \n",
    "                                   freqranges=paras.freqranges, \n",
    "                                   diag_ws=paras.diag_ws\n",
    "                                  )\n",
    "    for band_idx in range(4):\n",
    "        cur_obs_FC = np.abs(fcss[band_idx][sub_idx])\n",
    "        cur_est_FC = np.abs(cur_est_FCs[band_idx])\n",
    "        inf_res[f\"est_FCs_{paras.bands[band_idx]}\"].append(cur_est_FC)\n",
    "        inf_res[f\"metrics_{paras.bands[band_idx]}\"].append(cal_metrics(cur_obs_FC, cur_est_FC))\n",
    "save_pkl(sorted_fils[0].parent/f\"inf_res.pkl\", inf_res, False)"
   ]
  },
  {
   "cell_type": "code",
   "execution_count": 57,
   "id": "0e4df008",
   "metadata": {
    "ExecuteTime": {
     "end_time": "2023-08-25T14:49:49.843256Z",
     "start_time": "2023-08-25T14:49:49.805200Z"
    }
   },
   "outputs": [
    {
     "data": {
      "text/html": [
       "<div>\n",
       "<style scoped>\n",
       "    .dataframe tbody tr th:only-of-type {\n",
       "        vertical-align: middle;\n",
       "    }\n",
       "\n",
       "    .dataframe tbody tr th {\n",
       "        vertical-align: top;\n",
       "    }\n",
       "\n",
       "    .dataframe thead th {\n",
       "        text-align: right;\n",
       "    }\n",
       "</style>\n",
       "<table border=\"1\" class=\"dataframe\">\n",
       "  <thead>\n",
       "    <tr style=\"text-align: right;\">\n",
       "      <th></th>\n",
       "      <th>geo_dist</th>\n",
       "      <th>reg_r</th>\n",
       "      <th>lin_r</th>\n",
       "      <th>tau_r</th>\n",
       "      <th>sp_r</th>\n",
       "      <th>mse</th>\n",
       "      <th>reg_r_block</th>\n",
       "      <th>lin_r_block</th>\n",
       "    </tr>\n",
       "  </thead>\n",
       "  <tbody>\n",
       "    <tr>\n",
       "      <th>count</th>\n",
       "      <td>36.000000</td>\n",
       "      <td>36.000000</td>\n",
       "      <td>36.000000</td>\n",
       "      <td>36.000000</td>\n",
       "      <td>36.000000</td>\n",
       "      <td>36.000000</td>\n",
       "      <td>36.000000</td>\n",
       "      <td>36.000000</td>\n",
       "    </tr>\n",
       "    <tr>\n",
       "      <th>mean</th>\n",
       "      <td>0.624589</td>\n",
       "      <td>0.241610</td>\n",
       "      <td>0.188079</td>\n",
       "      <td>0.115768</td>\n",
       "      <td>0.171272</td>\n",
       "      <td>0.081729</td>\n",
       "      <td>0.215096</td>\n",
       "      <td>0.177811</td>\n",
       "    </tr>\n",
       "    <tr>\n",
       "      <th>std</th>\n",
       "      <td>0.031586</td>\n",
       "      <td>0.153047</td>\n",
       "      <td>0.128909</td>\n",
       "      <td>0.074254</td>\n",
       "      <td>0.108272</td>\n",
       "      <td>0.032346</td>\n",
       "      <td>0.143861</td>\n",
       "      <td>0.123155</td>\n",
       "    </tr>\n",
       "    <tr>\n",
       "      <th>min</th>\n",
       "      <td>0.549449</td>\n",
       "      <td>0.028994</td>\n",
       "      <td>0.018887</td>\n",
       "      <td>0.015316</td>\n",
       "      <td>0.022621</td>\n",
       "      <td>0.040514</td>\n",
       "      <td>0.018181</td>\n",
       "      <td>0.016840</td>\n",
       "    </tr>\n",
       "    <tr>\n",
       "      <th>25%</th>\n",
       "      <td>0.600332</td>\n",
       "      <td>0.090241</td>\n",
       "      <td>0.073810</td>\n",
       "      <td>0.054995</td>\n",
       "      <td>0.082771</td>\n",
       "      <td>0.060243</td>\n",
       "      <td>0.081541</td>\n",
       "      <td>0.067100</td>\n",
       "    </tr>\n",
       "    <tr>\n",
       "      <th>50%</th>\n",
       "      <td>0.628654</td>\n",
       "      <td>0.221018</td>\n",
       "      <td>0.163341</td>\n",
       "      <td>0.099727</td>\n",
       "      <td>0.147998</td>\n",
       "      <td>0.070339</td>\n",
       "      <td>0.192487</td>\n",
       "      <td>0.148113</td>\n",
       "    </tr>\n",
       "    <tr>\n",
       "      <th>75%</th>\n",
       "      <td>0.647317</td>\n",
       "      <td>0.389172</td>\n",
       "      <td>0.288569</td>\n",
       "      <td>0.163302</td>\n",
       "      <td>0.241092</td>\n",
       "      <td>0.098902</td>\n",
       "      <td>0.352486</td>\n",
       "      <td>0.301739</td>\n",
       "    </tr>\n",
       "    <tr>\n",
       "      <th>max</th>\n",
       "      <td>0.692983</td>\n",
       "      <td>0.484726</td>\n",
       "      <td>0.411104</td>\n",
       "      <td>0.314122</td>\n",
       "      <td>0.457029</td>\n",
       "      <td>0.170891</td>\n",
       "      <td>0.455169</td>\n",
       "      <td>0.399944</td>\n",
       "    </tr>\n",
       "  </tbody>\n",
       "</table>\n",
       "</div>"
      ],
      "text/plain": [
       "        geo_dist      reg_r      lin_r      tau_r       sp_r        mse  \\\n",
       "count  36.000000  36.000000  36.000000  36.000000  36.000000  36.000000   \n",
       "mean    0.624589   0.241610   0.188079   0.115768   0.171272   0.081729   \n",
       "std     0.031586   0.153047   0.128909   0.074254   0.108272   0.032346   \n",
       "min     0.549449   0.028994   0.018887   0.015316   0.022621   0.040514   \n",
       "25%     0.600332   0.090241   0.073810   0.054995   0.082771   0.060243   \n",
       "50%     0.628654   0.221018   0.163341   0.099727   0.147998   0.070339   \n",
       "75%     0.647317   0.389172   0.288569   0.163302   0.241092   0.098902   \n",
       "max     0.692983   0.484726   0.411104   0.314122   0.457029   0.170891   \n",
       "\n",
       "       reg_r_block  lin_r_block  \n",
       "count    36.000000    36.000000  \n",
       "mean      0.215096     0.177811  \n",
       "std       0.143861     0.123155  \n",
       "min       0.018181     0.016840  \n",
       "25%       0.081541     0.067100  \n",
       "50%       0.192487     0.148113  \n",
       "75%       0.352486     0.301739  \n",
       "max       0.455169     0.399944  "
      ]
     },
     "execution_count": 57,
     "metadata": {},
     "output_type": "execute_result"
    }
   ],
   "source": [
    "metrics_df = pd.DataFrame(inf_res.metrics_theta)\n",
    "metrics_df.describe()"
   ]
  },
  {
   "cell_type": "code",
   "execution_count": null,
   "id": "ed09930b",
   "metadata": {},
   "outputs": [],
   "source": []
  },
  {
   "cell_type": "code",
   "execution_count": null,
   "id": "5d7462c2",
   "metadata": {},
   "outputs": [],
   "source": []
  },
  {
   "cell_type": "markdown",
   "id": "873bfee8",
   "metadata": {},
   "source": [
    "### Full Bayesian"
   ]
  },
  {
   "cell_type": "code",
   "execution_count": 58,
   "id": "66f7bd42",
   "metadata": {
    "ExecuteTime": {
     "end_time": "2023-08-25T15:01:27.822781Z",
     "start_time": "2023-08-25T14:52:44.046458Z"
    },
    "scrolled": true
   },
   "outputs": [
    {
     "data": {
      "application/vnd.jupyter.widget-view+json": {
       "model_id": "c95618e5bad64685b8417048751cb2e8",
       "version_major": 2,
       "version_minor": 0
      },
      "text/plain": [
       "Drawing 1000 posterior samples:   0%|          | 0/1000 [00:00<?, ?it/s]"
      ]
     },
     "metadata": {},
     "output_type": "display_data"
    },
    {
     "data": {
      "application/vnd.jupyter.widget-view+json": {
       "model_id": "cb8df16a740143afa9ef2a600e3b30e3",
       "version_major": 2,
       "version_minor": 0
      },
      "text/plain": [
       "Running 1000 simulations in 1000 batches.:   0%|          | 0/1000 [00:00<?, ?it/s]"
      ]
     },
     "metadata": {},
     "output_type": "display_data"
    },
    {
     "name": "stdout",
     "output_type": "stream",
     "text": [
      "torch.Size([1000, 4, 68, 68])\n"
     ]
    },
    {
     "data": {
      "application/vnd.jupyter.widget-view+json": {
       "model_id": "490317099f814ad9a3987bdecddb714e",
       "version_major": 2,
       "version_minor": 0
      },
      "text/plain": [
       "Drawing 1000 posterior samples:   0%|          | 0/1000 [00:00<?, ?it/s]"
      ]
     },
     "metadata": {},
     "output_type": "display_data"
    },
    {
     "data": {
      "application/vnd.jupyter.widget-view+json": {
       "model_id": "342548e6c04a45e4bb3fcad12b2a2043",
       "version_major": 2,
       "version_minor": 0
      },
      "text/plain": [
       "Running 1000 simulations in 1000 batches.:   0%|          | 0/1000 [00:00<?, ?it/s]"
      ]
     },
     "metadata": {},
     "output_type": "display_data"
    },
    {
     "name": "stdout",
     "output_type": "stream",
     "text": [
      "torch.Size([1000, 4, 68, 68])\n"
     ]
    },
    {
     "data": {
      "application/vnd.jupyter.widget-view+json": {
       "model_id": "f1195a30b089406596f063db26965696",
       "version_major": 2,
       "version_minor": 0
      },
      "text/plain": [
       "Drawing 1000 posterior samples:   0%|          | 0/1000 [00:00<?, ?it/s]"
      ]
     },
     "metadata": {},
     "output_type": "display_data"
    },
    {
     "data": {
      "application/vnd.jupyter.widget-view+json": {
       "model_id": "990cd32f023c4381980e5dee2b0832aa",
       "version_major": 2,
       "version_minor": 0
      },
      "text/plain": [
       "Running 1000 simulations in 1000 batches.:   0%|          | 0/1000 [00:00<?, ?it/s]"
      ]
     },
     "metadata": {},
     "output_type": "display_data"
    },
    {
     "name": "stdout",
     "output_type": "stream",
     "text": [
      "torch.Size([1000, 4, 68, 68])\n"
     ]
    },
    {
     "data": {
      "application/vnd.jupyter.widget-view+json": {
       "model_id": "54213226b4914375b0b093345d0f2145",
       "version_major": 2,
       "version_minor": 0
      },
      "text/plain": [
       "Drawing 1000 posterior samples:   0%|          | 0/1000 [00:00<?, ?it/s]"
      ]
     },
     "metadata": {},
     "output_type": "display_data"
    },
    {
     "data": {
      "application/vnd.jupyter.widget-view+json": {
       "model_id": "587eb8c0526c47068496be66ea68cbbe",
       "version_major": 2,
       "version_minor": 0
      },
      "text/plain": [
       "Running 1000 simulations in 1000 batches.:   0%|          | 0/1000 [00:00<?, ?it/s]"
      ]
     },
     "metadata": {},
     "output_type": "display_data"
    },
    {
     "name": "stdout",
     "output_type": "stream",
     "text": [
      "torch.Size([1000, 4, 68, 68])\n"
     ]
    },
    {
     "data": {
      "application/vnd.jupyter.widget-view+json": {
       "model_id": "597a1bf2f4fe4f81a619857e20879a76",
       "version_major": 2,
       "version_minor": 0
      },
      "text/plain": [
       "Drawing 1000 posterior samples:   0%|          | 0/1000 [00:00<?, ?it/s]"
      ]
     },
     "metadata": {},
     "output_type": "display_data"
    },
    {
     "data": {
      "application/vnd.jupyter.widget-view+json": {
       "model_id": "e380c7bdd4294a1d9ae65d71be1efa25",
       "version_major": 2,
       "version_minor": 0
      },
      "text/plain": [
       "Running 1000 simulations in 1000 batches.:   0%|          | 0/1000 [00:00<?, ?it/s]"
      ]
     },
     "metadata": {},
     "output_type": "display_data"
    },
    {
     "name": "stdout",
     "output_type": "stream",
     "text": [
      "torch.Size([1000, 4, 68, 68])\n"
     ]
    },
    {
     "data": {
      "application/vnd.jupyter.widget-view+json": {
       "model_id": "8718e594b2604083984605bde015d2a1",
       "version_major": 2,
       "version_minor": 0
      },
      "text/plain": [
       "Drawing 1000 posterior samples:   0%|          | 0/1000 [00:00<?, ?it/s]"
      ]
     },
     "metadata": {},
     "output_type": "display_data"
    },
    {
     "data": {
      "application/vnd.jupyter.widget-view+json": {
       "model_id": "161d796b0e614e4687920800d5864a74",
       "version_major": 2,
       "version_minor": 0
      },
      "text/plain": [
       "Running 1000 simulations in 1000 batches.:   0%|          | 0/1000 [00:00<?, ?it/s]"
      ]
     },
     "metadata": {},
     "output_type": "display_data"
    },
    {
     "name": "stdout",
     "output_type": "stream",
     "text": [
      "torch.Size([1000, 4, 68, 68])\n"
     ]
    },
    {
     "data": {
      "application/vnd.jupyter.widget-view+json": {
       "model_id": "e889074698f74f57ba389550c2e176bf",
       "version_major": 2,
       "version_minor": 0
      },
      "text/plain": [
       "Drawing 1000 posterior samples:   0%|          | 0/1000 [00:00<?, ?it/s]"
      ]
     },
     "metadata": {},
     "output_type": "display_data"
    },
    {
     "data": {
      "application/vnd.jupyter.widget-view+json": {
       "model_id": "5fa887b4e98441d5b10c40a9667b4e91",
       "version_major": 2,
       "version_minor": 0
      },
      "text/plain": [
       "Running 1000 simulations in 1000 batches.:   0%|          | 0/1000 [00:00<?, ?it/s]"
      ]
     },
     "metadata": {},
     "output_type": "display_data"
    },
    {
     "name": "stdout",
     "output_type": "stream",
     "text": [
      "torch.Size([1000, 4, 68, 68])\n"
     ]
    },
    {
     "data": {
      "application/vnd.jupyter.widget-view+json": {
       "model_id": "2583d9868af04384aff7a9c960392673",
       "version_major": 2,
       "version_minor": 0
      },
      "text/plain": [
       "Drawing 1000 posterior samples:   0%|          | 0/1000 [00:00<?, ?it/s]"
      ]
     },
     "metadata": {},
     "output_type": "display_data"
    },
    {
     "data": {
      "application/vnd.jupyter.widget-view+json": {
       "model_id": "dbfc7b92a6464f24a2cb3e0f251fa8bb",
       "version_major": 2,
       "version_minor": 0
      },
      "text/plain": [
       "Running 1000 simulations in 1000 batches.:   0%|          | 0/1000 [00:00<?, ?it/s]"
      ]
     },
     "metadata": {},
     "output_type": "display_data"
    },
    {
     "name": "stdout",
     "output_type": "stream",
     "text": [
      "torch.Size([1000, 4, 68, 68])\n"
     ]
    },
    {
     "data": {
      "application/vnd.jupyter.widget-view+json": {
       "model_id": "a64a243a42a646049b10e7f28889f865",
       "version_major": 2,
       "version_minor": 0
      },
      "text/plain": [
       "Drawing 1000 posterior samples:   0%|          | 0/1000 [00:00<?, ?it/s]"
      ]
     },
     "metadata": {},
     "output_type": "display_data"
    },
    {
     "data": {
      "application/vnd.jupyter.widget-view+json": {
       "model_id": "e228e3dc1602454388a2f4902d124d89",
       "version_major": 2,
       "version_minor": 0
      },
      "text/plain": [
       "Running 1000 simulations in 1000 batches.:   0%|          | 0/1000 [00:00<?, ?it/s]"
      ]
     },
     "metadata": {},
     "output_type": "display_data"
    },
    {
     "name": "stdout",
     "output_type": "stream",
     "text": [
      "torch.Size([1000, 4, 68, 68])\n"
     ]
    },
    {
     "data": {
      "application/vnd.jupyter.widget-view+json": {
       "model_id": "28ad2dbe65f44d1eb128d005d1fc2489",
       "version_major": 2,
       "version_minor": 0
      },
      "text/plain": [
       "Drawing 1000 posterior samples:   0%|          | 0/1000 [00:00<?, ?it/s]"
      ]
     },
     "metadata": {},
     "output_type": "display_data"
    },
    {
     "data": {
      "application/vnd.jupyter.widget-view+json": {
       "model_id": "d5b361b139ee419688db5a0bcf6d41d5",
       "version_major": 2,
       "version_minor": 0
      },
      "text/plain": [
       "Running 1000 simulations in 1000 batches.:   0%|          | 0/1000 [00:00<?, ?it/s]"
      ]
     },
     "metadata": {},
     "output_type": "display_data"
    },
    {
     "name": "stdout",
     "output_type": "stream",
     "text": [
      "torch.Size([1000, 4, 68, 68])\n"
     ]
    },
    {
     "data": {
      "application/vnd.jupyter.widget-view+json": {
       "model_id": "8acb5dc9c18d4baa96d0f7e657c19df5",
       "version_major": 2,
       "version_minor": 0
      },
      "text/plain": [
       "Drawing 1000 posterior samples:   0%|          | 0/1000 [00:00<?, ?it/s]"
      ]
     },
     "metadata": {},
     "output_type": "display_data"
    },
    {
     "data": {
      "application/vnd.jupyter.widget-view+json": {
       "model_id": "8924d17d3b1c4b7d99487fbeaadc49b0",
       "version_major": 2,
       "version_minor": 0
      },
      "text/plain": [
       "Running 1000 simulations in 1000 batches.:   0%|          | 0/1000 [00:00<?, ?it/s]"
      ]
     },
     "metadata": {},
     "output_type": "display_data"
    },
    {
     "name": "stdout",
     "output_type": "stream",
     "text": [
      "torch.Size([1000, 4, 68, 68])\n"
     ]
    },
    {
     "data": {
      "application/vnd.jupyter.widget-view+json": {
       "model_id": "cfa3056ea7bd4d49a3de5d78fc7aefbb",
       "version_major": 2,
       "version_minor": 0
      },
      "text/plain": [
       "Drawing 1000 posterior samples:   0%|          | 0/1000 [00:00<?, ?it/s]"
      ]
     },
     "metadata": {},
     "output_type": "display_data"
    },
    {
     "data": {
      "application/vnd.jupyter.widget-view+json": {
       "model_id": "4f28a2b6fe0f4bb9866c872ccf38d2e6",
       "version_major": 2,
       "version_minor": 0
      },
      "text/plain": [
       "Running 1000 simulations in 1000 batches.:   0%|          | 0/1000 [00:00<?, ?it/s]"
      ]
     },
     "metadata": {},
     "output_type": "display_data"
    },
    {
     "name": "stdout",
     "output_type": "stream",
     "text": [
      "torch.Size([1000, 4, 68, 68])\n"
     ]
    },
    {
     "data": {
      "application/vnd.jupyter.widget-view+json": {
       "model_id": "9b3017d2b2254e4db8b2f90e3e4fe0aa",
       "version_major": 2,
       "version_minor": 0
      },
      "text/plain": [
       "Drawing 1000 posterior samples:   0%|          | 0/1000 [00:00<?, ?it/s]"
      ]
     },
     "metadata": {},
     "output_type": "display_data"
    },
    {
     "data": {
      "application/vnd.jupyter.widget-view+json": {
       "model_id": "f3daf591b5a8478a8d0124479b8049ad",
       "version_major": 2,
       "version_minor": 0
      },
      "text/plain": [
       "Running 1000 simulations in 1000 batches.:   0%|          | 0/1000 [00:00<?, ?it/s]"
      ]
     },
     "metadata": {},
     "output_type": "display_data"
    },
    {
     "name": "stdout",
     "output_type": "stream",
     "text": [
      "torch.Size([1000, 4, 68, 68])\n"
     ]
    },
    {
     "data": {
      "application/vnd.jupyter.widget-view+json": {
       "model_id": "fab50685ec804ea6ac0412ffa023ff39",
       "version_major": 2,
       "version_minor": 0
      },
      "text/plain": [
       "Drawing 1000 posterior samples:   0%|          | 0/1000 [00:00<?, ?it/s]"
      ]
     },
     "metadata": {},
     "output_type": "display_data"
    },
    {
     "data": {
      "application/vnd.jupyter.widget-view+json": {
       "model_id": "361429db91214765b12c4b2cd89fcae8",
       "version_major": 2,
       "version_minor": 0
      },
      "text/plain": [
       "Running 1000 simulations in 1000 batches.:   0%|          | 0/1000 [00:00<?, ?it/s]"
      ]
     },
     "metadata": {},
     "output_type": "display_data"
    },
    {
     "name": "stdout",
     "output_type": "stream",
     "text": [
      "torch.Size([1000, 4, 68, 68])\n"
     ]
    },
    {
     "data": {
      "application/vnd.jupyter.widget-view+json": {
       "model_id": "a3b4bc8cc09240abb802f1b0130623aa",
       "version_major": 2,
       "version_minor": 0
      },
      "text/plain": [
       "Drawing 1000 posterior samples:   0%|          | 0/1000 [00:00<?, ?it/s]"
      ]
     },
     "metadata": {},
     "output_type": "display_data"
    },
    {
     "data": {
      "application/vnd.jupyter.widget-view+json": {
       "model_id": "a713eb4560124355a9269d757fa0dc35",
       "version_major": 2,
       "version_minor": 0
      },
      "text/plain": [
       "Running 1000 simulations in 1000 batches.:   0%|          | 0/1000 [00:00<?, ?it/s]"
      ]
     },
     "metadata": {},
     "output_type": "display_data"
    },
    {
     "name": "stdout",
     "output_type": "stream",
     "text": [
      "torch.Size([1000, 4, 68, 68])\n"
     ]
    },
    {
     "data": {
      "application/vnd.jupyter.widget-view+json": {
       "model_id": "50d534500809469893d93838fea6d3da",
       "version_major": 2,
       "version_minor": 0
      },
      "text/plain": [
       "Drawing 1000 posterior samples:   0%|          | 0/1000 [00:00<?, ?it/s]"
      ]
     },
     "metadata": {},
     "output_type": "display_data"
    },
    {
     "data": {
      "application/vnd.jupyter.widget-view+json": {
       "model_id": "aca0075902854cd19bc4cbc9a7063435",
       "version_major": 2,
       "version_minor": 0
      },
      "text/plain": [
       "Running 1000 simulations in 1000 batches.:   0%|          | 0/1000 [00:00<?, ?it/s]"
      ]
     },
     "metadata": {},
     "output_type": "display_data"
    },
    {
     "name": "stdout",
     "output_type": "stream",
     "text": [
      "torch.Size([1000, 4, 68, 68])\n"
     ]
    },
    {
     "data": {
      "application/vnd.jupyter.widget-view+json": {
       "model_id": "f536669c63a34bbeab0d49ad188e7559",
       "version_major": 2,
       "version_minor": 0
      },
      "text/plain": [
       "Drawing 1000 posterior samples:   0%|          | 0/1000 [00:00<?, ?it/s]"
      ]
     },
     "metadata": {},
     "output_type": "display_data"
    },
    {
     "data": {
      "application/vnd.jupyter.widget-view+json": {
       "model_id": "a09f5cd7a4d340fbbdb22614c98cf755",
       "version_major": 2,
       "version_minor": 0
      },
      "text/plain": [
       "Running 1000 simulations in 1000 batches.:   0%|          | 0/1000 [00:00<?, ?it/s]"
      ]
     },
     "metadata": {},
     "output_type": "display_data"
    },
    {
     "name": "stdout",
     "output_type": "stream",
     "text": [
      "torch.Size([1000, 4, 68, 68])\n"
     ]
    },
    {
     "data": {
      "application/vnd.jupyter.widget-view+json": {
       "model_id": "1b03904565e6497c9ea154339ccc10a1",
       "version_major": 2,
       "version_minor": 0
      },
      "text/plain": [
       "Drawing 1000 posterior samples:   0%|          | 0/1000 [00:00<?, ?it/s]"
      ]
     },
     "metadata": {},
     "output_type": "display_data"
    },
    {
     "data": {
      "application/vnd.jupyter.widget-view+json": {
       "model_id": "8baf275a42354d3fa497adc7d92a1c93",
       "version_major": 2,
       "version_minor": 0
      },
      "text/plain": [
       "Running 1000 simulations in 1000 batches.:   0%|          | 0/1000 [00:00<?, ?it/s]"
      ]
     },
     "metadata": {},
     "output_type": "display_data"
    },
    {
     "name": "stdout",
     "output_type": "stream",
     "text": [
      "torch.Size([1000, 4, 68, 68])\n"
     ]
    },
    {
     "data": {
      "application/vnd.jupyter.widget-view+json": {
       "model_id": "e72edc9d8bc54c178699e018c36761ed",
       "version_major": 2,
       "version_minor": 0
      },
      "text/plain": [
       "Drawing 1000 posterior samples:   0%|          | 0/1000 [00:00<?, ?it/s]"
      ]
     },
     "metadata": {},
     "output_type": "display_data"
    },
    {
     "data": {
      "application/vnd.jupyter.widget-view+json": {
       "model_id": "a597d1397053472886c8e08032feb449",
       "version_major": 2,
       "version_minor": 0
      },
      "text/plain": [
       "Running 1000 simulations in 1000 batches.:   0%|          | 0/1000 [00:00<?, ?it/s]"
      ]
     },
     "metadata": {},
     "output_type": "display_data"
    },
    {
     "name": "stdout",
     "output_type": "stream",
     "text": [
      "torch.Size([1000, 4, 68, 68])\n"
     ]
    },
    {
     "data": {
      "application/vnd.jupyter.widget-view+json": {
       "model_id": "b1b532fdcbaa424daeb9bc05d7ff097f",
       "version_major": 2,
       "version_minor": 0
      },
      "text/plain": [
       "Drawing 1000 posterior samples:   0%|          | 0/1000 [00:00<?, ?it/s]"
      ]
     },
     "metadata": {},
     "output_type": "display_data"
    },
    {
     "data": {
      "application/vnd.jupyter.widget-view+json": {
       "model_id": "ce2f167f356b4741888da825fe1101f9",
       "version_major": 2,
       "version_minor": 0
      },
      "text/plain": [
       "Running 1000 simulations in 1000 batches.:   0%|          | 0/1000 [00:00<?, ?it/s]"
      ]
     },
     "metadata": {},
     "output_type": "display_data"
    },
    {
     "name": "stdout",
     "output_type": "stream",
     "text": [
      "torch.Size([1000, 4, 68, 68])\n"
     ]
    },
    {
     "data": {
      "application/vnd.jupyter.widget-view+json": {
       "model_id": "e04724e185a647ac8ec03e969bd64d8b",
       "version_major": 2,
       "version_minor": 0
      },
      "text/plain": [
       "Drawing 1000 posterior samples:   0%|          | 0/1000 [00:00<?, ?it/s]"
      ]
     },
     "metadata": {},
     "output_type": "display_data"
    },
    {
     "data": {
      "application/vnd.jupyter.widget-view+json": {
       "model_id": "026af4573def40cdbc8a39270e2dc441",
       "version_major": 2,
       "version_minor": 0
      },
      "text/plain": [
       "Running 1000 simulations in 1000 batches.:   0%|          | 0/1000 [00:00<?, ?it/s]"
      ]
     },
     "metadata": {},
     "output_type": "display_data"
    },
    {
     "name": "stdout",
     "output_type": "stream",
     "text": [
      "torch.Size([1000, 4, 68, 68])\n"
     ]
    },
    {
     "data": {
      "application/vnd.jupyter.widget-view+json": {
       "model_id": "4d840b91024f453486b8b9d9742c2c07",
       "version_major": 2,
       "version_minor": 0
      },
      "text/plain": [
       "Drawing 1000 posterior samples:   0%|          | 0/1000 [00:00<?, ?it/s]"
      ]
     },
     "metadata": {},
     "output_type": "display_data"
    },
    {
     "data": {
      "application/vnd.jupyter.widget-view+json": {
       "model_id": "2eee5ca379a64709a9a49dfdc2f924aa",
       "version_major": 2,
       "version_minor": 0
      },
      "text/plain": [
       "Running 1000 simulations in 1000 batches.:   0%|          | 0/1000 [00:00<?, ?it/s]"
      ]
     },
     "metadata": {},
     "output_type": "display_data"
    },
    {
     "name": "stdout",
     "output_type": "stream",
     "text": [
      "torch.Size([1000, 4, 68, 68])\n"
     ]
    },
    {
     "data": {
      "application/vnd.jupyter.widget-view+json": {
       "model_id": "56da8214bfd84e689a4fb7e6f4b62c73",
       "version_major": 2,
       "version_minor": 0
      },
      "text/plain": [
       "Drawing 1000 posterior samples:   0%|          | 0/1000 [00:00<?, ?it/s]"
      ]
     },
     "metadata": {},
     "output_type": "display_data"
    },
    {
     "data": {
      "application/vnd.jupyter.widget-view+json": {
       "model_id": "9cbb3ef2738b4c5484413a388256a01e",
       "version_major": 2,
       "version_minor": 0
      },
      "text/plain": [
       "Running 1000 simulations in 1000 batches.:   0%|          | 0/1000 [00:00<?, ?it/s]"
      ]
     },
     "metadata": {},
     "output_type": "display_data"
    },
    {
     "name": "stdout",
     "output_type": "stream",
     "text": [
      "torch.Size([1000, 4, 68, 68])\n"
     ]
    },
    {
     "data": {
      "application/vnd.jupyter.widget-view+json": {
       "model_id": "74401593911641cea5a72440d4636d75",
       "version_major": 2,
       "version_minor": 0
      },
      "text/plain": [
       "Drawing 1000 posterior samples:   0%|          | 0/1000 [00:00<?, ?it/s]"
      ]
     },
     "metadata": {},
     "output_type": "display_data"
    },
    {
     "data": {
      "application/vnd.jupyter.widget-view+json": {
       "model_id": "64e14d1940a74866bf9da50e4c511ce8",
       "version_major": 2,
       "version_minor": 0
      },
      "text/plain": [
       "Running 1000 simulations in 1000 batches.:   0%|          | 0/1000 [00:00<?, ?it/s]"
      ]
     },
     "metadata": {},
     "output_type": "display_data"
    },
    {
     "name": "stdout",
     "output_type": "stream",
     "text": [
      "torch.Size([1000, 4, 68, 68])\n"
     ]
    },
    {
     "data": {
      "application/vnd.jupyter.widget-view+json": {
       "model_id": "ee4bacd43c5b4ad8a122a1c3aa46fde2",
       "version_major": 2,
       "version_minor": 0
      },
      "text/plain": [
       "Drawing 1000 posterior samples:   0%|          | 0/1000 [00:00<?, ?it/s]"
      ]
     },
     "metadata": {},
     "output_type": "display_data"
    },
    {
     "data": {
      "application/vnd.jupyter.widget-view+json": {
       "model_id": "4a75c9df6a1a46578e87aca20427dc78",
       "version_major": 2,
       "version_minor": 0
      },
      "text/plain": [
       "Running 1000 simulations in 1000 batches.:   0%|          | 0/1000 [00:00<?, ?it/s]"
      ]
     },
     "metadata": {},
     "output_type": "display_data"
    },
    {
     "name": "stdout",
     "output_type": "stream",
     "text": [
      "torch.Size([1000, 4, 68, 68])\n"
     ]
    },
    {
     "data": {
      "application/vnd.jupyter.widget-view+json": {
       "model_id": "429e1ad1ee2f4008b40a82ee7246afc1",
       "version_major": 2,
       "version_minor": 0
      },
      "text/plain": [
       "Drawing 1000 posterior samples:   0%|          | 0/1000 [00:00<?, ?it/s]"
      ]
     },
     "metadata": {},
     "output_type": "display_data"
    },
    {
     "data": {
      "application/vnd.jupyter.widget-view+json": {
       "model_id": "e4e78b5bd2a846e0b4f4c181fa2d3dfe",
       "version_major": 2,
       "version_minor": 0
      },
      "text/plain": [
       "Running 1000 simulations in 1000 batches.:   0%|          | 0/1000 [00:00<?, ?it/s]"
      ]
     },
     "metadata": {},
     "output_type": "display_data"
    },
    {
     "name": "stdout",
     "output_type": "stream",
     "text": [
      "torch.Size([1000, 4, 68, 68])\n"
     ]
    },
    {
     "data": {
      "application/vnd.jupyter.widget-view+json": {
       "model_id": "67c59f94d25e4502a8eada77a4e34be5",
       "version_major": 2,
       "version_minor": 0
      },
      "text/plain": [
       "Drawing 1000 posterior samples:   0%|          | 0/1000 [00:00<?, ?it/s]"
      ]
     },
     "metadata": {},
     "output_type": "display_data"
    },
    {
     "data": {
      "application/vnd.jupyter.widget-view+json": {
       "model_id": "cd5efe246c284a2ead1c9362f49214f6",
       "version_major": 2,
       "version_minor": 0
      },
      "text/plain": [
       "Running 1000 simulations in 1000 batches.:   0%|          | 0/1000 [00:00<?, ?it/s]"
      ]
     },
     "metadata": {},
     "output_type": "display_data"
    },
    {
     "name": "stdout",
     "output_type": "stream",
     "text": [
      "torch.Size([1000, 4, 68, 68])\n"
     ]
    },
    {
     "data": {
      "application/vnd.jupyter.widget-view+json": {
       "model_id": "623acd8cc70345d1baf40c59622c34a1",
       "version_major": 2,
       "version_minor": 0
      },
      "text/plain": [
       "Drawing 1000 posterior samples:   0%|          | 0/1000 [00:00<?, ?it/s]"
      ]
     },
     "metadata": {},
     "output_type": "display_data"
    },
    {
     "data": {
      "application/vnd.jupyter.widget-view+json": {
       "model_id": "dcedcb00a83f4e48a5013e63a6eb49c3",
       "version_major": 2,
       "version_minor": 0
      },
      "text/plain": [
       "Running 1000 simulations in 1000 batches.:   0%|          | 0/1000 [00:00<?, ?it/s]"
      ]
     },
     "metadata": {},
     "output_type": "display_data"
    },
    {
     "name": "stdout",
     "output_type": "stream",
     "text": [
      "torch.Size([1000, 4, 68, 68])\n"
     ]
    },
    {
     "data": {
      "application/vnd.jupyter.widget-view+json": {
       "model_id": "1ec57f02269a44beb221b3ec8be3806e",
       "version_major": 2,
       "version_minor": 0
      },
      "text/plain": [
       "Drawing 1000 posterior samples:   0%|          | 0/1000 [00:00<?, ?it/s]"
      ]
     },
     "metadata": {},
     "output_type": "display_data"
    },
    {
     "data": {
      "application/vnd.jupyter.widget-view+json": {
       "model_id": "52d863f069294d69acf54c8653347162",
       "version_major": 2,
       "version_minor": 0
      },
      "text/plain": [
       "Running 1000 simulations in 1000 batches.:   0%|          | 0/1000 [00:00<?, ?it/s]"
      ]
     },
     "metadata": {},
     "output_type": "display_data"
    },
    {
     "name": "stdout",
     "output_type": "stream",
     "text": [
      "torch.Size([1000, 4, 68, 68])\n"
     ]
    },
    {
     "data": {
      "application/vnd.jupyter.widget-view+json": {
       "model_id": "670da53344084a479753ef1c21bfc2e6",
       "version_major": 2,
       "version_minor": 0
      },
      "text/plain": [
       "Drawing 1000 posterior samples:   0%|          | 0/1000 [00:00<?, ?it/s]"
      ]
     },
     "metadata": {},
     "output_type": "display_data"
    },
    {
     "data": {
      "application/vnd.jupyter.widget-view+json": {
       "model_id": "1544cfe90ed64f77b47774011526ebec",
       "version_major": 2,
       "version_minor": 0
      },
      "text/plain": [
       "Running 1000 simulations in 1000 batches.:   0%|          | 0/1000 [00:00<?, ?it/s]"
      ]
     },
     "metadata": {},
     "output_type": "display_data"
    },
    {
     "name": "stdout",
     "output_type": "stream",
     "text": [
      "torch.Size([1000, 4, 68, 68])\n"
     ]
    },
    {
     "data": {
      "application/vnd.jupyter.widget-view+json": {
       "model_id": "f5288abe811d4a469027cbc85cee5792",
       "version_major": 2,
       "version_minor": 0
      },
      "text/plain": [
       "Drawing 1000 posterior samples:   0%|          | 0/1000 [00:00<?, ?it/s]"
      ]
     },
     "metadata": {},
     "output_type": "display_data"
    },
    {
     "data": {
      "application/vnd.jupyter.widget-view+json": {
       "model_id": "ae9e1e6f02884568bff77d69eef7526f",
       "version_major": 2,
       "version_minor": 0
      },
      "text/plain": [
       "Running 1000 simulations in 1000 batches.:   0%|          | 0/1000 [00:00<?, ?it/s]"
      ]
     },
     "metadata": {},
     "output_type": "display_data"
    },
    {
     "name": "stdout",
     "output_type": "stream",
     "text": [
      "torch.Size([1000, 4, 68, 68])\n"
     ]
    },
    {
     "data": {
      "application/vnd.jupyter.widget-view+json": {
       "model_id": "6278f8d110af4f9093d86d632ed48298",
       "version_major": 2,
       "version_minor": 0
      },
      "text/plain": [
       "Drawing 1000 posterior samples:   0%|          | 0/1000 [00:00<?, ?it/s]"
      ]
     },
     "metadata": {},
     "output_type": "display_data"
    },
    {
     "data": {
      "application/vnd.jupyter.widget-view+json": {
       "model_id": "ddb43609632b4973bfcb8f399c285066",
       "version_major": 2,
       "version_minor": 0
      },
      "text/plain": [
       "Running 1000 simulations in 1000 batches.:   0%|          | 0/1000 [00:00<?, ?it/s]"
      ]
     },
     "metadata": {},
     "output_type": "display_data"
    },
    {
     "name": "stdout",
     "output_type": "stream",
     "text": [
      "torch.Size([1000, 4, 68, 68])\n"
     ]
    },
    {
     "data": {
      "application/vnd.jupyter.widget-view+json": {
       "model_id": "c20cd7017346456ebd2b1099cde379f1",
       "version_major": 2,
       "version_minor": 0
      },
      "text/plain": [
       "Drawing 1000 posterior samples:   0%|          | 0/1000 [00:00<?, ?it/s]"
      ]
     },
     "metadata": {},
     "output_type": "display_data"
    },
    {
     "data": {
      "application/vnd.jupyter.widget-view+json": {
       "model_id": "20cafcda1855433ea6239dfcd610f0ed",
       "version_major": 2,
       "version_minor": 0
      },
      "text/plain": [
       "Running 1000 simulations in 1000 batches.:   0%|          | 0/1000 [00:00<?, ?it/s]"
      ]
     },
     "metadata": {},
     "output_type": "display_data"
    },
    {
     "name": "stdout",
     "output_type": "stream",
     "text": [
      "torch.Size([1000, 4, 68, 68])\n"
     ]
    },
    {
     "data": {
      "application/vnd.jupyter.widget-view+json": {
       "model_id": "dc3ee57bb7764145b5bdc8dd9610341d",
       "version_major": 2,
       "version_minor": 0
      },
      "text/plain": [
       "Drawing 1000 posterior samples:   0%|          | 0/1000 [00:00<?, ?it/s]"
      ]
     },
     "metadata": {},
     "output_type": "display_data"
    },
    {
     "data": {
      "application/vnd.jupyter.widget-view+json": {
       "model_id": "21f4fb350f60465290c7d987494c0c2d",
       "version_major": 2,
       "version_minor": 0
      },
      "text/plain": [
       "Running 1000 simulations in 1000 batches.:   0%|          | 0/1000 [00:00<?, ?it/s]"
      ]
     },
     "metadata": {},
     "output_type": "display_data"
    },
    {
     "name": "stdout",
     "output_type": "stream",
     "text": [
      "torch.Size([1000, 4, 68, 68])\n"
     ]
    },
    {
     "data": {
      "application/vnd.jupyter.widget-view+json": {
       "model_id": "d697191dab19491785de1b922abdf49e",
       "version_major": 2,
       "version_minor": 0
      },
      "text/plain": [
       "Drawing 1000 posterior samples:   0%|          | 0/1000 [00:00<?, ?it/s]"
      ]
     },
     "metadata": {},
     "output_type": "display_data"
    },
    {
     "data": {
      "application/vnd.jupyter.widget-view+json": {
       "model_id": "345720d9892a46d0ab3b54ba7fdc9625",
       "version_major": 2,
       "version_minor": 0
      },
      "text/plain": [
       "Running 1000 simulations in 1000 batches.:   0%|          | 0/1000 [00:00<?, ?it/s]"
      ]
     },
     "metadata": {},
     "output_type": "display_data"
    },
    {
     "name": "stdout",
     "output_type": "stream",
     "text": [
      "torch.Size([1000, 4, 68, 68])\n"
     ]
    },
    {
     "data": {
      "application/vnd.jupyter.widget-view+json": {
       "model_id": "683a8f8552734b24a0c121009d951b47",
       "version_major": 2,
       "version_minor": 0
      },
      "text/plain": [
       "Drawing 1000 posterior samples:   0%|          | 0/1000 [00:00<?, ?it/s]"
      ]
     },
     "metadata": {},
     "output_type": "display_data"
    },
    {
     "data": {
      "application/vnd.jupyter.widget-view+json": {
       "model_id": "13dfcfadb7aa4ce18c1dc0366bbf1260",
       "version_major": 2,
       "version_minor": 0
      },
      "text/plain": [
       "Running 1000 simulations in 1000 batches.:   0%|          | 0/1000 [00:00<?, ?it/s]"
      ]
     },
     "metadata": {},
     "output_type": "display_data"
    },
    {
     "name": "stdout",
     "output_type": "stream",
     "text": [
      "torch.Size([1000, 4, 68, 68])\n",
      "Save to /data/rajlab1/user_data/jin/MyResearch/SBI-SGM-FC/notebooks/new_sgm/../../mypkg/../results/rawfc_posteriorMRmulDiffNum_delta-theta-alpha-beta_l_num10000_densitynsf_MR2_noise_sd20_addv1/inf_res_fb.pkl\n"
     ]
    }
   ],
   "source": [
    "inf_res_fb = edict()\n",
    "for band in paras.bands:\n",
    "    inf_res_fb[f\"est_FCs_{band}\"] = []\n",
    "    inf_res_fb[f\"metrics_{band}\"] = []\n",
    "\n",
    "metrics = []\n",
    "for sub_idx in range(36):\n",
    "# get the cur brain\n",
    "    brain = Brain.Brain()\n",
    "    brain.add_connectome(DATA_ROOT) # grabs distance matrix\n",
    "    brain.reorder_connectome(brain.connectome, brain.distance_matrix)\n",
    "    brain.connectome =  ind_conn[:, :, sub_idx] # re-assign connectome to individual connectome\n",
    "    brain.bi_symmetric_c()\n",
    "    brain.reduce_extreme_dir()\n",
    "    \n",
    "    _simulate_data_sp = partial(_simulate_data, \n",
    "                                brain=brain, \n",
    "                                prior_bds=paras.prior_bds, \n",
    "                                freqranges=paras.freqranges,\n",
    "                                diag_ws=paras.diag_ws)\n",
    "    _simulate_data_wrapper, _ = prepare_for_sbi(_simulate_data_sp, prior)\n",
    "    \n",
    "    cur_posterior = load_pkl(sorted_fils[sub_idx], False)\n",
    "    _, cur_post_fcs = simulate_for_sbi(_simulate_data_wrapper, cur_posterior,\n",
    "                                        num_simulations=1000, \n",
    "                                        num_workers=50)\n",
    "    cur_post_fcs = cur_post_fcs.reshape(-1, 4, 68, 68)\n",
    "    print(cur_post_fcs.shape)\n",
    "    \n",
    "    for band_idx in range(4):\n",
    "        cur_obs_FC = np.abs(fcss[band_idx][sub_idx])\n",
    "        cur_est_FC = np.abs(cur_post_fcs.mean(axis=0).numpy())[band_idx]\n",
    "        inf_res_fb[f\"est_FCs_{paras.bands[band_idx]}\"].append(cur_est_FC)\n",
    "        inf_res_fb[f\"metrics_{paras.bands[band_idx]}\"].append(cal_metrics(cur_obs_FC, cur_est_FC))\n",
    "    \n",
    "save_pkl(sorted_fils[0].parent/\"inf_res_fb.pkl\", inf_res_fb)"
   ]
  },
  {
   "cell_type": "code",
   "execution_count": 60,
   "id": "497987ad",
   "metadata": {
    "ExecuteTime": {
     "end_time": "2023-08-25T15:06:17.811740Z",
     "start_time": "2023-08-25T15:06:17.772352Z"
    }
   },
   "outputs": [
    {
     "data": {
      "text/html": [
       "<div>\n",
       "<style scoped>\n",
       "    .dataframe tbody tr th:only-of-type {\n",
       "        vertical-align: middle;\n",
       "    }\n",
       "\n",
       "    .dataframe tbody tr th {\n",
       "        vertical-align: top;\n",
       "    }\n",
       "\n",
       "    .dataframe thead th {\n",
       "        text-align: right;\n",
       "    }\n",
       "</style>\n",
       "<table border=\"1\" class=\"dataframe\">\n",
       "  <thead>\n",
       "    <tr style=\"text-align: right;\">\n",
       "      <th></th>\n",
       "      <th>geo_dist</th>\n",
       "      <th>reg_r</th>\n",
       "      <th>lin_r</th>\n",
       "      <th>tau_r</th>\n",
       "      <th>sp_r</th>\n",
       "      <th>mse</th>\n",
       "      <th>reg_r_block</th>\n",
       "      <th>lin_r_block</th>\n",
       "    </tr>\n",
       "  </thead>\n",
       "  <tbody>\n",
       "    <tr>\n",
       "      <th>count</th>\n",
       "      <td>36.000000</td>\n",
       "      <td>36.000000</td>\n",
       "      <td>36.000000</td>\n",
       "      <td>36.000000</td>\n",
       "      <td>36.000000</td>\n",
       "      <td>36.000000</td>\n",
       "      <td>36.000000</td>\n",
       "      <td>36.000000</td>\n",
       "    </tr>\n",
       "    <tr>\n",
       "      <th>mean</th>\n",
       "      <td>0.612370</td>\n",
       "      <td>0.249573</td>\n",
       "      <td>0.193035</td>\n",
       "      <td>0.118527</td>\n",
       "      <td>0.175557</td>\n",
       "      <td>0.080814</td>\n",
       "      <td>0.220877</td>\n",
       "      <td>0.182398</td>\n",
       "    </tr>\n",
       "    <tr>\n",
       "      <th>std</th>\n",
       "      <td>0.028644</td>\n",
       "      <td>0.143071</td>\n",
       "      <td>0.120793</td>\n",
       "      <td>0.067956</td>\n",
       "      <td>0.099047</td>\n",
       "      <td>0.032183</td>\n",
       "      <td>0.133814</td>\n",
       "      <td>0.115576</td>\n",
       "    </tr>\n",
       "    <tr>\n",
       "      <th>min</th>\n",
       "      <td>0.556917</td>\n",
       "      <td>0.029420</td>\n",
       "      <td>0.019079</td>\n",
       "      <td>0.017633</td>\n",
       "      <td>0.026866</td>\n",
       "      <td>0.040106</td>\n",
       "      <td>0.018403</td>\n",
       "      <td>0.017007</td>\n",
       "    </tr>\n",
       "    <tr>\n",
       "      <th>25%</th>\n",
       "      <td>0.587506</td>\n",
       "      <td>0.116712</td>\n",
       "      <td>0.085821</td>\n",
       "      <td>0.065172</td>\n",
       "      <td>0.098355</td>\n",
       "      <td>0.059718</td>\n",
       "      <td>0.101973</td>\n",
       "      <td>0.080183</td>\n",
       "    </tr>\n",
       "    <tr>\n",
       "      <th>50%</th>\n",
       "      <td>0.613386</td>\n",
       "      <td>0.222736</td>\n",
       "      <td>0.169350</td>\n",
       "      <td>0.096166</td>\n",
       "      <td>0.143408</td>\n",
       "      <td>0.070477</td>\n",
       "      <td>0.191669</td>\n",
       "      <td>0.147038</td>\n",
       "    </tr>\n",
       "    <tr>\n",
       "      <th>75%</th>\n",
       "      <td>0.631543</td>\n",
       "      <td>0.387431</td>\n",
       "      <td>0.293068</td>\n",
       "      <td>0.164393</td>\n",
       "      <td>0.242173</td>\n",
       "      <td>0.095358</td>\n",
       "      <td>0.352320</td>\n",
       "      <td>0.304438</td>\n",
       "    </tr>\n",
       "    <tr>\n",
       "      <th>max</th>\n",
       "      <td>0.685076</td>\n",
       "      <td>0.478181</td>\n",
       "      <td>0.390522</td>\n",
       "      <td>0.303615</td>\n",
       "      <td>0.441765</td>\n",
       "      <td>0.168783</td>\n",
       "      <td>0.450564</td>\n",
       "      <td>0.396204</td>\n",
       "    </tr>\n",
       "  </tbody>\n",
       "</table>\n",
       "</div>"
      ],
      "text/plain": [
       "        geo_dist      reg_r      lin_r      tau_r       sp_r        mse  \\\n",
       "count  36.000000  36.000000  36.000000  36.000000  36.000000  36.000000   \n",
       "mean    0.612370   0.249573   0.193035   0.118527   0.175557   0.080814   \n",
       "std     0.028644   0.143071   0.120793   0.067956   0.099047   0.032183   \n",
       "min     0.556917   0.029420   0.019079   0.017633   0.026866   0.040106   \n",
       "25%     0.587506   0.116712   0.085821   0.065172   0.098355   0.059718   \n",
       "50%     0.613386   0.222736   0.169350   0.096166   0.143408   0.070477   \n",
       "75%     0.631543   0.387431   0.293068   0.164393   0.242173   0.095358   \n",
       "max     0.685076   0.478181   0.390522   0.303615   0.441765   0.168783   \n",
       "\n",
       "       reg_r_block  lin_r_block  \n",
       "count    36.000000    36.000000  \n",
       "mean      0.220877     0.182398  \n",
       "std       0.133814     0.115576  \n",
       "min       0.018403     0.017007  \n",
       "25%       0.101973     0.080183  \n",
       "50%       0.191669     0.147038  \n",
       "75%       0.352320     0.304438  \n",
       "max       0.450564     0.396204  "
      ]
     },
     "execution_count": 60,
     "metadata": {},
     "output_type": "execute_result"
    }
   ],
   "source": [
    "metrics_df = pd.DataFrame(inf_res_fb.metrics_theta);\n",
    "metrics_df.describe()"
   ]
  },
  {
   "cell_type": "code",
   "execution_count": null,
   "id": "d9a470d4",
   "metadata": {},
   "outputs": [],
   "source": []
  },
  {
   "cell_type": "code",
   "execution_count": null,
   "id": "8c8e5444",
   "metadata": {},
   "outputs": [],
   "source": []
  }
 ],
 "metadata": {
  "kernelspec": {
   "display_name": "Python 3 (ipykernel)",
   "language": "python",
   "name": "python3"
  },
  "language_info": {
   "codemirror_mode": {
    "name": "ipython",
    "version": 3
   },
   "file_extension": ".py",
   "mimetype": "text/x-python",
   "name": "python",
   "nbconvert_exporter": "python",
   "pygments_lexer": "ipython3",
   "version": "3.9.7"
  },
  "toc": {
   "base_numbering": 1,
   "nav_menu": {},
   "number_sections": true,
   "sideBar": true,
   "skip_h1_title": false,
   "title_cell": "Table of Contents",
   "title_sidebar": "Contents",
   "toc_cell": false,
   "toc_position": {
    "height": "calc(100% - 180px)",
    "left": "10px",
    "top": "150px",
    "width": "165px"
   },
   "toc_section_display": true,
   "toc_window_display": false
  }
 },
 "nbformat": 4,
 "nbformat_minor": 5
}
