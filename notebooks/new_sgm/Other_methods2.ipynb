{
 "cells": [
  {
   "cell_type": "markdown",
   "id": "792e93d7",
   "metadata": {},
   "source": [
    "This file include the implementation of other methods for SGM-FC\n",
    "\n",
    "1. eigenmapping\n",
    "\n",
    "2. raw SC"
   ]
  },
  {
   "cell_type": "code",
   "execution_count": null,
   "id": "eceb0190",
   "metadata": {},
   "outputs": [],
   "source": []
  },
  {
   "cell_type": "markdown",
   "id": "15b93230",
   "metadata": {},
   "source": [
    "# Import some pkgs"
   ]
  },
  {
   "cell_type": "code",
   "execution_count": 1,
   "id": "a5c4bef0",
   "metadata": {
    "ExecuteTime": {
     "end_time": "2023-09-27T04:24:06.980008Z",
     "start_time": "2023-09-27T04:24:05.576936Z"
    }
   },
   "outputs": [],
   "source": [
    "import sys\n",
    "sys.path.append(\"../../mypkg\")\n",
    "\n",
    "import scipy\n",
    "import itertools\n",
    "\n",
    "import numpy as np\n",
    "import pandas as pd\n",
    "import xarray as xr\n",
    "import matplotlib.pyplot as plt\n",
    "import seaborn as sns\n",
    "\n",
    "from tqdm import trange\n",
    "from scipy.io import loadmat\n",
    "from functools import partial\n",
    "from easydict import EasyDict as edict\n",
    "from collections import defaultdict as ddict\n",
    "from IPython.display import display\n",
    "%load_ext autoreload\n",
    "%autoreload 2"
   ]
  },
  {
   "cell_type": "code",
   "execution_count": 2,
   "id": "129d24a5",
   "metadata": {
    "ExecuteTime": {
     "end_time": "2023-09-27T04:24:08.519487Z",
     "start_time": "2023-09-27T04:24:06.981499Z"
    }
   },
   "outputs": [],
   "source": [
    "# SBI and torch\n",
    "from sbi.inference.base import infer\n",
    "from sbi.inference import SNPE, prepare_for_sbi, simulate_for_sbi\n",
    "from sbi import analysis\n",
    "from sbi.utils.get_nn_models import posterior_nn\n",
    "from sbi import utils as sutils\n",
    "\n",
    "import torch.nn as nn\n",
    "import torch.nn.functional as F\n",
    "import torch\n",
    "from torch.distributions.multivariate_normal import MultivariateNormal"
   ]
  },
  {
   "cell_type": "code",
   "execution_count": 3,
   "id": "513f09d5",
   "metadata": {
    "ExecuteTime": {
     "end_time": "2023-09-27T04:24:08.591834Z",
     "start_time": "2023-09-27T04:24:08.520560Z"
    }
   },
   "outputs": [],
   "source": [
    "# my own fns\n",
    "from brain import Brain\n",
    "from FC_utils import build_fc_freq_m\n",
    "from constants import RES_ROOT, DATA_ROOT, FIG_ROOT\n",
    "from utils.misc import load_pkl, save_pkl\n",
    "from utils.reparam import theta_raw_2out, logistic_np, logistic_torch\n",
    "from utils.measures import geodesic_dist, reg_R_fn, lin_R_fn, lap_mat_fn\n",
    "\n",
    "plt.style.use(FIG_ROOT/\"base.mplstyle\")"
   ]
  },
  {
   "cell_type": "code",
   "execution_count": null,
   "id": "d5b87c78",
   "metadata": {
    "ExecuteTime": {
     "end_time": "2022-11-08T00:03:09.655902Z",
     "start_time": "2022-11-08T00:03:09.466344Z"
    }
   },
   "outputs": [],
   "source": []
  },
  {
   "cell_type": "markdown",
   "id": "820f27bd",
   "metadata": {},
   "source": [
    "# Some fns"
   ]
  },
  {
   "cell_type": "code",
   "execution_count": 4,
   "id": "9daeac1d",
   "metadata": {
    "ExecuteTime": {
     "end_time": "2023-09-27T04:24:08.627359Z",
     "start_time": "2023-09-27T04:24:08.594829Z"
    }
   },
   "outputs": [],
   "source": [
    "_minmax_vec = lambda x: (x-np.min(x))/(np.max(x)-np.min(x));\n",
    "_remove_norm = lambda x: x/np.linalg.norm(x)\n",
    "_std_vec = lambda x: (x-np.mean(x))/np.std(x)\n",
    "_remove_scale = _minmax_vec\n",
    "uptri_idxs = np.triu_indices(68, k=1);\n",
    "# transfer vec to a sym mat\n",
    "def _vec_2mat(vec):\n",
    "    mat = np.zeros((68, 68))\n",
    "    mat[np.triu_indices(68, k = 1)] = vec\n",
    "    mat = mat + mat.T\n",
    "    return mat"
   ]
  },
  {
   "cell_type": "code",
   "execution_count": 5,
   "id": "36cea57e",
   "metadata": {
    "ExecuteTime": {
     "end_time": "2023-09-27T04:24:08.655088Z",
     "start_time": "2023-09-27T04:24:08.628632Z"
    }
   },
   "outputs": [],
   "source": [
    "def _get_base_metrics(fc, num_rep=1000):\n",
    "    \"\"\"Get baseline mse via random shuffling.\n",
    "    \"\"\"\n",
    "    def _mse_err(ele1, ele2):\n",
    "        fc1_c = _remove_scale(ele1)\n",
    "        fc2_c = _remove_scale(ele2)\n",
    "        return np.mean((fc1_c-fc2_c)**2)\n",
    "    \n",
    "    idxs = np.triu_indices_from(fc, k=1)\n",
    "    eles = fc[idxs]\n",
    "    eles_mm = _remove_scale(eles)\n",
    "    \n",
    "    metrics = edict()\n",
    "    mses = []\n",
    "    linrs = []\n",
    "    for ix in range(num_rep):\n",
    "        rand_eles_mm = np.random.permutation(eles_mm)\n",
    "        mses.append(np.mean((rand_eles_mm-eles_mm)**2))\n",
    "        linrs.append(lin_R_fn(rand_eles_mm.reshape(1, -1), \n",
    "                              eles_mm.reshape(1, -1))[0])\n",
    "    metrics.mse = [np.mean(mses), np.std(mses)]\n",
    "    metrics.linr = [np.mean(linrs), np.std(linrs)]\n",
    "    return metrics"
   ]
  },
  {
   "cell_type": "code",
   "execution_count": 6,
   "id": "a8223784",
   "metadata": {
    "ExecuteTime": {
     "end_time": "2023-09-27T04:24:08.990897Z",
     "start_time": "2023-09-27T04:24:08.949579Z"
    }
   },
   "outputs": [],
   "source": [
    "from scipy.stats import kendalltau\n",
    "from scipy.stats import spearmanr\n",
    "\n",
    "def divide_fc(fc):\n",
    "    \"\"\"Divide the FC into three blocks and vectorize them\n",
    "    \"\"\"\n",
    "    size_fc = len(fc)\n",
    "    hs_fc = int(size_fc/2)\n",
    "    fc_block1 = fc[:hs_fc, :hs_fc]\n",
    "    fc_block2 = fc[hs_fc:, hs_fc:];\n",
    "    fc_block3 = fc[:hs_fc, hs_fc:];\n",
    "    vec1 = _remove_scale(fc_block1[np.triu_indices(hs_fc, k = 1)])\n",
    "    vec2 = _remove_scale(fc_block2[np.triu_indices(hs_fc, k = 1)])\n",
    "    vec3 = _remove_scale(fc_block3.flatten())\n",
    "    return vec1, vec2, vec3\n",
    "\n",
    "def cal_metrics(fc1, fc2):\n",
    "    \"\"\"Calculate the distance between fc1 and fc2, including\n",
    "        1. geodesic dist\n",
    "        2. pearson's R\n",
    "        3. lin R\n",
    "        4. pearson's R after divide the FC into three blocks\n",
    "        5. lin R after divide the FC into three blocks\n",
    "    \"\"\"\n",
    "    fc1 = fc1.astype(np.float64)\n",
    "    fc2 = fc2.astype(np.float64)\n",
    "    size_fc = len(fc1)\n",
    "    \n",
    "    fc1_c = _remove_scale(fc1[np.triu_indices(size_fc, k=1)]).reshape(1, -1)\n",
    "    fc2_c = _remove_scale(fc2[np.triu_indices(size_fc, k=1)]).reshape(1, -1)\n",
    "    \n",
    "    # for geodedic\n",
    "    #fc1_g = fc1/np.linalg.norm(fc1) + np.eye(size_fc)\n",
    "    #fc2_g = fc2/np.linalg.norm(fc2) + np.eye(size_fc)\n",
    "    #fc1_g = lap_mat_fn(_vec_2mat(fc1_c)) # I think the geodesic dist should be based on results after minmax\n",
    "    #fc2_g = lap_mat_fn(_vec_2mat(fc2_c))\n",
    "    fc1_g = _vec_2mat(fc1_c.reshape(-1)) + np.eye(size_fc)\n",
    "    fc2_g = _vec_2mat(fc2_c.reshape(-1)) + np.eye(size_fc)\n",
    "    \n",
    "    \n",
    "    # all metrics\n",
    "    geo_dist = geodesic_dist(fc1_g, fc2_g)\n",
    "    reg_r = reg_R_fn(fc1_c, fc2_c)\n",
    "    lin_r = lin_R_fn(fc1_c, fc2_c)\n",
    "    mse = np.mean((fc1_c-fc2_c)**2)\n",
    "    tau_r = kendalltau(fc1_c.reshape(-1), fc2_c.reshape(-1))[0]\n",
    "    sp_r = spearmanr(fc1_c.reshape(-1), fc2_c.reshape(-1))[0]\n",
    "    \n",
    "    # block wise metrics\n",
    "    blocks1 = divide_fc(fc1)\n",
    "    blocks2 = divide_fc(fc2)\n",
    "    reg_r_block = [reg_R_fn(vec1.reshape(1, -1), vec2.reshape(1, -1))[0] \n",
    "                   for vec1, vec2 in zip(blocks1, blocks2)]\n",
    "    lin_r_block = [lin_R_fn(vec1.reshape(1, -1), vec2.reshape(1, -1))[0] \n",
    "                   for vec1, vec2 in zip(blocks1, blocks2)]\n",
    "    \n",
    "    res = edict()\n",
    "    res.geo_dist = geo_dist\n",
    "    res.reg_r = reg_r[0]\n",
    "    res.lin_r = lin_r[0]\n",
    "    res.tau_r = tau_r\n",
    "    res.sp_r = sp_r \n",
    "    res.mse = mse\n",
    "    res.reg_r_block = np.mean(reg_r_block)\n",
    "    res.lin_r_block = np.mean(lin_r_block)\n",
    "    return res\n",
    "\n",
    "def cal_metrics_batch(fc1s, fc2s):\n",
    "    \"\"\"fc1s, fc2s: num_fc x 68 x 68\n",
    "    \"\"\"\n",
    "    ress = ddict(list)\n",
    "    for ix in range(len(fc1s)):\n",
    "        fc_t = fc2s[ix]\n",
    "        fc_e = fc1s[ix]\n",
    "        res = cal_metrics(fc_t, fc_e)\n",
    "        for key, v in res.items():\n",
    "            ress[key].append(v)\n",
    "    \n",
    "    return ress"
   ]
  },
  {
   "cell_type": "code",
   "execution_count": 7,
   "id": "745474a7",
   "metadata": {
    "ExecuteTime": {
     "end_time": "2023-09-27T04:24:09.839221Z",
     "start_time": "2023-09-27T04:24:09.804045Z"
    }
   },
   "outputs": [],
   "source": [
    "## both are not used (on Sep 8, 2023)\n",
    "#def _preprocess_sc(sc):\n",
    "#    sc = sc.copy()\n",
    "#    max_v = np.quantile(sc, 0.99);\n",
    "#    sc[sc>max_v] = max_v\n",
    "#    #sc[sc <= 0.01*max_v] = 0\n",
    "#    return sc\n",
    "#def _preprocess_fc(fc):\n",
    "#    fc = fc.copy()\n",
    "#    #fc[fc<=0.2*fc.max()] = 0\n",
    "#    return fc\n",
    "#"
   ]
  },
  {
   "cell_type": "code",
   "execution_count": null,
   "id": "52ddcd73",
   "metadata": {},
   "outputs": [],
   "source": []
  },
  {
   "cell_type": "markdown",
   "id": "1f00449d",
   "metadata": {},
   "source": [
    "# Load data and params"
   ]
  },
  {
   "cell_type": "code",
   "execution_count": 8,
   "id": "e689ddd5",
   "metadata": {
    "ExecuteTime": {
     "end_time": "2023-09-27T04:24:11.469638Z",
     "start_time": "2023-09-27T04:24:11.429823Z"
    }
   },
   "outputs": [
    {
     "data": {
      "text/plain": [
       "['alpha']"
      ]
     },
     "execution_count": 8,
     "metadata": {},
     "output_type": "execute_result"
    }
   ],
   "source": [
    "bds = [\"delta\", \"theta\", \"alpha\", \"beta_l\"]\n",
    "bds = [\"alpha\"]"
   ]
  },
  {
   "cell_type": "code",
   "execution_count": 9,
   "id": "1fa0d47e",
   "metadata": {
    "ExecuteTime": {
     "end_time": "2023-09-27T04:24:12.502338Z",
     "start_time": "2023-09-27T04:24:12.464770Z"
    }
   },
   "outputs": [],
   "source": [
    "# em FC\n",
    "fc_root = RES_ROOT/\"emp_fcs2\"\n",
    "def _get_fc(sub_ix, bd):\n",
    "    fil = list(fc_root.rglob(f\"*{bd}*100/sub{sub_ix}.pkl\"))[0]\n",
    "    return np.abs(load_pkl(fil, verbose=False))"
   ]
  },
  {
   "cell_type": "code",
   "execution_count": 10,
   "id": "37884bc6",
   "metadata": {
    "ExecuteTime": {
     "end_time": "2023-09-27T04:24:14.030494Z",
     "start_time": "2023-09-27T04:24:13.993074Z"
    }
   },
   "outputs": [],
   "source": [
    "# fc from NMM\n",
    "def _get_nmm_fc(sub_ix, bd):\n",
    "    nmm_fc_root = RES_ROOT/f\"NMM_{bd}_results\"\n",
    "    fil = list(nmm_fc_root.glob(f\"best_fc{sub_ix}.pkl\"))[0]\n",
    "    return np.abs(load_pkl(fil, verbose=False))"
   ]
  },
  {
   "cell_type": "code",
   "execution_count": 11,
   "id": "00510fdf",
   "metadata": {
    "ExecuteTime": {
     "end_time": "2023-09-27T04:24:16.236769Z",
     "start_time": "2023-09-27T04:24:16.199933Z"
    }
   },
   "outputs": [],
   "source": [
    "# fc from ANN\n",
    "def _get_ann_fc(sub_ix, bd):\n",
    "    fc_root = RES_ROOT/f\"rawfc2ep100_ANN_{bd}_addv1\"\n",
    "    fil = list(fc_root.glob(f\"ind{sub_ix}.pkl\"))[0]\n",
    "    return np.abs(load_pkl(fil, verbose=False).bestfc[:68, :68])\n"
   ]
  },
  {
   "cell_type": "code",
   "execution_count": 12,
   "id": "d466d8a0",
   "metadata": {
    "ExecuteTime": {
     "end_time": "2023-09-27T04:24:17.032963Z",
     "start_time": "2023-09-27T04:24:16.996828Z"
    }
   },
   "outputs": [],
   "source": [
    "\n",
    "def _add_v2con(cur_ind_conn):\n",
    "    cur_ind_conn = cur_ind_conn.copy()\n",
    "    add_v = np.quantile(cur_ind_conn, 0.99)*0.01 # tuning 0.1\n",
    "    np.fill_diagonal(cur_ind_conn[:34, 34:68], np.diag(cur_ind_conn[:34, 34:68]) + add_v)\n",
    "    np.fill_diagonal(cur_ind_conn[34:68, :34], np.diag(cur_ind_conn[34:68, :34]) + add_v)\n",
    "    np.fill_diagonal(cur_ind_conn[68:77, 77:], np.diag(cur_ind_conn[68:77, 77:]) + add_v)\n",
    "    np.fill_diagonal(cur_ind_conn[77:, 68:77], np.diag(cur_ind_conn[77:, 68:77]) + add_v)\n",
    "    return cur_ind_conn\n"
   ]
  },
  {
   "cell_type": "code",
   "execution_count": 13,
   "id": "a256cf45",
   "metadata": {
    "ExecuteTime": {
     "end_time": "2023-09-27T04:24:18.660208Z",
     "start_time": "2023-09-27T04:24:17.591932Z"
    }
   },
   "outputs": [
    {
     "data": {
      "text/plain": [
       "(36, 68, 68)"
      ]
     },
     "execution_count": 13,
     "metadata": {},
     "output_type": "execute_result"
    }
   ],
   "source": [
    "# SC\n",
    "ind_conn_xr = xr.open_dataarray(DATA_ROOT/'individual_connectomes_reordered.nc')\n",
    "ind_conn = ind_conn_xr.values;\n",
    "#scs = ind_conn.transpose(2, 0, 1)[:, :68, :68];\n",
    "#scs = np.array([_preprocess_sc(sc) for sc in scs]);\n",
    "\n",
    "scs = []\n",
    "for cur_ind_idx in range(36):\n",
    "    # create spectrome brain:\n",
    "    brain = Brain.Brain()\n",
    "    brain.add_connectome(DATA_ROOT) # grabs distance matrix\n",
    "    # re-ordering for DK atlas and normalizing the connectomes:\n",
    "    brain.reorder_connectome(brain.connectome, brain.distance_matrix)\n",
    "    brain.connectome =  ind_conn[:, :, cur_ind_idx] # re-assign connectome to individual connectome\n",
    "    brain.bi_symmetric_c()\n",
    "    brain.reduce_extreme_dir()\n",
    "    sc = brain.reducedConnectome\n",
    "    sc = _add_v2con(sc)\n",
    "    #sc = ind_conn[:, :, cur_ind_idx]\n",
    "    scs.append(sc[:68, :68])\n",
    "scs = np.array(scs)\n",
    "scs.shape"
   ]
  },
  {
   "cell_type": "code",
   "execution_count": 14,
   "id": "41dac87c",
   "metadata": {
    "ExecuteTime": {
     "end_time": "2023-09-27T04:24:22.971118Z",
     "start_time": "2023-09-27T04:24:18.839946Z"
    }
   },
   "outputs": [
    {
     "name": "stderr",
     "output_type": "stream",
     "text": [
      "alpha: 100%|███████████████████████████████████████████████████████████████████████████████████████████████████████████████████████████████████| 36/36 [00:04<00:00,  8.80it/s]\n"
     ]
    }
   ],
   "source": [
    "base_mses = ddict(list)\n",
    "base_linrs = ddict(list)\n",
    "for band in bds:\n",
    "    for sub_ix in trange(36, desc=f\"{band}\"):\n",
    "        metrics = _get_base_metrics(_get_fc(sub_ix, band)) \n",
    "        base_mses[band].append(metrics.mse)\n",
    "        base_linrs[band].append(metrics.linr)"
   ]
  },
  {
   "cell_type": "code",
   "execution_count": null,
   "id": "81aef06f",
   "metadata": {},
   "outputs": [],
   "source": []
  },
  {
   "cell_type": "markdown",
   "id": "141adb91",
   "metadata": {},
   "source": [
    "# Eigenmapping"
   ]
  },
  {
   "cell_type": "code",
   "execution_count": 15,
   "id": "a1af52ee",
   "metadata": {
    "ExecuteTime": {
     "end_time": "2023-09-27T04:24:24.173996Z",
     "start_time": "2023-09-27T04:24:24.129922Z"
    }
   },
   "outputs": [],
   "source": [
    "from scipy.optimize import minimize\n",
    "class EigMapping():\n",
    "    \"\"\"Do eigenmapping approx from SC to FC.\n",
    "    \"\"\"\n",
    "    def __init__(self, sc, init_ps, rescale_fn=lambda x: x):\n",
    "        \"\"\"args:\n",
    "            sc: the SC matrix\n",
    "            init_ps: Initial guess of the parameters, a list of two\n",
    "            rescale_fn: The fn for rescale fc, default is the identity, minmax does not converge.\n",
    "        \"\"\"\n",
    "        \n",
    "        self.init_ps = init_ps\n",
    "        self.eigvals, self.eigvecs = self._get_eigres(sc)\n",
    "        self.rescale_fn = rescale_fn\n",
    "        self.opt_ps = None\n",
    "         \n",
    "    def _get_eigres(self, sc):\n",
    "        eigvals, eigvecs = np.linalg.eig(sc);\n",
    "        sort_idxs = np.argsort(-np.abs(eigvals))\n",
    "        eigvals, eigvecs = eigvals[sort_idxs], eigvecs[:, sort_idxs]\n",
    "        return eigvals, eigvecs\n",
    "        \n",
    "    def _recon_fc(self, ps=None):\n",
    "        p1, p2 = ps\n",
    "        new_eigvals = np.exp(-p1*self.eigvals/np.median(self.eigvals))+p2\n",
    "        rec_fc = self.eigvecs @ np.diag(new_eigvals) @ self.eigvecs.T\n",
    "        return rec_fc - np.diag(np.diag(rec_fc))\n",
    "    \n",
    "    def opt(self, fc):\n",
    "        def fun(ps):\n",
    "            newfc = self._recon_fc(ps)\n",
    "            idxs = np.triu_indices_from(newfc, k=1)\n",
    "            return np.mean((self.rescale_fn(fc[idxs])-\n",
    "                            self.rescale_fn(newfc[idxs]))**2)\n",
    "        res = minimize(fun, self.init_ps, bounds= ((0, 1000), (-1000, 1000)), \n",
    "                      options=dict(disp=False))\n",
    "        self.opt_ps = res.x\n",
    "        if not res.success:\n",
    "            print(f\"May not converge, {res.message}.\")\n",
    "            \n",
    "    def get_optfc(self, fc):\n",
    "        if self.opt_ps is None:\n",
    "            self.opt(fc)\n",
    "        return self._recon_fc(self.opt_ps)"
   ]
  },
  {
   "cell_type": "code",
   "execution_count": 16,
   "id": "ad9111e9",
   "metadata": {
    "ExecuteTime": {
     "end_time": "2023-09-27T04:24:26.701733Z",
     "start_time": "2023-09-27T04:24:25.169483Z"
    }
   },
   "outputs": [
    {
     "name": "stderr",
     "output_type": "stream",
     "text": [
      "alpha: 100%|███████████████████████████████████████████████████████████████████████████████████████████████████████████████████████████████████| 36/36 [00:01<00:00, 24.16it/s]\n"
     ]
    }
   ],
   "source": [
    "estfcs_eig = edict()\n",
    "band = \"delta\"\n",
    "for band in bds:\n",
    "    tmp= []\n",
    "    for sub_ix in trange(scs.shape[0], desc=f\"{band}\"):\n",
    "        opt = EigMapping(scs[sub_ix], [0, 0]) \n",
    "        curfc = _get_fc(sub_ix, band)\n",
    "        tmp.append(opt.get_optfc(curfc));\n",
    "    estfcs_eig[band] = np.array(tmp)"
   ]
  },
  {
   "cell_type": "markdown",
   "id": "7e791a96",
   "metadata": {},
   "source": [
    "# Compare all three methods"
   ]
  },
  {
   "cell_type": "code",
   "execution_count": 22,
   "id": "b7c499c9",
   "metadata": {
    "ExecuteTime": {
     "end_time": "2023-09-27T04:25:44.872042Z",
     "start_time": "2023-09-27T04:25:43.149691Z"
    }
   },
   "outputs": [
    {
     "name": "stdout",
     "output_type": "stream",
     "text": [
      "Results of alpha\n"
     ]
    },
    {
     "data": {
      "text/html": [
       "<div>\n",
       "<style scoped>\n",
       "    .dataframe tbody tr th:only-of-type {\n",
       "        vertical-align: middle;\n",
       "    }\n",
       "\n",
       "    .dataframe tbody tr th {\n",
       "        vertical-align: top;\n",
       "    }\n",
       "\n",
       "    .dataframe thead th {\n",
       "        text-align: right;\n",
       "    }\n",
       "</style>\n",
       "<table border=\"1\" class=\"dataframe\">\n",
       "  <thead>\n",
       "    <tr style=\"text-align: right;\">\n",
       "      <th></th>\n",
       "      <th>mse</th>\n",
       "      <th>mse_std</th>\n",
       "      <th>lin_r</th>\n",
       "      <th>lin_r_std</th>\n",
       "      <th>geo_dist</th>\n",
       "      <th>reg_r</th>\n",
       "    </tr>\n",
       "  </thead>\n",
       "  <tbody>\n",
       "    <tr>\n",
       "      <th>SGM</th>\n",
       "      <td>0.054775</td>\n",
       "      <td>-20.756269</td>\n",
       "      <td>0.253625</td>\n",
       "      <td>12.207798</td>\n",
       "      <td>18.469871</td>\n",
       "      <td>0.284117</td>\n",
       "    </tr>\n",
       "    <tr>\n",
       "      <th>Eig</th>\n",
       "      <td>0.066192</td>\n",
       "      <td>-15.151915</td>\n",
       "      <td>0.324276</td>\n",
       "      <td>15.607008</td>\n",
       "      <td>17.230945</td>\n",
       "      <td>0.419054</td>\n",
       "    </tr>\n",
       "    <tr>\n",
       "      <th>SC</th>\n",
       "      <td>0.088551</td>\n",
       "      <td>-3.968723</td>\n",
       "      <td>0.318969</td>\n",
       "      <td>15.354239</td>\n",
       "      <td>18.487931</td>\n",
       "      <td>0.429463</td>\n",
       "    </tr>\n",
       "  </tbody>\n",
       "</table>\n",
       "</div>"
      ],
      "text/plain": [
       "          mse    mse_std     lin_r  lin_r_std   geo_dist     reg_r\n",
       "SGM  0.054775 -20.756269  0.253625  12.207798  18.469871  0.284117\n",
       "Eig  0.066192 -15.151915  0.324276  15.607008  17.230945  0.419054\n",
       "SC   0.088551  -3.968723  0.318969  15.354239  18.487931  0.429463"
      ]
     },
     "metadata": {},
     "output_type": "display_data"
    }
   ],
   "source": [
    "def _get_metric_std(df, base_mse, base_linr):\n",
    "    base_mse = np.array(base_mse)\n",
    "    base_linr = np.array(base_linr)\n",
    "    df[\"mse_std\"] = (df[\"mse\"] - base_mse[:, 0])/base_mse[:, 1]\n",
    "    df[\"lin_r_std\"] = (df[\"lin_r\"] - base_linr[:, 0])/base_linr[:, 1]\n",
    "    return df\n",
    "\n",
    "key_names = ['mse', \"mse_std\", 'lin_r', 'lin_r_std', 'geo_dist',  'reg_r']\n",
    "#key_names = ['mse', \"mse_std\", 'lin_r', 'lin_r_std', 'geo_dist', \n",
    "#             'reg_r', 'tau_r', 'sp_r', 'reg_r_block', \"lin_r_block\"]\n",
    "for band in bds:\n",
    "    my_res = load_pkl(RES_ROOT/f\"rawfc2ep100_posteriorMRmul_{band}_num1000_\"\n",
    "                               f\"densitynsf_MR4_noise_sd40_addv1/inf_res_fb.pkl\", \n",
    "                   verbose=False);\n",
    "    estfcs = np.array([est_FC for est_FC in my_res.est_FCs]);\n",
    "    empfcs = np.array([_get_fc(sub_ix, band) for sub_ix in range(36)]);\n",
    "    \n",
    "    my_res = pd.DataFrame(cal_metrics_batch(estfcs, empfcs));\n",
    "    eig_res = pd.DataFrame(cal_metrics_batch(estfcs_eig[band], empfcs))\n",
    "    sc_res = pd.DataFrame(cal_metrics_batch(scs, empfcs));\n",
    "    \n",
    "    my_res = _get_metric_std(my_res, base_mses[band], base_linrs[band])\n",
    "    eig_res = _get_metric_std(eig_res, base_mses[band], base_linrs[band])\n",
    "    sc_res = _get_metric_std(sc_res, base_mses[band], base_linrs[band])\n",
    "    out_df = pd.DataFrame(\n",
    "            {\n",
    "                \"SGM\": my_res.mean()[key_names],\n",
    "                \"Eig\": eig_res.mean()[key_names],\n",
    "                \"SC\": sc_res.mean()[key_names], \n",
    "            }\n",
    "        ).T\n",
    "    print(f\"Results of {band}\")\n",
    "    display(out_df)"
   ]
  },
  {
   "cell_type": "code",
   "execution_count": null,
   "id": "38b1b8c9",
   "metadata": {},
   "outputs": [],
   "source": []
  },
  {
   "cell_type": "markdown",
   "id": "82710291",
   "metadata": {},
   "source": [
    "# Check"
   ]
  },
  {
   "cell_type": "code",
   "execution_count": 43,
   "id": "28a01bee",
   "metadata": {
    "ExecuteTime": {
     "end_time": "2023-09-25T20:54:56.589950Z",
     "start_time": "2023-09-25T20:54:55.574959Z"
    }
   },
   "outputs": [],
   "source": [
    "band = \"alpha\"\n",
    "my_res = load_pkl(RES_ROOT/f\"rawfc2ep100_posteriorMRmul_{band}_num1000_\"\n",
    "                           f\"densitynsf_MR3_noise_sd20_addv1/inf_res_fb.pkl\",  verbose=False);\n",
    "estfcs = np.array(my_res.est_FCs);\n",
    "empfcs = np.array([_get_fc(sub_ix, band) for sub_ix in range(36)]);\n",
    "nmmfcs = np.array([_get_nmm_fc(sub_ix, band) for sub_ix in range(36)]);"
   ]
  },
  {
   "cell_type": "code",
   "execution_count": 44,
   "id": "4ff46b83",
   "metadata": {
    "ExecuteTime": {
     "end_time": "2023-09-25T20:55:10.120146Z",
     "start_time": "2023-09-25T20:55:10.067551Z"
    }
   },
   "outputs": [],
   "source": [
    "fc0 = empfcs[0]\n",
    "fc1 = estfcs[0]\n",
    "fc2 = nmmfcs[0]\n",
    "sc = scs[0];\n",
    "\n",
    "vec0 =  _remove_scale(fc0[uptri_idxs])\n",
    "vec1 =  _remove_scale(fc1[uptri_idxs])\n",
    "vec2 =  _remove_scale(fc2[uptri_idxs])\n",
    "vecsc =  _remove_scale(sc[uptri_idxs]);"
   ]
  },
  {
   "cell_type": "code",
   "execution_count": 92,
   "id": "5f7b3403",
   "metadata": {
    "ExecuteTime": {
     "end_time": "2023-09-25T21:05:29.559156Z",
     "start_time": "2023-09-25T21:05:29.520311Z"
    }
   },
   "outputs": [],
   "source": [
    "def _tmp(vec):\n",
    "    print(np.median(vec), np.std(vec))"
   ]
  },
  {
   "cell_type": "code",
   "execution_count": 93,
   "id": "9bbf3ae0",
   "metadata": {
    "ExecuteTime": {
     "end_time": "2023-09-25T21:05:29.887741Z",
     "start_time": "2023-09-25T21:05:29.848340Z"
    }
   },
   "outputs": [
    {
     "name": "stdout",
     "output_type": "stream",
     "text": [
      "0.158861729468861 0.21162777980069344\n",
      "0.13239707 0.12834057\n",
      "0.0021622301630701297 0.21638103821338714\n"
     ]
    },
    {
     "data": {
      "text/plain": [
       "(None, None, None)"
      ]
     },
     "execution_count": 93,
     "metadata": {},
     "output_type": "execute_result"
    }
   ],
   "source": [
    "_tmp(vec0), _tmp(vec1),_tmp(vecsc)"
   ]
  },
  {
   "cell_type": "code",
   "execution_count": 48,
   "id": "98af21d8",
   "metadata": {
    "ExecuteTime": {
     "end_time": "2023-09-25T20:56:09.297094Z",
     "start_time": "2023-09-25T20:56:09.259268Z"
    }
   },
   "outputs": [
    {
     "data": {
      "text/plain": [
       "(array([0.29677126]), array([0.39911743]))"
      ]
     },
     "execution_count": 48,
     "metadata": {},
     "output_type": "execute_result"
    }
   ],
   "source": [
    "lin_R_fn(vec0, vec1), lin_R_fn(vec0, vecsc)"
   ]
  },
  {
   "cell_type": "code",
   "execution_count": 49,
   "id": "94ba7823",
   "metadata": {
    "ExecuteTime": {
     "end_time": "2023-09-25T20:56:12.650789Z",
     "start_time": "2023-09-25T20:56:12.595912Z"
    }
   },
   "outputs": [
    {
     "data": {
      "text/plain": [
       "(array([0.35575356]), array([0.49479403]))"
      ]
     },
     "execution_count": 49,
     "metadata": {},
     "output_type": "execute_result"
    }
   ],
   "source": [
    "reg_R_fn(vec0, vec1), reg_R_fn(vec0, vecsc)"
   ]
  },
  {
   "cell_type": "code",
   "execution_count": 89,
   "id": "3e8fb836",
   "metadata": {
    "ExecuteTime": {
     "end_time": "2023-09-25T21:04:13.070182Z",
     "start_time": "2023-09-25T21:04:13.027082Z"
    }
   },
   "outputs": [],
   "source": [
    "min_idxs = np.argsort(vec0)\n",
    "vs = []\n",
    "nums = []\n",
    "for num in range(100, len(vec0), 100):\n",
    "    nums.append(num)\n",
    "    sel_idxs = min_idxs[-num:]\n",
    "    v1, v2 = lin_R_fn(vec0[sel_idxs], vec1[sel_idxs]), lin_R_fn(vec0[sel_idxs], vecsc[sel_idxs])\n",
    "    vs.append((v1[0], v2[0]))\n",
    "vs = np.array(vs);"
   ]
  },
  {
   "cell_type": "code",
   "execution_count": 90,
   "id": "2ddf590a",
   "metadata": {
    "ExecuteTime": {
     "end_time": "2023-09-25T21:04:14.014340Z",
     "start_time": "2023-09-25T21:04:13.863741Z"
    }
   },
   "outputs": [
    {
     "data": {
      "text/plain": [
       "<matplotlib.legend.Legend at 0x7ff305f7c7f0>"
      ]
     },
     "execution_count": 90,
     "metadata": {},
     "output_type": "execute_result"
    },
    {
     "data": {
      "image/png": "[encoded data removed]",
      "text/plain": [
       "<Figure size 1000x1000 with 1 Axes>"
      ]
     },
     "metadata": {
      "needs_background": "light"
     },
     "output_type": "display_data"
    }
   ],
   "source": [
    "plt.plot(nums, vs[:, 0], label=\"SBI\")\n",
    "plt.plot(nums, vs[:, 1], label=\"SC\")\n",
    "plt.legend()"
   ]
  },
  {
   "cell_type": "code",
   "execution_count": null,
   "id": "5ae234a8",
   "metadata": {},
   "outputs": [],
   "source": []
  },
  {
   "cell_type": "markdown",
   "id": "4cebe03b",
   "metadata": {
    "heading_collapsed": true
   },
   "source": [
    "# Draw violin plot (not used)"
   ]
  },
  {
   "cell_type": "code",
   "execution_count": 10,
   "id": "7700c9ce",
   "metadata": {
    "ExecuteTime": {
     "end_time": "2023-06-16T04:50:29.238534Z",
     "start_time": "2023-06-16T04:50:23.197040Z"
    },
    "hidden": true
   },
   "outputs": [],
   "source": [
    "bds = [\"delta\", \"theta\", \"alpha\", \"beta_l\"]\n",
    "ress = []\n",
    "for bd in bds:\n",
    "    fcs = np.array([_get_fc(sub_ix, bd) for sub_ix in range(36)]);\n",
    "    #fcs = np.array([_preprocess_fc(_get_fc(sub_ix, bd)) for sub_ix in range(36)]);\n",
    "    res = cal_metrics_batch(fcs, scs);\n",
    "    ress.append(res)"
   ]
  },
  {
   "cell_type": "code",
   "execution_count": 11,
   "id": "4badf4a4",
   "metadata": {
    "ExecuteTime": {
     "end_time": "2023-06-16T04:50:38.935406Z",
     "start_time": "2023-06-16T04:50:38.927954Z"
    },
    "hidden": true
   },
   "outputs": [],
   "source": [
    "data = []\n",
    "key_names = ['geo_dist', 'reg_r', 'tau_r', 'sp_r', 'lin_r', 'mse', 'reg_r_block', \"lin_r_block\"]\n",
    "for ix in range(len(bds)):\n",
    "    for key in key_names:\n",
    "        for value in ress[ix][key]:\n",
    "            data.append({'Band': bds[ix], 'Key': key, 'Value': value})\n",
    "df = pd.DataFrame(data);"
   ]
  },
  {
   "cell_type": "code",
   "execution_count": 12,
   "id": "c2112ea2",
   "metadata": {
    "ExecuteTime": {
     "end_time": "2023-06-16T04:50:41.809346Z",
     "start_time": "2023-06-16T04:50:39.914591Z"
    },
    "hidden": true
   },
   "outputs": [
    {
     "data": {
      "image/png": "[encoded data removed]",
      "text/plain": [
       "<Figure size 2000x1000 with 1 Axes>"
      ]
     },
     "metadata": {
      "needs_background": "light"
     },
     "output_type": "display_data"
    }
   ],
   "source": [
    "plt.figure(figsize=[20, 10])\n",
    "plt.title(f\"alpha\", fontsize=30)\n",
    "ax = sns.violinplot(x='Key', y='Value', hue='Band', data=df, split=False)\n",
    "plt.xlabel(\"\")\n",
    "plt.ylabel(\"\")\n",
    "\n",
    "keys = df['Key'].unique()\n",
    "for key_idx, key in enumerate(keys):\n",
    "    if key_idx < len(keys) - 1:\n",
    "        ax.axvline(x=key_idx + 0.5, color='grey', linestyle='--')\n",
    "        \n",
    "#plt.savefig(FIG_ROOT/f\"{typ}_cmp.jpg\")\n"
   ]
  },
  {
   "cell_type": "code",
   "execution_count": 13,
   "id": "859eb2b2",
   "metadata": {
    "ExecuteTime": {
     "end_time": "2023-06-16T04:50:45.423018Z",
     "start_time": "2023-06-16T04:50:45.407032Z"
    },
    "hidden": true
   },
   "outputs": [
    {
     "data": {
      "text/html": [
       "<div>\n",
       "<style scoped>\n",
       "    .dataframe tbody tr th:only-of-type {\n",
       "        vertical-align: middle;\n",
       "    }\n",
       "\n",
       "    .dataframe tbody tr th {\n",
       "        vertical-align: top;\n",
       "    }\n",
       "\n",
       "    .dataframe thead th {\n",
       "        text-align: right;\n",
       "    }\n",
       "</style>\n",
       "<table border=\"1\" class=\"dataframe\">\n",
       "  <thead>\n",
       "    <tr style=\"text-align: right;\">\n",
       "      <th></th>\n",
       "      <th>delta</th>\n",
       "      <th>theta</th>\n",
       "      <th>alpha</th>\n",
       "      <th>beta_l</th>\n",
       "    </tr>\n",
       "  </thead>\n",
       "  <tbody>\n",
       "    <tr>\n",
       "      <th>geo_dist</th>\n",
       "      <td>4.766488</td>\n",
       "      <td>4.692101</td>\n",
       "      <td>4.606478</td>\n",
       "      <td>4.588435</td>\n",
       "    </tr>\n",
       "    <tr>\n",
       "      <th>reg_r</th>\n",
       "      <td>0.212883</td>\n",
       "      <td>0.293505</td>\n",
       "      <td>0.373770</td>\n",
       "      <td>0.385253</td>\n",
       "    </tr>\n",
       "    <tr>\n",
       "      <th>lin_r</th>\n",
       "      <td>0.040660</td>\n",
       "      <td>0.076625</td>\n",
       "      <td>0.123253</td>\n",
       "      <td>0.138048</td>\n",
       "    </tr>\n",
       "    <tr>\n",
       "      <th>tau_r</th>\n",
       "      <td>0.111218</td>\n",
       "      <td>0.150821</td>\n",
       "      <td>0.205604</td>\n",
       "      <td>0.212468</td>\n",
       "    </tr>\n",
       "    <tr>\n",
       "      <th>sp_r</th>\n",
       "      <td>0.165402</td>\n",
       "      <td>0.223066</td>\n",
       "      <td>0.302501</td>\n",
       "      <td>0.312134</td>\n",
       "    </tr>\n",
       "    <tr>\n",
       "      <th>mse</th>\n",
       "      <td>0.231275</td>\n",
       "      <td>0.149000</td>\n",
       "      <td>0.096527</td>\n",
       "      <td>0.085974</td>\n",
       "    </tr>\n",
       "    <tr>\n",
       "      <th>reg_r_block</th>\n",
       "      <td>0.221409</td>\n",
       "      <td>0.301520</td>\n",
       "      <td>0.381692</td>\n",
       "      <td>0.396712</td>\n",
       "    </tr>\n",
       "    <tr>\n",
       "      <th>lin_r_block</th>\n",
       "      <td>0.055886</td>\n",
       "      <td>0.097920</td>\n",
       "      <td>0.149381</td>\n",
       "      <td>0.166758</td>\n",
       "    </tr>\n",
       "  </tbody>\n",
       "</table>\n",
       "</div>"
      ],
      "text/plain": [
       "                delta     theta     alpha    beta_l\n",
       "geo_dist     4.766488  4.692101  4.606478  4.588435\n",
       "reg_r        0.212883  0.293505  0.373770  0.385253\n",
       "lin_r        0.040660  0.076625  0.123253  0.138048\n",
       "tau_r        0.111218  0.150821  0.205604  0.212468\n",
       "sp_r         0.165402  0.223066  0.302501  0.312134\n",
       "mse          0.231275  0.149000  0.096527  0.085974\n",
       "reg_r_block  0.221409  0.301520  0.381692  0.396712\n",
       "lin_r_block  0.055886  0.097920  0.149381  0.166758"
      ]
     },
     "metadata": {},
     "output_type": "display_data"
    }
   ],
   "source": [
    "from IPython.display import display\n",
    "res_dict = {}\n",
    "for ix in range(len(bds)):\n",
    "    res = ress[ix]\n",
    "    res_df = pd.DataFrame(res)\n",
    "    res_dict[bds[ix]] = res_df.mean()\n",
    "display(pd.DataFrame(res_dict))"
   ]
  },
  {
   "cell_type": "code",
   "execution_count": null,
   "id": "74a0ac8a",
   "metadata": {
    "hidden": true
   },
   "outputs": [],
   "source": []
  },
  {
   "cell_type": "code",
   "execution_count": null,
   "id": "842d9147",
   "metadata": {
    "hidden": true
   },
   "outputs": [],
   "source": []
  },
  {
   "cell_type": "code",
   "execution_count": null,
   "id": "440de836",
   "metadata": {
    "hidden": true
   },
   "outputs": [],
   "source": []
  },
  {
   "cell_type": "code",
   "execution_count": null,
   "id": "68859fa8",
   "metadata": {
    "hidden": true
   },
   "outputs": [],
   "source": []
  }
 ],
 "metadata": {
  "kernelspec": {
   "display_name": "Python 3 (ipykernel)",
   "language": "python",
   "name": "python3"
  },
  "language_info": {
   "codemirror_mode": {
    "name": "ipython",
    "version": 3
   },
   "file_extension": ".py",
   "mimetype": "text/x-python",
   "name": "python",
   "nbconvert_exporter": "python",
   "pygments_lexer": "ipython3",
   "version": "3.9.7"
  },
  "toc": {
   "base_numbering": 1,
   "nav_menu": {},
   "number_sections": true,
   "sideBar": true,
   "skip_h1_title": false,
   "title_cell": "Table of Contents",
   "title_sidebar": "Contents",
   "toc_cell": false,
   "toc_position": {
    "height": "calc(100% - 180px)",
    "left": "10px",
    "top": "150px",
    "width": "206.188px"
   },
   "toc_section_display": true,
   "toc_window_display": true
  }
 },
 "nbformat": 4,
 "nbformat_minor": 5
}
