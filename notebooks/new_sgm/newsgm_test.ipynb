{
 "cells": [
  {
   "cell_type": "markdown",
   "id": "089a43ab",
   "metadata": {},
   "source": [
    "RUN SBI-SGM in alpha, new bounds, new SGM, only three parameters needed\n",
    "\n",
    "parameters order is  :tauG,speed,alpha (In second)\n"
   ]
  },
  {
   "cell_type": "code",
   "execution_count": 1,
   "id": "602fd510",
   "metadata": {
    "ExecuteTime": {
     "end_time": "2023-05-29T03:33:55.693350Z",
     "start_time": "2023-05-29T03:33:55.672053Z"
    }
   },
   "outputs": [
    {
     "data": {
      "text/plain": [
       "False"
      ]
     },
     "execution_count": 1,
     "metadata": {},
     "output_type": "execute_result"
    }
   ],
   "source": [
    "run_python_script = False"
   ]
  },
  {
   "cell_type": "markdown",
   "id": "15b93230",
   "metadata": {},
   "source": [
    "## Import some pkgs"
   ]
  },
  {
   "cell_type": "code",
   "execution_count": 2,
   "id": "a5c4bef0",
   "metadata": {
    "ExecuteTime": {
     "end_time": "2023-05-29T03:34:04.168355Z",
     "start_time": "2023-05-29T03:33:55.695198Z"
    }
   },
   "outputs": [],
   "source": [
    "import sys\n",
    "sys.path.append(\"../../mypkg\")\n",
    "\n",
    "import scipy\n",
    "import itertools\n",
    "\n",
    "import numpy as np\n",
    "import xarray as xr\n",
    "import matplotlib.pyplot as plt\n",
    "import seaborn as sns\n",
    "\n",
    "from tqdm import trange\n",
    "from scipy.io import loadmat\n",
    "from functools import partial\n",
    "from easydict import EasyDict as edict"
   ]
  },
  {
   "cell_type": "code",
   "execution_count": 3,
   "id": "129d24a5",
   "metadata": {
    "ExecuteTime": {
     "end_time": "2023-05-29T03:34:28.658437Z",
     "start_time": "2023-05-29T03:34:11.720522Z"
    }
   },
   "outputs": [],
   "source": [
    "# SBI and torch\n",
    "from sbi.inference.base import infer\n",
    "from sbi.inference import SNPE, prepare_for_sbi, simulate_for_sbi\n",
    "from sbi import analysis\n",
    "from sbi.utils.get_nn_models import posterior_nn\n",
    "from sbi import utils as sutils\n",
    "\n",
    "import torch.nn as nn\n",
    "import torch.nn.functional as F\n",
    "import torch\n",
    "from torch.distributions.multivariate_normal import MultivariateNormal"
   ]
  },
  {
   "cell_type": "code",
   "execution_count": 4,
   "id": "513f09d5",
   "metadata": {
    "ExecuteTime": {
     "end_time": "2023-05-29T03:34:28.992196Z",
     "start_time": "2023-05-29T03:34:28.662012Z"
    }
   },
   "outputs": [],
   "source": [
    "# my own fns\n",
    "from brain import Brain\n",
    "from FC_utils import build_fc_freq_m\n",
    "from constants import RES_ROOT, DATA_ROOT\n",
    "from utils.misc import load_pkl, save_pkl\n",
    "from utils.reparam import theta_raw_2out, logistic_np, logistic_torch"
   ]
  },
  {
   "cell_type": "code",
   "execution_count": null,
   "id": "d5b87c78",
   "metadata": {
    "ExecuteTime": {
     "end_time": "2022-11-08T00:03:09.655902Z",
     "start_time": "2022-11-08T00:03:09.466344Z"
    }
   },
   "outputs": [],
   "source": []
  },
  {
   "cell_type": "markdown",
   "id": "820f27bd",
   "metadata": {},
   "source": [
    "## Some fns"
   ]
  },
  {
   "cell_type": "code",
   "execution_count": 5,
   "id": "81762f84",
   "metadata": {
    "ExecuteTime": {
     "end_time": "2023-05-29T03:34:29.002305Z",
     "start_time": "2023-05-29T03:34:28.994798Z"
    }
   },
   "outputs": [
    {
     "data": {
      "text/plain": [
       "<function __main__.<lambda>(x)>"
      ]
     },
     "execution_count": 5,
     "metadata": {},
     "output_type": "execute_result"
    }
   ],
   "source": [
    "_minmax_vec = lambda x: (x-np.min(x))/(np.max(x)-np.min(x))"
   ]
  },
  {
   "cell_type": "code",
   "execution_count": 6,
   "id": "9daeac1d",
   "metadata": {
    "ExecuteTime": {
     "end_time": "2023-05-29T03:34:29.036324Z",
     "start_time": "2023-05-29T03:34:29.005729Z"
    }
   },
   "outputs": [],
   "source": [
    "# transfer vec to a sym mat\n",
    "def vec_2mat(vec):\n",
    "    mat = np.zeros((68, 68))\n",
    "    mat[np.triu_indices(68, k = 1)] = vec\n",
    "    mat = mat + mat.T\n",
    "    return mat"
   ]
  },
  {
   "cell_type": "code",
   "execution_count": 7,
   "id": "65fa4ae9",
   "metadata": {
    "ExecuteTime": {
     "end_time": "2023-05-29T03:34:29.070142Z",
     "start_time": "2023-05-29T03:34:29.038628Z"
    }
   },
   "outputs": [],
   "source": [
    "def get_mode(x):\n",
    "    kde_est = scipy.stats.gaussian_kde(x)\n",
    "    xs = np.linspace(x.min(), x.max(), 500)\n",
    "    ys = kde_est(xs)\n",
    "    return xs[np.argmax(ys)]"
   ]
  },
  {
   "cell_type": "code",
   "execution_count": null,
   "id": "c2112ea2",
   "metadata": {},
   "outputs": [],
   "source": []
  },
  {
   "cell_type": "markdown",
   "id": "12bd0463",
   "metadata": {},
   "source": [
    "### Some parameters"
   ]
  },
  {
   "cell_type": "code",
   "execution_count": 8,
   "id": "5da1fc37",
   "metadata": {
    "ExecuteTime": {
     "end_time": "2023-05-29T03:34:29.479522Z",
     "start_time": "2023-05-29T03:34:29.072716Z"
    }
   },
   "outputs": [],
   "source": [
    "# SC\n",
    "ind_conn_xr = xr.open_dataarray(DATA_ROOT/'individual_connectomes_reordered.nc')\n",
    "ind_conn = ind_conn_xr.values\n",
    "\n",
    "# PSD\n",
    "ind_psd_xr = xr.open_dataarray(DATA_ROOT/'individual_psd_reordered_matlab.nc')\n",
    "ind_psd = ind_psd_xr.values\n",
    "fvec = ind_psd_xr[\"frequencies\"].values;"
   ]
  },
  {
   "cell_type": "code",
   "execution_count": 9,
   "id": "e17d9242",
   "metadata": {
    "ExecuteTime": {
     "end_time": "2023-05-29T03:34:29.882607Z",
     "start_time": "2023-05-29T03:34:29.482480Z"
    }
   },
   "outputs": [
    {
     "data": {
      "image/png": "[encoded data removed]",
      "text/plain": [
       "<Figure size 432x288 with 1 Axes>"
      ]
     },
     "metadata": {
      "needs_background": "light"
     },
     "output_type": "display_data"
    }
   ],
   "source": [
    "from scipy.io import loadmat\n",
    "# The array is ordered as in ‘alpha’, ‘beta_l’, ‘delta’, ‘theta’\n",
    "diag_ws = loadmat(DATA_ROOT/\"diagonal_UFU.mat\")[\"prjctFC_diag\"];\n",
    "diag_ws = np.abs(diag_ws).mean(axis=(1, 2))\n",
    "#diag_ws = np.ones(82)\n",
    "#diag_ws[0] = 1 # remove it\n",
    "# normalized diag_ws (to mean 1 or max 1) (on May 10, 2023)\n",
    "# or log(ws/min(ws)) still remove the first term (on May 10, 2023)\n",
    "if not run_python_script:\n",
    "    plt.plot(diag_ws)\n",
    "    plt.yscale(\"log\")"
   ]
  },
  {
   "cell_type": "code",
   "execution_count": 10,
   "id": "c034879f",
   "metadata": {
    "ExecuteTime": {
     "end_time": "2023-05-29T03:34:29.886417Z",
     "start_time": "2023-05-29T03:34:29.883702Z"
    }
   },
   "outputs": [],
   "source": [
    "_paras = edict()\n",
    "_paras.delta = [2, 3.5]\n",
    "_paras.theta = [4, 7]\n",
    "_paras.alpha = [8, 12]\n",
    "_paras.beta_l = [13, 20]"
   ]
  },
  {
   "cell_type": "code",
   "execution_count": 11,
   "id": "74f883ac",
   "metadata": {
    "ExecuteTime": {
     "end_time": "2023-05-29T03:34:29.923671Z",
     "start_time": "2023-05-29T03:34:29.887312Z"
    }
   },
   "outputs": [
    {
     "name": "stdout",
     "output_type": "stream",
     "text": [
      "[ 8.  9. 10. 11. 12.]\n",
      "[28.34730666  2.04960239  1.70749507  1.22529579  2.07701591  0.53111972\n",
      "  0.6218343   0.60427364  0.42565082  0.24645076  0.31900365  0.25322547\n",
      "  0.23310096  0.23638545  0.29637963  0.29173875  0.32172899  0.34877173\n",
      "  0.37271771  0.3407041   0.42165469  0.44977377  0.49267775  0.53535327\n",
      "  0.45689171  0.5307152   0.49010218  0.52487552  0.48627499  0.47017923\n",
      "  0.57866959  0.51133174  0.49745823  0.56322006  0.55008061  0.58736851\n",
      "  0.5917356   0.57619634  0.57585997  0.64097135  0.63919469  0.67089503\n",
      "  0.70194127  0.69713099  0.72477668  0.75575609  0.72799299  0.74255208\n",
      "  0.74701997  0.74549816  0.74341354  0.75704742  0.72661308  0.7535987\n",
      "  0.77213942  0.77174635  0.76942024  0.78661123  0.78909111  0.7723603\n",
      "  0.76788512  0.76919267  0.79200622  0.78210296  0.84090921  0.84930545\n",
      "  0.85326197  0.85928982]\n"
     ]
    }
   ],
   "source": [
    "paras = edict()\n",
    "\n",
    "paras.fc_type = \"alpha\" #stick to coh\n",
    "paras.freqrange =  np.linspace(_paras[paras.fc_type][0], _paras[paras.fc_type][1], 5)\n",
    "paras.diag_ws = diag_ws\n",
    "print(paras.freqrange)\n",
    "paras.fs = 600\n",
    "paras.num_nodes = 86 # Number of cortical (68) + subcortical nodes\n",
    "#paras.par_low = np.asarray([0.005,0.005,0.005,5, 0.1,0.001,0.001])\n",
    "#paras.par_high = np.asarray([0.03, 0.20, 0.03,20,  1,    2,  0.7])\n",
    "#paras.names = [\"Taue\", \"Taui\", \"TauC\", \"Speed\", \"alpha\", \"gii\", \"gei\"]\n",
    "paras.par_low = np.asarray([0.005, 5, 0.1])\n",
    "paras.par_high = np.asarray([0.03, 20, 1])\n",
    "paras.names = [\"TauC\", \"Speed\", \"alpha\"]\n",
    "paras.prior_bds = np.array([paras.par_low, paras.par_high]).T\n",
    "paras.prior_sd = 10\n",
    "paras.add_v = 0.01\n",
    "\n",
    "paras.SBI_paras = edict()\n",
    "paras.SBI_paras.num_prior_sps = int(1e3)\n",
    "paras.SBI_paras.density_model = \"nsf\"\n",
    "paras.SBI_paras.num_round = 1 # 3\n",
    "paras.SBI_paras.noise_sd = 0.2\n",
    "print(paras.diag_ws)"
   ]
  },
  {
   "cell_type": "code",
   "execution_count": 12,
   "id": "1f4c00a6",
   "metadata": {
    "ExecuteTime": {
     "end_time": "2023-05-29T03:34:29.960447Z",
     "start_time": "2023-05-29T03:34:29.927313Z"
    }
   },
   "outputs": [
    {
     "data": {
      "text/plain": [
       "functools.partial(<function theta_raw_2out at 0x7f2b9f4343a0>, map_fn=functools.partial(<function logistic_np at 0x7f2b9f434310>, k=0.1))"
      ]
     },
     "execution_count": 12,
     "metadata": {},
     "output_type": "execute_result"
    }
   ],
   "source": [
    "# fn for reparemetering\n",
    "_map_fn_torch = partial(logistic_torch, k=0.1)\n",
    "_theta_raw_2out = partial(theta_raw_2out, map_fn=partial(logistic_np, k=0.1))"
   ]
  },
  {
   "cell_type": "code",
   "execution_count": null,
   "id": "d66040ab",
   "metadata": {},
   "outputs": [],
   "source": []
  },
  {
   "cell_type": "markdown",
   "id": "cc57cec6",
   "metadata": {},
   "source": [
    "### Load the data"
   ]
  },
  {
   "cell_type": "code",
   "execution_count": 13,
   "id": "ee5a4fc9",
   "metadata": {
    "ExecuteTime": {
     "end_time": "2023-05-29T03:34:30.005286Z",
     "start_time": "2023-05-29T03:34:29.962692Z"
    }
   },
   "outputs": [
    {
     "name": "stdout",
     "output_type": "stream",
     "text": [
      "Add 0.01 on diag\n"
     ]
    }
   ],
   "source": [
    "\n",
    "def _add_v2con(cur_ind_conn):\n",
    "    cur_ind_conn = cur_ind_conn.copy()\n",
    "    add_v = np.max(cur_ind_conn)*paras.add_v # tuning 0.1\n",
    "    np.fill_diagonal(cur_ind_conn[:34, 34:68], np.diag(cur_ind_conn[:34, 34:68]) + add_v)\n",
    "    np.fill_diagonal(cur_ind_conn[34:68, :34], np.diag(cur_ind_conn[34:68, :34]) + add_v)\n",
    "    np.fill_diagonal(cur_ind_conn[68:77, 77:], np.diag(cur_ind_conn[68:77, 77:]) + add_v)\n",
    "    np.fill_diagonal(cur_ind_conn[77:, 68:77], np.diag(cur_ind_conn[77:, 68:77]) + add_v)\n",
    "    return cur_ind_conn\n",
    "\n",
    "if paras.add_v != 0:\n",
    "    print(f\"Add {paras.add_v} on diag\")\n",
    "    ind_conn_adds = [_add_v2con(ind_conn[:, :, ix]) for ix in range(36)]\n",
    "    ind_conn = np.transpose(np.array(ind_conn_adds), (1, 2, 0))"
   ]
  },
  {
   "cell_type": "code",
   "execution_count": 14,
   "id": "1c727a6e",
   "metadata": {
    "ExecuteTime": {
     "end_time": "2023-05-29T03:34:30.143803Z",
     "start_time": "2023-05-29T03:34:30.007239Z"
    }
   },
   "outputs": [
    {
     "data": {
      "text/plain": [
       "(68, 68, 36)"
      ]
     },
     "execution_count": 14,
     "metadata": {},
     "output_type": "execute_result"
    }
   ],
   "source": [
    "# Load true MEG FC time series:\n",
    "dataPath = DATA_ROOT/f'./MEG_FC_{paras.fc_type}_DK_networks_coh.mat'\n",
    "data = loadmat(dataPath);\n",
    "true_FC = data[f\"MEG_{paras.fc_type}_FC_networks_coh\"]\n",
    "true_FC.shape"
   ]
  },
  {
   "cell_type": "code",
   "execution_count": null,
   "id": "34f677b5",
   "metadata": {},
   "outputs": [],
   "source": []
  },
  {
   "cell_type": "code",
   "execution_count": 47,
   "id": "10264340",
   "metadata": {
    "ExecuteTime": {
     "end_time": "2023-05-29T03:54:19.220376Z",
     "start_time": "2023-05-29T03:54:19.169986Z"
    }
   },
   "outputs": [],
   "source": [
    "def network_transfer_local_fc_alpha_new(brain, parameters, w, diag_ws):\n",
    "    \"\"\"Network Transfer Function for spectral graph model.\n",
    "\n",
    "    Args:\n",
    "        brain (Brain): specific brain to calculate NTF\n",
    "        parameters (dict): parameters for ntf. We shall keep this separate from Brain\n",
    "               for now, as we want to change and update according to fitting.\n",
    "        frequency (float): frequency at which to calculate NTF\n",
    "\n",
    "    Returns:\n",
    "        fc(numpy asarray):  The FC for the given frequency (w)\n",
    "    \"\"\"\n",
    "    # remove the following idxs\n",
    "    rm_idxs = [68, 76, 77, 85]\n",
    "    \n",
    "    C = brain.reducedConnectome\n",
    "    D = brain.distance_matrix\n",
    "    \n",
    "    C = np.delete(C, rm_idxs, axis=0)\n",
    "    C = np.delete(C, rm_idxs, axis=1)\n",
    "    D = np.delete(D, rm_idxs, axis=0)\n",
    "    D = np.delete(D, rm_idxs, axis=1)\n",
    "\n",
    "    speed = parameters[\"speed\"]\n",
    "    tauC = parameters[\"tauC\"]\n",
    "    alpha = parameters[\"alpha\"]\n",
    "    \n",
    "    # Defining some other parameters used:\n",
    "    zero_thr = 0.01\n",
    "\n",
    "    # define sum of degrees for rows and columns for laplacian normalization\n",
    "    rowdegree = np.transpose(np.sum(C, axis=1))\n",
    "    coldegree = np.sum(C, axis=0)\n",
    "    qind = rowdegree + coldegree < 0.2 * np.mean(rowdegree + coldegree)\n",
    "    rowdegree[qind] = np.inf\n",
    "    coldegree[qind] = np.inf\n",
    "\n",
    "    nroi = C.shape[0]\n",
    "\n",
    "    K = nroi\n",
    "\n",
    "    Tau = 0.001 * D / speed\n",
    "    Cc = C * np.exp(-1j * Tau * w)\n",
    "\n",
    "    # Eigen Decomposition of Complex Laplacian Here\n",
    "    L1 = np.identity(nroi)\n",
    "    L2 = np.divide(1, np.sqrt(np.multiply(rowdegree, coldegree)) + np.spacing(1))\n",
    "    L = L1 - alpha * np.matmul(np.diag(L2), Cc)\n",
    "\n",
    "    d, v = np.linalg.eig(L)  \n",
    "    eig_ind = np.argsort(np.abs(d))  # sorting in ascending order and absolute value\n",
    "    eig_vec = v[:, eig_ind]  # re-indexing eigen vectors according to sorted index\n",
    "    eig_val = d[eig_ind]  # re-indexing eigen values with same sorted index\n",
    "\n",
    "    eigenvalues = np.transpose(eig_val)\n",
    "    eigenvectors = eig_vec[:, 0:K]\n",
    "\n",
    "    # Cortical model\n",
    "    FG = np.divide(1 / tauC ** 2, (1j * w + 1 / tauC) ** 2)\n",
    "\n",
    "\n",
    "    q1 = (1j * w + 1 / tauC * FG * eigenvalues)\n",
    "    qthr = zero_thr * np.abs(q1[:]).max()\n",
    "    magq1 = np.maximum(np.abs(q1), qthr)\n",
    "    angq1 = np.angle(q1)\n",
    "    q1 = np.multiply(magq1, np.exp(1j * angq1))\n",
    "    frequency_response = np.divide(diag_ws, np.abs(q1)**2)\n",
    "    \n",
    "    fc = 0\n",
    "    for k in range(K):\n",
    "        fc += (frequency_response[k]) * np.outer(eigenvectors[:, k], np.conjugate(eigenvectors[:, k]))\n",
    "    # get FC\n",
    "    fc = np.abs(fc)\n",
    "\n",
    "    return fc\n"
   ]
  },
  {
   "cell_type": "code",
   "execution_count": 55,
   "id": "5475cf20",
   "metadata": {
    "ExecuteTime": {
     "end_time": "2023-05-29T03:56:40.514887Z",
     "start_time": "2023-05-29T03:56:40.495295Z"
    }
   },
   "outputs": [],
   "source": [
    "def network_transfer_local_fc_alpha_new1(brain, parameters, w, diag_ws):\n",
    "    \"\"\"Network Transfer Function for spectral graph model.\n",
    "\n",
    "    Args:\n",
    "        brain (Brain): specific brain to calculate NTF\n",
    "        parameters (dict): parameters for ntf. We shall keep this separate from Brain\n",
    "               for now, as we want to change and update according to fitting.\n",
    "        frequency (float): frequency at which to calculate NTF\n",
    "\n",
    "    Returns:\n",
    "        fc(numpy asarray):  The FC for the given frequency (w)\n",
    "    \"\"\"\n",
    "    # remove the following idxs\n",
    "    rm_idxs = [68, 76, 77, 85]\n",
    "    \n",
    "    C = brain.reducedConnectome\n",
    "    D = brain.distance_matrix\n",
    "    \n",
    "    C = np.delete(C, rm_idxs, axis=0)\n",
    "    C = np.delete(C, rm_idxs, axis=1)\n",
    "    D = np.delete(D, rm_idxs, axis=0)\n",
    "    D = np.delete(D, rm_idxs, axis=1)\n",
    "\n",
    "    speed = parameters[\"speed\"]\n",
    "    tauC = parameters[\"tauC\"]\n",
    "    alpha = parameters[\"alpha\"]\n",
    "    \n",
    "    # Defining some other parameters used:\n",
    "    zero_thr = 0.01\n",
    "\n",
    "    # define sum of degrees for rows and columns for laplacian normalization\n",
    "    rowdegree = np.transpose(np.sum(C, axis=1))\n",
    "    coldegree = np.sum(C, axis=0)\n",
    "    qind = rowdegree + coldegree < 0.2 * np.mean(rowdegree + coldegree)\n",
    "    rowdegree[qind] = np.inf\n",
    "    coldegree[qind] = np.inf\n",
    "\n",
    "    nroi = C.shape[0]\n",
    "    K = nroi\n",
    "\n",
    "    Tau = 0.001 * D / speed\n",
    "    Cc = C * np.exp(-1j * Tau * w)\n",
    "\n",
    "    # Eigen Decomposition of Complex Laplacian Here\n",
    "    L1 = np.identity(nroi)\n",
    "    L2 = np.divide(1, np.sqrt(np.multiply(rowdegree, coldegree)) + np.spacing(1))\n",
    "    L = L1 - alpha * np.matmul(np.diag(L2), Cc)\n",
    "\n",
    "    d, v = np.linalg.eig(L)  \n",
    "    eig_ind = np.argsort(np.abs(d))  # sorting in ascending order and absolute value\n",
    "    eig_vec = v[:, eig_ind]  # re-indexing eigen vectors according to sorted index\n",
    "    eig_val = d[eig_ind]  # re-indexing eigen values with same sorted index\n",
    "\n",
    "    eigenvalues = np.transpose(eig_val[:K])\n",
    "    eigenvectors = eig_vec[:, :K]\n",
    "\n",
    "    # Cortical model\n",
    "    FG = np.divide(1 / tauC ** 2, (1j * w + 1 / tauC) ** 2)\n",
    "\n",
    "\n",
    "    q1 = (1j * w + 1 / tauC * FG * eigenvalues)\n",
    "    qthr = zero_thr * np.abs(q1[:]).max()\n",
    "    magq1 = np.maximum(np.abs(q1), qthr)\n",
    "    angq1 = np.angle(q1)\n",
    "    q1 = np.multiply(magq1, np.exp(1j * angq1))\n",
    "    frequency_response = np.divide(diag_ws, np.abs(q1)**2)\n",
    "    \n",
    "    fc = eigenvectors @ np.diag(frequency_response) @ np.conjugate(eigenvectors.T)\n",
    "    fc = np.abs(fc)\n",
    "\n",
    "    return fc\n"
   ]
  },
  {
   "cell_type": "code",
   "execution_count": 56,
   "id": "e590393a",
   "metadata": {
    "ExecuteTime": {
     "end_time": "2023-05-29T03:56:40.919515Z",
     "start_time": "2023-05-29T03:56:40.885491Z"
    }
   },
   "outputs": [],
   "source": [
    "brain = Brain.Brain()\n",
    "brain.add_connectome(DATA_ROOT) # grabs distance matrix\n",
    "brain.reorder_connectome(brain.connectome, brain.distance_matrix)\n",
    "brain.bi_symmetric_c()\n",
    "brain.reduce_extreme_dir()"
   ]
  },
  {
   "cell_type": "code",
   "execution_count": 57,
   "id": "ecbba8a3",
   "metadata": {
    "ExecuteTime": {
     "end_time": "2023-05-29T03:56:41.236262Z",
     "start_time": "2023-05-29T03:56:41.229195Z"
    }
   },
   "outputs": [
    {
     "data": {
      "text/plain": [
       "array([[5.e-03, 3.e-02],\n",
       "       [5.e+00, 2.e+01],\n",
       "       [1.e-01, 1.e+00]])"
      ]
     },
     "execution_count": 57,
     "metadata": {},
     "output_type": "execute_result"
    }
   ],
   "source": [
    "paras.prior_bds"
   ]
  },
  {
   "cell_type": "code",
   "execution_count": 61,
   "id": "0241760f",
   "metadata": {
    "ExecuteTime": {
     "end_time": "2023-05-29T03:56:49.802548Z",
     "start_time": "2023-05-29T03:56:49.796773Z"
    }
   },
   "outputs": [],
   "source": [
    "diag_ws = np.ones(82)\n",
    "w = 2*np.pi*1\n",
    "params = edict()\n",
    "params.tauC = 1e-2\n",
    "params.speed = 10\n",
    "params.alpha = 5e-1"
   ]
  },
  {
   "cell_type": "code",
   "execution_count": 62,
   "id": "4f771c9e",
   "metadata": {
    "ExecuteTime": {
     "end_time": "2023-05-29T03:56:49.941763Z",
     "start_time": "2023-05-29T03:56:49.854856Z"
    }
   },
   "outputs": [
    {
     "data": {
      "text/plain": [
       "6.491778646022333e-19"
      ]
     },
     "execution_count": 62,
     "metadata": {},
     "output_type": "execute_result"
    }
   ],
   "source": [
    "FC1 = network_transfer_local_fc_alpha_new(brain, params, w, diag_ws)\n",
    "FC2 = network_transfer_local_fc_alpha_new1(brain, params, w, diag_ws)\n",
    "np.linalg.norm(FC1 - FC2)"
   ]
  },
  {
   "cell_type": "code",
   "execution_count": 60,
   "id": "1b469665",
   "metadata": {
    "ExecuteTime": {
     "end_time": "2023-05-29T03:56:43.427046Z",
     "start_time": "2023-05-29T03:56:43.420091Z"
    }
   },
   "outputs": [
    {
     "data": {
      "text/plain": [
       "4.953178584091276e-18"
      ]
     },
     "execution_count": 60,
     "metadata": {},
     "output_type": "execute_result"
    }
   ],
   "source": []
  },
  {
   "cell_type": "code",
   "execution_count": null,
   "id": "9f5e0c4f",
   "metadata": {},
   "outputs": [],
   "source": []
  }
 ],
 "metadata": {
  "kernelspec": {
   "display_name": "Python 3 (ipykernel)",
   "language": "python",
   "name": "python3"
  },
  "language_info": {
   "codemirror_mode": {
    "name": "ipython",
    "version": 3
   },
   "file_extension": ".py",
   "mimetype": "text/x-python",
   "name": "python",
   "nbconvert_exporter": "python",
   "pygments_lexer": "ipython3",
   "version": "3.9.7"
  },
  "toc": {
   "base_numbering": 1,
   "nav_menu": {},
   "number_sections": true,
   "sideBar": true,
   "skip_h1_title": false,
   "title_cell": "Table of Contents",
   "title_sidebar": "Contents",
   "toc_cell": false,
   "toc_position": {},
   "toc_section_display": true,
   "toc_window_display": true
  }
 },
 "nbformat": 4,
 "nbformat_minor": 5
}
