{
 "cells": [
  {
   "cell_type": "markdown",
   "id": "afb20312",
   "metadata": {},
   "source": [
    "Analyze SBI-SGM, new bounds, new SGM, only three parameters needed\n",
    "\n",
    "parameters order is  :tauG,speed,alpha (In second)"
   ]
  },
  {
   "cell_type": "code",
   "execution_count": null,
   "id": "ad95af10",
   "metadata": {},
   "outputs": [],
   "source": []
  },
  {
   "cell_type": "markdown",
   "id": "15b93230",
   "metadata": {},
   "source": [
    "## Import some pkgs"
   ]
  },
  {
   "cell_type": "code",
   "execution_count": 1,
   "id": "a5c4bef0",
   "metadata": {
    "ExecuteTime": {
     "end_time": "2023-10-27T03:21:29.302635Z",
     "start_time": "2023-10-27T03:21:18.513315Z"
    }
   },
   "outputs": [],
   "source": [
    "import sys\n",
    "sys.path.append(\"../../mypkg\")\n",
    "\n",
    "import scipy\n",
    "import itertools\n",
    "\n",
    "import numpy as np\n",
    "import xarray as xr\n",
    "import matplotlib.pyplot as plt\n",
    "import seaborn as sns\n",
    "import pandas as pd\n",
    "\n",
    "from tqdm import trange\n",
    "from scipy.io import loadmat\n",
    "from functools import partial\n",
    "from easydict import EasyDict as edict"
   ]
  },
  {
   "cell_type": "code",
   "execution_count": 2,
   "id": "129d24a5",
   "metadata": {
    "ExecuteTime": {
     "end_time": "2023-10-27T03:21:40.667838Z",
     "start_time": "2023-10-27T03:21:29.308888Z"
    }
   },
   "outputs": [],
   "source": [
    "# SBI and torch\n",
    "from sbi.inference.base import infer\n",
    "from sbi.inference import SNPE, prepare_for_sbi, simulate_for_sbi\n",
    "from sbi import analysis\n",
    "from sbi.utils.get_nn_models import posterior_nn\n",
    "from sbi import utils as sutils\n",
    "\n",
    "import torch.nn as nn\n",
    "import torch.nn.functional as F\n",
    "import torch\n",
    "from torch.distributions.multivariate_normal import MultivariateNormal"
   ]
  },
  {
   "cell_type": "code",
   "execution_count": 3,
   "id": "513f09d5",
   "metadata": {
    "ExecuteTime": {
     "end_time": "2023-10-27T03:21:40.900321Z",
     "start_time": "2023-10-27T03:21:40.679039Z"
    }
   },
   "outputs": [],
   "source": [
    "# my own fns\n",
    "from brain import Brain\n",
    "from FC_utils import build_fc_freq_m\n",
    "from constants import RES_ROOT, DATA_ROOT\n",
    "from utils.misc import load_pkl, save_pkl\n",
    "from utils.reparam import theta_raw_2out, logistic_np, logistic_torch"
   ]
  },
  {
   "cell_type": "code",
   "execution_count": null,
   "id": "d5b87c78",
   "metadata": {
    "ExecuteTime": {
     "end_time": "2022-11-08T00:03:09.655902Z",
     "start_time": "2022-11-08T00:03:09.466344Z"
    }
   },
   "outputs": [],
   "source": []
  },
  {
   "cell_type": "markdown",
   "id": "820f27bd",
   "metadata": {},
   "source": [
    "## Some fns"
   ]
  },
  {
   "cell_type": "code",
   "execution_count": 4,
   "id": "58536d30",
   "metadata": {
    "ExecuteTime": {
     "end_time": "2023-10-27T03:21:40.959985Z",
     "start_time": "2023-10-27T03:21:40.909413Z"
    }
   },
   "outputs": [],
   "source": [
    "from scipy.stats import kendalltau\n",
    "from scipy.stats import spearmanr\n",
    "from utils.measures import geodesic_dist, reg_R_fn, lin_R_fn\n",
    "\n",
    "def divideFc(fc):\n",
    "    \"\"\"Divide the FC into three blocks and vector them\n",
    "    \"\"\"\n",
    "    size_fc = len(fc)\n",
    "    hs_fc = int(size_fc/2)\n",
    "    fc_block1 = fc[:hs_fc, :hs_fc]\n",
    "    fc_block2 = fc[hs_fc:, hs_fc:];\n",
    "    fc_block3 = fc[:hs_fc, hs_fc:];\n",
    "    vec1 = _minmax_vec(fc_block1[np.triu_indices(hs_fc, k = 1)])\n",
    "    vec2 = _minmax_vec(fc_block2[np.triu_indices(hs_fc, k = 1)])\n",
    "    vec3 = _minmax_vec(fc_block3.flatten())\n",
    "    return vec1, vec2, vec3\n",
    "\n",
    "def cal_metrics(fc1, fc2):\n",
    "    \"\"\"Calculate the distance between fc1 and fc2, including\n",
    "        1. geodesic dist\n",
    "        2. pearson's R\n",
    "        3. lin R\n",
    "        4. pearson's R after divide the FC into three blocks\n",
    "        5. lin R after divide the FC into three blocks\n",
    "    \"\"\"\n",
    "    fc1 = fc1.astype(np.float64)\n",
    "    fc2 = fc2.astype(np.float64)\n",
    "    size_fc = len(fc1)\n",
    "    \n",
    "    # for geodedic\n",
    "    fc1_g = fc1/np.linalg.norm(fc1) + np.eye(size_fc)\n",
    "    fc2_g = fc2/np.linalg.norm(fc2) + np.eye(size_fc)\n",
    "    \n",
    "    fc1_c = _minmax_vec(fc1[np.triu_indices(size_fc, k=1)]).reshape(1, -1)\n",
    "    fc2_c = _minmax_vec(fc2[np.triu_indices(size_fc, k=1)]).reshape(1, -1)\n",
    "    \n",
    "    # all metrics\n",
    "    geo_dist = geodesic_dist(fc1_g, fc2_g)\n",
    "    reg_r = reg_R_fn(fc1_c, fc2_c)\n",
    "    lin_r = lin_R_fn(fc1_c, fc2_c)\n",
    "    mse = np.mean((fc1_c-fc2_c)**2)\n",
    "    tau_r = kendalltau(fc1_c.reshape(-1), fc2_c.reshape(-1))[0]\n",
    "    sp_r = spearmanr(fc1_c.reshape(-1), fc2_c.reshape(-1))[0]\n",
    "    \n",
    "    # block wise metrics\n",
    "    blocks1 = divideFc(fc1)\n",
    "    blocks2 = divideFc(fc2)\n",
    "    reg_r_block = [reg_R_fn(vec1.reshape(1, -1), vec2.reshape(1, -1))[0] \n",
    "                   for vec1, vec2 in zip(blocks1, blocks2)]\n",
    "    lin_r_block = [lin_R_fn(vec1.reshape(1, -1), vec2.reshape(1, -1))[0] \n",
    "                   for vec1, vec2 in zip(blocks1, blocks2)]\n",
    "    \n",
    "    res = edict()\n",
    "    res.geo_dist = geo_dist\n",
    "    res.reg_r = reg_r[0]\n",
    "    res.lin_r = lin_r[0]\n",
    "    res.tau_r = tau_r\n",
    "    res.sp_r = sp_r \n",
    "    res.mse = mse\n",
    "    res.reg_r_block = np.mean(reg_r_block)\n",
    "    res.lin_r_block = np.mean(lin_r_block)\n",
    "    return res\n",
    "\n",
    "def cal_metrics_batch(fc1s, fc2s):\n",
    "    \"\"\"fc1s, fc2s: num_fc x 68 x 68\n",
    "    \"\"\"\n",
    "    ress = ddict(list)\n",
    "    for ix in range(len(fc1s)):\n",
    "        fc_t = fc2s[ix]\n",
    "        fc_e = fc1s[ix]\n",
    "        res = cal_metrics(fc_t, fc_e)\n",
    "        for key, v in res.items():\n",
    "            ress[key].append(v)\n",
    "    \n",
    "    return ress"
   ]
  },
  {
   "cell_type": "code",
   "execution_count": 5,
   "id": "064fe03c",
   "metadata": {
    "ExecuteTime": {
     "end_time": "2023-10-27T03:21:40.973162Z",
     "start_time": "2023-10-27T03:21:40.965003Z"
    }
   },
   "outputs": [],
   "source": [
    "def _simulate_data(raw_params, brain, prior_bds, freqranges):\n",
    "    params = []\n",
    "    for raw_param, prior_bd in zip(raw_params, prior_bds):\n",
    "        param =  _map_fn_torch(raw_param)*(prior_bd[1]-prior_bd[0]) + prior_bd[0]\n",
    "        params.append(param)\n",
    "    params = torch.tensor(params)\n",
    "    \n",
    "    params_dict = dict()\n",
    "    params_dict[\"tauC\"] =  params[0].item()\n",
    "    params_dict[\"speed\"] =  params[1].item()\n",
    "    params_dict[\"alpha\"] =  params[2].item()\n",
    "    ress = []\n",
    "    for freqrange in freqranges:\n",
    "        modelFC = build_fc_freq_m(brain, params_dict, freqrange)\n",
    "        modelFC_abs = np.abs(modelFC[:68, :68])\n",
    "        ress.append(modelFC_abs)\n",
    "    return np.array(ress)"
   ]
  },
  {
   "cell_type": "code",
   "execution_count": 6,
   "id": "81762f84",
   "metadata": {
    "ExecuteTime": {
     "end_time": "2023-10-27T03:21:41.009320Z",
     "start_time": "2023-10-27T03:21:40.978504Z"
    }
   },
   "outputs": [
    {
     "data": {
      "text/plain": [
       "<function __main__.<lambda>(x)>"
      ]
     },
     "execution_count": 6,
     "metadata": {},
     "output_type": "execute_result"
    }
   ],
   "source": [
    "_minmax_vec = lambda x: (x-np.min(x))/(np.max(x)-np.min(x))"
   ]
  },
  {
   "cell_type": "code",
   "execution_count": 7,
   "id": "9daeac1d",
   "metadata": {
    "ExecuteTime": {
     "end_time": "2023-10-27T03:21:41.031963Z",
     "start_time": "2023-10-27T03:21:41.015078Z"
    }
   },
   "outputs": [],
   "source": [
    "# transfer vec to a sym mat\n",
    "def _vec_2mat(vec):\n",
    "    mat = np.zeros((68, 68))\n",
    "    mat[np.triu_indices(68, k = 1)] = vec\n",
    "    mat = mat + mat.T\n",
    "    return mat"
   ]
  },
  {
   "cell_type": "markdown",
   "id": "12bd0463",
   "metadata": {},
   "source": [
    "### Some parameters"
   ]
  },
  {
   "cell_type": "code",
   "execution_count": 8,
   "id": "1b1c015a",
   "metadata": {
    "ExecuteTime": {
     "end_time": "2023-10-27T03:21:41.057727Z",
     "start_time": "2023-10-27T03:21:41.038076Z"
    }
   },
   "outputs": [],
   "source": [
    "_paras = edict()\n",
    "_paras.delta = [2, 3.5]\n",
    "_paras.theta = [4, 7]\n",
    "_paras.alpha = [8, 12]\n",
    "_paras.beta_l = [13, 20]\n"
   ]
  },
  {
   "cell_type": "code",
   "execution_count": 9,
   "id": "74f883ac",
   "metadata": {
    "ExecuteTime": {
     "end_time": "2023-10-27T03:21:41.097510Z",
     "start_time": "2023-10-27T03:21:41.064411Z"
    }
   },
   "outputs": [
    {
     "name": "stdout",
     "output_type": "stream",
     "text": [
      "[array([2.   , 2.375, 2.75 , 3.125, 3.5  ]), array([4.  , 4.75, 5.5 , 6.25, 7.  ]), array([ 8.,  9., 10., 11., 12.]), array([13.  , 14.75, 16.5 , 18.25, 20.  ])]\n",
      "rawfc2allbd_SBIxANNALLBD_delta-theta-alpha-beta_l_ep100_num1000_densitynsf_MR3_noise_sd120_addv1\n"
     ]
    }
   ],
   "source": [
    "paras = edict()\n",
    "\n",
    "#paras.bands = [\"delta\", \"theta\", \"alpha\"]\n",
    "paras.bands = [\"delta\", \"theta\", \"alpha\", \"beta_l\"]\n",
    "paras.freqranges =  [np.linspace(_paras[band][0], _paras[band][1], 5) \n",
    "                     for band in paras.bands]\n",
    "paras.save_prefix = \"rawfc2allbd\"\n",
    "print(paras.freqranges)\n",
    "paras.fs = 600\n",
    "paras.num_nodes = 86 # Number of cortical (68) + subcortical nodes\n",
    "#paras.par_low = np.asarray([0.005,0.005,0.005,5, 0.1,0.001,0.001])\n",
    "#paras.par_high = np.asarray([0.03, 0.20, 0.03,20,  1,    2,  0.7])\n",
    "paras.par_low = np.asarray([0.005, 5, 0.1])\n",
    "paras.par_high = np.asarray([0.03, 20, 1])\n",
    "paras.names = [\"TauC\", \"Speed\", \"alpha\"]\n",
    "paras.prior_bds = np.array([paras.par_low, paras.par_high]).T\n",
    "paras.prior_sd = 10\n",
    "paras.add_v = 0.01\n",
    "paras.k = 1\n",
    "paras.nepoch = 100\n",
    "\n",
    "paras.SBI_paras = edict()\n",
    "paras.SBI_paras.num_prior_sps = int(1e3)\n",
    "paras.SBI_paras.density_model = \"nsf\"\n",
    "paras.SBI_paras.num_round = 3\n",
    "paras.SBI_paras.noise_sd = 1.20\n",
    "paras.SBI_paras.save_dir = (f\"{paras.save_prefix}_SBIxANNALLBD_\"\n",
    "                            f\"{'-'.join(paras.bands)}_\"\n",
    "                            f\"ep{paras.nepoch}_\"\n",
    "                            f\"num{paras.SBI_paras.num_prior_sps}_\" \n",
    "                            f\"density{paras.SBI_paras.density_model}_\" \n",
    "                            f\"MR{paras.SBI_paras.num_round}_\" \n",
    "                            f\"noise_sd{paras.SBI_paras.noise_sd*100:.0f}_\"\n",
    "                            f\"addv{paras.add_v*100:.0f}\")\n",
    "print(paras.SBI_paras.save_dir)\n",
    "assert (RES_ROOT/paras.SBI_paras.save_dir).exists()"
   ]
  },
  {
   "cell_type": "code",
   "execution_count": 10,
   "id": "0b853363",
   "metadata": {
    "ExecuteTime": {
     "end_time": "2023-10-27T03:21:51.638820Z",
     "start_time": "2023-10-27T03:21:51.630215Z"
    }
   },
   "outputs": [
    {
     "data": {
      "text/plain": [
       "functools.partial(<function theta_raw_2out at 0x7f35fe1aea60>, map_fn=functools.partial(<function logistic_np at 0x7f35fe1ae9d0>, k=1))"
      ]
     },
     "execution_count": 10,
     "metadata": {},
     "output_type": "execute_result"
    }
   ],
   "source": [
    "# fn for reparemetering\n",
    "_map_fn_torch = partial(logistic_torch, k=paras.k)\n",
    "_theta_raw_2out = partial(theta_raw_2out, \n",
    "                          map_fn=partial(logistic_np, k=paras.k))"
   ]
  },
  {
   "cell_type": "code",
   "execution_count": 11,
   "id": "f2b0bc3a",
   "metadata": {
    "ExecuteTime": {
     "end_time": "2023-10-27T03:21:54.046595Z",
     "start_time": "2023-10-27T03:21:53.526279Z"
    }
   },
   "outputs": [
    {
     "data": {
      "text/plain": [
       "MultivariateNormal(loc: torch.Size([3]), covariance_matrix: torch.Size([3, 3]))"
      ]
     },
     "execution_count": 11,
     "metadata": {},
     "output_type": "execute_result"
    }
   ],
   "source": [
    "tmp_prior = MultivariateNormal(loc=torch.zeros(3), covariance_matrix=torch.eye(3)*(paras.prior_sd**2))"
   ]
  },
  {
   "cell_type": "code",
   "execution_count": null,
   "id": "d66040ab",
   "metadata": {},
   "outputs": [],
   "source": []
  },
  {
   "cell_type": "markdown",
   "id": "cc57cec6",
   "metadata": {},
   "source": [
    "### Load the data"
   ]
  },
  {
   "cell_type": "code",
   "execution_count": 12,
   "id": "b78325a1",
   "metadata": {
    "ExecuteTime": {
     "end_time": "2023-10-27T03:21:57.070901Z",
     "start_time": "2023-10-27T03:21:56.597856Z"
    }
   },
   "outputs": [],
   "source": [
    "# SC\n",
    "ind_conn_xr = xr.open_dataarray(DATA_ROOT/'individual_connectomes_reordered.nc')\n",
    "ind_conn = ind_conn_xr.values\n",
    "\n",
    "# PSD\n",
    "ind_psd_xr = xr.open_dataarray(DATA_ROOT/'individual_psd_reordered_matlab.nc')\n",
    "ind_psd = ind_psd_xr.values\n",
    "fvec = ind_psd_xr[\"frequencies\"].values;"
   ]
  },
  {
   "cell_type": "code",
   "execution_count": 13,
   "id": "ee5a4fc9",
   "metadata": {
    "ExecuteTime": {
     "end_time": "2023-10-27T03:21:58.334080Z",
     "start_time": "2023-10-27T03:21:58.292734Z"
    }
   },
   "outputs": [
    {
     "name": "stdout",
     "output_type": "stream",
     "text": [
      "Add 0.01 on diag\n"
     ]
    }
   ],
   "source": [
    "\n",
    "def _add_v2con(cur_ind_conn):\n",
    "    cur_ind_conn = cur_ind_conn.copy()\n",
    "    add_v = np.quantile(cur_ind_conn, 0.99)*paras.add_v # tuning 0.1\n",
    "    np.fill_diagonal(cur_ind_conn[:34, 34:68], np.diag(cur_ind_conn[:34, 34:68]) + add_v)\n",
    "    np.fill_diagonal(cur_ind_conn[34:68, :34], np.diag(cur_ind_conn[34:68, :34]) + add_v)\n",
    "    np.fill_diagonal(cur_ind_conn[68:77, 77:], np.diag(cur_ind_conn[68:77, 77:]) + add_v)\n",
    "    np.fill_diagonal(cur_ind_conn[77:, 68:77], np.diag(cur_ind_conn[77:, 68:77]) + add_v)\n",
    "    return cur_ind_conn\n",
    "\n",
    "\n",
    "if paras.add_v != 0:\n",
    "    print(f\"Add {paras.add_v} on diag\")\n",
    "    ind_conn_adds = [_add_v2con(ind_conn[:, :, ix]) for ix in range(36)]\n",
    "    ind_conn = np.transpose(np.array(ind_conn_adds), (1, 2, 0))"
   ]
  },
  {
   "cell_type": "code",
   "execution_count": 14,
   "id": "87769d14",
   "metadata": {
    "ExecuteTime": {
     "end_time": "2023-10-27T03:22:09.598873Z",
     "start_time": "2023-10-27T03:21:59.763400Z"
    }
   },
   "outputs": [],
   "source": [
    "# em FC\n",
    "fc_root = RES_ROOT/\"emp_fcs2\"\n",
    "fcss = []\n",
    "for band in paras.bands:\n",
    "    def _get_fc(sub_ix, bd):\n",
    "        fil = list(fc_root.rglob(f\"*{bd}*nepoch-{paras.nepoch}*/sub{sub_ix}.pkl\"))[0]\n",
    "        return load_pkl(fil, verbose=False)\n",
    "    \n",
    "    fcs = np.array([_get_fc(sub_ix, band) for sub_ix in range(36)]);\n",
    "    fcss.append(fcs)"
   ]
  },
  {
   "cell_type": "code",
   "execution_count": null,
   "id": "06dd3072",
   "metadata": {},
   "outputs": [],
   "source": []
  },
  {
   "cell_type": "markdown",
   "id": "1bc6c297",
   "metadata": {
    "heading_collapsed": true
   },
   "source": [
    "## Analyze the results for single data"
   ]
  },
  {
   "cell_type": "code",
   "execution_count": 40,
   "id": "26469e85",
   "metadata": {
    "ExecuteTime": {
     "end_time": "2023-10-10T17:21:45.295500Z",
     "start_time": "2023-10-10T17:21:45.275622Z"
    },
    "hidden": true
   },
   "outputs": [],
   "source": [
    "res_fils = list((RES_ROOT/paras.SBI_paras.save_dir).glob(\"ind*.pkl\"))\n",
    "_sorted_fn = lambda x: int(x.stem.split(\"ind\")[-1][:])\n",
    "sorted_fils = sorted(res_fils, key=_sorted_fn);"
   ]
  },
  {
   "cell_type": "code",
   "execution_count": null,
   "id": "d82d5a95",
   "metadata": {
    "hidden": true
   },
   "outputs": [],
   "source": []
  },
  {
   "cell_type": "markdown",
   "id": "bd646581",
   "metadata": {
    "hidden": true
   },
   "source": [
    "### Point est"
   ]
  },
  {
   "cell_type": "code",
   "execution_count": 41,
   "id": "1c662d78",
   "metadata": {
    "ExecuteTime": {
     "end_time": "2023-10-10T17:21:50.822962Z",
     "start_time": "2023-10-10T17:21:49.102414Z"
    },
    "hidden": true
   },
   "outputs": [
    {
     "name": "stdout",
     "output_type": "stream",
     "text": [
      "Load file /data/rajlab1/user_data/jin/MyResearch/SBI-SGM-FC/notebooks/new_sgm/../../mypkg/../results/rawfc2allbd_SBIxANNALLBD_delta-theta-alpha-beta_l_ep100_num1000_densitynsf_MR3_noise_sd120_addv1/ind0.pkl\n"
     ]
    },
    {
     "data": {
      "application/vnd.jupyter.widget-view+json": {
       "model_id": "5b1dbac1e2954d678fd78612e5fb4fb5",
       "version_major": 2,
       "version_minor": 0
      },
      "text/plain": [
       "Drawing 10000 posterior samples:   0%|          | 0/10000 [00:00<?, ?it/s]"
      ]
     },
     "metadata": {},
     "output_type": "display_data"
    },
    {
     "name": "stderr",
     "output_type": "stream",
     "text": [
      "/home/hujin/.local/lib/python3.9/site-packages/nflows/transforms/lu.py:80: UserWarning: torch.triangular_solve is deprecated in favor of torch.linalg.solve_triangularand will be removed in a future PyTorch release.\n",
      "torch.linalg.solve_triangular has its arguments reversed and does not return a copy of one of the inputs.\n",
      "X = torch.triangular_solve(B, A).solution\n",
      "should be replaced with\n",
      "X = torch.linalg.solve_triangular(A, B). (Triggered internally at  ../aten/src/ATen/native/BatchLinearAlgebra.cpp:2189.)\n",
      "  outputs, _ = torch.triangular_solve(\n"
     ]
    }
   ],
   "source": [
    "cur_idx = 0\n",
    "cur_posterior = load_pkl(sorted_fils[cur_idx])\n",
    "post_sps = cur_posterior.sample((10000, ));"
   ]
  },
  {
   "cell_type": "code",
   "execution_count": 53,
   "id": "64fbdd8f",
   "metadata": {
    "ExecuteTime": {
     "end_time": "2023-10-10T17:25:07.079012Z",
     "start_time": "2023-10-10T17:25:06.653074Z"
    },
    "hidden": true
   },
   "outputs": [
    {
     "data": {
      "text/plain": [
       "[0.41695487409292376,\n",
       " 0.46386051620595053,\n",
       " 0.4506649987796561,\n",
       " 0.23731302809156085]"
      ]
     },
     "execution_count": 53,
     "metadata": {},
     "output_type": "execute_result"
    }
   ],
   "source": [
    "cur_est_paras = torch.median(post_sps, axis=0)[0]\n",
    "    \n",
    "# get the cur brain\n",
    "brain = Brain.Brain()\n",
    "brain.add_connectome(DATA_ROOT) # grabs distance matrix\n",
    "brain.reorder_connectome(brain.connectome, brain.distance_matrix)\n",
    "brain.connectome =  ind_conn[:, :, cur_idx] # re-assign connectome to individual connectome\n",
    "brain.bi_symmetric_c()\n",
    "brain.reduce_extreme_dir()\n",
    "    \n",
    "cur_obs_FCs = [np.abs(fcs[cur_idx]) for fcs in fcss]\n",
    "cur_est_FCs = _simulate_data(cur_est_paras, \n",
    "                               brain=brain, \n",
    "                               prior_bds=paras.prior_bds, \n",
    "                               freqranges=paras.freqranges)\n",
    "corrs =  []\n",
    "for cur_est_FC, cur_obs_FC in zip(cur_est_FCs, cur_obs_FCs):\n",
    "    est_vec = _minmax_vec(cur_est_FC[np.triu_indices(68, k = 1)])\n",
    "    obs_vec = _minmax_vec(cur_obs_FC[np.triu_indices(68, k = 1)])\n",
    "    corr = scipy.stats.pearsonr(est_vec, obs_vec)[0]\n",
    "    corrs.append(corr)\n",
    "corrs"
   ]
  },
  {
   "cell_type": "code",
   "execution_count": 45,
   "id": "a6ee43de",
   "metadata": {
    "ExecuteTime": {
     "end_time": "2023-10-10T17:23:33.534854Z",
     "start_time": "2023-10-10T17:23:32.571425Z"
    },
    "hidden": true
   },
   "outputs": [
    {
     "data": {
      "text/plain": [
       "<AxesSubplot:title={'center':'SC'}>"
      ]
     },
     "execution_count": 45,
     "metadata": {},
     "output_type": "execute_result"
    },
    {
     "data": {
      "image/png": "[encoded data removed]",
      "text/plain": [
       "<Figure size 1296x360 with 6 Axes>"
      ]
     },
     "metadata": {
      "needs_background": "light"
     },
     "output_type": "display_data"
    }
   ],
   "source": [
    "band_idx = 0\n",
    "SC = brain.connectome[:68, :68]\n",
    "SC_vec = _minmax_vec(SC[np.triu_indices(68, k = 1)])\n",
    "est_FC_mm = _vec_2mat(_minmax_vec(cur_est_FCs[band_idx][np.triu_indices(68, k = 1)]))\n",
    "obs_FC_mm = _vec_2mat(_minmax_vec(cur_obs_FCs[band_idx][np.triu_indices(68, k = 1)]))\n",
    "SC_mm = _vec_2mat(SC_vec)\n",
    "\n",
    "plt.figure(figsize=[18, 5])\n",
    "plt.subplot(132)\n",
    "plt.title(f\"SGM FC (corr: {corrs[band_idx]:.3f})\")\n",
    "sns.heatmap(est_FC_mm)\n",
    "plt.subplot(133)\n",
    "plt.title(\"Empirical FC\")\n",
    "sns.heatmap(obs_FC_mm)\n",
    "#sns.heatmap(cur_obs_FC)\n",
    "plt.subplot(131)\n",
    "plt.title(\"SC\")\n",
    "sns.heatmap(SC_mm)"
   ]
  },
  {
   "cell_type": "markdown",
   "id": "de6b70cc",
   "metadata": {
    "hidden": true
   },
   "source": [
    "### Full Bayesian"
   ]
  },
  {
   "cell_type": "code",
   "execution_count": 49,
   "id": "23976f44",
   "metadata": {
    "ExecuteTime": {
     "end_time": "2023-10-10T17:24:17.562094Z",
     "start_time": "2023-10-10T17:24:17.158795Z"
    },
    "hidden": true
   },
   "outputs": [],
   "source": [
    "cur_idx = 0\n",
    "# get the cur brain\n",
    "brain = Brain.Brain()\n",
    "brain.add_connectome(DATA_ROOT) # grabs distance matrix\n",
    "brain.reorder_connectome(brain.connectome, brain.distance_matrix)\n",
    "brain.connectome =  ind_conn[:, :, cur_idx] # re-assign connectome to individual connectome\n",
    "brain.bi_symmetric_c()\n",
    "brain.reduce_extreme_dir()\n",
    "\n",
    "_simulate_data_sp = partial(_simulate_data, \n",
    "                            brain=brain, \n",
    "                            prior_bds=paras.prior_bds, \n",
    "                            freqranges=paras.freqranges)\n",
    "_simulate_data_wrapper, _ = prepare_for_sbi(_simulate_data_sp, tmp_prior)"
   ]
  },
  {
   "cell_type": "code",
   "execution_count": 50,
   "id": "d393a422",
   "metadata": {
    "ExecuteTime": {
     "end_time": "2023-10-10T17:24:22.814820Z",
     "start_time": "2023-10-10T17:24:19.714495Z"
    },
    "hidden": true
   },
   "outputs": [
    {
     "name": "stdout",
     "output_type": "stream",
     "text": [
      "Load file /data/rajlab1/user_data/jin/MyResearch/SBI-SGM-FC/notebooks/new_sgm/../../mypkg/../results/rawfc2allbd_SBIxANNALLBD_delta-theta-alpha-beta_l_ep100_num1000_densitynsf_MR3_noise_sd120_addv1/ind0.pkl\n"
     ]
    },
    {
     "data": {
      "application/vnd.jupyter.widget-view+json": {
       "model_id": "3fecbdb830924729a7eb7091db53df40",
       "version_major": 2,
       "version_minor": 0
      },
      "text/plain": [
       "Drawing 100 posterior samples:   0%|          | 0/100 [00:00<?, ?it/s]"
      ]
     },
     "metadata": {},
     "output_type": "display_data"
    },
    {
     "data": {
      "application/vnd.jupyter.widget-view+json": {
       "model_id": "cbb972cf2aab44c593e36b99b8eca7c2",
       "version_major": 2,
       "version_minor": 0
      },
      "text/plain": [
       "Running 100 simulations in 100 batches.:   0%|          | 0/100 [00:00<?, ?it/s]"
      ]
     },
     "metadata": {},
     "output_type": "display_data"
    }
   ],
   "source": [
    "cur_posterior = load_pkl(sorted_fils[cur_idx])\n",
    "\n",
    "_, cur_post_psds = simulate_for_sbi(_simulate_data_wrapper, cur_posterior,\n",
    "                                    num_simulations=100, \n",
    "                                    num_workers=20)\n",
    "cur_post_psds = cur_post_psds.reshape(-1, 4, 68, 68);"
   ]
  },
  {
   "cell_type": "code",
   "execution_count": 52,
   "id": "f413976e",
   "metadata": {
    "ExecuteTime": {
     "end_time": "2023-10-10T17:24:52.493047Z",
     "start_time": "2023-10-10T17:24:52.476015Z"
    },
    "hidden": true
   },
   "outputs": [
    {
     "name": "stdout",
     "output_type": "stream",
     "text": [
      "0.41189911010002545\n",
      "0.4652269749758453\n",
      "0.4472487419441622\n",
      "0.2367076566090597\n"
     ]
    }
   ],
   "source": [
    "band_idx = 0\n",
    "for band_idx in range(len(paras.bands)):\n",
    "    cur_obs_FC = np.abs(fcss[band_idx][cur_idx])\n",
    "    cur_est_FC = np.abs(cur_post_psds[:, band_idx].mean(axis=0).numpy())\n",
    "    est_vec = _minmax_vec(cur_est_FC[np.triu_indices(68, k = 1)])\n",
    "    obs_vec = _minmax_vec(cur_obs_FC[np.triu_indices(68, k = 1)])\n",
    "    corr = scipy.stats.pearsonr(est_vec, obs_vec)[0]\n",
    "    print(corr)"
   ]
  },
  {
   "cell_type": "code",
   "execution_count": 54,
   "id": "9734186b",
   "metadata": {
    "ExecuteTime": {
     "end_time": "2023-10-10T17:25:24.265553Z",
     "start_time": "2023-10-10T17:25:23.162868Z"
    },
    "hidden": true
   },
   "outputs": [
    {
     "data": {
      "text/plain": [
       "<AxesSubplot:title={'center':'SC'}>"
      ]
     },
     "execution_count": 54,
     "metadata": {},
     "output_type": "execute_result"
    },
    {
     "data": {
      "image/png": "[encoded data removed]",
      "text/plain": [
       "<Figure size 1296x360 with 6 Axes>"
      ]
     },
     "metadata": {
      "needs_background": "light"
     },
     "output_type": "display_data"
    }
   ],
   "source": [
    "# no diag ws, only three sgm parameters\n",
    "SC = brain.connectome[:68, :68]\n",
    "SC_vec = _minmax_vec(SC[np.triu_indices(68, k = 1)])\n",
    "est_FC_mm = _vec_2mat(est_vec)\n",
    "obs_FC_mm = _vec_2mat(obs_vec)\n",
    "SC_mm = _vec_2mat(SC_vec)\n",
    "\n",
    "plt.figure(figsize=[18, 5])\n",
    "plt.subplot(132)\n",
    "plt.title(f\"SGM FC (corr: {corr:.3f})\")\n",
    "sns.heatmap(est_FC_mm)\n",
    "plt.subplot(133)\n",
    "plt.title(\"Empirical FC\")\n",
    "sns.heatmap(obs_FC_mm)\n",
    "#sns.heatmap(cur_obs_FC)\n",
    "plt.subplot(131)\n",
    "plt.title(\"SC\")\n",
    "sns.heatmap(SC_mm)"
   ]
  },
  {
   "cell_type": "code",
   "execution_count": null,
   "id": "d8150f03",
   "metadata": {
    "hidden": true
   },
   "outputs": [],
   "source": []
  },
  {
   "cell_type": "markdown",
   "id": "88dc5304",
   "metadata": {},
   "source": [
    "## All data analysis"
   ]
  },
  {
   "cell_type": "code",
   "execution_count": 15,
   "id": "52e911f0",
   "metadata": {
    "ExecuteTime": {
     "end_time": "2023-10-27T03:22:20.589075Z",
     "start_time": "2023-10-27T03:22:20.577340Z"
    }
   },
   "outputs": [],
   "source": [
    "res_fils = list((RES_ROOT/paras.SBI_paras.save_dir).glob(\"ind*.pkl\"))\n",
    "_sorted_fn = lambda x: int(x.stem.split(\"ind\")[-1][:])\n",
    "sorted_fils = sorted(res_fils, key=_sorted_fn);"
   ]
  },
  {
   "cell_type": "code",
   "execution_count": null,
   "id": "3316f3ac",
   "metadata": {},
   "outputs": [],
   "source": []
  },
  {
   "cell_type": "markdown",
   "id": "3b950dd6",
   "metadata": {},
   "source": [
    "### Point est"
   ]
  },
  {
   "cell_type": "code",
   "execution_count": 16,
   "id": "0db365e4",
   "metadata": {
    "ExecuteTime": {
     "end_time": "2023-10-27T03:23:01.659710Z",
     "start_time": "2023-10-27T03:22:21.854182Z"
    },
    "scrolled": true
   },
   "outputs": [
    {
     "data": {
      "application/vnd.jupyter.widget-view+json": {
       "model_id": "dea973e359e6438ca369ffeafeac7717",
       "version_major": 2,
       "version_minor": 0
      },
      "text/plain": [
       "Drawing 1000 posterior samples:   0%|          | 0/1000 [00:00<?, ?it/s]"
      ]
     },
     "metadata": {},
     "output_type": "display_data"
    },
    {
     "name": "stderr",
     "output_type": "stream",
     "text": [
      "/home/hujin/.local/lib/python3.9/site-packages/nflows/transforms/lu.py:80: UserWarning: torch.triangular_solve is deprecated in favor of torch.linalg.solve_triangularand will be removed in a future PyTorch release.\n",
      "torch.linalg.solve_triangular has its arguments reversed and does not return a copy of one of the inputs.\n",
      "X = torch.triangular_solve(B, A).solution\n",
      "should be replaced with\n",
      "X = torch.linalg.solve_triangular(A, B). (Triggered internally at  ../aten/src/ATen/native/BatchLinearAlgebra.cpp:2189.)\n",
      "  outputs, _ = torch.triangular_solve(\n"
     ]
    },
    {
     "name": "stdout",
     "output_type": "stream",
     "text": [
      "0 torch.Size([1000, 3])\n"
     ]
    },
    {
     "data": {
      "application/vnd.jupyter.widget-view+json": {
       "model_id": "373e60336f154724a3373ba34575f3a0",
       "version_major": 2,
       "version_minor": 0
      },
      "text/plain": [
       "Drawing 1000 posterior samples:   0%|          | 0/1000 [00:00<?, ?it/s]"
      ]
     },
     "metadata": {},
     "output_type": "display_data"
    },
    {
     "name": "stdout",
     "output_type": "stream",
     "text": [
      "1 torch.Size([1000, 3])\n"
     ]
    },
    {
     "data": {
      "application/vnd.jupyter.widget-view+json": {
       "model_id": "ce21bcb96ee24096b5410292665b2e71",
       "version_major": 2,
       "version_minor": 0
      },
      "text/plain": [
       "Drawing 1000 posterior samples:   0%|          | 0/1000 [00:00<?, ?it/s]"
      ]
     },
     "metadata": {},
     "output_type": "display_data"
    },
    {
     "name": "stdout",
     "output_type": "stream",
     "text": [
      "2 torch.Size([1000, 3])\n"
     ]
    },
    {
     "data": {
      "application/vnd.jupyter.widget-view+json": {
       "model_id": "ea25ecc7388a4b6e8a37392eb171933e",
       "version_major": 2,
       "version_minor": 0
      },
      "text/plain": [
       "Drawing 1000 posterior samples:   0%|          | 0/1000 [00:00<?, ?it/s]"
      ]
     },
     "metadata": {},
     "output_type": "display_data"
    },
    {
     "name": "stdout",
     "output_type": "stream",
     "text": [
      "3 torch.Size([1000, 3])\n"
     ]
    },
    {
     "data": {
      "application/vnd.jupyter.widget-view+json": {
       "model_id": "35e4500799194a31a8e782d01469b8fd",
       "version_major": 2,
       "version_minor": 0
      },
      "text/plain": [
       "Drawing 1000 posterior samples:   0%|          | 0/1000 [00:00<?, ?it/s]"
      ]
     },
     "metadata": {},
     "output_type": "display_data"
    },
    {
     "name": "stdout",
     "output_type": "stream",
     "text": [
      "4 torch.Size([1000, 3])\n"
     ]
    },
    {
     "data": {
      "application/vnd.jupyter.widget-view+json": {
       "model_id": "d4c15b5fabdc4f4b9fd1e50d1f755253",
       "version_major": 2,
       "version_minor": 0
      },
      "text/plain": [
       "Drawing 1000 posterior samples:   0%|          | 0/1000 [00:00<?, ?it/s]"
      ]
     },
     "metadata": {},
     "output_type": "display_data"
    },
    {
     "name": "stdout",
     "output_type": "stream",
     "text": [
      "5 torch.Size([1000, 3])\n"
     ]
    },
    {
     "data": {
      "application/vnd.jupyter.widget-view+json": {
       "model_id": "de042348df1941f5afe99185e85e056d",
       "version_major": 2,
       "version_minor": 0
      },
      "text/plain": [
       "Drawing 1000 posterior samples:   0%|          | 0/1000 [00:00<?, ?it/s]"
      ]
     },
     "metadata": {},
     "output_type": "display_data"
    },
    {
     "name": "stdout",
     "output_type": "stream",
     "text": [
      "6 torch.Size([1000, 3])\n"
     ]
    },
    {
     "data": {
      "application/vnd.jupyter.widget-view+json": {
       "model_id": "39f6ecb64e6c454db2b38f31971bdf01",
       "version_major": 2,
       "version_minor": 0
      },
      "text/plain": [
       "Drawing 1000 posterior samples:   0%|          | 0/1000 [00:00<?, ?it/s]"
      ]
     },
     "metadata": {},
     "output_type": "display_data"
    },
    {
     "name": "stdout",
     "output_type": "stream",
     "text": [
      "7 torch.Size([1000, 3])\n"
     ]
    },
    {
     "data": {
      "application/vnd.jupyter.widget-view+json": {
       "model_id": "eb61335d07d44b3aad0ad3a1865996c1",
       "version_major": 2,
       "version_minor": 0
      },
      "text/plain": [
       "Drawing 1000 posterior samples:   0%|          | 0/1000 [00:00<?, ?it/s]"
      ]
     },
     "metadata": {},
     "output_type": "display_data"
    },
    {
     "name": "stdout",
     "output_type": "stream",
     "text": [
      "8 torch.Size([1000, 3])\n"
     ]
    },
    {
     "data": {
      "application/vnd.jupyter.widget-view+json": {
       "model_id": "cea09c6cc5184bbfb6cdf9fe76d92480",
       "version_major": 2,
       "version_minor": 0
      },
      "text/plain": [
       "Drawing 1000 posterior samples:   0%|          | 0/1000 [00:00<?, ?it/s]"
      ]
     },
     "metadata": {},
     "output_type": "display_data"
    },
    {
     "name": "stdout",
     "output_type": "stream",
     "text": [
      "9 torch.Size([1000, 3])\n"
     ]
    },
    {
     "data": {
      "application/vnd.jupyter.widget-view+json": {
       "model_id": "30f7a98d3739402da78615758c00de67",
       "version_major": 2,
       "version_minor": 0
      },
      "text/plain": [
       "Drawing 1000 posterior samples:   0%|          | 0/1000 [00:00<?, ?it/s]"
      ]
     },
     "metadata": {},
     "output_type": "display_data"
    },
    {
     "name": "stdout",
     "output_type": "stream",
     "text": [
      "10 torch.Size([1000, 3])\n"
     ]
    },
    {
     "data": {
      "application/vnd.jupyter.widget-view+json": {
       "model_id": "e2fe667a048946ce946639284ae60078",
       "version_major": 2,
       "version_minor": 0
      },
      "text/plain": [
       "Drawing 1000 posterior samples:   0%|          | 0/1000 [00:00<?, ?it/s]"
      ]
     },
     "metadata": {},
     "output_type": "display_data"
    },
    {
     "name": "stdout",
     "output_type": "stream",
     "text": [
      "11 torch.Size([1000, 3])\n"
     ]
    },
    {
     "data": {
      "application/vnd.jupyter.widget-view+json": {
       "model_id": "8341d68ed5cf447b841f3f455b4639b3",
       "version_major": 2,
       "version_minor": 0
      },
      "text/plain": [
       "Drawing 1000 posterior samples:   0%|          | 0/1000 [00:00<?, ?it/s]"
      ]
     },
     "metadata": {},
     "output_type": "display_data"
    },
    {
     "name": "stdout",
     "output_type": "stream",
     "text": [
      "12 torch.Size([1000, 3])\n"
     ]
    },
    {
     "data": {
      "application/vnd.jupyter.widget-view+json": {
       "model_id": "d8550e777d9d43439691da78058460ed",
       "version_major": 2,
       "version_minor": 0
      },
      "text/plain": [
       "Drawing 1000 posterior samples:   0%|          | 0/1000 [00:00<?, ?it/s]"
      ]
     },
     "metadata": {},
     "output_type": "display_data"
    },
    {
     "name": "stdout",
     "output_type": "stream",
     "text": [
      "13 torch.Size([1000, 3])\n"
     ]
    },
    {
     "data": {
      "application/vnd.jupyter.widget-view+json": {
       "model_id": "6ed9b0cfc4784f9bbfd0b95d4df810eb",
       "version_major": 2,
       "version_minor": 0
      },
      "text/plain": [
       "Drawing 1000 posterior samples:   0%|          | 0/1000 [00:00<?, ?it/s]"
      ]
     },
     "metadata": {},
     "output_type": "display_data"
    },
    {
     "name": "stdout",
     "output_type": "stream",
     "text": [
      "14 torch.Size([1000, 3])\n"
     ]
    },
    {
     "data": {
      "application/vnd.jupyter.widget-view+json": {
       "model_id": "a6bd202de3674cac86b40dcb30b3d216",
       "version_major": 2,
       "version_minor": 0
      },
      "text/plain": [
       "Drawing 1000 posterior samples:   0%|          | 0/1000 [00:00<?, ?it/s]"
      ]
     },
     "metadata": {},
     "output_type": "display_data"
    },
    {
     "name": "stdout",
     "output_type": "stream",
     "text": [
      "15 torch.Size([1000, 3])\n"
     ]
    },
    {
     "data": {
      "application/vnd.jupyter.widget-view+json": {
       "model_id": "3daa962c116b454cb0b94930a00e1ca4",
       "version_major": 2,
       "version_minor": 0
      },
      "text/plain": [
       "Drawing 1000 posterior samples:   0%|          | 0/1000 [00:00<?, ?it/s]"
      ]
     },
     "metadata": {},
     "output_type": "display_data"
    },
    {
     "name": "stdout",
     "output_type": "stream",
     "text": [
      "16 torch.Size([1000, 3])\n"
     ]
    },
    {
     "data": {
      "application/vnd.jupyter.widget-view+json": {
       "model_id": "7ff978e21b7543f0944620db7ea8b660",
       "version_major": 2,
       "version_minor": 0
      },
      "text/plain": [
       "Drawing 1000 posterior samples:   0%|          | 0/1000 [00:00<?, ?it/s]"
      ]
     },
     "metadata": {},
     "output_type": "display_data"
    },
    {
     "name": "stdout",
     "output_type": "stream",
     "text": [
      "17 torch.Size([1000, 3])\n"
     ]
    },
    {
     "data": {
      "application/vnd.jupyter.widget-view+json": {
       "model_id": "9d15e7df53594528a7ca8600829236aa",
       "version_major": 2,
       "version_minor": 0
      },
      "text/plain": [
       "Drawing 1000 posterior samples:   0%|          | 0/1000 [00:00<?, ?it/s]"
      ]
     },
     "metadata": {},
     "output_type": "display_data"
    },
    {
     "name": "stdout",
     "output_type": "stream",
     "text": [
      "18 torch.Size([1000, 3])\n"
     ]
    },
    {
     "data": {
      "application/vnd.jupyter.widget-view+json": {
       "model_id": "5e71a2abf2cc484e9162d0b86c08c585",
       "version_major": 2,
       "version_minor": 0
      },
      "text/plain": [
       "Drawing 1000 posterior samples:   0%|          | 0/1000 [00:00<?, ?it/s]"
      ]
     },
     "metadata": {},
     "output_type": "display_data"
    },
    {
     "name": "stdout",
     "output_type": "stream",
     "text": [
      "19 torch.Size([1000, 3])\n"
     ]
    },
    {
     "data": {
      "application/vnd.jupyter.widget-view+json": {
       "model_id": "54b92046d47e43499fe5224651c9ab75",
       "version_major": 2,
       "version_minor": 0
      },
      "text/plain": [
       "Drawing 1000 posterior samples:   0%|          | 0/1000 [00:00<?, ?it/s]"
      ]
     },
     "metadata": {},
     "output_type": "display_data"
    },
    {
     "name": "stdout",
     "output_type": "stream",
     "text": [
      "20 torch.Size([1000, 3])\n"
     ]
    },
    {
     "data": {
      "application/vnd.jupyter.widget-view+json": {
       "model_id": "a0cf18dfbf0748c58e1bb61a2dee84d2",
       "version_major": 2,
       "version_minor": 0
      },
      "text/plain": [
       "Drawing 1000 posterior samples:   0%|          | 0/1000 [00:00<?, ?it/s]"
      ]
     },
     "metadata": {},
     "output_type": "display_data"
    },
    {
     "name": "stdout",
     "output_type": "stream",
     "text": [
      "21 torch.Size([1000, 3])\n"
     ]
    },
    {
     "data": {
      "application/vnd.jupyter.widget-view+json": {
       "model_id": "61b90ea4b00a4eb79a79a1fbda478e0d",
       "version_major": 2,
       "version_minor": 0
      },
      "text/plain": [
       "Drawing 1000 posterior samples:   0%|          | 0/1000 [00:00<?, ?it/s]"
      ]
     },
     "metadata": {},
     "output_type": "display_data"
    },
    {
     "name": "stdout",
     "output_type": "stream",
     "text": [
      "22 torch.Size([1000, 3])\n"
     ]
    },
    {
     "data": {
      "application/vnd.jupyter.widget-view+json": {
       "model_id": "54be7a92a52941fc9e8ad0aa36b3fe37",
       "version_major": 2,
       "version_minor": 0
      },
      "text/plain": [
       "Drawing 1000 posterior samples:   0%|          | 0/1000 [00:00<?, ?it/s]"
      ]
     },
     "metadata": {},
     "output_type": "display_data"
    },
    {
     "name": "stdout",
     "output_type": "stream",
     "text": [
      "23 torch.Size([1000, 3])\n"
     ]
    },
    {
     "data": {
      "application/vnd.jupyter.widget-view+json": {
       "model_id": "51423caa3d7e4918b240d55f24c4ae7f",
       "version_major": 2,
       "version_minor": 0
      },
      "text/plain": [
       "Drawing 1000 posterior samples:   0%|          | 0/1000 [00:00<?, ?it/s]"
      ]
     },
     "metadata": {},
     "output_type": "display_data"
    },
    {
     "name": "stdout",
     "output_type": "stream",
     "text": [
      "24 torch.Size([1000, 3])\n"
     ]
    },
    {
     "data": {
      "application/vnd.jupyter.widget-view+json": {
       "model_id": "e642fd3c5bf3450cb091060e741ba569",
       "version_major": 2,
       "version_minor": 0
      },
      "text/plain": [
       "Drawing 1000 posterior samples:   0%|          | 0/1000 [00:00<?, ?it/s]"
      ]
     },
     "metadata": {},
     "output_type": "display_data"
    },
    {
     "name": "stdout",
     "output_type": "stream",
     "text": [
      "25 torch.Size([1000, 3])\n"
     ]
    },
    {
     "data": {
      "application/vnd.jupyter.widget-view+json": {
       "model_id": "c9ce98f4ce294c4a8787b8910d335054",
       "version_major": 2,
       "version_minor": 0
      },
      "text/plain": [
       "Drawing 1000 posterior samples:   0%|          | 0/1000 [00:00<?, ?it/s]"
      ]
     },
     "metadata": {},
     "output_type": "display_data"
    },
    {
     "name": "stdout",
     "output_type": "stream",
     "text": [
      "26 torch.Size([1000, 3])\n"
     ]
    },
    {
     "data": {
      "application/vnd.jupyter.widget-view+json": {
       "model_id": "e9e2dbd46bff4399aad355c686606edf",
       "version_major": 2,
       "version_minor": 0
      },
      "text/plain": [
       "Drawing 1000 posterior samples:   0%|          | 0/1000 [00:00<?, ?it/s]"
      ]
     },
     "metadata": {},
     "output_type": "display_data"
    },
    {
     "name": "stdout",
     "output_type": "stream",
     "text": [
      "27 torch.Size([1000, 3])\n"
     ]
    },
    {
     "data": {
      "application/vnd.jupyter.widget-view+json": {
       "model_id": "c0e1b15090254834beeb31f85bca528b",
       "version_major": 2,
       "version_minor": 0
      },
      "text/plain": [
       "Drawing 1000 posterior samples:   0%|          | 0/1000 [00:00<?, ?it/s]"
      ]
     },
     "metadata": {},
     "output_type": "display_data"
    },
    {
     "name": "stdout",
     "output_type": "stream",
     "text": [
      "28 torch.Size([1000, 3])\n"
     ]
    },
    {
     "data": {
      "application/vnd.jupyter.widget-view+json": {
       "model_id": "2f5b059cd67641cd9c35ce5f086cc04e",
       "version_major": 2,
       "version_minor": 0
      },
      "text/plain": [
       "Drawing 1000 posterior samples:   0%|          | 0/1000 [00:00<?, ?it/s]"
      ]
     },
     "metadata": {},
     "output_type": "display_data"
    },
    {
     "name": "stdout",
     "output_type": "stream",
     "text": [
      "29 torch.Size([1000, 3])\n"
     ]
    },
    {
     "data": {
      "application/vnd.jupyter.widget-view+json": {
       "model_id": "9834232821514fbe9dd39865037237c4",
       "version_major": 2,
       "version_minor": 0
      },
      "text/plain": [
       "Drawing 1000 posterior samples:   0%|          | 0/1000 [00:00<?, ?it/s]"
      ]
     },
     "metadata": {},
     "output_type": "display_data"
    },
    {
     "name": "stdout",
     "output_type": "stream",
     "text": [
      "30 torch.Size([1000, 3])\n"
     ]
    },
    {
     "data": {
      "application/vnd.jupyter.widget-view+json": {
       "model_id": "5eb2789780c940aa91e464b4adf246cf",
       "version_major": 2,
       "version_minor": 0
      },
      "text/plain": [
       "Drawing 1000 posterior samples:   0%|          | 0/1000 [00:00<?, ?it/s]"
      ]
     },
     "metadata": {},
     "output_type": "display_data"
    },
    {
     "name": "stdout",
     "output_type": "stream",
     "text": [
      "31 torch.Size([1000, 3])\n"
     ]
    },
    {
     "data": {
      "application/vnd.jupyter.widget-view+json": {
       "model_id": "9ad0735ef2074e0fa97fc366afe4ea1b",
       "version_major": 2,
       "version_minor": 0
      },
      "text/plain": [
       "Drawing 1000 posterior samples:   0%|          | 0/1000 [00:00<?, ?it/s]"
      ]
     },
     "metadata": {},
     "output_type": "display_data"
    },
    {
     "name": "stdout",
     "output_type": "stream",
     "text": [
      "32 torch.Size([1000, 3])\n"
     ]
    },
    {
     "data": {
      "application/vnd.jupyter.widget-view+json": {
       "model_id": "d7f5594af43a49ccb24f734f6ccd4e4d",
       "version_major": 2,
       "version_minor": 0
      },
      "text/plain": [
       "Drawing 1000 posterior samples:   0%|          | 0/1000 [00:00<?, ?it/s]"
      ]
     },
     "metadata": {},
     "output_type": "display_data"
    },
    {
     "name": "stdout",
     "output_type": "stream",
     "text": [
      "33 torch.Size([1000, 3])\n"
     ]
    },
    {
     "data": {
      "application/vnd.jupyter.widget-view+json": {
       "model_id": "9ba8c16e48564a8eade93555f9309084",
       "version_major": 2,
       "version_minor": 0
      },
      "text/plain": [
       "Drawing 1000 posterior samples:   0%|          | 0/1000 [00:00<?, ?it/s]"
      ]
     },
     "metadata": {},
     "output_type": "display_data"
    },
    {
     "name": "stdout",
     "output_type": "stream",
     "text": [
      "34 torch.Size([1000, 3])\n"
     ]
    },
    {
     "data": {
      "application/vnd.jupyter.widget-view+json": {
       "model_id": "831b6a52cc98493f9a00b2ff67e5c46d",
       "version_major": 2,
       "version_minor": 0
      },
      "text/plain": [
       "Drawing 1000 posterior samples:   0%|          | 0/1000 [00:00<?, ?it/s]"
      ]
     },
     "metadata": {},
     "output_type": "display_data"
    },
    {
     "name": "stdout",
     "output_type": "stream",
     "text": [
      "35 torch.Size([1000, 3])\n",
      "Save to /data/rajlab1/user_data/jin/MyResearch/SBI-SGM-FC/notebooks/new_sgm/../../mypkg/../results/rawfc2allbd_SBIxANNALLBD_delta-theta-alpha-beta_l_ep100_num1000_densitynsf_MR3_noise_sd120_addv1/inf_res.pkl\n"
     ]
    }
   ],
   "source": [
    "inf_res = edict()\n",
    "for band in paras.bands:\n",
    "    inf_res[f\"est_FCs_{band}\"] = []\n",
    "    inf_res[f\"metrics_{band}\"] = []\n",
    "\n",
    "for sub_idx in range(36):\n",
    "    cur_posterior = load_pkl(sorted_fils[sub_idx], False)\n",
    "    post_sps = cur_posterior.sample((1000, ))\n",
    "    print(sub_idx, post_sps.shape)\n",
    "    cur_est_paras = torch.mean(post_sps, axis=0)\n",
    "    #cur_est_paras = torch.median(post_sps, axis=0)[0]\n",
    "        \n",
    "    # get the cur brain\n",
    "    brain = Brain.Brain()\n",
    "    brain.add_connectome(DATA_ROOT) # grabs distance matrix\n",
    "    brain.reorder_connectome(brain.connectome, brain.distance_matrix)\n",
    "    brain.connectome =  ind_conn[:, :, sub_idx] # re-assign connectome to individual connectome\n",
    "    brain.bi_symmetric_c()\n",
    "    brain.reduce_extreme_dir()\n",
    "        \n",
    "    cur_est_FCs = _simulate_data(cur_est_paras, \n",
    "                                   brain=brain, \n",
    "                                   prior_bds=paras.prior_bds, \n",
    "                                   freqranges=paras.freqranges\n",
    "                                  )\n",
    "    for band_idx in range(len(paras.bands)):\n",
    "        cur_obs_FC = np.abs(fcss[band_idx][sub_idx])\n",
    "        cur_est_FC = np.abs(cur_est_FCs[band_idx])\n",
    "        inf_res[f\"est_FCs_{paras.bands[band_idx]}\"].append(cur_est_FC)\n",
    "        inf_res[f\"metrics_{paras.bands[band_idx]}\"].append(cal_metrics(cur_obs_FC, cur_est_FC))\n",
    "save_pkl(sorted_fils[0].parent/f\"inf_res.pkl\", inf_res, True)"
   ]
  },
  {
   "cell_type": "code",
   "execution_count": 17,
   "id": "0e4df008",
   "metadata": {
    "ExecuteTime": {
     "end_time": "2023-10-27T04:19:04.339769Z",
     "start_time": "2023-10-27T04:19:04.285732Z"
    }
   },
   "outputs": [
    {
     "data": {
      "text/html": [
       "<div>\n",
       "<style scoped>\n",
       "    .dataframe tbody tr th:only-of-type {\n",
       "        vertical-align: middle;\n",
       "    }\n",
       "\n",
       "    .dataframe tbody tr th {\n",
       "        vertical-align: top;\n",
       "    }\n",
       "\n",
       "    .dataframe thead th {\n",
       "        text-align: right;\n",
       "    }\n",
       "</style>\n",
       "<table border=\"1\" class=\"dataframe\">\n",
       "  <thead>\n",
       "    <tr style=\"text-align: right;\">\n",
       "      <th></th>\n",
       "      <th>geo_dist</th>\n",
       "      <th>reg_r</th>\n",
       "      <th>lin_r</th>\n",
       "      <th>tau_r</th>\n",
       "      <th>sp_r</th>\n",
       "      <th>mse</th>\n",
       "      <th>reg_r_block</th>\n",
       "      <th>lin_r_block</th>\n",
       "    </tr>\n",
       "  </thead>\n",
       "  <tbody>\n",
       "    <tr>\n",
       "      <th>count</th>\n",
       "      <td>36.000000</td>\n",
       "      <td>36.000000</td>\n",
       "      <td>36.000000</td>\n",
       "      <td>36.000000</td>\n",
       "      <td>36.000000</td>\n",
       "      <td>36.000000</td>\n",
       "      <td>36.000000</td>\n",
       "      <td>36.000000</td>\n",
       "    </tr>\n",
       "    <tr>\n",
       "      <th>mean</th>\n",
       "      <td>0.642969</td>\n",
       "      <td>0.436770</td>\n",
       "      <td>0.333647</td>\n",
       "      <td>0.204818</td>\n",
       "      <td>0.301779</td>\n",
       "      <td>0.055691</td>\n",
       "      <td>0.392886</td>\n",
       "      <td>0.318919</td>\n",
       "    </tr>\n",
       "    <tr>\n",
       "      <th>std</th>\n",
       "      <td>0.020082</td>\n",
       "      <td>0.052652</td>\n",
       "      <td>0.060261</td>\n",
       "      <td>0.042991</td>\n",
       "      <td>0.061348</td>\n",
       "      <td>0.011545</td>\n",
       "      <td>0.048166</td>\n",
       "      <td>0.050841</td>\n",
       "    </tr>\n",
       "    <tr>\n",
       "      <th>min</th>\n",
       "      <td>0.603076</td>\n",
       "      <td>0.313078</td>\n",
       "      <td>0.218565</td>\n",
       "      <td>0.114078</td>\n",
       "      <td>0.170675</td>\n",
       "      <td>0.042240</td>\n",
       "      <td>0.296401</td>\n",
       "      <td>0.238033</td>\n",
       "    </tr>\n",
       "    <tr>\n",
       "      <th>25%</th>\n",
       "      <td>0.632981</td>\n",
       "      <td>0.393524</td>\n",
       "      <td>0.298538</td>\n",
       "      <td>0.175669</td>\n",
       "      <td>0.259546</td>\n",
       "      <td>0.046763</td>\n",
       "      <td>0.348701</td>\n",
       "      <td>0.270549</td>\n",
       "    </tr>\n",
       "    <tr>\n",
       "      <th>50%</th>\n",
       "      <td>0.644951</td>\n",
       "      <td>0.439766</td>\n",
       "      <td>0.331369</td>\n",
       "      <td>0.194601</td>\n",
       "      <td>0.287516</td>\n",
       "      <td>0.052124</td>\n",
       "      <td>0.393057</td>\n",
       "      <td>0.326969</td>\n",
       "    </tr>\n",
       "    <tr>\n",
       "      <th>75%</th>\n",
       "      <td>0.654748</td>\n",
       "      <td>0.469465</td>\n",
       "      <td>0.378247</td>\n",
       "      <td>0.233994</td>\n",
       "      <td>0.345467</td>\n",
       "      <td>0.066085</td>\n",
       "      <td>0.421368</td>\n",
       "      <td>0.360333</td>\n",
       "    </tr>\n",
       "    <tr>\n",
       "      <th>max</th>\n",
       "      <td>0.677418</td>\n",
       "      <td>0.558911</td>\n",
       "      <td>0.439788</td>\n",
       "      <td>0.306392</td>\n",
       "      <td>0.442619</td>\n",
       "      <td>0.088432</td>\n",
       "      <td>0.508383</td>\n",
       "      <td>0.418709</td>\n",
       "    </tr>\n",
       "  </tbody>\n",
       "</table>\n",
       "</div>"
      ],
      "text/plain": [
       "        geo_dist      reg_r      lin_r      tau_r       sp_r        mse  \\\n",
       "count  36.000000  36.000000  36.000000  36.000000  36.000000  36.000000   \n",
       "mean    0.642969   0.436770   0.333647   0.204818   0.301779   0.055691   \n",
       "std     0.020082   0.052652   0.060261   0.042991   0.061348   0.011545   \n",
       "min     0.603076   0.313078   0.218565   0.114078   0.170675   0.042240   \n",
       "25%     0.632981   0.393524   0.298538   0.175669   0.259546   0.046763   \n",
       "50%     0.644951   0.439766   0.331369   0.194601   0.287516   0.052124   \n",
       "75%     0.654748   0.469465   0.378247   0.233994   0.345467   0.066085   \n",
       "max     0.677418   0.558911   0.439788   0.306392   0.442619   0.088432   \n",
       "\n",
       "       reg_r_block  lin_r_block  \n",
       "count    36.000000    36.000000  \n",
       "mean      0.392886     0.318919  \n",
       "std       0.048166     0.050841  \n",
       "min       0.296401     0.238033  \n",
       "25%       0.348701     0.270549  \n",
       "50%       0.393057     0.326969  \n",
       "75%       0.421368     0.360333  \n",
       "max       0.508383     0.418709  "
      ]
     },
     "execution_count": 17,
     "metadata": {},
     "output_type": "execute_result"
    }
   ],
   "source": [
    "metrics_df = pd.DataFrame(inf_res.metrics_alpha)\n",
    "metrics_df.describe()"
   ]
  },
  {
   "cell_type": "code",
   "execution_count": null,
   "id": "ed09930b",
   "metadata": {},
   "outputs": [],
   "source": []
  },
  {
   "cell_type": "code",
   "execution_count": null,
   "id": "5d7462c2",
   "metadata": {},
   "outputs": [],
   "source": []
  },
  {
   "cell_type": "markdown",
   "id": "873bfee8",
   "metadata": {},
   "source": [
    "### Full Bayesian"
   ]
  },
  {
   "cell_type": "code",
   "execution_count": 22,
   "id": "66f7bd42",
   "metadata": {
    "ExecuteTime": {
     "end_time": "2023-10-10T17:45:50.791760Z",
     "start_time": "2023-10-10T17:39:02.692225Z"
    },
    "scrolled": true
   },
   "outputs": [
    {
     "data": {
      "application/vnd.jupyter.widget-view+json": {
       "model_id": "ba99ccf93b0d45e781748f03bfff8c85",
       "version_major": 2,
       "version_minor": 0
      },
      "text/plain": [
       "Drawing 1000 posterior samples:   0%|          | 0/1000 [00:00<?, ?it/s]"
      ]
     },
     "metadata": {},
     "output_type": "display_data"
    },
    {
     "data": {
      "application/vnd.jupyter.widget-view+json": {
       "model_id": "3ed2bf0f48ec43b9b75482e1c5b642cc",
       "version_major": 2,
       "version_minor": 0
      },
      "text/plain": [
       "Running 1000 simulations in 1000 batches.:   0%|          | 0/1000 [00:00<?, ?it/s]"
      ]
     },
     "metadata": {},
     "output_type": "display_data"
    },
    {
     "name": "stdout",
     "output_type": "stream",
     "text": [
      "torch.Size([750, 4, 68, 68]) 0\n"
     ]
    },
    {
     "data": {
      "application/vnd.jupyter.widget-view+json": {
       "model_id": "87291c894aad4ae0a570150ac6f542c1",
       "version_major": 2,
       "version_minor": 0
      },
      "text/plain": [
       "Drawing 1000 posterior samples:   0%|          | 0/1000 [00:00<?, ?it/s]"
      ]
     },
     "metadata": {},
     "output_type": "display_data"
    },
    {
     "data": {
      "application/vnd.jupyter.widget-view+json": {
       "model_id": "32adf54cb5d344d88f8c565cb5d37308",
       "version_major": 2,
       "version_minor": 0
      },
      "text/plain": [
       "Running 1000 simulations in 1000 batches.:   0%|          | 0/1000 [00:00<?, ?it/s]"
      ]
     },
     "metadata": {},
     "output_type": "display_data"
    },
    {
     "name": "stdout",
     "output_type": "stream",
     "text": [
      "torch.Size([750, 4, 68, 68]) 1\n"
     ]
    },
    {
     "data": {
      "application/vnd.jupyter.widget-view+json": {
       "model_id": "024b33775144407486d899fd23face6c",
       "version_major": 2,
       "version_minor": 0
      },
      "text/plain": [
       "Drawing 1000 posterior samples:   0%|          | 0/1000 [00:00<?, ?it/s]"
      ]
     },
     "metadata": {},
     "output_type": "display_data"
    },
    {
     "data": {
      "application/vnd.jupyter.widget-view+json": {
       "model_id": "f50a7609acbe412085db7ceabf4a3dea",
       "version_major": 2,
       "version_minor": 0
      },
      "text/plain": [
       "Running 1000 simulations in 1000 batches.:   0%|          | 0/1000 [00:00<?, ?it/s]"
      ]
     },
     "metadata": {},
     "output_type": "display_data"
    },
    {
     "name": "stdout",
     "output_type": "stream",
     "text": [
      "torch.Size([750, 4, 68, 68]) 2\n"
     ]
    },
    {
     "data": {
      "application/vnd.jupyter.widget-view+json": {
       "model_id": "ebc71139d64d433b9407453618b5587c",
       "version_major": 2,
       "version_minor": 0
      },
      "text/plain": [
       "Drawing 1000 posterior samples:   0%|          | 0/1000 [00:00<?, ?it/s]"
      ]
     },
     "metadata": {},
     "output_type": "display_data"
    },
    {
     "data": {
      "application/vnd.jupyter.widget-view+json": {
       "model_id": "7569e58426ce4a53a1154934a43b5c36",
       "version_major": 2,
       "version_minor": 0
      },
      "text/plain": [
       "Running 1000 simulations in 1000 batches.:   0%|          | 0/1000 [00:00<?, ?it/s]"
      ]
     },
     "metadata": {},
     "output_type": "display_data"
    },
    {
     "name": "stdout",
     "output_type": "stream",
     "text": [
      "torch.Size([750, 4, 68, 68]) 3\n"
     ]
    },
    {
     "data": {
      "application/vnd.jupyter.widget-view+json": {
       "model_id": "0f6c664a911b41c49029a09570d651b9",
       "version_major": 2,
       "version_minor": 0
      },
      "text/plain": [
       "Drawing 1000 posterior samples:   0%|          | 0/1000 [00:00<?, ?it/s]"
      ]
     },
     "metadata": {},
     "output_type": "display_data"
    },
    {
     "data": {
      "application/vnd.jupyter.widget-view+json": {
       "model_id": "c2f8fb289a274f28a6c8a354a37fbb90",
       "version_major": 2,
       "version_minor": 0
      },
      "text/plain": [
       "Running 1000 simulations in 1000 batches.:   0%|          | 0/1000 [00:00<?, ?it/s]"
      ]
     },
     "metadata": {},
     "output_type": "display_data"
    },
    {
     "name": "stdout",
     "output_type": "stream",
     "text": [
      "torch.Size([750, 4, 68, 68]) 4\n"
     ]
    },
    {
     "data": {
      "application/vnd.jupyter.widget-view+json": {
       "model_id": "23188be1e5954e4d9f9c47934275fbcf",
       "version_major": 2,
       "version_minor": 0
      },
      "text/plain": [
       "Drawing 1000 posterior samples:   0%|          | 0/1000 [00:00<?, ?it/s]"
      ]
     },
     "metadata": {},
     "output_type": "display_data"
    },
    {
     "data": {
      "application/vnd.jupyter.widget-view+json": {
       "model_id": "4f70630069ec43fc9055e685252057e4",
       "version_major": 2,
       "version_minor": 0
      },
      "text/plain": [
       "Running 1000 simulations in 1000 batches.:   0%|          | 0/1000 [00:00<?, ?it/s]"
      ]
     },
     "metadata": {},
     "output_type": "display_data"
    },
    {
     "name": "stdout",
     "output_type": "stream",
     "text": [
      "torch.Size([750, 4, 68, 68]) 5\n"
     ]
    },
    {
     "data": {
      "application/vnd.jupyter.widget-view+json": {
       "model_id": "06c28c228d5346db98e84031f4aea20c",
       "version_major": 2,
       "version_minor": 0
      },
      "text/plain": [
       "Drawing 1000 posterior samples:   0%|          | 0/1000 [00:00<?, ?it/s]"
      ]
     },
     "metadata": {},
     "output_type": "display_data"
    },
    {
     "data": {
      "application/vnd.jupyter.widget-view+json": {
       "model_id": "6a9acafe0d874351bb49e3f1c29c1b8f",
       "version_major": 2,
       "version_minor": 0
      },
      "text/plain": [
       "Running 1000 simulations in 1000 batches.:   0%|          | 0/1000 [00:00<?, ?it/s]"
      ]
     },
     "metadata": {},
     "output_type": "display_data"
    },
    {
     "name": "stdout",
     "output_type": "stream",
     "text": [
      "torch.Size([750, 4, 68, 68]) 6\n"
     ]
    },
    {
     "data": {
      "application/vnd.jupyter.widget-view+json": {
       "model_id": "50cbcadc3b2f4ee5ac6b88ca2a696745",
       "version_major": 2,
       "version_minor": 0
      },
      "text/plain": [
       "Drawing 1000 posterior samples:   0%|          | 0/1000 [00:00<?, ?it/s]"
      ]
     },
     "metadata": {},
     "output_type": "display_data"
    },
    {
     "data": {
      "application/vnd.jupyter.widget-view+json": {
       "model_id": "03d709acd6334e10a59110d29d3bd6b2",
       "version_major": 2,
       "version_minor": 0
      },
      "text/plain": [
       "Running 1000 simulations in 1000 batches.:   0%|          | 0/1000 [00:00<?, ?it/s]"
      ]
     },
     "metadata": {},
     "output_type": "display_data"
    },
    {
     "name": "stdout",
     "output_type": "stream",
     "text": [
      "torch.Size([750, 4, 68, 68]) 7\n"
     ]
    },
    {
     "data": {
      "application/vnd.jupyter.widget-view+json": {
       "model_id": "aa1689ef614f4d72b823bb1e40a29f0a",
       "version_major": 2,
       "version_minor": 0
      },
      "text/plain": [
       "Drawing 1000 posterior samples:   0%|          | 0/1000 [00:00<?, ?it/s]"
      ]
     },
     "metadata": {},
     "output_type": "display_data"
    },
    {
     "data": {
      "application/vnd.jupyter.widget-view+json": {
       "model_id": "aea2b4d0abdc4e16a308737db96179e9",
       "version_major": 2,
       "version_minor": 0
      },
      "text/plain": [
       "Running 1000 simulations in 1000 batches.:   0%|          | 0/1000 [00:00<?, ?it/s]"
      ]
     },
     "metadata": {},
     "output_type": "display_data"
    },
    {
     "name": "stdout",
     "output_type": "stream",
     "text": [
      "torch.Size([750, 4, 68, 68]) 8\n"
     ]
    },
    {
     "data": {
      "application/vnd.jupyter.widget-view+json": {
       "model_id": "a2f77cc87077436fa50fd28a0f9ef9a8",
       "version_major": 2,
       "version_minor": 0
      },
      "text/plain": [
       "Drawing 1000 posterior samples:   0%|          | 0/1000 [00:00<?, ?it/s]"
      ]
     },
     "metadata": {},
     "output_type": "display_data"
    },
    {
     "data": {
      "application/vnd.jupyter.widget-view+json": {
       "model_id": "ed927daf41d6440e9508de8176eefa51",
       "version_major": 2,
       "version_minor": 0
      },
      "text/plain": [
       "Running 1000 simulations in 1000 batches.:   0%|          | 0/1000 [00:00<?, ?it/s]"
      ]
     },
     "metadata": {},
     "output_type": "display_data"
    },
    {
     "name": "stdout",
     "output_type": "stream",
     "text": [
      "torch.Size([750, 4, 68, 68]) 9\n"
     ]
    },
    {
     "data": {
      "application/vnd.jupyter.widget-view+json": {
       "model_id": "2bc701b072214a5da26d7678879485fc",
       "version_major": 2,
       "version_minor": 0
      },
      "text/plain": [
       "Drawing 1000 posterior samples:   0%|          | 0/1000 [00:00<?, ?it/s]"
      ]
     },
     "metadata": {},
     "output_type": "display_data"
    },
    {
     "data": {
      "application/vnd.jupyter.widget-view+json": {
       "model_id": "0577ce4511064803abd14372f0c0bc4e",
       "version_major": 2,
       "version_minor": 0
      },
      "text/plain": [
       "Running 1000 simulations in 1000 batches.:   0%|          | 0/1000 [00:00<?, ?it/s]"
      ]
     },
     "metadata": {},
     "output_type": "display_data"
    },
    {
     "name": "stdout",
     "output_type": "stream",
     "text": [
      "torch.Size([750, 4, 68, 68]) 10\n"
     ]
    },
    {
     "data": {
      "application/vnd.jupyter.widget-view+json": {
       "model_id": "3be9c90c189345a1bbacceba44182941",
       "version_major": 2,
       "version_minor": 0
      },
      "text/plain": [
       "Drawing 1000 posterior samples:   0%|          | 0/1000 [00:00<?, ?it/s]"
      ]
     },
     "metadata": {},
     "output_type": "display_data"
    },
    {
     "data": {
      "application/vnd.jupyter.widget-view+json": {
       "model_id": "8fadaae7ae2e4bbd9cf850f40c5f2c60",
       "version_major": 2,
       "version_minor": 0
      },
      "text/plain": [
       "Running 1000 simulations in 1000 batches.:   0%|          | 0/1000 [00:00<?, ?it/s]"
      ]
     },
     "metadata": {},
     "output_type": "display_data"
    },
    {
     "name": "stdout",
     "output_type": "stream",
     "text": [
      "torch.Size([750, 4, 68, 68]) 11\n"
     ]
    },
    {
     "data": {
      "application/vnd.jupyter.widget-view+json": {
       "model_id": "09b888583fc643b99dbb6ce218f23375",
       "version_major": 2,
       "version_minor": 0
      },
      "text/plain": [
       "Drawing 1000 posterior samples:   0%|          | 0/1000 [00:00<?, ?it/s]"
      ]
     },
     "metadata": {},
     "output_type": "display_data"
    },
    {
     "data": {
      "application/vnd.jupyter.widget-view+json": {
       "model_id": "50ef9db1ca7240ebb2f3d902a5e9ff39",
       "version_major": 2,
       "version_minor": 0
      },
      "text/plain": [
       "Running 1000 simulations in 1000 batches.:   0%|          | 0/1000 [00:00<?, ?it/s]"
      ]
     },
     "metadata": {},
     "output_type": "display_data"
    },
    {
     "name": "stdout",
     "output_type": "stream",
     "text": [
      "torch.Size([750, 4, 68, 68]) 12\n"
     ]
    },
    {
     "data": {
      "application/vnd.jupyter.widget-view+json": {
       "model_id": "643bfeb37a814a5986f2e61c1f555992",
       "version_major": 2,
       "version_minor": 0
      },
      "text/plain": [
       "Drawing 1000 posterior samples:   0%|          | 0/1000 [00:00<?, ?it/s]"
      ]
     },
     "metadata": {},
     "output_type": "display_data"
    },
    {
     "data": {
      "application/vnd.jupyter.widget-view+json": {
       "model_id": "8a35514729374a4197b06006249ee167",
       "version_major": 2,
       "version_minor": 0
      },
      "text/plain": [
       "Running 1000 simulations in 1000 batches.:   0%|          | 0/1000 [00:00<?, ?it/s]"
      ]
     },
     "metadata": {},
     "output_type": "display_data"
    },
    {
     "name": "stdout",
     "output_type": "stream",
     "text": [
      "torch.Size([750, 4, 68, 68]) 13\n"
     ]
    },
    {
     "data": {
      "application/vnd.jupyter.widget-view+json": {
       "model_id": "b4659efbd4de4bc7a603864ee686d495",
       "version_major": 2,
       "version_minor": 0
      },
      "text/plain": [
       "Drawing 1000 posterior samples:   0%|          | 0/1000 [00:00<?, ?it/s]"
      ]
     },
     "metadata": {},
     "output_type": "display_data"
    },
    {
     "data": {
      "application/vnd.jupyter.widget-view+json": {
       "model_id": "8095e5c2ba0543b69ac7ecdf3bfd092a",
       "version_major": 2,
       "version_minor": 0
      },
      "text/plain": [
       "Running 1000 simulations in 1000 batches.:   0%|          | 0/1000 [00:00<?, ?it/s]"
      ]
     },
     "metadata": {},
     "output_type": "display_data"
    },
    {
     "name": "stdout",
     "output_type": "stream",
     "text": [
      "torch.Size([750, 4, 68, 68]) 14\n"
     ]
    },
    {
     "data": {
      "application/vnd.jupyter.widget-view+json": {
       "model_id": "26e8f3b8380945fd9907cee3ece99d53",
       "version_major": 2,
       "version_minor": 0
      },
      "text/plain": [
       "Drawing 1000 posterior samples:   0%|          | 0/1000 [00:00<?, ?it/s]"
      ]
     },
     "metadata": {},
     "output_type": "display_data"
    },
    {
     "data": {
      "application/vnd.jupyter.widget-view+json": {
       "model_id": "6725ced1bca4474ea838636f652ef710",
       "version_major": 2,
       "version_minor": 0
      },
      "text/plain": [
       "Running 1000 simulations in 1000 batches.:   0%|          | 0/1000 [00:00<?, ?it/s]"
      ]
     },
     "metadata": {},
     "output_type": "display_data"
    },
    {
     "name": "stdout",
     "output_type": "stream",
     "text": [
      "torch.Size([750, 4, 68, 68]) 15\n"
     ]
    },
    {
     "data": {
      "application/vnd.jupyter.widget-view+json": {
       "model_id": "cafe3bdeac6745249c184622724b3b17",
       "version_major": 2,
       "version_minor": 0
      },
      "text/plain": [
       "Drawing 1000 posterior samples:   0%|          | 0/1000 [00:00<?, ?it/s]"
      ]
     },
     "metadata": {},
     "output_type": "display_data"
    },
    {
     "data": {
      "application/vnd.jupyter.widget-view+json": {
       "model_id": "8723c0ebeb244651b681ee17b30501d1",
       "version_major": 2,
       "version_minor": 0
      },
      "text/plain": [
       "Running 1000 simulations in 1000 batches.:   0%|          | 0/1000 [00:00<?, ?it/s]"
      ]
     },
     "metadata": {},
     "output_type": "display_data"
    },
    {
     "name": "stdout",
     "output_type": "stream",
     "text": [
      "torch.Size([750, 4, 68, 68]) 16\n"
     ]
    },
    {
     "data": {
      "application/vnd.jupyter.widget-view+json": {
       "model_id": "c858ce7e95f04b2a8ec47ea3d4b45742",
       "version_major": 2,
       "version_minor": 0
      },
      "text/plain": [
       "Drawing 1000 posterior samples:   0%|          | 0/1000 [00:00<?, ?it/s]"
      ]
     },
     "metadata": {},
     "output_type": "display_data"
    },
    {
     "data": {
      "application/vnd.jupyter.widget-view+json": {
       "model_id": "1c0ee52fe3ff4ac69059f1e3d2324709",
       "version_major": 2,
       "version_minor": 0
      },
      "text/plain": [
       "Running 1000 simulations in 1000 batches.:   0%|          | 0/1000 [00:00<?, ?it/s]"
      ]
     },
     "metadata": {},
     "output_type": "display_data"
    },
    {
     "name": "stdout",
     "output_type": "stream",
     "text": [
      "torch.Size([750, 4, 68, 68]) 17\n"
     ]
    },
    {
     "data": {
      "application/vnd.jupyter.widget-view+json": {
       "model_id": "958250ea6359461eac4329287bd5fef7",
       "version_major": 2,
       "version_minor": 0
      },
      "text/plain": [
       "Drawing 1000 posterior samples:   0%|          | 0/1000 [00:00<?, ?it/s]"
      ]
     },
     "metadata": {},
     "output_type": "display_data"
    },
    {
     "data": {
      "application/vnd.jupyter.widget-view+json": {
       "model_id": "224268a03b2a4dcdbd1a8ff1e5d88e37",
       "version_major": 2,
       "version_minor": 0
      },
      "text/plain": [
       "Running 1000 simulations in 1000 batches.:   0%|          | 0/1000 [00:00<?, ?it/s]"
      ]
     },
     "metadata": {},
     "output_type": "display_data"
    },
    {
     "name": "stdout",
     "output_type": "stream",
     "text": [
      "torch.Size([750, 4, 68, 68]) 18\n"
     ]
    },
    {
     "data": {
      "application/vnd.jupyter.widget-view+json": {
       "model_id": "cf8bcaa628b04c9da9394c6260b91476",
       "version_major": 2,
       "version_minor": 0
      },
      "text/plain": [
       "Drawing 1000 posterior samples:   0%|          | 0/1000 [00:00<?, ?it/s]"
      ]
     },
     "metadata": {},
     "output_type": "display_data"
    },
    {
     "data": {
      "application/vnd.jupyter.widget-view+json": {
       "model_id": "be85da58bc834dffbfb5d37c165751c4",
       "version_major": 2,
       "version_minor": 0
      },
      "text/plain": [
       "Running 1000 simulations in 1000 batches.:   0%|          | 0/1000 [00:00<?, ?it/s]"
      ]
     },
     "metadata": {},
     "output_type": "display_data"
    },
    {
     "name": "stdout",
     "output_type": "stream",
     "text": [
      "torch.Size([750, 4, 68, 68]) 19\n"
     ]
    },
    {
     "data": {
      "application/vnd.jupyter.widget-view+json": {
       "model_id": "e5e3f40a7caf4c62a916605985488d3f",
       "version_major": 2,
       "version_minor": 0
      },
      "text/plain": [
       "Drawing 1000 posterior samples:   0%|          | 0/1000 [00:00<?, ?it/s]"
      ]
     },
     "metadata": {},
     "output_type": "display_data"
    },
    {
     "data": {
      "application/vnd.jupyter.widget-view+json": {
       "model_id": "ecb1fee465174c528a50576a0b179035",
       "version_major": 2,
       "version_minor": 0
      },
      "text/plain": [
       "Running 1000 simulations in 1000 batches.:   0%|          | 0/1000 [00:00<?, ?it/s]"
      ]
     },
     "metadata": {},
     "output_type": "display_data"
    },
    {
     "name": "stdout",
     "output_type": "stream",
     "text": [
      "torch.Size([750, 4, 68, 68]) 20\n"
     ]
    },
    {
     "data": {
      "application/vnd.jupyter.widget-view+json": {
       "model_id": "d6bdcfe88e1148daaae1a6bcf79b37ad",
       "version_major": 2,
       "version_minor": 0
      },
      "text/plain": [
       "Drawing 1000 posterior samples:   0%|          | 0/1000 [00:00<?, ?it/s]"
      ]
     },
     "metadata": {},
     "output_type": "display_data"
    },
    {
     "data": {
      "application/vnd.jupyter.widget-view+json": {
       "model_id": "e1206ac68c054a67878f4e2bea3490f0",
       "version_major": 2,
       "version_minor": 0
      },
      "text/plain": [
       "Running 1000 simulations in 1000 batches.:   0%|          | 0/1000 [00:00<?, ?it/s]"
      ]
     },
     "metadata": {},
     "output_type": "display_data"
    },
    {
     "name": "stdout",
     "output_type": "stream",
     "text": [
      "torch.Size([750, 4, 68, 68]) 21\n"
     ]
    },
    {
     "data": {
      "application/vnd.jupyter.widget-view+json": {
       "model_id": "a156bd9225d1413faef2b8b4482a500b",
       "version_major": 2,
       "version_minor": 0
      },
      "text/plain": [
       "Drawing 1000 posterior samples:   0%|          | 0/1000 [00:00<?, ?it/s]"
      ]
     },
     "metadata": {},
     "output_type": "display_data"
    },
    {
     "data": {
      "application/vnd.jupyter.widget-view+json": {
       "model_id": "3fc60ba97cb94e35bdf50bb50a37670c",
       "version_major": 2,
       "version_minor": 0
      },
      "text/plain": [
       "Running 1000 simulations in 1000 batches.:   0%|          | 0/1000 [00:00<?, ?it/s]"
      ]
     },
     "metadata": {},
     "output_type": "display_data"
    },
    {
     "name": "stdout",
     "output_type": "stream",
     "text": [
      "torch.Size([750, 4, 68, 68]) 22\n"
     ]
    },
    {
     "data": {
      "application/vnd.jupyter.widget-view+json": {
       "model_id": "0b6bfa36b63c4f7da03f53c058b9755f",
       "version_major": 2,
       "version_minor": 0
      },
      "text/plain": [
       "Drawing 1000 posterior samples:   0%|          | 0/1000 [00:00<?, ?it/s]"
      ]
     },
     "metadata": {},
     "output_type": "display_data"
    },
    {
     "data": {
      "application/vnd.jupyter.widget-view+json": {
       "model_id": "49df912406ef400da2beac3060f76046",
       "version_major": 2,
       "version_minor": 0
      },
      "text/plain": [
       "Running 1000 simulations in 1000 batches.:   0%|          | 0/1000 [00:00<?, ?it/s]"
      ]
     },
     "metadata": {},
     "output_type": "display_data"
    },
    {
     "name": "stdout",
     "output_type": "stream",
     "text": [
      "torch.Size([750, 4, 68, 68]) 23\n"
     ]
    },
    {
     "data": {
      "application/vnd.jupyter.widget-view+json": {
       "model_id": "4d98b688937745f186c8c5d801ad872f",
       "version_major": 2,
       "version_minor": 0
      },
      "text/plain": [
       "Drawing 1000 posterior samples:   0%|          | 0/1000 [00:00<?, ?it/s]"
      ]
     },
     "metadata": {},
     "output_type": "display_data"
    },
    {
     "data": {
      "application/vnd.jupyter.widget-view+json": {
       "model_id": "20f73875cf1e4cae89302fbe1f3d91f2",
       "version_major": 2,
       "version_minor": 0
      },
      "text/plain": [
       "Running 1000 simulations in 1000 batches.:   0%|          | 0/1000 [00:00<?, ?it/s]"
      ]
     },
     "metadata": {},
     "output_type": "display_data"
    },
    {
     "name": "stdout",
     "output_type": "stream",
     "text": [
      "torch.Size([750, 4, 68, 68]) 24\n"
     ]
    },
    {
     "data": {
      "application/vnd.jupyter.widget-view+json": {
       "model_id": "3c9c2a6fae5b47d8b2fe61e3572c00f0",
       "version_major": 2,
       "version_minor": 0
      },
      "text/plain": [
       "Drawing 1000 posterior samples:   0%|          | 0/1000 [00:00<?, ?it/s]"
      ]
     },
     "metadata": {},
     "output_type": "display_data"
    },
    {
     "data": {
      "application/vnd.jupyter.widget-view+json": {
       "model_id": "b5c08acbbf824f19bdca0a38b37fe9b8",
       "version_major": 2,
       "version_minor": 0
      },
      "text/plain": [
       "Running 1000 simulations in 1000 batches.:   0%|          | 0/1000 [00:00<?, ?it/s]"
      ]
     },
     "metadata": {},
     "output_type": "display_data"
    },
    {
     "name": "stdout",
     "output_type": "stream",
     "text": [
      "torch.Size([750, 4, 68, 68]) 25\n"
     ]
    },
    {
     "data": {
      "application/vnd.jupyter.widget-view+json": {
       "model_id": "1cde77f432904d1aaba537dd0a0a1f89",
       "version_major": 2,
       "version_minor": 0
      },
      "text/plain": [
       "Drawing 1000 posterior samples:   0%|          | 0/1000 [00:00<?, ?it/s]"
      ]
     },
     "metadata": {},
     "output_type": "display_data"
    },
    {
     "data": {
      "application/vnd.jupyter.widget-view+json": {
       "model_id": "6766cf19c9b647db8c53b98bfce33538",
       "version_major": 2,
       "version_minor": 0
      },
      "text/plain": [
       "Running 1000 simulations in 1000 batches.:   0%|          | 0/1000 [00:00<?, ?it/s]"
      ]
     },
     "metadata": {},
     "output_type": "display_data"
    },
    {
     "name": "stdout",
     "output_type": "stream",
     "text": [
      "torch.Size([750, 4, 68, 68]) 26\n"
     ]
    },
    {
     "data": {
      "application/vnd.jupyter.widget-view+json": {
       "model_id": "ff28470cfc854de99ac68ff746772bbe",
       "version_major": 2,
       "version_minor": 0
      },
      "text/plain": [
       "Drawing 1000 posterior samples:   0%|          | 0/1000 [00:00<?, ?it/s]"
      ]
     },
     "metadata": {},
     "output_type": "display_data"
    },
    {
     "data": {
      "application/vnd.jupyter.widget-view+json": {
       "model_id": "e9b5c9c8c7f94530a82f2c4a2cd1c620",
       "version_major": 2,
       "version_minor": 0
      },
      "text/plain": [
       "Running 1000 simulations in 1000 batches.:   0%|          | 0/1000 [00:00<?, ?it/s]"
      ]
     },
     "metadata": {},
     "output_type": "display_data"
    },
    {
     "name": "stdout",
     "output_type": "stream",
     "text": [
      "torch.Size([750, 4, 68, 68]) 27\n"
     ]
    },
    {
     "data": {
      "application/vnd.jupyter.widget-view+json": {
       "model_id": "d77f9eec44d74827b573535b61019f48",
       "version_major": 2,
       "version_minor": 0
      },
      "text/plain": [
       "Drawing 1000 posterior samples:   0%|          | 0/1000 [00:00<?, ?it/s]"
      ]
     },
     "metadata": {},
     "output_type": "display_data"
    },
    {
     "data": {
      "application/vnd.jupyter.widget-view+json": {
       "model_id": "939759b3f00349c4b38dac412ca7d327",
       "version_major": 2,
       "version_minor": 0
      },
      "text/plain": [
       "Running 1000 simulations in 1000 batches.:   0%|          | 0/1000 [00:00<?, ?it/s]"
      ]
     },
     "metadata": {},
     "output_type": "display_data"
    },
    {
     "name": "stdout",
     "output_type": "stream",
     "text": [
      "torch.Size([750, 4, 68, 68]) 28\n"
     ]
    },
    {
     "data": {
      "application/vnd.jupyter.widget-view+json": {
       "model_id": "cbe2e044ea5e4866b36b2b27c914421d",
       "version_major": 2,
       "version_minor": 0
      },
      "text/plain": [
       "Drawing 1000 posterior samples:   0%|          | 0/1000 [00:00<?, ?it/s]"
      ]
     },
     "metadata": {},
     "output_type": "display_data"
    },
    {
     "data": {
      "application/vnd.jupyter.widget-view+json": {
       "model_id": "373d042fcbbf481d891acecfa1f0072f",
       "version_major": 2,
       "version_minor": 0
      },
      "text/plain": [
       "Running 1000 simulations in 1000 batches.:   0%|          | 0/1000 [00:00<?, ?it/s]"
      ]
     },
     "metadata": {},
     "output_type": "display_data"
    },
    {
     "name": "stdout",
     "output_type": "stream",
     "text": [
      "torch.Size([750, 4, 68, 68]) 29\n"
     ]
    },
    {
     "data": {
      "application/vnd.jupyter.widget-view+json": {
       "model_id": "aa74a9f1c06e482db944a8504bd92d42",
       "version_major": 2,
       "version_minor": 0
      },
      "text/plain": [
       "Drawing 1000 posterior samples:   0%|          | 0/1000 [00:00<?, ?it/s]"
      ]
     },
     "metadata": {},
     "output_type": "display_data"
    },
    {
     "data": {
      "application/vnd.jupyter.widget-view+json": {
       "model_id": "05321e696ab543c29a5763eeb69b60d1",
       "version_major": 2,
       "version_minor": 0
      },
      "text/plain": [
       "Running 1000 simulations in 1000 batches.:   0%|          | 0/1000 [00:00<?, ?it/s]"
      ]
     },
     "metadata": {},
     "output_type": "display_data"
    },
    {
     "name": "stdout",
     "output_type": "stream",
     "text": [
      "torch.Size([750, 4, 68, 68]) 30\n"
     ]
    },
    {
     "data": {
      "application/vnd.jupyter.widget-view+json": {
       "model_id": "7137e64751824689a6abdfe12037d8c5",
       "version_major": 2,
       "version_minor": 0
      },
      "text/plain": [
       "Drawing 1000 posterior samples:   0%|          | 0/1000 [00:00<?, ?it/s]"
      ]
     },
     "metadata": {},
     "output_type": "display_data"
    },
    {
     "data": {
      "application/vnd.jupyter.widget-view+json": {
       "model_id": "32e76e9f0f4c435e990cf634532a8ee4",
       "version_major": 2,
       "version_minor": 0
      },
      "text/plain": [
       "Running 1000 simulations in 1000 batches.:   0%|          | 0/1000 [00:00<?, ?it/s]"
      ]
     },
     "metadata": {},
     "output_type": "display_data"
    },
    {
     "name": "stdout",
     "output_type": "stream",
     "text": [
      "torch.Size([750, 4, 68, 68]) 31\n"
     ]
    },
    {
     "data": {
      "application/vnd.jupyter.widget-view+json": {
       "model_id": "89822295dee24e3ea927353c5b94a9fa",
       "version_major": 2,
       "version_minor": 0
      },
      "text/plain": [
       "Drawing 1000 posterior samples:   0%|          | 0/1000 [00:00<?, ?it/s]"
      ]
     },
     "metadata": {},
     "output_type": "display_data"
    },
    {
     "data": {
      "application/vnd.jupyter.widget-view+json": {
       "model_id": "e6b0295aa0104abd86ebfc90a417f9bb",
       "version_major": 2,
       "version_minor": 0
      },
      "text/plain": [
       "Running 1000 simulations in 1000 batches.:   0%|          | 0/1000 [00:00<?, ?it/s]"
      ]
     },
     "metadata": {},
     "output_type": "display_data"
    },
    {
     "name": "stdout",
     "output_type": "stream",
     "text": [
      "torch.Size([750, 4, 68, 68]) 32\n"
     ]
    },
    {
     "data": {
      "application/vnd.jupyter.widget-view+json": {
       "model_id": "8a1dbb769ff04ebe8a5e3d720216e3f6",
       "version_major": 2,
       "version_minor": 0
      },
      "text/plain": [
       "Drawing 1000 posterior samples:   0%|          | 0/1000 [00:00<?, ?it/s]"
      ]
     },
     "metadata": {},
     "output_type": "display_data"
    },
    {
     "data": {
      "application/vnd.jupyter.widget-view+json": {
       "model_id": "2f333c0f16c945749602c6ddee324686",
       "version_major": 2,
       "version_minor": 0
      },
      "text/plain": [
       "Running 1000 simulations in 1000 batches.:   0%|          | 0/1000 [00:00<?, ?it/s]"
      ]
     },
     "metadata": {},
     "output_type": "display_data"
    },
    {
     "name": "stdout",
     "output_type": "stream",
     "text": [
      "torch.Size([750, 4, 68, 68]) 33\n"
     ]
    },
    {
     "data": {
      "application/vnd.jupyter.widget-view+json": {
       "model_id": "ca35491e5bba4f41bbd7af85f2299b99",
       "version_major": 2,
       "version_minor": 0
      },
      "text/plain": [
       "Drawing 1000 posterior samples:   0%|          | 0/1000 [00:00<?, ?it/s]"
      ]
     },
     "metadata": {},
     "output_type": "display_data"
    },
    {
     "data": {
      "application/vnd.jupyter.widget-view+json": {
       "model_id": "257ddf5a9f45404c9885b3588aac8839",
       "version_major": 2,
       "version_minor": 0
      },
      "text/plain": [
       "Running 1000 simulations in 1000 batches.:   0%|          | 0/1000 [00:00<?, ?it/s]"
      ]
     },
     "metadata": {},
     "output_type": "display_data"
    },
    {
     "name": "stdout",
     "output_type": "stream",
     "text": [
      "torch.Size([750, 4, 68, 68]) 34\n"
     ]
    },
    {
     "data": {
      "application/vnd.jupyter.widget-view+json": {
       "model_id": "cffc460592504714a51190d582a577af",
       "version_major": 2,
       "version_minor": 0
      },
      "text/plain": [
       "Drawing 1000 posterior samples:   0%|          | 0/1000 [00:00<?, ?it/s]"
      ]
     },
     "metadata": {},
     "output_type": "display_data"
    },
    {
     "data": {
      "application/vnd.jupyter.widget-view+json": {
       "model_id": "23a27e23825742d7ae84e09288dd1f2d",
       "version_major": 2,
       "version_minor": 0
      },
      "text/plain": [
       "Running 1000 simulations in 1000 batches.:   0%|          | 0/1000 [00:00<?, ?it/s]"
      ]
     },
     "metadata": {},
     "output_type": "display_data"
    },
    {
     "name": "stdout",
     "output_type": "stream",
     "text": [
      "torch.Size([750, 4, 68, 68]) 35\n",
      "Save to /data/rajlab1/user_data/jin/MyResearch/SBI-SGM-FC/notebooks/new_sgm/../../mypkg/../results/rawfc2allbd_SBIxANNALLBD_delta-theta-alpha_ep100_num1000_densitynsf_MR3_noise_sd120_addv1/inf_res_fb.pkl\n"
     ]
    }
   ],
   "source": [
    "inf_res_fb = edict()\n",
    "for band in paras.bands:\n",
    "    inf_res_fb[f\"est_FCs_{band}\"] = []\n",
    "    inf_res_fb[f\"metrics_{band}\"] = []\n",
    "\n",
    "metrics = []\n",
    "for sub_idx in range(36):\n",
    "    # get the cur brain\n",
    "    brain = Brain.Brain()\n",
    "    brain.add_connectome(DATA_ROOT) # grabs distance matrix\n",
    "    brain.reorder_connectome(brain.connectome, brain.distance_matrix)\n",
    "    brain.connectome =  ind_conn[:, :, sub_idx] # re-assign connectome to individual connectome\n",
    "    brain.bi_symmetric_c()\n",
    "    brain.reduce_extreme_dir()\n",
    "    \n",
    "    _simulate_data_sp = partial(_simulate_data, \n",
    "                                brain=brain, \n",
    "                                prior_bds=paras.prior_bds, \n",
    "                                freqranges=paras.freqranges)\n",
    "    _simulate_data_wrapper, _ = prepare_for_sbi(_simulate_data_sp, tmp_prior)\n",
    "    \n",
    "    cur_posterior = load_pkl(sorted_fils[sub_idx], False)\n",
    "    _, cur_post_fcs = simulate_for_sbi(_simulate_data_wrapper, cur_posterior,\n",
    "                                        num_simulations=1000, \n",
    "                                        num_workers=50)\n",
    "    cur_post_fcs = cur_post_fcs.reshape(-1, 4, 68, 68)\n",
    "    print(cur_post_fcs.shape, sub_idx)\n",
    "    \n",
    "    for band_idx in range(len(paras.bands)):\n",
    "        cur_obs_FC = np.abs(fcss[band_idx][sub_idx])\n",
    "        cur_est_FC = np.abs(cur_post_fcs.mean(axis=0).numpy())[band_idx]\n",
    "        inf_res_fb[f\"est_FCs_{paras.bands[band_idx]}\"].append(cur_est_FC)\n",
    "        inf_res_fb[f\"metrics_{paras.bands[band_idx]}\"].append(cal_metrics(cur_obs_FC, cur_est_FC))\n",
    "    \n",
    "save_pkl(sorted_fils[0].parent/\"inf_res_fb.pkl\", inf_res_fb)"
   ]
  },
  {
   "cell_type": "code",
   "execution_count": 60,
   "id": "497987ad",
   "metadata": {
    "ExecuteTime": {
     "end_time": "2023-08-25T15:06:17.811740Z",
     "start_time": "2023-08-25T15:06:17.772352Z"
    }
   },
   "outputs": [
    {
     "data": {
      "text/html": [
       "<div>\n",
       "<style scoped>\n",
       "    .dataframe tbody tr th:only-of-type {\n",
       "        vertical-align: middle;\n",
       "    }\n",
       "\n",
       "    .dataframe tbody tr th {\n",
       "        vertical-align: top;\n",
       "    }\n",
       "\n",
       "    .dataframe thead th {\n",
       "        text-align: right;\n",
       "    }\n",
       "</style>\n",
       "<table border=\"1\" class=\"dataframe\">\n",
       "  <thead>\n",
       "    <tr style=\"text-align: right;\">\n",
       "      <th></th>\n",
       "      <th>geo_dist</th>\n",
       "      <th>reg_r</th>\n",
       "      <th>lin_r</th>\n",
       "      <th>tau_r</th>\n",
       "      <th>sp_r</th>\n",
       "      <th>mse</th>\n",
       "      <th>reg_r_block</th>\n",
       "      <th>lin_r_block</th>\n",
       "    </tr>\n",
       "  </thead>\n",
       "  <tbody>\n",
       "    <tr>\n",
       "      <th>count</th>\n",
       "      <td>36.000000</td>\n",
       "      <td>36.000000</td>\n",
       "      <td>36.000000</td>\n",
       "      <td>36.000000</td>\n",
       "      <td>36.000000</td>\n",
       "      <td>36.000000</td>\n",
       "      <td>36.000000</td>\n",
       "      <td>36.000000</td>\n",
       "    </tr>\n",
       "    <tr>\n",
       "      <th>mean</th>\n",
       "      <td>0.612370</td>\n",
       "      <td>0.249573</td>\n",
       "      <td>0.193035</td>\n",
       "      <td>0.118527</td>\n",
       "      <td>0.175557</td>\n",
       "      <td>0.080814</td>\n",
       "      <td>0.220877</td>\n",
       "      <td>0.182398</td>\n",
       "    </tr>\n",
       "    <tr>\n",
       "      <th>std</th>\n",
       "      <td>0.028644</td>\n",
       "      <td>0.143071</td>\n",
       "      <td>0.120793</td>\n",
       "      <td>0.067956</td>\n",
       "      <td>0.099047</td>\n",
       "      <td>0.032183</td>\n",
       "      <td>0.133814</td>\n",
       "      <td>0.115576</td>\n",
       "    </tr>\n",
       "    <tr>\n",
       "      <th>min</th>\n",
       "      <td>0.556917</td>\n",
       "      <td>0.029420</td>\n",
       "      <td>0.019079</td>\n",
       "      <td>0.017633</td>\n",
       "      <td>0.026866</td>\n",
       "      <td>0.040106</td>\n",
       "      <td>0.018403</td>\n",
       "      <td>0.017007</td>\n",
       "    </tr>\n",
       "    <tr>\n",
       "      <th>25%</th>\n",
       "      <td>0.587506</td>\n",
       "      <td>0.116712</td>\n",
       "      <td>0.085821</td>\n",
       "      <td>0.065172</td>\n",
       "      <td>0.098355</td>\n",
       "      <td>0.059718</td>\n",
       "      <td>0.101973</td>\n",
       "      <td>0.080183</td>\n",
       "    </tr>\n",
       "    <tr>\n",
       "      <th>50%</th>\n",
       "      <td>0.613386</td>\n",
       "      <td>0.222736</td>\n",
       "      <td>0.169350</td>\n",
       "      <td>0.096166</td>\n",
       "      <td>0.143408</td>\n",
       "      <td>0.070477</td>\n",
       "      <td>0.191669</td>\n",
       "      <td>0.147038</td>\n",
       "    </tr>\n",
       "    <tr>\n",
       "      <th>75%</th>\n",
       "      <td>0.631543</td>\n",
       "      <td>0.387431</td>\n",
       "      <td>0.293068</td>\n",
       "      <td>0.164393</td>\n",
       "      <td>0.242173</td>\n",
       "      <td>0.095358</td>\n",
       "      <td>0.352320</td>\n",
       "      <td>0.304438</td>\n",
       "    </tr>\n",
       "    <tr>\n",
       "      <th>max</th>\n",
       "      <td>0.685076</td>\n",
       "      <td>0.478181</td>\n",
       "      <td>0.390522</td>\n",
       "      <td>0.303615</td>\n",
       "      <td>0.441765</td>\n",
       "      <td>0.168783</td>\n",
       "      <td>0.450564</td>\n",
       "      <td>0.396204</td>\n",
       "    </tr>\n",
       "  </tbody>\n",
       "</table>\n",
       "</div>"
      ],
      "text/plain": [
       "        geo_dist      reg_r      lin_r      tau_r       sp_r        mse  \\\n",
       "count  36.000000  36.000000  36.000000  36.000000  36.000000  36.000000   \n",
       "mean    0.612370   0.249573   0.193035   0.118527   0.175557   0.080814   \n",
       "std     0.028644   0.143071   0.120793   0.067956   0.099047   0.032183   \n",
       "min     0.556917   0.029420   0.019079   0.017633   0.026866   0.040106   \n",
       "25%     0.587506   0.116712   0.085821   0.065172   0.098355   0.059718   \n",
       "50%     0.613386   0.222736   0.169350   0.096166   0.143408   0.070477   \n",
       "75%     0.631543   0.387431   0.293068   0.164393   0.242173   0.095358   \n",
       "max     0.685076   0.478181   0.390522   0.303615   0.441765   0.168783   \n",
       "\n",
       "       reg_r_block  lin_r_block  \n",
       "count    36.000000    36.000000  \n",
       "mean      0.220877     0.182398  \n",
       "std       0.133814     0.115576  \n",
       "min       0.018403     0.017007  \n",
       "25%       0.101973     0.080183  \n",
       "50%       0.191669     0.147038  \n",
       "75%       0.352320     0.304438  \n",
       "max       0.450564     0.396204  "
      ]
     },
     "execution_count": 60,
     "metadata": {},
     "output_type": "execute_result"
    }
   ],
   "source": [
    "metrics_df = pd.DataFrame(inf_res_fb.metrics_theta);\n",
    "metrics_df.describe()"
   ]
  },
  {
   "cell_type": "code",
   "execution_count": null,
   "id": "d9a470d4",
   "metadata": {},
   "outputs": [],
   "source": []
  },
  {
   "cell_type": "code",
   "execution_count": null,
   "id": "8c8e5444",
   "metadata": {},
   "outputs": [],
   "source": []
  }
 ],
 "metadata": {
  "kernelspec": {
   "display_name": "Python 3 (ipykernel)",
   "language": "python",
   "name": "python3"
  },
  "language_info": {
   "codemirror_mode": {
    "name": "ipython",
    "version": 3
   },
   "file_extension": ".py",
   "mimetype": "text/x-python",
   "name": "python",
   "nbconvert_exporter": "python",
   "pygments_lexer": "ipython3",
   "version": "3.9.7"
  },
  "toc": {
   "base_numbering": 1,
   "nav_menu": {},
   "number_sections": true,
   "sideBar": true,
   "skip_h1_title": false,
   "title_cell": "Table of Contents",
   "title_sidebar": "Contents",
   "toc_cell": false,
   "toc_position": {
    "height": "calc(100% - 180px)",
    "left": "10px",
    "top": "150px",
    "width": "165px"
   },
   "toc_section_display": true,
   "toc_window_display": true
  }
 },
 "nbformat": 4,
 "nbformat_minor": 5
}
