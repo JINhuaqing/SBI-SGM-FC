{
 "cells": [
  {
   "cell_type": "code",
   "execution_count": null,
   "id": "eceb0190",
   "metadata": {},
   "outputs": [],
   "source": []
  },
  {
   "cell_type": "markdown",
   "id": "15b93230",
   "metadata": {},
   "source": [
    "# Import some pkgs"
   ]
  },
  {
   "cell_type": "code",
   "execution_count": 2,
   "id": "a5c4bef0",
   "metadata": {
    "ExecuteTime": {
     "end_time": "2023-06-14T23:03:11.135110Z",
     "start_time": "2023-06-14T23:03:11.128439Z"
    }
   },
   "outputs": [],
   "source": [
    "import sys\n",
    "sys.path.append(\"../../mypkg\")\n",
    "\n",
    "import scipy\n",
    "import itertools\n",
    "\n",
    "import numpy as np\n",
    "import xarray as xr\n",
    "import matplotlib.pyplot as plt\n",
    "import seaborn as sns\n",
    "\n",
    "from tqdm import trange\n",
    "from scipy.io import loadmat\n",
    "from functools import partial\n",
    "from easydict import EasyDict as edict\n",
    "from collections import defaultdict as ddict\n",
    "from IPython.display import display"
   ]
  },
  {
   "cell_type": "code",
   "execution_count": 3,
   "id": "129d24a5",
   "metadata": {
    "ExecuteTime": {
     "end_time": "2023-06-14T23:03:23.457925Z",
     "start_time": "2023-06-14T23:03:11.663929Z"
    }
   },
   "outputs": [],
   "source": [
    "# SBI and torch\n",
    "from sbi.inference.base import infer\n",
    "from sbi.inference import SNPE, prepare_for_sbi, simulate_for_sbi\n",
    "from sbi import analysis\n",
    "from sbi.utils.get_nn_models import posterior_nn\n",
    "from sbi import utils as sutils\n",
    "\n",
    "import torch.nn as nn\n",
    "import torch.nn.functional as F\n",
    "import torch\n",
    "from torch.distributions.multivariate_normal import MultivariateNormal"
   ]
  },
  {
   "cell_type": "code",
   "execution_count": 17,
   "id": "8dd147a9",
   "metadata": {
    "ExecuteTime": {
     "end_time": "2023-06-14T23:08:09.945493Z",
     "start_time": "2023-06-14T23:08:09.854026Z"
    }
   },
   "outputs": [
    {
     "data": {
      "text/plain": [
       "<module 'utils.measures' from '/data/rajlab1/user_data/jin/MyResearch/SBI-SGM-FC/notebooks/new_sgm/../../mypkg/utils/measures.py'>"
      ]
     },
     "execution_count": 17,
     "metadata": {},
     "output_type": "execute_result"
    }
   ],
   "source": [
    "import importlib\n",
    "import utils.measures\n",
    "importlib.reload(utils.measures)"
   ]
  },
  {
   "cell_type": "code",
   "execution_count": 18,
   "id": "513f09d5",
   "metadata": {
    "ExecuteTime": {
     "end_time": "2023-06-14T23:08:10.993839Z",
     "start_time": "2023-06-14T23:08:10.974398Z"
    }
   },
   "outputs": [],
   "source": [
    "# my own fns\n",
    "from brain import Brain\n",
    "from FC_utils import build_fc_freq_m\n",
    "from constants import RES_ROOT, DATA_ROOT, FIG_ROOT\n",
    "from utils.misc import load_pkl, save_pkl\n",
    "from utils.reparam import theta_raw_2out, logistic_np, logistic_torch\n",
    "from utils.measures import geodesic_dist, reg_R_fn, lin_R_fn, lap_mat_fn\n",
    "\n",
    "plt.style.use(FIG_ROOT/\"base.mplstyle\")"
   ]
  },
  {
   "cell_type": "code",
   "execution_count": null,
   "id": "d5b87c78",
   "metadata": {
    "ExecuteTime": {
     "end_time": "2022-11-08T00:03:09.655902Z",
     "start_time": "2022-11-08T00:03:09.466344Z"
    }
   },
   "outputs": [],
   "source": []
  },
  {
   "cell_type": "markdown",
   "id": "820f27bd",
   "metadata": {},
   "source": [
    "# Some fns"
   ]
  },
  {
   "cell_type": "code",
   "execution_count": 5,
   "id": "9daeac1d",
   "metadata": {
    "ExecuteTime": {
     "end_time": "2023-06-14T23:03:25.797787Z",
     "start_time": "2023-06-14T23:03:25.791771Z"
    }
   },
   "outputs": [],
   "source": [
    "_minmax_vec = lambda x: (x-np.min(x))/(np.max(x)-np.min(x));\n",
    "# transfer vec to a sym mat\n",
    "def _vec_2mat(vec):\n",
    "    mat = np.zeros((68, 68))\n",
    "    mat[np.triu_indices(68, k = 1)] = vec\n",
    "    mat = mat + mat.T\n",
    "    return mat"
   ]
  },
  {
   "cell_type": "code",
   "execution_count": 28,
   "id": "a8223784",
   "metadata": {
    "ExecuteTime": {
     "end_time": "2023-06-14T23:10:14.975095Z",
     "start_time": "2023-06-14T23:10:14.952849Z"
    }
   },
   "outputs": [],
   "source": [
    "from scipy.stats import kendalltau\n",
    "from scipy.stats import spearmanr\n",
    "\n",
    "def divide_fc(fc):\n",
    "    \"\"\"Divide the FC into three blocks and vector them\n",
    "    \"\"\"\n",
    "    size_fc = len(fc)\n",
    "    hs_fc = int(size_fc/2)\n",
    "    fc_block1 = fc[:hs_fc, :hs_fc]\n",
    "    fc_block2 = fc[hs_fc:, hs_fc:];\n",
    "    fc_block3 = fc[:hs_fc, hs_fc:];\n",
    "    vec1 = _minmax_vec(fc_block1[np.triu_indices(hs_fc, k = 1)])\n",
    "    vec2 = _minmax_vec(fc_block2[np.triu_indices(hs_fc, k = 1)])\n",
    "    vec3 = _minmax_vec(fc_block3.flatten())\n",
    "    return vec1, vec2, vec3\n",
    "\n",
    "def cal_metrics(fc1, fc2):\n",
    "    \"\"\"Calculate the distance between fc1 and fc2, including\n",
    "        1. geodesic dist\n",
    "        2. pearson's R\n",
    "        3. lin R\n",
    "        4. pearson's R after divide the FC into three blocks\n",
    "        5. lin R after divide the FC into three blocks\n",
    "    \"\"\"\n",
    "    fc1 = fc1.astype(np.float64)\n",
    "    fc2 = fc2.astype(np.float64)\n",
    "    size_fc = len(fc1)\n",
    "    \n",
    "    # for geodedic\n",
    "    #fc1_g = fc1/np.linalg.norm(fc1) + np.eye(size_fc)\n",
    "    #fc2_g = fc2/np.linalg.norm(fc2) + np.eye(size_fc)\n",
    "    fc1_g = lap_mat_fn(fc1)\n",
    "    fc2_g = lap_mat_fn(fc2)\n",
    "    #fc1_g = fc1 + np.eye(size_fc)\n",
    "    #fc2_g = fc2 + np.eye(size_fc)\n",
    "    \n",
    "    fc1_c = _minmax_vec(fc1[np.triu_indices(size_fc, k=1)]).reshape(1, -1)\n",
    "    fc2_c = _minmax_vec(fc2[np.triu_indices(size_fc, k=1)]).reshape(1, -1)\n",
    "    \n",
    "    # all metrics\n",
    "    geo_dist = geodesic_dist(fc1_g, fc2_g)\n",
    "    reg_r = reg_R_fn(fc1_c, fc2_c)\n",
    "    lin_r = lin_R_fn(fc1_c, fc2_c)\n",
    "    mse = np.mean((fc1_c-fc2_c)**2)\n",
    "    tau_r = kendalltau(fc1_c.reshape(-1), fc2_c.reshape(-1))[0]\n",
    "    sp_r = spearmanr(fc1_c.reshape(-1), fc2_c.reshape(-1))[0]\n",
    "    \n",
    "    # block wise metrics\n",
    "    blocks1 = divide_fc(fc1)\n",
    "    blocks2 = divide_fc(fc2)\n",
    "    reg_r_block = [reg_R_fn(vec1.reshape(1, -1), vec2.reshape(1, -1))[0] \n",
    "                   for vec1, vec2 in zip(blocks1, blocks2)]\n",
    "    lin_r_block = [lin_R_fn(vec1.reshape(1, -1), vec2.reshape(1, -1))[0] \n",
    "                   for vec1, vec2 in zip(blocks1, blocks2)]\n",
    "    \n",
    "    res = edict()\n",
    "    res.geo_dist = geo_dist\n",
    "    res.reg_r = reg_r[0]\n",
    "    res.lin_r = lin_r[0]\n",
    "    res.tau_r = tau_r\n",
    "    res.sp_r = sp_r \n",
    "    res.mse = mse\n",
    "    res.reg_r_block = np.mean(reg_r_block)\n",
    "    res.lin_r_block = np.mean(lin_r_block)\n",
    "    return res\n",
    "\n",
    "def cal_metrics_batch(fc1s, fc2s):\n",
    "    \"\"\"fc1s, fc2s: num_fc x 68 x 68\n",
    "    \"\"\"\n",
    "    ress = ddict(list)\n",
    "    for ix in range(len(fc1s)):\n",
    "        fc_t = fc2s[ix]\n",
    "        fc_e = fc1s[ix]\n",
    "        res = cal_metrics(fc_t, fc_e)\n",
    "        for key, v in res.items():\n",
    "            ress[key].append(v)\n",
    "    \n",
    "    return ress"
   ]
  },
  {
   "cell_type": "code",
   "execution_count": 29,
   "id": "745474a7",
   "metadata": {
    "ExecuteTime": {
     "end_time": "2023-06-14T23:10:15.546227Z",
     "start_time": "2023-06-14T23:10:15.539535Z"
    }
   },
   "outputs": [],
   "source": [
    "def _preprocess_sc(sc):\n",
    "    sc = sc.copy()\n",
    "    max_v = np.quantile(sc, 0.99);\n",
    "    sc[sc>max_v] = max_v\n",
    "    sc[sc <= 0.01*max_v] = 0\n",
    "    return sc\n",
    "def _preprocess_fc(fc):\n",
    "    fc = fc.copy()\n",
    "    fc[fc<=0.2*fc.max()] = 0\n",
    "    return fc\n"
   ]
  },
  {
   "cell_type": "code",
   "execution_count": null,
   "id": "52ddcd73",
   "metadata": {},
   "outputs": [],
   "source": []
  },
  {
   "cell_type": "markdown",
   "id": "1f00449d",
   "metadata": {},
   "source": [
    "# Load data"
   ]
  },
  {
   "cell_type": "code",
   "execution_count": 30,
   "id": "1fa0d47e",
   "metadata": {
    "ExecuteTime": {
     "end_time": "2023-06-14T23:10:16.510494Z",
     "start_time": "2023-06-14T23:10:16.505287Z"
    }
   },
   "outputs": [],
   "source": [
    "# em FC\n",
    "fc_root = RES_ROOT/\"emp_fcs\"\n",
    "def _get_fc(sub_ix, bd):\n",
    "    fil = list(fc_root.rglob(f\"*{bd}*/sub{sub_ix}.pkl\"))[0]\n",
    "    return load_pkl(fil, verbose=False)"
   ]
  },
  {
   "cell_type": "code",
   "execution_count": 31,
   "id": "a256cf45",
   "metadata": {
    "ExecuteTime": {
     "end_time": "2023-06-14T23:10:16.913549Z",
     "start_time": "2023-06-14T23:10:16.886096Z"
    }
   },
   "outputs": [],
   "source": [
    "# SC\n",
    "ind_conn_xr = xr.open_dataarray(DATA_ROOT/'individual_connectomes_reordered.nc')\n",
    "ind_conn = ind_conn_xr.values;\n",
    "scs = ind_conn.transpose(2, 0, 1)[:, :68, :68];\n",
    "#scs = np.array([_preprocess_sc(sc) for sc in scs]);"
   ]
  },
  {
   "cell_type": "code",
   "execution_count": null,
   "id": "5ae234a8",
   "metadata": {},
   "outputs": [],
   "source": []
  },
  {
   "cell_type": "markdown",
   "id": "4cebe03b",
   "metadata": {},
   "source": [
    "# Compare them"
   ]
  },
  {
   "cell_type": "code",
   "execution_count": 32,
   "id": "7700c9ce",
   "metadata": {
    "ExecuteTime": {
     "end_time": "2023-06-14T23:10:22.617886Z",
     "start_time": "2023-06-14T23:10:18.223222Z"
    }
   },
   "outputs": [],
   "source": [
    "bds = [\"delta\", \"theta\", \"alpha\", \"beta_l\"]\n",
    "ress = []\n",
    "for bd in bds:\n",
    "    fcs = np.array([_get_fc(sub_ix, bd) for sub_ix in range(36)]);\n",
    "    #fcs = np.array([_preprocess_fc(_get_fc(sub_ix, bd)) for sub_ix in range(36)]);\n",
    "    res = cal_metrics_batch(fcs, scs);\n",
    "    ress.append(res)"
   ]
  },
  {
   "cell_type": "code",
   "execution_count": 33,
   "id": "4badf4a4",
   "metadata": {
    "ExecuteTime": {
     "end_time": "2023-06-14T23:10:22.623935Z",
     "start_time": "2023-06-14T23:10:22.619197Z"
    }
   },
   "outputs": [],
   "source": [
    "import pandas as pd\n",
    "data = []\n",
    "key_names = ['geo_dist', 'reg_r', 'tau_r', 'sp_r', 'lin_r', 'reg_r_block', \"lin_r_block\", \"mse\"]\n",
    "for ix in range(len(bds)):\n",
    "    for key in key_names:\n",
    "        for value in ress[ix][key]:\n",
    "            data.append({'Band': bds[ix], 'Key': key, 'Value': value})\n",
    "df = pd.DataFrame(data);"
   ]
  },
  {
   "cell_type": "code",
   "execution_count": 34,
   "id": "c2112ea2",
   "metadata": {
    "ExecuteTime": {
     "end_time": "2023-06-14T23:10:23.281575Z",
     "start_time": "2023-06-14T23:10:22.624795Z"
    }
   },
   "outputs": [
    {
     "data": {
      "image/png": "[encoded data removed]",
      "text/plain": [
       "<Figure size 2000x1000 with 1 Axes>"
      ]
     },
     "metadata": {
      "needs_background": "light"
     },
     "output_type": "display_data"
    }
   ],
   "source": [
    "plt.figure(figsize=[20, 10])\n",
    "plt.title(f\"alpha\", fontsize=30)\n",
    "ax = sns.violinplot(x='Key', y='Value', hue='Band', data=df, split=False)\n",
    "plt.xlabel(\"\")\n",
    "plt.ylabel(\"\")\n",
    "\n",
    "keys = df['Key'].unique()\n",
    "for key_idx, key in enumerate(keys):\n",
    "    if key_idx < len(keys) - 1:\n",
    "        ax.axvline(x=key_idx + 0.5, color='grey', linestyle='--')\n",
    "        \n",
    "#plt.savefig(FIG_ROOT/f\"{typ}_cmp.jpg\")\n"
   ]
  },
  {
   "cell_type": "code",
   "execution_count": 35,
   "id": "859eb2b2",
   "metadata": {
    "ExecuteTime": {
     "end_time": "2023-06-14T23:10:24.053182Z",
     "start_time": "2023-06-14T23:10:24.030148Z"
    }
   },
   "outputs": [
    {
     "data": {
      "text/html": [
       "<div>\n",
       "<style scoped>\n",
       "    .dataframe tbody tr th:only-of-type {\n",
       "        vertical-align: middle;\n",
       "    }\n",
       "\n",
       "    .dataframe tbody tr th {\n",
       "        vertical-align: top;\n",
       "    }\n",
       "\n",
       "    .dataframe thead th {\n",
       "        text-align: right;\n",
       "    }\n",
       "</style>\n",
       "<table border=\"1\" class=\"dataframe\">\n",
       "  <thead>\n",
       "    <tr style=\"text-align: right;\">\n",
       "      <th></th>\n",
       "      <th>delta</th>\n",
       "      <th>theta</th>\n",
       "      <th>alpha</th>\n",
       "      <th>beta_l</th>\n",
       "    </tr>\n",
       "  </thead>\n",
       "  <tbody>\n",
       "    <tr>\n",
       "      <th>geo_dist</th>\n",
       "      <td>4.766488</td>\n",
       "      <td>4.692101</td>\n",
       "      <td>4.606478</td>\n",
       "      <td>4.588435</td>\n",
       "    </tr>\n",
       "    <tr>\n",
       "      <th>reg_r</th>\n",
       "      <td>0.212883</td>\n",
       "      <td>0.293505</td>\n",
       "      <td>0.373770</td>\n",
       "      <td>0.385253</td>\n",
       "    </tr>\n",
       "    <tr>\n",
       "      <th>lin_r</th>\n",
       "      <td>0.040660</td>\n",
       "      <td>0.076625</td>\n",
       "      <td>0.123253</td>\n",
       "      <td>0.138048</td>\n",
       "    </tr>\n",
       "    <tr>\n",
       "      <th>tau_r</th>\n",
       "      <td>0.111218</td>\n",
       "      <td>0.150821</td>\n",
       "      <td>0.205604</td>\n",
       "      <td>0.212468</td>\n",
       "    </tr>\n",
       "    <tr>\n",
       "      <th>sp_r</th>\n",
       "      <td>0.165402</td>\n",
       "      <td>0.223066</td>\n",
       "      <td>0.302501</td>\n",
       "      <td>0.312134</td>\n",
       "    </tr>\n",
       "    <tr>\n",
       "      <th>mse</th>\n",
       "      <td>0.231275</td>\n",
       "      <td>0.149000</td>\n",
       "      <td>0.096527</td>\n",
       "      <td>0.085974</td>\n",
       "    </tr>\n",
       "    <tr>\n",
       "      <th>reg_r_block</th>\n",
       "      <td>0.221409</td>\n",
       "      <td>0.301520</td>\n",
       "      <td>0.381692</td>\n",
       "      <td>0.396712</td>\n",
       "    </tr>\n",
       "    <tr>\n",
       "      <th>lin_r_block</th>\n",
       "      <td>0.055886</td>\n",
       "      <td>0.097920</td>\n",
       "      <td>0.149381</td>\n",
       "      <td>0.166758</td>\n",
       "    </tr>\n",
       "  </tbody>\n",
       "</table>\n",
       "</div>"
      ],
      "text/plain": [
       "                delta     theta     alpha    beta_l\n",
       "geo_dist     4.766488  4.692101  4.606478  4.588435\n",
       "reg_r        0.212883  0.293505  0.373770  0.385253\n",
       "lin_r        0.040660  0.076625  0.123253  0.138048\n",
       "tau_r        0.111218  0.150821  0.205604  0.212468\n",
       "sp_r         0.165402  0.223066  0.302501  0.312134\n",
       "mse          0.231275  0.149000  0.096527  0.085974\n",
       "reg_r_block  0.221409  0.301520  0.381692  0.396712\n",
       "lin_r_block  0.055886  0.097920  0.149381  0.166758"
      ]
     },
     "metadata": {},
     "output_type": "display_data"
    }
   ],
   "source": [
    "from IPython.display import display\n",
    "res_dict = {}\n",
    "for ix in range(len(bds)):\n",
    "    res = ress[ix]\n",
    "    res_df = pd.DataFrame(res)\n",
    "    res_dict[bds[ix]] = res_df.mean()\n",
    "display(pd.DataFrame(res_dict))"
   ]
  },
  {
   "cell_type": "code",
   "execution_count": null,
   "id": "74a0ac8a",
   "metadata": {},
   "outputs": [],
   "source": []
  },
  {
   "cell_type": "markdown",
   "id": "0a0eb89e",
   "metadata": {},
   "source": [
    "# Compare with our results"
   ]
  },
  {
   "cell_type": "code",
   "execution_count": 36,
   "id": "0c3345ab",
   "metadata": {
    "ExecuteTime": {
     "end_time": "2023-06-14T23:10:26.420083Z",
     "start_time": "2023-06-14T23:10:25.197997Z"
    }
   },
   "outputs": [
    {
     "name": "stdout",
     "output_type": "stream",
     "text": [
      "Results of alpha\n"
     ]
    },
    {
     "data": {
      "text/html": [
       "<div>\n",
       "<style scoped>\n",
       "    .dataframe tbody tr th:only-of-type {\n",
       "        vertical-align: middle;\n",
       "    }\n",
       "\n",
       "    .dataframe tbody tr th {\n",
       "        vertical-align: top;\n",
       "    }\n",
       "\n",
       "    .dataframe thead th {\n",
       "        text-align: right;\n",
       "    }\n",
       "</style>\n",
       "<table border=\"1\" class=\"dataframe\">\n",
       "  <thead>\n",
       "    <tr style=\"text-align: right;\">\n",
       "      <th></th>\n",
       "      <th>geo_dist</th>\n",
       "      <th>reg_r</th>\n",
       "      <th>lin_r</th>\n",
       "      <th>tau_r</th>\n",
       "      <th>sp_r</th>\n",
       "      <th>mse</th>\n",
       "      <th>reg_r_block</th>\n",
       "      <th>lin_r_block</th>\n",
       "    </tr>\n",
       "  </thead>\n",
       "  <tbody>\n",
       "    <tr>\n",
       "      <th>SGM</th>\n",
       "      <td>0.784063</td>\n",
       "      <td>0.290822</td>\n",
       "      <td>0.246261</td>\n",
       "      <td>0.127966</td>\n",
       "      <td>0.190258</td>\n",
       "      <td>0.053723</td>\n",
       "      <td>0.241822</td>\n",
       "      <td>0.211380</td>\n",
       "    </tr>\n",
       "    <tr>\n",
       "      <th>SC</th>\n",
       "      <td>4.616643</td>\n",
       "      <td>0.373770</td>\n",
       "      <td>0.123253</td>\n",
       "      <td>0.205604</td>\n",
       "      <td>0.302501</td>\n",
       "      <td>0.096527</td>\n",
       "      <td>0.381692</td>\n",
       "      <td>0.149381</td>\n",
       "    </tr>\n",
       "  </tbody>\n",
       "</table>\n",
       "</div>"
      ],
      "text/plain": [
       "     geo_dist     reg_r     lin_r     tau_r      sp_r       mse  reg_r_block  \\\n",
       "SGM  0.784063  0.290822  0.246261  0.127966  0.190258  0.053723     0.241822   \n",
       "SC   4.616643  0.373770  0.123253  0.205604  0.302501  0.096527     0.381692   \n",
       "\n",
       "     lin_r_block  \n",
       "SGM     0.211380  \n",
       "SC      0.149381  "
      ]
     },
     "metadata": {},
     "output_type": "display_data"
    }
   ],
   "source": [
    "band = \"alpha\"\n",
    "my_res = load_pkl(RES_ROOT/f\"rawfc_posteriorMRmul_{band}_num1000_densitynsf_MR3_noise_sd20_addv1/inf_res_fb.pkl\", \n",
    "               verbose=False);\n",
    "estfcs = np.array(my_res.est_FCs);\n",
    "empfcs = np.array([_get_fc(sub_ix, band) for sub_ix in range(36)]);\n",
    "\n",
    "my_res = pd.DataFrame(cal_metrics_batch(estfcs, empfcs));\n",
    "sc_res = pd.DataFrame(cal_metrics_batch(scs, empfcs));\n",
    "out_df = pd.DataFrame(\n",
    "        {\n",
    "            \"SGM\": my_res.mean(),\n",
    "            \"SC\": sc_res.mean(), \n",
    "        }\n",
    "    ).T\n",
    "print(f\"Results of {band}\")\n",
    "display(out_df)"
   ]
  },
  {
   "cell_type": "code",
   "execution_count": 37,
   "id": "d0b1d5b6",
   "metadata": {
    "ExecuteTime": {
     "end_time": "2023-06-14T23:10:33.258806Z",
     "start_time": "2023-06-14T23:10:31.813248Z"
    }
   },
   "outputs": [
    {
     "name": "stdout",
     "output_type": "stream",
     "text": [
      "Results of theta\n"
     ]
    },
    {
     "data": {
      "text/html": [
       "<div>\n",
       "<style scoped>\n",
       "    .dataframe tbody tr th:only-of-type {\n",
       "        vertical-align: middle;\n",
       "    }\n",
       "\n",
       "    .dataframe tbody tr th {\n",
       "        vertical-align: top;\n",
       "    }\n",
       "\n",
       "    .dataframe thead th {\n",
       "        text-align: right;\n",
       "    }\n",
       "</style>\n",
       "<table border=\"1\" class=\"dataframe\">\n",
       "  <thead>\n",
       "    <tr style=\"text-align: right;\">\n",
       "      <th></th>\n",
       "      <th>geo_dist</th>\n",
       "      <th>reg_r</th>\n",
       "      <th>lin_r</th>\n",
       "      <th>tau_r</th>\n",
       "      <th>sp_r</th>\n",
       "      <th>mse</th>\n",
       "      <th>reg_r_block</th>\n",
       "      <th>lin_r_block</th>\n",
       "    </tr>\n",
       "  </thead>\n",
       "  <tbody>\n",
       "    <tr>\n",
       "      <th>SGM</th>\n",
       "      <td>0.790865</td>\n",
       "      <td>0.283507</td>\n",
       "      <td>0.218515</td>\n",
       "      <td>0.128982</td>\n",
       "      <td>0.191213</td>\n",
       "      <td>0.078431</td>\n",
       "      <td>0.251034</td>\n",
       "      <td>0.20985</td>\n",
       "    </tr>\n",
       "    <tr>\n",
       "      <th>SC</th>\n",
       "      <td>4.703521</td>\n",
       "      <td>0.293505</td>\n",
       "      <td>0.076625</td>\n",
       "      <td>0.150821</td>\n",
       "      <td>0.223066</td>\n",
       "      <td>0.149000</td>\n",
       "      <td>0.301520</td>\n",
       "      <td>0.09792</td>\n",
       "    </tr>\n",
       "  </tbody>\n",
       "</table>\n",
       "</div>"
      ],
      "text/plain": [
       "     geo_dist     reg_r     lin_r     tau_r      sp_r       mse  reg_r_block  \\\n",
       "SGM  0.790865  0.283507  0.218515  0.128982  0.191213  0.078431     0.251034   \n",
       "SC   4.703521  0.293505  0.076625  0.150821  0.223066  0.149000     0.301520   \n",
       "\n",
       "     lin_r_block  \n",
       "SGM      0.20985  \n",
       "SC       0.09792  "
      ]
     },
     "metadata": {},
     "output_type": "display_data"
    }
   ],
   "source": [
    "band = \"theta\"\n",
    "my_res = load_pkl(RES_ROOT/f\"rawfc_posteriorMRmul_{band}_num1000_densitynsf_MR3_noise_sd20_addv1/inf_res_fb.pkl\", \n",
    "               verbose=False);\n",
    "estfcs = np.array(my_res.est_FCs);\n",
    "empfcs = np.array([_get_fc(sub_ix, band) for sub_ix in range(36)]);\n",
    "\n",
    "my_res = pd.DataFrame(cal_metrics_batch(estfcs, empfcs));\n",
    "sc_res = pd.DataFrame(cal_metrics_batch(scs, empfcs));\n",
    "out_df = pd.DataFrame(\n",
    "        {\n",
    "            \"SGM\": my_res.mean(),\n",
    "            \"SC\": sc_res.mean(), \n",
    "        }\n",
    "    ).T\n",
    "print(f\"Results of {band}\")\n",
    "display(out_df)"
   ]
  },
  {
   "cell_type": "code",
   "execution_count": null,
   "id": "842d9147",
   "metadata": {},
   "outputs": [],
   "source": []
  },
  {
   "cell_type": "markdown",
   "id": "09ae4a1a",
   "metadata": {},
   "source": [
    "# test"
   ]
  },
  {
   "cell_type": "code",
   "execution_count": 16,
   "id": "505fef39",
   "metadata": {
    "ExecuteTime": {
     "end_time": "2023-06-14T21:54:11.097894Z",
     "start_time": "2023-06-14T21:54:11.019199Z"
    }
   },
   "outputs": [],
   "source": [
    "band = \"alpha\"\n",
    "my_res = load_pkl(RES_ROOT/f\"rawfc_posteriorMRmul_{band}_num1000_densitynsf_MR3_noise_sd20_addv1/inf_res.pkl\", \n",
    "               verbose=False);\n",
    "sub_ix = 3\n",
    "efc = my_res.est_FCs[sub_ix];\n",
    "ifc = _get_fc(sub_ix, band);\n",
    "sc = scs[sub_ix];\n",
    "\n",
    "_vec_fn = lambda mat: _minmax_vec(mat[np.triu_indices(68, k=1)])\n",
    "efc_vec = _vec_fn(efc)\n",
    "ifc_vec = _vec_fn(ifc)\n",
    "sc_vec = _vec_fn(sc);\n",
    "\n",
    "efc_vec1 = _vec_fn(_preprocess_fc(efc))\n",
    "ifc_vec1 = _vec_fn(_preprocess_fc(ifc))\n",
    "sc_vec1 = _vec_fn(_preprocess_sc(sc));"
   ]
  },
  {
   "cell_type": "code",
   "execution_count": 169,
   "id": "df3ee371",
   "metadata": {
    "ExecuteTime": {
     "end_time": "2023-06-12T20:23:47.711439Z",
     "start_time": "2023-06-12T20:23:47.703068Z"
    }
   },
   "outputs": [
    {
     "data": {
      "text/plain": [
       "(0.4480096766611223, 7.033890461450488e-113)"
      ]
     },
     "execution_count": 169,
     "metadata": {},
     "output_type": "execute_result"
    }
   ],
   "source": [
    "scipy.stats.pearsonr(ifc_vec[sc_vec!=-10], sc_vec[sc_vec!=-10])"
   ]
  },
  {
   "cell_type": "code",
   "execution_count": 160,
   "id": "21457789",
   "metadata": {
    "ExecuteTime": {
     "end_time": "2023-06-12T20:19:10.722402Z",
     "start_time": "2023-06-12T20:19:09.937437Z"
    }
   },
   "outputs": [],
   "source": [
    "band = \"alpha\"\n",
    "my_res = load_pkl(RES_ROOT/f\"rawfc_posteriorMRmul_{band}_num1000_densitynsf_MR3_noise_sd20_addv1/inf_res.pkl\", \n",
    "               verbose=False);\n",
    "efcs = np.array(my_res.est_FCs);\n",
    "ifcs = np.array([_get_fc(sub_ix, band) for sub_ix in range(36)]);"
   ]
  },
  {
   "cell_type": "code",
   "execution_count": 161,
   "id": "41922bf9",
   "metadata": {
    "ExecuteTime": {
     "end_time": "2023-06-12T20:19:11.854177Z",
     "start_time": "2023-06-12T20:19:11.627176Z"
    }
   },
   "outputs": [
    {
     "data": {
      "text/html": [
       "<div>\n",
       "<style scoped>\n",
       "    .dataframe tbody tr th:only-of-type {\n",
       "        vertical-align: middle;\n",
       "    }\n",
       "\n",
       "    .dataframe tbody tr th {\n",
       "        vertical-align: top;\n",
       "    }\n",
       "\n",
       "    .dataframe thead th {\n",
       "        text-align: right;\n",
       "    }\n",
       "</style>\n",
       "<table border=\"1\" class=\"dataframe\">\n",
       "  <thead>\n",
       "    <tr style=\"text-align: right;\">\n",
       "      <th></th>\n",
       "      <th>geo_dist</th>\n",
       "      <th>reg_r</th>\n",
       "      <th>lin_r</th>\n",
       "      <th>tau_r</th>\n",
       "      <th>sp_r</th>\n",
       "      <th>reg_r_block</th>\n",
       "      <th>lin_r_block</th>\n",
       "    </tr>\n",
       "  </thead>\n",
       "  <tbody>\n",
       "    <tr>\n",
       "      <th>count</th>\n",
       "      <td>36.000000</td>\n",
       "      <td>36.000000</td>\n",
       "      <td>36.000000</td>\n",
       "      <td>36.000000</td>\n",
       "      <td>36.000000</td>\n",
       "      <td>36.000000</td>\n",
       "      <td>36.000000</td>\n",
       "    </tr>\n",
       "    <tr>\n",
       "      <th>mean</th>\n",
       "      <td>0.627161</td>\n",
       "      <td>0.285600</td>\n",
       "      <td>0.240448</td>\n",
       "      <td>0.124302</td>\n",
       "      <td>0.184975</td>\n",
       "      <td>0.237528</td>\n",
       "      <td>0.207012</td>\n",
       "    </tr>\n",
       "    <tr>\n",
       "      <th>std</th>\n",
       "      <td>0.016989</td>\n",
       "      <td>0.082767</td>\n",
       "      <td>0.070253</td>\n",
       "      <td>0.032524</td>\n",
       "      <td>0.047853</td>\n",
       "      <td>0.075526</td>\n",
       "      <td>0.065017</td>\n",
       "    </tr>\n",
       "    <tr>\n",
       "      <th>min</th>\n",
       "      <td>0.585175</td>\n",
       "      <td>0.113538</td>\n",
       "      <td>0.103127</td>\n",
       "      <td>0.038988</td>\n",
       "      <td>0.058767</td>\n",
       "      <td>0.086488</td>\n",
       "      <td>0.082324</td>\n",
       "    </tr>\n",
       "    <tr>\n",
       "      <th>25%</th>\n",
       "      <td>0.616010</td>\n",
       "      <td>0.244604</td>\n",
       "      <td>0.196740</td>\n",
       "      <td>0.103237</td>\n",
       "      <td>0.152595</td>\n",
       "      <td>0.193869</td>\n",
       "      <td>0.169521</td>\n",
       "    </tr>\n",
       "    <tr>\n",
       "      <th>50%</th>\n",
       "      <td>0.629275</td>\n",
       "      <td>0.276417</td>\n",
       "      <td>0.250119</td>\n",
       "      <td>0.127124</td>\n",
       "      <td>0.188861</td>\n",
       "      <td>0.236184</td>\n",
       "      <td>0.202952</td>\n",
       "    </tr>\n",
       "    <tr>\n",
       "      <th>75%</th>\n",
       "      <td>0.640110</td>\n",
       "      <td>0.333783</td>\n",
       "      <td>0.271443</td>\n",
       "      <td>0.145482</td>\n",
       "      <td>0.215256</td>\n",
       "      <td>0.279507</td>\n",
       "      <td>0.242975</td>\n",
       "    </tr>\n",
       "    <tr>\n",
       "      <th>max</th>\n",
       "      <td>0.657530</td>\n",
       "      <td>0.483173</td>\n",
       "      <td>0.387977</td>\n",
       "      <td>0.187677</td>\n",
       "      <td>0.277141</td>\n",
       "      <td>0.425611</td>\n",
       "      <td>0.368555</td>\n",
       "    </tr>\n",
       "  </tbody>\n",
       "</table>\n",
       "</div>"
      ],
      "text/plain": [
       "        geo_dist      reg_r      lin_r      tau_r       sp_r  reg_r_block  \\\n",
       "count  36.000000  36.000000  36.000000  36.000000  36.000000    36.000000   \n",
       "mean    0.627161   0.285600   0.240448   0.124302   0.184975     0.237528   \n",
       "std     0.016989   0.082767   0.070253   0.032524   0.047853     0.075526   \n",
       "min     0.585175   0.113538   0.103127   0.038988   0.058767     0.086488   \n",
       "25%     0.616010   0.244604   0.196740   0.103237   0.152595     0.193869   \n",
       "50%     0.629275   0.276417   0.250119   0.127124   0.188861     0.236184   \n",
       "75%     0.640110   0.333783   0.271443   0.145482   0.215256     0.279507   \n",
       "max     0.657530   0.483173   0.387977   0.187677   0.277141     0.425611   \n",
       "\n",
       "       lin_r_block  \n",
       "count    36.000000  \n",
       "mean      0.207012  \n",
       "std       0.065017  \n",
       "min       0.082324  \n",
       "25%       0.169521  \n",
       "50%       0.202952  \n",
       "75%       0.242975  \n",
       "max       0.368555  "
      ]
     },
     "execution_count": 161,
     "metadata": {},
     "output_type": "execute_result"
    }
   ],
   "source": [
    "pd.DataFrame(cal_metrics_batch(efcs, ifcs)).describe()"
   ]
  },
  {
   "cell_type": "code",
   "execution_count": 162,
   "id": "53941c36",
   "metadata": {
    "ExecuteTime": {
     "end_time": "2023-06-12T20:19:12.700300Z",
     "start_time": "2023-06-12T20:19:12.473391Z"
    }
   },
   "outputs": [
    {
     "data": {
      "text/html": [
       "<div>\n",
       "<style scoped>\n",
       "    .dataframe tbody tr th:only-of-type {\n",
       "        vertical-align: middle;\n",
       "    }\n",
       "\n",
       "    .dataframe tbody tr th {\n",
       "        vertical-align: top;\n",
       "    }\n",
       "\n",
       "    .dataframe thead th {\n",
       "        text-align: right;\n",
       "    }\n",
       "</style>\n",
       "<table border=\"1\" class=\"dataframe\">\n",
       "  <thead>\n",
       "    <tr style=\"text-align: right;\">\n",
       "      <th></th>\n",
       "      <th>geo_dist</th>\n",
       "      <th>reg_r</th>\n",
       "      <th>lin_r</th>\n",
       "      <th>tau_r</th>\n",
       "      <th>sp_r</th>\n",
       "      <th>reg_r_block</th>\n",
       "      <th>lin_r_block</th>\n",
       "    </tr>\n",
       "  </thead>\n",
       "  <tbody>\n",
       "    <tr>\n",
       "      <th>count</th>\n",
       "      <td>36.000000</td>\n",
       "      <td>36.000000</td>\n",
       "      <td>36.000000</td>\n",
       "      <td>36.000000</td>\n",
       "      <td>36.000000</td>\n",
       "      <td>36.000000</td>\n",
       "      <td>36.000000</td>\n",
       "    </tr>\n",
       "    <tr>\n",
       "      <th>mean</th>\n",
       "      <td>0.955312</td>\n",
       "      <td>0.375369</td>\n",
       "      <td>0.133652</td>\n",
       "      <td>0.206283</td>\n",
       "      <td>0.299211</td>\n",
       "      <td>0.382162</td>\n",
       "      <td>0.156303</td>\n",
       "    </tr>\n",
       "    <tr>\n",
       "      <th>std</th>\n",
       "      <td>0.034688</td>\n",
       "      <td>0.069027</td>\n",
       "      <td>0.062146</td>\n",
       "      <td>0.049340</td>\n",
       "      <td>0.067209</td>\n",
       "      <td>0.064009</td>\n",
       "      <td>0.055407</td>\n",
       "    </tr>\n",
       "    <tr>\n",
       "      <th>min</th>\n",
       "      <td>0.885379</td>\n",
       "      <td>0.249541</td>\n",
       "      <td>0.036368</td>\n",
       "      <td>0.120638</td>\n",
       "      <td>0.179114</td>\n",
       "      <td>0.270566</td>\n",
       "      <td>0.051819</td>\n",
       "    </tr>\n",
       "    <tr>\n",
       "      <th>25%</th>\n",
       "      <td>0.927842</td>\n",
       "      <td>0.334251</td>\n",
       "      <td>0.087323</td>\n",
       "      <td>0.170092</td>\n",
       "      <td>0.250662</td>\n",
       "      <td>0.334017</td>\n",
       "      <td>0.108561</td>\n",
       "    </tr>\n",
       "    <tr>\n",
       "      <th>50%</th>\n",
       "      <td>0.961014</td>\n",
       "      <td>0.374356</td>\n",
       "      <td>0.119927</td>\n",
       "      <td>0.193524</td>\n",
       "      <td>0.287496</td>\n",
       "      <td>0.389180</td>\n",
       "      <td>0.153587</td>\n",
       "    </tr>\n",
       "    <tr>\n",
       "      <th>75%</th>\n",
       "      <td>0.976399</td>\n",
       "      <td>0.429357</td>\n",
       "      <td>0.170380</td>\n",
       "      <td>0.239053</td>\n",
       "      <td>0.350443</td>\n",
       "      <td>0.420428</td>\n",
       "      <td>0.188663</td>\n",
       "    </tr>\n",
       "    <tr>\n",
       "      <th>max</th>\n",
       "      <td>1.024416</td>\n",
       "      <td>0.521907</td>\n",
       "      <td>0.319925</td>\n",
       "      <td>0.297938</td>\n",
       "      <td>0.436447</td>\n",
       "      <td>0.510752</td>\n",
       "      <td>0.297819</td>\n",
       "    </tr>\n",
       "  </tbody>\n",
       "</table>\n",
       "</div>"
      ],
      "text/plain": [
       "        geo_dist      reg_r      lin_r      tau_r       sp_r  reg_r_block  \\\n",
       "count  36.000000  36.000000  36.000000  36.000000  36.000000    36.000000   \n",
       "mean    0.955312   0.375369   0.133652   0.206283   0.299211     0.382162   \n",
       "std     0.034688   0.069027   0.062146   0.049340   0.067209     0.064009   \n",
       "min     0.885379   0.249541   0.036368   0.120638   0.179114     0.270566   \n",
       "25%     0.927842   0.334251   0.087323   0.170092   0.250662     0.334017   \n",
       "50%     0.961014   0.374356   0.119927   0.193524   0.287496     0.389180   \n",
       "75%     0.976399   0.429357   0.170380   0.239053   0.350443     0.420428   \n",
       "max     1.024416   0.521907   0.319925   0.297938   0.436447     0.510752   \n",
       "\n",
       "       lin_r_block  \n",
       "count    36.000000  \n",
       "mean      0.156303  \n",
       "std       0.055407  \n",
       "min       0.051819  \n",
       "25%       0.108561  \n",
       "50%       0.153587  \n",
       "75%       0.188663  \n",
       "max       0.297819  "
      ]
     },
     "execution_count": 162,
     "metadata": {},
     "output_type": "execute_result"
    }
   ],
   "source": [
    "pd.DataFrame(cal_metrics_batch(scs, ifcs)).describe()"
   ]
  },
  {
   "cell_type": "code",
   "execution_count": null,
   "id": "8b5acac3",
   "metadata": {},
   "outputs": [],
   "source": []
  },
  {
   "cell_type": "code",
   "execution_count": null,
   "id": "68859fa8",
   "metadata": {},
   "outputs": [],
   "source": []
  }
 ],
 "metadata": {
  "kernelspec": {
   "display_name": "Python 3 (ipykernel)",
   "language": "python",
   "name": "python3"
  },
  "language_info": {
   "codemirror_mode": {
    "name": "ipython",
    "version": 3
   },
   "file_extension": ".py",
   "mimetype": "text/x-python",
   "name": "python",
   "nbconvert_exporter": "python",
   "pygments_lexer": "ipython3",
   "version": "3.9.7"
  },
  "toc": {
   "base_numbering": 1,
   "nav_menu": {},
   "number_sections": true,
   "sideBar": true,
   "skip_h1_title": false,
   "title_cell": "Table of Contents",
   "title_sidebar": "Contents",
   "toc_cell": false,
   "toc_position": {
    "height": "calc(100% - 180px)",
    "left": "10px",
    "top": "150px",
    "width": "206.188px"
   },
   "toc_section_display": true,
   "toc_window_display": true
  }
 },
 "nbformat": 4,
 "nbformat_minor": 5
}
