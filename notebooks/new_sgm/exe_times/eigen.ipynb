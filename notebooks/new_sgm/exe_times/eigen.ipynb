{
 "cells": [
  {
   "cell_type": "markdown",
   "id": "792e93d7",
   "metadata": {},
   "source": [
    "exe time of \n",
    "- eigenmapping\n"
   ]
  },
  {
   "cell_type": "code",
   "execution_count": null,
   "id": "eceb0190",
   "metadata": {},
   "outputs": [],
   "source": []
  },
  {
   "cell_type": "markdown",
   "id": "15b93230",
   "metadata": {},
   "source": [
    "# Import some pkgs"
   ]
  },
  {
   "cell_type": "code",
   "execution_count": 7,
   "id": "a5c4bef0",
   "metadata": {
    "ExecuteTime": {
     "end_time": "2023-12-20T19:05:16.398034Z",
     "start_time": "2023-12-20T19:05:16.354839Z"
    }
   },
   "outputs": [
    {
     "name": "stdout",
     "output_type": "stream",
     "text": [
      "The autoreload extension is already loaded. To reload it, use:\n",
      "  %reload_ext autoreload\n"
     ]
    }
   ],
   "source": [
    "import sys\n",
    "sys.path.append(\"../../../mypkg\")\n",
    "\n",
    "import scipy\n",
    "import itertools\n",
    "\n",
    "import numpy as np\n",
    "import pandas as pd\n",
    "import xarray as xr\n",
    "import matplotlib.pyplot as plt\n",
    "import seaborn as sns\n",
    "\n",
    "from tqdm import trange\n",
    "from scipy.io import loadmat\n",
    "from functools import partial\n",
    "from easydict import EasyDict as edict\n",
    "from collections import defaultdict as ddict\n",
    "from IPython.display import display\n",
    "%load_ext autoreload\n",
    "%autoreload 2"
   ]
  },
  {
   "cell_type": "code",
   "execution_count": 8,
   "id": "129d24a5",
   "metadata": {
    "ExecuteTime": {
     "end_time": "2023-12-20T19:05:16.876495Z",
     "start_time": "2023-12-20T19:05:16.839322Z"
    }
   },
   "outputs": [],
   "source": [
    "# SBI and torch\n",
    "from sbi.inference.base import infer\n",
    "from sbi.inference import SNPE, prepare_for_sbi, simulate_for_sbi\n",
    "from sbi import analysis\n",
    "from sbi.utils.get_nn_models import posterior_nn\n",
    "from sbi import utils as sutils\n",
    "\n",
    "import torch.nn as nn\n",
    "import torch.nn.functional as F\n",
    "import torch\n",
    "from torch.distributions.multivariate_normal import MultivariateNormal"
   ]
  },
  {
   "cell_type": "code",
   "execution_count": 9,
   "id": "513f09d5",
   "metadata": {
    "ExecuteTime": {
     "end_time": "2023-12-20T19:05:20.217926Z",
     "start_time": "2023-12-20T19:05:20.102971Z"
    }
   },
   "outputs": [],
   "source": [
    "# my own fns\n",
    "from brain import Brain\n",
    "from FC_utils import build_fc_freq_m\n",
    "from constants import RES_ROOT, DATA_ROOT, FIG_ROOT\n",
    "from utils.misc import load_pkl, save_pkl\n",
    "from utils.reparam import theta_raw_2out, logistic_np, logistic_torch\n",
    "from utils.measures import geodesic_dist, reg_R_fn, lin_R_fn, lap_mat_fn\n",
    "\n",
    "plt.style.use(FIG_ROOT/\"base.mplstyle\")"
   ]
  },
  {
   "cell_type": "code",
   "execution_count": null,
   "id": "d5b87c78",
   "metadata": {
    "ExecuteTime": {
     "end_time": "2022-11-08T00:03:09.655902Z",
     "start_time": "2022-11-08T00:03:09.466344Z"
    }
   },
   "outputs": [],
   "source": []
  },
  {
   "cell_type": "markdown",
   "id": "820f27bd",
   "metadata": {},
   "source": [
    "# Some fns"
   ]
  },
  {
   "cell_type": "code",
   "execution_count": 10,
   "id": "9daeac1d",
   "metadata": {
    "ExecuteTime": {
     "end_time": "2023-12-20T19:05:21.325419Z",
     "start_time": "2023-12-20T19:05:21.287340Z"
    }
   },
   "outputs": [],
   "source": [
    "_minmax_vec = lambda x: (x-np.min(x))/(np.max(x)-np.min(x));\n",
    "_remove_norm = lambda x: x/np.linalg.norm(x)\n",
    "_std_vec = lambda x: (x-np.mean(x))/np.std(x)\n",
    "_remove_scale = _minmax_vec\n",
    "uptri_idxs = np.triu_indices(68, k=1);\n",
    "# transfer vec to a sym mat\n",
    "def _vec_2mat(vec):\n",
    "    mat = np.zeros((68, 68))\n",
    "    mat[np.triu_indices(68, k = 1)] = vec\n",
    "    mat = mat + mat.T\n",
    "    return mat"
   ]
  },
  {
   "cell_type": "code",
   "execution_count": null,
   "id": "52ddcd73",
   "metadata": {},
   "outputs": [],
   "source": []
  },
  {
   "cell_type": "markdown",
   "id": "1f00449d",
   "metadata": {},
   "source": [
    "# Load data and params"
   ]
  },
  {
   "cell_type": "code",
   "execution_count": 11,
   "id": "e689ddd5",
   "metadata": {
    "ExecuteTime": {
     "end_time": "2023-12-20T19:05:22.597139Z",
     "start_time": "2023-12-20T19:05:22.563364Z"
    }
   },
   "outputs": [],
   "source": [
    "paras = edict()\n",
    "paras.bds = [\"delta\", \"theta\", \"alpha\", \"beta_l\"]\n",
    "#paras.bds = [\"alpha\"]\n",
    "paras.allbds = [\"delta\", \"theta\", \"alpha\", \"beta_l\"]\n",
    "paras.add_v = 0.01\n",
    "paras.nepoch = 100"
   ]
  },
  {
   "cell_type": "code",
   "execution_count": 12,
   "id": "1fa0d47e",
   "metadata": {
    "ExecuteTime": {
     "end_time": "2023-12-20T19:05:22.985349Z",
     "start_time": "2023-12-20T19:05:22.960443Z"
    }
   },
   "outputs": [],
   "source": [
    "# em FC\n",
    "fc_root = RES_ROOT/\"emp_fcs2\"\n",
    "def _get_fc(sub_ix, bd):\n",
    "    fil = list(fc_root.rglob(f\"*{bd}*{paras.nepoch}/sub{sub_ix}.pkl\"))[0]\n",
    "    return np.abs(load_pkl(fil, verbose=False))"
   ]
  },
  {
   "cell_type": "code",
   "execution_count": 13,
   "id": "d466d8a0",
   "metadata": {
    "ExecuteTime": {
     "end_time": "2023-12-20T19:05:25.610743Z",
     "start_time": "2023-12-20T19:05:25.570182Z"
    }
   },
   "outputs": [],
   "source": [
    "\n",
    "def _add_v2con(cur_ind_conn, add_v):\n",
    "    cur_ind_conn = cur_ind_conn.copy()\n",
    "    add_v = np.quantile(cur_ind_conn, 0.99)*add_v # tuning 0.1\n",
    "    np.fill_diagonal(cur_ind_conn[:34, 34:68], np.diag(cur_ind_conn[:34, 34:68]) + add_v)\n",
    "    np.fill_diagonal(cur_ind_conn[34:68, :34], np.diag(cur_ind_conn[34:68, :34]) + add_v)\n",
    "    np.fill_diagonal(cur_ind_conn[68:77, 77:], np.diag(cur_ind_conn[68:77, 77:]) + add_v)\n",
    "    np.fill_diagonal(cur_ind_conn[77:, 68:77], np.diag(cur_ind_conn[77:, 68:77]) + add_v)\n",
    "    return cur_ind_conn\n"
   ]
  },
  {
   "cell_type": "code",
   "execution_count": 14,
   "id": "a256cf45",
   "metadata": {
    "ExecuteTime": {
     "end_time": "2023-12-20T19:05:27.944452Z",
     "start_time": "2023-12-20T19:05:27.052818Z"
    }
   },
   "outputs": [
    {
     "data": {
      "text/plain": [
       "(36, 68, 68)"
      ]
     },
     "execution_count": 14,
     "metadata": {},
     "output_type": "execute_result"
    }
   ],
   "source": [
    "# SC\n",
    "ind_conn_xr = xr.open_dataarray(DATA_ROOT/'individual_connectomes_reordered.nc')\n",
    "ind_conn = ind_conn_xr.values;\n",
    "#scs = ind_conn.transpose(2, 0, 1)[:, :68, :68];\n",
    "#scs = np.array([_preprocess_sc(sc) for sc in scs]);\n",
    "\n",
    "scs = []\n",
    "for cur_ind_idx in range(36):\n",
    "    # create spectrome brain:\n",
    "    brain = Brain.Brain()\n",
    "    brain.add_connectome(DATA_ROOT) # grabs distance matrix\n",
    "    # re-ordering for DK atlas and normalizing the connectomes:\n",
    "    brain.reorder_connectome(brain.connectome, brain.distance_matrix)\n",
    "     # re-assign connectome to individual connectome\n",
    "    brain.connectome =  _add_v2con(ind_conn[:, :, cur_ind_idx], paras.add_v)\n",
    "    brain.bi_symmetric_c()\n",
    "    brain.reduce_extreme_dir()\n",
    "    sc = brain.reducedConnectome\n",
    "    scs.append(sc[:68, :68])\n",
    "scs = np.array(scs)\n",
    "scs.shape"
   ]
  },
  {
   "cell_type": "code",
   "execution_count": null,
   "id": "81aef06f",
   "metadata": {},
   "outputs": [],
   "source": []
  },
  {
   "cell_type": "markdown",
   "id": "141adb91",
   "metadata": {},
   "source": [
    "# Eigenmapping"
   ]
  },
  {
   "cell_type": "code",
   "execution_count": 15,
   "id": "a1af52ee",
   "metadata": {
    "ExecuteTime": {
     "end_time": "2023-12-20T19:05:30.041989Z",
     "start_time": "2023-12-20T19:05:29.991322Z"
    }
   },
   "outputs": [],
   "source": [
    "from scipy.optimize import minimize\n",
    "class EigMapping():\n",
    "    \"\"\"Do eigenmapping approx from SC to FC.\n",
    "       lamnew = exp(-lam(SC)*p1)+p2 from ben\n",
    "    \"\"\"\n",
    "    def __init__(self, sc, init_ps, rescale_fn=lambda x: x):\n",
    "        \"\"\"args:\n",
    "            sc: the SC matrix\n",
    "            init_ps: Initial guess of the parameters, a list of two\n",
    "            rescale_fn: The fn for rescale fc, default is the identity, minmax does not converge.\n",
    "        \"\"\"\n",
    "        \n",
    "        self.init_ps = init_ps\n",
    "        #sc = np.diag(1/np.sum(sc, axis=0)) @ sc\n",
    "        self.eigvals, self.eigvecs = self._get_eigres(sc)\n",
    "        self.rescale_fn = rescale_fn\n",
    "        self.opt_ps = None\n",
    "         \n",
    "    def _get_eigres(self, sc):\n",
    "        eigvals, eigvecs = np.linalg.eig(sc);\n",
    "        sort_idxs = np.argsort(-np.abs(eigvals))\n",
    "        eigvals, eigvecs = eigvals[sort_idxs], eigvecs[:, sort_idxs]\n",
    "        return eigvals, eigvecs\n",
    "        \n",
    "    def _recon_fc(self, ps=None):\n",
    "        p1, p2 = ps\n",
    "        new_eigvals = np.exp(-p1*self.eigvals/np.median(self.eigvals))+p2\n",
    "        # note that for an ordinary matrix, it should be Ulam U^-1\n",
    "        #rec_fc = self.eigvecs @ np.diag(new_eigvals) @ np.linalg.inv(self.eigvecs)\n",
    "        rec_fc = self.eigvecs @ np.diag(new_eigvals) @ self.eigvecs.T\n",
    "        return rec_fc - np.diag(np.diag(rec_fc))\n",
    "    \n",
    "    def opt(self, fc):\n",
    "        def fun(ps):\n",
    "            newfc = self._recon_fc(ps)\n",
    "            idxs = np.triu_indices_from(newfc, k=1)\n",
    "            return -lin_R_fn(self.rescale_fn(fc[idxs]), self.rescale_fn(newfc[idxs]))[0]\n",
    "            #return np.mean((self.rescale_fn(fc[idxs])-\n",
    "            #                self.rescale_fn(newfc[idxs]))**2)\n",
    "        res = minimize(fun, self.init_ps, bounds= ((0, 1000), (-1000, 1000)), \n",
    "                      options=dict(disp=False))\n",
    "        self.opt_ps = res.x\n",
    "        if not res.success:\n",
    "            print(f\"May not converge, {res.message}.\")\n",
    "            \n",
    "    def get_optfc(self, fc):\n",
    "        if self.opt_ps is None:\n",
    "            self.opt(fc)\n",
    "        return self._recon_fc(self.opt_ps)"
   ]
  },
  {
   "cell_type": "code",
   "execution_count": 17,
   "id": "ad9111e9",
   "metadata": {
    "ExecuteTime": {
     "end_time": "2023-12-20T19:06:45.047994Z",
     "start_time": "2023-12-20T19:06:44.313484Z"
    }
   },
   "outputs": [
    {
     "name": "stderr",
     "output_type": "stream",
     "text": [
      "100%|██████████████████████████████████████████████████████████████████████████████████████████████████████████████████████████████████████████| 10/10 [00:00<00:00, 14.37it/s]\n"
     ]
    }
   ],
   "source": [
    "import time \n",
    "band = \"alpha\"\n",
    "ts = [time.time()]\n",
    "for sub_ix in trange(10):\n",
    "    opt = EigMapping(scs[sub_ix], [0, 0]) \n",
    "    curfc = _get_fc(sub_ix, band)\n",
    "    opt.get_optfc(curfc);\n",
    "    ts.append(time.time())"
   ]
  },
  {
   "cell_type": "code",
   "execution_count": 18,
   "id": "b83458b3",
   "metadata": {
    "ExecuteTime": {
     "end_time": "2023-12-20T19:06:54.464248Z",
     "start_time": "2023-12-20T19:06:54.427790Z"
    }
   },
   "outputs": [
    {
     "name": "stdout",
     "output_type": "stream",
     "text": [
      "The time for each subject is 0.070 with std 0.041.\n"
     ]
    }
   ],
   "source": [
    "dlt_ts = np.diff(ts)\n",
    "print(f\"The time for each subject is {np.mean(dlt_ts):.3f} with std {np.std(dlt_ts):.3f}.\")"
   ]
  },
  {
   "cell_type": "code",
   "execution_count": null,
   "id": "a0f7cb14",
   "metadata": {},
   "outputs": [],
   "source": []
  }
 ],
 "metadata": {
  "kernelspec": {
   "display_name": "Python 3 (ipykernel)",
   "language": "python",
   "name": "python3"
  },
  "language_info": {
   "codemirror_mode": {
    "name": "ipython",
    "version": 3
   },
   "file_extension": ".py",
   "mimetype": "text/x-python",
   "name": "python",
   "nbconvert_exporter": "python",
   "pygments_lexer": "ipython3",
   "version": "3.9.7"
  },
  "toc": {
   "base_numbering": 1,
   "nav_menu": {},
   "number_sections": true,
   "sideBar": true,
   "skip_h1_title": false,
   "title_cell": "Table of Contents",
   "title_sidebar": "Contents",
   "toc_cell": false,
   "toc_position": {
    "height": "calc(100% - 180px)",
    "left": "10px",
    "top": "150px",
    "width": "206.188px"
   },
   "toc_section_display": true,
   "toc_window_display": true
  }
 },
 "nbformat": 4,
 "nbformat_minor": 5
}
