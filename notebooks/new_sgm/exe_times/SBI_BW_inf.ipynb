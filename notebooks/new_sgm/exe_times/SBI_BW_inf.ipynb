{
 "cells": [
  {
   "cell_type": "markdown",
   "id": "afb20312",
   "metadata": {},
   "source": [
    "Test exe time for SBI inference"
   ]
  },
  {
   "cell_type": "markdown",
   "id": "15b93230",
   "metadata": {},
   "source": [
    "## Import some pkgs"
   ]
  },
  {
   "cell_type": "code",
   "execution_count": 1,
   "id": "a5c4bef0",
   "metadata": {
    "ExecuteTime": {
     "end_time": "2023-12-20T19:10:23.988222Z",
     "start_time": "2023-12-20T19:10:22.597907Z"
    }
   },
   "outputs": [],
   "source": [
    "import sys\n",
    "sys.path.append(\"../../../mypkg\")\n",
    "\n",
    "import scipy\n",
    "import itertools\n",
    "\n",
    "import numpy as np\n",
    "import xarray as xr\n",
    "import matplotlib.pyplot as plt\n",
    "import seaborn as sns\n",
    "import pandas as pd\n",
    "\n",
    "from tqdm import trange\n",
    "from scipy.io import loadmat\n",
    "from functools import partial\n",
    "from easydict import EasyDict as edict"
   ]
  },
  {
   "cell_type": "code",
   "execution_count": 2,
   "id": "129d24a5",
   "metadata": {
    "ExecuteTime": {
     "end_time": "2023-12-20T19:10:25.402068Z",
     "start_time": "2023-12-20T19:10:23.991156Z"
    }
   },
   "outputs": [],
   "source": [
    "# SBI and torch\n",
    "from sbi.inference.base import infer\n",
    "from sbi.inference import SNPE, prepare_for_sbi, simulate_for_sbi\n",
    "from sbi import analysis\n",
    "from sbi.utils.get_nn_models import posterior_nn\n",
    "from sbi import utils as sutils\n",
    "\n",
    "import torch.nn as nn\n",
    "import torch.nn.functional as F\n",
    "import torch\n",
    "from torch.distributions.multivariate_normal import MultivariateNormal"
   ]
  },
  {
   "cell_type": "code",
   "execution_count": 3,
   "id": "513f09d5",
   "metadata": {
    "ExecuteTime": {
     "end_time": "2023-12-20T19:10:26.921352Z",
     "start_time": "2023-12-20T19:10:26.871815Z"
    }
   },
   "outputs": [],
   "source": [
    "# my own fns\n",
    "from brain import Brain\n",
    "from FC_utils import build_fc_freq_m\n",
    "from constants import RES_ROOT, DATA_ROOT\n",
    "from utils.misc import load_pkl, save_pkl\n",
    "from utils.reparam import theta_raw_2out, logistic_np, logistic_torch"
   ]
  },
  {
   "cell_type": "code",
   "execution_count": null,
   "id": "d5b87c78",
   "metadata": {
    "ExecuteTime": {
     "end_time": "2022-11-08T00:03:09.655902Z",
     "start_time": "2022-11-08T00:03:09.466344Z"
    }
   },
   "outputs": [],
   "source": []
  },
  {
   "cell_type": "markdown",
   "id": "820f27bd",
   "metadata": {},
   "source": [
    "## Some fns"
   ]
  },
  {
   "cell_type": "code",
   "execution_count": 4,
   "id": "58536d30",
   "metadata": {
    "ExecuteTime": {
     "end_time": "2023-12-20T19:10:29.899344Z",
     "start_time": "2023-12-20T19:10:29.867307Z"
    }
   },
   "outputs": [],
   "source": [
    "from scipy.stats import kendalltau\n",
    "from scipy.stats import spearmanr\n",
    "from utils.measures import geodesic_dist, reg_R_fn, lin_R_fn\n",
    "\n",
    "def divideFc(fc):\n",
    "    \"\"\"Divide the FC into three blocks and vector them\n",
    "    \"\"\"\n",
    "    size_fc = len(fc)\n",
    "    hs_fc = int(size_fc/2)\n",
    "    fc_block1 = fc[:hs_fc, :hs_fc]\n",
    "    fc_block2 = fc[hs_fc:, hs_fc:];\n",
    "    fc_block3 = fc[:hs_fc, hs_fc:];\n",
    "    vec1 = _minmax_vec(fc_block1[np.triu_indices(hs_fc, k = 1)])\n",
    "    vec2 = _minmax_vec(fc_block2[np.triu_indices(hs_fc, k = 1)])\n",
    "    vec3 = _minmax_vec(fc_block3.flatten())\n",
    "    return vec1, vec2, vec3\n",
    "\n",
    "def cal_metrics(fc1, fc2):\n",
    "    \"\"\"Calculate the distance between fc1 and fc2, including\n",
    "        1. geodesic dist\n",
    "        2. pearson's R\n",
    "        3. lin R\n",
    "        4. pearson's R after divide the FC into three blocks\n",
    "        5. lin R after divide the FC into three blocks\n",
    "    \"\"\"\n",
    "    fc1 = fc1.astype(np.float64)\n",
    "    fc2 = fc2.astype(np.float64)\n",
    "    size_fc = len(fc1)\n",
    "    \n",
    "    # for geodedic\n",
    "    fc1_g = fc1/np.linalg.norm(fc1) + np.eye(size_fc)\n",
    "    fc2_g = fc2/np.linalg.norm(fc2) + np.eye(size_fc)\n",
    "    \n",
    "    fc1_c = _minmax_vec(fc1[np.triu_indices(size_fc, k=1)]).reshape(1, -1)\n",
    "    fc2_c = _minmax_vec(fc2[np.triu_indices(size_fc, k=1)]).reshape(1, -1)\n",
    "    \n",
    "    # all metrics\n",
    "    geo_dist = geodesic_dist(fc1_g, fc2_g)\n",
    "    reg_r = reg_R_fn(fc1_c, fc2_c)\n",
    "    lin_r = lin_R_fn(fc1_c, fc2_c)\n",
    "    mse = np.mean((fc1_c-fc2_c)**2)\n",
    "    tau_r = kendalltau(fc1_c.reshape(-1), fc2_c.reshape(-1))[0]\n",
    "    sp_r = spearmanr(fc1_c.reshape(-1), fc2_c.reshape(-1))[0]\n",
    "    \n",
    "    # block wise metrics\n",
    "    blocks1 = divideFc(fc1)\n",
    "    blocks2 = divideFc(fc2)\n",
    "    reg_r_block = [reg_R_fn(vec1.reshape(1, -1), vec2.reshape(1, -1))[0] \n",
    "                   for vec1, vec2 in zip(blocks1, blocks2)]\n",
    "    lin_r_block = [lin_R_fn(vec1.reshape(1, -1), vec2.reshape(1, -1))[0] \n",
    "                   for vec1, vec2 in zip(blocks1, blocks2)]\n",
    "    \n",
    "    res = edict()\n",
    "    res.geo_dist = geo_dist\n",
    "    res.reg_r = reg_r[0]\n",
    "    res.lin_r = lin_r[0]\n",
    "    res.tau_r = tau_r\n",
    "    res.sp_r = sp_r \n",
    "    res.mse = mse\n",
    "    res.reg_r_block = np.mean(reg_r_block)\n",
    "    res.lin_r_block = np.mean(lin_r_block)\n",
    "    return res\n",
    "\n",
    "def cal_metrics_batch(fc1s, fc2s):\n",
    "    \"\"\"fc1s, fc2s: num_fc x 68 x 68\n",
    "    \"\"\"\n",
    "    ress = ddict(list)\n",
    "    for ix in range(len(fc1s)):\n",
    "        fc_t = fc2s[ix]\n",
    "        fc_e = fc1s[ix]\n",
    "        res = cal_metrics(fc_t, fc_e)\n",
    "        for key, v in res.items():\n",
    "            ress[key].append(v)\n",
    "    \n",
    "    return ress"
   ]
  },
  {
   "cell_type": "code",
   "execution_count": 5,
   "id": "d56c17fd",
   "metadata": {
    "ExecuteTime": {
     "end_time": "2023-12-20T19:10:30.999676Z",
     "start_time": "2023-12-20T19:10:30.992148Z"
    }
   },
   "outputs": [],
   "source": [
    "def _simulate_data(raw_params, brain, prior_bds, freqrange):\n",
    "    params = []\n",
    "    for raw_param, prior_bd in zip(raw_params, prior_bds):\n",
    "        param =  _map_fn_torch(raw_param)*(prior_bd[1]-prior_bd[0]) + prior_bd[0]\n",
    "        params.append(param)\n",
    "    params = torch.tensor(params)\n",
    "    \n",
    "    params_dict = dict()\n",
    "    params_dict[\"tauC\"] =  params[0].item()\n",
    "    params_dict[\"speed\"] =  params[1].item()\n",
    "    params_dict[\"alpha\"] =  params[2].item()\n",
    "    modelFC = build_fc_freq_m(brain , params_dict, freqrange)\n",
    "    return np.abs(modelFC[:68, :68])"
   ]
  },
  {
   "cell_type": "code",
   "execution_count": 6,
   "id": "81762f84",
   "metadata": {
    "ExecuteTime": {
     "end_time": "2023-12-20T19:10:32.473617Z",
     "start_time": "2023-12-20T19:10:32.463081Z"
    }
   },
   "outputs": [
    {
     "data": {
      "text/plain": [
       "<function __main__.<lambda>(x)>"
      ]
     },
     "execution_count": 6,
     "metadata": {},
     "output_type": "execute_result"
    }
   ],
   "source": [
    "_minmax_vec = lambda x: (x-np.min(x))/(np.max(x)-np.min(x))"
   ]
  },
  {
   "cell_type": "code",
   "execution_count": 7,
   "id": "9daeac1d",
   "metadata": {
    "ExecuteTime": {
     "end_time": "2023-12-20T19:10:32.929043Z",
     "start_time": "2023-12-20T19:10:32.924020Z"
    }
   },
   "outputs": [],
   "source": [
    "# transfer vec to a sym mat\n",
    "def _vec_2mat(vec):\n",
    "    mat = np.zeros((68, 68))\n",
    "    mat[np.triu_indices(68, k = 1)] = vec\n",
    "    mat = mat + mat.T\n",
    "    return mat"
   ]
  },
  {
   "cell_type": "code",
   "execution_count": 8,
   "id": "65fa4ae9",
   "metadata": {
    "ExecuteTime": {
     "end_time": "2023-12-20T19:10:33.389655Z",
     "start_time": "2023-12-20T19:10:33.384151Z"
    }
   },
   "outputs": [],
   "source": [
    "def get_mode(x):\n",
    "    kde_est = scipy.stats.gaussian_kde(x)\n",
    "    xs = np.linspace(x.min(), x.max(), 500)\n",
    "    ys = kde_est(xs)\n",
    "    return xs[np.argmax(ys)]"
   ]
  },
  {
   "cell_type": "markdown",
   "id": "12bd0463",
   "metadata": {},
   "source": [
    "### Some parameters"
   ]
  },
  {
   "cell_type": "code",
   "execution_count": 9,
   "id": "1b1c015a",
   "metadata": {
    "ExecuteTime": {
     "end_time": "2023-12-20T19:10:35.477533Z",
     "start_time": "2023-12-20T19:10:35.472461Z"
    }
   },
   "outputs": [],
   "source": [
    "_paras = edict()\n",
    "_paras.delta = [2, 3.5]\n",
    "_paras.theta = [4, 7]\n",
    "_paras.alpha = [8, 12]\n",
    "_paras.beta_l = [13, 20]\n"
   ]
  },
  {
   "cell_type": "code",
   "execution_count": 10,
   "id": "74f883ac",
   "metadata": {
    "ExecuteTime": {
     "end_time": "2023-12-20T19:10:45.514194Z",
     "start_time": "2023-12-20T19:10:45.497901Z"
    }
   },
   "outputs": [
    {
     "name": "stdout",
     "output_type": "stream",
     "text": [
      "[ 8.  9. 10. 11. 12.]\n",
      "rawfc2_SBIxANNBW_alpha_ep100_num1000_densitynsf_MR3_noise_sd120_addv1\n"
     ]
    }
   ],
   "source": [
    "paras = edict()\n",
    "\n",
    "paras.band= \"alpha\" #stick to coh\n",
    "paras.freqrange =  np.linspace(_paras[paras.band][0], _paras[paras.band][1], 5)\n",
    "paras.save_prefix = \"rawfc2\"\n",
    "print(paras.freqrange)\n",
    "paras.fs = 600\n",
    "paras.num_nodes = 86 # Number of cortical (68) + subcortical nodes\n",
    "#paras.par_low = np.asarray([0.005,0.005,0.005,5, 0.1,0.001,0.001])\n",
    "#paras.par_high = np.asarray([0.03, 0.20, 0.03,20,  1,    2,  0.7])\n",
    "paras.par_low = np.asarray([0.005, 5, 0.1])\n",
    "paras.par_high = np.asarray([0.03, 20, 1])\n",
    "paras.names = [\"TauC\", \"Speed\", \"alpha\"]\n",
    "paras.prior_bds = np.array([paras.par_low, paras.par_high]).T\n",
    "paras.add_v = 0.01\n",
    "paras.nepoch = 100\n",
    "paras.k = 1 # without ann, k=0.1, with ann, k = 1\n",
    "\n",
    "paras.SBI_paras = edict()\n",
    "paras.SBI_paras.num_prior_sps = int(1e3)\n",
    "paras.SBI_paras.density_model = \"nsf\"\n",
    "paras.SBI_paras.num_round = 3\n",
    "paras.SBI_paras.noise_sd = 1.20\n",
    "paras.SBI_paras.save_dir = (f\"{paras.save_prefix}_SBIxANNBW_{paras.band}_\"\n",
    "                            f\"ep{paras.nepoch}_\"\n",
    "                            f\"num{paras.SBI_paras.num_prior_sps}_\" \n",
    "                            f\"density{paras.SBI_paras.density_model}_\" \n",
    "                            f\"MR{paras.SBI_paras.num_round}_\" \n",
    "                            f\"noise_sd{paras.SBI_paras.noise_sd*100:.0f}_\"\n",
    "                            f\"addv{paras.add_v*100:.0f}\")\n",
    "print(paras.SBI_paras.save_dir)\n",
    "assert (RES_ROOT/paras.SBI_paras.save_dir).exists()"
   ]
  },
  {
   "cell_type": "code",
   "execution_count": 11,
   "id": "0b853363",
   "metadata": {
    "ExecuteTime": {
     "end_time": "2023-12-20T19:10:47.078460Z",
     "start_time": "2023-12-20T19:10:47.073057Z"
    }
   },
   "outputs": [],
   "source": [
    "# fn for reparemetering\n",
    "_map_fn_torch = partial(logistic_torch, k=paras.k)\n",
    "_theta_raw_2out = partial(theta_raw_2out, map_fn=partial(logistic_np, k=paras.k), prior_bds=paras.prior_bds);"
   ]
  },
  {
   "cell_type": "code",
   "execution_count": null,
   "id": "f2b0bc3a",
   "metadata": {
    "ExecuteTime": {
     "end_time": "2023-09-22T16:33:09.116370Z",
     "start_time": "2023-09-22T16:33:09.103735Z"
    }
   },
   "outputs": [],
   "source": []
  },
  {
   "cell_type": "code",
   "execution_count": null,
   "id": "d66040ab",
   "metadata": {},
   "outputs": [],
   "source": []
  },
  {
   "cell_type": "markdown",
   "id": "cc57cec6",
   "metadata": {},
   "source": [
    "### Load the data"
   ]
  },
  {
   "cell_type": "code",
   "execution_count": 12,
   "id": "b78325a1",
   "metadata": {
    "ExecuteTime": {
     "end_time": "2023-12-20T19:10:48.793873Z",
     "start_time": "2023-12-20T19:10:48.483421Z"
    }
   },
   "outputs": [],
   "source": [
    "# SC\n",
    "ind_conn_xr = xr.open_dataarray(DATA_ROOT/'individual_connectomes_reordered.nc')\n",
    "ind_conn = ind_conn_xr.values\n",
    "\n",
    "# PSD\n",
    "ind_psd_xr = xr.open_dataarray(DATA_ROOT/'individual_psd_reordered_matlab.nc')\n",
    "ind_psd = ind_psd_xr.values\n",
    "fvec = ind_psd_xr[\"frequencies\"].values;"
   ]
  },
  {
   "cell_type": "code",
   "execution_count": 13,
   "id": "ee5a4fc9",
   "metadata": {
    "ExecuteTime": {
     "end_time": "2023-12-20T19:10:49.374771Z",
     "start_time": "2023-12-20T19:10:49.339131Z"
    }
   },
   "outputs": [
    {
     "name": "stdout",
     "output_type": "stream",
     "text": [
      "Add 0.01 on diag\n"
     ]
    }
   ],
   "source": [
    "\n",
    "def _add_v2con(cur_ind_conn):\n",
    "    cur_ind_conn = cur_ind_conn.copy()\n",
    "    add_v = np.quantile(cur_ind_conn, 0.99)*paras.add_v # tuning 0.1\n",
    "    np.fill_diagonal(cur_ind_conn[:34, 34:68], np.diag(cur_ind_conn[:34, 34:68]) + add_v)\n",
    "    np.fill_diagonal(cur_ind_conn[34:68, :34], np.diag(cur_ind_conn[34:68, :34]) + add_v)\n",
    "    np.fill_diagonal(cur_ind_conn[68:77, 77:], np.diag(cur_ind_conn[68:77, 77:]) + add_v)\n",
    "    np.fill_diagonal(cur_ind_conn[77:, 68:77], np.diag(cur_ind_conn[77:, 68:77]) + add_v)\n",
    "    return cur_ind_conn\n",
    "\n",
    "\n",
    "if paras.add_v != 0:\n",
    "    print(f\"Add {paras.add_v} on diag\")\n",
    "    ind_conn_adds = [_add_v2con(ind_conn[:, :, ix]) for ix in range(36)]\n",
    "    ind_conn = np.transpose(np.array(ind_conn_adds), (1, 2, 0))"
   ]
  },
  {
   "cell_type": "code",
   "execution_count": 14,
   "id": "8946be59",
   "metadata": {
    "ExecuteTime": {
     "end_time": "2023-12-20T19:10:53.064021Z",
     "start_time": "2023-12-20T19:10:51.982105Z"
    }
   },
   "outputs": [
    {
     "data": {
      "text/plain": [
       "(36, 68, 68)"
      ]
     },
     "execution_count": 14,
     "metadata": {},
     "output_type": "execute_result"
    }
   ],
   "source": [
    "# em FC\n",
    "fc_root = RES_ROOT/\"emp_fcs2\"\n",
    "def _get_fc(sub_ix, bd):\n",
    "    fil = list(fc_root.rglob(f\"*{bd}*nepoch-{paras.nepoch}*/sub{sub_ix}.pkl\"))[0]\n",
    "    return load_pkl(fil, verbose=False)\n",
    "\n",
    "fcs = np.array([_get_fc(sub_ix, paras.band) for sub_ix in range(36)]);\n",
    "fcs.shape"
   ]
  },
  {
   "cell_type": "code",
   "execution_count": null,
   "id": "06dd3072",
   "metadata": {},
   "outputs": [],
   "source": []
  },
  {
   "cell_type": "code",
   "execution_count": null,
   "id": "d8150f03",
   "metadata": {},
   "outputs": [],
   "source": []
  },
  {
   "cell_type": "markdown",
   "id": "88dc5304",
   "metadata": {},
   "source": [
    "## Time"
   ]
  },
  {
   "cell_type": "code",
   "execution_count": 15,
   "id": "52e911f0",
   "metadata": {
    "ExecuteTime": {
     "end_time": "2023-12-20T19:11:28.255350Z",
     "start_time": "2023-12-20T19:11:28.244856Z"
    }
   },
   "outputs": [],
   "source": [
    "res_fils = list((RES_ROOT/paras.SBI_paras.save_dir).glob(\"ind*.pkl\"))\n",
    "_sorted_fn = lambda x: int(x.stem.split(\"ind\")[-1][:])\n",
    "sorted_fils = sorted(res_fils, key=_sorted_fn);"
   ]
  },
  {
   "cell_type": "code",
   "execution_count": 16,
   "id": "0db365e4",
   "metadata": {
    "ExecuteTime": {
     "end_time": "2023-12-20T19:13:57.496278Z",
     "start_time": "2023-12-20T19:13:53.227760Z"
    },
    "scrolled": true
   },
   "outputs": [
    {
     "data": {
      "application/vnd.jupyter.widget-view+json": {
       "model_id": "60ee52a645ec4665bd81022eeb28109e",
       "version_major": 2,
       "version_minor": 0
      },
      "text/plain": [
       "Drawing 1000 posterior samples:   0%|          | 0/1000 [00:00<?, ?it/s]"
      ]
     },
     "metadata": {},
     "output_type": "display_data"
    },
    {
     "name": "stderr",
     "output_type": "stream",
     "text": [
      "/home/hujin/.local/lib/python3.9/site-packages/nflows/transforms/lu.py:80: UserWarning: torch.triangular_solve is deprecated in favor of torch.linalg.solve_triangularand will be removed in a future PyTorch release.\n",
      "torch.linalg.solve_triangular has its arguments reversed and does not return a copy of one of the inputs.\n",
      "X = torch.triangular_solve(B, A).solution\n",
      "should be replaced with\n",
      "X = torch.linalg.solve_triangular(A, B). (Triggered internally at  ../aten/src/ATen/native/BatchLinearAlgebra.cpp:2189.)\n",
      "  outputs, _ = torch.triangular_solve(\n"
     ]
    },
    {
     "data": {
      "application/vnd.jupyter.widget-view+json": {
       "model_id": "df02246fdf7a401cb32be28055d9709b",
       "version_major": 2,
       "version_minor": 0
      },
      "text/plain": [
       "Drawing 1000 posterior samples:   0%|          | 0/1000 [00:00<?, ?it/s]"
      ]
     },
     "metadata": {},
     "output_type": "display_data"
    },
    {
     "data": {
      "application/vnd.jupyter.widget-view+json": {
       "model_id": "74ff10b147804b03ac1da163278de48d",
       "version_major": 2,
       "version_minor": 0
      },
      "text/plain": [
       "Drawing 1000 posterior samples:   0%|          | 0/1000 [00:00<?, ?it/s]"
      ]
     },
     "metadata": {},
     "output_type": "display_data"
    },
    {
     "data": {
      "application/vnd.jupyter.widget-view+json": {
       "model_id": "104fbe09560744cdbea31f2ad80209d4",
       "version_major": 2,
       "version_minor": 0
      },
      "text/plain": [
       "Drawing 1000 posterior samples:   0%|          | 0/1000 [00:00<?, ?it/s]"
      ]
     },
     "metadata": {},
     "output_type": "display_data"
    },
    {
     "data": {
      "application/vnd.jupyter.widget-view+json": {
       "model_id": "225de914e9284fbe8944f62567b36e26",
       "version_major": 2,
       "version_minor": 0
      },
      "text/plain": [
       "Drawing 1000 posterior samples:   0%|          | 0/1000 [00:00<?, ?it/s]"
      ]
     },
     "metadata": {},
     "output_type": "display_data"
    },
    {
     "data": {
      "application/vnd.jupyter.widget-view+json": {
       "model_id": "290beb52c8fa4950ac816ce3d5904028",
       "version_major": 2,
       "version_minor": 0
      },
      "text/plain": [
       "Drawing 1000 posterior samples:   0%|          | 0/1000 [00:00<?, ?it/s]"
      ]
     },
     "metadata": {},
     "output_type": "display_data"
    },
    {
     "data": {
      "application/vnd.jupyter.widget-view+json": {
       "model_id": "eb0ac3687667473e9814ad882578d2a0",
       "version_major": 2,
       "version_minor": 0
      },
      "text/plain": [
       "Drawing 1000 posterior samples:   0%|          | 0/1000 [00:00<?, ?it/s]"
      ]
     },
     "metadata": {},
     "output_type": "display_data"
    },
    {
     "data": {
      "application/vnd.jupyter.widget-view+json": {
       "model_id": "4aebe46bec044f8b9f0846e8a7295935",
       "version_major": 2,
       "version_minor": 0
      },
      "text/plain": [
       "Drawing 1000 posterior samples:   0%|          | 0/1000 [00:00<?, ?it/s]"
      ]
     },
     "metadata": {},
     "output_type": "display_data"
    },
    {
     "data": {
      "application/vnd.jupyter.widget-view+json": {
       "model_id": "b8868e9a4f934aa2bd5f06bab80fb6f0",
       "version_major": 2,
       "version_minor": 0
      },
      "text/plain": [
       "Drawing 1000 posterior samples:   0%|          | 0/1000 [00:00<?, ?it/s]"
      ]
     },
     "metadata": {},
     "output_type": "display_data"
    },
    {
     "data": {
      "application/vnd.jupyter.widget-view+json": {
       "model_id": "1ddbb74022de4628940e6cb37a686e8f",
       "version_major": 2,
       "version_minor": 0
      },
      "text/plain": [
       "Drawing 1000 posterior samples:   0%|          | 0/1000 [00:00<?, ?it/s]"
      ]
     },
     "metadata": {},
     "output_type": "display_data"
    }
   ],
   "source": [
    "import time \n",
    "\n",
    "ts = [time.time()]\n",
    "for sub_idx in range(10):\n",
    "    cur_posterior = load_pkl(sorted_fils[sub_idx], False)\n",
    "    post_sps = cur_posterior.sample((1000, ))\n",
    "    cur_est_paras = torch.mean(post_sps, axis=0)\n",
    "        \n",
    "    # get the cur brain\n",
    "    brain = Brain.Brain()\n",
    "    brain.add_connectome(DATA_ROOT) # grabs distance matrix\n",
    "    brain.reorder_connectome(brain.connectome, brain.distance_matrix)\n",
    "    brain.connectome =  ind_conn[:, :, sub_idx] # re-assign connectome to individual connectome\n",
    "    brain.bi_symmetric_c()\n",
    "    brain.reduce_extreme_dir()\n",
    "        \n",
    "    cur_obs_FC = np.abs(fcs[sub_idx])\n",
    "    cur_est_FC = np.abs(_simulate_data(cur_est_paras, \n",
    "                                   brain=brain, \n",
    "                                   prior_bds=paras.prior_bds, \n",
    "                                   freqrange=paras.freqrange\n",
    "                                  ))\n",
    "    ts.append(time.time())"
   ]
  },
  {
   "cell_type": "code",
   "execution_count": 17,
   "id": "ed09930b",
   "metadata": {
    "ExecuteTime": {
     "end_time": "2023-12-20T19:14:10.035372Z",
     "start_time": "2023-12-20T19:14:10.029532Z"
    }
   },
   "outputs": [
    {
     "name": "stdout",
     "output_type": "stream",
     "text": [
      "The time for each subject is 0.426 with std 0.066.\n"
     ]
    }
   ],
   "source": [
    "dlt_ts = np.diff(ts)\n",
    "print(f\"The time for each subject is {np.mean(dlt_ts):.3f} with std {np.std(dlt_ts):.3f}.\")"
   ]
  },
  {
   "cell_type": "code",
   "execution_count": null,
   "id": "5d7462c2",
   "metadata": {},
   "outputs": [],
   "source": []
  },
  {
   "cell_type": "code",
   "execution_count": null,
   "id": "b31e8ead",
   "metadata": {},
   "outputs": [],
   "source": []
  }
 ],
 "metadata": {
  "kernelspec": {
   "display_name": "Python 3 (ipykernel)",
   "language": "python",
   "name": "python3"
  },
  "language_info": {
   "codemirror_mode": {
    "name": "ipython",
    "version": 3
   },
   "file_extension": ".py",
   "mimetype": "text/x-python",
   "name": "python",
   "nbconvert_exporter": "python",
   "pygments_lexer": "ipython3",
   "version": "3.9.7"
  },
  "toc": {
   "base_numbering": 1,
   "nav_menu": {},
   "number_sections": true,
   "sideBar": true,
   "skip_h1_title": false,
   "title_cell": "Table of Contents",
   "title_sidebar": "Contents",
   "toc_cell": false,
   "toc_position": {
    "height": "calc(100% - 180px)",
    "left": "10px",
    "top": "150px",
    "width": "165px"
   },
   "toc_section_display": true,
   "toc_window_display": true
  }
 },
 "nbformat": 4,
 "nbformat_minor": 5
}
