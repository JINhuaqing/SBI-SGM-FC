{
 "cells": [
  {
   "cell_type": "markdown",
   "id": "089a43ab",
   "metadata": {},
   "source": [
    "RUN SBI-SGM in alpha, new bounds, new SGM, only three parameters needed\n",
    "\n",
    "parameters order is  :tauG,speed,alpha (In second)\n",
    "\n",
    "And now, I construct prior from the results with Annealing\n"
   ]
  },
  {
   "cell_type": "markdown",
   "id": "15b93230",
   "metadata": {},
   "source": [
    "## Import some pkgs"
   ]
  },
  {
   "cell_type": "code",
   "execution_count": 1,
   "id": "a5c4bef0",
   "metadata": {
    "ExecuteTime": {
     "end_time": "2023-10-06T20:03:07.631961Z",
     "start_time": "2023-10-06T20:03:06.407145Z"
    }
   },
   "outputs": [],
   "source": [
    "import sys\n",
    "sys.path.append(\"../../mypkg\")\n",
    "\n",
    "import scipy\n",
    "import itertools\n",
    "\n",
    "import numpy as np\n",
    "import xarray as xr\n",
    "import matplotlib.pyplot as plt\n",
    "import seaborn as sns\n",
    "\n",
    "from tqdm import trange\n",
    "from scipy.io import loadmat\n",
    "from functools import partial\n",
    "from easydict import EasyDict as edict"
   ]
  },
  {
   "cell_type": "code",
   "execution_count": 2,
   "id": "129d24a5",
   "metadata": {
    "ExecuteTime": {
     "end_time": "2023-10-06T20:03:09.216492Z",
     "start_time": "2023-10-06T20:03:07.634609Z"
    }
   },
   "outputs": [],
   "source": [
    "# SBI and torch\n",
    "from sbi.inference.base import infer\n",
    "from sbi.inference import SNPE, prepare_for_sbi, simulate_for_sbi\n",
    "from sbi import analysis\n",
    "from sbi.utils.get_nn_models import posterior_nn\n",
    "from sbi import utils as sutils\n",
    "\n",
    "import torch.nn as nn\n",
    "import torch.nn.functional as F\n",
    "import torch\n",
    "from torch.distributions.multivariate_normal import MultivariateNormal"
   ]
  },
  {
   "cell_type": "code",
   "execution_count": 3,
   "id": "513f09d5",
   "metadata": {
    "ExecuteTime": {
     "end_time": "2023-10-06T20:03:09.272813Z",
     "start_time": "2023-10-06T20:03:09.219764Z"
    }
   },
   "outputs": [],
   "source": [
    "# my own fns\n",
    "from brain import Brain\n",
    "from FC_utils import build_fc_freq_m\n",
    "from constants import RES_ROOT, DATA_ROOT\n",
    "from utils.misc import load_pkl, save_pkl\n",
    "from utils.reparam import theta_raw_2out, logistic_np, logistic_torch"
   ]
  },
  {
   "cell_type": "code",
   "execution_count": null,
   "id": "d5b87c78",
   "metadata": {
    "ExecuteTime": {
     "end_time": "2022-11-08T00:03:09.655902Z",
     "start_time": "2022-11-08T00:03:09.466344Z"
    }
   },
   "outputs": [],
   "source": []
  },
  {
   "cell_type": "markdown",
   "id": "820f27bd",
   "metadata": {},
   "source": [
    "## Some fns"
   ]
  },
  {
   "cell_type": "code",
   "execution_count": 4,
   "id": "81762f84",
   "metadata": {
    "ExecuteTime": {
     "end_time": "2023-10-06T20:03:09.285973Z",
     "start_time": "2023-10-06T20:03:09.275250Z"
    }
   },
   "outputs": [
    {
     "data": {
      "text/plain": [
       "<function __main__.<lambda>(x)>"
      ]
     },
     "execution_count": 4,
     "metadata": {},
     "output_type": "execute_result"
    }
   ],
   "source": [
    "_minmax_vec = lambda x: (x-np.min(x))/(np.max(x)-np.min(x))"
   ]
  },
  {
   "cell_type": "code",
   "execution_count": 5,
   "id": "9daeac1d",
   "metadata": {
    "ExecuteTime": {
     "end_time": "2023-10-06T20:03:09.315542Z",
     "start_time": "2023-10-06T20:03:09.288006Z"
    }
   },
   "outputs": [],
   "source": [
    "# transfer vec to a sym mat\n",
    "def vec_2mat(vec):\n",
    "    mat = np.zeros((68, 68))\n",
    "    mat[np.triu_indices(68, k = 1)] = vec\n",
    "    mat = mat + mat.T\n",
    "    return mat"
   ]
  },
  {
   "cell_type": "code",
   "execution_count": null,
   "id": "c2112ea2",
   "metadata": {},
   "outputs": [],
   "source": []
  },
  {
   "cell_type": "markdown",
   "id": "12bd0463",
   "metadata": {},
   "source": [
    "### Some parameters"
   ]
  },
  {
   "cell_type": "code",
   "execution_count": 6,
   "id": "5da1fc37",
   "metadata": {
    "ExecuteTime": {
     "end_time": "2023-10-06T20:03:10.774258Z",
     "start_time": "2023-10-06T20:03:10.498341Z"
    }
   },
   "outputs": [],
   "source": [
    "# SC\n",
    "ind_conn_xr = xr.open_dataarray(DATA_ROOT/'individual_connectomes_reordered.nc')\n",
    "ind_conn = ind_conn_xr.values\n",
    "\n",
    "# PSD\n",
    "ind_psd_xr = xr.open_dataarray(DATA_ROOT/'individual_psd_reordered_matlab.nc')\n",
    "ind_psd = ind_psd_xr.values\n",
    "fvec = ind_psd_xr[\"frequencies\"].values;"
   ]
  },
  {
   "cell_type": "code",
   "execution_count": 7,
   "id": "c034879f",
   "metadata": {
    "ExecuteTime": {
     "end_time": "2023-10-06T20:03:11.293757Z",
     "start_time": "2023-10-06T20:03:11.288178Z"
    }
   },
   "outputs": [],
   "source": [
    "_paras = edict()\n",
    "_paras.delta = [2, 3.5]\n",
    "_paras.theta = [4, 7]\n",
    "_paras.alpha = [8, 12]\n",
    "_paras.beta_l = [13, 20]"
   ]
  },
  {
   "cell_type": "code",
   "execution_count": 20,
   "id": "74f883ac",
   "metadata": {
    "ExecuteTime": {
     "end_time": "2023-10-06T20:05:38.283531Z",
     "start_time": "2023-10-06T20:05:38.268892Z"
    }
   },
   "outputs": [
    {
     "name": "stdout",
     "output_type": "stream",
     "text": [
      "['delta', 'theta', 'alpha', 'beta_l']\n"
     ]
    }
   ],
   "source": [
    "paras = edict()\n",
    "\n",
    "paras.bands = [\"delta\", \"theta\", \"alpha\", \"beta_l\"]\n",
    "paras.freqranges =  [np.linspace(_paras[band ][0], _paras[band][1], 5) \n",
    "                     for band in paras.bands]\n",
    "paras.nepoch = 100\n",
    "paras.save_prefix = \"rawfc2allbd\"\n",
    "print(paras.bands)\n",
    "paras.fs = 600\n",
    "paras.num_nodes = 86 # Number of cortical (68) + subcortical nodes\n",
    "#paras.par_low = np.asarray([0.005,0.005,0.005,5, 0.1,0.001,0.001])\n",
    "#paras.par_high = np.asarray([0.03, 0.20, 0.03,20,  1,    2,  0.7])\n",
    "#paras.names = [\"Taue\", \"Taui\", \"TauC\", \"Speed\", \"alpha\", \"gii\", \"gei\"]\n",
    "paras.par_low = np.asarray([0.005, 5, 0.1])\n",
    "paras.par_high = np.asarray([0.03, 20, 1])\n",
    "paras.names = [\"TauC\", \"Speed\", \"alpha\"]\n",
    "paras.prior_bds = np.array([paras.par_low, paras.par_high]).T\n",
    "paras.prior_sd = 1\n",
    "paras.add_v = 0.01\n",
    "paras.k = 1\n",
    "\n",
    "paras.SBI_paras = edict()\n",
    "paras.SBI_paras.noise_sd = 0.4\n",
    "paras.SBI_paras.num_prior_sps = int(1e2)\n",
    "paras.SBI_paras.density_model = \"nsf\"\n",
    "paras.SBI_paras.num_round = 1 # 3"
   ]
  },
  {
   "cell_type": "code",
   "execution_count": 21,
   "id": "1f4c00a6",
   "metadata": {
    "ExecuteTime": {
     "end_time": "2023-10-06T20:05:38.766345Z",
     "start_time": "2023-10-06T20:05:38.760605Z"
    }
   },
   "outputs": [],
   "source": [
    "# fn for reparemetering\n",
    "_map_fn_torch = partial(logistic_torch, k=paras.k)\n",
    "_theta_raw_2out = partial(theta_raw_2out, map_fn=partial(logistic_np, k=paras.k), prior_bds=paras.prior_bds);"
   ]
  },
  {
   "cell_type": "code",
   "execution_count": null,
   "id": "d66040ab",
   "metadata": {},
   "outputs": [],
   "source": []
  },
  {
   "cell_type": "markdown",
   "id": "cc57cec6",
   "metadata": {},
   "source": [
    "### Load the data"
   ]
  },
  {
   "cell_type": "code",
   "execution_count": 22,
   "id": "ee5a4fc9",
   "metadata": {
    "ExecuteTime": {
     "end_time": "2023-10-06T20:05:41.077804Z",
     "start_time": "2023-10-06T20:05:41.046488Z"
    }
   },
   "outputs": [
    {
     "name": "stdout",
     "output_type": "stream",
     "text": [
      "Add 0.01 on diag\n"
     ]
    }
   ],
   "source": [
    "\n",
    "def _add_v2con(cur_ind_conn):\n",
    "    cur_ind_conn = cur_ind_conn.copy()\n",
    "    add_v = np.quantile(cur_ind_conn, 0.99)*paras.add_v # tuning 0.1\n",
    "    np.fill_diagonal(cur_ind_conn[:34, 34:68], np.diag(cur_ind_conn[:34, 34:68]) + add_v)\n",
    "    np.fill_diagonal(cur_ind_conn[34:68, :34], np.diag(cur_ind_conn[34:68, :34]) + add_v)\n",
    "    np.fill_diagonal(cur_ind_conn[68:77, 77:], np.diag(cur_ind_conn[68:77, 77:]) + add_v)\n",
    "    np.fill_diagonal(cur_ind_conn[77:, 68:77], np.diag(cur_ind_conn[77:, 68:77]) + add_v)\n",
    "    return cur_ind_conn\n",
    "\n",
    "if paras.add_v != 0:\n",
    "    print(f\"Add {paras.add_v} on diag\")\n",
    "    ind_conn_adds = [_add_v2con(ind_conn[:, :, ix]) for ix in range(36)]\n",
    "    ind_conn = np.transpose(np.array(ind_conn_adds), (1, 2, 0))"
   ]
  },
  {
   "cell_type": "code",
   "execution_count": 23,
   "id": "87f1aaad",
   "metadata": {
    "ExecuteTime": {
     "end_time": "2023-10-06T20:05:46.002497Z",
     "start_time": "2023-10-06T20:05:41.332851Z"
    }
   },
   "outputs": [],
   "source": [
    "# em FC\n",
    "fc_root = RES_ROOT/\"emp_fcs2\"\n",
    "fcss = []\n",
    "for band in paras.bands:\n",
    "    def _get_fc(sub_ix, bd):\n",
    "        fil = list(fc_root.rglob(f\"*{bd}*{paras.nepoch}/sub{sub_ix}.pkl\"))[0]\n",
    "        return load_pkl(fil, verbose=False)\n",
    "    \n",
    "    fcs = np.array([_get_fc(sub_ix, band) for sub_ix in range(36)]);\n",
    "    fcss.append(fcs)"
   ]
  },
  {
   "cell_type": "code",
   "execution_count": null,
   "id": "34f677b5",
   "metadata": {},
   "outputs": [],
   "source": []
  },
  {
   "cell_type": "markdown",
   "id": "4bc952d0",
   "metadata": {},
   "source": [
    "## SBI"
   ]
  },
  {
   "cell_type": "markdown",
   "id": "83c38c13",
   "metadata": {},
   "source": [
    "### Prior"
   ]
  },
  {
   "cell_type": "code",
   "execution_count": 24,
   "id": "ce9f1612",
   "metadata": {
    "ExecuteTime": {
     "end_time": "2023-10-06T20:05:46.019305Z",
     "start_time": "2023-10-06T20:05:46.006149Z"
    }
   },
   "outputs": [],
   "source": [
    "# get the informative prior\n",
    "def _get_prior(ind_idx):\n",
    "    fil = list(RES_ROOT.glob(f\"rawfc2allbd_ANN_{'-'.join(paras.bands)}_ep{paras.nepoch}\"\n",
    "                             f\"_addv{paras.add_v*100:.0f}/ind{ind_idx}.pkl\"))[0];\n",
    "    ann_res = load_pkl(fil, verbose=False);\n",
    "    ann_res.ann_res.x\n",
    "    prior = MultivariateNormal(loc=torch.Tensor(ann_res.ann_res.x), \n",
    "                           covariance_matrix=torch.eye(3)*(paras.prior_sd**2))\n",
    "    return prior"
   ]
  },
  {
   "cell_type": "code",
   "execution_count": 25,
   "id": "7bfac0a3",
   "metadata": {
    "ExecuteTime": {
     "end_time": "2023-10-06T20:05:46.049691Z",
     "start_time": "2023-10-06T20:05:46.021439Z"
    }
   },
   "outputs": [],
   "source": [
    "def simulator(raw_params, brain, noise_sd, prior_bds, freqranges):\n",
    "    params = []\n",
    "    for raw_param, prior_bd in zip(raw_params, prior_bds):\n",
    "        param =  _map_fn_torch(raw_param)*(prior_bd[1]-prior_bd[0]) + prior_bd[0]\n",
    "        params.append(param)\n",
    "    params = torch.tensor(params)\n",
    "    \n",
    "    params_dict = dict()\n",
    "    params_dict[\"tauC\"] =  params[0].item()\n",
    "    params_dict[\"speed\"] =  params[1].item()\n",
    "    params_dict[\"alpha\"] =  params[2].item()\n",
    "    \n",
    "    ress = []\n",
    "    for freqrange in freqranges:\n",
    "        modelFC = build_fc_freq_m(brain, params_dict, freqrange)\n",
    "        modelFC_abs = np.abs(modelFC[:68, :68])\n",
    "        res = _minmax_vec(modelFC_abs[np.triu_indices(68, k = 1)])\n",
    "        ress.append(res)\n",
    "    ress = np.concatenate(ress)\n",
    "    noise =  np.random.randn(*ress.shape)*noise_sd\n",
    "    return (ress+ noise).flatten()"
   ]
  },
  {
   "cell_type": "code",
   "execution_count": null,
   "id": "5d19811f",
   "metadata": {
    "ExecuteTime": {
     "end_time": "2023-10-06T20:06:00.333518Z",
     "start_time": "2023-10-06T20:05:46.053089Z"
    }
   },
   "outputs": [],
   "source": [
    "for cur_ind_idx in range(0, 36):\n",
    "    print(cur_ind_idx)\n",
    "    save_fil = f\"{paras.save_prefix}_SBIxANNALLBD_{'-'.join(paras.bands)}_\" +  \\\n",
    "               f\"ep{paras.nepoch}_\" + \\\n",
    "               f\"num{paras.SBI_paras.num_prior_sps}_\" + \\\n",
    "               f\"density{paras.SBI_paras.density_model}_\" + \\\n",
    "               f\"MR{paras.SBI_paras.num_round}_\" + \\\n",
    "               f\"noise_sd{paras.SBI_paras.noise_sd*100:.0f}_\" +\\\n",
    "               f\"addv{paras.add_v*100:.0f}\" +\\\n",
    "               f\"/ind{cur_ind_idx}.pkl\"\n",
    "    if (RES_ROOT/save_fil).exists():\n",
    "        # thanks to the buggy SCS\n",
    "        continue\n",
    "    \n",
    "    \n",
    "    # create spectrome brain:\n",
    "    brain = Brain.Brain()\n",
    "    brain.add_connectome(DATA_ROOT) # grabs distance matrix\n",
    "    # re-ordering for DK atlas and normalizing the connectomes:\n",
    "    brain.reorder_connectome(brain.connectome, brain.distance_matrix)\n",
    "    brain.connectome =  ind_conn[:, :, cur_ind_idx] # re-assign connectome to individual connectome\n",
    "    brain.bi_symmetric_c()\n",
    "    brain.reduce_extreme_dir()\n",
    "    \n",
    "    simulator_sp = partial(simulator, \n",
    "                           brain=brain, \n",
    "                           noise_sd=paras.SBI_paras.noise_sd, \n",
    "                           prior_bds=paras.prior_bds, \n",
    "                           freqranges=paras.freqranges)\n",
    "    prior = _get_prior(cur_ind_idx)\n",
    "    simulator_wrapper, prior = prepare_for_sbi(simulator_sp, prior)\n",
    "    inference = SNPE(prior=prior, density_estimator=paras.SBI_paras.density_model)\n",
    "    proposal = prior \n",
    "    \n",
    "    #the observed data\n",
    "    res_vecs = []\n",
    "    for fcs in fcss:\n",
    "        cur_obs_FC = np.abs(fcs[cur_ind_idx])\n",
    "        res_vec = _minmax_vec(cur_obs_FC[np.triu_indices(68, k = 1)])\n",
    "        res_vecs.append(res_vec)\n",
    "    res_vecs = np.concatenate(res_vecs)\n",
    "    curX = torch.Tensor(res_vecs)\n",
    "    #num_spss = [10000, 10000, 5000]\n",
    "    for ix in range(paras.SBI_paras.num_round):\n",
    "        theta, x = simulate_for_sbi(simulator_wrapper, proposal,\n",
    "                                    num_simulations=int(paras.SBI_paras.num_prior_sps),\n",
    "                                    num_workers=20)\n",
    "        density_estimator = inference.append_simulations(\n",
    "                            theta, x, proposal=proposal\n",
    "                            ).train()\n",
    "        posterior = inference.build_posterior(density_estimator)\n",
    "        \n",
    "        proposal = posterior.set_default_x(curX)\n",
    "    \n",
    "    save_pkl(RES_ROOT/save_fil, proposal)"
   ]
  },
  {
   "cell_type": "code",
   "execution_count": null,
   "id": "0241760f",
   "metadata": {},
   "outputs": [],
   "source": []
  }
 ],
 "metadata": {
  "kernelspec": {
   "display_name": "Python 3 (ipykernel)",
   "language": "python",
   "name": "python3"
  },
  "language_info": {
   "codemirror_mode": {
    "name": "ipython",
    "version": 3
   },
   "file_extension": ".py",
   "mimetype": "text/x-python",
   "name": "python",
   "nbconvert_exporter": "python",
   "pygments_lexer": "ipython3",
   "version": "3.9.7"
  },
  "toc": {
   "base_numbering": 1,
   "nav_menu": {},
   "number_sections": true,
   "sideBar": true,
   "skip_h1_title": false,
   "title_cell": "Table of Contents",
   "title_sidebar": "Contents",
   "toc_cell": false,
   "toc_position": {
    "height": "calc(100% - 180px)",
    "left": "10px",
    "top": "150px",
    "width": "204.594px"
   },
   "toc_section_display": true,
   "toc_window_display": false
  }
 },
 "nbformat": 4,
 "nbformat_minor": 5
}
