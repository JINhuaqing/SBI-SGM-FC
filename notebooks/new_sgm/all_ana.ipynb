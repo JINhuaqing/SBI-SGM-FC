{
 "cells": [
  {
   "cell_type": "code",
   "execution_count": null,
   "id": "eceb0190",
   "metadata": {},
   "outputs": [],
   "source": []
  },
  {
   "cell_type": "markdown",
   "id": "15b93230",
   "metadata": {},
   "source": [
    "## Import some pkgs"
   ]
  },
  {
   "cell_type": "code",
   "execution_count": 142,
   "id": "a5c4bef0",
   "metadata": {
    "ExecuteTime": {
     "end_time": "2023-05-09T22:30:53.065593Z",
     "start_time": "2023-05-09T22:30:53.058494Z"
    }
   },
   "outputs": [],
   "source": [
    "import sys\n",
    "sys.path.append(\"../../mypkg\")\n",
    "\n",
    "import scipy\n",
    "import itertools\n",
    "\n",
    "import numpy as np\n",
    "import xarray as xr\n",
    "import matplotlib.pyplot as plt\n",
    "import seaborn as sns\n",
    "\n",
    "from tqdm import trange\n",
    "from scipy.io import loadmat\n",
    "from functools import partial\n",
    "from easydict import EasyDict as edict\n",
    "from collections import defaultdict as ddict"
   ]
  },
  {
   "cell_type": "code",
   "execution_count": 143,
   "id": "129d24a5",
   "metadata": {
    "ExecuteTime": {
     "end_time": "2023-05-09T22:30:53.309725Z",
     "start_time": "2023-05-09T22:30:53.303147Z"
    }
   },
   "outputs": [],
   "source": [
    "# SBI and torch\n",
    "from sbi.inference.base import infer\n",
    "from sbi.inference import SNPE, prepare_for_sbi, simulate_for_sbi\n",
    "from sbi import analysis\n",
    "from sbi.utils.get_nn_models import posterior_nn\n",
    "from sbi import utils as sutils\n",
    "\n",
    "import torch.nn as nn\n",
    "import torch.nn.functional as F\n",
    "import torch\n",
    "from torch.distributions.multivariate_normal import MultivariateNormal"
   ]
  },
  {
   "cell_type": "code",
   "execution_count": 144,
   "id": "513f09d5",
   "metadata": {
    "ExecuteTime": {
     "end_time": "2023-05-09T22:30:53.722713Z",
     "start_time": "2023-05-09T22:30:53.713162Z"
    }
   },
   "outputs": [],
   "source": [
    "# my own fns\n",
    "from brain import Brain\n",
    "from FC_utils import build_fc_freq_m\n",
    "from constants import RES_ROOT, DATA_ROOT, FIG_ROOT\n",
    "from utils.misc import load_pkl, save_pkl\n",
    "from utils.reparam import theta_raw_2out, logistic_np, logistic_torch\n",
    "from utils.measures import geodesic_dist, reg_R_fn, lin_R_fn\n",
    "\n",
    "plt.style.use(FIG_ROOT/\"base.mplstyle\")"
   ]
  },
  {
   "cell_type": "code",
   "execution_count": null,
   "id": "d5b87c78",
   "metadata": {
    "ExecuteTime": {
     "end_time": "2022-11-08T00:03:09.655902Z",
     "start_time": "2022-11-08T00:03:09.466344Z"
    }
   },
   "outputs": [],
   "source": []
  },
  {
   "cell_type": "markdown",
   "id": "820f27bd",
   "metadata": {},
   "source": [
    "## Some fns"
   ]
  },
  {
   "cell_type": "code",
   "execution_count": 7,
   "id": "81762f84",
   "metadata": {
    "ExecuteTime": {
     "end_time": "2023-05-09T21:14:13.243667Z",
     "start_time": "2023-05-09T21:14:13.235556Z"
    }
   },
   "outputs": [
    {
     "data": {
      "text/plain": [
       "<function __main__.<lambda>(x)>"
      ]
     },
     "execution_count": 7,
     "metadata": {},
     "output_type": "execute_result"
    }
   ],
   "source": [
    "_minmax_vec = lambda x: (x-np.min(x))/(np.max(x)-np.min(x))"
   ]
  },
  {
   "cell_type": "code",
   "execution_count": 8,
   "id": "9daeac1d",
   "metadata": {
    "ExecuteTime": {
     "end_time": "2023-05-09T21:14:17.759823Z",
     "start_time": "2023-05-09T21:14:17.756792Z"
    }
   },
   "outputs": [],
   "source": [
    "# transfer vec to a sym mat\n",
    "def _vec_2mat(vec):\n",
    "    mat = np.zeros((68, 68))\n",
    "    mat[np.triu_indices(68, k = 1)] = vec\n",
    "    mat = mat + mat.T\n",
    "    return mat"
   ]
  },
  {
   "cell_type": "code",
   "execution_count": 9,
   "id": "58cf7c0c",
   "metadata": {
    "ExecuteTime": {
     "end_time": "2023-05-09T21:14:18.810866Z",
     "start_time": "2023-05-09T21:14:18.806398Z"
    }
   },
   "outputs": [],
   "source": [
    "## t test for each band\n",
    "def paired_ttest(band, fc_types):\n",
    "    typ_idx = fc_types.index(band)\n",
    "    a = corrs_all[\"allbands\"][:, typ_idx] \n",
    "    b = corrs_all[band]\n",
    "    res = scipy.stats.ttest_rel(a, b)\n",
    "    return res\n",
    "\n",
    "def twosps_ttest(band, fc_types):\n",
    "    typ_idx = fc_types.index(band)\n",
    "    a = corrs_all[\"allbands\"][:, typ_idx] \n",
    "    b = corrs_all[band]\n",
    "    res = scipy.stats.ttest_ind(a, b)\n",
    "    return res"
   ]
  },
  {
   "cell_type": "code",
   "execution_count": null,
   "id": "132ed9c0",
   "metadata": {
    "ExecuteTime": {
     "end_time": "2023-02-12T04:21:29.459216Z",
     "start_time": "2023-02-12T04:21:29.432162Z"
    }
   },
   "outputs": [],
   "source": []
  },
  {
   "cell_type": "code",
   "execution_count": null,
   "id": "c2112ea2",
   "metadata": {},
   "outputs": [],
   "source": []
  },
  {
   "cell_type": "markdown",
   "id": "12bd0463",
   "metadata": {},
   "source": [
    "### Some parameters"
   ]
  },
  {
   "cell_type": "code",
   "execution_count": 10,
   "id": "60ee9273",
   "metadata": {
    "ExecuteTime": {
     "end_time": "2023-05-09T21:14:25.365324Z",
     "start_time": "2023-05-09T21:14:25.360002Z"
    }
   },
   "outputs": [],
   "source": [
    "_paras = edict()\n",
    "_paras.delta = [2, 3.5]\n",
    "_paras.theta = [4, 7]\n",
    "_paras.alpha = [8, 12]\n",
    "_paras.beta = [13, 20]\n",
    "_paras.beta_l = [13, 20]\n",
    "_paras.beta_h = [15, 25]\n",
    "_paras.cols = [\"#1b9e77\", \"#d95f02\", \"#7570b3\", \"#e7298a\", \"#66a61e\", \"#e6ab02\",]\n",
    "_paras.markers = [\"o\", \"h\", \"*\", \"+\"]\n",
    "_paras.xaxis_labs = [r\"$\\delta$\", r\"$\\theta$\", r\"$\\alpha$\", r\"$\\beta$\"]\n",
    "_paras.barh = 0.05"
   ]
  },
  {
   "cell_type": "code",
   "execution_count": 11,
   "id": "488d0dd0",
   "metadata": {
    "ExecuteTime": {
     "end_time": "2023-05-09T21:14:30.060853Z",
     "start_time": "2023-05-09T21:14:30.056089Z"
    }
   },
   "outputs": [
    {
     "data": {
      "text/plain": [
       "((0.005, 0.03), (1.7, 5.3), (0.1, 1.0))"
      ]
     },
     "execution_count": 11,
     "metadata": {},
     "output_type": "execute_result"
    }
   ],
   "source": [
    "# Parameter bounds for optimization\n",
    "v_lower = 3.5-1.8\n",
    "v_upper = 3.5+1.8\n",
    "bnds = ((0.005,0.030), (v_lower,v_upper), (0.1,1.0))\n",
    "#tauG,speed,alpha"
   ]
  },
  {
   "cell_type": "code",
   "execution_count": 195,
   "id": "74f883ac",
   "metadata": {
    "ExecuteTime": {
     "end_time": "2023-05-10T17:17:40.459439Z",
     "start_time": "2023-05-10T17:17:40.442208Z"
    }
   },
   "outputs": [
    {
     "name": "stdout",
     "output_type": "stream",
     "text": [
      "[array([2.   , 2.375, 2.75 , 3.125, 3.5  ]), array([4.  , 4.75, 5.5 , 6.25, 7.  ]), array([ 8.,  9., 10., 11., 12.]), array([13.  , 14.75, 16.5 , 18.25, 20.  ])]\n"
     ]
    }
   ],
   "source": [
    "paras = edict()\n",
    "\n",
    "paras.fc_types = [\"delta\", \"theta\", \"alpha\", \"beta_l\"]\n",
    "paras.epoch = \"\"\n",
    "paras.freqranges =  [np.linspace(_paras[fc_type][0], _paras[fc_type][1], 5) \n",
    "                     for fc_type in paras.fc_types]\n",
    "print(paras.freqranges)\n",
    "paras.fs = 600\n",
    "paras.num_nodes = 86 # Number of cortical (68) + subcortical nodes\n",
    "paras.par_low =  np.array([ix[0] for ix in bnds])\n",
    "paras.par_high = np.array([ix[1] for ix in bnds])\n",
    "paras.prior_bds = np.array([paras.par_low, paras.par_high]).T\n",
    "paras.prior_sd = 10\n",
    "paras.add_v = 0.05\n",
    "\n",
    "paras.dirs = edict()\n",
    "for fc_type in paras.fc_types:\n",
    "    paras.dirs[fc_type] = (RES_ROOT/(f\"newsgmws1_posteriorMRmul_\"+\n",
    "                                     f\"{fc_type}_num1000_densitynsf_MR3_noise_sd80_addv5\"))\n",
    "for fc_type in paras.fc_types:\n",
    "    paras.dirs[fc_type+\"w0\"] = (RES_ROOT/(f\"newsgm_posteriorMRmul_\"+\n",
    "                                     f\"{fc_type}_num1000_densitynsf_MR3_noise_sd80_addv5\"))\n",
    "for fc_type in paras.fc_types:\n",
    "    paras.dirs[fc_type+\"w1\"] = (RES_ROOT/(f\"newsgm1w1_posteriorMRmul_\"+\n",
    "                                     f\"{fc_type}_num1000_densitynsf_MR3_noise_sd80_addv5\"))\n"
   ]
  },
  {
   "cell_type": "code",
   "execution_count": 196,
   "id": "0b853363",
   "metadata": {
    "ExecuteTime": {
     "end_time": "2023-05-10T17:17:41.261176Z",
     "start_time": "2023-05-10T17:17:41.253647Z"
    }
   },
   "outputs": [
    {
     "data": {
      "text/plain": [
       "functools.partial(<function theta_raw_2out at 0x7fde2339e160>, map_fn=functools.partial(<function logistic_np at 0x7fde2339e0d0>, k=0.1))"
      ]
     },
     "execution_count": 196,
     "metadata": {},
     "output_type": "execute_result"
    }
   ],
   "source": [
    "# fn for reparemetering\n",
    "_map_fn_torch = partial(logistic_torch, k=0.1)\n",
    "_theta_raw_2out = partial(theta_raw_2out, map_fn=partial(logistic_np, k=0.1))"
   ]
  },
  {
   "cell_type": "code",
   "execution_count": null,
   "id": "d66040ab",
   "metadata": {},
   "outputs": [],
   "source": []
  },
  {
   "cell_type": "markdown",
   "id": "cc57cec6",
   "metadata": {},
   "source": [
    "### Load the data"
   ]
  },
  {
   "cell_type": "code",
   "execution_count": 197,
   "id": "ba97c3d9",
   "metadata": {
    "ExecuteTime": {
     "end_time": "2023-05-10T17:17:42.941192Z",
     "start_time": "2023-05-10T17:17:42.848156Z"
    }
   },
   "outputs": [],
   "source": [
    "# SC\n",
    "ind_conn_xr = xr.open_dataarray(DATA_ROOT/'individual_connectomes_reordered.nc')\n",
    "ind_conn = ind_conn_xr.values\n",
    "\n",
    "# PSD\n",
    "ind_psd_xr = xr.open_dataarray(DATA_ROOT/'individual_psd_reordered_matlab.nc')\n",
    "ind_psd = ind_psd_xr.values\n",
    "fvec = ind_psd_xr[\"frequencies\"].values;"
   ]
  },
  {
   "cell_type": "code",
   "execution_count": 198,
   "id": "ee5a4fc9",
   "metadata": {
    "ExecuteTime": {
     "end_time": "2023-05-10T17:17:44.084476Z",
     "start_time": "2023-05-10T17:17:44.065620Z"
    }
   },
   "outputs": [
    {
     "name": "stdout",
     "output_type": "stream",
     "text": [
      "Add 0.05 on diag\n"
     ]
    }
   ],
   "source": [
    "\n",
    "def _add_v2con(cur_ind_conn):\n",
    "    cur_ind_conn = cur_ind_conn.copy()\n",
    "    add_v = np.max(cur_ind_conn)*paras.add_v # tuning 0.1\n",
    "    np.fill_diagonal(cur_ind_conn[:34, 34:68], np.diag(cur_ind_conn[:34, 34:68]) + add_v)\n",
    "    np.fill_diagonal(cur_ind_conn[34:68, :34], np.diag(cur_ind_conn[34:68, :34]) + add_v)\n",
    "    np.fill_diagonal(cur_ind_conn[68:77, 77:], np.diag(cur_ind_conn[68:77, 77:]) + add_v)\n",
    "    np.fill_diagonal(cur_ind_conn[77:, 68:77], np.diag(cur_ind_conn[77:, 68:77]) + add_v)\n",
    "    return cur_ind_conn\n",
    "\n",
    "\n",
    "if paras.add_v != 0:\n",
    "    print(f\"Add {paras.add_v} on diag\")\n",
    "    ind_conn_adds = [_add_v2con(ind_conn[:, :, ix]) for ix in range(36)]\n",
    "    ind_conn = np.transpose(np.array(ind_conn_adds), (1, 2, 0))"
   ]
  },
  {
   "cell_type": "code",
   "execution_count": 200,
   "id": "1c727a6e",
   "metadata": {
    "ExecuteTime": {
     "end_time": "2023-05-10T17:17:56.406562Z",
     "start_time": "2023-05-10T17:17:56.383905Z"
    }
   },
   "outputs": [
    {
     "data": {
      "text/plain": [
       "(68, 68, 36)"
      ]
     },
     "execution_count": 200,
     "metadata": {},
     "output_type": "execute_result"
    }
   ],
   "source": [
    "# Load true MEG FC time series:\n",
    "true_FCs = []\n",
    "for fc_type in paras.fc_types:\n",
    "    dataPath = DATA_ROOT/f'./{paras.epoch}MEG_FC_{fc_type}_DK_networks_coh.mat'\n",
    "    data = loadmat(dataPath);\n",
    "    true_FC = data[f\"MEG_{fc_type}_FC_networks_coh\"]\n",
    "    true_FCs.append(true_FC)\n",
    "\n",
    "true_FC.shape"
   ]
  },
  {
   "cell_type": "code",
   "execution_count": null,
   "id": "83ce15b1",
   "metadata": {},
   "outputs": [],
   "source": []
  },
  {
   "cell_type": "markdown",
   "id": "0c90fc87",
   "metadata": {},
   "source": [
    "## Calculate the metrics\n",
    "\n",
    "linR, pearsons R and geodesic dist"
   ]
  },
  {
   "cell_type": "code",
   "execution_count": 201,
   "id": "83010258",
   "metadata": {
    "ExecuteTime": {
     "end_time": "2023-05-10T17:17:58.618927Z",
     "start_time": "2023-05-10T17:17:58.599263Z"
    }
   },
   "outputs": [],
   "source": [
    "def divideFc(fc):\n",
    "    \"\"\"Divide the FC into three blocks and vector them\n",
    "    \"\"\"\n",
    "    size_fc = len(fc)\n",
    "    hs_fc = int(size_fc/2)\n",
    "    fc_block1 = fc[:hs_fc, :hs_fc]\n",
    "    fc_block2 = fc[hs_fc:, hs_fc:];\n",
    "    fc_block3 = fc[:hs_fc, hs_fc:];\n",
    "    vec1 = _minmax_vec(fc_block1[np.triu_indices(hs_fc, k = 1)])\n",
    "    vec2 = _minmax_vec(fc_block2[np.triu_indices(hs_fc, k = 1)])\n",
    "    vec3 = _minmax_vec(fc_block3.flatten())\n",
    "    return vec1, vec2, vec3\n",
    "\n",
    "def cal_metrics(fc1, fc2):\n",
    "    \"\"\"Calculate the distance between fc1 and fc2, including\n",
    "        1. geodesic dist\n",
    "        2. pearson's R\n",
    "        3. lin R\n",
    "        4. pearson's R after divide the FC into three blocks\n",
    "        5. lin R after divide the FC into three blocks\n",
    "    \"\"\"\n",
    "    fc1 = fc1.astype(np.float64)\n",
    "    fc2 = fc2.astype(np.float64)\n",
    "    size_fc = len(fc1)\n",
    "    \n",
    "    # for geodedic\n",
    "    fc1_g = fc1/np.linalg.norm(fc1) + np.eye(size_fc)\n",
    "    fc2_g = fc2/np.linalg.norm(fc2) + np.eye(size_fc)\n",
    "    \n",
    "    fc1_c = _minmax_vec(fc1[np.triu_indices(size_fc, k=1)]).reshape(1, -1)\n",
    "    fc2_c = _minmax_vec(fc2[np.triu_indices(size_fc, k=1)]).reshape(1, -1)\n",
    "    \n",
    "    # all metrics\n",
    "    geo_dist = geodesic_dist(fc1_g, fc2_g)\n",
    "    reg_r = reg_R_fn(fc1_c, fc2_c)\n",
    "    lin_r = lin_R_fn(fc1_c, fc2_c)\n",
    "    \n",
    "    # block wise metrics\n",
    "    blocks1 = divideFc(fc1)\n",
    "    blocks2 = divideFc(fc2)\n",
    "    reg_r_block = [reg_R_fn(vec1.reshape(1, -1), vec2.reshape(1, -1))[0] \n",
    "                   for vec1, vec2 in zip(blocks1, blocks2)]\n",
    "    lin_r_block = [lin_R_fn(vec1.reshape(1, -1), vec2.reshape(1, -1))[0] \n",
    "                   for vec1, vec2 in zip(blocks1, blocks2)]\n",
    "    \n",
    "    res = edict()\n",
    "    res.geo_dist = geo_dist\n",
    "    res.reg_r = reg_r[0]\n",
    "    res.lin_r = lin_r[0]\n",
    "    res.reg_r_block = np.mean(reg_r_block)\n",
    "    res.lin_r_block = np.mean(lin_r_block)\n",
    "    return res\n",
    "\n",
    "def cal_metrics_batch(fc1s, fc2s):\n",
    "    \"\"\"fc1s, fc2s: num_fc x 68 x 68\n",
    "    \"\"\"\n",
    "    ress = ddict(list)\n",
    "    for ix in range(len(fc1s)):\n",
    "        fc_t = fc2s[ix]\n",
    "        fc_e = fc1s[ix]\n",
    "        res = cal_metrics(fc_t, fc_e)\n",
    "        for key, v in res.items():\n",
    "            ress[key].append(v)\n",
    "    \n",
    "    return ress"
   ]
  },
  {
   "cell_type": "code",
   "execution_count": null,
   "id": "b90a7ab4",
   "metadata": {
    "ExecuteTime": {
     "start_time": "2023-05-10T17:18:04.161Z"
    }
   },
   "outputs": [],
   "source": [
    "typ = \"delta\"\n",
    "is_w0 = True\n",
    "true_FC = true_FCs[paras.fc_types.index(typ)];\n",
    "fcs_true = true_FC.transpose(2, 0, 1)\n",
    "\n",
    "\n",
    "fil = list(paras.dirs[typ].glob(\"inf_res_fb.pkl\"))[0]\n",
    "cur_res = load_pkl(fil, verbose=False);\n",
    "fcs_est = np.array(cur_res.est_FCs);\n",
    "\n",
    "if is_w0:\n",
    "    fil = list(paras.dirs[typ+\"w0\"].glob(\"inf_res_fb.pkl\"))[0]\n",
    "    cur_res = load_pkl(fil, verbose=False);\n",
    "    fcs_est_w0 = np.array(cur_res.est_FCs);\n",
    "\n",
    "fil = list(paras.dirs[typ+\"w1\"].glob(\"inf_res_fb.pkl\"))[0]\n",
    "cur_res = load_pkl(fil, verbose=False);\n",
    "fcs_est_w1 = np.array(cur_res.est_FCs);\n",
    "\n",
    "ress = cal_metrics_batch(fcs_true, fcs_est)\n",
    "ress_w0 = cal_metrics_batch(fcs_true, fcs_est_w0)\n",
    "ress_w1 = cal_metrics_batch(fcs_true, fcs_est_w1);\n",
    "\n",
    "\n",
    "data = []\n",
    "key_names = ['geo_dist', 'reg_r', 'reg_r_block', 'lin_r', 'lin_r_block']\n",
    "for key in key_names:\n",
    "    for value in ress[key]:\n",
    "        data.append({'Group': 'No Diagws', 'Key': key, 'Value': value})\n",
    "        \n",
    "if is_w0:\n",
    "    for key in key_names:\n",
    "        for value in ress_w0[key]:\n",
    "            data.append({'Group': 'Diagws0', 'Key': key, 'Value': value})\n",
    "for key in key_names:\n",
    "    for value in ress_w1[key]:\n",
    "        data.append({'Group': 'Diagws1', 'Key': key, 'Value': value})\n",
    "    \n",
    "df = pd.DataFrame(data)\n",
    "\n",
    "plt.figure(figsize=[20, 10])\n",
    "plt.title(f\"{typ}\", fontsize=30)\n",
    "ax = sns.violinplot(x='Key', y='Value', hue='Group', data=df, split=False)\n",
    "plt.xlabel(\"\")\n",
    "plt.ylabel(\"\")\n",
    "\n",
    "keys = df['Key'].unique()\n",
    "for key_idx, key in enumerate(keys):\n",
    "    if key_idx < len(keys) - 1:\n",
    "        ax.axvline(x=key_idx + 0.5, color='grey', linestyle='--')\n",
    "        \n",
    "plt.savefig(FIG_ROOT/f\"{typ}_cmp.jpg\")"
   ]
  },
  {
   "cell_type": "code",
   "execution_count": null,
   "id": "ba23a8a4",
   "metadata": {},
   "outputs": [],
   "source": []
  },
  {
   "cell_type": "code",
   "execution_count": null,
   "id": "8e4e0f3a",
   "metadata": {},
   "outputs": [],
   "source": []
  }
 ],
 "metadata": {
  "kernelspec": {
   "display_name": "Python 3 (ipykernel)",
   "language": "python",
   "name": "python3"
  },
  "language_info": {
   "codemirror_mode": {
    "name": "ipython",
    "version": 3
   },
   "file_extension": ".py",
   "mimetype": "text/x-python",
   "name": "python",
   "nbconvert_exporter": "python",
   "pygments_lexer": "ipython3",
   "version": "3.9.7"
  },
  "toc": {
   "base_numbering": 1,
   "nav_menu": {},
   "number_sections": true,
   "sideBar": true,
   "skip_h1_title": false,
   "title_cell": "Table of Contents",
   "title_sidebar": "Contents",
   "toc_cell": false,
   "toc_position": {},
   "toc_section_display": true,
   "toc_window_display": true
  }
 },
 "nbformat": 4,
 "nbformat_minor": 5
}
