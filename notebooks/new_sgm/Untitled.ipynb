{
 "cells": [
  {
   "cell_type": "code",
   "execution_count": 15,
   "id": "3052bb1d",
   "metadata": {
    "ExecuteTime": {
     "end_time": "2023-09-01T03:35:17.054952Z",
     "start_time": "2023-09-01T03:35:16.969617Z"
    }
   },
   "outputs": [
    {
     "name": "stderr",
     "output_type": "stream",
     "text": [
      "MainProcess root INFO     Loading dataset hcp from /opt/conda/lib/python3.9/site-packages/neurolib/utils/../data/datasets/hcp.\n",
      "MainProcess root INFO     Dataset hcp loaded.\n"
     ]
    }
   ],
   "source": [
    "import matplotlib.pyplot as plt\n",
    "import numpy as np\n",
    "import logging \n",
    "\n",
    "from neurolib.models.wc import WCModel\n",
    "from neurolib.utils.parameterSpace import ParameterSpace\n",
    "from neurolib.optimize.evolution import Evolution\n",
    "import neurolib.utils.functions as func\n",
    "\n",
    "from neurolib.utils.loadData import Dataset\n",
    "ds = Dataset(\"hcp\")\n",
    "\n",
    "# a nice color map\n",
    "plt.rcParams['image.cmap'] = 'plasma'"
   ]
  },
  {
   "cell_type": "code",
   "execution_count": 35,
   "id": "a5ed7d62",
   "metadata": {
    "ExecuteTime": {
     "end_time": "2023-09-01T03:38:23.279746Z",
     "start_time": "2023-09-01T03:38:19.614328Z"
    }
   },
   "outputs": [
    {
     "name": "stderr",
     "output_type": "stream",
     "text": [
      "MainProcess root INFO     wc: Model initialized.\n"
     ]
    }
   ],
   "source": [
    "model2 = WCModel(Cmat = ds.Cmat, Dmat = ds.Dmat)\n",
    "model2.params['exc_ext'] = 0.65\n",
    "\n",
    "model2.params['signalV'] = 0\n",
    "model2.params['duration'] = 20 * 1000 \n",
    "model2.params['sigma_ou'] = 0.14\n",
    "model2.params['K_gl'] = 3.15\n",
    "model2.run()"
   ]
  },
  {
   "cell_type": "code",
   "execution_count": 51,
   "id": "ad7568a0",
   "metadata": {
    "ExecuteTime": {
     "end_time": "2023-09-01T06:05:42.427825Z",
     "start_time": "2023-09-01T06:05:42.419617Z"
    }
   },
   "outputs": [
    {
     "data": {
      "text/plain": [
       "array([[0.        , 0.07906338, 0.20767269, ..., 0.00061314, 0.0362114 ,\n",
       "        0.00127439],\n",
       "       [0.07906338, 0.        , 0.02107246, ..., 0.00191405, 0.00083845,\n",
       "        0.0205666 ],\n",
       "       [0.20767269, 0.02107246, 0.        , ..., 0.00106483, 0.01315564,\n",
       "        0.00241511],\n",
       "       ...,\n",
       "       [0.00061314, 0.00191405, 0.00106483, ..., 0.        , 0.00192148,\n",
       "        0.16260376],\n",
       "       [0.0362114 , 0.00083845, 0.01315564, ..., 0.00192148, 0.        ,\n",
       "        0.00413606],\n",
       "       [0.00127439, 0.0205666 , 0.00241511, ..., 0.16260376, 0.00413606,\n",
       "        0.        ]])"
      ]
     },
     "execution_count": 51,
     "metadata": {},
     "output_type": "execute_result"
    }
   ],
   "source": [
    "ds.Cmat"
   ]
  },
  {
   "cell_type": "code",
   "execution_count": 46,
   "id": "a95cc8b9",
   "metadata": {
    "ExecuteTime": {
     "end_time": "2023-09-01T03:41:53.366052Z",
     "start_time": "2023-09-01T03:41:53.357881Z"
    }
   },
   "outputs": [
    {
     "data": {
      "text/plain": [
       "array([[0.        , 0.07906338, 0.20767269, ..., 0.00061314, 0.0362114 ,\n",
       "        0.00127439],\n",
       "       [0.07906338, 0.        , 0.02107246, ..., 0.00191405, 0.00083845,\n",
       "        0.0205666 ],\n",
       "       [0.20767269, 0.02107246, 0.        , ..., 0.00106483, 0.01315564,\n",
       "        0.00241511],\n",
       "       ...,\n",
       "       [0.00061314, 0.00191405, 0.00106483, ..., 0.        , 0.00192148,\n",
       "        0.16260376],\n",
       "       [0.0362114 , 0.00083845, 0.01315564, ..., 0.00192148, 0.        ,\n",
       "        0.00413606],\n",
       "       [0.00127439, 0.0205666 , 0.00241511, ..., 0.16260376, 0.00413606,\n",
       "        0.        ]])"
      ]
     },
     "execution_count": 46,
     "metadata": {},
     "output_type": "execute_result"
    }
   ],
   "source": [
    "ds.Cmat"
   ]
  },
  {
   "cell_type": "code",
   "execution_count": 36,
   "id": "2b34823c",
   "metadata": {
    "ExecuteTime": {
     "end_time": "2023-09-01T03:38:26.926394Z",
     "start_time": "2023-09-01T03:38:23.281250Z"
    }
   },
   "outputs": [
    {
     "name": "stderr",
     "output_type": "stream",
     "text": [
      "MainProcess root INFO     wc: Model initialized.\n"
     ]
    }
   ],
   "source": [
    "model1 = WCModel(Cmat = ds.Cmat, Dmat = ds.Dmat)\n",
    "model1.params['exc_ext'] = 0.65\n",
    "\n",
    "model1.params['signalV'] = 0\n",
    "model1.params['duration'] = 20 * 1000 \n",
    "model1.params['sigma_ou'] = 0.14\n",
    "model1.params['K_gl'] = 3.15\n",
    "model1.run()"
   ]
  },
  {
   "cell_type": "code",
   "execution_count": 38,
   "id": "eb8260be",
   "metadata": {
    "ExecuteTime": {
     "end_time": "2023-09-01T03:38:47.709887Z",
     "start_time": "2023-09-01T03:38:47.514155Z"
    }
   },
   "outputs": [
    {
     "data": {
      "text/plain": [
       "1.0631516782635237"
      ]
     },
     "execution_count": 38,
     "metadata": {},
     "output_type": "execute_result"
    }
   ],
   "source": [
    "np.linalg.norm(model1.output - model2.output)/np.linalg.norm(model1.output)"
   ]
  },
  {
   "cell_type": "code",
   "execution_count": 39,
   "id": "432cf7f7",
   "metadata": {
    "ExecuteTime": {
     "end_time": "2023-09-01T03:39:58.286459Z",
     "start_time": "2023-09-01T03:39:58.278377Z"
    }
   },
   "outputs": [
    {
     "data": {
      "text/plain": [
       "array([[ 0.04811392,  0.05043035,  0.04776806, ...,  0.5194402 ,\n",
       "         0.51584868,  0.51329819],\n",
       "       [ 0.02191336,  0.02205247,  0.02345833, ...,  0.14544071,\n",
       "         0.13748512,  0.13036306],\n",
       "       [ 0.02176003,  0.02138803,  0.01980068, ...,  0.42253941,\n",
       "         0.44582325,  0.4671384 ],\n",
       "       ...,\n",
       "       [ 0.03635697,  0.03672894,  0.04121749, ..., -0.25157832,\n",
       "        -0.24534249, -0.24010168],\n",
       "       [ 0.05141496,  0.05470537,  0.05680046, ...,  0.59035305,\n",
       "         0.59070791,  0.59341936],\n",
       "       [ 0.03072834,  0.03139116,  0.03353625, ...,  0.07349549,\n",
       "         0.09661181,  0.11964385]])"
      ]
     },
     "execution_count": 39,
     "metadata": {},
     "output_type": "execute_result"
    }
   ],
   "source": [
    "model1.output"
   ]
  },
  {
   "cell_type": "code",
   "execution_count": 40,
   "id": "7c0cac35",
   "metadata": {
    "ExecuteTime": {
     "end_time": "2023-09-01T03:40:11.196473Z",
     "start_time": "2023-09-01T03:40:11.116975Z"
    }
   },
   "outputs": [
    {
     "data": {
      "text/plain": [
       "array([[ 3.58865746e-02,  3.85093179e-02,  3.39798710e-02, ...,\n",
       "         7.10545389e-02,  6.13198296e-02,  5.47937537e-02],\n",
       "       [ 3.31670187e-03,  2.46411527e-03, -3.93106695e-04, ...,\n",
       "        -6.58724412e-03, -1.56411815e-02, -2.40592215e-02],\n",
       "       [-2.77255566e-02, -3.01858061e-02, -3.37135942e-02, ...,\n",
       "         4.79490477e-01,  4.88816420e-01,  4.96526700e-01],\n",
       "       ...,\n",
       "       [ 3.26689653e-02,  3.01506877e-02,  3.32837997e-02, ...,\n",
       "         1.61150034e-02,  2.49750992e-02,  3.05514138e-02],\n",
       "       [ 4.29171531e-02,  4.42897048e-02,  4.21272523e-02, ...,\n",
       "         1.11379080e-01,  9.86027499e-02,  9.42030559e-02],\n",
       "       [-9.75758105e-03, -9.48197510e-03, -9.39125687e-03, ...,\n",
       "         5.53440646e-02,  8.80984448e-02,  1.23306111e-01]])"
      ]
     },
     "execution_count": 40,
     "metadata": {},
     "output_type": "execute_result"
    }
   ],
   "source": [
    "model1.output - model2.output"
   ]
  },
  {
   "cell_type": "code",
   "execution_count": null,
   "id": "cad9d5dd",
   "metadata": {},
   "outputs": [],
   "source": []
  }
 ],
 "metadata": {
  "kernelspec": {
   "display_name": "Python 3 (ipykernel)",
   "language": "python",
   "name": "python3"
  },
  "language_info": {
   "codemirror_mode": {
    "name": "ipython",
    "version": 3
   },
   "file_extension": ".py",
   "mimetype": "text/x-python",
   "name": "python",
   "nbconvert_exporter": "python",
   "pygments_lexer": "ipython3",
   "version": "3.9.7"
  },
  "toc": {
   "base_numbering": 1,
   "nav_menu": {},
   "number_sections": true,
   "sideBar": true,
   "skip_h1_title": false,
   "title_cell": "Table of Contents",
   "title_sidebar": "Contents",
   "toc_cell": false,
   "toc_position": {},
   "toc_section_display": true,
   "toc_window_display": false
  }
 },
 "nbformat": 4,
 "nbformat_minor": 5
}
