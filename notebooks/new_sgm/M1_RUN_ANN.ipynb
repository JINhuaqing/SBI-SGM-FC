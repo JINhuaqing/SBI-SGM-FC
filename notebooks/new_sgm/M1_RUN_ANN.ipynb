{
 "cells": [
  {
   "cell_type": "markdown",
   "id": "089a43ab",
   "metadata": {},
   "source": [
    "## RUN SBI-SGM in alpha, new bounds, new SGM, only three parameters needed\n",
    "\n",
    "parameters order is  :tauG,speed,alpha (In second)\n",
    "\n",
    "Use Annealing\n"
   ]
  },
  {
   "cell_type": "markdown",
   "id": "15b93230",
   "metadata": {},
   "source": [
    "## Import some pkgs"
   ]
  },
  {
   "cell_type": "code",
   "execution_count": 2,
   "id": "a5c4bef0",
   "metadata": {
    "ExecuteTime": {
     "end_time": "2023-10-06T16:48:52.766520Z",
     "start_time": "2023-10-06T16:48:45.312243Z"
    }
   },
   "outputs": [],
   "source": [
    "import sys\n",
    "sys.path.append(\"../../mypkg\")\n",
    "\n",
    "import scipy\n",
    "import itertools\n",
    "\n",
    "import numpy as np\n",
    "import xarray as xr\n",
    "import matplotlib.pyplot as plt\n",
    "import seaborn as sns\n",
    "\n",
    "from tqdm import trange, tqdm\n",
    "from scipy.io import loadmat\n",
    "from functools import partial\n",
    "from easydict import EasyDict as edict\n",
    "from scipy.optimize import dual_annealing"
   ]
  },
  {
   "cell_type": "code",
   "execution_count": 3,
   "id": "513f09d5",
   "metadata": {
    "ExecuteTime": {
     "end_time": "2023-10-06T16:48:55.336792Z",
     "start_time": "2023-10-06T16:48:52.769980Z"
    }
   },
   "outputs": [],
   "source": [
    "# my own fns\n",
    "from brain import Brain\n",
    "from FC_utils import build_fc_freq_m\n",
    "from constants import RES_ROOT, DATA_ROOT\n",
    "from utils.misc import load_pkl, save_pkl\n",
    "from utils.reparam import theta_raw_2out, logistic_np\n",
    "from utils.measures import reg_R_fn, lin_R_fn\n",
    "from joblib import Parallel, delayed"
   ]
  },
  {
   "cell_type": "code",
   "execution_count": 4,
   "id": "a77a7998",
   "metadata": {
    "ExecuteTime": {
     "end_time": "2023-10-06T16:48:55.372229Z",
     "start_time": "2023-10-06T16:48:55.339535Z"
    }
   },
   "outputs": [],
   "source": [
    "# This will reload all imports as soon as the code changes\n",
    "%load_ext autoreload\n",
    "%autoreload 2"
   ]
  },
  {
   "cell_type": "code",
   "execution_count": null,
   "id": "d5b87c78",
   "metadata": {
    "ExecuteTime": {
     "end_time": "2022-11-08T00:03:09.655902Z",
     "start_time": "2022-11-08T00:03:09.466344Z"
    }
   },
   "outputs": [],
   "source": []
  },
  {
   "cell_type": "markdown",
   "id": "820f27bd",
   "metadata": {},
   "source": [
    "## Some fns"
   ]
  },
  {
   "cell_type": "code",
   "execution_count": 5,
   "id": "81762f84",
   "metadata": {
    "ExecuteTime": {
     "end_time": "2023-09-28T02:57:36.378145Z",
     "start_time": "2023-09-28T02:57:36.344499Z"
    }
   },
   "outputs": [],
   "source": [
    "_minmax_vec = lambda x: (x-np.min(x))/(np.max(x)-np.min(x));\n",
    "# transfer vec to a sym mat\n",
    "def vec_2mat(vec):\n",
    "    mat = np.zeros((68, 68))\n",
    "    mat[np.triu_indices(68, k = 1)] = vec\n",
    "    mat = mat + mat.T\n",
    "    return mat"
   ]
  },
  {
   "cell_type": "code",
   "execution_count": null,
   "id": "c2112ea2",
   "metadata": {},
   "outputs": [],
   "source": []
  },
  {
   "cell_type": "markdown",
   "id": "12bd0463",
   "metadata": {},
   "source": [
    "### Some parameters"
   ]
  },
  {
   "cell_type": "code",
   "execution_count": 6,
   "id": "5da1fc37",
   "metadata": {
    "ExecuteTime": {
     "end_time": "2023-09-28T02:57:38.812634Z",
     "start_time": "2023-09-28T02:57:38.394356Z"
    }
   },
   "outputs": [],
   "source": [
    "# SC\n",
    "ind_conn_xr = xr.open_dataarray(DATA_ROOT/'individual_connectomes_reordered.nc')\n",
    "ind_conn = ind_conn_xr.values\n",
    "\n",
    "# PSD\n",
    "ind_psd_xr = xr.open_dataarray(DATA_ROOT/'individual_psd_reordered_matlab.nc')\n",
    "ind_psd = ind_psd_xr.values;"
   ]
  },
  {
   "cell_type": "code",
   "execution_count": 7,
   "id": "c034879f",
   "metadata": {
    "ExecuteTime": {
     "end_time": "2023-09-28T02:57:40.179491Z",
     "start_time": "2023-09-28T02:57:40.146351Z"
    }
   },
   "outputs": [],
   "source": [
    "_paras = edict()\n",
    "_paras.delta = [2, 3.5]\n",
    "_paras.theta = [4, 7]\n",
    "_paras.alpha = [8, 12]\n",
    "_paras.beta_l = [13, 20]"
   ]
  },
  {
   "cell_type": "code",
   "execution_count": 9,
   "id": "74f883ac",
   "metadata": {
    "ExecuteTime": {
     "end_time": "2023-09-28T02:58:04.825581Z",
     "start_time": "2023-09-28T02:58:04.776475Z"
    }
   },
   "outputs": [
    {
     "name": "stdout",
     "output_type": "stream",
     "text": [
      "[ 8.  9. 10. 11. 12.]\n"
     ]
    }
   ],
   "source": [
    "paras = edict()\n",
    "\n",
    "paras.save_prefix = \"rawfc2\"\n",
    "paras.band = \"alpha\" \n",
    "paras.freqrange =  np.linspace(_paras[paras.band][0], _paras[paras.band][1], 5)\n",
    "print(paras.freqrange)\n",
    "#paras.par_low = np.asarray([0.005,0.005,0.005,5, 0.1,0.001,0.001])\n",
    "#paras.par_high = np.asarray([0.03, 0.20, 0.03,20,  1,    2,  0.7])\n",
    "#paras.names = [\"Taue\", \"Taui\", \"TauC\", \"Speed\", \"alpha\", \"gii\", \"gei\"]\n",
    "paras.par_low = np.asarray([0.005, 5, 0.1])\n",
    "paras.par_high = np.asarray([0.03, 20, 1])\n",
    "paras.names = [\"TauC\", \"Speed\", \"alpha\"]\n",
    "paras.prior_bds = np.array([paras.par_low, paras.par_high]).T\n",
    "paras.add_v = 0.01\n",
    "paras.nepoch = 100\n",
    "paras.k = 1\n",
    "\n",
    "paras.bounds = [\n",
    "    (-10, 10), \n",
    "    (-10, 10), \n",
    "    (-10, 10), \n",
    "]"
   ]
  },
  {
   "cell_type": "code",
   "execution_count": 10,
   "id": "1f4c00a6",
   "metadata": {
    "ExecuteTime": {
     "end_time": "2023-09-28T02:58:05.168871Z",
     "start_time": "2023-09-28T02:58:05.135382Z"
    }
   },
   "outputs": [],
   "source": [
    "# fn for reparemetering\n",
    "_map_fn_np = partial(logistic_np, k=paras.k)\n",
    "_theta_raw_2out = partial(theta_raw_2out, map_fn=partial(logistic_np, k=paras.k), prior_bds=paras.prior_bds);"
   ]
  },
  {
   "cell_type": "code",
   "execution_count": null,
   "id": "d66040ab",
   "metadata": {},
   "outputs": [],
   "source": []
  },
  {
   "cell_type": "markdown",
   "id": "cc57cec6",
   "metadata": {},
   "source": [
    "### Load the data"
   ]
  },
  {
   "cell_type": "code",
   "execution_count": 11,
   "id": "ee5a4fc9",
   "metadata": {
    "ExecuteTime": {
     "end_time": "2023-09-28T02:58:07.269617Z",
     "start_time": "2023-09-28T02:58:07.220216Z"
    }
   },
   "outputs": [
    {
     "name": "stdout",
     "output_type": "stream",
     "text": [
      "Add 0.01 on diag\n"
     ]
    }
   ],
   "source": [
    "\n",
    "def _add_v2con(cur_ind_conn):\n",
    "    cur_ind_conn = cur_ind_conn.copy()\n",
    "    add_v = np.quantile(cur_ind_conn, 0.99)*paras.add_v # tuning 0.1\n",
    "    np.fill_diagonal(cur_ind_conn[:34, 34:68], np.diag(cur_ind_conn[:34, 34:68]) + add_v)\n",
    "    np.fill_diagonal(cur_ind_conn[34:68, :34], np.diag(cur_ind_conn[34:68, :34]) + add_v)\n",
    "    np.fill_diagonal(cur_ind_conn[68:77, 77:], np.diag(cur_ind_conn[68:77, 77:]) + add_v)\n",
    "    np.fill_diagonal(cur_ind_conn[77:, 68:77], np.diag(cur_ind_conn[77:, 68:77]) + add_v)\n",
    "    return cur_ind_conn\n",
    "\n",
    "if paras.add_v != 0:\n",
    "    print(f\"Add {paras.add_v} on diag\")\n",
    "    ind_conn_adds = [_add_v2con(ind_conn[:, :, ix]) for ix in range(36)]\n",
    "    ind_conn = np.transpose(np.array(ind_conn_adds), (1, 2, 0))"
   ]
  },
  {
   "cell_type": "code",
   "execution_count": 12,
   "id": "87f1aaad",
   "metadata": {
    "ExecuteTime": {
     "end_time": "2023-09-28T02:58:15.188495Z",
     "start_time": "2023-09-28T02:58:13.613540Z"
    }
   },
   "outputs": [],
   "source": [
    "# em FC\n",
    "fc_root = RES_ROOT/\"emp_fcs2\"\n",
    "def _get_fc(sub_ix, bd):\n",
    "    fil = list(fc_root.rglob(f\"*{paras.band}*{paras.nepoch}/sub{sub_ix}.pkl\"))[0]\n",
    "    return load_pkl(fil, verbose=False)\n",
    "\n",
    "fcs = np.array([_get_fc(sub_ix, paras.band) for sub_ix in range(36)]);"
   ]
  },
  {
   "cell_type": "code",
   "execution_count": null,
   "id": "34f677b5",
   "metadata": {},
   "outputs": [],
   "source": []
  },
  {
   "cell_type": "markdown",
   "id": "4bc952d0",
   "metadata": {},
   "source": [
    "## Annealing"
   ]
  },
  {
   "cell_type": "code",
   "execution_count": 13,
   "id": "7bfac0a3",
   "metadata": {
    "ExecuteTime": {
     "end_time": "2023-09-28T02:58:46.217267Z",
     "start_time": "2023-09-28T02:58:46.126642Z"
    }
   },
   "outputs": [],
   "source": [
    "def simulator(raw_params, brain, prior_bds, freqrange):\n",
    "    params = _map_fn_np(raw_params)*(prior_bds[:, 1]-prior_bds[:, 0]) + prior_bds[:, 0]\n",
    "    \n",
    "    params_dict = dict()\n",
    "    params_dict[\"tauC\"] =  params[0]\n",
    "    params_dict[\"speed\"] =  params[1]\n",
    "    params_dict[\"alpha\"] =  params[2]\n",
    "    modelFC = build_fc_freq_m(brain , params_dict, freqrange)\n",
    "    modelFC_abs = np.abs(modelFC[:68, :68])\n",
    "    res = _minmax_vec(modelFC_abs[np.triu_indices(68, k = 1)])\n",
    "    return res, modelFC"
   ]
  },
  {
   "cell_type": "code",
   "execution_count": 14,
   "id": "844348b2",
   "metadata": {
    "ExecuteTime": {
     "end_time": "2023-09-28T02:58:50.220256Z",
     "start_time": "2023-09-28T02:58:50.185581Z"
    }
   },
   "outputs": [],
   "source": [
    "def _obj_fn(raw_params, empfc, simulator_sp):\n",
    "    empfc = np.abs(empfc)\n",
    "    emp_res = _minmax_vec(empfc[np.triu_indices(68, k = 1)])\n",
    "    simu_res = simulator_sp(raw_params)[0] # it is after minmax\n",
    "    rv = -lin_R_fn(simu_res, emp_res)[0]\n",
    "    return rv"
   ]
  },
  {
   "cell_type": "code",
   "execution_count": 15,
   "id": "3215494c",
   "metadata": {
    "ExecuteTime": {
     "end_time": "2023-09-28T02:58:52.984451Z",
     "start_time": "2023-09-28T02:58:52.267271Z"
    }
   },
   "outputs": [],
   "source": [
    "brains = []\n",
    "for sub_idx in range(36):\n",
    "    brain = Brain.Brain()\n",
    "    brain.add_connectome(DATA_ROOT) # grabs distance matrix\n",
    "    # re-ordering for DK atlas and normalizing the connectomes:\n",
    "    brain.reorder_connectome(brain.connectome, brain.distance_matrix)\n",
    "    brain.connectome =  ind_conn[:, :, sub_idx] # re-assign connectome to individual connectome\n",
    "    brain.bi_symmetric_c()\n",
    "    brain.reduce_extreme_dir()\n",
    "    brains.append(brain)\n",
    "    "
   ]
  },
  {
   "cell_type": "code",
   "execution_count": 16,
   "id": "3680564a",
   "metadata": {
    "ExecuteTime": {
     "end_time": "2023-09-28T02:58:58.614469Z",
     "start_time": "2023-09-28T02:58:58.578748Z"
    }
   },
   "outputs": [],
   "source": [
    "def _run_fn(sub_idx):\n",
    "    # brain\n",
    "    brain = brains[sub_idx]\n",
    "    # empfc\n",
    "    empfc = fcs[sub_idx]\n",
    "    \n",
    "    simulator_sp = partial(simulator, \n",
    "                           brain=brain, \n",
    "                           prior_bds=paras.prior_bds, \n",
    "                           freqrange=paras.freqrange)\n",
    "    res = dual_annealing(_obj_fn, \n",
    "                         x0=np.array([0, 0, 0]),\n",
    "                         bounds=paras.bounds, \n",
    "                         args=(empfc, simulator_sp), \n",
    "                         maxiter=50,\n",
    "                         initial_temp=5230.0,\n",
    "                         seed=24,\n",
    "                         visit=2.62,\n",
    "                         no_local_search=False)\n",
    "    save_res = edict()\n",
    "    save_res.bestfc = simulator_sp(res.x)[1]\n",
    "    save_res.ann_res = res\n",
    "    \n",
    "    save_fil = f\"{paras.save_prefix}_ANN_{paras.band}_ep{paras.nepoch}_\" + \\\n",
    "                   f\"addv{paras.add_v*100:.0f}\" +\\\n",
    "                   f\"/ind{sub_idx}.pkl\"\n",
    "    save_pkl(RES_ROOT/save_fil, save_res)\n",
    "    return save_res"
   ]
  },
  {
   "cell_type": "code",
   "execution_count": 16,
   "id": "b02174c9",
   "metadata": {
    "ExecuteTime": {
     "end_time": "2023-09-26T23:14:34.749829Z",
     "start_time": "2023-09-26T23:11:08.902348Z"
    }
   },
   "outputs": [
    {
     "name": "stderr",
     "output_type": "stream",
     "text": [
      "100%|██████████████████████████████████████████████████████████████████████████████████████████████████████████████████████████████████████████| 36/36 [01:31<00:00,  2.54s/it]\n"
     ]
    }
   ],
   "source": [
    "with Parallel(n_jobs=10) as parallel:\n",
    "     _ = parallel(delayed(_run_fn)(sub_idx)  \n",
    "                  for sub_idx in tqdm(range(36), total=36))"
   ]
  },
  {
   "cell_type": "code",
   "execution_count": null,
   "id": "4c8b15e5",
   "metadata": {},
   "outputs": [],
   "source": []
  },
  {
   "cell_type": "markdown",
   "id": "b65a1fc5",
   "metadata": {},
   "source": [
    "## Analysis"
   ]
  },
  {
   "cell_type": "code",
   "execution_count": 154,
   "id": "0241760f",
   "metadata": {
    "ExecuteTime": {
     "end_time": "2023-10-23T22:02:38.586254Z",
     "start_time": "2023-10-23T22:02:38.540547Z"
    }
   },
   "outputs": [],
   "source": [
    "band = \"alpha\"\n",
    "fils = RES_ROOT/f\"rawfc2newv2_ANN_{band}_ep100_addv1\"\n",
    "fils = list(fils.glob(\"*.pkl\"));\n",
    "sfil1s = sorted(fils, key=lambda fil: int(fil.stem.split(\"ind\")[-1]));\n",
    "\n",
    "fils = RES_ROOT/f\"rawfc2_ANN_{band}_ep100_addv1\"\n",
    "fils = list(fils.glob(\"*.pkl\"));\n",
    "sfil2s = sorted(fils, key=lambda fil: int(fil.stem.split(\"ind\")[-1]));\n",
    "\n"
   ]
  },
  {
   "cell_type": "code",
   "execution_count": 155,
   "id": "991d7975",
   "metadata": {
    "ExecuteTime": {
     "end_time": "2023-10-23T22:02:39.962223Z",
     "start_time": "2023-10-23T22:02:39.029617Z"
    }
   },
   "outputs": [
    {
     "data": {
      "text/plain": [
       "array([0.3257145 , 0.33886619])"
      ]
     },
     "execution_count": 155,
     "metadata": {},
     "output_type": "execute_result"
    }
   ],
   "source": [
    "idx = 20\n",
    "linrs = []\n",
    "for idx in range(36):\n",
    "    res1 =  load_pkl(sfil1s[idx], verbose=False)\n",
    "    res2 =  load_pkl(sfil2s[idx], verbose=False);\n",
    "    linrs.append((-res1.ann_res.fun, -res2.ann_res.fun))\n",
    "linrs = np.array(linrs);\n",
    "linrs.mean(axis=0)"
   ]
  },
  {
   "cell_type": "code",
   "execution_count": 156,
   "id": "bfcf979b",
   "metadata": {
    "ExecuteTime": {
     "end_time": "2023-10-23T22:02:42.257109Z",
     "start_time": "2023-10-23T22:02:42.043323Z"
    }
   },
   "outputs": [],
   "source": [
    "idx = 20\n",
    "linrs = []\n",
    "all_vs1 = []\n",
    "all_vs2 = []\n",
    "for idx in range(36):\n",
    "    res1 =  load_pkl(sfil1s[idx], verbose=False)\n",
    "    res2 =  load_pkl(sfil2s[idx], verbose=False)\n",
    "    #print(res1.ann_res.x, res2.ann_res.x)\n",
    "    all_vs1.append(logistic_np(res1.ann_res.x, k=1))\n",
    "    all_vs2.append(logistic_np(res2.ann_res.x, k=1))\n",
    "all_vs1 = np.array(all_vs1)\n",
    "all_vs2 = np.array(all_vs2);"
   ]
  },
  {
   "cell_type": "code",
   "execution_count": 157,
   "id": "ad3b7e6b",
   "metadata": {
    "ExecuteTime": {
     "end_time": "2023-10-23T22:02:43.441761Z",
     "start_time": "2023-10-23T22:02:43.273089Z"
    }
   },
   "outputs": [
    {
     "data": {
      "text/plain": [
       "<matplotlib.legend.Legend at 0x7f5f8aa5c700>"
      ]
     },
     "execution_count": 157,
     "metadata": {},
     "output_type": "execute_result"
    },
    {
     "data": {
      "image/png": "[encoded data removed]",
      "text/plain": [
       "<Figure size 720x360 with 1 Axes>"
      ]
     },
     "metadata": {
      "needs_background": "light"
     },
     "output_type": "display_data"
    }
   ],
   "source": [
    "idx = 1\n",
    "plt.figure(figsize=[10, 5])\n",
    "plt.plot(all_vs1[:, idx], label=\"Now\")\n",
    "plt.plot(all_vs2[:, idx], label=\"Before\")\n",
    "plt.legend()"
   ]
  },
  {
   "cell_type": "code",
   "execution_count": null,
   "id": "0463e8c3",
   "metadata": {},
   "outputs": [],
   "source": []
  }
 ],
 "metadata": {
  "kernelspec": {
   "display_name": "Python 3 (ipykernel)",
   "language": "python",
   "name": "python3"
  },
  "language_info": {
   "codemirror_mode": {
    "name": "ipython",
    "version": 3
   },
   "file_extension": ".py",
   "mimetype": "text/x-python",
   "name": "python",
   "nbconvert_exporter": "python",
   "pygments_lexer": "ipython3",
   "version": "3.9.7"
  },
  "toc": {
   "base_numbering": 1,
   "nav_menu": {},
   "number_sections": true,
   "sideBar": true,
   "skip_h1_title": false,
   "title_cell": "Table of Contents",
   "title_sidebar": "Contents",
   "toc_cell": false,
   "toc_position": {
    "height": "calc(100% - 180px)",
    "left": "10px",
    "top": "150px",
    "width": "204.594px"
   },
   "toc_section_display": true,
   "toc_window_display": true
  }
 },
 "nbformat": 4,
 "nbformat_minor": 5
}
