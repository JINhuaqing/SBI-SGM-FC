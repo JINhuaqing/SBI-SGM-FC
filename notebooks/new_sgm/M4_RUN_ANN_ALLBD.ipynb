{
 "cells": [
  {
   "cell_type": "markdown",
   "id": "089a43ab",
   "metadata": {},
   "source": [
    "RUN SBI-SGM in alpha, new bounds, new SGM, only three parameters needed\n",
    "\n",
    "parameters order is  :tauG,speed,alpha (In second)\n",
    "\n",
    "Use Annealing\n"
   ]
  },
  {
   "cell_type": "markdown",
   "id": "15b93230",
   "metadata": {},
   "source": [
    "## Import some pkgs"
   ]
  },
  {
   "cell_type": "code",
   "execution_count": 1,
   "id": "a5c4bef0",
   "metadata": {
    "ExecuteTime": {
     "end_time": "2023-10-06T17:14:42.939284Z",
     "start_time": "2023-10-06T17:14:41.446711Z"
    }
   },
   "outputs": [],
   "source": [
    "import sys\n",
    "sys.path.append(\"../../mypkg\")\n",
    "\n",
    "import scipy\n",
    "import itertools\n",
    "\n",
    "import numpy as np\n",
    "import xarray as xr\n",
    "import matplotlib.pyplot as plt\n",
    "import seaborn as sns\n",
    "\n",
    "from tqdm import trange, tqdm\n",
    "from scipy.io import loadmat\n",
    "from functools import partial\n",
    "from easydict import EasyDict as edict\n",
    "from scipy.optimize import dual_annealing"
   ]
  },
  {
   "cell_type": "code",
   "execution_count": 2,
   "id": "513f09d5",
   "metadata": {
    "ExecuteTime": {
     "end_time": "2023-10-06T17:14:43.589978Z",
     "start_time": "2023-10-06T17:14:42.942294Z"
    }
   },
   "outputs": [],
   "source": [
    "# my own fns\n",
    "from brain import Brain\n",
    "from FC_utils import build_fc_freq_m\n",
    "from constants import RES_ROOT, DATA_ROOT\n",
    "from utils.misc import load_pkl, save_pkl\n",
    "from utils.reparam import theta_raw_2out, logistic_np\n",
    "from utils.measures import reg_R_fn, lin_R_fn\n",
    "from joblib import Parallel, delayed"
   ]
  },
  {
   "cell_type": "code",
   "execution_count": 3,
   "id": "a77a7998",
   "metadata": {
    "ExecuteTime": {
     "end_time": "2023-10-06T17:14:43.609464Z",
     "start_time": "2023-10-06T17:14:43.591145Z"
    }
   },
   "outputs": [],
   "source": [
    "# This will reload all imports as soon as the code changes\n",
    "%load_ext autoreload\n",
    "%autoreload 2"
   ]
  },
  {
   "cell_type": "code",
   "execution_count": null,
   "id": "d5b87c78",
   "metadata": {
    "ExecuteTime": {
     "end_time": "2022-11-08T00:03:09.655902Z",
     "start_time": "2022-11-08T00:03:09.466344Z"
    }
   },
   "outputs": [],
   "source": []
  },
  {
   "cell_type": "markdown",
   "id": "820f27bd",
   "metadata": {},
   "source": [
    "## Some fns"
   ]
  },
  {
   "cell_type": "code",
   "execution_count": 4,
   "id": "81762f84",
   "metadata": {
    "ExecuteTime": {
     "end_time": "2023-10-06T17:14:43.627864Z",
     "start_time": "2023-10-06T17:14:43.612480Z"
    }
   },
   "outputs": [],
   "source": [
    "_minmax_vec = lambda x: (x-np.min(x))/(np.max(x)-np.min(x));\n",
    "# transfer vec to a sym mat\n",
    "def vec_2mat(vec):\n",
    "    mat = np.zeros((68, 68))\n",
    "    mat[np.triu_indices(68, k = 1)] = vec\n",
    "    mat = mat + mat.T\n",
    "    return mat"
   ]
  },
  {
   "cell_type": "code",
   "execution_count": null,
   "id": "c2112ea2",
   "metadata": {},
   "outputs": [],
   "source": []
  },
  {
   "cell_type": "markdown",
   "id": "12bd0463",
   "metadata": {},
   "source": [
    "### Some parameters"
   ]
  },
  {
   "cell_type": "code",
   "execution_count": 5,
   "id": "5da1fc37",
   "metadata": {
    "ExecuteTime": {
     "end_time": "2023-10-06T17:14:43.894983Z",
     "start_time": "2023-10-06T17:14:43.629030Z"
    }
   },
   "outputs": [],
   "source": [
    "# SC\n",
    "ind_conn_xr = xr.open_dataarray(DATA_ROOT/'individual_connectomes_reordered.nc')\n",
    "ind_conn = ind_conn_xr.values\n",
    "\n",
    "# PSD\n",
    "ind_psd_xr = xr.open_dataarray(DATA_ROOT/'individual_psd_reordered_matlab.nc')\n",
    "ind_psd = ind_psd_xr.values;"
   ]
  },
  {
   "cell_type": "code",
   "execution_count": 6,
   "id": "c034879f",
   "metadata": {
    "ExecuteTime": {
     "end_time": "2023-10-06T17:14:43.929830Z",
     "start_time": "2023-10-06T17:14:43.898713Z"
    }
   },
   "outputs": [],
   "source": [
    "_paras = edict()\n",
    "_paras.delta = [2, 3.5]\n",
    "_paras.theta = [4, 7]\n",
    "_paras.alpha = [8, 12]\n",
    "_paras.beta_l = [13, 20]"
   ]
  },
  {
   "cell_type": "code",
   "execution_count": 48,
   "id": "74f883ac",
   "metadata": {
    "ExecuteTime": {
     "end_time": "2023-10-06T17:31:14.987553Z",
     "start_time": "2023-10-06T17:31:14.945603Z"
    }
   },
   "outputs": [
    {
     "name": "stdout",
     "output_type": "stream",
     "text": [
      "[array([2.   , 2.375, 2.75 , 3.125, 3.5  ]), array([4.  , 4.75, 5.5 , 6.25, 7.  ]), array([ 8.,  9., 10., 11., 12.]), array([13.  , 14.75, 16.5 , 18.25, 20.  ])]\n"
     ]
    }
   ],
   "source": [
    "paras = edict()\n",
    "\n",
    "paras.save_prefix = \"rawfc2allbd\"\n",
    "paras.bands = [\"delta\", \"theta\", \"alpha\", \"beta_l\"]\n",
    "paras.freqranges =  [np.linspace(_paras[band ][0], _paras[band][1], 5) \n",
    "                     for band in paras.bands]\n",
    "print(paras.freqranges)\n",
    "#paras.par_low = np.asarray([0.005,0.005,0.005,5, 0.1,0.001,0.001])\n",
    "#paras.par_high = np.asarray([0.03, 0.20, 0.03,20,  1,    2,  0.7])\n",
    "#paras.names = [\"Taue\", \"Taui\", \"TauC\", \"Speed\", \"alpha\", \"gii\", \"gei\"]\n",
    "paras.par_low = np.asarray([0.005, 5, 0.1])\n",
    "paras.par_high = np.asarray([0.03, 20, 1])\n",
    "paras.names = [\"TauC\", \"Speed\", \"alpha\"]\n",
    "paras.prior_bds = np.array([paras.par_low, paras.par_high]).T\n",
    "paras.add_v = 0.01\n",
    "paras.nepoch = 100\n",
    "paras.k = 1\n",
    "if len(paras.bands) == 4:\n",
    "    paras.ws = [1, 1, 3, 3]\n",
    "elif len(paras.bands) == 3:\n",
    "    paras.ws = [1, 1, 3]\n",
    "\n",
    "paras.bounds = [\n",
    "    (-10, 10), \n",
    "    (-10, 10), \n",
    "    (-10, 10), \n",
    "]"
   ]
  },
  {
   "cell_type": "code",
   "execution_count": 49,
   "id": "1f4c00a6",
   "metadata": {
    "ExecuteTime": {
     "end_time": "2023-10-06T17:31:16.389522Z",
     "start_time": "2023-10-06T17:31:16.356287Z"
    }
   },
   "outputs": [],
   "source": [
    "# fn for reparemetering\n",
    "_map_fn_np = partial(logistic_np, k=paras.k)\n",
    "_theta_raw_2out = partial(theta_raw_2out, map_fn=partial(logistic_np, k=paras.k), prior_bds=paras.prior_bds);"
   ]
  },
  {
   "cell_type": "code",
   "execution_count": null,
   "id": "d66040ab",
   "metadata": {},
   "outputs": [],
   "source": []
  },
  {
   "cell_type": "markdown",
   "id": "cc57cec6",
   "metadata": {},
   "source": [
    "### Load the data"
   ]
  },
  {
   "cell_type": "code",
   "execution_count": 30,
   "id": "ee5a4fc9",
   "metadata": {
    "ExecuteTime": {
     "end_time": "2023-10-06T17:21:06.200686Z",
     "start_time": "2023-10-06T17:21:06.154319Z"
    }
   },
   "outputs": [
    {
     "name": "stdout",
     "output_type": "stream",
     "text": [
      "Add 0.01 on diag\n"
     ]
    }
   ],
   "source": [
    "\n",
    "def _add_v2con(cur_ind_conn):\n",
    "    cur_ind_conn = cur_ind_conn.copy()\n",
    "    add_v = np.quantile(cur_ind_conn, 0.99)*paras.add_v # tuning 0.1\n",
    "    np.fill_diagonal(cur_ind_conn[:34, 34:68], np.diag(cur_ind_conn[:34, 34:68]) + add_v)\n",
    "    np.fill_diagonal(cur_ind_conn[34:68, :34], np.diag(cur_ind_conn[34:68, :34]) + add_v)\n",
    "    np.fill_diagonal(cur_ind_conn[68:77, 77:], np.diag(cur_ind_conn[68:77, 77:]) + add_v)\n",
    "    np.fill_diagonal(cur_ind_conn[77:, 68:77], np.diag(cur_ind_conn[77:, 68:77]) + add_v)\n",
    "    return cur_ind_conn\n",
    "\n",
    "if paras.add_v != 0:\n",
    "    print(f\"Add {paras.add_v} on diag\")\n",
    "    ind_conn_adds = [_add_v2con(ind_conn[:, :, ix]) for ix in range(36)]\n",
    "    ind_conn = np.transpose(np.array(ind_conn_adds), (1, 2, 0))"
   ]
  },
  {
   "cell_type": "code",
   "execution_count": 31,
   "id": "87f1aaad",
   "metadata": {
    "ExecuteTime": {
     "end_time": "2023-10-06T17:21:11.149477Z",
     "start_time": "2023-10-06T17:21:06.577528Z"
    }
   },
   "outputs": [],
   "source": [
    "# em FC\n",
    "fc_root = RES_ROOT/\"emp_fcs2\"\n",
    "fcss = []\n",
    "for band in paras.bands:\n",
    "    def _get_fc(sub_ix, bd):\n",
    "        fil = list(fc_root.rglob(f\"*{bd}*{paras.nepoch}/sub{sub_ix}.pkl\"))[0]\n",
    "        return load_pkl(fil, verbose=False)\n",
    "    \n",
    "    fcs = np.array([_get_fc(sub_ix, band) for sub_ix in range(36)]);\n",
    "    fcss.append(fcs)"
   ]
  },
  {
   "cell_type": "code",
   "execution_count": null,
   "id": "34f677b5",
   "metadata": {},
   "outputs": [],
   "source": []
  },
  {
   "cell_type": "markdown",
   "id": "4bc952d0",
   "metadata": {},
   "source": [
    "## Annealing"
   ]
  },
  {
   "cell_type": "code",
   "execution_count": 32,
   "id": "7bfac0a3",
   "metadata": {
    "ExecuteTime": {
     "end_time": "2023-10-06T17:21:11.188589Z",
     "start_time": "2023-10-06T17:21:11.152936Z"
    }
   },
   "outputs": [],
   "source": [
    "def simulator(raw_params, brain, prior_bds, freqranges):\n",
    "    params = _map_fn_np(raw_params)*(prior_bds[:, 1]-prior_bds[:, 0]) + prior_bds[:, 0]\n",
    "    \n",
    "    params_dict = dict()\n",
    "    params_dict[\"tauC\"] =  params[0]\n",
    "    params_dict[\"speed\"] =  params[1]\n",
    "    params_dict[\"alpha\"] =  params[2]\n",
    "    \n",
    "    ress = []\n",
    "    modelFCs = []\n",
    "    for freqrange in freqranges:\n",
    "        modelFC = build_fc_freq_m(brain, params_dict, freqrange)\n",
    "        modelFC_abs = np.abs(modelFC[:68, :68])\n",
    "        res = _minmax_vec(modelFC_abs[np.triu_indices(68, k = 1)])\n",
    "        ress.append(res)\n",
    "        modelFCs.append(modelFC)\n",
    "    return ress, modelFCs"
   ]
  },
  {
   "cell_type": "code",
   "execution_count": 50,
   "id": "844348b2",
   "metadata": {
    "ExecuteTime": {
     "end_time": "2023-10-06T17:31:21.571027Z",
     "start_time": "2023-10-06T17:31:21.534234Z"
    }
   },
   "outputs": [],
   "source": [
    "def _obj_fn(raw_params, empfcs, simulator_sp, ws):\n",
    "    emp_ress = []\n",
    "    for empfc in empfcs:\n",
    "        empfc = np.abs(empfc)\n",
    "        emp_res = _minmax_vec(empfc[np.triu_indices(68, k = 1)])\n",
    "        emp_ress.append(emp_res)\n",
    "    simu_ress = simulator_sp(raw_params)[0] # it is after minmax\n",
    "    rvs = [-lin_R_fn(simu_res, emp_res)[0] \n",
    "          for simu_res, emp_res in zip(simu_ress, emp_ress)]\n",
    "    #print(np.round(rvs, 3), np.round(np.average(rvs, weights=ws), 3), np.round(raw_params, 3))\n",
    "    return np.average(rvs, weights=ws)"
   ]
  },
  {
   "cell_type": "code",
   "execution_count": 51,
   "id": "3215494c",
   "metadata": {
    "ExecuteTime": {
     "end_time": "2023-10-06T17:31:22.646588Z",
     "start_time": "2023-10-06T17:31:21.951851Z"
    }
   },
   "outputs": [],
   "source": [
    "brains = []\n",
    "for sub_idx in range(36):\n",
    "    brain = Brain.Brain()\n",
    "    brain.add_connectome(DATA_ROOT) # grabs distance matrix\n",
    "    # re-ordering for DK atlas and normalizing the connectomes:\n",
    "    brain.reorder_connectome(brain.connectome, brain.distance_matrix)\n",
    "    brain.connectome =  ind_conn[:, :, sub_idx] # re-assign connectome to individual connectome\n",
    "    brain.bi_symmetric_c()\n",
    "    brain.reduce_extreme_dir()\n",
    "    brains.append(brain)\n",
    "    "
   ]
  },
  {
   "cell_type": "code",
   "execution_count": 52,
   "id": "3680564a",
   "metadata": {
    "ExecuteTime": {
     "end_time": "2023-10-06T17:31:23.502272Z",
     "start_time": "2023-10-06T17:31:23.465963Z"
    }
   },
   "outputs": [],
   "source": [
    "def _run_fn(sub_idx):\n",
    "    # brain\n",
    "    brain = brains[sub_idx]\n",
    "    # empfc\n",
    "    empfcs = [fcs[sub_idx] for fcs in fcss]\n",
    "    \n",
    "    simulator_sp = partial(simulator, \n",
    "                           brain=brain, \n",
    "                           prior_bds=paras.prior_bds, \n",
    "                           freqranges=paras.freqranges)\n",
    "    res = dual_annealing(_obj_fn, \n",
    "                         x0=np.array([0, 0, 0]),\n",
    "                         bounds=paras.bounds, \n",
    "                         args=(empfcs, simulator_sp, paras.ws), \n",
    "                         maxiter=50,\n",
    "                         initial_temp=5230.0,\n",
    "                         seed=24,\n",
    "                         visit=2.62,\n",
    "                         no_local_search=False)\n",
    "    save_res = edict()\n",
    "    save_res.bestfc = simulator_sp(res.x)[1]\n",
    "    save_res.ann_res = res\n",
    "    \n",
    "    save_fil = f\"{paras.save_prefix}_ANN_{'-'.join(paras.bands)}_ep{paras.nepoch}_\" + \\\n",
    "                   f\"addv{paras.add_v*100:.0f}\" +\\\n",
    "                   f\"/ind{sub_idx}.pkl\"\n",
    "    save_pkl(RES_ROOT/save_fil, save_res)\n",
    "    return save_res"
   ]
  },
  {
   "cell_type": "code",
   "execution_count": 16,
   "id": "b02174c9",
   "metadata": {
    "ExecuteTime": {
     "end_time": "2023-09-26T23:14:34.749829Z",
     "start_time": "2023-09-26T23:11:08.902348Z"
    }
   },
   "outputs": [
    {
     "name": "stderr",
     "output_type": "stream",
     "text": [
      "100%|██████████████████████████████████████████████████████████████████████████████████████████████████████████████████████████████████████████| 36/36 [01:31<00:00,  2.54s/it]\n"
     ]
    }
   ],
   "source": [
    "with Parallel(n_jobs=10) as parallel:\n",
    "     _ = parallel(delayed(_run_fn)(sub_idx)  \n",
    "                  for sub_idx in tqdm(range(36), total=36))"
   ]
  },
  {
   "cell_type": "code",
   "execution_count": null,
   "id": "4c8b15e5",
   "metadata": {},
   "outputs": [],
   "source": []
  },
  {
   "cell_type": "markdown",
   "id": "b65a1fc5",
   "metadata": {},
   "source": [
    "## Analysis"
   ]
  },
  {
   "cell_type": "code",
   "execution_count": 8,
   "id": "0241760f",
   "metadata": {
    "ExecuteTime": {
     "end_time": "2023-10-06T16:49:49.963384Z",
     "start_time": "2023-10-06T16:49:49.918254Z"
    }
   },
   "outputs": [],
   "source": [
    "fils = RES_ROOT/\"rawfc2better_ANN_beta_l_ep100_addv1\"\n",
    "fils = list(fils.glob(\"*.pkl\"));\n",
    "sfil1s = sorted(fils, key=lambda fil: int(fil.stem.split(\"ind\")[-1]));\n",
    "\n",
    "fils = RES_ROOT/\"rawfc2_ANN_beta_l_ep100_addv1\"\n",
    "fils = list(fils.glob(\"*.pkl\"));\n",
    "sfil2s = sorted(fils, key=lambda fil: int(fil.stem.split(\"ind\")[-1]));\n",
    "\n"
   ]
  },
  {
   "cell_type": "code",
   "execution_count": 16,
   "id": "991d7975",
   "metadata": {
    "ExecuteTime": {
     "end_time": "2023-10-06T16:52:30.141263Z",
     "start_time": "2023-10-06T16:52:29.923588Z"
    }
   },
   "outputs": [],
   "source": [
    "idx = 20\n",
    "linrs = []\n",
    "for idx in range(36):\n",
    "    res1 =  load_pkl(sfil1s[idx], verbose=False)\n",
    "    res2 =  load_pkl(sfil2s[idx], verbose=False);\n",
    "    linrs.append((-res1.ann_res.fun, -res2.ann_res.fun))\n",
    "linrs = np.array(linrs);"
   ]
  },
  {
   "cell_type": "code",
   "execution_count": 20,
   "id": "d2527f95",
   "metadata": {
    "ExecuteTime": {
     "end_time": "2023-10-06T16:53:47.964211Z",
     "start_time": "2023-10-06T16:53:47.840342Z"
    }
   },
   "outputs": [
    {
     "data": {
      "text/plain": [
       "array([0.28458885, 0.28122965])"
      ]
     },
     "execution_count": 20,
     "metadata": {},
     "output_type": "execute_result"
    }
   ],
   "source": [
    "np.mean(linrs, axis=0)"
   ]
  },
  {
   "cell_type": "code",
   "execution_count": 19,
   "id": "2bdc5622",
   "metadata": {
    "ExecuteTime": {
     "end_time": "2023-10-06T16:52:45.790845Z",
     "start_time": "2023-10-06T16:52:45.745342Z"
    }
   },
   "outputs": [
    {
     "data": {
      "text/plain": [
       "array([4.81541502e-04, 9.29100823e-03, 9.52677490e-03, 1.11950998e-02,\n",
       "       3.31626682e-09, 6.54732630e-03, 4.83566826e-07, 1.28498606e-04,\n",
       "       4.27818316e-05, 1.07169942e-02, 2.41764132e-03, 3.00641880e-03,\n",
       "       1.17368652e-03, 1.07965533e-03, 2.10426295e-06, 4.58051279e-04,\n",
       "       9.35325867e-03, 1.19900816e-02, 1.52514668e-11, 2.67889742e-03,\n",
       "       2.72375789e-10, 8.81240300e-03, 1.70949050e-03, 2.93344346e-04,\n",
       "       1.06947039e-03, 1.60693871e-02, 1.59461678e-04, 3.46851956e-03,\n",
       "       1.83769666e-12, 2.21051696e-03, 7.25697280e-13, 7.88754975e-04,\n",
       "       5.70703572e-04, 1.05350492e-03, 4.63690804e-04, 4.17161735e-03])"
      ]
     },
     "execution_count": 19,
     "metadata": {},
     "output_type": "execute_result"
    }
   ],
   "source": [
    "linrs[:, 0] -linrs[:, 1]"
   ]
  },
  {
   "cell_type": "code",
   "execution_count": 13,
   "id": "bfcf979b",
   "metadata": {
    "ExecuteTime": {
     "end_time": "2023-10-06T16:50:50.756902Z",
     "start_time": "2023-10-06T16:50:50.472793Z"
    }
   },
   "outputs": [
    {
     "name": "stdout",
     "output_type": "stream",
     "text": [
      "[-1.93473651 10.         10.        ] [-2.23306285  9.24276658  9.58940198]\n",
      "[ -2.34828965 -10.          10.        ] [-5.57293058  7.69827056  9.42431964]\n",
      "[-2.74260654 -2.62696432  8.253112  ] [-2.34812002 -4.570815    9.58859986]\n",
      "[ -2.75931501 -10.          10.        ] [-2.49017441 -3.71488466  6.99461646]\n",
      "[-2.64052059  1.42006395 10.        ] [-2.64054525  1.42008797 10.        ]\n",
      "[-1.75598435  9.93159113  8.23457842] [-2.07492953 10.          9.80697029]\n",
      "[-2.56493708  1.724169    8.38750838] [-2.56493861  1.7243099   8.3367419 ]\n",
      "[-2.75898618 -5.80772138 10.        ] [-2.76403185 -9.76794385  8.99754017]\n",
      "[ -2.64199249 -10.           9.81502464] [-2.64213096 -9.54975351  8.16047663]\n",
      "[-1.34486613 -8.94595038 10.        ] [ -2.41317651 -10.          10.        ]\n",
      "[-2.6285095   7.07580324  7.42221084] [-1.82725621  3.28762453  5.83633556]\n",
      "[-1.79182636  7.08316503  7.55898495] [-2.63686262  9.57773702  9.33706541]\n",
      "[-2.01330474 -1.29669707  5.3410503 ] [-1.59214884 -1.88074847  3.88800751]\n",
      "[-1.56367659  9.97643846  9.11633191] [-1.51177509  8.02378923  7.29623858]\n",
      "[-1.89672833 10.         10.        ] [-1.89673191  8.64828753  9.99999693]\n",
      "[-2.64569873 10.         10.        ] [-2.22125512 10.          9.53132242]\n",
      "[-1.2787319   8.95677239  9.48204436] [ -2.74994584 -10.           9.67874484]\n",
      "[-1.28493332 -0.59531218  9.7226498 ] [-2.29723745  0.49295021 10.        ]\n",
      "[ -2.40842092 -10.          10.        ] [ -2.40841479 -10.          10.        ]\n",
      "[-1.6430992   0.62867961  7.71390186] [-2.08338527  1.3880767  10.        ]\n",
      "[-2.65172373 -2.02142382 10.        ] [-2.65172475 -2.02127573 10.        ]\n",
      "[-2.75813884 -9.95978299  9.9410811 ] [ -2.48466355 -10.          10.        ]\n",
      "[-2.26342043  9.93451332 10.        ] [-2.6319646 10.        10.       ]\n",
      "[-1.93138896 -2.05916314  8.94011627] [-2.64166859 -1.48296233 10.        ]\n",
      "[ -2.68171613 -10.          10.        ] [-2.91367125  8.02338969  6.73918205]\n",
      "[-1.62066213  9.89384086 10.        ] [ -2.7617997 -10.         10.       ]\n",
      "[-2.80570647 -9.72571264  9.7468632 ] [-2.8044692  -7.95216369  6.70351006]\n",
      "[-2.75359974 -5.87207241 10.        ] [-2.34978107 -7.3641259  10.        ]\n",
      "[ -2.67100632 -10.          10.        ] [ -2.67100497 -10.          10.        ]\n",
      "[-1.25128685 -9.2328074   9.1010269 ] [-1.22970797 -4.13608187  6.00534438]\n",
      "[-2.97234517 10.         10.        ] [-2.97234371 10.         10.        ]\n",
      "[-1.69794289 -0.41854125  9.3548926 ] [-2.39958851  0.42253395 10.        ]\n",
      "[ -2.34716815 -10.          10.        ] [ -2.01492654 -10.          10.        ]\n",
      "[-1.98203115  9.30332592 10.        ] [-1.65610535  6.68283049  9.70619305]\n",
      "[-2.72303361 -3.29106626  9.93247582] [-2.37785559 -3.93462667 10.        ]\n",
      "[-2.90345479  1.43232657  9.49098705] [-1.81016479  2.49522311  3.88395512]\n"
     ]
    }
   ],
   "source": [
    "idx = 20\n",
    "linrs = []\n",
    "for idx in range(36):\n",
    "    res1 =  load_pkl(sfil1s[idx], verbose=False)\n",
    "    res2 =  load_pkl(sfil2s[idx], verbose=False)\n",
    "    print(res1.ann_res.x, res2.ann_res.x)\n"
   ]
  },
  {
   "cell_type": "code",
   "execution_count": 104,
   "id": "ad3b7e6b",
   "metadata": {
    "ExecuteTime": {
     "end_time": "2023-09-28T02:36:51.636658Z",
     "start_time": "2023-09-28T02:36:51.601844Z"
    }
   },
   "outputs": [
    {
     "data": {
      "text/plain": [
       "0.031000040310538934"
      ]
     },
     "execution_count": 104,
     "metadata": {},
     "output_type": "execute_result"
    }
   ],
   "source": [
    "linrs"
   ]
  },
  {
   "cell_type": "code",
   "execution_count": null,
   "id": "0463e8c3",
   "metadata": {},
   "outputs": [],
   "source": []
  }
 ],
 "metadata": {
  "kernelspec": {
   "display_name": "Python 3 (ipykernel)",
   "language": "python",
   "name": "python3"
  },
  "language_info": {
   "codemirror_mode": {
    "name": "ipython",
    "version": 3
   },
   "file_extension": ".py",
   "mimetype": "text/x-python",
   "name": "python",
   "nbconvert_exporter": "python",
   "pygments_lexer": "ipython3",
   "version": "3.9.7"
  },
  "toc": {
   "base_numbering": 1,
   "nav_menu": {},
   "number_sections": true,
   "sideBar": true,
   "skip_h1_title": false,
   "title_cell": "Table of Contents",
   "title_sidebar": "Contents",
   "toc_cell": false,
   "toc_position": {
    "height": "calc(100% - 180px)",
    "left": "10px",
    "top": "150px",
    "width": "165px"
   },
   "toc_section_display": true,
   "toc_window_display": false
  }
 },
 "nbformat": 4,
 "nbformat_minor": 5
}
