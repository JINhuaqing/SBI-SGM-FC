{
 "cells": [
  {
   "cell_type": "markdown",
   "id": "0bc457b2",
   "metadata": {},
   "source": [
    "This file is to save the result for Farras"
   ]
  },
  {
   "cell_type": "code",
   "execution_count": null,
   "id": "eceb0190",
   "metadata": {},
   "outputs": [],
   "source": []
  },
  {
   "cell_type": "markdown",
   "id": "15b93230",
   "metadata": {},
   "source": [
    "## Import some pkgs"
   ]
  },
  {
   "cell_type": "code",
   "execution_count": 1,
   "id": "a5c4bef0",
   "metadata": {
    "ExecuteTime": {
     "end_time": "2023-02-12T04:46:34.062374Z",
     "start_time": "2023-02-12T04:46:32.613742Z"
    }
   },
   "outputs": [],
   "source": [
    "import sys\n",
    "sys.path.append(\"../../mypkg\")\n",
    "\n",
    "import scipy\n",
    "import itertools\n",
    "\n",
    "import numpy as np\n",
    "import xarray as xr\n",
    "import matplotlib.pyplot as plt\n",
    "import seaborn as sns\n",
    "\n",
    "from tqdm import trange\n",
    "from scipy.io import loadmat\n",
    "from functools import partial\n",
    "from easydict import EasyDict as edict\n",
    "\n",
    "#plt.style.use('ggplot')\n",
    "plt.rcParams[\"savefig.bbox\"] = \"tight\""
   ]
  },
  {
   "cell_type": "code",
   "execution_count": 2,
   "id": "129d24a5",
   "metadata": {
    "ExecuteTime": {
     "end_time": "2023-02-12T04:46:39.285846Z",
     "start_time": "2023-02-12T04:46:35.108356Z"
    }
   },
   "outputs": [],
   "source": [
    "# SBI and torch\n",
    "from sbi.inference.base import infer\n",
    "from sbi.inference import SNPE, prepare_for_sbi, simulate_for_sbi\n",
    "from sbi import analysis\n",
    "from sbi.utils.get_nn_models import posterior_nn\n",
    "from sbi import utils as sutils\n",
    "\n",
    "import torch.nn as nn\n",
    "import torch.nn.functional as F\n",
    "import torch\n",
    "from torch.distributions.multivariate_normal import MultivariateNormal"
   ]
  },
  {
   "cell_type": "code",
   "execution_count": 3,
   "id": "513f09d5",
   "metadata": {
    "ExecuteTime": {
     "end_time": "2023-02-12T04:46:40.386063Z",
     "start_time": "2023-02-12T04:46:39.965364Z"
    }
   },
   "outputs": [],
   "source": [
    "# my own fns\n",
    "from brain import Brain\n",
    "from FC_utils import build_fc_freq_m\n",
    "from constants import RES_ROOT, DATA_ROOT\n",
    "from utils.misc import load_pkl, save_pkl\n",
    "from utils.reparam import theta_raw_2out, logistic_np, logistic_torch\n",
    "from utils.stable import paras_table_check"
   ]
  },
  {
   "cell_type": "code",
   "execution_count": null,
   "id": "d5b87c78",
   "metadata": {
    "ExecuteTime": {
     "end_time": "2022-11-08T00:03:09.655902Z",
     "start_time": "2022-11-08T00:03:09.466344Z"
    }
   },
   "outputs": [],
   "source": []
  },
  {
   "cell_type": "markdown",
   "id": "820f27bd",
   "metadata": {},
   "source": [
    "## Some fns"
   ]
  },
  {
   "cell_type": "code",
   "execution_count": 4,
   "id": "81762f84",
   "metadata": {
    "ExecuteTime": {
     "end_time": "2023-02-12T04:46:41.526564Z",
     "start_time": "2023-02-12T04:46:41.521008Z"
    }
   },
   "outputs": [],
   "source": [
    "_minmax_vec = lambda x: (x-np.min(x))/(np.max(x)-np.min(x))"
   ]
  },
  {
   "cell_type": "code",
   "execution_count": 5,
   "id": "966b1317",
   "metadata": {
    "ExecuteTime": {
     "end_time": "2023-02-12T04:46:43.145281Z",
     "start_time": "2023-02-12T04:46:43.133404Z"
    }
   },
   "outputs": [],
   "source": [
    "def _simulate_data_mulbands(raw_params, brain, prior_bds, freqranges):\n",
    "    params = []\n",
    "    for raw_param, prior_bd in zip(raw_params, prior_bds):\n",
    "        param =  _map_fn_torch(raw_param)*(prior_bd[1]-prior_bd[0]) + prior_bd[0]\n",
    "        params.append(param)\n",
    "    params = torch.tensor(params)\n",
    "    \n",
    "    params_dict = dict()\n",
    "    params_dict[\"tau_e\"] =  params[0].item()\n",
    "    params_dict[\"tau_i\"] =  params[1].item()\n",
    "    params_dict[\"tauC\"] =  params[2].item()\n",
    "    params_dict[\"speed\"] =  params[3].item()\n",
    "    params_dict[\"alpha\"] =  params[4].item()\n",
    "    params_dict[\"gii\"] =  params[5].item()\n",
    "    params_dict[\"gei\"] =  params[6].item()\n",
    "    \n",
    "    all_FCs = []\n",
    "    for freqrange in freqranges:\n",
    "        modelFC = build_fc_freq_m(brain , params_dict, freqrange)\n",
    "        cur_FC = np.abs(modelFC[:68, :68])\n",
    "        all_FCs.append(cur_FC.flatten())\n",
    "    all_FCs = np.array(all_FCs)\n",
    "    return all_FCs"
   ]
  },
  {
   "cell_type": "code",
   "execution_count": 6,
   "id": "92df47f7",
   "metadata": {
    "ExecuteTime": {
     "end_time": "2023-02-12T04:46:45.061069Z",
     "start_time": "2023-02-12T04:46:45.050770Z"
    }
   },
   "outputs": [],
   "source": [
    "def _simulate_data(raw_params, brain, prior_bds, freqrange):\n",
    "    params = []\n",
    "    for raw_param, prior_bd in zip(raw_params, prior_bds):\n",
    "        param =  _map_fn_torch(raw_param)*(prior_bd[1]-prior_bd[0]) + prior_bd[0]\n",
    "        params.append(param)\n",
    "    params = torch.tensor(params)\n",
    "    \n",
    "    params_dict = dict()\n",
    "    params_dict[\"tau_e\"] =  params[0].item()\n",
    "    params_dict[\"tau_i\"] =  params[1].item()\n",
    "    params_dict[\"tauC\"] =  params[2].item()\n",
    "    params_dict[\"speed\"] =  params[3].item()\n",
    "    params_dict[\"alpha\"] =  params[4].item()\n",
    "    params_dict[\"gii\"] =  params[5].item()\n",
    "    params_dict[\"gei\"] =  params[6].item()\n",
    "    modelFC = build_fc_freq_m(brain , params_dict, freqrange)\n",
    "    return np.abs(modelFC[:68, :68])"
   ]
  },
  {
   "cell_type": "code",
   "execution_count": 7,
   "id": "9daeac1d",
   "metadata": {
    "ExecuteTime": {
     "end_time": "2023-02-12T04:46:46.559343Z",
     "start_time": "2023-02-12T04:46:46.553985Z"
    }
   },
   "outputs": [],
   "source": [
    "# transfer vec to a sym mat\n",
    "def _vec_2mat(vec):\n",
    "    mat = np.zeros((68, 68))\n",
    "    mat[np.triu_indices(68, k = 1)] = vec\n",
    "    mat = mat + mat.T\n",
    "    return mat"
   ]
  },
  {
   "cell_type": "code",
   "execution_count": 8,
   "id": "97d45982",
   "metadata": {
    "ExecuteTime": {
     "end_time": "2023-02-12T04:46:46.915544Z",
     "start_time": "2023-02-12T04:46:46.908680Z"
    }
   },
   "outputs": [],
   "source": [
    "def _filter_unstable(theta_raw, prior_bds, x=None):\n",
    "    \"\"\"This fn is to remove unstable SGM parameters\n",
    "        args: theta_raw: parameters: num of sps x dim\n",
    "                order: ['Taue', 'Taui', 'TauC', 'Speed', 'alpha', 'gii', 'gei']\n",
    "    \"\"\"\n",
    "    theta = _theta_raw_2out(theta_raw.numpy(), prior_bds)\n",
    "    stable_idxs = paras_table_check(theta)\n",
    "    \n",
    "    # keep stable sps only\n",
    "    theta_raw_stable = theta_raw[stable_idxs==0]\n",
    "    if x is not None:\n",
    "        x_stable = x[stable_idxs==0]\n",
    "        return theta_raw_stable, x_stable\n",
    "    else:\n",
    "        return theta_raw_stable"
   ]
  },
  {
   "cell_type": "code",
   "execution_count": null,
   "id": "c2112ea2",
   "metadata": {},
   "outputs": [],
   "source": []
  },
  {
   "cell_type": "markdown",
   "id": "12bd0463",
   "metadata": {},
   "source": [
    "## Some parameters"
   ]
  },
  {
   "cell_type": "code",
   "execution_count": 9,
   "id": "60ee9273",
   "metadata": {
    "ExecuteTime": {
     "end_time": "2023-02-12T04:46:47.922891Z",
     "start_time": "2023-02-12T04:46:47.915580Z"
    }
   },
   "outputs": [],
   "source": [
    "_paras = edict()\n",
    "_paras.delta = [2, 3.5]\n",
    "_paras.theta = [4, 7]\n",
    "_paras.alpha = [8, 12]\n",
    "_paras.beta = [13, 20]\n",
    "_paras.beta_l = [13, 20]\n",
    "_paras.beta_h = [15, 25]\n",
    "_paras.cols = [\"#1b9e77\", \"#d95f02\", \"#7570b3\", \"#e7298a\", \"#66a61e\", \"#e6ab02\",]\n",
    "_paras.markers = [\"o\", \"h\", \"*\", \"+\"]\n",
    "_paras.barh = 0.05"
   ]
  },
  {
   "cell_type": "code",
   "execution_count": 10,
   "id": "74f883ac",
   "metadata": {
    "ExecuteTime": {
     "end_time": "2023-02-12T04:47:14.427628Z",
     "start_time": "2023-02-12T04:47:14.411627Z"
    }
   },
   "outputs": [
    {
     "name": "stdout",
     "output_type": "stream",
     "text": [
      "[array([2.   , 2.375, 2.75 , 3.125, 3.5  ]), array([4.  , 4.75, 5.5 , 6.25, 7.  ]), array([ 8.,  9., 10., 11., 12.]), array([13.  , 14.75, 16.5 , 18.25, 20.  ])]\n"
     ]
    }
   ],
   "source": [
    "paras = edict()\n",
    "\n",
    "paras.fc_types = [\"delta\", \"theta\", \"alpha\", \"beta_l\"]\n",
    "paras.freqranges =  [np.linspace(_paras[fc_type][0], _paras[fc_type][1], 5) \n",
    "                     for fc_type in paras.fc_types]\n",
    "print(paras.freqranges)\n",
    "paras.fs = 600\n",
    "paras.num_nodes = 86 # Number of cortical (68) + subcortical nodes\n",
    "paras.par_low = np.asarray([0.005,0.005,0.005,5, 0.1,0.001,0.001])\n",
    "paras.par_high = np.asarray([0.03, 0.20, 0.03,20,  1,    2,  0.7])\n",
    "paras.prior_bds = np.array([paras.par_low, paras.par_high]).T\n",
    "paras.prior_sd = 10\n",
    "paras.add_v = 0.05\n",
    "\n",
    "paras.dirs = edict()\n",
    "paras.dirs.allbands = RES_ROOT/\"newbdscorrectNewFC_posteriorMRmulDiffNum_delta-theta-alpha-beta_l_num10000_densitynsf_MR2_noise_sd80_addv5\"\n",
    "paras.dirs.delta = RES_ROOT/\"newbdscorrectNewFC_posteriorMRmul_delta_num1000_densitynsf_MR3_noise_sd80_addv5\"\n",
    "paras.dirs.theta = RES_ROOT/\"newbdscorrectNewFC_posteriorMRmul_theta_num1000_densitynsf_MR3_noise_sd80_addv5\"\n",
    "paras.dirs.alpha = RES_ROOT/\"newbdscorrectNewFC_posteriorMRmul_alpha_num1000_densitynsf_MR3_noise_sd80_addv5\"\n",
    "paras.dirs.beta_l = RES_ROOT/\"newbdscorrectNewFC_posteriorMRmul_beta_l_num1000_densitynsf_MR3_noise_sd80_addv5\"\n",
    "paras.dirs.out_dir = RES_ROOT/\"newbdscorrectNewFC_out_res/\"\n"
   ]
  },
  {
   "cell_type": "code",
   "execution_count": 11,
   "id": "0b853363",
   "metadata": {
    "ExecuteTime": {
     "end_time": "2023-02-12T04:47:37.415526Z",
     "start_time": "2023-02-12T04:47:37.410237Z"
    }
   },
   "outputs": [],
   "source": [
    "# fn for reparemetering\n",
    "_map_fn_torch = partial(logistic_torch, k=0.1)\n",
    "_theta_raw_2out = partial(theta_raw_2out, map_fn=partial(logistic_np, k=0.1))"
   ]
  },
  {
   "cell_type": "code",
   "execution_count": 12,
   "id": "d66040ab",
   "metadata": {
    "ExecuteTime": {
     "end_time": "2023-02-12T04:47:38.058687Z",
     "start_time": "2023-02-12T04:47:38.048874Z"
    }
   },
   "outputs": [],
   "source": [
    "prior = MultivariateNormal(loc=torch.zeros(7), covariance_matrix=torch.eye(7)*(paras.prior_sd**2))"
   ]
  },
  {
   "cell_type": "code",
   "execution_count": null,
   "id": "2c1606b7",
   "metadata": {},
   "outputs": [],
   "source": []
  },
  {
   "cell_type": "markdown",
   "id": "cc57cec6",
   "metadata": {},
   "source": [
    "## Load the data"
   ]
  },
  {
   "cell_type": "code",
   "execution_count": 15,
   "id": "ba97c3d9",
   "metadata": {
    "ExecuteTime": {
     "end_time": "2023-02-12T04:48:02.030979Z",
     "start_time": "2023-02-12T04:48:02.002329Z"
    }
   },
   "outputs": [],
   "source": [
    "# SC\n",
    "ind_conn_xr = xr.open_dataarray(DATA_ROOT/'individual_connectomes_reordered.nc')\n",
    "ind_conn = ind_conn_xr.values\n",
    "ind_conn1 = ind_conn_xr.values\n",
    "\n",
    "# PSD\n",
    "ind_psd_xr = xr.open_dataarray(DATA_ROOT/'individual_psd_reordered_matlab.nc')\n",
    "ind_psd = ind_psd_xr.values\n",
    "fvec = ind_psd_xr[\"frequencies\"].values"
   ]
  },
  {
   "cell_type": "code",
   "execution_count": 16,
   "id": "ee5a4fc9",
   "metadata": {
    "ExecuteTime": {
     "end_time": "2023-02-12T04:48:02.584554Z",
     "start_time": "2023-02-12T04:48:02.563390Z"
    }
   },
   "outputs": [
    {
     "name": "stdout",
     "output_type": "stream",
     "text": [
      "Add 0.05 on diag\n"
     ]
    }
   ],
   "source": [
    "\n",
    "def _add_v2con(cur_ind_conn):\n",
    "    cur_ind_conn = cur_ind_conn.copy()\n",
    "    add_v = np.max(cur_ind_conn)*paras.add_v # tuning 0.1\n",
    "    np.fill_diagonal(cur_ind_conn[:34, 34:68], np.diag(cur_ind_conn[:34, 34:68]) + add_v)\n",
    "    np.fill_diagonal(cur_ind_conn[34:68, :34], np.diag(cur_ind_conn[34:68, :34]) + add_v)\n",
    "    np.fill_diagonal(cur_ind_conn[68:77, 77:], np.diag(cur_ind_conn[68:77, 77:]) + add_v)\n",
    "    np.fill_diagonal(cur_ind_conn[77:, 68:77], np.diag(cur_ind_conn[77:, 68:77]) + add_v)\n",
    "    return cur_ind_conn\n",
    "\n",
    "\n",
    "if paras.add_v != 0:\n",
    "    print(f\"Add {paras.add_v} on diag\")\n",
    "    ind_conn_adds = [_add_v2con(ind_conn[:, :, ix]) for ix in range(36)]\n",
    "    ind_conn = np.transpose(np.array(ind_conn_adds), (1, 2, 0))"
   ]
  },
  {
   "cell_type": "code",
   "execution_count": null,
   "id": "b939cd37",
   "metadata": {},
   "outputs": [],
   "source": []
  },
  {
   "cell_type": "markdown",
   "id": "a3b547ea",
   "metadata": {},
   "source": [
    "## Save results"
   ]
  },
  {
   "cell_type": "markdown",
   "id": "70fee607",
   "metadata": {},
   "source": [
    "### New SC\n",
    "\n",
    "add 0.05 * maxv to the diag"
   ]
  },
  {
   "cell_type": "code",
   "execution_count": 17,
   "id": "158a98e9",
   "metadata": {
    "ExecuteTime": {
     "end_time": "2023-02-12T04:48:16.900064Z",
     "start_time": "2023-02-12T04:48:16.834000Z"
    }
   },
   "outputs": [],
   "source": [
    "ind_conn_xr.values = ind_conn\n",
    "ind_conn_xr.to_netcdf(RES_ROOT/\"./newbdscorrectNewFC_out_res/individual_connectomes_reordered_new.nc\")"
   ]
  },
  {
   "cell_type": "markdown",
   "id": "a4878fb3",
   "metadata": {},
   "source": [
    "### FC and SGM parameters"
   ]
  },
  {
   "cell_type": "markdown",
   "id": "a24a4e53",
   "metadata": {},
   "source": [
    "#### All bands"
   ]
  },
  {
   "cell_type": "code",
   "execution_count": 18,
   "id": "0198170d",
   "metadata": {
    "ExecuteTime": {
     "end_time": "2023-02-12T04:48:21.605456Z",
     "start_time": "2023-02-12T04:48:21.593777Z"
    }
   },
   "outputs": [],
   "source": [
    "res_fils = paras.dirs.allbands.glob(\"ind*.pkl\")\n",
    "_sorted_fn = lambda x: int(x.stem.split(\"ind\")[-1][:])\n",
    "sorted_fils = sorted(res_fils, key=_sorted_fn)"
   ]
  },
  {
   "cell_type": "code",
   "execution_count": 19,
   "id": "f97d4b7d",
   "metadata": {
    "ExecuteTime": {
     "end_time": "2023-02-12T05:06:56.716768Z",
     "start_time": "2023-02-12T04:49:05.926852Z"
    },
    "scrolled": true
   },
   "outputs": [
    {
     "data": {
      "application/vnd.jupyter.widget-view+json": {
       "model_id": "c0380ca0e55840e49094dd360a17654e",
       "version_major": 2,
       "version_minor": 0
      },
      "text/plain": [
       "Drawing 1500 posterior samples:   0%|          | 0/1500 [00:00<?, ?it/s]"
      ]
     },
     "metadata": {},
     "output_type": "display_data"
    },
    {
     "name": "stderr",
     "output_type": "stream",
     "text": [
      "/home/hujin/.local/lib/python3.9/site-packages/nflows/transforms/lu.py:80: UserWarning: torch.triangular_solve is deprecated in favor of torch.linalg.solve_triangularand will be removed in a future PyTorch release.\n",
      "torch.linalg.solve_triangular has its arguments reversed and does not return a copy of one of the inputs.\n",
      "X = torch.triangular_solve(B, A).solution\n",
      "should be replaced with\n",
      "X = torch.linalg.solve_triangular(A, B). (Triggered internally at  ../aten/src/ATen/native/BatchLinearAlgebra.cpp:2189.)\n",
      "  outputs, _ = torch.triangular_solve(\n"
     ]
    },
    {
     "data": {
      "application/vnd.jupyter.widget-view+json": {
       "model_id": "69713be24bec4850994d13ebfc7afa43",
       "version_major": 2,
       "version_minor": 0
      },
      "text/plain": [
       "Running 1500 simulations in 1500 batches.:   0%|          | 0/1500 [00:00<?, ?it/s]"
      ]
     },
     "metadata": {},
     "output_type": "display_data"
    },
    {
     "data": {
      "application/vnd.jupyter.widget-view+json": {
       "model_id": "992a7e41f7254239b7bda209b4d340f6",
       "version_major": 2,
       "version_minor": 0
      },
      "text/plain": [
       "Drawing 1500 posterior samples:   0%|          | 0/1500 [00:00<?, ?it/s]"
      ]
     },
     "metadata": {},
     "output_type": "display_data"
    },
    {
     "data": {
      "application/vnd.jupyter.widget-view+json": {
       "model_id": "e88db2aed11e47cb9423299a5a5ed55c",
       "version_major": 2,
       "version_minor": 0
      },
      "text/plain": [
       "Running 1500 simulations in 1500 batches.:   0%|          | 0/1500 [00:00<?, ?it/s]"
      ]
     },
     "metadata": {},
     "output_type": "display_data"
    },
    {
     "data": {
      "application/vnd.jupyter.widget-view+json": {
       "model_id": "3856d890e4da46cfba4e5945354e702d",
       "version_major": 2,
       "version_minor": 0
      },
      "text/plain": [
       "Drawing 1500 posterior samples:   0%|          | 0/1500 [00:00<?, ?it/s]"
      ]
     },
     "metadata": {},
     "output_type": "display_data"
    },
    {
     "data": {
      "application/vnd.jupyter.widget-view+json": {
       "model_id": "ad5bb6b5a28046c18bc6df32d8ead283",
       "version_major": 2,
       "version_minor": 0
      },
      "text/plain": [
       "Running 1500 simulations in 1500 batches.:   0%|          | 0/1500 [00:00<?, ?it/s]"
      ]
     },
     "metadata": {},
     "output_type": "display_data"
    },
    {
     "data": {
      "application/vnd.jupyter.widget-view+json": {
       "model_id": "39989849804540889eafd7c3b480b532",
       "version_major": 2,
       "version_minor": 0
      },
      "text/plain": [
       "Drawing 1500 posterior samples:   0%|          | 0/1500 [00:00<?, ?it/s]"
      ]
     },
     "metadata": {},
     "output_type": "display_data"
    },
    {
     "data": {
      "application/vnd.jupyter.widget-view+json": {
       "model_id": "27996df9131d42b68d9b24b94c3c48b6",
       "version_major": 2,
       "version_minor": 0
      },
      "text/plain": [
       "Running 1500 simulations in 1500 batches.:   0%|          | 0/1500 [00:00<?, ?it/s]"
      ]
     },
     "metadata": {},
     "output_type": "display_data"
    },
    {
     "data": {
      "application/vnd.jupyter.widget-view+json": {
       "model_id": "65495102e8d84a9b9395d4bd9886698d",
       "version_major": 2,
       "version_minor": 0
      },
      "text/plain": [
       "Drawing 1500 posterior samples:   0%|          | 0/1500 [00:00<?, ?it/s]"
      ]
     },
     "metadata": {},
     "output_type": "display_data"
    },
    {
     "data": {
      "application/vnd.jupyter.widget-view+json": {
       "model_id": "9fdfbcbfd7c54d1f940e9c9dc9cdea91",
       "version_major": 2,
       "version_minor": 0
      },
      "text/plain": [
       "Running 1500 simulations in 1500 batches.:   0%|          | 0/1500 [00:00<?, ?it/s]"
      ]
     },
     "metadata": {},
     "output_type": "display_data"
    },
    {
     "data": {
      "application/vnd.jupyter.widget-view+json": {
       "model_id": "6675b6fdf8ec40b4893fed9944550c6f",
       "version_major": 2,
       "version_minor": 0
      },
      "text/plain": [
       "Drawing 1500 posterior samples:   0%|          | 0/1500 [00:00<?, ?it/s]"
      ]
     },
     "metadata": {},
     "output_type": "display_data"
    },
    {
     "data": {
      "application/vnd.jupyter.widget-view+json": {
       "model_id": "e60c3e2ed0f04acc9edd8f7cb8b8ef34",
       "version_major": 2,
       "version_minor": 0
      },
      "text/plain": [
       "Running 1500 simulations in 1500 batches.:   0%|          | 0/1500 [00:00<?, ?it/s]"
      ]
     },
     "metadata": {},
     "output_type": "display_data"
    },
    {
     "data": {
      "application/vnd.jupyter.widget-view+json": {
       "model_id": "692514a99f6a4a55ba0087a74bfc8d33",
       "version_major": 2,
       "version_minor": 0
      },
      "text/plain": [
       "Drawing 1500 posterior samples:   0%|          | 0/1500 [00:00<?, ?it/s]"
      ]
     },
     "metadata": {},
     "output_type": "display_data"
    },
    {
     "data": {
      "application/vnd.jupyter.widget-view+json": {
       "model_id": "761310af111e4e70b4e1e92f1e3831bc",
       "version_major": 2,
       "version_minor": 0
      },
      "text/plain": [
       "Running 1500 simulations in 1500 batches.:   0%|          | 0/1500 [00:00<?, ?it/s]"
      ]
     },
     "metadata": {},
     "output_type": "display_data"
    },
    {
     "data": {
      "application/vnd.jupyter.widget-view+json": {
       "model_id": "47439ffe80fb45fdb85ec1893d5cbb82",
       "version_major": 2,
       "version_minor": 0
      },
      "text/plain": [
       "Drawing 1500 posterior samples:   0%|          | 0/1500 [00:00<?, ?it/s]"
      ]
     },
     "metadata": {},
     "output_type": "display_data"
    },
    {
     "data": {
      "application/vnd.jupyter.widget-view+json": {
       "model_id": "65a61bbc087c4531802ecf9248634aee",
       "version_major": 2,
       "version_minor": 0
      },
      "text/plain": [
       "Running 1500 simulations in 1500 batches.:   0%|          | 0/1500 [00:00<?, ?it/s]"
      ]
     },
     "metadata": {},
     "output_type": "display_data"
    },
    {
     "data": {
      "application/vnd.jupyter.widget-view+json": {
       "model_id": "4a64d7f671734fca8f3b5b90d9bec2d2",
       "version_major": 2,
       "version_minor": 0
      },
      "text/plain": [
       "Drawing 1500 posterior samples:   0%|          | 0/1500 [00:00<?, ?it/s]"
      ]
     },
     "metadata": {},
     "output_type": "display_data"
    },
    {
     "data": {
      "application/vnd.jupyter.widget-view+json": {
       "model_id": "d55471c6d24241b3bc7cdc0ba613ee52",
       "version_major": 2,
       "version_minor": 0
      },
      "text/plain": [
       "Running 1500 simulations in 1500 batches.:   0%|          | 0/1500 [00:00<?, ?it/s]"
      ]
     },
     "metadata": {},
     "output_type": "display_data"
    },
    {
     "data": {
      "application/vnd.jupyter.widget-view+json": {
       "model_id": "f19951db344648b891db1afb5e98f869",
       "version_major": 2,
       "version_minor": 0
      },
      "text/plain": [
       "Drawing 1500 posterior samples:   0%|          | 0/1500 [00:00<?, ?it/s]"
      ]
     },
     "metadata": {},
     "output_type": "display_data"
    },
    {
     "data": {
      "application/vnd.jupyter.widget-view+json": {
       "model_id": "ece7c61e841c45ea9817b5f3b940923e",
       "version_major": 2,
       "version_minor": 0
      },
      "text/plain": [
       "Running 1500 simulations in 1500 batches.:   0%|          | 0/1500 [00:00<?, ?it/s]"
      ]
     },
     "metadata": {},
     "output_type": "display_data"
    },
    {
     "data": {
      "application/vnd.jupyter.widget-view+json": {
       "model_id": "20d8b426c6a249cd96d2f719a6814fe1",
       "version_major": 2,
       "version_minor": 0
      },
      "text/plain": [
       "Drawing 1500 posterior samples:   0%|          | 0/1500 [00:00<?, ?it/s]"
      ]
     },
     "metadata": {},
     "output_type": "display_data"
    },
    {
     "data": {
      "application/vnd.jupyter.widget-view+json": {
       "model_id": "7ef58b5afa16498ab5c74a3cbd2ca3f9",
       "version_major": 2,
       "version_minor": 0
      },
      "text/plain": [
       "Running 1500 simulations in 1500 batches.:   0%|          | 0/1500 [00:00<?, ?it/s]"
      ]
     },
     "metadata": {},
     "output_type": "display_data"
    },
    {
     "data": {
      "application/vnd.jupyter.widget-view+json": {
       "model_id": "2709970560554f44bcf2132abc0b9113",
       "version_major": 2,
       "version_minor": 0
      },
      "text/plain": [
       "Drawing 1500 posterior samples:   0%|          | 0/1500 [00:00<?, ?it/s]"
      ]
     },
     "metadata": {},
     "output_type": "display_data"
    },
    {
     "data": {
      "application/vnd.jupyter.widget-view+json": {
       "model_id": "70fe530acec04b109234646b56ba868e",
       "version_major": 2,
       "version_minor": 0
      },
      "text/plain": [
       "Running 1500 simulations in 1500 batches.:   0%|          | 0/1500 [00:00<?, ?it/s]"
      ]
     },
     "metadata": {},
     "output_type": "display_data"
    },
    {
     "data": {
      "application/vnd.jupyter.widget-view+json": {
       "model_id": "c07351fd68a54e558641a22988626c05",
       "version_major": 2,
       "version_minor": 0
      },
      "text/plain": [
       "Drawing 1500 posterior samples:   0%|          | 0/1500 [00:00<?, ?it/s]"
      ]
     },
     "metadata": {},
     "output_type": "display_data"
    },
    {
     "data": {
      "application/vnd.jupyter.widget-view+json": {
       "model_id": "177065637e5b4f509cd00e7b8f93669a",
       "version_major": 2,
       "version_minor": 0
      },
      "text/plain": [
       "Running 1500 simulations in 1500 batches.:   0%|          | 0/1500 [00:00<?, ?it/s]"
      ]
     },
     "metadata": {},
     "output_type": "display_data"
    },
    {
     "data": {
      "application/vnd.jupyter.widget-view+json": {
       "model_id": "73f5610685d049609b2c0205c71ab08a",
       "version_major": 2,
       "version_minor": 0
      },
      "text/plain": [
       "Drawing 1500 posterior samples:   0%|          | 0/1500 [00:00<?, ?it/s]"
      ]
     },
     "metadata": {},
     "output_type": "display_data"
    },
    {
     "data": {
      "application/vnd.jupyter.widget-view+json": {
       "model_id": "5c173b69f45844018ca555fc075ce1be",
       "version_major": 2,
       "version_minor": 0
      },
      "text/plain": [
       "Running 1500 simulations in 1500 batches.:   0%|          | 0/1500 [00:00<?, ?it/s]"
      ]
     },
     "metadata": {},
     "output_type": "display_data"
    },
    {
     "data": {
      "application/vnd.jupyter.widget-view+json": {
       "model_id": "11faa056328d4a15854b15142f5f1d15",
       "version_major": 2,
       "version_minor": 0
      },
      "text/plain": [
       "Drawing 1500 posterior samples:   0%|          | 0/1500 [00:00<?, ?it/s]"
      ]
     },
     "metadata": {},
     "output_type": "display_data"
    },
    {
     "data": {
      "application/vnd.jupyter.widget-view+json": {
       "model_id": "1086127940ba4d9eb9e5797c699df483",
       "version_major": 2,
       "version_minor": 0
      },
      "text/plain": [
       "Running 1500 simulations in 1500 batches.:   0%|          | 0/1500 [00:00<?, ?it/s]"
      ]
     },
     "metadata": {},
     "output_type": "display_data"
    },
    {
     "data": {
      "application/vnd.jupyter.widget-view+json": {
       "model_id": "b963f00e4f7f44e59a7b28ab9d5a3b25",
       "version_major": 2,
       "version_minor": 0
      },
      "text/plain": [
       "Drawing 1500 posterior samples:   0%|          | 0/1500 [00:00<?, ?it/s]"
      ]
     },
     "metadata": {},
     "output_type": "display_data"
    },
    {
     "data": {
      "application/vnd.jupyter.widget-view+json": {
       "model_id": "2d7e4dad65674d04b35780e64a3c4da2",
       "version_major": 2,
       "version_minor": 0
      },
      "text/plain": [
       "Running 1500 simulations in 1500 batches.:   0%|          | 0/1500 [00:00<?, ?it/s]"
      ]
     },
     "metadata": {},
     "output_type": "display_data"
    },
    {
     "data": {
      "application/vnd.jupyter.widget-view+json": {
       "model_id": "6aec4abc18ae4ea58d0adbd0a7ea74f9",
       "version_major": 2,
       "version_minor": 0
      },
      "text/plain": [
       "Drawing 1500 posterior samples:   0%|          | 0/1500 [00:00<?, ?it/s]"
      ]
     },
     "metadata": {},
     "output_type": "display_data"
    },
    {
     "data": {
      "application/vnd.jupyter.widget-view+json": {
       "model_id": "392244c36d7548a388c9ac37c5f7572c",
       "version_major": 2,
       "version_minor": 0
      },
      "text/plain": [
       "Running 1500 simulations in 1500 batches.:   0%|          | 0/1500 [00:00<?, ?it/s]"
      ]
     },
     "metadata": {},
     "output_type": "display_data"
    },
    {
     "data": {
      "application/vnd.jupyter.widget-view+json": {
       "model_id": "69ebcb821add4706bda3ac4be1d9505a",
       "version_major": 2,
       "version_minor": 0
      },
      "text/plain": [
       "Drawing 1500 posterior samples:   0%|          | 0/1500 [00:00<?, ?it/s]"
      ]
     },
     "metadata": {},
     "output_type": "display_data"
    },
    {
     "data": {
      "application/vnd.jupyter.widget-view+json": {
       "model_id": "61545ee091f94341b01958418a6ec6d7",
       "version_major": 2,
       "version_minor": 0
      },
      "text/plain": [
       "Running 1500 simulations in 1500 batches.:   0%|          | 0/1500 [00:00<?, ?it/s]"
      ]
     },
     "metadata": {},
     "output_type": "display_data"
    },
    {
     "data": {
      "application/vnd.jupyter.widget-view+json": {
       "model_id": "c8085890bc664193b08718c6e7fdee2a",
       "version_major": 2,
       "version_minor": 0
      },
      "text/plain": [
       "Drawing 1500 posterior samples:   0%|          | 0/1500 [00:00<?, ?it/s]"
      ]
     },
     "metadata": {},
     "output_type": "display_data"
    },
    {
     "data": {
      "application/vnd.jupyter.widget-view+json": {
       "model_id": "af85df0e9b044739bf955a99515b1aba",
       "version_major": 2,
       "version_minor": 0
      },
      "text/plain": [
       "Running 1500 simulations in 1500 batches.:   0%|          | 0/1500 [00:00<?, ?it/s]"
      ]
     },
     "metadata": {},
     "output_type": "display_data"
    },
    {
     "data": {
      "application/vnd.jupyter.widget-view+json": {
       "model_id": "5c6fe095f4cc4cf6bd02ecfb150ecd3e",
       "version_major": 2,
       "version_minor": 0
      },
      "text/plain": [
       "Drawing 1500 posterior samples:   0%|          | 0/1500 [00:00<?, ?it/s]"
      ]
     },
     "metadata": {},
     "output_type": "display_data"
    },
    {
     "data": {
      "application/vnd.jupyter.widget-view+json": {
       "model_id": "5e462878ce734cdc90db23f105848d58",
       "version_major": 2,
       "version_minor": 0
      },
      "text/plain": [
       "Running 1500 simulations in 1500 batches.:   0%|          | 0/1500 [00:00<?, ?it/s]"
      ]
     },
     "metadata": {},
     "output_type": "display_data"
    },
    {
     "data": {
      "application/vnd.jupyter.widget-view+json": {
       "model_id": "03fd1a50437646aea8a32c5297fefaa2",
       "version_major": 2,
       "version_minor": 0
      },
      "text/plain": [
       "Drawing 1500 posterior samples:   0%|          | 0/1500 [00:00<?, ?it/s]"
      ]
     },
     "metadata": {},
     "output_type": "display_data"
    },
    {
     "data": {
      "application/vnd.jupyter.widget-view+json": {
       "model_id": "1411f68eac614df5afe7b2626d6a3500",
       "version_major": 2,
       "version_minor": 0
      },
      "text/plain": [
       "Running 1500 simulations in 1500 batches.:   0%|          | 0/1500 [00:00<?, ?it/s]"
      ]
     },
     "metadata": {},
     "output_type": "display_data"
    },
    {
     "data": {
      "application/vnd.jupyter.widget-view+json": {
       "model_id": "964846c7af5f48fdbb4720f6db4ab1c3",
       "version_major": 2,
       "version_minor": 0
      },
      "text/plain": [
       "Drawing 1500 posterior samples:   0%|          | 0/1500 [00:00<?, ?it/s]"
      ]
     },
     "metadata": {},
     "output_type": "display_data"
    },
    {
     "data": {
      "application/vnd.jupyter.widget-view+json": {
       "model_id": "08eefa1165d34aada15785e8fd49f4b6",
       "version_major": 2,
       "version_minor": 0
      },
      "text/plain": [
       "Running 1500 simulations in 1500 batches.:   0%|          | 0/1500 [00:00<?, ?it/s]"
      ]
     },
     "metadata": {},
     "output_type": "display_data"
    },
    {
     "data": {
      "application/vnd.jupyter.widget-view+json": {
       "model_id": "6db09d3aefc94fea861334c99ac5c610",
       "version_major": 2,
       "version_minor": 0
      },
      "text/plain": [
       "Drawing 1500 posterior samples:   0%|          | 0/1500 [00:00<?, ?it/s]"
      ]
     },
     "metadata": {},
     "output_type": "display_data"
    },
    {
     "data": {
      "application/vnd.jupyter.widget-view+json": {
       "model_id": "08dc8169686c407eb4dfce7f2a0aa4bc",
       "version_major": 2,
       "version_minor": 0
      },
      "text/plain": [
       "Running 1500 simulations in 1500 batches.:   0%|          | 0/1500 [00:00<?, ?it/s]"
      ]
     },
     "metadata": {},
     "output_type": "display_data"
    },
    {
     "data": {
      "application/vnd.jupyter.widget-view+json": {
       "model_id": "19c837a4edf4460da47785d9f4d0b620",
       "version_major": 2,
       "version_minor": 0
      },
      "text/plain": [
       "Drawing 1500 posterior samples:   0%|          | 0/1500 [00:00<?, ?it/s]"
      ]
     },
     "metadata": {},
     "output_type": "display_data"
    },
    {
     "data": {
      "application/vnd.jupyter.widget-view+json": {
       "model_id": "5a64225126e24c12a0fd825e2a335427",
       "version_major": 2,
       "version_minor": 0
      },
      "text/plain": [
       "Running 1500 simulations in 1500 batches.:   0%|          | 0/1500 [00:00<?, ?it/s]"
      ]
     },
     "metadata": {},
     "output_type": "display_data"
    },
    {
     "data": {
      "application/vnd.jupyter.widget-view+json": {
       "model_id": "a011a627bcb649c1b4a4cf9fc0cf45ca",
       "version_major": 2,
       "version_minor": 0
      },
      "text/plain": [
       "Drawing 1500 posterior samples:   0%|          | 0/1500 [00:00<?, ?it/s]"
      ]
     },
     "metadata": {},
     "output_type": "display_data"
    },
    {
     "data": {
      "application/vnd.jupyter.widget-view+json": {
       "model_id": "5c215011906b4561a37492914703da9a",
       "version_major": 2,
       "version_minor": 0
      },
      "text/plain": [
       "Running 1500 simulations in 1500 batches.:   0%|          | 0/1500 [00:00<?, ?it/s]"
      ]
     },
     "metadata": {},
     "output_type": "display_data"
    },
    {
     "data": {
      "application/vnd.jupyter.widget-view+json": {
       "model_id": "5407d66ec9514e4baa6d90aab651ec01",
       "version_major": 2,
       "version_minor": 0
      },
      "text/plain": [
       "Drawing 1500 posterior samples:   0%|          | 0/1500 [00:00<?, ?it/s]"
      ]
     },
     "metadata": {},
     "output_type": "display_data"
    },
    {
     "data": {
      "application/vnd.jupyter.widget-view+json": {
       "model_id": "8adc4388834b4c4090836780d242b5c3",
       "version_major": 2,
       "version_minor": 0
      },
      "text/plain": [
       "Running 1500 simulations in 1500 batches.:   0%|          | 0/1500 [00:00<?, ?it/s]"
      ]
     },
     "metadata": {},
     "output_type": "display_data"
    },
    {
     "data": {
      "application/vnd.jupyter.widget-view+json": {
       "model_id": "c096f9d19d444d8db97760351d2ff531",
       "version_major": 2,
       "version_minor": 0
      },
      "text/plain": [
       "Drawing 1500 posterior samples:   0%|          | 0/1500 [00:00<?, ?it/s]"
      ]
     },
     "metadata": {},
     "output_type": "display_data"
    },
    {
     "data": {
      "application/vnd.jupyter.widget-view+json": {
       "model_id": "9ba340adbb854526bd6c96b88e773e9d",
       "version_major": 2,
       "version_minor": 0
      },
      "text/plain": [
       "Running 1500 simulations in 1500 batches.:   0%|          | 0/1500 [00:00<?, ?it/s]"
      ]
     },
     "metadata": {},
     "output_type": "display_data"
    },
    {
     "data": {
      "application/vnd.jupyter.widget-view+json": {
       "model_id": "9fe72d03e01847719b3edccedca2a73e",
       "version_major": 2,
       "version_minor": 0
      },
      "text/plain": [
       "Drawing 1500 posterior samples:   0%|          | 0/1500 [00:00<?, ?it/s]"
      ]
     },
     "metadata": {},
     "output_type": "display_data"
    },
    {
     "data": {
      "application/vnd.jupyter.widget-view+json": {
       "model_id": "ae1e52a45ab542eab55f11d58c525127",
       "version_major": 2,
       "version_minor": 0
      },
      "text/plain": [
       "Running 1500 simulations in 1500 batches.:   0%|          | 0/1500 [00:00<?, ?it/s]"
      ]
     },
     "metadata": {},
     "output_type": "display_data"
    },
    {
     "data": {
      "application/vnd.jupyter.widget-view+json": {
       "model_id": "c8cf70a0144e43acba5f4aa6fdc80b3a",
       "version_major": 2,
       "version_minor": 0
      },
      "text/plain": [
       "Drawing 1500 posterior samples:   0%|          | 0/1500 [00:00<?, ?it/s]"
      ]
     },
     "metadata": {},
     "output_type": "display_data"
    },
    {
     "data": {
      "application/vnd.jupyter.widget-view+json": {
       "model_id": "da881172de7c47dcb4baffe9ceae9204",
       "version_major": 2,
       "version_minor": 0
      },
      "text/plain": [
       "Running 1500 simulations in 1500 batches.:   0%|          | 0/1500 [00:00<?, ?it/s]"
      ]
     },
     "metadata": {},
     "output_type": "display_data"
    },
    {
     "data": {
      "application/vnd.jupyter.widget-view+json": {
       "model_id": "10eedc6ec2984540b043cba1518f4875",
       "version_major": 2,
       "version_minor": 0
      },
      "text/plain": [
       "Drawing 1500 posterior samples:   0%|          | 0/1500 [00:00<?, ?it/s]"
      ]
     },
     "metadata": {},
     "output_type": "display_data"
    },
    {
     "data": {
      "application/vnd.jupyter.widget-view+json": {
       "model_id": "967afa8cf1804f3dafde48eae3319e12",
       "version_major": 2,
       "version_minor": 0
      },
      "text/plain": [
       "Running 1500 simulations in 1500 batches.:   0%|          | 0/1500 [00:00<?, ?it/s]"
      ]
     },
     "metadata": {},
     "output_type": "display_data"
    },
    {
     "data": {
      "application/vnd.jupyter.widget-view+json": {
       "model_id": "2398b680aae7433cbeef1129a0d18d48",
       "version_major": 2,
       "version_minor": 0
      },
      "text/plain": [
       "Drawing 1500 posterior samples:   0%|          | 0/1500 [00:00<?, ?it/s]"
      ]
     },
     "metadata": {},
     "output_type": "display_data"
    },
    {
     "data": {
      "application/vnd.jupyter.widget-view+json": {
       "model_id": "0fb1ae9c663245baafe03be4a80831bd",
       "version_major": 2,
       "version_minor": 0
      },
      "text/plain": [
       "Running 1500 simulations in 1500 batches.:   0%|          | 0/1500 [00:00<?, ?it/s]"
      ]
     },
     "metadata": {},
     "output_type": "display_data"
    },
    {
     "data": {
      "application/vnd.jupyter.widget-view+json": {
       "model_id": "2e371e5fce514659ab0c371f380f8e6d",
       "version_major": 2,
       "version_minor": 0
      },
      "text/plain": [
       "Drawing 1500 posterior samples:   0%|          | 0/1500 [00:00<?, ?it/s]"
      ]
     },
     "metadata": {},
     "output_type": "display_data"
    },
    {
     "data": {
      "application/vnd.jupyter.widget-view+json": {
       "model_id": "e7d3932e6f96418bbc7ca82e3d6e4ba3",
       "version_major": 2,
       "version_minor": 0
      },
      "text/plain": [
       "Running 1500 simulations in 1500 batches.:   0%|          | 0/1500 [00:00<?, ?it/s]"
      ]
     },
     "metadata": {},
     "output_type": "display_data"
    },
    {
     "data": {
      "application/vnd.jupyter.widget-view+json": {
       "model_id": "986df76ed5564b558f23ec40b6aaac79",
       "version_major": 2,
       "version_minor": 0
      },
      "text/plain": [
       "Drawing 1500 posterior samples:   0%|          | 0/1500 [00:00<?, ?it/s]"
      ]
     },
     "metadata": {},
     "output_type": "display_data"
    },
    {
     "data": {
      "application/vnd.jupyter.widget-view+json": {
       "model_id": "4ad44414fbf54ef39722591df3c76293",
       "version_major": 2,
       "version_minor": 0
      },
      "text/plain": [
       "Running 1500 simulations in 1500 batches.:   0%|          | 0/1500 [00:00<?, ?it/s]"
      ]
     },
     "metadata": {},
     "output_type": "display_data"
    },
    {
     "data": {
      "application/vnd.jupyter.widget-view+json": {
       "model_id": "9e18abdf0e3846a68d6ddfe7a457dc89",
       "version_major": 2,
       "version_minor": 0
      },
      "text/plain": [
       "Drawing 1500 posterior samples:   0%|          | 0/1500 [00:00<?, ?it/s]"
      ]
     },
     "metadata": {},
     "output_type": "display_data"
    },
    {
     "data": {
      "application/vnd.jupyter.widget-view+json": {
       "model_id": "622386da7b904ff5a696f8cb85114d27",
       "version_major": 2,
       "version_minor": 0
      },
      "text/plain": [
       "Running 1500 simulations in 1500 batches.:   0%|          | 0/1500 [00:00<?, ?it/s]"
      ]
     },
     "metadata": {},
     "output_type": "display_data"
    },
    {
     "data": {
      "application/vnd.jupyter.widget-view+json": {
       "model_id": "4f7f6351e50a4c288837262d37b60fe4",
       "version_major": 2,
       "version_minor": 0
      },
      "text/plain": [
       "Drawing 1500 posterior samples:   0%|          | 0/1500 [00:00<?, ?it/s]"
      ]
     },
     "metadata": {},
     "output_type": "display_data"
    },
    {
     "data": {
      "application/vnd.jupyter.widget-view+json": {
       "model_id": "6559f9ccc368433da07c0aba5d918030",
       "version_major": 2,
       "version_minor": 0
      },
      "text/plain": [
       "Running 1500 simulations in 1500 batches.:   0%|          | 0/1500 [00:00<?, ?it/s]"
      ]
     },
     "metadata": {},
     "output_type": "display_data"
    },
    {
     "data": {
      "application/vnd.jupyter.widget-view+json": {
       "model_id": "202cc8f5e48f4276b7ad7b90cf4133b4",
       "version_major": 2,
       "version_minor": 0
      },
      "text/plain": [
       "Drawing 1500 posterior samples:   0%|          | 0/1500 [00:00<?, ?it/s]"
      ]
     },
     "metadata": {},
     "output_type": "display_data"
    },
    {
     "data": {
      "application/vnd.jupyter.widget-view+json": {
       "model_id": "8bcfb49008524326bdb271de26ea4581",
       "version_major": 2,
       "version_minor": 0
      },
      "text/plain": [
       "Running 1500 simulations in 1500 batches.:   0%|          | 0/1500 [00:00<?, ?it/s]"
      ]
     },
     "metadata": {},
     "output_type": "display_data"
    }
   ],
   "source": [
    "for cur_idx in range(36):\n",
    "    brain = Brain.Brain()\n",
    "    brain.add_connectome(DATA_ROOT) # grabs distance matrix\n",
    "    brain.reorder_connectome(brain.connectome, brain.distance_matrix)\n",
    "    brain.connectome =  ind_conn[:, :, cur_idx] # re-assign connectome to individual connectome\n",
    "    brain.bi_symmetric_c()\n",
    "    brain.reduce_extreme_dir()\n",
    "    \n",
    "    cur_posterior = load_pkl(sorted_fils[cur_idx], False)\n",
    "    _simulate_data_sp = partial(_simulate_data_mulbands, \n",
    "                                    brain=brain, \n",
    "                                    prior_bds=paras.prior_bds, \n",
    "                                    freqranges=paras.freqranges)\n",
    "    _simulate_data_wrapper, _ = prepare_for_sbi(_simulate_data_sp, prior)\n",
    "        \n",
    "        \n",
    "    cur_paras_raw, cur_post_fcs = simulate_for_sbi(_simulate_data_wrapper, cur_posterior,\n",
    "                                        num_simulations=1500, \n",
    "                                        num_workers=20)\n",
    "    cur_paras_raw, cur_post_fcs = _filter_unstable(cur_paras_raw, paras.prior_bds, cur_post_fcs)\n",
    "    cur_paras_raw, cur_post_fcs = cur_paras_raw[:1000, :], cur_post_fcs[:1000, :]\n",
    "    cur_paras = _theta_raw_2out(cur_paras_raw.numpy(), paras.prior_bds)\n",
    "    np.savetxt(paras.dirs.out_dir/f\"allbands/SGM_params_ind{cur_idx+1:02.0f}_allband.txt\", \n",
    "                   cur_paras)\n",
    "\n",
    "    cur_post_fcs = cur_post_fcs.reshape(-1, len(paras.fc_types), 68, 68)\n",
    "    cur_est_FCs = np.abs(cur_post_fcs.mean(axis=0).numpy())\n",
    "    \n",
    "    for ix in range(len(paras.fc_types)):\n",
    "        cur_est_FC = cur_est_FCs[ix]\n",
    "        np.savetxt(paras.dirs.out_dir/f\"allbands/est_FC_ind{cur_idx+1:02.0f}_{paras.fc_types[ix]}.txt\", \n",
    "                   cur_est_FC)"
   ]
  },
  {
   "cell_type": "markdown",
   "id": "1a5783d2",
   "metadata": {},
   "source": [
    "#### single band"
   ]
  },
  {
   "cell_type": "code",
   "execution_count": 20,
   "id": "1d375f10",
   "metadata": {
    "ExecuteTime": {
     "end_time": "2023-02-12T05:07:17.128378Z",
     "start_time": "2023-02-12T05:07:17.118193Z"
    }
   },
   "outputs": [
    {
     "data": {
      "text/plain": [
       "['delta', 'theta', 'alpha', 'beta_l']"
      ]
     },
     "execution_count": 20,
     "metadata": {},
     "output_type": "execute_result"
    }
   ],
   "source": [
    "paras.fc_types"
   ]
  },
  {
   "cell_type": "code",
   "execution_count": 24,
   "id": "224f9964",
   "metadata": {
    "ExecuteTime": {
     "end_time": "2023-02-12T05:33:37.508890Z",
     "start_time": "2023-02-12T05:28:47.084626Z"
    },
    "scrolled": true
   },
   "outputs": [
    {
     "data": {
      "application/vnd.jupyter.widget-view+json": {
       "model_id": "1048f08870f74e72a21b169ca3e806cf",
       "version_major": 2,
       "version_minor": 0
      },
      "text/plain": [
       "Drawing 1500 posterior samples:   0%|          | 0/1500 [00:00<?, ?it/s]"
      ]
     },
     "metadata": {},
     "output_type": "display_data"
    },
    {
     "data": {
      "application/vnd.jupyter.widget-view+json": {
       "model_id": "490dac0b182141ceb71493c7dd1ba0f8",
       "version_major": 2,
       "version_minor": 0
      },
      "text/plain": [
       "Running 1500 simulations in 1500 batches.:   0%|          | 0/1500 [00:00<?, ?it/s]"
      ]
     },
     "metadata": {},
     "output_type": "display_data"
    },
    {
     "data": {
      "application/vnd.jupyter.widget-view+json": {
       "model_id": "4442b8b0def24307b5f398d7b4d6b781",
       "version_major": 2,
       "version_minor": 0
      },
      "text/plain": [
       "Drawing 1500 posterior samples:   0%|          | 0/1500 [00:00<?, ?it/s]"
      ]
     },
     "metadata": {},
     "output_type": "display_data"
    },
    {
     "data": {
      "application/vnd.jupyter.widget-view+json": {
       "model_id": "3114a16c49d24553b3ca65e238cbfa42",
       "version_major": 2,
       "version_minor": 0
      },
      "text/plain": [
       "Running 1500 simulations in 1500 batches.:   0%|          | 0/1500 [00:00<?, ?it/s]"
      ]
     },
     "metadata": {},
     "output_type": "display_data"
    },
    {
     "data": {
      "application/vnd.jupyter.widget-view+json": {
       "model_id": "0ff3ca4a716649dca4d6fcfcbc5fcb62",
       "version_major": 2,
       "version_minor": 0
      },
      "text/plain": [
       "Drawing 1500 posterior samples:   0%|          | 0/1500 [00:00<?, ?it/s]"
      ]
     },
     "metadata": {},
     "output_type": "display_data"
    },
    {
     "data": {
      "application/vnd.jupyter.widget-view+json": {
       "model_id": "03d00c6143c443b9bd4158eae4e73bf0",
       "version_major": 2,
       "version_minor": 0
      },
      "text/plain": [
       "Running 1500 simulations in 1500 batches.:   0%|          | 0/1500 [00:00<?, ?it/s]"
      ]
     },
     "metadata": {},
     "output_type": "display_data"
    },
    {
     "data": {
      "application/vnd.jupyter.widget-view+json": {
       "model_id": "09a616a52a31462394b0f042746e7272",
       "version_major": 2,
       "version_minor": 0
      },
      "text/plain": [
       "Drawing 1500 posterior samples:   0%|          | 0/1500 [00:00<?, ?it/s]"
      ]
     },
     "metadata": {},
     "output_type": "display_data"
    },
    {
     "data": {
      "application/vnd.jupyter.widget-view+json": {
       "model_id": "22eeb52978af4c64b9031bf90bb7861a",
       "version_major": 2,
       "version_minor": 0
      },
      "text/plain": [
       "Running 1500 simulations in 1500 batches.:   0%|          | 0/1500 [00:00<?, ?it/s]"
      ]
     },
     "metadata": {},
     "output_type": "display_data"
    },
    {
     "data": {
      "application/vnd.jupyter.widget-view+json": {
       "model_id": "94dd7cfb0e86440ca9fbb6b828d1143e",
       "version_major": 2,
       "version_minor": 0
      },
      "text/plain": [
       "Drawing 1500 posterior samples:   0%|          | 0/1500 [00:00<?, ?it/s]"
      ]
     },
     "metadata": {},
     "output_type": "display_data"
    },
    {
     "data": {
      "application/vnd.jupyter.widget-view+json": {
       "model_id": "85c7a4421c62425f884f2bf13ffc99cd",
       "version_major": 2,
       "version_minor": 0
      },
      "text/plain": [
       "Running 1500 simulations in 1500 batches.:   0%|          | 0/1500 [00:00<?, ?it/s]"
      ]
     },
     "metadata": {},
     "output_type": "display_data"
    },
    {
     "data": {
      "application/vnd.jupyter.widget-view+json": {
       "model_id": "1eab5ee01f5d4ed6996a37e6dd828c21",
       "version_major": 2,
       "version_minor": 0
      },
      "text/plain": [
       "Drawing 1500 posterior samples:   0%|          | 0/1500 [00:00<?, ?it/s]"
      ]
     },
     "metadata": {},
     "output_type": "display_data"
    },
    {
     "data": {
      "application/vnd.jupyter.widget-view+json": {
       "model_id": "d4f02ac793ca4500a1ab2bee775d48aa",
       "version_major": 2,
       "version_minor": 0
      },
      "text/plain": [
       "Running 1500 simulations in 1500 batches.:   0%|          | 0/1500 [00:00<?, ?it/s]"
      ]
     },
     "metadata": {},
     "output_type": "display_data"
    },
    {
     "data": {
      "application/vnd.jupyter.widget-view+json": {
       "model_id": "d51a8193417a4187b6c971ce77b5ebca",
       "version_major": 2,
       "version_minor": 0
      },
      "text/plain": [
       "Drawing 1500 posterior samples:   0%|          | 0/1500 [00:00<?, ?it/s]"
      ]
     },
     "metadata": {},
     "output_type": "display_data"
    },
    {
     "data": {
      "application/vnd.jupyter.widget-view+json": {
       "model_id": "4af7c66c422c45268a3bf9ee49003fe7",
       "version_major": 2,
       "version_minor": 0
      },
      "text/plain": [
       "Running 1500 simulations in 1500 batches.:   0%|          | 0/1500 [00:00<?, ?it/s]"
      ]
     },
     "metadata": {},
     "output_type": "display_data"
    },
    {
     "data": {
      "application/vnd.jupyter.widget-view+json": {
       "model_id": "6eb1fca871e8416ebb9564ad1a2bf1ae",
       "version_major": 2,
       "version_minor": 0
      },
      "text/plain": [
       "Drawing 1500 posterior samples:   0%|          | 0/1500 [00:00<?, ?it/s]"
      ]
     },
     "metadata": {},
     "output_type": "display_data"
    },
    {
     "data": {
      "application/vnd.jupyter.widget-view+json": {
       "model_id": "cb3323521f6a4c8ba8c29251da6b24fe",
       "version_major": 2,
       "version_minor": 0
      },
      "text/plain": [
       "Running 1500 simulations in 1500 batches.:   0%|          | 0/1500 [00:00<?, ?it/s]"
      ]
     },
     "metadata": {},
     "output_type": "display_data"
    },
    {
     "data": {
      "application/vnd.jupyter.widget-view+json": {
       "model_id": "0a4a04844cd349cd895b2f2492ce17c7",
       "version_major": 2,
       "version_minor": 0
      },
      "text/plain": [
       "Drawing 1500 posterior samples:   0%|          | 0/1500 [00:00<?, ?it/s]"
      ]
     },
     "metadata": {},
     "output_type": "display_data"
    },
    {
     "data": {
      "application/vnd.jupyter.widget-view+json": {
       "model_id": "7d07be6ea114461aa3b28d5b88ec34a9",
       "version_major": 2,
       "version_minor": 0
      },
      "text/plain": [
       "Running 1500 simulations in 1500 batches.:   0%|          | 0/1500 [00:00<?, ?it/s]"
      ]
     },
     "metadata": {},
     "output_type": "display_data"
    },
    {
     "data": {
      "application/vnd.jupyter.widget-view+json": {
       "model_id": "384750c19d4741b5b41ff5da17a68e96",
       "version_major": 2,
       "version_minor": 0
      },
      "text/plain": [
       "Drawing 1500 posterior samples:   0%|          | 0/1500 [00:00<?, ?it/s]"
      ]
     },
     "metadata": {},
     "output_type": "display_data"
    },
    {
     "data": {
      "application/vnd.jupyter.widget-view+json": {
       "model_id": "511a23812e8d42c18562a967e261d90f",
       "version_major": 2,
       "version_minor": 0
      },
      "text/plain": [
       "Running 1500 simulations in 1500 batches.:   0%|          | 0/1500 [00:00<?, ?it/s]"
      ]
     },
     "metadata": {},
     "output_type": "display_data"
    },
    {
     "data": {
      "application/vnd.jupyter.widget-view+json": {
       "model_id": "5ebf97759e1d41a991ee8f0ece8185c3",
       "version_major": 2,
       "version_minor": 0
      },
      "text/plain": [
       "Drawing 1500 posterior samples:   0%|          | 0/1500 [00:00<?, ?it/s]"
      ]
     },
     "metadata": {},
     "output_type": "display_data"
    },
    {
     "data": {
      "application/vnd.jupyter.widget-view+json": {
       "model_id": "ba06e5d647d4427583c3733e01b9749e",
       "version_major": 2,
       "version_minor": 0
      },
      "text/plain": [
       "Running 1500 simulations in 1500 batches.:   0%|          | 0/1500 [00:00<?, ?it/s]"
      ]
     },
     "metadata": {},
     "output_type": "display_data"
    },
    {
     "data": {
      "application/vnd.jupyter.widget-view+json": {
       "model_id": "1e9e76e5db244b7e887e330bdb8ae578",
       "version_major": 2,
       "version_minor": 0
      },
      "text/plain": [
       "Drawing 1500 posterior samples:   0%|          | 0/1500 [00:00<?, ?it/s]"
      ]
     },
     "metadata": {},
     "output_type": "display_data"
    },
    {
     "data": {
      "application/vnd.jupyter.widget-view+json": {
       "model_id": "b345197fb1094575a9baf4837cef7e78",
       "version_major": 2,
       "version_minor": 0
      },
      "text/plain": [
       "Running 1500 simulations in 1500 batches.:   0%|          | 0/1500 [00:00<?, ?it/s]"
      ]
     },
     "metadata": {},
     "output_type": "display_data"
    },
    {
     "data": {
      "application/vnd.jupyter.widget-view+json": {
       "model_id": "b80d050df55541d585a6ad6a9cdb0f4a",
       "version_major": 2,
       "version_minor": 0
      },
      "text/plain": [
       "Drawing 1500 posterior samples:   0%|          | 0/1500 [00:00<?, ?it/s]"
      ]
     },
     "metadata": {},
     "output_type": "display_data"
    },
    {
     "data": {
      "application/vnd.jupyter.widget-view+json": {
       "model_id": "413b9c36d0ab4c81893d06ba63fbe7ff",
       "version_major": 2,
       "version_minor": 0
      },
      "text/plain": [
       "Running 1500 simulations in 1500 batches.:   0%|          | 0/1500 [00:00<?, ?it/s]"
      ]
     },
     "metadata": {},
     "output_type": "display_data"
    },
    {
     "data": {
      "application/vnd.jupyter.widget-view+json": {
       "model_id": "7a6f507994bc42f2b7df07391095d098",
       "version_major": 2,
       "version_minor": 0
      },
      "text/plain": [
       "Drawing 1500 posterior samples:   0%|          | 0/1500 [00:00<?, ?it/s]"
      ]
     },
     "metadata": {},
     "output_type": "display_data"
    },
    {
     "data": {
      "application/vnd.jupyter.widget-view+json": {
       "model_id": "b6ae7303dd704a2982a11b7034fbfa1a",
       "version_major": 2,
       "version_minor": 0
      },
      "text/plain": [
       "Running 1500 simulations in 1500 batches.:   0%|          | 0/1500 [00:00<?, ?it/s]"
      ]
     },
     "metadata": {},
     "output_type": "display_data"
    },
    {
     "data": {
      "application/vnd.jupyter.widget-view+json": {
       "model_id": "46278c47bd5246f58f0a7d357419cce2",
       "version_major": 2,
       "version_minor": 0
      },
      "text/plain": [
       "Drawing 1500 posterior samples:   0%|          | 0/1500 [00:00<?, ?it/s]"
      ]
     },
     "metadata": {},
     "output_type": "display_data"
    },
    {
     "data": {
      "application/vnd.jupyter.widget-view+json": {
       "model_id": "f3c6bc6474ec40b68e127eb25778dec5",
       "version_major": 2,
       "version_minor": 0
      },
      "text/plain": [
       "Running 1500 simulations in 1500 batches.:   0%|          | 0/1500 [00:00<?, ?it/s]"
      ]
     },
     "metadata": {},
     "output_type": "display_data"
    },
    {
     "data": {
      "application/vnd.jupyter.widget-view+json": {
       "model_id": "18084abeef4c49dc9d798545a14d7a4a",
       "version_major": 2,
       "version_minor": 0
      },
      "text/plain": [
       "Drawing 1500 posterior samples:   0%|          | 0/1500 [00:00<?, ?it/s]"
      ]
     },
     "metadata": {},
     "output_type": "display_data"
    },
    {
     "data": {
      "application/vnd.jupyter.widget-view+json": {
       "model_id": "77b75de1cc354cc481d5b7fda9025e48",
       "version_major": 2,
       "version_minor": 0
      },
      "text/plain": [
       "Running 1500 simulations in 1500 batches.:   0%|          | 0/1500 [00:00<?, ?it/s]"
      ]
     },
     "metadata": {},
     "output_type": "display_data"
    },
    {
     "data": {
      "application/vnd.jupyter.widget-view+json": {
       "model_id": "123f1fff4d8a4a23a3038ceaa07e0a12",
       "version_major": 2,
       "version_minor": 0
      },
      "text/plain": [
       "Drawing 1500 posterior samples:   0%|          | 0/1500 [00:00<?, ?it/s]"
      ]
     },
     "metadata": {},
     "output_type": "display_data"
    },
    {
     "data": {
      "application/vnd.jupyter.widget-view+json": {
       "model_id": "0f04a11c033e4f209aa1625f67eca832",
       "version_major": 2,
       "version_minor": 0
      },
      "text/plain": [
       "Running 1500 simulations in 1500 batches.:   0%|          | 0/1500 [00:00<?, ?it/s]"
      ]
     },
     "metadata": {},
     "output_type": "display_data"
    },
    {
     "data": {
      "application/vnd.jupyter.widget-view+json": {
       "model_id": "3d4fb68125764edd9c93e93ba4302a4f",
       "version_major": 2,
       "version_minor": 0
      },
      "text/plain": [
       "Drawing 1500 posterior samples:   0%|          | 0/1500 [00:00<?, ?it/s]"
      ]
     },
     "metadata": {},
     "output_type": "display_data"
    },
    {
     "data": {
      "application/vnd.jupyter.widget-view+json": {
       "model_id": "9bb08940f748424fbfbb67b077f3df09",
       "version_major": 2,
       "version_minor": 0
      },
      "text/plain": [
       "Running 1500 simulations in 1500 batches.:   0%|          | 0/1500 [00:00<?, ?it/s]"
      ]
     },
     "metadata": {},
     "output_type": "display_data"
    },
    {
     "data": {
      "application/vnd.jupyter.widget-view+json": {
       "model_id": "b06261c4eda34f028d9dbc8d9ee1fa1c",
       "version_major": 2,
       "version_minor": 0
      },
      "text/plain": [
       "Drawing 1500 posterior samples:   0%|          | 0/1500 [00:00<?, ?it/s]"
      ]
     },
     "metadata": {},
     "output_type": "display_data"
    },
    {
     "data": {
      "application/vnd.jupyter.widget-view+json": {
       "model_id": "7e404eaa8ad744059c93bda0adf46cf8",
       "version_major": 2,
       "version_minor": 0
      },
      "text/plain": [
       "Running 1500 simulations in 1500 batches.:   0%|          | 0/1500 [00:00<?, ?it/s]"
      ]
     },
     "metadata": {},
     "output_type": "display_data"
    },
    {
     "data": {
      "application/vnd.jupyter.widget-view+json": {
       "model_id": "30775f9967204eae87ddf5fbeb9c32d6",
       "version_major": 2,
       "version_minor": 0
      },
      "text/plain": [
       "Drawing 1500 posterior samples:   0%|          | 0/1500 [00:00<?, ?it/s]"
      ]
     },
     "metadata": {},
     "output_type": "display_data"
    },
    {
     "data": {
      "application/vnd.jupyter.widget-view+json": {
       "model_id": "9cae381aa4ee4f05b9944a1df67a27f1",
       "version_major": 2,
       "version_minor": 0
      },
      "text/plain": [
       "Running 1500 simulations in 1500 batches.:   0%|          | 0/1500 [00:00<?, ?it/s]"
      ]
     },
     "metadata": {},
     "output_type": "display_data"
    },
    {
     "data": {
      "application/vnd.jupyter.widget-view+json": {
       "model_id": "b62e79daa9364c6ca9a21b79332a0615",
       "version_major": 2,
       "version_minor": 0
      },
      "text/plain": [
       "Drawing 1500 posterior samples:   0%|          | 0/1500 [00:00<?, ?it/s]"
      ]
     },
     "metadata": {},
     "output_type": "display_data"
    },
    {
     "data": {
      "application/vnd.jupyter.widget-view+json": {
       "model_id": "079d536a86ac4dbb9954a12141f853db",
       "version_major": 2,
       "version_minor": 0
      },
      "text/plain": [
       "Running 1500 simulations in 1500 batches.:   0%|          | 0/1500 [00:00<?, ?it/s]"
      ]
     },
     "metadata": {},
     "output_type": "display_data"
    },
    {
     "data": {
      "application/vnd.jupyter.widget-view+json": {
       "model_id": "7fa80bb738cb47dabb8d040c5347e2fc",
       "version_major": 2,
       "version_minor": 0
      },
      "text/plain": [
       "Drawing 1500 posterior samples:   0%|          | 0/1500 [00:00<?, ?it/s]"
      ]
     },
     "metadata": {},
     "output_type": "display_data"
    },
    {
     "data": {
      "application/vnd.jupyter.widget-view+json": {
       "model_id": "2013c526116e4696ac9d6a258c478182",
       "version_major": 2,
       "version_minor": 0
      },
      "text/plain": [
       "Running 1500 simulations in 1500 batches.:   0%|          | 0/1500 [00:00<?, ?it/s]"
      ]
     },
     "metadata": {},
     "output_type": "display_data"
    },
    {
     "data": {
      "application/vnd.jupyter.widget-view+json": {
       "model_id": "7067c2dada0b46d4a09dd435462309d9",
       "version_major": 2,
       "version_minor": 0
      },
      "text/plain": [
       "Drawing 1500 posterior samples:   0%|          | 0/1500 [00:00<?, ?it/s]"
      ]
     },
     "metadata": {},
     "output_type": "display_data"
    },
    {
     "data": {
      "application/vnd.jupyter.widget-view+json": {
       "model_id": "0e326dc6b5b34e18868776baca5654b1",
       "version_major": 2,
       "version_minor": 0
      },
      "text/plain": [
       "Running 1500 simulations in 1500 batches.:   0%|          | 0/1500 [00:00<?, ?it/s]"
      ]
     },
     "metadata": {},
     "output_type": "display_data"
    },
    {
     "data": {
      "application/vnd.jupyter.widget-view+json": {
       "model_id": "42cc8adb1fcd46fb9b5e2061edbacdec",
       "version_major": 2,
       "version_minor": 0
      },
      "text/plain": [
       "Drawing 1500 posterior samples:   0%|          | 0/1500 [00:00<?, ?it/s]"
      ]
     },
     "metadata": {},
     "output_type": "display_data"
    },
    {
     "data": {
      "application/vnd.jupyter.widget-view+json": {
       "model_id": "0f371ed2182548729a15914086aae9dd",
       "version_major": 2,
       "version_minor": 0
      },
      "text/plain": [
       "Running 1500 simulations in 1500 batches.:   0%|          | 0/1500 [00:00<?, ?it/s]"
      ]
     },
     "metadata": {},
     "output_type": "display_data"
    },
    {
     "data": {
      "application/vnd.jupyter.widget-view+json": {
       "model_id": "0c914afc4798419bb99d62f5396b971c",
       "version_major": 2,
       "version_minor": 0
      },
      "text/plain": [
       "Drawing 1500 posterior samples:   0%|          | 0/1500 [00:00<?, ?it/s]"
      ]
     },
     "metadata": {},
     "output_type": "display_data"
    },
    {
     "data": {
      "application/vnd.jupyter.widget-view+json": {
       "model_id": "ed485f52706747de9538ead1b08e2384",
       "version_major": 2,
       "version_minor": 0
      },
      "text/plain": [
       "Running 1500 simulations in 1500 batches.:   0%|          | 0/1500 [00:00<?, ?it/s]"
      ]
     },
     "metadata": {},
     "output_type": "display_data"
    },
    {
     "data": {
      "application/vnd.jupyter.widget-view+json": {
       "model_id": "2ae285db2d4942fa9c80b01f19895bf6",
       "version_major": 2,
       "version_minor": 0
      },
      "text/plain": [
       "Drawing 1500 posterior samples:   0%|          | 0/1500 [00:00<?, ?it/s]"
      ]
     },
     "metadata": {},
     "output_type": "display_data"
    },
    {
     "data": {
      "application/vnd.jupyter.widget-view+json": {
       "model_id": "0a79c498d67343cd88a61eec563e1d95",
       "version_major": 2,
       "version_minor": 0
      },
      "text/plain": [
       "Running 1500 simulations in 1500 batches.:   0%|          | 0/1500 [00:00<?, ?it/s]"
      ]
     },
     "metadata": {},
     "output_type": "display_data"
    },
    {
     "data": {
      "application/vnd.jupyter.widget-view+json": {
       "model_id": "aa5b2545661d42dd95b4499e8d0dc49b",
       "version_major": 2,
       "version_minor": 0
      },
      "text/plain": [
       "Drawing 1500 posterior samples:   0%|          | 0/1500 [00:00<?, ?it/s]"
      ]
     },
     "metadata": {},
     "output_type": "display_data"
    },
    {
     "data": {
      "application/vnd.jupyter.widget-view+json": {
       "model_id": "3dd82fbcbfa94d6aa893754ba5bc7274",
       "version_major": 2,
       "version_minor": 0
      },
      "text/plain": [
       "Running 1500 simulations in 1500 batches.:   0%|          | 0/1500 [00:00<?, ?it/s]"
      ]
     },
     "metadata": {},
     "output_type": "display_data"
    },
    {
     "data": {
      "application/vnd.jupyter.widget-view+json": {
       "model_id": "00dcd0be0dc64a97aef75682087b9809",
       "version_major": 2,
       "version_minor": 0
      },
      "text/plain": [
       "Drawing 1500 posterior samples:   0%|          | 0/1500 [00:00<?, ?it/s]"
      ]
     },
     "metadata": {},
     "output_type": "display_data"
    },
    {
     "data": {
      "application/vnd.jupyter.widget-view+json": {
       "model_id": "10f349e7568a4ba292dede0de97efbcc",
       "version_major": 2,
       "version_minor": 0
      },
      "text/plain": [
       "Running 1500 simulations in 1500 batches.:   0%|          | 0/1500 [00:00<?, ?it/s]"
      ]
     },
     "metadata": {},
     "output_type": "display_data"
    },
    {
     "data": {
      "application/vnd.jupyter.widget-view+json": {
       "model_id": "80812c1ebfaf4ac1bab7094cc8e590c7",
       "version_major": 2,
       "version_minor": 0
      },
      "text/plain": [
       "Drawing 1500 posterior samples:   0%|          | 0/1500 [00:00<?, ?it/s]"
      ]
     },
     "metadata": {},
     "output_type": "display_data"
    },
    {
     "data": {
      "application/vnd.jupyter.widget-view+json": {
       "model_id": "df1a6e9e84d0401d90d13ae95cdddaa0",
       "version_major": 2,
       "version_minor": 0
      },
      "text/plain": [
       "Running 1500 simulations in 1500 batches.:   0%|          | 0/1500 [00:00<?, ?it/s]"
      ]
     },
     "metadata": {},
     "output_type": "display_data"
    },
    {
     "data": {
      "application/vnd.jupyter.widget-view+json": {
       "model_id": "1f51bb66f74643e0a3c14e526e85456c",
       "version_major": 2,
       "version_minor": 0
      },
      "text/plain": [
       "Drawing 1500 posterior samples:   0%|          | 0/1500 [00:00<?, ?it/s]"
      ]
     },
     "metadata": {},
     "output_type": "display_data"
    },
    {
     "data": {
      "application/vnd.jupyter.widget-view+json": {
       "model_id": "96c2bd705d0b4afcb7e2cb4ae2b89952",
       "version_major": 2,
       "version_minor": 0
      },
      "text/plain": [
       "Running 1500 simulations in 1500 batches.:   0%|          | 0/1500 [00:00<?, ?it/s]"
      ]
     },
     "metadata": {},
     "output_type": "display_data"
    },
    {
     "data": {
      "application/vnd.jupyter.widget-view+json": {
       "model_id": "3c78d20683d24de99f1c04a61e9cf8a6",
       "version_major": 2,
       "version_minor": 0
      },
      "text/plain": [
       "Drawing 1500 posterior samples:   0%|          | 0/1500 [00:00<?, ?it/s]"
      ]
     },
     "metadata": {},
     "output_type": "display_data"
    },
    {
     "data": {
      "application/vnd.jupyter.widget-view+json": {
       "model_id": "e8595af0d080475a8d7d25b7d7b759c2",
       "version_major": 2,
       "version_minor": 0
      },
      "text/plain": [
       "Running 1500 simulations in 1500 batches.:   0%|          | 0/1500 [00:00<?, ?it/s]"
      ]
     },
     "metadata": {},
     "output_type": "display_data"
    },
    {
     "data": {
      "application/vnd.jupyter.widget-view+json": {
       "model_id": "9a147b4c7f064cf7bbe82d4612fcee22",
       "version_major": 2,
       "version_minor": 0
      },
      "text/plain": [
       "Drawing 1500 posterior samples:   0%|          | 0/1500 [00:00<?, ?it/s]"
      ]
     },
     "metadata": {},
     "output_type": "display_data"
    },
    {
     "data": {
      "application/vnd.jupyter.widget-view+json": {
       "model_id": "dd89d408e6b04de7afebd95e9a14e73d",
       "version_major": 2,
       "version_minor": 0
      },
      "text/plain": [
       "Running 1500 simulations in 1500 batches.:   0%|          | 0/1500 [00:00<?, ?it/s]"
      ]
     },
     "metadata": {},
     "output_type": "display_data"
    },
    {
     "data": {
      "application/vnd.jupyter.widget-view+json": {
       "model_id": "da92ec503b414b2491495471e12357b4",
       "version_major": 2,
       "version_minor": 0
      },
      "text/plain": [
       "Drawing 1500 posterior samples:   0%|          | 0/1500 [00:00<?, ?it/s]"
      ]
     },
     "metadata": {},
     "output_type": "display_data"
    },
    {
     "data": {
      "application/vnd.jupyter.widget-view+json": {
       "model_id": "b8a88e905f684141b39c0100cfd649fe",
       "version_major": 2,
       "version_minor": 0
      },
      "text/plain": [
       "Running 1500 simulations in 1500 batches.:   0%|          | 0/1500 [00:00<?, ?it/s]"
      ]
     },
     "metadata": {},
     "output_type": "display_data"
    },
    {
     "data": {
      "application/vnd.jupyter.widget-view+json": {
       "model_id": "e30182a4a4a746de98d4d7b78d97ec77",
       "version_major": 2,
       "version_minor": 0
      },
      "text/plain": [
       "Drawing 1500 posterior samples:   0%|          | 0/1500 [00:00<?, ?it/s]"
      ]
     },
     "metadata": {},
     "output_type": "display_data"
    },
    {
     "data": {
      "application/vnd.jupyter.widget-view+json": {
       "model_id": "b2ed261eeb0546349ee0b6613feeca7d",
       "version_major": 2,
       "version_minor": 0
      },
      "text/plain": [
       "Running 1500 simulations in 1500 batches.:   0%|          | 0/1500 [00:00<?, ?it/s]"
      ]
     },
     "metadata": {},
     "output_type": "display_data"
    },
    {
     "data": {
      "application/vnd.jupyter.widget-view+json": {
       "model_id": "c814cf007ce54df88a609f681a41c204",
       "version_major": 2,
       "version_minor": 0
      },
      "text/plain": [
       "Drawing 1500 posterior samples:   0%|          | 0/1500 [00:00<?, ?it/s]"
      ]
     },
     "metadata": {},
     "output_type": "display_data"
    },
    {
     "data": {
      "application/vnd.jupyter.widget-view+json": {
       "model_id": "20ecb5d214384d57b9aec4c96fa22c6e",
       "version_major": 2,
       "version_minor": 0
      },
      "text/plain": [
       "Running 1500 simulations in 1500 batches.:   0%|          | 0/1500 [00:00<?, ?it/s]"
      ]
     },
     "metadata": {},
     "output_type": "display_data"
    },
    {
     "data": {
      "application/vnd.jupyter.widget-view+json": {
       "model_id": "ee35e042119c4697afaf34547a127c3a",
       "version_major": 2,
       "version_minor": 0
      },
      "text/plain": [
       "Drawing 1500 posterior samples:   0%|          | 0/1500 [00:00<?, ?it/s]"
      ]
     },
     "metadata": {},
     "output_type": "display_data"
    },
    {
     "data": {
      "application/vnd.jupyter.widget-view+json": {
       "model_id": "db902a7f5ea541dc9fa5d3b3902355a0",
       "version_major": 2,
       "version_minor": 0
      },
      "text/plain": [
       "Running 1500 simulations in 1500 batches.:   0%|          | 0/1500 [00:00<?, ?it/s]"
      ]
     },
     "metadata": {},
     "output_type": "display_data"
    }
   ],
   "source": [
    "band_name = \"theta\"\n",
    "band_idx = paras.fc_types.index(band_name)\n",
    "\n",
    "res_fils = paras.dirs[band_name].glob(\"ind*.pkl\")\n",
    "_sorted_fn = lambda x: int(x.stem.split(\"ind\")[-1][:])\n",
    "sorted_fils = sorted(res_fils, key=_sorted_fn)\n",
    "\n",
    "for cur_idx in range(36):\n",
    "    brain = Brain.Brain()\n",
    "    brain.add_connectome(DATA_ROOT) # grabs distance matrix\n",
    "    brain.reorder_connectome(brain.connectome, brain.distance_matrix)\n",
    "    brain.connectome =  ind_conn[:, :, cur_idx] # re-assign connectome to individual connectome\n",
    "    brain.bi_symmetric_c()\n",
    "    brain.reduce_extreme_dir()\n",
    "    \n",
    "    _simulate_data_sp = partial(_simulate_data, \n",
    "                                brain=brain, \n",
    "                                prior_bds=paras.prior_bds, \n",
    "                                freqrange=paras.freqranges[band_idx])\n",
    "    _simulate_data_wrapper, _ = prepare_for_sbi(_simulate_data_sp, prior)\n",
    "    \n",
    "    cur_posterior = load_pkl(sorted_fils[cur_idx], False)\n",
    "    cur_paras_raw, cur_post_fcs = simulate_for_sbi(_simulate_data_wrapper, cur_posterior,\n",
    "                                        num_simulations=1500, \n",
    "                                        num_workers=50)\n",
    "    cur_paras_raw, cur_post_fcs = _filter_unstable(cur_paras_raw, paras.prior_bds, cur_post_fcs)\n",
    "    cur_paras_raw, cur_post_fcs = cur_paras_raw[:1000, :], cur_post_fcs[:1000, :]\n",
    "    \n",
    "    cur_paras = _theta_raw_2out(cur_paras_raw.numpy(), paras.prior_bds)\n",
    "    np.savetxt(paras.dirs.out_dir/f\"{band_name}/SGM_params_ind{cur_idx+1:02.0f}_{band_name}.txt\", \n",
    "                   cur_paras)\n",
    "    \n",
    "    cur_post_fcs = cur_post_fcs.reshape(-1, 68, 68)\n",
    "    cur_est_FC = np.abs(cur_post_fcs.mean(axis=0).numpy())\n",
    "    np.savetxt(paras.dirs.out_dir/f\"{band_name}/est_FC_ind{cur_idx+1:02.0f}_{band_name}.txt\", \n",
    "              cur_est_FC)"
   ]
  },
  {
   "cell_type": "code",
   "execution_count": null,
   "id": "0b71f6ad",
   "metadata": {},
   "outputs": [],
   "source": []
  }
 ],
 "metadata": {
  "kernelspec": {
   "display_name": "Python 3 (ipykernel)",
   "language": "python",
   "name": "python3"
  },
  "language_info": {
   "codemirror_mode": {
    "name": "ipython",
    "version": 3
   },
   "file_extension": ".py",
   "mimetype": "text/x-python",
   "name": "python",
   "nbconvert_exporter": "python",
   "pygments_lexer": "ipython3",
   "version": "3.9.7"
  },
  "toc": {
   "base_numbering": 1,
   "nav_menu": {},
   "number_sections": true,
   "sideBar": true,
   "skip_h1_title": false,
   "title_cell": "Table of Contents",
   "title_sidebar": "Contents",
   "toc_cell": false,
   "toc_position": {},
   "toc_section_display": true,
   "toc_window_display": true
  }
 },
 "nbformat": 4,
 "nbformat_minor": 5
}
